{
 "cells": [
  {
   "cell_type": "code",
   "execution_count": 2,
   "metadata": {},
   "outputs": [],
   "source": [
    "import pickle\n",
    "ofname = open(\"dataset_small.pkl\",\"rb\") # x stores input data and y target values\n",
    "(x,y) = pickle.load(ofname,encoding=\"latin1\")"
   ]
  },
  {
   "cell_type": "code",
   "execution_count": null,
   "metadata": {},
   "outputs": [],
   "source": []
  },
  {
   "cell_type": "code",
   "execution_count": 3,
   "metadata": {},
   "outputs": [
    {
     "data": {
      "text/plain": [
       "array([[ 3.6000e+03,  2.3750e+03,  7.6310e+01, ..., -1.0000e+00,\n",
       "        -1.0000e+00,  1.0000e+00],\n",
       "       [ 2.3000e+04,  2.3000e+04,  7.6789e+02, ..., -1.0000e+00,\n",
       "        -1.0000e+00,  1.0000e+00],\n",
       "       [ 7.0000e+03,  7.0000e+03,  2.2584e+02, ..., -1.0000e+00,\n",
       "        -1.0000e+00,  1.0000e+00],\n",
       "       ...,\n",
       "       [ 1.0000e+04,  1.0000e+04,  3.1111e+02, ..., -1.0000e+00,\n",
       "        -1.0000e+00,  1.0000e+00],\n",
       "       [ 3.5000e+03,  3.5000e+03,  1.1961e+02, ..., -1.0000e+00,\n",
       "        -1.0000e+00,  1.0000e+00],\n",
       "       [ 8.3250e+03,  8.3250e+03,  2.8248e+02, ..., -1.0000e+00,\n",
       "        -1.0000e+00,  1.0000e+00]])"
      ]
     },
     "execution_count": 3,
     "metadata": {},
     "output_type": "execute_result"
    }
   ],
   "source": [
    "x"
   ]
  },
  {
   "cell_type": "code",
   "execution_count": 4,
   "metadata": {},
   "outputs": [
    {
     "data": {
      "text/plain": [
       "array([ 1.,  1.,  1., ..., -1., -1., -1.])"
      ]
     },
     "execution_count": 4,
     "metadata": {},
     "output_type": "execute_result"
    }
   ],
   "source": [
    "y"
   ]
  },
  {
   "cell_type": "code",
   "execution_count": 420,
   "metadata": {},
   "outputs": [
    {
     "name": "stdout",
     "output_type": "stream",
     "text": [
      "feature matrix has shape (4140, 15)\n",
      "label vector has shape (4140,)\n"
     ]
    }
   ],
   "source": [
    "import numpy as np\n",
    "X = np.loadtxt(\"data.csv\",delimiter=\",\")\n",
    "print(\"feature matrix has shape\",X.shape)\n",
    "y = np.loadtxt(\"labels.csv\",delimiter=\",\")\n",
    "print(\"label vector has shape\",y.shape)\n"
   ]
  },
  {
   "cell_type": "code",
   "execution_count": 81,
   "metadata": {},
   "outputs": [
    {
     "data": {
      "text/plain": [
       "array([3.600e+03, 2.375e+03, 7.631e+01, 3.000e+04, 1.504e+01])"
      ]
     },
     "execution_count": 81,
     "metadata": {},
     "output_type": "execute_result"
    }
   ],
   "source": [
    "X[0,:5]"
   ]
  },
  {
   "cell_type": "code",
   "execution_count": 82,
   "metadata": {},
   "outputs": [
    {
     "data": {
      "text/plain": [
       "array([-1., -1., -1., -1., -1., -1.])"
      ]
     },
     "execution_count": 82,
     "metadata": {},
     "output_type": "execute_result"
    }
   ],
   "source": [
    "y[-6:]"
   ]
  },
  {
   "cell_type": "code",
   "execution_count": 109,
   "metadata": {},
   "outputs": [
    {
     "data": {
      "text/plain": [
       "array([-1., -1., -1., -1., -1., -1.])"
      ]
     },
     "execution_count": 109,
     "metadata": {},
     "output_type": "execute_result"
    }
   ],
   "source": [
    "from sklearn import neighbors as nbr \n",
    "knn = nbr.KNeighborsClassifier(n_neighbors=11)   # specification\n",
    "knn.fit(x, y)   # training\n",
    "yhat = knn.predict(x)   # prediction\n",
    "yhat[-6:]"
   ]
  },
  {
   "cell_type": "code",
   "execution_count": 84,
   "metadata": {},
   "outputs": [
    {
     "name": "stdout",
     "output_type": "stream",
     "text": [
      "accuracy is 83.2%\n"
     ]
    }
   ],
   "source": [
    "n = len(y)\n",
    "acc = sum(yhat==y)/n\n",
    "print(f\"accuracy is {acc:.1%}\")"
   ]
  },
  {
   "cell_type": "code",
   "execution_count": 85,
   "metadata": {},
   "outputs": [
    {
     "name": "stdout",
     "output_type": "stream",
     "text": [
      "81.6% were rejected\n"
     ]
    }
   ],
   "source": [
    "rejected = sum(y==-1)\n",
    "print(f\"{rejected/n:.1%} were rejected\")\n"
   ]
  },
  {
   "cell_type": "code",
   "execution_count": 103,
   "metadata": {},
   "outputs": [
    {
     "data": {
      "text/plain": [
       "<sklearn.metrics._plot.confusion_matrix.ConfusionMatrixDisplay at 0x7f9fb0b19dc0>"
      ]
     },
     "execution_count": 103,
     "metadata": {},
     "output_type": "execute_result"
    },
    {
     "data": {
      "image/png": "[encoded data removed]",
      "text/plain": [
       "<Figure size 432x288 with 2 Axes>"
      ]
     },
     "metadata": {
      "needs_background": "light"
     },
     "output_type": "display_data"
    }
   ],
   "source": [
    "from sklearn import metrics\n",
    "C = metrics.confusion_matrix(y,yhat,labels=[-1,1])\n",
    "lbl = [\"fund\",\"reject\"]\n",
    "metrics.ConfusionMatrixDisplay(C,display_labels=lbl).plot()"
   ]
  },
  {
   "cell_type": "code",
   "execution_count": 108,
   "metadata": {},
   "outputs": [
    {
     "name": "stdout",
     "output_type": "stream",
     "text": [
      "recall = 100.0%\n",
      "specificity = 100.0%\n",
      "precision = 100.0%\n",
      "NPV = 100.0%\n"
     ]
    }
   ],
   "source": [
    "TP,FN,FP,TN = C.ravel()\n",
    "print(f\"recall = {TP/(TP+FN):.1%}\")\n",
    "print(f\"specificity = {TN/(TN+FP):.1%}\")\n",
    "print(f\"precision = {TP/(TP+FP):.1%}\")\n",
    "print(f\"NPV = {TN/(TN+FN):.1%}\")\n"
   ]
  },
  {
   "cell_type": "code",
   "execution_count": 105,
   "metadata": {},
   "outputs": [
    {
     "data": {
      "text/plain": [
       "7"
      ]
     },
     "execution_count": 105,
     "metadata": {},
     "output_type": "execute_result"
    }
   ],
   "source": [
    "sum(np.logical_and(y==-1,yhat==1))"
   ]
  },
  {
   "cell_type": "code",
   "execution_count": 106,
   "metadata": {},
   "outputs": [
    {
     "data": {
      "text/plain": [
       "7"
      ]
     },
     "execution_count": 106,
     "metadata": {},
     "output_type": "execute_result"
    }
   ],
   "source": [
    "FN"
   ]
  },
  {
   "cell_type": "code",
   "execution_count": 120,
   "metadata": {},
   "outputs": [
    {
     "name": "stdout",
     "output_type": "stream",
     "text": [
      "[0.7355072463768116, 0.8067632850241546, 0.7958937198067633, 0.8152173913043478, 0.8043478260869565, 0.8115942028985508, 0.8128019323671497, 0.8164251207729468, 0.8164251207729468, 0.8176328502415459, 0.8152173913043478, 0.8176328502415459]\n"
     ]
    }
   ],
   "source": [
    "acc = []\n",
    "n = len(y_te)\n",
    "\n",
    "for k in range(1,13):\n",
    "    knn = nbr.KNeighborsClassifier(n_neighbors=k) \n",
    "    knn.fit(X_tr,y_tr)  \n",
    "    yhat = knn.predict(X_te) \n",
    "    agree = sum(yhat==y_te)\n",
    "    acc.append(agree/n)\n",
    "\n",
    "print(acc)\n",
    "\n"
   ]
  },
  {
   "cell_type": "code",
   "execution_count": 114,
   "metadata": {},
   "outputs": [
    {
     "name": "stdout",
     "output_type": "stream",
     "text": [
      "[[2707    0]\n",
      " [   0  605]]\n",
      "3312 training values and 828 test values\n"
     ]
    }
   ],
   "source": [
    "yhat = knn.predict(X_tr) \n",
    "C = metrics.confusion_matrix(y_tr,yhat,labels=[-1,1])\n",
    "print(C)\n",
    "print(len(y_tr),\"training values and\",len(y_te),\"test values\")\n"
   ]
  },
  {
   "cell_type": "code",
   "execution_count": 110,
   "metadata": {},
   "outputs": [],
   "source": [
    "from sklearn.model_selection import train_test_split\n",
    "X_tr, X_te, y_tr, y_te = train_test_split(X,y,test_size=0.2)"
   ]
  },
  {
   "cell_type": "code",
   "execution_count": 115,
   "metadata": {},
   "outputs": [
    {
     "name": "stdout",
     "output_type": "stream",
     "text": [
      "[[560 110]\n",
      " [109  49]]\n"
     ]
    }
   ],
   "source": [
    "yhat = knn.predict(X_te) \n",
    "C = metrics.confusion_matrix(y_te,yhat,labels=[-1,1])\n",
    "print(C)\n"
   ]
  },
  {
   "cell_type": "code",
   "execution_count": 122,
   "metadata": {},
   "outputs": [],
   "source": [
    "from sklearn.model_selection import cross_val_score\n",
    "\n",
    "knn = nbr.KNeighborsClassifier(n_neighbors=6)   # specification\n",
    "knn.fit(X,y)   # training\n",
    "scores = cross_val_score(knn,X,y,cv=5)"
   ]
  },
  {
   "cell_type": "code",
   "execution_count": 123,
   "metadata": {},
   "outputs": [
    {
     "data": {
      "text/plain": [
       "array([0.82729469, 0.81521739, 0.81884058, 0.82729469, 0.81884058])"
      ]
     },
     "execution_count": 123,
     "metadata": {},
     "output_type": "execute_result"
    }
   ],
   "source": [
    "scores"
   ]
  },
  {
   "cell_type": "code",
   "execution_count": 124,
   "metadata": {},
   "outputs": [
    {
     "data": {
      "text/plain": [
       "0.8214975845410628"
      ]
     },
     "execution_count": 124,
     "metadata": {},
     "output_type": "execute_result"
    }
   ],
   "source": [
    "scores.mean()"
   ]
  },
  {
   "cell_type": "code",
   "execution_count": 126,
   "metadata": {},
   "outputs": [
    {
     "name": "stdout",
     "output_type": "stream",
     "text": [
      "[0.82729469 0.81521739 0.81884058 0.82729469 0.81884058]\n",
      "mean: 0.8214975845410628 \n",
      "std:  0.004914731871829926\n"
     ]
    }
   ],
   "source": [
    "print(scores)\n",
    "print(\"mean:\",scores.mean(),\"\\nstd: \",scores.std())\n"
   ]
  },
  {
   "cell_type": "code",
   "execution_count": 141,
   "metadata": {},
   "outputs": [
    {
     "name": "stdout",
     "output_type": "stream",
     "text": [
      "[0.76811594 0.78864734 0.78623188 0.7705314  0.74758454]\n",
      "mean: 0.7722222222222223 \n",
      "std:  0.014783713766279575\n"
     ]
    }
   ],
   "source": [
    "from sklearn import tree\n",
    "dt = tree.DecisionTreeClassifier() \n",
    "dt.fit(X,y)   # training\n",
    "scores = cross_val_score(dt,X,y,cv=5)\n",
    "\n",
    "print(scores)\n",
    "print(\"mean:\",scores.mean(),\"\\nstd: \",scores.std())\n"
   ]
  },
  {
   "cell_type": "code",
   "execution_count": 150,
   "metadata": {},
   "outputs": [],
   "source": [
    "import numpy as np\n",
    "from numpy import random\n",
    "rand = np.random.rand\n",
    "\n",
    "n = 20\n",
    "x_blue = rand(n,2)\n",
    "x_blue[:,0] -= 0.4\n",
    "x_red = rand(n,2)\n",
    "x_red[:,0] += 0.4\n"
   ]
  },
  {
   "cell_type": "code",
   "execution_count": 153,
   "metadata": {},
   "outputs": [
    {
     "ename": "TypeError",
     "evalue": "cannot unpack non-iterable PathCollection object",
     "output_type": "error",
     "traceback": [
      "\u001b[0;31m---------------------------------------------------------------------------\u001b[0m",
      "\u001b[0;31mTypeError\u001b[0m                                 Traceback (most recent call last)",
      "\u001b[0;32m/var/folders/cn/8w40979d27x0kv2wsnx7zgvm0000gp/T/ipykernel_54284/1514355830.py\u001b[0m in \u001b[0;36m<module>\u001b[0;34m\u001b[0m\n\u001b[1;32m      1\u001b[0m \u001b[0;32mimport\u001b[0m \u001b[0mmatplotlib\u001b[0m\u001b[0;34m.\u001b[0m\u001b[0mpyplot\u001b[0m \u001b[0;32mas\u001b[0m \u001b[0mplt\u001b[0m\u001b[0;34m\u001b[0m\u001b[0;34m\u001b[0m\u001b[0m\n\u001b[0;32m----> 2\u001b[0;31m \u001b[0mfig\u001b[0m\u001b[0;34m,\u001b[0m \u001b[0max\u001b[0m \u001b[0;34m=\u001b[0m \u001b[0mplt\u001b[0m\u001b[0;34m.\u001b[0m\u001b[0mscatter\u001b[0m\u001b[0;34m(\u001b[0m\u001b[0mx_blue\u001b[0m\u001b[0;34m[\u001b[0m\u001b[0;34m:\u001b[0m\u001b[0;34m,\u001b[0m\u001b[0;36m0\u001b[0m\u001b[0;34m]\u001b[0m\u001b[0;34m,\u001b[0m\u001b[0mx_blue\u001b[0m\u001b[0;34m[\u001b[0m\u001b[0;34m:\u001b[0m\u001b[0;34m,\u001b[0m\u001b[0;36m1\u001b[0m\u001b[0;34m]\u001b[0m\u001b[0;34m)\u001b[0m\u001b[0;34m\u001b[0m\u001b[0;34m\u001b[0m\u001b[0m\n\u001b[0m",
      "\u001b[0;31mTypeError\u001b[0m: cannot unpack non-iterable PathCollection object"
     ]
    },
    {
     "data": {
      "image/png": "[encoded data removed]",
      "text/plain": [
       "<Figure size 432x288 with 1 Axes>"
      ]
     },
     "metadata": {
      "needs_background": "light"
     },
     "output_type": "display_data"
    }
   ],
   "source": [
    "import matplotlib.pyplot as plt\n",
    "plt.scatter(x_blue[:,0],x_blue[:,1])"
   ]
  },
  {
   "cell_type": "code",
   "execution_count": 208,
   "metadata": {},
   "outputs": [
    {
     "name": "stdout",
     "output_type": "stream",
     "text": [
      "[0.8656716417910447, 0.8656716417910447, 0.835820895522388, 0.8507462686567164, 0.8208955223880597, 0.8208955223880597, 0.8208955223880597, 0.8059701492537313, 0.8059701492537313, 0.8059701492537313, 0.8059701492537313, 0.8208955223880597]\n"
     ]
    }
   ],
   "source": [
    "# import numpy as np\n",
    "# X = np.loadtxt(\"data.csv\",delimiter=\",\")\n",
    "# y = np.loadtxt(\"labels.csv\",delimiter=\",\")\n",
    "from sklearn.model_selection import train_test_split\n",
    "X_tr, X_te, y_tr, y_te = train_test_split(Z,y,test_size=0.2)\n",
    "\n",
    "\n",
    "acc = []\n",
    "n = len(y_te)\n",
    "\n",
    "for k in range(1,13):\n",
    "    knn = nbr.KNeighborsClassifier(n_neighbors=k,weights=\"distance\") \n",
    "    knn.fit(X_tr,y_tr)  \n",
    "    yhat = knn.predict(X_te) \n",
    "    agree = sum(yhat==y_te)\n",
    "    acc.append(agree/n)\n",
    "\n",
    "print(acc)\n"
   ]
  },
  {
   "cell_type": "code",
   "execution_count": 163,
   "metadata": {},
   "outputs": [
    {
     "data": {
      "text/plain": [
       "array([1.10554227e+04, 1.08081341e+04, 3.22625471e+02, 6.80402478e+04,\n",
       "       1.33470242e+01, 1.58454106e-01, 2.22106280e+01, 1.22790942e-01,\n",
       "       1.25990338e+00, 4.78260870e+00, 1.00000000e+00, 1.00000000e+00,\n",
       "       1.00000000e+00, 1.00000000e+00, 1.00000000e+00])"
      ]
     },
     "execution_count": 163,
     "metadata": {},
     "output_type": "execute_result"
    }
   ],
   "source": [
    "np.mean(np.abs(X),axis=0)"
   ]
  },
  {
   "cell_type": "code",
   "execution_count": 157,
   "metadata": {},
   "outputs": [
    {
     "data": {
      "text/plain": [
       "array([ 1.10554227e+04,  1.08081341e+04,  3.22625471e+02,  6.80402478e+04,\n",
       "        1.33470242e+01,  1.58454106e-01,  2.22106280e+01,  1.22790942e-01,\n",
       "        1.25990338e+00,  4.78260870e+00, -1.05797101e-01, -9.99516908e-01,\n",
       "       -9.95652174e-01, -8.61352657e-01, -3.76811594e-02])"
      ]
     },
     "execution_count": 157,
     "metadata": {},
     "output_type": "execute_result"
    }
   ],
   "source": [
    "np.mean(X,axis=0)"
   ]
  },
  {
   "cell_type": "code",
   "execution_count": 158,
   "metadata": {},
   "outputs": [
    {
     "data": {
      "text/plain": [
       "array([7.22681566e+03, 6.99523413e+03, 2.03357790e+02, 5.68771352e+04,\n",
       "       6.72125395e+00, 5.83603272e-01, 1.16274323e+01, 3.63541121e-02,\n",
       "       4.38581365e-01, 3.54625569e+00, 9.94387738e-01, 3.10797393e-02,\n",
       "       9.31490665e-02, 5.08007481e-01, 9.99289813e-01])"
      ]
     },
     "execution_count": 158,
     "metadata": {},
     "output_type": "execute_result"
    }
   ],
   "source": [
    "np.std(X,axis=0)\n"
   ]
  },
  {
   "cell_type": "code",
   "execution_count": 203,
   "metadata": {},
   "outputs": [
    {
     "data": {
      "text/plain": [
       "array([[-0.89604189,  0.7807321 , -1.42675157, -0.56847478],\n",
       "       [-0.82278787,  0.11958397, -1.06947358, -0.50628618],\n",
       "       [-0.67627982,  0.42472926, -0.42637319, -1.1903608 ],\n",
       "       ...,\n",
       "       [ 1.17338426, -0.74499437,  1.50292796,  1.91906927],\n",
       "       [ 0.22108196, -1.20271231,  0.78837197,  1.23499466],\n",
       "       [ 1.08181673, -0.54156417,  0.85982757,  1.48374906]])"
      ]
     },
     "execution_count": 203,
     "metadata": {},
     "output_type": "execute_result"
    }
   ],
   "source": [
    "Z = (X - np.mean(X,axis=0)) / np.std(X,axis=0)\n",
    "Z"
   ]
  },
  {
   "cell_type": "code",
   "execution_count": 376,
   "metadata": {},
   "outputs": [
    {
     "data": {
      "text/html": [
       "<div>\n",
       "<style scoped>\n",
       "    .dataframe tbody tr th:only-of-type {\n",
       "        vertical-align: middle;\n",
       "    }\n",
       "\n",
       "    .dataframe tbody tr th {\n",
       "        vertical-align: top;\n",
       "    }\n",
       "\n",
       "    .dataframe thead th {\n",
       "        text-align: right;\n",
       "    }\n",
       "</style>\n",
       "<table border=\"1\" class=\"dataframe\">\n",
       "  <thead>\n",
       "    <tr style=\"text-align: right;\">\n",
       "      <th></th>\n",
       "      <th>species</th>\n",
       "      <th>island</th>\n",
       "      <th>bill_length_mm</th>\n",
       "      <th>bill_depth_mm</th>\n",
       "      <th>flipper_length_mm</th>\n",
       "      <th>body_mass_g</th>\n",
       "      <th>sex</th>\n",
       "    </tr>\n",
       "  </thead>\n",
       "  <tbody>\n",
       "    <tr>\n",
       "      <th>0</th>\n",
       "      <td>Adelie</td>\n",
       "      <td>Torgersen</td>\n",
       "      <td>39.1</td>\n",
       "      <td>18.7</td>\n",
       "      <td>181.0</td>\n",
       "      <td>3750.0</td>\n",
       "      <td>Male</td>\n",
       "    </tr>\n",
       "    <tr>\n",
       "      <th>1</th>\n",
       "      <td>Adelie</td>\n",
       "      <td>Torgersen</td>\n",
       "      <td>39.5</td>\n",
       "      <td>17.4</td>\n",
       "      <td>186.0</td>\n",
       "      <td>3800.0</td>\n",
       "      <td>Female</td>\n",
       "    </tr>\n",
       "    <tr>\n",
       "      <th>2</th>\n",
       "      <td>Adelie</td>\n",
       "      <td>Torgersen</td>\n",
       "      <td>40.3</td>\n",
       "      <td>18.0</td>\n",
       "      <td>195.0</td>\n",
       "      <td>3250.0</td>\n",
       "      <td>Female</td>\n",
       "    </tr>\n",
       "    <tr>\n",
       "      <th>3</th>\n",
       "      <td>Adelie</td>\n",
       "      <td>Torgersen</td>\n",
       "      <td>NaN</td>\n",
       "      <td>NaN</td>\n",
       "      <td>NaN</td>\n",
       "      <td>NaN</td>\n",
       "      <td>NaN</td>\n",
       "    </tr>\n",
       "    <tr>\n",
       "      <th>4</th>\n",
       "      <td>Adelie</td>\n",
       "      <td>Torgersen</td>\n",
       "      <td>36.7</td>\n",
       "      <td>19.3</td>\n",
       "      <td>193.0</td>\n",
       "      <td>3450.0</td>\n",
       "      <td>Female</td>\n",
       "    </tr>\n",
       "    <tr>\n",
       "      <th>...</th>\n",
       "      <td>...</td>\n",
       "      <td>...</td>\n",
       "      <td>...</td>\n",
       "      <td>...</td>\n",
       "      <td>...</td>\n",
       "      <td>...</td>\n",
       "      <td>...</td>\n",
       "    </tr>\n",
       "    <tr>\n",
       "      <th>339</th>\n",
       "      <td>Gentoo</td>\n",
       "      <td>Biscoe</td>\n",
       "      <td>NaN</td>\n",
       "      <td>NaN</td>\n",
       "      <td>NaN</td>\n",
       "      <td>NaN</td>\n",
       "      <td>NaN</td>\n",
       "    </tr>\n",
       "    <tr>\n",
       "      <th>340</th>\n",
       "      <td>Gentoo</td>\n",
       "      <td>Biscoe</td>\n",
       "      <td>46.8</td>\n",
       "      <td>14.3</td>\n",
       "      <td>215.0</td>\n",
       "      <td>4850.0</td>\n",
       "      <td>Female</td>\n",
       "    </tr>\n",
       "    <tr>\n",
       "      <th>341</th>\n",
       "      <td>Gentoo</td>\n",
       "      <td>Biscoe</td>\n",
       "      <td>50.4</td>\n",
       "      <td>15.7</td>\n",
       "      <td>222.0</td>\n",
       "      <td>5750.0</td>\n",
       "      <td>Male</td>\n",
       "    </tr>\n",
       "    <tr>\n",
       "      <th>342</th>\n",
       "      <td>Gentoo</td>\n",
       "      <td>Biscoe</td>\n",
       "      <td>45.2</td>\n",
       "      <td>14.8</td>\n",
       "      <td>212.0</td>\n",
       "      <td>5200.0</td>\n",
       "      <td>Female</td>\n",
       "    </tr>\n",
       "    <tr>\n",
       "      <th>343</th>\n",
       "      <td>Gentoo</td>\n",
       "      <td>Biscoe</td>\n",
       "      <td>49.9</td>\n",
       "      <td>16.1</td>\n",
       "      <td>213.0</td>\n",
       "      <td>5400.0</td>\n",
       "      <td>Male</td>\n",
       "    </tr>\n",
       "  </tbody>\n",
       "</table>\n",
       "<p>344 rows × 7 columns</p>\n",
       "</div>"
      ],
      "text/plain": [
       "    species     island  bill_length_mm  bill_depth_mm  flipper_length_mm  \\\n",
       "0    Adelie  Torgersen            39.1           18.7              181.0   \n",
       "1    Adelie  Torgersen            39.5           17.4              186.0   \n",
       "2    Adelie  Torgersen            40.3           18.0              195.0   \n",
       "3    Adelie  Torgersen             NaN            NaN                NaN   \n",
       "4    Adelie  Torgersen            36.7           19.3              193.0   \n",
       "..      ...        ...             ...            ...                ...   \n",
       "339  Gentoo     Biscoe             NaN            NaN                NaN   \n",
       "340  Gentoo     Biscoe            46.8           14.3              215.0   \n",
       "341  Gentoo     Biscoe            50.4           15.7              222.0   \n",
       "342  Gentoo     Biscoe            45.2           14.8              212.0   \n",
       "343  Gentoo     Biscoe            49.9           16.1              213.0   \n",
       "\n",
       "     body_mass_g     sex  \n",
       "0         3750.0    Male  \n",
       "1         3800.0  Female  \n",
       "2         3250.0  Female  \n",
       "3            NaN     NaN  \n",
       "4         3450.0  Female  \n",
       "..           ...     ...  \n",
       "339          NaN     NaN  \n",
       "340       4850.0  Female  \n",
       "341       5750.0    Male  \n",
       "342       5200.0  Female  \n",
       "343       5400.0    Male  \n",
       "\n",
       "[344 rows x 7 columns]"
      ]
     },
     "execution_count": 376,
     "metadata": {},
     "output_type": "execute_result"
    }
   ],
   "source": [
    "import seaborn as sns\n",
    "df = sns.load_dataset(\"penguins\")\n",
    "df"
   ]
  },
  {
   "cell_type": "code",
   "execution_count": 381,
   "metadata": {},
   "outputs": [],
   "source": [
    "X,y = np.array( df[[\"bill_length_mm\",\"bill_depth_mm\",\"flipper_length_mm\",\"body_mass_g\"]] ),df[\"species\"]"
   ]
  },
  {
   "cell_type": "code",
   "execution_count": 378,
   "metadata": {},
   "outputs": [],
   "source": [
    "df = df.dropna()"
   ]
  },
  {
   "cell_type": "code",
   "execution_count": 188,
   "metadata": {},
   "outputs": [
    {
     "name": "stderr",
     "output_type": "stream",
     "text": [
      "/var/folders/cn/8w40979d27x0kv2wsnx7zgvm0000gp/T/ipykernel_54284/929829175.py:1: VisibleDeprecationWarning: Creating an ndarray from ragged nested sequences (which is a list-or-tuple of lists-or-tuples-or ndarrays with different lengths or shapes) is deprecated. If you meant to do this, you must specify 'dtype=object' when creating the ndarray.\n",
      "  y = np.array(pd.factorize(df.species))\n"
     ]
    }
   ],
   "source": [
    "pd.factorize(df.species)"
   ]
  },
  {
   "cell_type": "code",
   "execution_count": 186,
   "metadata": {},
   "outputs": [],
   "source": [
    "import pandas as pd"
   ]
  },
  {
   "cell_type": "code",
   "execution_count": 199,
   "metadata": {},
   "outputs": [],
   "source": [
    "from sklearn.preprocessing import LabelEncoder\n",
    "\n",
    "LE = LabelEncoder()\n",
    "y=LE.fit_transform(df.species)"
   ]
  },
  {
   "cell_type": "code",
   "execution_count": 217,
   "metadata": {},
   "outputs": [
    {
     "data": {
      "text/plain": [
       "0.8059701492537313"
      ]
     },
     "execution_count": 217,
     "metadata": {},
     "output_type": "execute_result"
    }
   ],
   "source": [
    "from sklearn.model_selection import train_test_split\n",
    "X_tr, X_te, y_tr, y_te = train_test_split(X,y,test_size=0.2)\n",
    "\n",
    "knn = nbr.KNeighborsClassifier(n_neighbors=3) \n",
    "knn.fit(X_tr,y_tr)\n",
    "knn.score(X_te,y_te)\n"
   ]
  },
  {
   "cell_type": "code",
   "execution_count": 239,
   "metadata": {},
   "outputs": [
    {
     "name": "stdout",
     "output_type": "stream",
     "text": [
      "[0.73214286 0.78571429 0.67857143 0.76363636 0.83636364 0.92727273]\n"
     ]
    }
   ],
   "source": [
    "from sklearn.model_selection import cross_val_score,KFold\n",
    "\n",
    "knn = nbr.KNeighborsClassifier(n_neighbors=5)   # specification\n",
    "knn.fit(X,df.species)   # training\n",
    "cv = KFold(n_splits=6,shuffle=True,random_state=0)\n",
    "scores = cross_val_score(knn,X,df.species,cv=6)\n",
    "\n",
    "print(scores)\n"
   ]
  },
  {
   "cell_type": "code",
   "execution_count": 228,
   "metadata": {},
   "outputs": [
    {
     "name": "stderr",
     "output_type": "stream",
     "text": [
      "/Users/driscoll/anaconda3/lib/python3.8/site-packages/sklearn/base.py:445: UserWarning: X does not have valid feature names, but KNeighborsClassifier was fitted with feature names\n",
      "  warnings.warn(\n"
     ]
    },
    {
     "data": {
      "text/plain": [
       "array(['Adelie', 'Adelie', 'Adelie', 'Gentoo', 'Gentoo', 'Chinstrap',\n",
       "       'Gentoo', 'Adelie', 'Gentoo', 'Adelie', 'Chinstrap', 'Gentoo',\n",
       "       'Chinstrap', 'Gentoo', 'Gentoo', 'Gentoo', 'Chinstrap', 'Adelie',\n",
       "       'Chinstrap', 'Adelie', 'Chinstrap', 'Adelie', 'Adelie', 'Gentoo',\n",
       "       'Gentoo', 'Gentoo', 'Gentoo', 'Adelie', 'Adelie', 'Adelie',\n",
       "       'Adelie', 'Adelie', 'Adelie', 'Chinstrap', 'Adelie', 'Gentoo',\n",
       "       'Adelie', 'Gentoo', 'Gentoo', 'Gentoo', 'Gentoo', 'Adelie',\n",
       "       'Gentoo', 'Adelie', 'Adelie', 'Adelie', 'Adelie', 'Gentoo',\n",
       "       'Gentoo', 'Adelie', 'Adelie', 'Adelie', 'Adelie', 'Adelie',\n",
       "       'Gentoo', 'Gentoo', 'Gentoo', 'Adelie', 'Adelie', 'Chinstrap',\n",
       "       'Chinstrap', 'Gentoo', 'Gentoo', 'Adelie', 'Adelie', 'Chinstrap',\n",
       "       'Adelie', 'Adelie', 'Adelie', 'Gentoo', 'Gentoo', 'Gentoo',\n",
       "       'Adelie', 'Adelie', 'Adelie', 'Chinstrap', 'Adelie', 'Chinstrap',\n",
       "       'Adelie', 'Chinstrap', 'Chinstrap', 'Gentoo', 'Gentoo',\n",
       "       'Chinstrap', 'Adelie', 'Gentoo', 'Gentoo', 'Gentoo', 'Adelie',\n",
       "       'Adelie', 'Adelie', 'Chinstrap', 'Adelie', 'Chinstrap',\n",
       "       'Chinstrap', 'Adelie', 'Gentoo', 'Gentoo', 'Adelie', 'Gentoo',\n",
       "       'Adelie', 'Chinstrap', 'Adelie', 'Adelie', 'Adelie', 'Adelie',\n",
       "       'Gentoo', 'Gentoo', 'Gentoo', 'Gentoo', 'Gentoo', 'Adelie',\n",
       "       'Adelie', 'Adelie', 'Adelie', 'Adelie', 'Gentoo', 'Chinstrap',\n",
       "       'Gentoo', 'Adelie', 'Gentoo', 'Gentoo', 'Gentoo', 'Chinstrap',\n",
       "       'Adelie', 'Adelie', 'Adelie', 'Gentoo', 'Gentoo', 'Adelie',\n",
       "       'Gentoo', 'Gentoo', 'Adelie', 'Gentoo', 'Gentoo', 'Adelie',\n",
       "       'Gentoo', 'Adelie', 'Gentoo', 'Adelie', 'Adelie', 'Gentoo',\n",
       "       'Adelie', 'Adelie', 'Adelie', 'Gentoo', 'Adelie', 'Adelie',\n",
       "       'Gentoo', 'Gentoo', 'Gentoo', 'Adelie', 'Chinstrap', 'Adelie',\n",
       "       'Adelie', 'Adelie', 'Gentoo', 'Adelie', 'Gentoo', 'Chinstrap',\n",
       "       'Gentoo', 'Chinstrap', 'Adelie', 'Adelie', 'Chinstrap', 'Gentoo',\n",
       "       'Adelie', 'Gentoo', 'Adelie', 'Chinstrap', 'Adelie', 'Adelie',\n",
       "       'Adelie', 'Chinstrap', 'Adelie', 'Adelie', 'Chinstrap', 'Adelie',\n",
       "       'Gentoo', 'Adelie', 'Adelie', 'Adelie', 'Gentoo', 'Adelie',\n",
       "       'Gentoo', 'Gentoo', 'Gentoo', 'Chinstrap', 'Adelie', 'Adelie',\n",
       "       'Adelie', 'Adelie', 'Adelie', 'Gentoo', 'Adelie', 'Gentoo',\n",
       "       'Adelie', 'Chinstrap', 'Gentoo', 'Gentoo', 'Adelie', 'Adelie',\n",
       "       'Gentoo', 'Chinstrap', 'Gentoo', 'Adelie', 'Adelie', 'Adelie',\n",
       "       'Adelie', 'Chinstrap', 'Chinstrap', 'Adelie', 'Adelie', 'Gentoo',\n",
       "       'Adelie', 'Adelie', 'Gentoo', 'Gentoo', 'Adelie', 'Gentoo',\n",
       "       'Gentoo', 'Adelie', 'Gentoo', 'Chinstrap', 'Adelie', 'Adelie',\n",
       "       'Adelie', 'Gentoo', 'Gentoo', 'Adelie', 'Adelie', 'Gentoo',\n",
       "       'Adelie', 'Adelie', 'Adelie', 'Gentoo', 'Adelie', 'Gentoo',\n",
       "       'Chinstrap', 'Chinstrap', 'Adelie', 'Chinstrap', 'Gentoo',\n",
       "       'Adelie', 'Gentoo', 'Adelie', 'Gentoo', 'Gentoo', 'Gentoo',\n",
       "       'Adelie', 'Adelie', 'Gentoo', 'Adelie', 'Gentoo', 'Chinstrap',\n",
       "       'Adelie', 'Gentoo', 'Adelie', 'Adelie', 'Gentoo', 'Gentoo',\n",
       "       'Adelie', 'Chinstrap', 'Adelie', 'Adelie', 'Adelie'], dtype=object)"
      ]
     },
     "execution_count": 228,
     "metadata": {},
     "output_type": "execute_result"
    }
   ],
   "source": [
    "knn.predict(X_tr)"
   ]
  },
  {
   "cell_type": "code",
   "execution_count": 233,
   "metadata": {},
   "outputs": [
    {
     "data": {
      "text/plain": [
       "array([ 3.84077154e-16,  6.40128591e-16,  2.13376197e-16, -1.70700958e-16])"
      ]
     },
     "execution_count": 233,
     "metadata": {},
     "output_type": "execute_result"
    }
   ],
   "source": [
    "np.mean(Z,axis=0)"
   ]
  },
  {
   "cell_type": "code",
   "execution_count": 242,
   "metadata": {},
   "outputs": [
    {
     "name": "stdout",
     "output_type": "stream",
     "text": [
      "[[2628   79]\n",
      " [ 341  264]]\n"
     ]
    }
   ],
   "source": [
    "import numpy as np\n",
    "X = np.loadtxt(\"data.csv\",delimiter=\",\")\n",
    "y = np.loadtxt(\"labels.csv\",delimiter=\",\")\n",
    "from sklearn.model_selection import train_test_split\n",
    "X_tr, X_te, y_tr, y_te = train_test_split(X,y,test_size=0.2)\n",
    "from sklearn import neighbors as nbr \n",
    "knn = nbr.KNeighborsClassifier(n_neighbors=3) \n",
    "knn.fit(X_tr,y_tr)  \n",
    "\n",
    "from sklearn import metrics\n",
    "yhat = knn.predict(X_tr) \n",
    "C = metrics.confusion_matrix(y_tr,yhat,labels=[-1,1])\n",
    "print(C)\n"
   ]
  },
  {
   "cell_type": "code",
   "execution_count": 263,
   "metadata": {},
   "outputs": [],
   "source": [
    "train_err = []\n",
    "test_err = []\n",
    "\n",
    "K = range(1,21)\n",
    "for k in K:\n",
    "    knn = tree.DecisionTreeClassifier(max_depth=k) \n",
    "    knn.fit(X_tr,y_tr)\n",
    "    train_err.append(1-knn.score(X_tr,y_tr))\n",
    "    test_err.append(1-knn.score(X_te,y_te))\n",
    "\n"
   ]
  },
  {
   "cell_type": "code",
   "execution_count": null,
   "metadata": {},
   "outputs": [],
   "source": [
    "pd.DataFrame({\"k\":K,\"train\":train_err,\"test\":test_err})"
   ]
  },
  {
   "cell_type": "code",
   "execution_count": 266,
   "metadata": {},
   "outputs": [
    {
     "data": {
      "text/plain": [
       "<AxesSubplot:xlabel='depth'>"
      ]
     },
     "execution_count": 266,
     "metadata": {},
     "output_type": "execute_result"
    },
    {
     "data": {
      "image/png": "[encoded data removed]",
      "text/plain": [
       "<Figure size 432x288 with 1 Axes>"
      ]
     },
     "metadata": {
      "needs_background": "light"
     },
     "output_type": "display_data"
    }
   ],
   "source": [
    "from sklearn import tree\n",
    "\n",
    "train_err = []\n",
    "test_err = []\n",
    "D = range(1,21)\n",
    "\n",
    "for depth in D:\n",
    "    t = tree.DecisionTreeClassifier(max_depth=depth) \n",
    "    t.fit(X_tr,y_tr)\n",
    "    train_err.append(1-t.score(X_tr,y_tr))\n",
    "    test_err.append(1-t.score(X_te,y_te))\n",
    "\n",
    "import seaborn as sns\n",
    "result = pd.DataFrame(\n",
    "    {\"train error\":train_err,\"test error\":test_err},\n",
    "    index=pd.Series(D,name=\"depth\")\n",
    ")\n",
    "sns.lineplot(data=result)"
   ]
  },
  {
   "cell_type": "code",
   "execution_count": 259,
   "metadata": {},
   "outputs": [],
   "source": [
    "from sklearn import tree\n"
   ]
  },
  {
   "cell_type": "code",
   "execution_count": 319,
   "metadata": {},
   "outputs": [],
   "source": [
    "import numpy as np\n",
    "X = np.loadtxt(\"data.csv\",delimiter=\",\")\n",
    "y = np.loadtxt(\"labels.csv\",delimiter=\",\")\n",
    "\n",
    "from sklearn.model_selection import train_test_split\n",
    "\n",
    "from sklearn import neighbors as nbr \n"
   ]
  },
  {
   "cell_type": "code",
   "execution_count": null,
   "metadata": {},
   "outputs": [],
   "source": [
    "\n",
    "acc = []\n",
    "for m in range(1000):\n",
    "    X_tr, X_te, y_tr, y_te = train_test_split(X,y,test_size=0.2)\n",
    "    knn = nbr.KNeighborsClassifier(n_neighbors=1) \n",
    "    knn.fit(X_tr,y_tr)\n",
    "    acc.append(knn.score(X_te,y_te))"
   ]
  },
  {
   "cell_type": "code",
   "execution_count": 290,
   "metadata": {},
   "outputs": [],
   "source": [
    "acc = []\n",
    "X_tr, X_m, y_tr, y_m = train_test_split(X,y,test_size=0.2)\n",
    "for m in range(1000):\n",
    "    X_tr, X_te, y_tr, y_te = train_test_split(X,y,test_size=0.5)\n",
    "    t = tree.DecisionTreeClassifier(max_depth=60) \n",
    "    t.fit(X_tr,y_tr)\n",
    "    acc.append(t.score(X,y))"
   ]
  },
  {
   "cell_type": "code",
   "execution_count": 291,
   "metadata": {},
   "outputs": [
    {
     "data": {
      "text/plain": [
       "(0.877842995169082, 0.005713880820930739)"
      ]
     },
     "execution_count": 291,
     "metadata": {},
     "output_type": "execute_result"
    }
   ],
   "source": [
    "np.mean(acc),np.std(acc)"
   ]
  },
  {
   "cell_type": "code",
   "execution_count": 289,
   "metadata": {},
   "outputs": [
    {
     "data": {
      "text/plain": [
       "(0.878285265700483, 0.005558740942500484)"
      ]
     },
     "execution_count": 289,
     "metadata": {},
     "output_type": "execute_result"
    }
   ],
   "source": [
    "np.mean(acc),np.std(acc)\n"
   ]
  },
  {
   "cell_type": "code",
   "execution_count": 388,
   "metadata": {},
   "outputs": [],
   "source": [
    "from sklearn.utils import shuffle\n",
    "\n",
    "X_tr, X_te, y_tr, y_te = train_test_split(X,y,test_size=0.2)\n",
    "N = range(10,281)\n",
    "train_err = []\n",
    "test_err = []\n",
    "for n in N:\n",
    "  X_tr,y_tr = shuffle(X_tr,y_tr,random_state=1)\n",
    "  knn = nbr.KNeighborsClassifier(n_neighbors=5)   # specification\n",
    "  knn.fit(X_tr[:n,:],y_tr[:n])   # training\n",
    "  train_err.append(1-knn.score(X_tr[:n,:],y_tr[:n]))\n",
    "  test_err.append(1-knn.score(X_te,y_te))\n"
   ]
  },
  {
   "cell_type": "code",
   "execution_count": 389,
   "metadata": {},
   "outputs": [
    {
     "data": {
      "text/plain": [
       "<AxesSubplot:xlabel='size of training set'>"
      ]
     },
     "execution_count": 389,
     "metadata": {},
     "output_type": "execute_result"
    },
    {
     "data": {
      "image/png": "[encoded data removed]",
      "text/plain": [
       "<Figure size 432x288 with 1 Axes>"
      ]
     },
     "metadata": {
      "needs_background": "light"
     },
     "output_type": "display_data"
    }
   ],
   "source": [
    "import seaborn as sns\n",
    "result = pd.DataFrame(\n",
    "    {\"train error\":train_err,\"test error\":test_err},\n",
    "    index=pd.Series(N,name=\"size of training set\")\n",
    ")\n",
    "sns.lineplot(data=result)"
   ]
  },
  {
   "cell_type": "code",
   "execution_count": 390,
   "metadata": {},
   "outputs": [
    {
     "data": {
      "text/plain": [
       "(333, 4)"
      ]
     },
     "execution_count": 390,
     "metadata": {},
     "output_type": "execute_result"
    }
   ],
   "source": [
    "X.shape"
   ]
  },
  {
   "cell_type": "code",
   "execution_count": 393,
   "metadata": {},
   "outputs": [
    {
     "name": "stdout",
     "output_type": "stream",
     "text": [
      "[0.76785714 0.76785714 0.78571429 0.78181818 0.76363636 0.78181818]\n",
      "mean: 0.7747835497835499 \n",
      "std:  0.008550468491386862\n"
     ]
    }
   ],
   "source": [
    "from sklearn.model_selection import cross_val_score,KFold\n",
    "\n",
    "knn = nbr.KNeighborsClassifier(n_neighbors=3)   # specification\n",
    "kf = KFold(n_splits=6,shuffle=True)\n",
    "scores = cross_val_score(knn,X,y,cv=kf)\n",
    "\n",
    "print(scores)\n",
    "print(\"mean:\",scores.mean(),\"\\nstd: \",scores.std())\n"
   ]
  },
  {
   "cell_type": "code",
   "execution_count": 395,
   "metadata": {},
   "outputs": [
    {
     "data": {
      "text/html": [
       "<div>\n",
       "<style scoped>\n",
       "    .dataframe tbody tr th:only-of-type {\n",
       "        vertical-align: middle;\n",
       "    }\n",
       "\n",
       "    .dataframe tbody tr th {\n",
       "        vertical-align: top;\n",
       "    }\n",
       "\n",
       "    .dataframe thead th {\n",
       "        text-align: right;\n",
       "    }\n",
       "</style>\n",
       "<table border=\"1\" class=\"dataframe\">\n",
       "  <thead>\n",
       "    <tr style=\"text-align: right;\">\n",
       "      <th></th>\n",
       "      <th>species</th>\n",
       "      <th>island</th>\n",
       "      <th>bill_length_mm</th>\n",
       "      <th>bill_depth_mm</th>\n",
       "      <th>flipper_length_mm</th>\n",
       "      <th>body_mass_g</th>\n",
       "      <th>sex</th>\n",
       "    </tr>\n",
       "  </thead>\n",
       "  <tbody>\n",
       "    <tr>\n",
       "      <th>0</th>\n",
       "      <td>Adelie</td>\n",
       "      <td>Torgersen</td>\n",
       "      <td>39.1</td>\n",
       "      <td>18.7</td>\n",
       "      <td>181.0</td>\n",
       "      <td>3750.0</td>\n",
       "      <td>Male</td>\n",
       "    </tr>\n",
       "    <tr>\n",
       "      <th>1</th>\n",
       "      <td>Adelie</td>\n",
       "      <td>Torgersen</td>\n",
       "      <td>39.5</td>\n",
       "      <td>17.4</td>\n",
       "      <td>186.0</td>\n",
       "      <td>3800.0</td>\n",
       "      <td>Female</td>\n",
       "    </tr>\n",
       "    <tr>\n",
       "      <th>2</th>\n",
       "      <td>Adelie</td>\n",
       "      <td>Torgersen</td>\n",
       "      <td>40.3</td>\n",
       "      <td>18.0</td>\n",
       "      <td>195.0</td>\n",
       "      <td>3250.0</td>\n",
       "      <td>Female</td>\n",
       "    </tr>\n",
       "    <tr>\n",
       "      <th>4</th>\n",
       "      <td>Adelie</td>\n",
       "      <td>Torgersen</td>\n",
       "      <td>36.7</td>\n",
       "      <td>19.3</td>\n",
       "      <td>193.0</td>\n",
       "      <td>3450.0</td>\n",
       "      <td>Female</td>\n",
       "    </tr>\n",
       "    <tr>\n",
       "      <th>5</th>\n",
       "      <td>Adelie</td>\n",
       "      <td>Torgersen</td>\n",
       "      <td>39.3</td>\n",
       "      <td>20.6</td>\n",
       "      <td>190.0</td>\n",
       "      <td>3650.0</td>\n",
       "      <td>Male</td>\n",
       "    </tr>\n",
       "    <tr>\n",
       "      <th>...</th>\n",
       "      <td>...</td>\n",
       "      <td>...</td>\n",
       "      <td>...</td>\n",
       "      <td>...</td>\n",
       "      <td>...</td>\n",
       "      <td>...</td>\n",
       "      <td>...</td>\n",
       "    </tr>\n",
       "    <tr>\n",
       "      <th>338</th>\n",
       "      <td>Gentoo</td>\n",
       "      <td>Biscoe</td>\n",
       "      <td>47.2</td>\n",
       "      <td>13.7</td>\n",
       "      <td>214.0</td>\n",
       "      <td>4925.0</td>\n",
       "      <td>Female</td>\n",
       "    </tr>\n",
       "    <tr>\n",
       "      <th>340</th>\n",
       "      <td>Gentoo</td>\n",
       "      <td>Biscoe</td>\n",
       "      <td>46.8</td>\n",
       "      <td>14.3</td>\n",
       "      <td>215.0</td>\n",
       "      <td>4850.0</td>\n",
       "      <td>Female</td>\n",
       "    </tr>\n",
       "    <tr>\n",
       "      <th>341</th>\n",
       "      <td>Gentoo</td>\n",
       "      <td>Biscoe</td>\n",
       "      <td>50.4</td>\n",
       "      <td>15.7</td>\n",
       "      <td>222.0</td>\n",
       "      <td>5750.0</td>\n",
       "      <td>Male</td>\n",
       "    </tr>\n",
       "    <tr>\n",
       "      <th>342</th>\n",
       "      <td>Gentoo</td>\n",
       "      <td>Biscoe</td>\n",
       "      <td>45.2</td>\n",
       "      <td>14.8</td>\n",
       "      <td>212.0</td>\n",
       "      <td>5200.0</td>\n",
       "      <td>Female</td>\n",
       "    </tr>\n",
       "    <tr>\n",
       "      <th>343</th>\n",
       "      <td>Gentoo</td>\n",
       "      <td>Biscoe</td>\n",
       "      <td>49.9</td>\n",
       "      <td>16.1</td>\n",
       "      <td>213.0</td>\n",
       "      <td>5400.0</td>\n",
       "      <td>Male</td>\n",
       "    </tr>\n",
       "  </tbody>\n",
       "</table>\n",
       "<p>333 rows × 7 columns</p>\n",
       "</div>"
      ],
      "text/plain": [
       "    species     island  bill_length_mm  bill_depth_mm  flipper_length_mm  \\\n",
       "0    Adelie  Torgersen            39.1           18.7              181.0   \n",
       "1    Adelie  Torgersen            39.5           17.4              186.0   \n",
       "2    Adelie  Torgersen            40.3           18.0              195.0   \n",
       "4    Adelie  Torgersen            36.7           19.3              193.0   \n",
       "5    Adelie  Torgersen            39.3           20.6              190.0   \n",
       "..      ...        ...             ...            ...                ...   \n",
       "338  Gentoo     Biscoe            47.2           13.7              214.0   \n",
       "340  Gentoo     Biscoe            46.8           14.3              215.0   \n",
       "341  Gentoo     Biscoe            50.4           15.7              222.0   \n",
       "342  Gentoo     Biscoe            45.2           14.8              212.0   \n",
       "343  Gentoo     Biscoe            49.9           16.1              213.0   \n",
       "\n",
       "     body_mass_g     sex  \n",
       "0         3750.0    Male  \n",
       "1         3800.0  Female  \n",
       "2         3250.0  Female  \n",
       "4         3450.0  Female  \n",
       "5         3650.0    Male  \n",
       "..           ...     ...  \n",
       "338       4925.0  Female  \n",
       "340       4850.0  Female  \n",
       "341       5750.0    Male  \n",
       "342       5200.0  Female  \n",
       "343       5400.0    Male  \n",
       "\n",
       "[333 rows x 7 columns]"
      ]
     },
     "execution_count": 395,
     "metadata": {},
     "output_type": "execute_result"
    }
   ],
   "source": [
    "import seaborn as sns\n",
    "pen = sns.load_dataset(\"penguins\")\n",
    "pen = pen.dropna()\n",
    "pen"
   ]
  },
  {
   "cell_type": "code",
   "execution_count": 396,
   "metadata": {},
   "outputs": [],
   "source": [
    "X = pen[[\"bill_length_mm\",\"bill_depth_mm\",\"flipper_length_mm\",\"body_mass_g\"]]\n",
    "y = pen[\"species\"]\n"
   ]
  },
  {
   "cell_type": "code",
   "execution_count": 424,
   "metadata": {},
   "outputs": [
    {
     "data": {
      "text/html": [
       "<div>\n",
       "<style scoped>\n",
       "    .dataframe tbody tr th:only-of-type {\n",
       "        vertical-align: middle;\n",
       "    }\n",
       "\n",
       "    .dataframe tbody tr th {\n",
       "        vertical-align: top;\n",
       "    }\n",
       "\n",
       "    .dataframe thead th {\n",
       "        text-align: right;\n",
       "    }\n",
       "</style>\n",
       "<table border=\"1\" class=\"dataframe\">\n",
       "  <thead>\n",
       "    <tr style=\"text-align: right;\">\n",
       "      <th></th>\n",
       "      <th>k</th>\n",
       "      <th>accuracy mean</th>\n",
       "      <th>accuracy std</th>\n",
       "    </tr>\n",
       "  </thead>\n",
       "  <tbody>\n",
       "    <tr>\n",
       "      <th>0</th>\n",
       "      <td>1</td>\n",
       "      <td>0.815700</td>\n",
       "      <td>0.017353</td>\n",
       "    </tr>\n",
       "    <tr>\n",
       "      <th>1</th>\n",
       "      <td>2</td>\n",
       "      <td>0.823913</td>\n",
       "      <td>0.018251</td>\n",
       "    </tr>\n",
       "    <tr>\n",
       "      <th>2</th>\n",
       "      <td>3</td>\n",
       "      <td>0.824638</td>\n",
       "      <td>0.018338</td>\n",
       "    </tr>\n",
       "    <tr>\n",
       "      <th>3</th>\n",
       "      <td>4</td>\n",
       "      <td>0.830193</td>\n",
       "      <td>0.021114</td>\n",
       "    </tr>\n",
       "    <tr>\n",
       "      <th>4</th>\n",
       "      <td>5</td>\n",
       "      <td>0.830918</td>\n",
       "      <td>0.020035</td>\n",
       "    </tr>\n",
       "    <tr>\n",
       "      <th>5</th>\n",
       "      <td>6</td>\n",
       "      <td>0.831643</td>\n",
       "      <td>0.020554</td>\n",
       "    </tr>\n",
       "    <tr>\n",
       "      <th>6</th>\n",
       "      <td>7</td>\n",
       "      <td>0.832126</td>\n",
       "      <td>0.021880</td>\n",
       "    </tr>\n",
       "    <tr>\n",
       "      <th>7</th>\n",
       "      <td>8</td>\n",
       "      <td>0.828019</td>\n",
       "      <td>0.017644</td>\n",
       "    </tr>\n",
       "    <tr>\n",
       "      <th>8</th>\n",
       "      <td>9</td>\n",
       "      <td>0.823913</td>\n",
       "      <td>0.017433</td>\n",
       "    </tr>\n",
       "  </tbody>\n",
       "</table>\n",
       "</div>"
      ],
      "text/plain": [
       "   k  accuracy mean  accuracy std\n",
       "0  1       0.815700      0.017353\n",
       "1  2       0.823913      0.018251\n",
       "2  3       0.824638      0.018338\n",
       "3  4       0.830193      0.021114\n",
       "4  5       0.830918      0.020035\n",
       "5  6       0.831643      0.020554\n",
       "6  7       0.832126      0.021880\n",
       "7  8       0.828019      0.017644\n",
       "8  9       0.823913      0.017433"
      ]
     },
     "execution_count": 424,
     "metadata": {},
     "output_type": "execute_result"
    }
   ],
   "source": [
    "from sklearn import neighbors as nbr \n",
    "K = range(1,10)\n",
    "score_mean = []\n",
    "score_std = []\n",
    "kf = KFold(n_splits=10,shuffle=True,random_state=1)\n",
    "for k in K:\n",
    "    t = tree.DecisionTreeClassifier(max_depth=k)\n",
    "    scores = cross_val_score(t,X,y,cv=kf)\n",
    "    score_mean.append(scores.mean())\n",
    "    score_std.append(scores.std())\n",
    "\n",
    "pd.DataFrame({\"k\":K,\"accuracy mean\":score_mean,\"accuracy std\":score_std})\n"
   ]
  },
  {
   "cell_type": "code",
   "execution_count": 398,
   "metadata": {},
   "outputs": [
    {
     "data": {
      "text/html": [
       "<div>\n",
       "<style scoped>\n",
       "    .dataframe tbody tr th:only-of-type {\n",
       "        vertical-align: middle;\n",
       "    }\n",
       "\n",
       "    .dataframe tbody tr th {\n",
       "        vertical-align: top;\n",
       "    }\n",
       "\n",
       "    .dataframe thead th {\n",
       "        text-align: right;\n",
       "    }\n",
       "</style>\n",
       "<table border=\"1\" class=\"dataframe\">\n",
       "  <thead>\n",
       "    <tr style=\"text-align: right;\">\n",
       "      <th></th>\n",
       "      <th>bill_length_mm</th>\n",
       "      <th>bill_depth_mm</th>\n",
       "      <th>flipper_length_mm</th>\n",
       "      <th>body_mass_g</th>\n",
       "    </tr>\n",
       "  </thead>\n",
       "  <tbody>\n",
       "    <tr>\n",
       "      <th>0</th>\n",
       "      <td>39.1</td>\n",
       "      <td>18.7</td>\n",
       "      <td>181.0</td>\n",
       "      <td>3750.0</td>\n",
       "    </tr>\n",
       "    <tr>\n",
       "      <th>1</th>\n",
       "      <td>39.5</td>\n",
       "      <td>17.4</td>\n",
       "      <td>186.0</td>\n",
       "      <td>3800.0</td>\n",
       "    </tr>\n",
       "    <tr>\n",
       "      <th>2</th>\n",
       "      <td>40.3</td>\n",
       "      <td>18.0</td>\n",
       "      <td>195.0</td>\n",
       "      <td>3250.0</td>\n",
       "    </tr>\n",
       "    <tr>\n",
       "      <th>4</th>\n",
       "      <td>36.7</td>\n",
       "      <td>19.3</td>\n",
       "      <td>193.0</td>\n",
       "      <td>3450.0</td>\n",
       "    </tr>\n",
       "    <tr>\n",
       "      <th>5</th>\n",
       "      <td>39.3</td>\n",
       "      <td>20.6</td>\n",
       "      <td>190.0</td>\n",
       "      <td>3650.0</td>\n",
       "    </tr>\n",
       "    <tr>\n",
       "      <th>...</th>\n",
       "      <td>...</td>\n",
       "      <td>...</td>\n",
       "      <td>...</td>\n",
       "      <td>...</td>\n",
       "    </tr>\n",
       "    <tr>\n",
       "      <th>338</th>\n",
       "      <td>47.2</td>\n",
       "      <td>13.7</td>\n",
       "      <td>214.0</td>\n",
       "      <td>4925.0</td>\n",
       "    </tr>\n",
       "    <tr>\n",
       "      <th>340</th>\n",
       "      <td>46.8</td>\n",
       "      <td>14.3</td>\n",
       "      <td>215.0</td>\n",
       "      <td>4850.0</td>\n",
       "    </tr>\n",
       "    <tr>\n",
       "      <th>341</th>\n",
       "      <td>50.4</td>\n",
       "      <td>15.7</td>\n",
       "      <td>222.0</td>\n",
       "      <td>5750.0</td>\n",
       "    </tr>\n",
       "    <tr>\n",
       "      <th>342</th>\n",
       "      <td>45.2</td>\n",
       "      <td>14.8</td>\n",
       "      <td>212.0</td>\n",
       "      <td>5200.0</td>\n",
       "    </tr>\n",
       "    <tr>\n",
       "      <th>343</th>\n",
       "      <td>49.9</td>\n",
       "      <td>16.1</td>\n",
       "      <td>213.0</td>\n",
       "      <td>5400.0</td>\n",
       "    </tr>\n",
       "  </tbody>\n",
       "</table>\n",
       "<p>333 rows × 4 columns</p>\n",
       "</div>"
      ],
      "text/plain": [
       "     bill_length_mm  bill_depth_mm  flipper_length_mm  body_mass_g\n",
       "0              39.1           18.7              181.0       3750.0\n",
       "1              39.5           17.4              186.0       3800.0\n",
       "2              40.3           18.0              195.0       3250.0\n",
       "4              36.7           19.3              193.0       3450.0\n",
       "5              39.3           20.6              190.0       3650.0\n",
       "..              ...            ...                ...          ...\n",
       "338            47.2           13.7              214.0       4925.0\n",
       "340            46.8           14.3              215.0       4850.0\n",
       "341            50.4           15.7              222.0       5750.0\n",
       "342            45.2           14.8              212.0       5200.0\n",
       "343            49.9           16.1              213.0       5400.0\n",
       "\n",
       "[333 rows x 4 columns]"
      ]
     },
     "execution_count": 398,
     "metadata": {},
     "output_type": "execute_result"
    }
   ],
   "source": [
    "    knn = nbr.KNeighborsClassifier(n_neighbors=k)\n"
   ]
  },
  {
   "cell_type": "code",
   "execution_count": 425,
   "metadata": {},
   "outputs": [
    {
     "ename": "AttributeError",
     "evalue": "'numpy.ndarray' object has no attribute 'transform'",
     "output_type": "error",
     "traceback": [
      "\u001b[0;31m---------------------------------------------------------------------------\u001b[0m",
      "\u001b[0;31mAttributeError\u001b[0m                            Traceback (most recent call last)",
      "\u001b[0;32m/var/folders/cn/8w40979d27x0kv2wsnx7zgvm0000gp/T/ipykernel_54284/3302161914.py\u001b[0m in \u001b[0;36m<module>\u001b[0;34m\u001b[0m\n\u001b[0;32m----> 1\u001b[0;31m \u001b[0mZ\u001b[0m \u001b[0;34m=\u001b[0m \u001b[0mX\u001b[0m\u001b[0;34m.\u001b[0m\u001b[0mtransform\u001b[0m\u001b[0;34m(\u001b[0m\u001b[0;32mlambda\u001b[0m \u001b[0mx\u001b[0m\u001b[0;34m:\u001b[0m\u001b[0;34m(\u001b[0m\u001b[0mx\u001b[0m\u001b[0;34m-\u001b[0m\u001b[0mx\u001b[0m\u001b[0;34m.\u001b[0m\u001b[0mmean\u001b[0m\u001b[0;34m(\u001b[0m\u001b[0;34m)\u001b[0m\u001b[0;34m)\u001b[0m\u001b[0;34m/\u001b[0m\u001b[0mx\u001b[0m\u001b[0;34m.\u001b[0m\u001b[0mstd\u001b[0m\u001b[0;34m(\u001b[0m\u001b[0;34m)\u001b[0m\u001b[0;34m)\u001b[0m\u001b[0;34m\u001b[0m\u001b[0;34m\u001b[0m\u001b[0m\n\u001b[0m",
      "\u001b[0;31mAttributeError\u001b[0m: 'numpy.ndarray' object has no attribute 'transform'"
     ]
    }
   ],
   "source": [
    "Z = X.transform(lambda x:(x-x.mean())/x.std())"
   ]
  },
  {
   "cell_type": "code",
   "execution_count": 161,
   "metadata": {},
   "outputs": [],
   "source": [
    "import numpy as np\n",
    "X = np.loadtxt(\"data.csv\",delimiter=\",\")\n",
    "y = np.loadtxt(\"labels.csv\",delimiter=\",\")\n",
    "# X = (X-np.mean(X,axis=0))/np.std(X,axis=0)"
   ]
  },
  {
   "cell_type": "code",
   "execution_count": 154,
   "metadata": {},
   "outputs": [
    {
     "name": "stdout",
     "output_type": "stream",
     "text": [
      "3312 training cases and 828 test cases\n",
      "[[2704    0]\n",
      " [   0  608]]\n"
     ]
    }
   ],
   "source": [
    "\n",
    "from sklearn.model_selection import train_test_split\n",
    "X_tr, X_te, y_tr, y_te = train_test_split(X,y,test_size=0.2)\n",
    "print(len(y_tr),\"training cases and\",len(y_te),\"test cases\")\n",
    "from sklearn import neighbors as nbr\n",
    "knn = nbr.KNeighborsClassifier(n_neighbors=1)\n",
    "knn.fit(X_tr,y_tr)\n",
    "from sklearn import metrics\n",
    "yhat = knn.predict(X_tr)\n",
    "C = metrics.confusion_matrix(y_tr,yhat,labels=[-1,1])\n",
    "print(C)"
   ]
  },
  {
   "cell_type": "code",
   "execution_count": 426,
   "metadata": {},
   "outputs": [
    {
     "data": {
      "text/plain": [
       "<AxesSubplot:xlabel='size of training set'>"
      ]
     },
     "execution_count": 426,
     "metadata": {},
     "output_type": "execute_result"
    },
    {
     "data": {
      "image/png": "[encoded data removed]",
      "text/plain": [
       "<Figure size 432x288 with 1 Axes>"
      ]
     },
     "metadata": {
      "needs_background": "light"
     },
     "output_type": "display_data"
    }
   ],
   "source": [
    "X_tr, X_te, y_tr, y_te = train_test_split(X,y,test_size=0.2)\n",
    "N = range(50,3201,20)\n",
    "train_err = []\n",
    "test_err = []\n",
    "for n in N:\n",
    "  X_tr,y_tr = shuffle(X_tr,y_tr,random_state=1)\n",
    "  knn = tree.DecisionTreeClassifier(max_depth=10)   # specification\n",
    "  knn.fit(X_tr[:n,:],y_tr[:n])   # training\n",
    "  train_err.append(1-knn.score(X_tr[:n,:],y_tr[:n]))\n",
    "  test_err.append(1-knn.score(X_te,y_te))\n",
    "\n",
    "result = pd.DataFrame(\n",
    "    {\"train error\":train_err,\"test error\":test_err},\n",
    "    index=pd.Series(N,name=\"size of training set\")\n",
    ")\n",
    "sns.lineplot(data=result)"
   ]
  },
  {
   "cell_type": "code",
   "execution_count": 480,
   "metadata": {},
   "outputs": [],
   "source": [
    "X = pen[[\"bill_length_mm\",\"bill_depth_mm\",\"flipper_length_mm\",\"body_mass_g\"]]\n",
    "y = pen[\"species\"]\n"
   ]
  },
  {
   "cell_type": "code",
   "execution_count": 481,
   "metadata": {},
   "outputs": [
    {
     "data": {
      "text/plain": [
       "KNeighborsClassifier()"
      ]
     },
     "execution_count": 481,
     "metadata": {},
     "output_type": "execute_result"
    }
   ],
   "source": [
    "knn = nbr.KNeighborsClassifier(n_neighbors=5)\n",
    "knn.fit(X,y)"
   ]
  },
  {
   "cell_type": "code",
   "execution_count": 521,
   "metadata": {},
   "outputs": [
    {
     "data": {
      "text/plain": [
       "array([  0, 143,  53, 100, 153])"
      ]
     },
     "execution_count": 521,
     "metadata": {},
     "output_type": "execute_result"
    }
   ],
   "source": [
    "query = pd.DataFrame([[39,19,180,3750]],columns=X.columns)\n",
    "dist,idx = knn.kneighbors(query)\n",
    "idx[0]"
   ]
  },
  {
   "cell_type": "code",
   "execution_count": 522,
   "metadata": {},
   "outputs": [
    {
     "data": {
      "text/plain": [
       "0         Adelie\n",
       "143       Adelie\n",
       "53        Adelie\n",
       "100       Adelie\n",
       "153    Chinstrap\n",
       "Name: species, dtype: object"
      ]
     },
     "execution_count": 522,
     "metadata": {},
     "output_type": "execute_result"
    }
   ],
   "source": [
    "y[idx[0]]"
   ]
  },
  {
   "cell_type": "code",
   "execution_count": 533,
   "metadata": {},
   "outputs": [
    {
     "name": "stdout",
     "output_type": "stream",
     "text": [
      "Predicted:\n",
      "['Adelie' 'Adelie' 'Chinstrap' 'Adelie' 'Chinstrap']\n",
      "\n",
      "Data:\n",
      "0    Adelie\n",
      "1    Adelie\n",
      "2    Adelie\n",
      "4    Adelie\n",
      "5    Adelie\n",
      "Name: species, dtype: object\n"
     ]
    }
   ],
   "source": [
    "print(\"Predicted:\")\n",
    "print(knn.predict(X.loc[:5,:]))\n",
    "\n",
    "print(\"\\nData:\")\n",
    "print(y[:5])"
   ]
  },
  {
   "cell_type": "code",
   "execution_count": 516,
   "metadata": {},
   "outputs": [
    {
     "data": {
      "text/html": [
       "<div>\n",
       "<style scoped>\n",
       "    .dataframe tbody tr th:only-of-type {\n",
       "        vertical-align: middle;\n",
       "    }\n",
       "\n",
       "    .dataframe tbody tr th {\n",
       "        vertical-align: top;\n",
       "    }\n",
       "\n",
       "    .dataframe thead th {\n",
       "        text-align: right;\n",
       "    }\n",
       "</style>\n",
       "<table border=\"1\" class=\"dataframe\">\n",
       "  <thead>\n",
       "    <tr style=\"text-align: right;\">\n",
       "      <th></th>\n",
       "      <th>bill_length_mm</th>\n",
       "      <th>bill_depth_mm</th>\n",
       "      <th>flipper_length_mm</th>\n",
       "      <th>body_mass_g</th>\n",
       "    </tr>\n",
       "  </thead>\n",
       "  <tbody>\n",
       "    <tr>\n",
       "      <th>15</th>\n",
       "      <td>36.6</td>\n",
       "      <td>17.8</td>\n",
       "      <td>185.0</td>\n",
       "      <td>3700.0</td>\n",
       "    </tr>\n",
       "    <tr>\n",
       "      <th>150</th>\n",
       "      <td>36.0</td>\n",
       "      <td>17.1</td>\n",
       "      <td>187.0</td>\n",
       "      <td>3700.0</td>\n",
       "    </tr>\n",
       "    <tr>\n",
       "      <th>164</th>\n",
       "      <td>47.0</td>\n",
       "      <td>17.3</td>\n",
       "      <td>185.0</td>\n",
       "      <td>3700.0</td>\n",
       "    </tr>\n",
       "    <tr>\n",
       "      <th>96</th>\n",
       "      <td>38.1</td>\n",
       "      <td>18.6</td>\n",
       "      <td>190.0</td>\n",
       "      <td>3700.0</td>\n",
       "    </tr>\n",
       "    <tr>\n",
       "      <th>74</th>\n",
       "      <td>35.5</td>\n",
       "      <td>17.5</td>\n",
       "      <td>190.0</td>\n",
       "      <td>3700.0</td>\n",
       "    </tr>\n",
       "  </tbody>\n",
       "</table>\n",
       "</div>"
      ],
      "text/plain": [
       "     bill_length_mm  bill_depth_mm  flipper_length_mm  body_mass_g\n",
       "15             36.6           17.8              185.0       3700.0\n",
       "150            36.0           17.1              187.0       3700.0\n",
       "164            47.0           17.3              185.0       3700.0\n",
       "96             38.1           18.6              190.0       3700.0\n",
       "74             35.5           17.5              190.0       3700.0"
      ]
     },
     "execution_count": 516,
     "metadata": {},
     "output_type": "execute_result"
    }
   ],
   "source": [
    "X.iloc[idx[0],:]"
   ]
  },
  {
   "cell_type": "code",
   "execution_count": 448,
   "metadata": {},
   "outputs": [],
   "source": [
    "from sklearn import svm\n",
    "scores = cross_validate(svm.SVC(gamma=0.1),X,y,cv=kf)"
   ]
  },
  {
   "cell_type": "code",
   "execution_count": 449,
   "metadata": {},
   "outputs": [
    {
     "data": {
      "text/plain": [
       "0.8328502415458937"
      ]
     },
     "execution_count": 449,
     "metadata": {},
     "output_type": "execute_result"
    }
   ],
   "source": [
    "scores[\"test_score\"].mean()"
   ]
  },
  {
   "cell_type": "code",
   "execution_count": 470,
   "metadata": {},
   "outputs": [
    {
     "data": {
      "text/plain": [
       "<AxesSubplot:xlabel='hyperparameter'>"
      ]
     },
     "execution_count": 470,
     "metadata": {},
     "output_type": "execute_result"
    },
    {
     "data": {
      "image/png": "[encoded data removed]",
      "text/plain": [
       "<Figure size 432x288 with 1 Axes>"
      ]
     },
     "metadata": {
      "needs_background": "light"
     },
     "output_type": "display_data"
    }
   ],
   "source": [
    "result = pd.DataFrame(\n",
    "    {\"train error\":train_err},\n",
    "    index=pd.Series(np.log10(Gamma),name=\"hyperparameter\")\n",
    ")\n",
    "sns.lineplot(data=result)"
   ]
  },
  {
   "cell_type": "code",
   "execution_count": 479,
   "metadata": {},
   "outputs": [
    {
     "name": "stdout",
     "output_type": "stream",
     "text": [
      "k= 1 : 75.60%\n",
      "k= 2 : 82.10%\n",
      "k= 3 : 79.54%\n",
      "k= 4 : 82.17%\n",
      "k= 5 : 81.18%\n",
      "k= 6 : 82.42%\n",
      "k= 7 : 81.93%\n",
      "k= 8 : 82.49%\n"
     ]
    }
   ],
   "source": [
    "from sklearn.model_selection import cross_val_score\n",
    "\n",
    "K = range(1,9)\n",
    "acc = []\n",
    "for k in K:\n",
    "    knn = nbr.KNeighborsClassifier(n_neighbors=k) \n",
    "    scores = cross_val_score(knn,X,y,cv=kf)\n",
    "    acc.append(scores.mean())\n",
    "\n",
    "for (k,a) in zip(K,acc):\n",
    "    print(\"k =\",k,\":\",f\"{a:.2%}\")\n"
   ]
  },
  {
   "cell_type": "code",
   "execution_count": 477,
   "metadata": {},
   "outputs": [
    {
     "name": "stdout",
     "output_type": "stream",
     "text": [
      "75.60%\n"
     ]
    }
   ],
   "source": [
    "print(f\"{acc[0]:.2%}\")\n"
   ]
  },
  {
   "cell_type": "code",
   "execution_count": 126,
   "metadata": {},
   "outputs": [],
   "source": [
    "import numpy as np\n",
    "from numpy.random import default_rng\n",
    "rng = default_rng(1)\n",
    "X = rng.random((10000,10))\n",
    "y = np.array([np.sign(np.sum(x-0.5)) for x in X])"
   ]
  },
  {
   "cell_type": "code",
   "execution_count": null,
   "metadata": {},
   "outputs": [],
   "source": [
    "from sklearn import neighbors\n",
    "from sklearn.model_selection import train_test_split\n",
    "from sklearn.utils import shuffle\n",
    "import seaborn as sns\n",
    "import pandas as pd\n",
    "\n",
    "X_tr, X_te, y_tr, y_te = train_test_split(X,y,test_size=0.1)\n",
    "N = range(20,1801,20)\n",
    "train_err = []\n",
    "test_err = []\n",
    "for n in N:\n",
    "  X_tr,y_tr = shuffle(X_tr,y_tr,random_state=1)\n",
    "  knn = neighbors.KNeighborsClassifier(n_neighbors=2)   # specification\n",
    "  knn.fit(X_tr[:n,:],y_tr[:n])   # training\n",
    "  train_err.append(1-knn.score(X_tr[:n,:],y_tr[:n]))\n",
    "  test_err.append(1-knn.score(X_te,y_te))\n",
    "\n",
    "result = pd.DataFrame(\n",
    "    {\"train error\":train_err,\"test error\":test_err},\n",
    "    index=pd.Series(N,name=\"size of training set\")\n",
    ")\n",
    "sns.lineplot(data=result)"
   ]
  },
  {
   "cell_type": "code",
   "execution_count": 187,
   "metadata": {},
   "outputs": [],
   "source": [
    "from sklearn import neighbors\n",
    "from sklearn import tree\n",
    "from sklearn.model_selection import train_test_split\n",
    "from sklearn.utils import shuffle\n",
    "import seaborn as sns\n",
    "import pandas as pd\n",
    "\n",
    "X_tr, X_te, y_tr, y_te = train_test_split(X,y,test_size=0.2)\n",
    "n = 1000\n",
    "err,kind = [],[]\n",
    "t = nbr.KNeighborsClassifier(n_neighbors=30)\n",
    "#t = tree.DecisionTreeClassifier(max_depth=3)\n",
    "for i in range(200):\n",
    "    X_tr,y_tr = shuffle(X_tr,y_tr,random_state=1)\n",
    "    t.fit(X_tr[:n,:],y_tr[:n])   # training\n",
    "    err.append(1-t.score(X_tr[:n,:],y_tr[:n]))\n",
    "    err.append(1-t.score(X_te,y_te))\n",
    "    kind.extend([\"train\",\"test\"])\n",
    "\n",
    "result = pd.DataFrame({\"error\":err,\"kind\":kind})"
   ]
  },
  {
   "cell_type": "code",
   "execution_count": 188,
   "metadata": {},
   "outputs": [
    {
     "data": {
      "image/png": "[encoded data removed]",
      "text/plain": [
       "<Figure size 419.375x360 with 1 Axes>"
      ]
     },
     "metadata": {
      "needs_background": "light"
     },
     "output_type": "display_data"
    }
   ],
   "source": [
    "sns.displot(data=result,x=\"error\",hue=\"kind\",bins=24);\n"
   ]
  },
  {
   "cell_type": "code",
   "execution_count": 189,
   "metadata": {},
   "outputs": [
    {
     "data": {
      "text/html": [
       "<div>\n",
       "<style scoped>\n",
       "    .dataframe tbody tr th:only-of-type {\n",
       "        vertical-align: middle;\n",
       "    }\n",
       "\n",
       "    .dataframe tbody tr th {\n",
       "        vertical-align: top;\n",
       "    }\n",
       "\n",
       "    .dataframe thead tr th {\n",
       "        text-align: left;\n",
       "    }\n",
       "\n",
       "    .dataframe thead tr:last-of-type th {\n",
       "        text-align: right;\n",
       "    }\n",
       "</style>\n",
       "<table border=\"1\" class=\"dataframe\">\n",
       "  <thead>\n",
       "    <tr>\n",
       "      <th></th>\n",
       "      <th colspan=\"8\" halign=\"left\">error</th>\n",
       "    </tr>\n",
       "    <tr>\n",
       "      <th></th>\n",
       "      <th>count</th>\n",
       "      <th>mean</th>\n",
       "      <th>std</th>\n",
       "      <th>min</th>\n",
       "      <th>25%</th>\n",
       "      <th>50%</th>\n",
       "      <th>75%</th>\n",
       "      <th>max</th>\n",
       "    </tr>\n",
       "    <tr>\n",
       "      <th>kind</th>\n",
       "      <th></th>\n",
       "      <th></th>\n",
       "      <th></th>\n",
       "      <th></th>\n",
       "      <th></th>\n",
       "      <th></th>\n",
       "      <th></th>\n",
       "      <th></th>\n",
       "    </tr>\n",
       "  </thead>\n",
       "  <tbody>\n",
       "    <tr>\n",
       "      <th>test</th>\n",
       "      <td>200.0</td>\n",
       "      <td>0.177548</td>\n",
       "      <td>0.000499</td>\n",
       "      <td>0.175121</td>\n",
       "      <td>0.177536</td>\n",
       "      <td>0.177536</td>\n",
       "      <td>0.177536</td>\n",
       "      <td>0.182367</td>\n",
       "    </tr>\n",
       "    <tr>\n",
       "      <th>train</th>\n",
       "      <td>200.0</td>\n",
       "      <td>0.186080</td>\n",
       "      <td>0.009995</td>\n",
       "      <td>0.155000</td>\n",
       "      <td>0.179750</td>\n",
       "      <td>0.187000</td>\n",
       "      <td>0.192000</td>\n",
       "      <td>0.210000</td>\n",
       "    </tr>\n",
       "  </tbody>\n",
       "</table>\n",
       "</div>"
      ],
      "text/plain": [
       "       error                                                              \\\n",
       "       count      mean       std       min       25%       50%       75%   \n",
       "kind                                                                       \n",
       "test   200.0  0.177548  0.000499  0.175121  0.177536  0.177536  0.177536   \n",
       "train  200.0  0.186080  0.009995  0.155000  0.179750  0.187000  0.192000   \n",
       "\n",
       "                 \n",
       "            max  \n",
       "kind             \n",
       "test   0.182367  \n",
       "train  0.210000  "
      ]
     },
     "execution_count": 189,
     "metadata": {},
     "output_type": "execute_result"
    }
   ],
   "source": [
    "result.groupby(\"kind\").describe()"
   ]
  },
  {
   "cell_type": "code",
   "execution_count": 7,
   "metadata": {},
   "outputs": [
    {
     "data": {
      "text/plain": [
       "array([1, 2, 3, 4])"
      ]
     },
     "execution_count": 7,
     "metadata": {},
     "output_type": "execute_result"
    }
   ],
   "source": [
    "r = pd.Series([1,2,3,4])\n",
    "r.values"
   ]
  },
  {
   "cell_type": "code",
   "execution_count": 200,
   "metadata": {},
   "outputs": [],
   "source": [
    "from sklearn import neighbors\n",
    "from sklearn import tree\n",
    "from sklearn.model_selection import train_test_split\n",
    "from sklearn.utils import shuffle\n",
    "import seaborn as sns\n",
    "import pandas as pd\n",
    "\n",
    "X_tr, X_te, y_tr, y_te = train_test_split(X,y,test_size=0.2)\n",
    "n = 500\n",
    "err,depth,kind = [],[],[]\n",
    "D = range(1,16)\n",
    "for d in D:\n",
    "    #knn = neighbors.KNeighborsClassifier(n_neighbors=k)\n",
    "    t = tree.DecisionTreeClassifier(max_depth=d)   \n",
    "    for i in range(100):\n",
    "        X_tr,y_tr = shuffle(X_tr,y_tr,random_state=1)\n",
    "        t.fit(X_tr[:n,:],y_tr[:n])   # training\n",
    "        err.append(1-t.score(X_tr[:n,:],y_tr[:n]))\n",
    "        err.append(1-t.score(X_te,y_te))\n",
    "        depth.extend([d,d])\n",
    "        kind.extend([\"train\",\"test\"])\n",
    "\n",
    "result = pd.DataFrame({\"error\":err,\"kind\":kind,\"depth\":depth})"
   ]
  },
  {
   "cell_type": "code",
   "execution_count": 201,
   "metadata": {},
   "outputs": [
    {
     "data": {
      "image/png": "[encoded data removed]",
      "text/plain": [
       "<Figure size 419.375x360 with 1 Axes>"
      ]
     },
     "metadata": {
      "needs_background": "light"
     },
     "output_type": "display_data"
    }
   ],
   "source": [
    "sns.relplot(data=result,x=\"depth\",y=\"error\",kind=\"line\",hue=\"kind\",ci=\"sd\");"
   ]
  },
  {
   "cell_type": "code",
   "execution_count": 97,
   "metadata": {},
   "outputs": [],
   "source": [
    "from sklearn import neighbors\n",
    "from sklearn import tree\n",
    "from sklearn.model_selection import train_test_split\n",
    "from sklearn.utils import shuffle\n",
    "import seaborn as sns\n",
    "import pandas as pd\n",
    "\n",
    "X_tr, X_te, y_tr, y_te = X[:80,:],X[80:100,:],y[:80],y[80:100]\n",
    "n = 80\n",
    "err,n_neigh,kind = [],[],[]\n",
    "K = range(2,40,4)\n",
    "for k in K:\n",
    "    # knn = tree.DecisionTreeClassifier(max_depth=k)   # specification\n",
    "    knn = neighbors.KNeighborsClassifier(n_neighbors=k)\n",
    "    knn.fit(X_tr[:n,:],y_tr[:n])   # training\n",
    "    err.append(1-knn.score(X_tr[:n,:],y_tr[:n]))\n",
    "    err.append(1-knn.score(X_te,y_te))\n",
    "    n_neigh.extend([k,k])\n",
    "    kind.extend([\"train\",\"test\"])\n",
    "\n",
    "result = pd.DataFrame({\"error\":err,\"kind\":kind,\"k\":n_neigh})"
   ]
  },
  {
   "cell_type": "code",
   "execution_count": 116,
   "metadata": {},
   "outputs": [
    {
     "data": {
      "text/plain": [
       "0.9125"
      ]
     },
     "execution_count": 116,
     "metadata": {},
     "output_type": "execute_result"
    }
   ],
   "source": [
    "knn = neighbors.KNeighborsClassifier(n_neighbors=30)\n",
    "knn.fit(X_tr[:,:2],y_tr)   # training\n",
    "knn.score(X_tr[:,:2],y_tr)"
   ]
  },
  {
   "cell_type": "code",
   "execution_count": 152,
   "metadata": {},
   "outputs": [
    {
     "data": {
      "text/plain": [
       "array([[ 3.6000e+03,  2.3750e+03,  7.6310e+01, ..., -1.0000e+00,\n",
       "        -1.0000e+00,  1.0000e+00],\n",
       "       [ 2.3000e+04,  2.3000e+04,  7.6789e+02, ..., -1.0000e+00,\n",
       "        -1.0000e+00,  1.0000e+00],\n",
       "       [ 7.0000e+03,  7.0000e+03,  2.2584e+02, ..., -1.0000e+00,\n",
       "        -1.0000e+00,  1.0000e+00],\n",
       "       ...,\n",
       "       [ 1.0000e+04,  1.0000e+04,  3.1111e+02, ..., -1.0000e+00,\n",
       "        -1.0000e+00,  1.0000e+00],\n",
       "       [ 3.5000e+03,  3.5000e+03,  1.1961e+02, ..., -1.0000e+00,\n",
       "        -1.0000e+00,  1.0000e+00],\n",
       "       [ 8.3250e+03,  8.3250e+03,  2.8248e+02, ..., -1.0000e+00,\n",
       "        -1.0000e+00,  1.0000e+00]])"
      ]
     },
     "execution_count": 152,
     "metadata": {},
     "output_type": "execute_result"
    }
   ],
   "source": [
    "X"
   ]
  },
  {
   "cell_type": "code",
   "execution_count": 110,
   "metadata": {},
   "outputs": [],
   "source": [
    "X_tr, X_te, y_tr, y_te = X[:80,:],X[80:100,:],y[:80],y[80:100]\n"
   ]
  },
  {
   "cell_type": "code",
   "execution_count": 118,
   "metadata": {},
   "outputs": [
    {
     "data": {
      "text/plain": [
       "array([-2.,  0.,  0.,  0., -2.,  0.,  0.,  0.,  0.,  0.,  0.,  0., -2.,\n",
       "        0.,  0.,  0.,  0.,  0.,  0.,  0.,  0.,  0.,  0.,  0.,  0.,  0.,\n",
       "        0.,  0.,  2.,  0.,  0.,  0.,  0.,  0.,  0.,  0.,  0.,  0.,  0.,\n",
       "        0.,  0.,  0.,  0.,  0.,  0.,  0.,  0.,  0.,  0.,  0.,  2.,  0.,\n",
       "        0.,  0.,  0.,  0.,  0.,  0.,  0.,  0.,  0., -2.,  0.,  0.,  0.,\n",
       "        0., -2.,  0.,  0.,  0.,  0.,  0.,  0.,  0.,  0.,  0.,  0.,  0.,\n",
       "        0.,  0.])"
      ]
     },
     "execution_count": 118,
     "metadata": {},
     "output_type": "execute_result"
    }
   ],
   "source": [
    "knn.predict(X_tr[:,:2])-y_tr"
   ]
  },
  {
   "cell_type": "code",
   "execution_count": 6,
   "metadata": {},
   "outputs": [
    {
     "data": {
      "text/plain": [
       "(1797, 64)"
      ]
     },
     "execution_count": 6,
     "metadata": {},
     "output_type": "execute_result"
    }
   ],
   "source": [
    "from sklearn import datasets\n",
    "digits = datasets.load_digits()\n",
    "X = digits.data\n",
    "y = digits.target\n",
    "X.shape"
   ]
  },
  {
   "cell_type": "code",
   "execution_count": 30,
   "metadata": {},
   "outputs": [
    {
     "data": {
      "image/png": "[encoded data removed]",
      "text/plain": [
       "<Figure size 432x288 with 2 Axes>"
      ]
     },
     "metadata": {
      "needs_background": "light"
     },
     "output_type": "display_data"
    }
   ],
   "source": [
    "from sklearn import neighbors\n",
    "from sklearn.model_selection import train_test_split\n",
    "from sklearn import metrics\n",
    "\n",
    "X_tr,X_te,y_tr,y_te = train_test_split(X,y,test_size=0.25,random_state=7)\n",
    "\n",
    "knn = neighbors.KNeighborsClassifier(n_neighbors=16)\n",
    "knn.fit(X_tr,y_tr)\n",
    "yhat = knn.predict(X_te)\n",
    "\n",
    "C = metrics.confusion_matrix(y_te,yhat)\n",
    "metrics.ConfusionMatrixDisplay(C).plot();"
   ]
  },
  {
   "cell_type": "code",
   "execution_count": 34,
   "metadata": {},
   "outputs": [
    {
     "name": "stdout",
     "output_type": "stream",
     "text": [
      "['100.0%', '90.6%', '100.0%', '95.6%', '97.9%', '95.0%', '100.0%', '97.6%', '91.7%', '100.0%']\n"
     ]
    }
   ],
   "source": [
    "prec = metrics.precision_score(y_te,yhat,average=None)\n",
    "print([f\"{p:.1%}\" for p in prec])"
   ]
  },
  {
   "cell_type": "code",
   "execution_count": 31,
   "metadata": {},
   "outputs": [
    {
     "data": {
      "text/plain": [
       "array([0.99029126, 0.95049505, 0.95652174, 0.97727273, 0.98947368,\n",
       "       0.97435897, 1.        , 0.98795181, 0.89795918, 0.95348837])"
      ]
     },
     "execution_count": 31,
     "metadata": {},
     "output_type": "execute_result"
    }
   ],
   "source": [
    "metrics.f1_score(y_te,yhat,average=None)"
   ]
  },
  {
   "cell_type": "code",
   "execution_count": 25,
   "metadata": {},
   "outputs": [
    {
     "data": {
      "text/plain": [
       "array([0, 1, 2, ..., 8, 9, 8])"
      ]
     },
     "execution_count": 25,
     "metadata": {},
     "output_type": "execute_result"
    }
   ],
   "source": [
    "y"
   ]
  },
  {
   "cell_type": "code",
   "execution_count": 37,
   "metadata": {},
   "outputs": [
    {
     "name": "stdout",
     "output_type": "stream",
     "text": [
      "[0.9683239742437856, 0.9683239742437856]\n"
     ]
    }
   ],
   "source": [
    "mac = metrics.precision_score(y_te,yhat,average=\"macro\")\n",
    "print([mac,prec.mean()])"
   ]
  },
  {
   "cell_type": "code",
   "execution_count": 45,
   "metadata": {},
   "outputs": [
    {
     "data": {
      "text/plain": [
       "KNeighborsClassifier(n_neighbors=16)"
      ]
     },
     "execution_count": 45,
     "metadata": {},
     "output_type": "execute_result"
    }
   ],
   "source": [
    "import seaborn as sns\n",
    "penguins = sns.load_dataset(\"penguins\")\n",
    "penguins = penguins.dropna()\n",
    "penguins\n",
    "X = penguins[[\"bill_length_mm\",\"bill_depth_mm\",\"flipper_length_mm\",\"body_mass_g\"]]\n",
    "y = penguins[\"species\"]\n",
    "knn.fit(X,y)"
   ]
  },
  {
   "cell_type": "code",
   "execution_count": null,
   "metadata": {},
   "outputs": [],
   "source": []
  },
  {
   "cell_type": "code",
   "execution_count": 201,
   "metadata": {},
   "outputs": [
    {
     "name": "stdout",
     "output_type": "stream",
     "text": [
      "k = 2 : 75.02%\n",
      "k = 3 : 78.13%\n",
      "k = 4 : 77.43%\n",
      "k = 5 : 77.97%\n",
      "k = 6 : 77.67%\n",
      "k = 7 : 77.69%\n",
      "k = 8 : 77.19%\n",
      "k = 9 : 77.04%\n",
      "k = 10 : 76.75%\n"
     ]
    }
   ],
   "source": [
    "from sklearn.model_selection import cross_val_score,KFold\n",
    "from sklearn.pipeline import make_pipeline\n",
    "from sklearn.preprocessing import StandardScaler   # converts to z-scores\n",
    "\n",
    "\n",
    "X = forest[\"data\"][:30000,:10]\n",
    "y = forest[\"target\"][:30000]\n",
    "X_tr, X_te, y_tr, y_te = train_test_split(X,y,test_size=0.2)\n",
    "\n",
    "K = range(2,11)\n",
    "acc = []\n",
    "kf = KFold(n_splits=6,shuffle=True,random_state=0)\n",
    "for k in K:\n",
    "    knn = neighbors.KNeighborsClassifier(n_neighbors=k)\n",
    "    pipe = make_pipeline(StandardScaler(),knn)\n",
    "    scores = cross_val_score(pipe,X_tr,y_tr,cv=kf,scoring=\"balanced_accuracy\")\n",
    "    acc.append(scores.mean())\n",
    "\n",
    "for (k,a) in zip(K,acc):\n",
    "    print(\"k =\",k,\":\",f\"{a:.2%}\")"
   ]
  },
  {
   "cell_type": "code",
   "execution_count": 197,
   "metadata": {},
   "outputs": [
    {
     "name": "stdout",
     "output_type": "stream",
     "text": [
      "[0.76223001 0.75936648 0.77391623 0.76954516 0.7428635  0.75551178]\n"
     ]
    }
   ],
   "source": [
    "X = forest[\"data\"][:20000,:10]\n",
    "y = forest[\"target\"][:20000]\n",
    "X_tr, X_te, y_tr, y_te = train_test_split(X,y,test_size=0.2)\n",
    "\n",
    "kf = KFold(n_splits=6,shuffle=True,random_state=0)\n",
    "knn = neighbors.KNeighborsClassifier(n_neighbors=4)\n",
    "pipe = make_pipeline(StandardScaler(),knn)\n",
    "scores = cross_val_score(pipe,X_tr,y_tr,cv=kf,scoring=\"balanced_accuracy\")\n",
    "\n",
    "print(scores)"
   ]
  },
  {
   "cell_type": "code",
   "execution_count": 48,
   "metadata": {},
   "outputs": [],
   "source": [
    "col=X.columns"
   ]
  },
  {
   "cell_type": "code",
   "execution_count": 50,
   "metadata": {},
   "outputs": [],
   "source": [
    "xdf=pd.DataFrame([x_new],columns=col[[3,0,2,1]])"
   ]
  },
  {
   "cell_type": "code",
   "execution_count": 52,
   "metadata": {},
   "outputs": [
    {
     "name": "stdout",
     "output_type": "stream",
     "text": [
      "accuracy is 83.2%\n"
     ]
    }
   ],
   "source": [
    "import numpy as np\n",
    "from sklearn import neighbors as nbr \n",
    "\n",
    "X = np.loadtxt(\"data.csv\",delimiter=\",\")\n",
    "y = np.loadtxt(\"labels.csv\",delimiter=\",\")\n",
    "knn = nbr.KNeighborsClassifier(n_neighbors=11)   # specification\n",
    "knn.fit(X,y) \n",
    "print(f\"accuracy is {knn.score(X,y):.1%}\")\n"
   ]
  },
  {
   "cell_type": "code",
   "execution_count": 53,
   "metadata": {},
   "outputs": [
    {
     "name": "stdout",
     "output_type": "stream",
     "text": [
      "feature matrix has shape (4140, 15)\n",
      "label vector has shape (4140,)\n"
     ]
    }
   ],
   "source": [
    "import numpy as np\n",
    "X = np.loadtxt(\"data.csv\",delimiter=\",\")\n",
    "print(\"feature matrix has shape\",X.shape)\n",
    "y = np.loadtxt(\"labels.csv\",delimiter=\",\")\n",
    "print(\"label vector has shape\",y.shape)\n"
   ]
  },
  {
   "cell_type": "code",
   "execution_count": 54,
   "metadata": {},
   "outputs": [
    {
     "data": {
      "text/plain": [
       "KNeighborsClassifier(n_neighbors=11)"
      ]
     },
     "execution_count": 54,
     "metadata": {},
     "output_type": "execute_result"
    }
   ],
   "source": [
    "from sklearn import neighbors as nbr \n",
    "knn = nbr.KNeighborsClassifier(n_neighbors=11)   # specification\n",
    "knn.fit(X,y)            # training\n"
   ]
  },
  {
   "cell_type": "code",
   "execution_count": 58,
   "metadata": {},
   "outputs": [
    {
     "data": {
      "text/plain": [
       "array([-1.])"
      ]
     },
     "execution_count": 58,
     "metadata": {},
     "output_type": "execute_result"
    }
   ],
   "source": [
    "Xq = 100*np.ones((1,15))\n",
    "knn.predict(Xq*15)"
   ]
  },
  {
   "cell_type": "code",
   "execution_count": 60,
   "metadata": {},
   "outputs": [
    {
     "ename": "ValueError",
     "evalue": "Found input variables with inconsistent numbers of samples: [4140, 450]",
     "output_type": "error",
     "traceback": [
      "\u001b[0;31m---------------------------------------------------------------------------\u001b[0m",
      "\u001b[0;31mValueError\u001b[0m                                Traceback (most recent call last)",
      "\u001b[0;32m/var/folders/cn/8w40979d27x0kv2wsnx7zgvm0000gp/T/ipykernel_29166/1667477304.py\u001b[0m in \u001b[0;36m<module>\u001b[0;34m\u001b[0m\n\u001b[1;32m      1\u001b[0m \u001b[0;32mfrom\u001b[0m \u001b[0msklearn\u001b[0m \u001b[0;32mimport\u001b[0m \u001b[0mmetrics\u001b[0m\u001b[0;34m\u001b[0m\u001b[0;34m\u001b[0m\u001b[0m\n\u001b[1;32m      2\u001b[0m \u001b[0;34m\u001b[0m\u001b[0m\n\u001b[0;32m----> 3\u001b[0;31m \u001b[0macc\u001b[0m \u001b[0;34m=\u001b[0m \u001b[0mmetrics\u001b[0m\u001b[0;34m.\u001b[0m\u001b[0maccuracy_score\u001b[0m\u001b[0;34m(\u001b[0m\u001b[0my\u001b[0m\u001b[0;34m,\u001b[0m\u001b[0myhat\u001b[0m\u001b[0;34m)\u001b[0m\u001b[0;34m\u001b[0m\u001b[0;34m\u001b[0m\u001b[0m\n\u001b[0m\u001b[1;32m      4\u001b[0m \u001b[0mprint\u001b[0m\u001b[0;34m(\u001b[0m\u001b[0;34mf\"accuracy is {acc:.1%}\"\u001b[0m\u001b[0;34m)\u001b[0m\u001b[0;34m\u001b[0m\u001b[0;34m\u001b[0m\u001b[0m\n",
      "\u001b[0;32m~/anaconda3/lib/python3.8/site-packages/sklearn/metrics/_classification.py\u001b[0m in \u001b[0;36maccuracy_score\u001b[0;34m(y_true, y_pred, normalize, sample_weight)\u001b[0m\n\u001b[1;32m    203\u001b[0m \u001b[0;34m\u001b[0m\u001b[0m\n\u001b[1;32m    204\u001b[0m     \u001b[0;31m# Compute accuracy for each possible representation\u001b[0m\u001b[0;34m\u001b[0m\u001b[0;34m\u001b[0m\u001b[0;34m\u001b[0m\u001b[0m\n\u001b[0;32m--> 205\u001b[0;31m     \u001b[0my_type\u001b[0m\u001b[0;34m,\u001b[0m \u001b[0my_true\u001b[0m\u001b[0;34m,\u001b[0m \u001b[0my_pred\u001b[0m \u001b[0;34m=\u001b[0m \u001b[0m_check_targets\u001b[0m\u001b[0;34m(\u001b[0m\u001b[0my_true\u001b[0m\u001b[0;34m,\u001b[0m \u001b[0my_pred\u001b[0m\u001b[0;34m)\u001b[0m\u001b[0;34m\u001b[0m\u001b[0;34m\u001b[0m\u001b[0m\n\u001b[0m\u001b[1;32m    206\u001b[0m     \u001b[0mcheck_consistent_length\u001b[0m\u001b[0;34m(\u001b[0m\u001b[0my_true\u001b[0m\u001b[0;34m,\u001b[0m \u001b[0my_pred\u001b[0m\u001b[0;34m,\u001b[0m \u001b[0msample_weight\u001b[0m\u001b[0;34m)\u001b[0m\u001b[0;34m\u001b[0m\u001b[0;34m\u001b[0m\u001b[0m\n\u001b[1;32m    207\u001b[0m     \u001b[0;32mif\u001b[0m \u001b[0my_type\u001b[0m\u001b[0;34m.\u001b[0m\u001b[0mstartswith\u001b[0m\u001b[0;34m(\u001b[0m\u001b[0;34m\"multilabel\"\u001b[0m\u001b[0;34m)\u001b[0m\u001b[0;34m:\u001b[0m\u001b[0;34m\u001b[0m\u001b[0;34m\u001b[0m\u001b[0m\n",
      "\u001b[0;32m~/anaconda3/lib/python3.8/site-packages/sklearn/metrics/_classification.py\u001b[0m in \u001b[0;36m_check_targets\u001b[0;34m(y_true, y_pred)\u001b[0m\n\u001b[1;32m     82\u001b[0m     \u001b[0my_pred\u001b[0m \u001b[0;34m:\u001b[0m \u001b[0marray\u001b[0m \u001b[0;32mor\u001b[0m \u001b[0mindicator\u001b[0m \u001b[0mmatrix\u001b[0m\u001b[0;34m\u001b[0m\u001b[0;34m\u001b[0m\u001b[0m\n\u001b[1;32m     83\u001b[0m     \"\"\"\n\u001b[0;32m---> 84\u001b[0;31m     \u001b[0mcheck_consistent_length\u001b[0m\u001b[0;34m(\u001b[0m\u001b[0my_true\u001b[0m\u001b[0;34m,\u001b[0m \u001b[0my_pred\u001b[0m\u001b[0;34m)\u001b[0m\u001b[0;34m\u001b[0m\u001b[0;34m\u001b[0m\u001b[0m\n\u001b[0m\u001b[1;32m     85\u001b[0m     \u001b[0mtype_true\u001b[0m \u001b[0;34m=\u001b[0m \u001b[0mtype_of_target\u001b[0m\u001b[0;34m(\u001b[0m\u001b[0my_true\u001b[0m\u001b[0;34m)\u001b[0m\u001b[0;34m\u001b[0m\u001b[0;34m\u001b[0m\u001b[0m\n\u001b[1;32m     86\u001b[0m     \u001b[0mtype_pred\u001b[0m \u001b[0;34m=\u001b[0m \u001b[0mtype_of_target\u001b[0m\u001b[0;34m(\u001b[0m\u001b[0my_pred\u001b[0m\u001b[0;34m)\u001b[0m\u001b[0;34m\u001b[0m\u001b[0;34m\u001b[0m\u001b[0m\n",
      "\u001b[0;32m~/anaconda3/lib/python3.8/site-packages/sklearn/utils/validation.py\u001b[0m in \u001b[0;36mcheck_consistent_length\u001b[0;34m(*arrays)\u001b[0m\n\u001b[1;32m    329\u001b[0m     \u001b[0muniques\u001b[0m \u001b[0;34m=\u001b[0m \u001b[0mnp\u001b[0m\u001b[0;34m.\u001b[0m\u001b[0munique\u001b[0m\u001b[0;34m(\u001b[0m\u001b[0mlengths\u001b[0m\u001b[0;34m)\u001b[0m\u001b[0;34m\u001b[0m\u001b[0;34m\u001b[0m\u001b[0m\n\u001b[1;32m    330\u001b[0m     \u001b[0;32mif\u001b[0m \u001b[0mlen\u001b[0m\u001b[0;34m(\u001b[0m\u001b[0muniques\u001b[0m\u001b[0;34m)\u001b[0m \u001b[0;34m>\u001b[0m \u001b[0;36m1\u001b[0m\u001b[0;34m:\u001b[0m\u001b[0;34m\u001b[0m\u001b[0;34m\u001b[0m\u001b[0m\n\u001b[0;32m--> 331\u001b[0;31m         raise ValueError(\n\u001b[0m\u001b[1;32m    332\u001b[0m             \u001b[0;34m\"Found input variables with inconsistent numbers of samples: %r\"\u001b[0m\u001b[0;34m\u001b[0m\u001b[0;34m\u001b[0m\u001b[0m\n\u001b[1;32m    333\u001b[0m             \u001b[0;34m%\u001b[0m \u001b[0;34m[\u001b[0m\u001b[0mint\u001b[0m\u001b[0;34m(\u001b[0m\u001b[0ml\u001b[0m\u001b[0;34m)\u001b[0m \u001b[0;32mfor\u001b[0m \u001b[0ml\u001b[0m \u001b[0;32min\u001b[0m \u001b[0mlengths\u001b[0m\u001b[0;34m]\u001b[0m\u001b[0;34m\u001b[0m\u001b[0;34m\u001b[0m\u001b[0m\n",
      "\u001b[0;31mValueError\u001b[0m: Found input variables with inconsistent numbers of samples: [4140, 450]"
     ]
    }
   ],
   "source": [
    "from sklearn import metrics\n",
    "\n",
    "acc = metrics.accuracy_score(y,yhat)\n",
    "print(f\"accuracy is {acc:.1%}\")\n"
   ]
  },
  {
   "cell_type": "code",
   "execution_count": 61,
   "metadata": {},
   "outputs": [
    {
     "name": "stdout",
     "output_type": "stream",
     "text": [
      "Object `knn.score()` not found.\n"
     ]
    }
   ],
   "source": [
    "from sklearn import neighbors \n",
    "?knn.score()"
   ]
  },
  {
   "cell_type": "code",
   "execution_count": 2,
   "metadata": {},
   "outputs": [
    {
     "data": {
      "text/html": [
       "<div>\n",
       "<style scoped>\n",
       "    .dataframe tbody tr th:only-of-type {\n",
       "        vertical-align: middle;\n",
       "    }\n",
       "\n",
       "    .dataframe tbody tr th {\n",
       "        vertical-align: top;\n",
       "    }\n",
       "\n",
       "    .dataframe thead th {\n",
       "        text-align: right;\n",
       "    }\n",
       "</style>\n",
       "<table border=\"1\" class=\"dataframe\">\n",
       "  <thead>\n",
       "    <tr style=\"text-align: right;\">\n",
       "      <th></th>\n",
       "      <th>bill_length_mm</th>\n",
       "      <th>bill_depth_mm</th>\n",
       "      <th>flipper_length_mm</th>\n",
       "      <th>body_mass_g</th>\n",
       "    </tr>\n",
       "  </thead>\n",
       "  <tbody>\n",
       "    <tr>\n",
       "      <th>0</th>\n",
       "      <td>39</td>\n",
       "      <td>19</td>\n",
       "      <td>180</td>\n",
       "      <td>3750</td>\n",
       "    </tr>\n",
       "  </tbody>\n",
       "</table>\n",
       "</div>"
      ],
      "text/plain": [
       "   bill_length_mm  bill_depth_mm  flipper_length_mm  body_mass_g\n",
       "0              39             19                180         3750"
      ]
     },
     "execution_count": 2,
     "metadata": {},
     "output_type": "execute_result"
    }
   ],
   "source": [
    "from sklearn import neighbors \n",
    "import seaborn as sns\n",
    "penguins = sns.load_dataset(\"penguins\")\n",
    "penguins = penguins.dropna()\n",
    "X = penguins[[\"bill_length_mm\",\"bill_depth_mm\",\"flipper_length_mm\",\"body_mass_g\"]]\n",
    "y = penguins[\"species\"]\n",
    "knn = neighbors.KNeighborsClassifier(n_neighbors=5)\n",
    "knn.fit(X,y);\n",
    "import pandas as pd\n",
    "x_new = [39,19,180,3750]\n",
    "xdf = pd.DataFrame([x_new],columns=X.columns)\n",
    "xdf\n"
   ]
  },
  {
   "cell_type": "code",
   "execution_count": 3,
   "metadata": {},
   "outputs": [
    {
     "data": {
      "text/plain": [
       "array(['Adelie'], dtype=object)"
      ]
     },
     "execution_count": 3,
     "metadata": {},
     "output_type": "execute_result"
    }
   ],
   "source": [
    "knn.predict(xdf)"
   ]
  },
  {
   "cell_type": "code",
   "execution_count": 12,
   "metadata": {},
   "outputs": [
    {
     "name": "stdout",
     "output_type": "stream",
     "text": [
      "              precision    recall  f1-score   support\n",
      "\n",
      "      Adelie       0.97      1.00      0.98        30\n",
      "   Chinstrap       1.00      0.90      0.95        10\n",
      "      Gentoo       1.00      1.00      1.00        27\n",
      "\n",
      "    accuracy                           0.99        67\n",
      "   macro avg       0.99      0.97      0.98        67\n",
      "weighted avg       0.99      0.99      0.98        67\n",
      "\n"
     ]
    }
   ],
   "source": [
    "import seaborn as sns\n",
    "import pandas as pd\n",
    "penguins = sns.load_dataset(\"penguins\")\n",
    "penguins = penguins.dropna()\n",
    "col = [\"bill_length_mm\",\"bill_depth_mm\",\"flipper_length_mm\",\"body_mass_g\"]\n",
    "X = penguins[col]\n",
    "y = penguins[\"species\"]\n",
    "from sklearn import neighbors\n",
    "from sklearn.model_selection import train_test_split\n",
    "from sklearn.metrics import classification_report\n",
    "Z = X.transform( lambda x: (x-x.mean())/x.std() )\n",
    "Z_tr, Z_te, y_tr, y_te = train_test_split(Z,y,test_size=0.2)\n",
    "knn.fit(Z_tr,y_tr)\n",
    "\n",
    "yhat = knn.predict(Z_te)\n",
    "print(classification_report(y_te,yhat))"
   ]
  },
  {
   "cell_type": "code",
   "execution_count": 161,
   "metadata": {},
   "outputs": [],
   "source": [
    "from sklearn import datasets\n",
    "\n",
    "forest = datasets.fetch_covtype()\n",
    "X = forest[\"data\"][:250000,:8]\n",
    "y = forest[\"target\"][:250000]"
   ]
  },
  {
   "cell_type": "code",
   "execution_count": 164,
   "metadata": {},
   "outputs": [],
   "source": [
    "from sklearn import neighbors,metrics\n",
    "from sklearn.model_selection import train_test_split\n",
    "from sklearn.utils import shuffle\n",
    "from sklearn import tree\n",
    "import numpy as np\n",
    "\n",
    "X_tr, X_te, y_tr, y_te = train_test_split(X,y,test_size=0.08,shuffle=True,random_state=0)\n",
    "\n",
    "n = 5000             # size of the training subset\n",
    "err,kind,depth = [],[],[]\n",
    "for d in range(2,13,1):\n",
    "    for i in range(50):\n",
    "        X_tr,y_tr = shuffle(X_tr,y_tr,random_state=0)\n",
    "        XX,yy = X_tr[:n,:],y_tr[:n]\n",
    "        dt = tree.DecisionTreeClassifier(max_depth=d) \n",
    "        dt.fit(XX,yy)\n",
    "        err.append(1-dt.score(XX,yy))\n",
    "        err.append(1-dt.score(X_te,y_te))\n",
    "        kind.extend([\"train\",\"test\"])\n",
    "        depth.extend([d,d])\n",
    "\n",
    "result = pd.DataFrame({\"error\":err,\"kind\":kind,\"depth\":depth})\n"
   ]
  },
  {
   "cell_type": "code",
   "execution_count": 165,
   "metadata": {},
   "outputs": [
    {
     "data": {
      "text/plain": [
       "<seaborn.axisgrid.FacetGrid at 0x7fbe5b211f70>"
      ]
     },
     "execution_count": 165,
     "metadata": {},
     "output_type": "execute_result"
    },
    {
     "data": {
      "image/png": "[encoded data removed]",
      "text/plain": [
       "<Figure size 419.375x360 with 1 Axes>"
      ]
     },
     "metadata": {
      "needs_background": "light"
     },
     "output_type": "display_data"
    }
   ],
   "source": [
    "result = pd.DataFrame({\"error\":err,\"kind\":kind,\"depth\":depth})\n",
    "sns.relplot(data=result,x=\"depth\",y=\"error\",kind=\"line\",ci=\"sd\",hue=\"kind\")"
   ]
  },
  {
   "cell_type": "code",
   "execution_count": 103,
   "metadata": {},
   "outputs": [],
   "source": [
    "X_tr, X_te, y_tr, y_te = train_test_split(X,y,test_size=0.2,shuffle=True,random_state=0)\n"
   ]
  },
  {
   "cell_type": "code",
   "execution_count": 151,
   "metadata": {},
   "outputs": [],
   "source": [
    "X_tr, X_te, y_tr, y_te = train_test_split(X,y,test_size=0.1,shuffle=True,random_state=0)\n",
    "\n",
    "n = 5000             # size of the training subset\n",
    "XX,yy = X_tr[:n,:],y_tr[:n]\n",
    "D = range(2,13,1)\n",
    "err,kind,depth = [],[],[]\n",
    "for d in D:\n",
    "    for i in range(50):\n",
    "        dt = tree.DecisionTreeClassifier(max_depth=d) \n",
    "        dt.fit(XX,yy)\n",
    "        err.append(1-dt.score(XX,yy))\n",
    "        err.append(1-dt.score(X_te,y_te))\n",
    "        kind.extend([\"train\",\"test\"])\n",
    "        depth.extend([d,d])\n",
    "        X_tr,y_tr = shuffle(X_tr,y_tr,random_state=0)\n",
    "        XX[:],yy[:] = X_tr[:n,:],y_tr[:n]\n",
    "\n",
    "result = pd.DataFrame({\"error\":err,\"kind\":kind,\"depth\":depth})\n"
   ]
  },
  {
   "cell_type": "code",
   "execution_count": 274,
   "metadata": {},
   "outputs": [
    {
     "name": "stdout",
     "output_type": "stream",
     "text": [
      "feature matrix has shape (4140, 15)\n",
      "label vector has shape (4140,)\n"
     ]
    }
   ],
   "source": [
    "import numpy as np\n",
    "X = np.loadtxt(\"data.csv\",delimiter=\",\")\n",
    "print(\"feature matrix has shape\",X.shape)\n",
    "y = np.loadtxt(\"labels.csv\",delimiter=\",\")\n",
    "print(\"label vector has shape\",y.shape)\n"
   ]
  },
  {
   "cell_type": "code",
   "execution_count": 211,
   "metadata": {},
   "outputs": [
    {
     "data": {
      "text/plain": [
       "<seaborn.axisgrid.FacetGrid at 0x7fbdf865e940>"
      ]
     },
     "execution_count": 211,
     "metadata": {},
     "output_type": "execute_result"
    },
    {
     "data": {
      "image/png": "[encoded data removed]",
      "text/plain": [
       "<Figure size 419.375x360 with 1 Axes>"
      ]
     },
     "metadata": {
      "needs_background": "light"
     },
     "output_type": "display_data"
    }
   ],
   "source": [
    "from sklearn import datasets\n",
    "\n",
    "forest = datasets.fetch_covtype()\n",
    "X = forest[\"data\"][:200000,:8]\n",
    "y = forest[\"target\"][:200000]\n",
    "\n",
    "from sklearn import tree\n",
    "\n",
    "X_tr, X_te, y_tr, y_te = train_test_split(X,y,test_size=0.05,shuffle=True,random_state=0)\n",
    "\n",
    "N = range(200,4000,200)             # size of the training subset\n",
    "err,kind,length = [],[],[]\n",
    "dt = tree.DecisionTreeClassifier(max_depth=4) \n",
    "for n in N:\n",
    "    for i in range(50):\n",
    "        X_tr,y_tr = shuffle(X_tr,y_tr,random_state=1)\n",
    "        XX,yy = X_tr[:n,:],y_tr[:n]\n",
    "        dt.fit(XX,yy)\n",
    "        err.append(1-dt.score(XX,yy))\n",
    "        err.append(1-dt.score(X_te,y_te))\n",
    "        kind.extend([\"train\",\"test\"])\n",
    "        length.extend([n,n])\n",
    "\n",
    "result = pd.DataFrame({\"error\":err,\"kind\":kind,\"training set size\":length})\n",
    "sns.relplot(data=result,x=\"training set size\",y=\"error\",kind=\"line\",ci=\"sd\",hue=\"kind\")"
   ]
  },
  {
   "cell_type": "code",
   "execution_count": 271,
   "metadata": {},
   "outputs": [],
   "source": [
    "X_te.shape\n",
    "forest = datasets.fetch_covtype()\n",
    "X = forest[\"data\"][:250000,:8]\n",
    "y = forest[\"target\"][:250000]\n"
   ]
  },
  {
   "cell_type": "code",
   "execution_count": 268,
   "metadata": {},
   "outputs": [],
   "source": [
    "from sklearn.model_selection import cross_validate,KFold\n",
    "X_tr, X_te, y_tr, y_te = train_test_split(X,y,test_size=0.05,shuffle=True,random_state=0)\n",
    "\n",
    "n = 20000             # size of the training subset\n",
    "X_tr,y_tr = X_tr[:n,:],y_tr[:n]\n",
    "depth = range(2,21,1)\n",
    "kind = [\"train\"]*6\n",
    "kind.extend([\"test\"]*6)\n",
    "result = pd.DataFrame()\n",
    "kf = KFold(n_splits=6,shuffle=True,random_state=0)\n",
    "for d in depth:\n",
    "    dt = tree.DecisionTreeClassifier(max_depth=d)\n",
    "    cv = cross_validate(dt,X_tr,y_tr,cv=kf,return_train_score=True)\n",
    "    err = np.hstack((1-cv[\"train_score\"],1-cv[\"test_score\"]))\n",
    "    keep = {\"depth\":d, \"error\":err,\"kind\":kind} \n",
    "    result = pd.concat((result,pd.DataFrame(keep)),ignore_index=True)\n",
    "\n",
    "sns.relplot(data=result,x=\"depth\",y=\"error\",kind=\"line\",ci=\"sd\",hue=\"kind\");\n"
   ]
  },
  {
   "cell_type": "code",
   "execution_count": 272,
   "metadata": {},
   "outputs": [
    {
     "name": "stdout",
     "output_type": "stream",
     "text": [
      "[0.73684347 0.74162961 0.74303044 0.73410987 0.73832602 0.74294791]\n"
     ]
    }
   ],
   "source": [
    "from sklearn.model_selection import cross_validate,KFold\n",
    "X_tr, X_te, y_tr, y_te = train_test_split(X,y,test_size=0.05)\n",
    "\n",
    "kf = KFold(n_splits=6,shuffle=True,random_state=0)\n",
    "knn = neighbors.KNeighborsClassifier(n_neighbors=5)\n",
    "pipe = make_pipeline(StandardScaler(),knn)\n",
    "scores = cross_validate(pipe,X_tr,y_tr,cv=kf,scoring=\"balanced_accuracy\")\n",
    "\n",
    "print(scores[\"test_score\"])\n"
   ]
  },
  {
   "cell_type": "code",
   "execution_count": 236,
   "metadata": {},
   "outputs": [
    {
     "data": {
      "text/plain": [
       "array([0.81202632, 0.81013158, 0.81286842, 0.81018421, 0.8125    ])"
      ]
     },
     "execution_count": 236,
     "metadata": {},
     "output_type": "execute_result"
    }
   ],
   "source": [
    "cv[\"test_score\"]"
   ]
  },
  {
   "cell_type": "code",
   "execution_count": 273,
   "metadata": {},
   "outputs": [
    {
     "data": {
      "image/png": "[encoded data removed]",
      "text/plain": [
       "<Figure size 419.375x360 with 1 Axes>"
      ]
     },
     "metadata": {
      "needs_background": "light"
     },
     "output_type": "display_data"
    }
   ],
   "source": [
    "n = 5000             # size of the training subset\n",
    "err,kind,depth = [],[],[]\n",
    "for d in range(2,13,1):\n",
    "    for i in range(50):\n",
    "        X_tr,y_tr = shuffle(X_tr,y_tr,random_state=0)\n",
    "        XX,yy = X_tr[:n,:],y_tr[:n]\n",
    "        dt = tree.DecisionTreeClassifier(max_depth=d) \n",
    "        dt.fit(XX,yy)\n",
    "        err.append(1-dt.score(XX,yy))\n",
    "        err.append(1-dt.score(X_te,y_te))\n",
    "        kind.extend([\"train\",\"test\"])\n",
    "        depth.extend([d,d])\n",
    "\n",
    "result = pd.DataFrame({\"error\":err,\"kind\":kind,\"depth\":depth})\n",
    "sns.relplot(data=result,x=\"depth\",y=\"error\",kind=\"line\",ci=\"sd\",hue=\"kind\");"
   ]
  },
  {
   "cell_type": "code",
   "execution_count": 4,
   "metadata": {},
   "outputs": [
    {
     "name": "stdout",
     "output_type": "stream",
     "text": [
      "train accuracy: 0.8173309178743962\n",
      "test accuracy: 0.8297101449275363\n"
     ]
    }
   ],
   "source": [
    "import numpy as np\n",
    "X = np.loadtxt(\"data.csv\",delimiter=\",\")\n",
    "y = np.loadtxt(\"labels.csv\",delimiter=\",\")\n",
    "\n",
    "from sklearn import svm\n",
    "from sklearn.model_selection import train_test_split\n",
    "from sklearn.metrics import confusion_matrix,classification_report\n",
    "\n",
    "X_tr, X_te, y_tr, y_te = train_test_split(X,y,test_size=0.2)\n",
    "\n",
    "svc = svm.SVC()\n",
    "svc.fit(X_tr,y_tr)\n",
    "\n",
    "print(\"train accuracy:\",svc.score(X_tr,y_tr))\n",
    "print(\"test accuracy:\",svc.score(X_te,y_te))"
   ]
  },
  {
   "cell_type": "code",
   "execution_count": 15,
   "metadata": {},
   "outputs": [
    {
     "name": "stdout",
     "output_type": "stream",
     "text": [
      "train accuracy: 0.8508454106280193\n",
      "test accuracy: 0.8623188405797102\n",
      "[[685   0]\n",
      " [114  29]]\n"
     ]
    }
   ],
   "source": [
    "svc = svm.SVC(C=100)\n",
    "svc.fit(X_tr,y_tr)\n",
    "\n",
    "print(\"train accuracy:\",svc.score(X_tr,y_tr))\n",
    "print(\"test accuracy:\",svc.score(X_te,y_te))\n",
    "\n",
    "yhat = svc.predict(X_te)\n",
    "print(confusion_matrix(y_te,yhat))"
   ]
  },
  {
   "cell_type": "code",
   "execution_count": 18,
   "metadata": {},
   "outputs": [
    {
     "data": {
      "text/plain": [
       "0.8541666666666666"
      ]
     },
     "execution_count": 18,
     "metadata": {},
     "output_type": "execute_result"
    }
   ],
   "source": [
    "svc = svm.SVC(C=1000)\n",
    "svc.fit(X_tr,y_tr)\n",
    "svc.score(X_tr,y_tr)"
   ]
  },
  {
   "cell_type": "code",
   "execution_count": 19,
   "metadata": {},
   "outputs": [
    {
     "name": "stdout",
     "output_type": "stream",
     "text": [
      "train accuracy: 0.8541666666666666\n",
      "test accuracy: 0.8671497584541062\n"
     ]
    }
   ],
   "source": [
    "print(\"train accuracy:\",svc.score(X_tr,y_tr))\n",
    "print(\"test accuracy:\",svc.score(X_te,y_te))\n"
   ]
  },
  {
   "cell_type": "code",
   "execution_count": 17,
   "metadata": {},
   "outputs": [
    {
     "name": "stdout",
     "output_type": "stream",
     "text": [
      "              precision    recall  f1-score   support\n",
      "\n",
      "        -1.0       0.86      1.00      0.92       685\n",
      "         1.0       1.00      0.20      0.34       143\n",
      "\n",
      "    accuracy                           0.86       828\n",
      "   macro avg       0.93      0.60      0.63       828\n",
      "weighted avg       0.88      0.86      0.82       828\n",
      "\n"
     ]
    }
   ],
   "source": [
    "print(classification_report(y_te,yhat))"
   ]
  },
  {
   "cell_type": "code",
   "execution_count": 37,
   "metadata": {},
   "outputs": [
    {
     "name": "stdout",
     "output_type": "stream",
     "text": [
      "[[676   5]\n",
      " [126  21]]\n"
     ]
    }
   ],
   "source": [
    "import numpy as np\n",
    "X = np.loadtxt(\"data.csv\",delimiter=\",\")\n",
    "y = np.loadtxt(\"labels.csv\",delimiter=\",\")\n",
    "X_tr, X_te, y_tr, y_te = train_test_split(X,y,test_size=0.2)\n",
    "\n",
    "from sklearn import tree\n",
    "from sklearn.metrics import confusion_matrix,classification_report\n",
    "\n",
    "dt = tree.DecisionTreeClassifier(max_depth=5)\n",
    "dt.fit(X_tr,y_tr)\n",
    "yhat = dt.predict(X_te)\n",
    "print(confusion_matrix(y_te,yhat))"
   ]
  },
  {
   "cell_type": "code",
   "execution_count": 43,
   "metadata": {},
   "outputs": [
    {
     "name": "stdout",
     "output_type": "stream",
     "text": [
      "[[679   2]\n",
      " [124  23]]\n"
     ]
    }
   ],
   "source": [
    "from sklearn.ensemble import RandomForestClassifier\n",
    "rf = RandomForestClassifier(n_estimators=500)\n",
    "rf.fit(X_tr,y_tr)\n",
    "\n",
    "yhat = rf.predict(X_te)\n",
    "print(confusion_matrix(y_te,yhat))"
   ]
  },
  {
   "cell_type": "code",
   "execution_count": null,
   "metadata": {},
   "outputs": [],
   "source": []
  }
 ],
 "metadata": {
  "interpreter": {
   "hash": "309607ccc20e9a6e11ab07170f99ce54bcb071be184e7a01527b07d1560fe75c"
  },
  "kernelspec": {
   "display_name": "Python 3.8.8 64-bit ('base': conda)",
   "language": "python",
   "name": "python3"
  },
  "language_info": {
   "codemirror_mode": {
    "name": "ipython",
    "version": 3
   },
   "file_extension": ".py",
   "mimetype": "text/x-python",
   "name": "python",
   "nbconvert_exporter": "python",
   "pygments_lexer": "ipython3",
   "version": "3.8.8"
  },
  "orig_nbformat": 4
 },
 "nbformat": 4,
 "nbformat_minor": 2
}
