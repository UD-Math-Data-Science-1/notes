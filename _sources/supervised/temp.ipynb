{
 "cells": [
  {
   "cell_type": "code",
   "execution_count": 2,
   "metadata": {},
   "outputs": [],
   "source": [
    "import pickle\n",
    "ofname = open(\"dataset_small.pkl\",\"rb\") # x stores input data and y target values\n",
    "(x,y) = pickle.load(ofname,encoding=\"latin1\")"
   ]
  },
  {
   "cell_type": "code",
   "execution_count": null,
   "metadata": {},
   "outputs": [],
   "source": []
  },
  {
   "cell_type": "code",
   "execution_count": 3,
   "metadata": {},
   "outputs": [
    {
     "data": {
      "text/plain": [
       "array([[ 3.6000e+03,  2.3750e+03,  7.6310e+01, ..., -1.0000e+00,\n",
       "        -1.0000e+00,  1.0000e+00],\n",
       "       [ 2.3000e+04,  2.3000e+04,  7.6789e+02, ..., -1.0000e+00,\n",
       "        -1.0000e+00,  1.0000e+00],\n",
       "       [ 7.0000e+03,  7.0000e+03,  2.2584e+02, ..., -1.0000e+00,\n",
       "        -1.0000e+00,  1.0000e+00],\n",
       "       ...,\n",
       "       [ 1.0000e+04,  1.0000e+04,  3.1111e+02, ..., -1.0000e+00,\n",
       "        -1.0000e+00,  1.0000e+00],\n",
       "       [ 3.5000e+03,  3.5000e+03,  1.1961e+02, ..., -1.0000e+00,\n",
       "        -1.0000e+00,  1.0000e+00],\n",
       "       [ 8.3250e+03,  8.3250e+03,  2.8248e+02, ..., -1.0000e+00,\n",
       "        -1.0000e+00,  1.0000e+00]])"
      ]
     },
     "execution_count": 3,
     "metadata": {},
     "output_type": "execute_result"
    }
   ],
   "source": [
    "x"
   ]
  },
  {
   "cell_type": "code",
   "execution_count": 4,
   "metadata": {},
   "outputs": [
    {
     "data": {
      "text/plain": [
       "array([ 1.,  1.,  1., ..., -1., -1., -1.])"
      ]
     },
     "execution_count": 4,
     "metadata": {},
     "output_type": "execute_result"
    }
   ],
   "source": [
    "y"
   ]
  },
  {
   "cell_type": "code",
   "execution_count": 45,
   "metadata": {},
   "outputs": [
    {
     "name": "stdout",
     "output_type": "stream",
     "text": [
      "feature matrix has shape (4140, 15)\n",
      "label vector has shape (4140,)\n"
     ]
    }
   ],
   "source": [
    "import numpy as np\n",
    "X = np.loadtxt(\"data.csv\",delimiter=\",\")\n",
    "print(\"feature matrix has shape\",X.shape)\n",
    "y = np.loadtxt(\"labels.csv\",delimiter=\",\")\n",
    "print(\"label vector has shape\",y.shape)\n"
   ]
  },
  {
   "cell_type": "code",
   "execution_count": 46,
   "metadata": {},
   "outputs": [
    {
     "data": {
      "text/plain": [
       "array([3.600e+03, 2.375e+03, 7.631e+01, 3.000e+04, 1.504e+01])"
      ]
     },
     "execution_count": 46,
     "metadata": {},
     "output_type": "execute_result"
    }
   ],
   "source": [
    "X[0,:5]"
   ]
  },
  {
   "cell_type": "code",
   "execution_count": 47,
   "metadata": {},
   "outputs": [
    {
     "data": {
      "text/plain": [
       "array([-1., -1., -1., -1., -1., -1.])"
      ]
     },
     "execution_count": 47,
     "metadata": {},
     "output_type": "execute_result"
    }
   ],
   "source": [
    "y[-6:]"
   ]
  },
  {
   "cell_type": "code",
   "execution_count": 48,
   "metadata": {},
   "outputs": [
    {
     "data": {
      "text/plain": [
       "array([-1., -1., -1., -1., -1., -1.])"
      ]
     },
     "execution_count": 48,
     "metadata": {},
     "output_type": "execute_result"
    }
   ],
   "source": [
    "from sklearn import neighbors as nbr \n",
    "knn = nbr.KNeighborsClassifier(n_neighbors=11)   # specification\n",
    "knn.fit(x, y)   # training\n",
    "yhat = knn.predict(x)   # prediction\n",
    "yhat[-6:]"
   ]
  },
  {
   "cell_type": "code",
   "execution_count": 49,
   "metadata": {},
   "outputs": [
    {
     "name": "stdout",
     "output_type": "stream",
     "text": [
      "accuracy is 83.2%\n"
     ]
    }
   ],
   "source": [
    "n = len(y)\n",
    "acc = sum(yhat==y)/n\n",
    "print(f\"accuracy is {acc:.1%}\")"
   ]
  },
  {
   "cell_type": "code",
   "execution_count": 50,
   "metadata": {},
   "outputs": [
    {
     "name": "stdout",
     "output_type": "stream",
     "text": [
      "81.6% were rejected\n"
     ]
    }
   ],
   "source": [
    "rejected = sum(y==-1)\n",
    "print(f\"{rejected/n:.1%} were rejected\")\n"
   ]
  },
  {
   "cell_type": "code",
   "execution_count": 62,
   "metadata": {},
   "outputs": [
    {
     "name": "stdout",
     "output_type": "stream",
     "text": [
      "[[3370    7]\n",
      " [ 690   73]]\n"
     ]
    }
   ],
   "source": [
    "from sklearn import metrics\n",
    "C = metrics.confusion_matrix(y,yhat)\n",
    "print(C)"
   ]
  },
  {
   "cell_type": "code",
   "execution_count": 56,
   "metadata": {},
   "outputs": [
    {
     "name": "stdout",
     "output_type": "stream",
     "text": [
      "recall = 99.8%\n",
      "specificity = 9.6%\n",
      "precision = 83.0%\n",
      "NPV = 91.2%\n"
     ]
    }
   ],
   "source": [
    "TP,FP,FN,TN = C.ravel()\n",
    "print(f\"recall = {TP/(TP+FN):.1%}\")\n",
    "print(f\"specificity = {TN/(TN+FP):.1%}\")\n",
    "print(f\"precision = {TP/(TP+FP):.1%}\")\n",
    "print(f\"NPV = {TN/(TN+FN):.1%}\")\n"
   ]
  },
  {
   "cell_type": "code",
   "execution_count": 65,
   "metadata": {},
   "outputs": [
    {
     "name": "stdout",
     "output_type": "stream",
     "text": [
      "              precision    recall  f1-score   support\n",
      "\n",
      "        -1.0       0.83      1.00      0.91      3377\n",
      "         1.0       0.91      0.10      0.17       763\n",
      "\n",
      "    accuracy                           0.83      4140\n",
      "   macro avg       0.87      0.55      0.54      4140\n",
      "weighted avg       0.85      0.83      0.77      4140\n",
      "\n"
     ]
    }
   ],
   "source": [
    "print(metrics.classification_report(y,yhat))"
   ]
  },
  {
   "cell_type": "code",
   "execution_count": null,
   "metadata": {},
   "outputs": [],
   "source": [
    "metrics.confusion_matrix()"
   ]
  }
 ],
 "metadata": {
  "interpreter": {
   "hash": "309607ccc20e9a6e11ab07170f99ce54bcb071be184e7a01527b07d1560fe75c"
  },
  "kernelspec": {
   "display_name": "Python 3.8.8 64-bit ('base': conda)",
   "language": "python",
   "name": "python3"
  },
  "language_info": {
   "codemirror_mode": {
    "name": "ipython",
    "version": 3
   },
   "file_extension": ".py",
   "mimetype": "text/x-python",
   "name": "python",
   "nbconvert_exporter": "python",
   "pygments_lexer": "ipython3",
   "version": "3.8.8"
  },
  "orig_nbformat": 4
 },
 "nbformat": 4,
 "nbformat_minor": 2
}
