{
 "cells": [
  {
   "cell_type": "markdown",
   "id": "06f4a756",
   "metadata": {},
   "source": [
    "# Classifier performance\n",
    "\n",
    "Let's return to the classifier for the loan applications data set."
   ]
  },
  {
   "cell_type": "code",
   "execution_count": 1,
   "id": "c9fbd074",
   "metadata": {},
   "outputs": [
    {
     "name": "stdout",
     "output_type": "stream",
     "text": [
      "accuracy is 78.5%\n"
     ]
    }
   ],
   "source": [
    "import numpy as np\n",
    "from sklearn import neighbors,metrics\n",
    "from sklearn.model_selection import train_test_split\n",
    "\n",
    "X = np.loadtxt(\"data.csv\",delimiter=\",\")\n",
    "n,d = X.shape\n",
    "y = np.loadtxt(\"labels.csv\",delimiter=\",\")\n",
    "\n",
    "X_tr, X_te, y_tr, y_te = train_test_split(X,y,test_size=0.2)\n",
    "\n",
    "knn = neighbors.KNeighborsClassifier(n_neighbors=11)   \n",
    "knn.fit(X_tr,y_tr) \n",
    "acc = knn.score(X_te,y_te)\n",
    "print(f\"accuracy is {acc:.1%}\")"
   ]
  },
  {
   "cell_type": "markdown",
   "id": "698f560f",
   "metadata": {},
   "source": [
    "Is this good accuracy? Welp, consider that the vast majority of loans were funded:"
   ]
  },
  {
   "cell_type": "code",
   "execution_count": 2,
   "id": "3eb115e6",
   "metadata": {},
   "outputs": [
    {
     "name": "stdout",
     "output_type": "stream",
     "text": [
      "81.6% were funded\n"
     ]
    }
   ],
   "source": [
    "funded = sum(y==-1)\n",
    "print(f\"{funded/n:.1%} were funded\")"
   ]
  },
  {
   "cell_type": "markdown",
   "id": "2c569166",
   "metadata": {},
   "source": [
    "Therefore, an algorithm that simply \"predicts\" funding every loan would do nearly as well as the trained classifier!"
   ]
  },
  {
   "cell_type": "code",
   "execution_count": 3,
   "id": "a4445433",
   "metadata": {},
   "outputs": [
    {
     "name": "stdout",
     "output_type": "stream",
     "text": [
      "fund-em-all accuracy is 77.2%\n"
     ]
    }
   ],
   "source": [
    "from sklearn import metrics\n",
    "acc = metrics.accuracy_score(y_te,[-1]*len(y_te))\n",
    "print(f\"fund-em-all accuracy is {acc:.1%}\")"
   ]
  },
  {
   "cell_type": "markdown",
   "id": "e5dd40b9",
   "metadata": {},
   "source": [
    "By comparison, our trained classifier is not impressive at all. We need a metric other than accuracy to detect that, apparently.\n",
    "\n",
    "## Binary classifiers\n",
    "\n",
    "Recall that a binary classifier is one that produces just two unique labels, which we call \"yes\" and \"no\" here.\n",
    "To fully understand the performance of a binary classifier, we have to account for four cases:\n",
    "\n",
    "* True positives (TP): Predicts \"yes\", actually is \"yes\"\n",
    "* False positives (FP): Predicts \"yes\", actually is \"no\"\n",
    "* True negatives (TN): Predicts \"no\", actually is \"no\"\n",
    "* False negatives (FN): Predicts \"no\", actually is \"yes\"\n",
    "\n",
    "The four cases correspond to a 2×2 table according to the states of the prediction and *ground truth*, which is the accepted correct value (the given label). The table can be filled with counts or percentages of tested instances, to create a **confusion matrix**, as illustrated in {numref}`fig-supervised-confusion`. \n",
    "\n",
    "```{figure} confusion.svg\n",
    "---\n",
    "name: fig-supervised-confusion\n",
    "---\n",
    "Confusion matrix\n",
    "```"
   ]
  },
  {
   "cell_type": "code",
   "execution_count": 4,
   "id": "30757953",
   "metadata": {},
   "outputs": [
    {
     "data": {
      "image/png": "[encoded data removed]",
      "text/plain": [
       "<Figure size 432x288 with 2 Axes>"
      ]
     },
     "metadata": {
      "filenames": {
       "image/png": "/Users/driscoll/Dropbox/class/267/notes/_build/jupyter_execute/supervised/performance_7_0.png"
      },
      "needs_background": "light"
     },
     "output_type": "display_data"
    }
   ],
   "source": [
    "yhat = knn.predict(X_te)\n",
    "C = metrics.confusion_matrix(y_te,yhat,labels=[-1,1])\n",
    "lbl = [\"fund\",\"reject\"]\n",
    "metrics.ConfusionMatrixDisplay(C,display_labels=lbl).plot();"
   ]
  },
  {
   "cell_type": "markdown",
   "id": "b810c16a",
   "metadata": {},
   "source": [
    "Hence there are 656 true positives (funded) and 12 true negatives (rejected). Therefore, the **accuracy** is \n",
    "\n",
    "$$\n",
    "\\newcommand{TP}{\\text{TP}}\n",
    "\\newcommand{FP}{\\text{FP}}\n",
    "\\newcommand{TN}{\\text{TN}}\n",
    "\\newcommand{FN}{\\text{FN}}\n",
    "\\text{accuracy} = \\frac{\\TP + \\TN}{\\TP + \\FP + \\TN + \\FN} = \\frac{680}{828} = 0.821256\\ldots,\n",
    "$$\n",
    "\n",
    "i.e., 82.1%. However, there are four other quantities defined by putting a \"number correct\" value in the numerator and a sum of a row or column in the denominator:\n",
    "\n",
    "$$\n",
    "\\text{recall (aka sensitvity)} &= \\frac{\\TP}{\\TP + \\FN} \\\\[2mm]\n",
    "\\text{specificity} &= \\frac{\\TN}{\\TN + \\FP} \\\\[2mm] \n",
    "\\text{precision} &= \\frac{\\TP}{\\TP + \\FP} \\\\[2mm] \n",
    "\\text{negative predictive value (NPV)} &= \\frac{\\TN}{\\TN + \\FN} \\\\ \n",
    "$$\n",
    "\n",
    "In words, these metrics answer the following questions:\n",
    "\n",
    "* **recall** How often are actual \"yes\" cases predicted correctly?\n",
    "* **specificity** How often are actual \"no\" cases predicted correctly?\n",
    "* **precision** How often are the \"yes\" predictions correct?\n",
    "* **NPV** How often are the \"no\" predictions correct?\n",
    "\n",
    "For our loan classifier, here are the scores:"
   ]
  },
  {
   "cell_type": "code",
   "execution_count": 5,
   "id": "719f387c",
   "metadata": {},
   "outputs": [
    {
     "name": "stdout",
     "output_type": "stream",
     "text": [
      "recall = 100.0%\n",
      "specificity = 5.8%\n",
      "precision = 78.2%\n",
      "NPV = 100.0%\n"
     ]
    }
   ],
   "source": [
    "TP,FN,FP,TN = C.ravel()\n",
    "print(f\"recall = {TP/(TP+FN):.1%}\")\n",
    "print(f\"specificity = {TN/(TN+FP):.1%}\")\n",
    "print(f\"precision = {TP/(TP+FP):.1%}\")\n",
    "print(f\"NPV = {TN/(TN+FN):.1%}\")"
   ]
  },
  {
   "cell_type": "markdown",
   "id": "441032ce",
   "metadata": {},
   "source": [
    "The recall is almost perfect: virtually nobody who should get a loan will go away disappointed. However, the low specificity would be concerning to those doing the funding, because 95% who should be rejected will be funded as well. (It's now clear that the trained classifier is barely different from the \"fund them all\" one.)\n",
    "\n",
    "There are numerous ways to combine these measures into a single number other than standard accuracy. None is universally best, because different applications emphasize different aspects of performance. One of the most popular is the **$F_1$ score**, which is the harmonic mean of the precision and the recall:\n",
    "\n",
    "$$\n",
    "\\left[ \\frac{1}{2} \\left(\\frac{\\TP + \\FN}{\\TP} + \\frac{\\TP+\\FP}{\\TP} \\right)  \\right]^{-1} = \\frac{2\\TP}{2\\TP+\\FN+\\FP}.\n",
    "$$\n",
    "\n",
    "This score varies between zero (poor) and one (ideal). \n",
    "\n",
    "You may know the harmonic mean as the operation for wiring electrical resistors in parallel. If one of the quantities is much smaller than the other, their harmonic mean will be close to the small value. Thus, $F_1$ score punishes a classifier if either recall or precision is poor. \n",
    "\n",
    "Another composite score is **balanced accuracy**, which is the mean of recall and specificity. It also ranges from 0 to 1, with 1 meaning perfect accuracy."
   ]
  },
  {
   "cell_type": "code",
   "execution_count": 6,
   "id": "fa76adfc",
   "metadata": {},
   "outputs": [
    {
     "name": "stdout",
     "output_type": "stream",
     "text": [
      "F1: 0.11\n",
      "Balanced: 0.5291005291005291\n"
     ]
    }
   ],
   "source": [
    "print(\"F1:\",metrics.f1_score(y_te,yhat))\n",
    "print(\"Balanced:\",metrics.balanced_accuracy_score(y_te,yhat))"
   ]
  },
  {
   "cell_type": "markdown",
   "id": "757f9f9f",
   "metadata": {},
   "source": [
    "The loan classifier trained above has excellent recall, respectable precision, and terrible specificity, resulting in a good $F_1$ score and a low balanced accuracy score.\n",
    "\n",
    "```{prf:example}\n",
    "Inspired by the high funding rate, suppose we try a \"classifier\" that funds every loan. Then \n",
    "\n",
    "$$\n",
    "\\TP = k,\\, \\TN = 0,\\, \\FP = n-k,\\, \\FN = 0.\n",
    "$$\n",
    "\n",
    "Its $F_1$ score is thus\n",
    "\n",
    "$$\n",
    "\\frac{2\\TP}{2\\TP+\\FN+\\FP} = \\frac{2k}{2k+n-k} = \\frac{2k}{k+n},\n",
    "$$\n",
    "\n",
    "and its balanced accuracy is \n",
    "\n",
    "$$\n",
    "\\frac{1}{2} \\left(\\frac{\\TP}{\\TP+\\FN} + \\frac{\\TN}{\\TN+\\FP} \\right)  = \\frac{1}{2}.\n",
    "$$\n",
    "\n",
    "If the fraction of funded samples in the test set is $k/n=a$, then the $F_1$ score is $a/(1+a)$, which increases smoothly from zero to one as $a$ does. For the loan problem, $a=0.816$ and the $F_1$ of this lazy classifier is $0.449$. \n",
    "```\n",
    "\n",
    "<!-- \n",
    "print(\"F1:\",metrics.cohen_kappa_score(y_te,yhat))\n",
    "print(\"F1:\",metrics.matthews_corrcoef(y_te,yhat)) -->\n",
    "\n",
    "The point is that each individual metric gives part of the picture, but it can be misleading depending on what behavior an application values most.\n",
    "\n",
    "## Multiclass classifiers\n",
    "\n",
    "When there are more than two unique possible labels, these measures can be extended using the **one-vs-rest** paradigm. For $K$ unique labels, this paradigm poses $K$ binary questions: \"Is it in class 1, or not?\", \"Is it in class 2, or not?\", etc. This produces $K$ versions of metrics such as accuracy, recall, $F_1$-score, and so on, which can be averaged to give a single score. There are various ways to perform the averaging, depending on whether poorly represented classes are to be weighted more weakly than others. We won't give the details.\n",
    "\n",
    "The confusion matrix also generalizes to $K$ classes. It's easiest to see how by an example. We will use a well-known data set derived from automatic recognition of handwritten digits from 0 to 9."
   ]
  },
  {
   "cell_type": "code",
   "execution_count": 7,
   "id": "9f99c339",
   "metadata": {},
   "outputs": [
    {
     "name": "stdout",
     "output_type": "stream",
     "text": [
      "(n,d) = (1437, 64)\n"
     ]
    },
    {
     "data": {
      "image/png": "[encoded data removed]",
      "text/plain": [
       "<Figure size 432x288 with 2 Axes>"
      ]
     },
     "metadata": {
      "filenames": {
       "image/png": "/Users/driscoll/Dropbox/class/267/notes/_build/jupyter_execute/supervised/performance_13_1.png"
      },
      "needs_background": "light"
     },
     "output_type": "display_data"
    }
   ],
   "source": [
    "from sklearn import datasets\n",
    "digits = datasets.load_digits()\n",
    "X = digits.data\n",
    "y = digits.target\n",
    "X_tr, X_te, y_tr, y_te = train_test_split(X,y,test_size=0.2)\n",
    "print(\"(n,d) =\",X_tr.shape)\n",
    "\n",
    "knn = neighbors.KNeighborsClassifier(n_neighbors=16)\n",
    "knn.fit(X,y)\n",
    "yhat = knn.predict(X_te)\n",
    "\n",
    "C = metrics.confusion_matrix(y_te,yhat)\n",
    "metrics.ConfusionMatrixDisplay(C).plot();"
   ]
  },
  {
   "cell_type": "markdown",
   "id": "5cab3873",
   "metadata": {},
   "source": [
    "From the confusion matrix, we can see that, for example, the detection of \"1\" in the test set gives 35 true positives and a total of 3 false positives. Therefore, that precision is $35/38=92.1$%. We can get all the individual precision scores automatically."
   ]
  },
  {
   "cell_type": "code",
   "execution_count": 8,
   "id": "1258c5c6",
   "metadata": {},
   "outputs": [
    {
     "name": "stdout",
     "output_type": "stream",
     "text": [
      "['100.0%', '92.1%', '100.0%', '97.7%', '100.0%', '100.0%', '100.0%', '97.2%', '100.0%', '100.0%']\n"
     ]
    }
   ],
   "source": [
    "prec = metrics.precision_score(y_te,yhat,average=None)\n",
    "print([f\"{p:.1%}\" for p in prec])"
   ]
  },
  {
   "cell_type": "markdown",
   "id": "ee3c9d8c",
   "metadata": {},
   "source": [
    "To get a composite precision score, we have to specify an averaging method. The `\"macro\"` option simply takes the mean of the vector above."
   ]
  },
  {
   "cell_type": "code",
   "execution_count": 9,
   "id": "8b3cb134",
   "metadata": {},
   "outputs": [
    {
     "name": "stdout",
     "output_type": "stream",
     "text": [
      "[0.9870019039847682, 0.9870019039847682]\n"
     ]
    }
   ],
   "source": [
    "mac = metrics.precision_score(y_te,yhat,average=\"macro\")\n",
    "print([mac,prec.mean()])"
   ]
  },
  {
   "cell_type": "markdown",
   "id": "718d06fa",
   "metadata": {},
   "source": [
    "When the classes are not well-balanced, you might want to choose a different averaging method."
   ]
  }
 ],
 "metadata": {
  "jupytext": {
   "text_representation": {
    "extension": ".md",
    "format_name": "myst",
    "format_version": 0.13,
    "jupytext_version": "1.10.3"
   }
  },
  "kernelspec": {
   "display_name": "Python 3.8.8 64-bit ('base': conda)",
   "language": "python",
   "name": "python3"
  },
  "language_info": {
   "codemirror_mode": {
    "name": "ipython",
    "version": 3
   },
   "file_extension": ".py",
   "mimetype": "text/x-python",
   "name": "python",
   "nbconvert_exporter": "python",
   "pygments_lexer": "ipython3",
   "version": "3.8.8"
  },
  "source_map": [
   12,
   18,
   33,
   37,
   40,
   44,
   48,
   71,
   76,
   106,
   112,
   128,
   131,
   169,
   183,
   187,
   190,
   194,
   197
  ]
 },
 "nbformat": 4,
 "nbformat_minor": 5
}