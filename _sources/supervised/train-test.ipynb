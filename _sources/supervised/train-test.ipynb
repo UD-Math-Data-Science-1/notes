{
 "cells": [
  {
   "cell_type": "markdown",
   "id": "4fcb35f6",
   "metadata": {},
   "source": [
    "# The train–test paradigm\n",
    "\n",
    "Good performance of a classifier on the training set is one thing, but how will it perform on new data? This is the question of *generalization*. In order to gauge this property, we will hold back some of the labeled data from training and use it solely to test the performance.\n",
    "\n",
    "We will continue demonstrating with the loan funding classification data set."
   ]
  },
  {
   "cell_type": "code",
   "execution_count": 1,
   "id": "5e4e6f36",
   "metadata": {},
   "outputs": [],
   "source": [
    "import numpy as np\n",
    "X = np.loadtxt(\"data.csv\",delimiter=\",\")\n",
    "y = np.loadtxt(\"labels.csv\",delimiter=\",\")"
   ]
  },
  {
   "cell_type": "markdown",
   "id": "fbf81db4",
   "metadata": {},
   "source": [
    "We use a `sckikit` helper function to help us split off a randomized 20% of the data to use for testing."
   ]
  },
  {
   "cell_type": "code",
   "execution_count": 2,
   "id": "9e3a7dcd",
   "metadata": {},
   "outputs": [
    {
     "name": "stdout",
     "output_type": "stream",
     "text": [
      "3312 training cases and 828 test cases\n"
     ]
    }
   ],
   "source": [
    "from sklearn.model_selection import train_test_split\n",
    "X_tr, X_te, y_tr, y_te = train_test_split(X,y,test_size=0.2)\n",
    "print(len(y_tr),\"training cases and\",len(y_te),\"test cases\")"
   ]
  },
  {
   "cell_type": "markdown",
   "id": "88ded7c8",
   "metadata": {},
   "source": [
    "Now we train on only the training data."
   ]
  },
  {
   "cell_type": "code",
   "execution_count": 3,
   "id": "971f873f",
   "metadata": {},
   "outputs": [
    {
     "data": {
      "text/plain": [
       "KNeighborsClassifier(n_neighbors=1)"
      ]
     },
     "execution_count": 3,
     "metadata": {},
     "output_type": "execute_result"
    }
   ],
   "source": [
    "from sklearn import neighbors as nbr \n",
    "knn = nbr.KNeighborsClassifier(n_neighbors=1) \n",
    "knn.fit(X_tr,y_tr)  "
   ]
  },
  {
   "cell_type": "markdown",
   "id": "f7585544",
   "metadata": {},
   "source": [
    "If we evaluate the performance on the training data, the classifier looks perfect."
   ]
  },
  {
   "cell_type": "code",
   "execution_count": 4,
   "id": "4139f917",
   "metadata": {},
   "outputs": [
    {
     "name": "stdout",
     "output_type": "stream",
     "text": [
      "[[2710    0]\n",
      " [   0  602]]\n"
     ]
    }
   ],
   "source": [
    "from sklearn import metrics\n",
    "yhat = knn.predict(X_tr) \n",
    "C = metrics.confusion_matrix(y_tr,yhat,labels=[-1,1])\n",
    "print(C)"
   ]
  },
  {
   "cell_type": "markdown",
   "id": "b51e182d",
   "metadata": {},
   "source": [
    "But the picture is much different when we measure using the test set."
   ]
  },
  {
   "cell_type": "code",
   "execution_count": 5,
   "id": "61322b50",
   "metadata": {},
   "outputs": [
    {
     "name": "stdout",
     "output_type": "stream",
     "text": [
      "[[579  88]\n",
      " [115  46]]\n"
     ]
    }
   ],
   "source": [
    "yhat = knn.predict(X_te) \n",
    "C = metrics.confusion_matrix(y_te,yhat,labels=[-1,1])\n",
    "print(C)"
   ]
  },
  {
   "cell_type": "markdown",
   "id": "74e90eeb",
   "metadata": {},
   "source": [
    "We now see high false positive and false negative rates. This observation illustrates **overfitting**, which is the tendency of a model that performs extremely well on a training set to generalize poorly. \n",
    "\n",
    "## Cross-validation\n",
    "\n",
    "Now we can try different values for the parameter in the `knn` classifier, train, and test to find the best one. Here, we use accuracy as the performance metric."
   ]
  },
  {
   "cell_type": "code",
   "execution_count": 6,
   "id": "dec03815",
   "metadata": {},
   "outputs": [
    {
     "name": "stdout",
     "output_type": "stream",
     "text": [
      "[0.7548309178743962, 0.8128019323671497, 0.7934782608695652, 0.8152173913043478, 0.8031400966183575, 0.8164251207729468, 0.8152173913043478, 0.8176328502415459, 0.8115942028985508, 0.8152173913043478, 0.8152173913043478, 0.8115942028985508]\n"
     ]
    }
   ],
   "source": [
    "acc = []\n",
    "n = len(y_te)\n",
    "\n",
    "for k in range(1,13):\n",
    "    knn = nbr.KNeighborsClassifier(n_neighbors=k) \n",
    "    knn.fit(X_tr,y_tr)  \n",
    "    yhat = knn.predict(X_te) \n",
    "    agree = sum(yhat==y_te)\n",
    "    acc.append(agree/n)\n",
    "\n",
    "print(acc)"
   ]
  },
  {
   "cell_type": "markdown",
   "id": "40ad481c",
   "metadata": {},
   "source": [
    "The experiment above suggests that we will not see much benefit from increasing the $k$ parameter past 6. \n",
    "\n",
    "But we have created a new problem. Suppose, as with $k$ in the example above, we have parameters we can adjust before training a classifier. (These are called *hyperparameters* in ML, because they are not parameters meant to be adjusted by the training algorithm.) If we optimize the hyperparameters based on a performance metric over the fixed test set, then we have reintroduced the possibility of overfitting; i.e., the hyperparameters can be learned from the test set, and there is nothing to check their generalization.\n",
    "\n",
    "There are two approaches to this dilemma. One is to split the data into *three* sets for training, testing, and *validation*. The validation set is used to evaluate the winning algorithm. However, this further reduces the amount of data available for training, which is likely to hurt performance.\n",
    "\n",
    "The other approach, called *cross-validation*, is to train the learner multiple times, each with a different split of the data into training and testing. In **$k$-fold cross-validation**, the full data set is divided into $k$ roughly equal parts called *folds*. First, the learner is trained using folds $2,3,\\ldots,k$ and tested with the cases in fold 1. Then the learners are retrained using folds $1,3,\\ldots,k$ and tested with the cases in fold 2. This continues until each fold has served once as the test set.\n",
    "\n",
    "We demonstrate $k$=fold cross-validation for a particular KNN learner for $k=5$. By default, the performance metric will be the `knn.score` method, which is defined to compute accuracy."
   ]
  },
  {
   "cell_type": "code",
   "execution_count": 7,
   "id": "e636a510",
   "metadata": {},
   "outputs": [
    {
     "name": "stdout",
     "output_type": "stream",
     "text": [
      "[0.82729469 0.81521739 0.81884058 0.82729469 0.81884058]\n",
      "mean: 0.8214975845410628 \n",
      "std:  0.004914731871829926\n"
     ]
    }
   ],
   "source": [
    "from sklearn.model_selection import cross_val_score\n",
    "\n",
    "knn = nbr.KNeighborsClassifier(n_neighbors=6)   # specification\n",
    "knn.fit(X,y)   # training\n",
    "scores = cross_val_score(knn,X,y,cv=5)\n",
    "\n",
    "print(scores)\n",
    "print(\"mean:\",scores.mean(),\"\\nstd: \",scores.std())"
   ]
  },
  {
   "cell_type": "markdown",
   "id": "f2d46f14",
   "metadata": {},
   "source": [
    "It seems reasonable now to describe the accuracy of this classifier as roughly 82%."
   ]
  }
 ],
 "metadata": {
  "jupytext": {
   "text_representation": {
    "extension": ".md",
    "format_name": "myst",
    "format_version": 0.13,
    "jupytext_version": "1.10.3"
   }
  },
  "kernelspec": {
   "display_name": "Python 3.8.8 64-bit ('base': conda)",
   "language": "python",
   "name": "python3"
  },
  "language_info": {
   "codemirror_mode": {
    "name": "ipython",
    "version": 3
   },
   "file_extension": ".py",
   "mimetype": "text/x-python",
   "name": "python",
   "nbconvert_exporter": "python",
   "pygments_lexer": "ipython3",
   "version": "3.8.8"
  },
  "source_map": [
   12,
   20,
   24,
   28,
   32,
   36,
   40,
   44,
   49,
   53,
   57,
   65,
   77,
   89,
   98
  ]
 },
 "nbformat": 4,
 "nbformat_minor": 5
}