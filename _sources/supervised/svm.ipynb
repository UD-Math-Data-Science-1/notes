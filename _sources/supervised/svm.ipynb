{
 "cells": [
  {
   "cell_type": "markdown",
   "id": "35c461b7",
   "metadata": {},
   "source": [
    "# Support vector machine\n",
    "\n",
    "Suppose for a moment that we have data samples with just two dimensions (features), and that they are arranged like this:\n",
    "\n",
    "```{figure} ../_static/svm_many.png\n",
    "```\n",
    "\n",
    "These groups are easy to separate! In fact, as the figure shows, we are spoiled for choice, and the possibilities span a wide range, even if we use only straight lines. \n",
    "\n",
    "However, there is a way to define the *best* line separating the two sets, as illustrated in this figure:\n",
    "\n",
    "```{figure} ../_static/svm_margins.png\n",
    "```\n",
    "\n",
    "The key is to define the **margin** between the sets as the maximum perpendicular distance between the points and the line. It turns out that, if the sets can be separated by a line at all, then there is a line that maximizes the margin. It's also the case that only a few of the sample points actually matter, as shown by the boxes in the figure. They are the ones that achieve the margins and are called **support vectors**. A learner based on this idea of separating data by maximum margin is called a **support vector machine** (SVM).\n",
    "\n",
    "Let's express the line and margin mathematically in two dimensions. We are used to writing a line as $y=mx+b$. First, though, we are going to use subscripts rather than letters for the dimensions, so make that $x_2=mx_1+b$. Next, we recall that this equation doesn't work for vertical lines (infinite slope), so we need a coefficient in front of $x_2$ as well. Rearranging, we get \n",
    "\n",
    "$$\n",
    "w_1 x_1 + w_2 x_2 + b = 0,\n",
    "$$\n",
    "\n",
    "where $w_1,w_2,b$ are constants. It is clear that $w_1 x_1 + w_2 x_2 + b > 0$ represents the half-plane on one side of the line, and $w_1 x_1 + w_2 x_2 + b < 0$ represents the other. \n",
    "\n",
    "Our next observation is that if the point $(a_1,a_2)$ is on the line, then any point of the form\n",
    "\n",
    "$$\n",
    "x_1 = a_1 - tw_2, \\quad x_2 = a_2 + tw_1\n",
    "$$ \n",
    "\n",
    "is also on the line. (Just substitute it in to see that it satisfies the equation of the line.)\n",
    "\n",
    "Now let us find the distance from any point $(s_1,s_2)$ to the line. The distance squared from this point to an arbitrary line point is \n",
    "\n",
    "$$\n",
    "d^2 = (s_1-a_1+tw_2)^2 + (s_2-a_2-tw_1)^2.\n",
    "$$\n",
    "\n",
    "Using calculus to minimize $d^2$ as a function of $t$ eventually gives\n",
    "\n",
    "$$\n",
    "t_\\text{min} = \\frac{(s_2-a_2)w_1-(s_1-a_1)w_2}{w_1^2+w_2^2}.\n",
    "$$\n",
    "\n",
    "Note that $w_1^2+w_2^2=\\norm{\\bfw}_2^2$. Substituting $t_\\text{min}$ into $d^2$ and taking a square root gives the distance from $(s_1,s_2)$ to the line:\n",
    "\n",
    "$$\n",
    "d_\\text{min} = \\frac{|(s_1-a_1)w_1 + (s_2-a_2)w_2|}{\\norm{\\bfw}_2}\n",
    " = \\frac{|s_1w_1 + s_2w_2 + b|}{\\norm{\\bfw}_2}.\n",
    "$$\n",
    "\n",
    "Suppose we use $y_i=+1$ for all the labels on one side, and $y_i=-1$ for all the labels on the other side. Finally, the condition that the distance from the line to point $(x_{i,1},x_{i,2})$ be no smaller than the margin $M$, and that the point be on the correct side of the line, is \n",
    "\n",
    "```{math}\n",
    ":label: eq-svm-constraints2d\n",
    "y_i\\left( \\frac{ x_{i,1}w_1 + x_{i,2}w_2 + b }{\\norm{\\bfw}_2} \\right) \\ge M,\n",
    "```\n",
    "\n",
    "which must hold true for all $i$.\n",
    "\n",
    "Recall that the goal is to separate the two sets of points by a line as robustly as possible. Hence we want to maximize the margin $M$ while obeying the constraints implied by {eq}`eq-svm-constraints2d`. This is a *constrained optimization* problem. Algorithms for solving it are beyond our scope here.\n",
    "\n",
    "## Higher dimensions\n",
    "\n",
    "What happens in $d>2$ dimensions? Instead of a line, we have a **plane** ($d=3$) or **hyperplane** ($d>3$) of dimension $d-1$. Its equation can be expressed as\n",
    "\n",
    "$$\n",
    "w_1 x_1 + w_2 x_2 + \\cdots + w_d x_d + b = 0,\n",
    "$$\n",
    "\n",
    "for some constants $w_1,\\ldots,w_d,b$. The vector $\\bfw=[w_1,\\ldots,w_d]$ is said to be **normal** to the hyperplane. In 2D or 3D this is equivalent to being perpendicular to the plane.\n",
    "\n",
    "We have the important new operation\n",
    "\n",
    "$$\n",
    "\\bfw^T\\bfx = w_1 x_1 + w_2 x_2 + \\cdots + w_d x_d, \n",
    "$$\n",
    "\n",
    "the **inner product** between vectors $\\bfx$ and $\\bfw$. (In 2D or 3D this is the same as the *dot product*.) It follows easily that\n",
    "\n",
    "$$\n",
    "\\bfw^T\\bfw = \\norm{\\bfw}_2^2,\n",
    "$$\n",
    "\n",
    "which is one fact that makes the 2-norm special. \n",
    "\n",
    "Above we saw that $\\norm{\\bfw}_2$ is inversely related to the margin $M$. One form of the constrained optimization problem, known as the *primal formulation*, is\n",
    "\n",
    "$$\n",
    "\\text{minimize } & \\norm{\\bfw}_2, \\\\ \n",
    "\\text{subject to } & y_i(\\bfw^T \\bfx_i + b) \\ge 1,\\, i = 1,\\ldots,n.\n",
    "$$\n",
    "\n",
    "Usually, though, the optimization is actually performed on an equivalent *dual formulation*, which finds the $d+1$ support vectors and the margin rather than $\\bfw$ and $b$ directly.\n",
    "\n",
    "## Advanced aspects\n",
    "\n",
    "There are other refinements too advanced for us to go into in detail here. Two stand out for making the algorithm practical for more than a trivial number of problems. \n",
    "\n",
    "One is the idea of allowing *slack*, which means that points are allowed to be on the wrong side of the dividing hyperplane, but they are punished by an amount proportional to their distance from it. The balance between maximizing margin and punishing miscreants is controlled by a hyperparameter that is usually called $C$, and the algorithm may be called **C-SVM**.\n",
    "\n",
    "The other important refinement is to upgrade the separating hyperplane to allow other kinds of surfaces. For reasons we won't go into, this is called the **kernel trick**, and specifying the kernel is another option. The most common choices are *linear*, which is the original hyperplane as described above, and *RBF*, which has its own hyperparameter $\\gamma$ and can produce arbitrary decision boundaries.\n",
    "\n",
    "## Usage in sklearn\n",
    "\n",
    "The SVM classifier in sklearn is called `SVC`. By default, it uses $C=1$ and the RBF kernel."
   ]
  },
  {
   "cell_type": "code",
   "execution_count": 1,
   "id": "23eb4015",
   "metadata": {},
   "outputs": [
    {
     "name": "stdout",
     "output_type": "stream",
     "text": [
      "train accuracy: 0.8173309178743962\n",
      "test accuracy: 0.8176328502415459\n"
     ]
    }
   ],
   "source": [
    "import numpy as np\n",
    "X = np.loadtxt(\"data.csv\",delimiter=\",\")\n",
    "y = np.loadtxt(\"labels.csv\",delimiter=\",\")\n",
    "\n",
    "from sklearn import svm\n",
    "from sklearn.model_selection import train_test_split\n",
    "from sklearn.metrics import confusion_matrix\n",
    "\n",
    "X_tr, X_te, y_tr, y_te = train_test_split(X,y,test_size=0.2)\n",
    "\n",
    "svc = svm.SVC()\n",
    "svc.fit(X_tr,y_tr)\n",
    "\n",
    "print(\"train accuracy:\",svc.score(X_tr,y_tr))\n",
    "print(\"test accuracy:\",svc.score(X_te,y_te))"
   ]
  },
  {
   "cell_type": "markdown",
   "id": "710bc2bf",
   "metadata": {},
   "source": [
    "The training accuracy essentially tells us how much slack was allowed; i.e., how frequently sample points end up on the wrong side of the decision boundary. If we increase $C$, we penalize the slack more and increase the training accuracy. (That might increase the test error as well, but we explore that relationship more in the next section.)"
   ]
  },
  {
   "cell_type": "code",
   "execution_count": 2,
   "id": "08b1991c",
   "metadata": {},
   "outputs": [
    {
     "name": "stdout",
     "output_type": "stream",
     "text": [
      "train accuracy with less slack: 0.8535628019323671\n",
      "test accuracy with less slack: 0.8502415458937198\n"
     ]
    },
    {
     "name": "stdout",
     "output_type": "stream",
     "text": [
      "[[677   0]\n",
      " [124  27]]\n"
     ]
    }
   ],
   "source": [
    "svc = svm.SVC(C=100)\n",
    "svc.fit(X_tr,y_tr)\n",
    "\n",
    "print(\"train accuracy with less slack:\",svc.score(X_tr,y_tr))\n",
    "print(\"test accuracy with less slack:\",svc.score(X_te,y_te))\n",
    "\n",
    "yhat = svc.predict(X_te)\n",
    "print(confusion_matrix(y_te,yhat))"
   ]
  },
  {
   "cell_type": "markdown",
   "id": "5ce2ae4e",
   "metadata": {},
   "source": [
    "SVM usually benefits from standardizing the features, so it's a good idea to build that in."
   ]
  },
  {
   "cell_type": "code",
   "execution_count": 3,
   "id": "a46f1082",
   "metadata": {},
   "outputs": [
    {
     "name": "stdout",
     "output_type": "stream",
     "text": [
      "train accuracy with standardization: 0.8457125603864735\n",
      "test accuracy with standardization: 0.8417874396135265\n"
     ]
    }
   ],
   "source": [
    "from sklearn.pipeline import make_pipeline\n",
    "from sklearn.preprocessing import StandardScaler   \n",
    "\n",
    "svc = make_pipeline(StandardScaler(),svm.SVC())\n",
    "svc.fit(X_tr,y_tr)\n",
    "\n",
    "print(\"train accuracy with standardization:\",svc.score(X_tr,y_tr))\n",
    "print(\"test accuracy with standardization:\",svc.score(X_te,y_te))"
   ]
  }
 ],
 "metadata": {
  "jupytext": {
   "text_representation": {
    "extension": ".md",
    "format_name": "myst",
    "format_version": 0.13,
    "jupytext_version": "1.11.5"
   }
  },
  "kernelspec": {
   "display_name": "Python 3.8.8 64-bit ('base': conda)",
   "language": "python",
   "name": "python3"
  },
  "language_info": {
   "codemirror_mode": {
    "name": "ipython",
    "version": 3
   },
   "file_extension": ".py",
   "mimetype": "text/x-python",
   "name": "python",
   "nbconvert_exporter": "python",
   "pygments_lexer": "ipython3",
   "version": "3.8.8"
  },
  "source_map": [
   12,
   121,
   137,
   141,
   150,
   154
  ]
 },
 "nbformat": 4,
 "nbformat_minor": 5
}