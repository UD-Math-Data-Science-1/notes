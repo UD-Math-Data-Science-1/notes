{
 "cells": [
  {
   "cell_type": "markdown",
   "id": "ce41e35d",
   "metadata": {},
   "source": [
    "# Using scikit-learn\n",
    "\n",
    "As a data set, we use loan applications on a crowdfunding site. Each feature vector is of length 15, indicating factors such as the amount requested, the interest rate, the applicant's annual income, etc. The goal is to predict whether the loan is at least partly funded.\n",
    "\n",
    "In order to work with vectors and matrices, which are both types of arrays, we will use the `numpy` package."
   ]
  },
  {
   "cell_type": "code",
   "execution_count": 1,
   "id": "e86274e1",
   "metadata": {},
   "outputs": [
    {
     "name": "stdout",
     "output_type": "stream",
     "text": [
      "feature matrix has shape (4140, 15)\n",
      "label vector has shape (4140,)\n"
     ]
    }
   ],
   "source": [
    "import numpy as np\n",
    "X = np.loadtxt(\"data.csv\",delimiter=\",\")\n",
    "print(\"feature matrix has shape\",X.shape)\n",
    "y = np.loadtxt(\"labels.csv\",delimiter=\",\")\n",
    "print(\"label vector has shape\",y.shape)"
   ]
  },
  {
   "cell_type": "markdown",
   "id": "de28dbf9",
   "metadata": {},
   "source": [
    "Let's look at the first 5 features of the first instance."
   ]
  },
  {
   "cell_type": "code",
   "execution_count": 2,
   "id": "e5362aa1",
   "metadata": {},
   "outputs": [
    {
     "data": {
      "text/plain": [
       "array([3.600e+03, 2.375e+03, 7.631e+01, 3.000e+04, 1.504e+01])"
      ]
     },
     "execution_count": 2,
     "metadata": {},
     "output_type": "execute_result"
    }
   ],
   "source": [
    "X[0,:5]"
   ]
  },
  {
   "cell_type": "markdown",
   "id": "a90eca13",
   "metadata": {},
   "source": [
    "And here are the last 6 labels."
   ]
  },
  {
   "cell_type": "code",
   "execution_count": 3,
   "id": "6e5d0dff",
   "metadata": {},
   "outputs": [
    {
     "data": {
      "text/plain": [
       "array([-1., -1., -1., -1., -1., -1.])"
      ]
     },
     "execution_count": 3,
     "metadata": {},
     "output_type": "execute_result"
    }
   ],
   "source": [
    "y[-6:]"
   ]
  },
  {
   "cell_type": "markdown",
   "id": "22cf0ab1",
   "metadata": {},
   "source": [
    "A label $-1$ indicates that the loan was funded, while $1$ indicates that it was rejected.\n",
    "\n",
    "We will use the `scikit-learn` package to get familiar with classifiers. There are three main activities in this package:\n",
    "\n",
    "* **fit**, to train the classifier\n",
    "* **predict**, to apply the classifier\n",
    "* **transform**, to modify the data\n",
    "\n",
    "Let's try a classifier whose characteristics we will explain in a future section."
   ]
  },
  {
   "cell_type": "code",
   "execution_count": 4,
   "id": "9075d4b1",
   "metadata": {},
   "outputs": [
    {
     "data": {
      "text/plain": [
       "array([-1., -1., -1., -1., -1., -1.])"
      ]
     },
     "execution_count": 4,
     "metadata": {},
     "output_type": "execute_result"
    }
   ],
   "source": [
    "from sklearn import neighbors as nbr \n",
    "knn = nbr.KNeighborsClassifier(n_neighbors=11)   # specification\n",
    "knn.fit(X,y)   # training\n",
    "yhat = knn.predict(X)   # prediction\n",
    "\n",
    "yhat[-6:]"
   ]
  },
  {
   "cell_type": "markdown",
   "id": "4d9c20ab",
   "metadata": {},
   "source": [
    "Compared to the original labels above, so far, so good. How often is the classifier correct? We simply count up the number of correctly predicted labels and then divide by the total number of labels, $n$."
   ]
  },
  {
   "cell_type": "code",
   "execution_count": 5,
   "id": "2ca7bf71",
   "metadata": {},
   "outputs": [
    {
     "name": "stdout",
     "output_type": "stream",
     "text": [
      "accuracy is 83.2%\n"
     ]
    }
   ],
   "source": [
    "n = len(y)\n",
    "acc = sum(yhat==y)/n   # or, acc = knn.score(X,y)\n",
    "print(f\"accuracy is {acc:.1%}\")"
   ]
  },
  {
   "cell_type": "markdown",
   "id": "40c2c5f4",
   "metadata": {},
   "source": [
    "Is that good? That turns out to be a complicated question. The vast majority of loans were funded:"
   ]
  },
  {
   "cell_type": "code",
   "execution_count": 6,
   "id": "01cfb44d",
   "metadata": {},
   "outputs": [
    {
     "name": "stdout",
     "output_type": "stream",
     "text": [
      "81.6% were funded\n"
     ]
    }
   ],
   "source": [
    "funded = sum(y==-1)\n",
    "print(f\"{funded/n:.1%} were funded\")"
   ]
  },
  {
   "cell_type": "markdown",
   "id": "99aba5d0",
   "metadata": {},
   "source": [
    "Therefore, an algorithm that simply \"predicted\" funding every loan would do nearly as well as ours!\n",
    "\n",
    "## Measuring classifier performance\n",
    "\n",
    "To fully understand the performance of a classifier, we have to account for four cases:\n",
    "\n",
    "* True positives (TP): Predicts \"yes\", actually is \"yes\"\n",
    "* False positives (FP): Predicts \"yes\", actually is \"no\"\n",
    "* True negatives (TN): Predicts \"no\", actually is \"no\"\n",
    "* False negatives (FN): Predicts \"no\", actually is \"yes\"\n",
    "\n",
    "The four cases correspond to a 2×2 table according to the states of the prediction and *ground truth*, which is the accepted correct value. The table can be filled with counts or percentages of tested instances, to create a **confusion matrix**, as illustrated in {numref}`fig-supervised-confusion`. \n",
    "\n",
    "```{figure} confusion.svg\n",
    "---\n",
    "name: fig-supervised-confusion\n",
    "---\n",
    "Confusion matrix\n",
    "```"
   ]
  },
  {
   "cell_type": "code",
   "execution_count": 7,
   "id": "f14dd3dc",
   "metadata": {},
   "outputs": [
    {
     "data": {
      "text/plain": [
       "<sklearn.metrics._plot.confusion_matrix.ConfusionMatrixDisplay at 0x7f8d105af100>"
      ]
     },
     "execution_count": 7,
     "metadata": {},
     "output_type": "execute_result"
    },
    {
     "data": {
      "image/png": "[encoded data removed]",
      "text/plain": [
       "<Figure size 432x288 with 2 Axes>"
      ]
     },
     "metadata": {
      "filenames": {
       "image/png": "/Users/driscoll/Dropbox/class/267/notes/_build/jupyter_execute/supervised/scikit_13_1.png"
      },
      "needs_background": "light"
     },
     "output_type": "display_data"
    }
   ],
   "source": [
    "from sklearn import metrics\n",
    "C = metrics.confusion_matrix(y,yhat,labels=[-1,1])\n",
    "lbl = [\"fund\",\"reject\"]\n",
    "metrics.ConfusionMatrixDisplay(C,display_labels=lbl).plot()"
   ]
  },
  {
   "cell_type": "markdown",
   "id": "d9e48083",
   "metadata": {},
   "source": [
    "Hence there are 3370 true positives (funded) and 73 true negatives (rejected). Therefore, the **accuracy** is \n",
    "\n",
    "$$\n",
    "\\newcommand{TP}{\\text{TP}}\n",
    "\\newcommand{FP}{\\text{FP}}\n",
    "\\newcommand{TN}{\\text{TN}}\n",
    "\\newcommand{FN}{\\text{FN}}\n",
    "\\text{accuracy} = \\frac{\\TP + \\TN}{n} = \\frac{3443}{4140} = 0.83164\\ldots,\n",
    "$$\n",
    "\n",
    "i.e., 83.2%. However, there are four other quantities defined by putting a \"number correct\" value in the numerator and a sum of a row or column in the denominator:\n",
    "\n",
    "$$\n",
    "\\text{recall (aka sensitvity)} &= \\frac{\\TP}{\\TP + \\FN} \\\\[2mm]\n",
    "\\text{specificity} &= \\frac{\\TN}{\\TN + \\FP} \\\\[2mm] \n",
    "\\text{precision} &= \\frac{\\TP}{\\TP + \\FP} \\\\[2mm] \n",
    "\\text{negative predictive value (NPV)} &= \\frac{\\TN}{\\TN + \\FN} \\\\ \n",
    "$$\n",
    "\n",
    "In words, these metrics answer the following questions:\n",
    "\n",
    "* **recall** How often are actual \"yes\" cases predicted correctly?\n",
    "* **specificity** How often are actual \"no\" cases predicted correctly?\n",
    "* **precision** How often are the \"yes\" predictions correct?\n",
    "* **NPV** How often are the \"no\" predictions correct?\n",
    "\n",
    "For our loan classifier, here are the scores:"
   ]
  },
  {
   "cell_type": "code",
   "execution_count": 8,
   "id": "aa98a8f7",
   "metadata": {},
   "outputs": [
    {
     "name": "stdout",
     "output_type": "stream",
     "text": [
      "recall = 99.8%\n",
      "specificity = 9.6%\n",
      "precision = 83.0%\n",
      "NPV = 91.2%\n"
     ]
    }
   ],
   "source": [
    "TP,FN,FP,TN = C.ravel()\n",
    "print(f\"recall = {TP/(TP+FN):.1%}\")\n",
    "print(f\"specificity = {TN/(TN+FP):.1%}\")\n",
    "print(f\"precision = {TP/(TP+FP):.1%}\")\n",
    "print(f\"NPV = {TN/(TN+FN):.1%}\")"
   ]
  },
  {
   "cell_type": "markdown",
   "id": "26585268",
   "metadata": {},
   "source": [
    "The recall is almost perfect: virtually nobody who should get a loan will go away disappointed. However, the low specificity would be concerning to those doing the funding, because nine in ten applicants who should be denied will be funded as well.\n",
    "\n",
    "We could make the performance seemingly a lot better by changing how the classifier is set up."
   ]
  },
  {
   "cell_type": "code",
   "execution_count": 9,
   "id": "1ceddfcc",
   "metadata": {},
   "outputs": [
    {
     "name": "stdout",
     "output_type": "stream",
     "text": [
      "[[3377    0]\n",
      " [   0  763]]\n"
     ]
    }
   ],
   "source": [
    "knn = nbr.KNeighborsClassifier(n_neighbors=1) \n",
    "knn.fit(X,y)  \n",
    "yhat = knn.predict(X) \n",
    "\n",
    "C = metrics.confusion_matrix(y,yhat,labels=[-1,1])\n",
    "print(C)"
   ]
  },
  {
   "cell_type": "markdown",
   "id": "34c9d8d8",
   "metadata": {},
   "source": [
    "By every one of our measures, this is perfect performance! However, our enthusiasm has to be kept in check. Thus far we are only testing the performance on the training data. Will it work well on new instances? We consider that question next."
   ]
  }
 ],
 "metadata": {
  "jupytext": {
   "text_representation": {
    "extension": ".md",
    "format_name": "myst",
    "format_version": 0.13,
    "jupytext_version": "1.10.3"
   }
  },
  "kernelspec": {
   "display_name": "Python 3.8.8 64-bit ('base': conda)",
   "language": "python",
   "name": "python3"
  },
  "language_info": {
   "codemirror_mode": {
    "name": "ipython",
    "version": 3
   },
   "file_extension": ".py",
   "mimetype": "text/x-python",
   "name": "python",
   "nbconvert_exporter": "python",
   "pygments_lexer": "ipython3",
   "version": "3.8.8"
  },
  "source_map": [
   12,
   20,
   26,
   30,
   32,
   36,
   38,
   50,
   57,
   61,
   65,
   69,
   72,
   94,
   99,
   129,
   135,
   141,
   148
  ]
 },
 "nbformat": 4,
 "nbformat_minor": 5
}