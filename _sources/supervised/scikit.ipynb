{
 "cells": [
  {
   "cell_type": "markdown",
   "id": "1ed8f65c",
   "metadata": {},
   "source": [
    "# Using scikit-learn\n",
    "\n",
    "As a data set, we use loan applications on a crowdfunding site. Each feature vector is of length 15, indicating factors such as the amount requested, the interest rate, the applicant's annual income, etc. The goal is to predict whether the loan is at least partly funded.\n",
    "\n",
    "In order to work with vectors and matrices, which are both types of arrays, we will use the `numpy` package."
   ]
  },
  {
   "cell_type": "code",
   "execution_count": 1,
   "id": "c5e8b55c",
   "metadata": {},
   "outputs": [
    {
     "name": "stdout",
     "output_type": "stream",
     "text": [
      "feature matrix has shape (4140, 15)\n",
      "label vector has shape (4140,)\n",
      "there are $d features and $n samples\n"
     ]
    }
   ],
   "source": [
    "import numpy as np\n",
    "X = np.loadtxt(\"data.csv\",delimiter=\",\")\n",
    "print(\"feature matrix has shape\",X.shape)\n",
    "y = np.loadtxt(\"labels.csv\",delimiter=\",\")\n",
    "print(\"label vector has shape\",y.shape)\n",
    "n,d = X.shape\n",
    "print(\"there are $d features and $n samples\")"
   ]
  },
  {
   "cell_type": "markdown",
   "id": "9d0995c7",
   "metadata": {},
   "source": [
    "Let's look at the first 5 features of the first instance."
   ]
  },
  {
   "cell_type": "code",
   "execution_count": 2,
   "id": "4e34a2b1",
   "metadata": {},
   "outputs": [
    {
     "data": {
      "text/plain": [
       "array([3.600e+03, 2.375e+03, 7.631e+01, 3.000e+04, 1.504e+01])"
      ]
     },
     "execution_count": 2,
     "metadata": {},
     "output_type": "execute_result"
    }
   ],
   "source": [
    "X[0,:5]"
   ]
  },
  {
   "cell_type": "markdown",
   "id": "cfc315e7",
   "metadata": {},
   "source": [
    "And here are the last 6 labels."
   ]
  },
  {
   "cell_type": "code",
   "execution_count": 3,
   "id": "2cdf3d20",
   "metadata": {},
   "outputs": [
    {
     "data": {
      "text/plain": [
       "array([-1., -1., -1., -1., -1., -1.])"
      ]
     },
     "execution_count": 3,
     "metadata": {},
     "output_type": "execute_result"
    }
   ],
   "source": [
    "y[-6:]"
   ]
  },
  {
   "cell_type": "markdown",
   "id": "fcdab76c",
   "metadata": {},
   "source": [
    "A label $-1$ indicates that the loan was funded, while $1$ indicates that it was rejected.\n",
    "\n",
    "We will use the scikit-learn (`sklearn`) package to get familiar with classifiers. There are three main activities in this package:\n",
    "\n",
    "* **fit**, to train the classifier\n",
    "* **predict**, to apply the classifier\n",
    "* **transform**, to modify the data\n",
    "\n",
    "We'll explore fitting and prediction for now. Let's try a classifier whose characteristics we will explain in a future section."
   ]
  },
  {
   "cell_type": "code",
   "execution_count": 4,
   "id": "c797de90",
   "metadata": {},
   "outputs": [
    {
     "data": {
      "text/plain": [
       "KNeighborsClassifier(n_neighbors=11)"
      ]
     },
     "execution_count": 4,
     "metadata": {},
     "output_type": "execute_result"
    }
   ],
   "source": [
    "from sklearn import neighbors \n",
    "knn = neighbors.KNeighborsClassifier(n_neighbors=11)   # specification\n",
    "knn.fit(X,y)            # training"
   ]
  },
  {
   "cell_type": "markdown",
   "id": "db6bb362",
   "metadata": {},
   "source": [
    "At this point, the classifier object `knn` has figured out what it needs to do with the training data, and we can ask it to make predictions. Each application we want a prediction for is a vector with 15 components (features). The prediction query has to be a 2D array, with each row being a query vector. The result is a vector of predictions."
   ]
  },
  {
   "cell_type": "code",
   "execution_count": 5,
   "id": "581226e7",
   "metadata": {},
   "outputs": [
    {
     "data": {
      "text/plain": [
       "array([-1.])"
      ]
     },
     "execution_count": 5,
     "metadata": {},
     "output_type": "execute_result"
    }
   ],
   "source": [
    "Xq = 100*np.ones((1,d))\n",
    "knn.predict(Xq)"
   ]
  },
  {
   "cell_type": "markdown",
   "id": "4c04540a",
   "metadata": {},
   "source": [
    "We don't have any realistic application data at hand, other than the training data. By comparing the predictions made for that data to the true labels we supplied, we can try to get an idea of how accurate the predictor is."
   ]
  },
  {
   "cell_type": "code",
   "execution_count": 6,
   "id": "ff3ab6c8",
   "metadata": {},
   "outputs": [
    {
     "data": {
      "text/plain": [
       "array([-1., -1., -1., -1., -1., -1.])"
      ]
     },
     "execution_count": 6,
     "metadata": {},
     "output_type": "execute_result"
    }
   ],
   "source": [
    "yhat = knn.predict(X)   # prediction\n",
    "yhat[-6:]"
   ]
  },
  {
   "cell_type": "markdown",
   "id": "a694ba68",
   "metadata": {},
   "source": [
    "Compared to the true labels we printed out above, so far, so good. Now simply count up the number of correctly predicted labels and then divide by the total number of labels, $n$."
   ]
  },
  {
   "cell_type": "code",
   "execution_count": 7,
   "id": "32dde44d",
   "metadata": {},
   "outputs": [
    {
     "name": "stdout",
     "output_type": "stream",
     "text": [
      "accuracy is 83.2%\n"
     ]
    }
   ],
   "source": [
    "acc = sum(yhat==y)/n \n",
    "print(f\"accuracy is {acc:.1%}\")"
   ]
  },
  {
   "cell_type": "markdown",
   "id": "f3cb600a",
   "metadata": {},
   "source": [
    "Of course, scikit has functions for doing all this in fewer steps."
   ]
  },
  {
   "cell_type": "code",
   "execution_count": 8,
   "id": "d0e7b47f",
   "metadata": {},
   "outputs": [
    {
     "name": "stdout",
     "output_type": "stream",
     "text": [
      "accuracy is 83.2%\n",
      "accuracy is 83.2%\n"
     ]
    }
   ],
   "source": [
    "from sklearn import metrics\n",
    "\n",
    "acc = metrics.accuracy_score(y,yhat)\n",
    "print(f\"accuracy is {acc:.1%}\")\n",
    "\n",
    "acc = knn.score(X,y)\n",
    "print(f\"accuracy is {acc:.1%}\")"
   ]
  },
  {
   "cell_type": "markdown",
   "id": "80217c32",
   "metadata": {},
   "source": [
    "## Train–test paradigm\n",
    "\n",
    "Good performance of a classifier on the samples used to train seems to be necessary, but is it sufficient? We are more interested on how the classifier performs on new data. This is the question of *generalization*. In order to gauge generalization, we hold back some of the labeled data from training and use it only to test the performance.\n",
    "\n",
    "\n",
    "<!-- \n",
    "```{code-cell}\n",
    "import numpy as np\n",
    "X = np.loadtxt(\"data.csv\",delimiter=\",\")\n",
    "y = np.loadtxt(\"labels.csv\",delimiter=\",\")\n",
    "``` \n",
    "-->\n",
    "\n",
    "A `sklearn` helper function allows us to split off a randomized 20% of the data to use for testing:"
   ]
  },
  {
   "cell_type": "code",
   "execution_count": 9,
   "id": "af66a82a",
   "metadata": {},
   "outputs": [
    {
     "name": "stdout",
     "output_type": "stream",
     "text": [
      "3312 training cases and 828 test cases\n"
     ]
    }
   ],
   "source": [
    "from sklearn.model_selection import train_test_split\n",
    "X_tr, X_te, y_tr, y_te = train_test_split(X,y,test_size=0.2)\n",
    "print(len(y_tr),\"training cases and\",len(y_te),\"test cases\")"
   ]
  },
  {
   "cell_type": "markdown",
   "id": "2fe3b5ce",
   "metadata": {},
   "source": [
    "Now we train on the training data..."
   ]
  },
  {
   "cell_type": "code",
   "execution_count": 10,
   "id": "69a7a0ed",
   "metadata": {},
   "outputs": [
    {
     "data": {
      "text/plain": [
       "KNeighborsClassifier(n_neighbors=1)"
      ]
     },
     "execution_count": 10,
     "metadata": {},
     "output_type": "execute_result"
    }
   ],
   "source": [
    "from sklearn import neighbors as nbr\n",
    "knn = nbr.KNeighborsClassifier(n_neighbors=1)\n",
    "knn.fit(X_tr,y_tr)"
   ]
  },
  {
   "cell_type": "markdown",
   "id": "96319270",
   "metadata": {},
   "source": [
    "...and test on the rest."
   ]
  },
  {
   "cell_type": "code",
   "execution_count": 11,
   "id": "a9401f56",
   "metadata": {},
   "outputs": [
    {
     "name": "stdout",
     "output_type": "stream",
     "text": [
      "accuracy is 74.2%\n"
     ]
    }
   ],
   "source": [
    "acc = knn.score(X_te,y_te)\n",
    "print(f\"accuracy is {acc:.1%}\")"
   ]
  },
  {
   "cell_type": "markdown",
   "id": "13ec560c",
   "metadata": {},
   "source": [
    "This is a less flattering result than when we computed accuracy on the full set.\n",
    "\n",
    "## sklearn and pandas\n",
    "\n",
    "Scikit-learn plays very nicely with pandas. You can use data frames for the sample values and labels. Let's look at a data set that comes from seaborn."
   ]
  },
  {
   "cell_type": "code",
   "execution_count": 12,
   "id": "39db5fa5",
   "metadata": {},
   "outputs": [
    {
     "data": {
      "text/html": [
       "<div>\n",
       "<style scoped>\n",
       "    .dataframe tbody tr th:only-of-type {\n",
       "        vertical-align: middle;\n",
       "    }\n",
       "\n",
       "    .dataframe tbody tr th {\n",
       "        vertical-align: top;\n",
       "    }\n",
       "\n",
       "    .dataframe thead th {\n",
       "        text-align: right;\n",
       "    }\n",
       "</style>\n",
       "<table border=\"1\" class=\"dataframe\">\n",
       "  <thead>\n",
       "    <tr style=\"text-align: right;\">\n",
       "      <th></th>\n",
       "      <th>species</th>\n",
       "      <th>island</th>\n",
       "      <th>bill_length_mm</th>\n",
       "      <th>bill_depth_mm</th>\n",
       "      <th>flipper_length_mm</th>\n",
       "      <th>body_mass_g</th>\n",
       "      <th>sex</th>\n",
       "    </tr>\n",
       "  </thead>\n",
       "  <tbody>\n",
       "    <tr>\n",
       "      <th>0</th>\n",
       "      <td>Adelie</td>\n",
       "      <td>Torgersen</td>\n",
       "      <td>39.1</td>\n",
       "      <td>18.7</td>\n",
       "      <td>181.0</td>\n",
       "      <td>3750.0</td>\n",
       "      <td>Male</td>\n",
       "    </tr>\n",
       "    <tr>\n",
       "      <th>1</th>\n",
       "      <td>Adelie</td>\n",
       "      <td>Torgersen</td>\n",
       "      <td>39.5</td>\n",
       "      <td>17.4</td>\n",
       "      <td>186.0</td>\n",
       "      <td>3800.0</td>\n",
       "      <td>Female</td>\n",
       "    </tr>\n",
       "    <tr>\n",
       "      <th>2</th>\n",
       "      <td>Adelie</td>\n",
       "      <td>Torgersen</td>\n",
       "      <td>40.3</td>\n",
       "      <td>18.0</td>\n",
       "      <td>195.0</td>\n",
       "      <td>3250.0</td>\n",
       "      <td>Female</td>\n",
       "    </tr>\n",
       "    <tr>\n",
       "      <th>4</th>\n",
       "      <td>Adelie</td>\n",
       "      <td>Torgersen</td>\n",
       "      <td>36.7</td>\n",
       "      <td>19.3</td>\n",
       "      <td>193.0</td>\n",
       "      <td>3450.0</td>\n",
       "      <td>Female</td>\n",
       "    </tr>\n",
       "    <tr>\n",
       "      <th>5</th>\n",
       "      <td>Adelie</td>\n",
       "      <td>Torgersen</td>\n",
       "      <td>39.3</td>\n",
       "      <td>20.6</td>\n",
       "      <td>190.0</td>\n",
       "      <td>3650.0</td>\n",
       "      <td>Male</td>\n",
       "    </tr>\n",
       "    <tr>\n",
       "      <th>...</th>\n",
       "      <td>...</td>\n",
       "      <td>...</td>\n",
       "      <td>...</td>\n",
       "      <td>...</td>\n",
       "      <td>...</td>\n",
       "      <td>...</td>\n",
       "      <td>...</td>\n",
       "    </tr>\n",
       "    <tr>\n",
       "      <th>338</th>\n",
       "      <td>Gentoo</td>\n",
       "      <td>Biscoe</td>\n",
       "      <td>47.2</td>\n",
       "      <td>13.7</td>\n",
       "      <td>214.0</td>\n",
       "      <td>4925.0</td>\n",
       "      <td>Female</td>\n",
       "    </tr>\n",
       "    <tr>\n",
       "      <th>340</th>\n",
       "      <td>Gentoo</td>\n",
       "      <td>Biscoe</td>\n",
       "      <td>46.8</td>\n",
       "      <td>14.3</td>\n",
       "      <td>215.0</td>\n",
       "      <td>4850.0</td>\n",
       "      <td>Female</td>\n",
       "    </tr>\n",
       "    <tr>\n",
       "      <th>341</th>\n",
       "      <td>Gentoo</td>\n",
       "      <td>Biscoe</td>\n",
       "      <td>50.4</td>\n",
       "      <td>15.7</td>\n",
       "      <td>222.0</td>\n",
       "      <td>5750.0</td>\n",
       "      <td>Male</td>\n",
       "    </tr>\n",
       "    <tr>\n",
       "      <th>342</th>\n",
       "      <td>Gentoo</td>\n",
       "      <td>Biscoe</td>\n",
       "      <td>45.2</td>\n",
       "      <td>14.8</td>\n",
       "      <td>212.0</td>\n",
       "      <td>5200.0</td>\n",
       "      <td>Female</td>\n",
       "    </tr>\n",
       "    <tr>\n",
       "      <th>343</th>\n",
       "      <td>Gentoo</td>\n",
       "      <td>Biscoe</td>\n",
       "      <td>49.9</td>\n",
       "      <td>16.1</td>\n",
       "      <td>213.0</td>\n",
       "      <td>5400.0</td>\n",
       "      <td>Male</td>\n",
       "    </tr>\n",
       "  </tbody>\n",
       "</table>\n",
       "<p>333 rows × 7 columns</p>\n",
       "</div>"
      ],
      "text/plain": [
       "    species     island  bill_length_mm  bill_depth_mm  flipper_length_mm  \\\n",
       "0    Adelie  Torgersen            39.1           18.7              181.0   \n",
       "1    Adelie  Torgersen            39.5           17.4              186.0   \n",
       "2    Adelie  Torgersen            40.3           18.0              195.0   \n",
       "4    Adelie  Torgersen            36.7           19.3              193.0   \n",
       "5    Adelie  Torgersen            39.3           20.6              190.0   \n",
       "..      ...        ...             ...            ...                ...   \n",
       "338  Gentoo     Biscoe            47.2           13.7              214.0   \n",
       "340  Gentoo     Biscoe            46.8           14.3              215.0   \n",
       "341  Gentoo     Biscoe            50.4           15.7              222.0   \n",
       "342  Gentoo     Biscoe            45.2           14.8              212.0   \n",
       "343  Gentoo     Biscoe            49.9           16.1              213.0   \n",
       "\n",
       "     body_mass_g     sex  \n",
       "0         3750.0    Male  \n",
       "1         3800.0  Female  \n",
       "2         3250.0  Female  \n",
       "4         3450.0  Female  \n",
       "5         3650.0    Male  \n",
       "..           ...     ...  \n",
       "338       4925.0  Female  \n",
       "340       4850.0  Female  \n",
       "341       5750.0    Male  \n",
       "342       5200.0  Female  \n",
       "343       5400.0    Male  \n",
       "\n",
       "[333 rows x 7 columns]"
      ]
     },
     "execution_count": 12,
     "metadata": {},
     "output_type": "execute_result"
    }
   ],
   "source": [
    "import seaborn as sns\n",
    "penguins = sns.load_dataset(\"penguins\")\n",
    "penguins = penguins.dropna()\n",
    "penguins"
   ]
  },
  {
   "cell_type": "markdown",
   "id": "86a98670",
   "metadata": {},
   "source": [
    "The `dropna` call above removes rows that have a `NaN` value in any column, as sklearn doesn't handle those well all the time. This data frame has four quantitative columns that we will use as features. We will use the species column for the labels."
   ]
  },
  {
   "cell_type": "code",
   "execution_count": 13,
   "id": "5eddacb5",
   "metadata": {},
   "outputs": [],
   "source": [
    "X = penguins[[\"bill_length_mm\",\"bill_depth_mm\",\"flipper_length_mm\",\"body_mass_g\"]]\n",
    "y = penguins[\"species\"]"
   ]
  },
  {
   "cell_type": "markdown",
   "id": "6dc8e2c6",
   "metadata": {},
   "source": [
    "Now `X` is a data frame and `y` is a series. They can be input directly into a learning method call."
   ]
  },
  {
   "cell_type": "code",
   "execution_count": 14,
   "id": "d9662c50",
   "metadata": {},
   "outputs": [],
   "source": [
    "knn = neighbors.KNeighborsClassifier(n_neighbors=5)\n",
    "knn.fit(X,y);"
   ]
  },
  {
   "cell_type": "markdown",
   "id": "88f58401",
   "metadata": {},
   "source": [
    "To make predictions, we need to pass in another data frame that has the same columns as `X`. Here is a simple way to turn a numerical vector or list into such a frame."
   ]
  },
  {
   "cell_type": "code",
   "execution_count": 15,
   "id": "67515ad8",
   "metadata": {},
   "outputs": [
    {
     "data": {
      "text/html": [
       "<div>\n",
       "<style scoped>\n",
       "    .dataframe tbody tr th:only-of-type {\n",
       "        vertical-align: middle;\n",
       "    }\n",
       "\n",
       "    .dataframe tbody tr th {\n",
       "        vertical-align: top;\n",
       "    }\n",
       "\n",
       "    .dataframe thead th {\n",
       "        text-align: right;\n",
       "    }\n",
       "</style>\n",
       "<table border=\"1\" class=\"dataframe\">\n",
       "  <thead>\n",
       "    <tr style=\"text-align: right;\">\n",
       "      <th></th>\n",
       "      <th>bill_length_mm</th>\n",
       "      <th>bill_depth_mm</th>\n",
       "      <th>flipper_length_mm</th>\n",
       "      <th>body_mass_g</th>\n",
       "    </tr>\n",
       "  </thead>\n",
       "  <tbody>\n",
       "    <tr>\n",
       "      <th>0</th>\n",
       "      <td>39</td>\n",
       "      <td>19</td>\n",
       "      <td>180</td>\n",
       "      <td>3750</td>\n",
       "    </tr>\n",
       "  </tbody>\n",
       "</table>\n",
       "</div>"
      ],
      "text/plain": [
       "   bill_length_mm  bill_depth_mm  flipper_length_mm  body_mass_g\n",
       "0              39             19                180         3750"
      ]
     },
     "execution_count": 15,
     "metadata": {},
     "output_type": "execute_result"
    }
   ],
   "source": [
    "import pandas as pd\n",
    "x_new = [39,19,180,3750]\n",
    "xdf = pd.DataFrame([x_new],columns=X.columns)\n",
    "xdf"
   ]
  },
  {
   "cell_type": "markdown",
   "id": "1e4c7c5c",
   "metadata": {},
   "source": [
    "(The `[x_new]` part does need to have the brackets, so that pandas sees a list of row values there. We could put multiple rows in that list.) Now we can use the classifier to make a prediction."
   ]
  },
  {
   "cell_type": "code",
   "execution_count": 16,
   "id": "342a4806",
   "metadata": {},
   "outputs": [
    {
     "data": {
      "text/plain": [
       "array(['Adelie'], dtype=object)"
      ]
     },
     "execution_count": 16,
     "metadata": {},
     "output_type": "execute_result"
    }
   ],
   "source": [
    "knn.predict(xdf)"
   ]
  },
  {
   "cell_type": "markdown",
   "id": "6f545cb0",
   "metadata": {},
   "source": [
    "The result comes back as a series of the same dtype as `y`.\n",
    "\n",
    "This may seem like hassle and extra work for mere window dressing. Why not just work with arrays? When we are focusing on the math, that's fine. But in an application, it's easy to lose track of what the integer indexes of an array are supposed to mean. By using their names, you keep things clearer in your own mind, and scikit will give you warnings and errors if you aren't using them consistently. In other words, it's *productive* hassle."
   ]
  }
 ],
 "metadata": {
  "jupytext": {
   "text_representation": {
    "extension": ".md",
    "format_name": "myst",
    "format_version": 0.13,
    "jupytext_version": "1.10.3"
   }
  },
  "kernelspec": {
   "display_name": "Python 3.8.8 64-bit ('base': conda)",
   "language": "python",
   "name": "python3"
  },
  "language_info": {
   "codemirror_mode": {
    "name": "ipython",
    "version": 3
   },
   "file_extension": ".py",
   "mimetype": "text/x-python",
   "name": "python",
   "nbconvert_exporter": "python",
   "pygments_lexer": "ipython3",
   "version": "3.8.8"
  },
  "source_map": [
   12,
   20,
   28,
   32,
   34,
   38,
   40,
   52,
   56,
   60,
   63,
   67,
   70,
   74,
   77,
   81,
   89,
   106,
   110,
   114,
   118,
   122,
   125,
   133,
   138,
   142,
   145,
   149,
   152,
   156,
   161,
   165,
   167
  ]
 },
 "nbformat": 4,
 "nbformat_minor": 5
}