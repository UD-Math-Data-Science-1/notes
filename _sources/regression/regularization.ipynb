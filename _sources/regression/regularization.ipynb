{
 "cells": [
  {
   "cell_type": "markdown",
   "id": "dafc9221",
   "metadata": {},
   "source": [
    "# Regularization\n",
    "\n",
    "As a general term, *regularization* refers to modifying something that is difficult to compute accurately with something more tractable. For learning models, regularization is a common way to combat overfitting.\n",
    "\n",
    "Imagine we had an $\\real^{n\\times 4}$ feature matrix in which the features are identical; that is, the predictor variables satisfy $x_1=x_2=x_3=x_4$, and suppose the target $y$ also equals $x_1$. Clearly, we get a perfect regression if we use\n",
    "\n",
    "$$\n",
    "y = 1x_1 + 0x_2 + 0x_3 + 0x_4.\n",
    "$$\n",
    "\n",
    "But an equally good regression is \n",
    "\n",
    "$$\n",
    "y = \\frac{1}{4}x_1 + \\frac{1}{4}x_2 + \\frac{1}{4}x_3 + \\frac{1}{4}x_4.\n",
    "$$\n",
    "\n",
    "For that matter, so is\n",
    "\n",
    "$$\n",
    "y = 1000x_1 - 500x_2 - 500x_3 + 1x_4.\n",
    "$$\n",
    "\n",
    "A problem with more than one solution is called **ill-posed**. If we made tiny changes to the predictor variables in this thought experiment, the problem would technically be well-posed, but there would be a wide range of solutions that were very nearly correct, in which case the problem is said to be **ill conditioned**, and for practical purposes it remains just as difficult.\n",
    "\n",
    "The ill conditioning can be regularized away by modifying the least squares loss function to penalize complexity in the model, in the form of excessively large regression coefficients. The common choices are **ridge regression**,\n",
    "\n",
    "$$\n",
    "L(\\bfw) = \\twonorm{ \\bfX \\bfw- \\bfy }^2 + \\alpha \\twonorm{\\bfw}^2,\n",
    "$$\n",
    "\n",
    "and **LASSO**, \n",
    "\n",
    "$$\n",
    "L(\\bfw) = \\twonorm{ \\bfX \\bfw- \\bfy }^2 + \\alpha \\onenorm{\\bfw}.\n",
    "$$\n",
    "\n",
    "As $\\alpha\\to 0$, both forms revert to the usual least squares loss, but as $\\alpha \\to \\infty$, the optimization becomes increasingly concerned with prioritizing a small result for $\\bfw$. \n",
    "\n",
    "While ridge regression is an easier function to minimize quickly, LASSO has an interesting advantage, as illustrated in this figure.\n",
    "\n",
    "```{figure} ../_static/regularization.png\n",
    "```\n",
    "\n",
    "LASSO tends to produce **sparse** results, meaning that some of the regression coefficients are zero or negligible. These zeros indicate predictor variables that have minor predictive value, which can be valuable information in itself. Moreover, when regression is run without these variables, there may be little effect on the bias, but a reduction in variance.\n",
    "\n",
    "## Case study: Diabetes progression\n",
    "\n",
    "We'll apply regularized regression to data collected about the progression of diabetes."
   ]
  },
  {
   "cell_type": "code",
   "execution_count": 1,
   "id": "4fa07f21",
   "metadata": {},
   "outputs": [
    {
     "data": {
      "text/html": [
       "<div>\n",
       "<style scoped>\n",
       "    .dataframe tbody tr th:only-of-type {\n",
       "        vertical-align: middle;\n",
       "    }\n",
       "\n",
       "    .dataframe tbody tr th {\n",
       "        vertical-align: top;\n",
       "    }\n",
       "\n",
       "    .dataframe thead th {\n",
       "        text-align: right;\n",
       "    }\n",
       "</style>\n",
       "<table border=\"1\" class=\"dataframe\">\n",
       "  <thead>\n",
       "    <tr style=\"text-align: right;\">\n",
       "      <th></th>\n",
       "      <th>age</th>\n",
       "      <th>sex</th>\n",
       "      <th>bmi</th>\n",
       "      <th>bp</th>\n",
       "      <th>s1</th>\n",
       "      <th>s2</th>\n",
       "      <th>s3</th>\n",
       "      <th>s4</th>\n",
       "      <th>s5</th>\n",
       "      <th>s6</th>\n",
       "      <th>target</th>\n",
       "    </tr>\n",
       "  </thead>\n",
       "  <tbody>\n",
       "    <tr>\n",
       "      <th>0</th>\n",
       "      <td>0.038076</td>\n",
       "      <td>0.050680</td>\n",
       "      <td>0.061696</td>\n",
       "      <td>0.021872</td>\n",
       "      <td>-0.044223</td>\n",
       "      <td>-0.034821</td>\n",
       "      <td>-0.043401</td>\n",
       "      <td>-0.002592</td>\n",
       "      <td>0.019908</td>\n",
       "      <td>-0.017646</td>\n",
       "      <td>151.0</td>\n",
       "    </tr>\n",
       "    <tr>\n",
       "      <th>1</th>\n",
       "      <td>-0.001882</td>\n",
       "      <td>-0.044642</td>\n",
       "      <td>-0.051474</td>\n",
       "      <td>-0.026328</td>\n",
       "      <td>-0.008449</td>\n",
       "      <td>-0.019163</td>\n",
       "      <td>0.074412</td>\n",
       "      <td>-0.039493</td>\n",
       "      <td>-0.068330</td>\n",
       "      <td>-0.092204</td>\n",
       "      <td>75.0</td>\n",
       "    </tr>\n",
       "    <tr>\n",
       "      <th>2</th>\n",
       "      <td>0.085299</td>\n",
       "      <td>0.050680</td>\n",
       "      <td>0.044451</td>\n",
       "      <td>-0.005671</td>\n",
       "      <td>-0.045599</td>\n",
       "      <td>-0.034194</td>\n",
       "      <td>-0.032356</td>\n",
       "      <td>-0.002592</td>\n",
       "      <td>0.002864</td>\n",
       "      <td>-0.025930</td>\n",
       "      <td>141.0</td>\n",
       "    </tr>\n",
       "    <tr>\n",
       "      <th>3</th>\n",
       "      <td>-0.089063</td>\n",
       "      <td>-0.044642</td>\n",
       "      <td>-0.011595</td>\n",
       "      <td>-0.036656</td>\n",
       "      <td>0.012191</td>\n",
       "      <td>0.024991</td>\n",
       "      <td>-0.036038</td>\n",
       "      <td>0.034309</td>\n",
       "      <td>0.022692</td>\n",
       "      <td>-0.009362</td>\n",
       "      <td>206.0</td>\n",
       "    </tr>\n",
       "    <tr>\n",
       "      <th>4</th>\n",
       "      <td>0.005383</td>\n",
       "      <td>-0.044642</td>\n",
       "      <td>-0.036385</td>\n",
       "      <td>0.021872</td>\n",
       "      <td>0.003935</td>\n",
       "      <td>0.015596</td>\n",
       "      <td>0.008142</td>\n",
       "      <td>-0.002592</td>\n",
       "      <td>-0.031991</td>\n",
       "      <td>-0.046641</td>\n",
       "      <td>135.0</td>\n",
       "    </tr>\n",
       "    <tr>\n",
       "      <th>...</th>\n",
       "      <td>...</td>\n",
       "      <td>...</td>\n",
       "      <td>...</td>\n",
       "      <td>...</td>\n",
       "      <td>...</td>\n",
       "      <td>...</td>\n",
       "      <td>...</td>\n",
       "      <td>...</td>\n",
       "      <td>...</td>\n",
       "      <td>...</td>\n",
       "      <td>...</td>\n",
       "    </tr>\n",
       "    <tr>\n",
       "      <th>437</th>\n",
       "      <td>0.041708</td>\n",
       "      <td>0.050680</td>\n",
       "      <td>0.019662</td>\n",
       "      <td>0.059744</td>\n",
       "      <td>-0.005697</td>\n",
       "      <td>-0.002566</td>\n",
       "      <td>-0.028674</td>\n",
       "      <td>-0.002592</td>\n",
       "      <td>0.031193</td>\n",
       "      <td>0.007207</td>\n",
       "      <td>178.0</td>\n",
       "    </tr>\n",
       "    <tr>\n",
       "      <th>438</th>\n",
       "      <td>-0.005515</td>\n",
       "      <td>0.050680</td>\n",
       "      <td>-0.015906</td>\n",
       "      <td>-0.067642</td>\n",
       "      <td>0.049341</td>\n",
       "      <td>0.079165</td>\n",
       "      <td>-0.028674</td>\n",
       "      <td>0.034309</td>\n",
       "      <td>-0.018118</td>\n",
       "      <td>0.044485</td>\n",
       "      <td>104.0</td>\n",
       "    </tr>\n",
       "    <tr>\n",
       "      <th>439</th>\n",
       "      <td>0.041708</td>\n",
       "      <td>0.050680</td>\n",
       "      <td>-0.015906</td>\n",
       "      <td>0.017282</td>\n",
       "      <td>-0.037344</td>\n",
       "      <td>-0.013840</td>\n",
       "      <td>-0.024993</td>\n",
       "      <td>-0.011080</td>\n",
       "      <td>-0.046879</td>\n",
       "      <td>0.015491</td>\n",
       "      <td>132.0</td>\n",
       "    </tr>\n",
       "    <tr>\n",
       "      <th>440</th>\n",
       "      <td>-0.045472</td>\n",
       "      <td>-0.044642</td>\n",
       "      <td>0.039062</td>\n",
       "      <td>0.001215</td>\n",
       "      <td>0.016318</td>\n",
       "      <td>0.015283</td>\n",
       "      <td>-0.028674</td>\n",
       "      <td>0.026560</td>\n",
       "      <td>0.044528</td>\n",
       "      <td>-0.025930</td>\n",
       "      <td>220.0</td>\n",
       "    </tr>\n",
       "    <tr>\n",
       "      <th>441</th>\n",
       "      <td>-0.045472</td>\n",
       "      <td>-0.044642</td>\n",
       "      <td>-0.073030</td>\n",
       "      <td>-0.081414</td>\n",
       "      <td>0.083740</td>\n",
       "      <td>0.027809</td>\n",
       "      <td>0.173816</td>\n",
       "      <td>-0.039493</td>\n",
       "      <td>-0.004220</td>\n",
       "      <td>0.003064</td>\n",
       "      <td>57.0</td>\n",
       "    </tr>\n",
       "  </tbody>\n",
       "</table>\n",
       "<p>442 rows × 11 columns</p>\n",
       "</div>"
      ],
      "text/plain": [
       "          age       sex       bmi        bp        s1        s2        s3  \\\n",
       "0    0.038076  0.050680  0.061696  0.021872 -0.044223 -0.034821 -0.043401   \n",
       "1   -0.001882 -0.044642 -0.051474 -0.026328 -0.008449 -0.019163  0.074412   \n",
       "2    0.085299  0.050680  0.044451 -0.005671 -0.045599 -0.034194 -0.032356   \n",
       "3   -0.089063 -0.044642 -0.011595 -0.036656  0.012191  0.024991 -0.036038   \n",
       "4    0.005383 -0.044642 -0.036385  0.021872  0.003935  0.015596  0.008142   \n",
       "..        ...       ...       ...       ...       ...       ...       ...   \n",
       "437  0.041708  0.050680  0.019662  0.059744 -0.005697 -0.002566 -0.028674   \n",
       "438 -0.005515  0.050680 -0.015906 -0.067642  0.049341  0.079165 -0.028674   \n",
       "439  0.041708  0.050680 -0.015906  0.017282 -0.037344 -0.013840 -0.024993   \n",
       "440 -0.045472 -0.044642  0.039062  0.001215  0.016318  0.015283 -0.028674   \n",
       "441 -0.045472 -0.044642 -0.073030 -0.081414  0.083740  0.027809  0.173816   \n",
       "\n",
       "           s4        s5        s6  target  \n",
       "0   -0.002592  0.019908 -0.017646   151.0  \n",
       "1   -0.039493 -0.068330 -0.092204    75.0  \n",
       "2   -0.002592  0.002864 -0.025930   141.0  \n",
       "3    0.034309  0.022692 -0.009362   206.0  \n",
       "4   -0.002592 -0.031991 -0.046641   135.0  \n",
       "..        ...       ...       ...     ...  \n",
       "437 -0.002592  0.031193  0.007207   178.0  \n",
       "438  0.034309 -0.018118  0.044485   104.0  \n",
       "439 -0.011080 -0.046879  0.015491   132.0  \n",
       "440  0.026560  0.044528 -0.025930   220.0  \n",
       "441 -0.039493 -0.004220  0.003064    57.0  \n",
       "\n",
       "[442 rows x 11 columns]"
      ]
     },
     "execution_count": 1,
     "metadata": {},
     "output_type": "execute_result"
    }
   ],
   "source": [
    "from sklearn import datasets\n",
    "diabetes = datasets.load_diabetes(as_frame=True)[\"frame\"]\n",
    "diabetes"
   ]
  },
  {
   "cell_type": "markdown",
   "id": "e0a94554",
   "metadata": {},
   "source": [
    "First, we look at basic linear regression on all 10 predictive features in the data."
   ]
  },
  {
   "cell_type": "code",
   "execution_count": 2,
   "id": "65154b5e",
   "metadata": {},
   "outputs": [
    {
     "name": "stdout",
     "output_type": "stream",
     "text": [
      "linear model CoD score: 0.4399387660024645\n"
     ]
    }
   ],
   "source": [
    "X = diabetes.drop(\"target\",axis=1)\n",
    "y = diabetes[\"target\"]\n",
    "\n",
    "from sklearn.model_selection import train_test_split\n",
    "X_tr,X_te,y_tr,y_te = train_test_split(X,y,test_size=0.2,random_state=2)\n",
    "\n",
    "from sklearn.linear_model import LinearRegression\n",
    "lm = LinearRegression()\n",
    "lm.fit(X_tr,y_tr)\n",
    "print(\"linear model CoD score:\",lm.score(X_te,y_te))"
   ]
  },
  {
   "cell_type": "markdown",
   "id": "a281e7e2",
   "metadata": {},
   "source": [
    "We will find that ridge regression improves the score a bit, at least for some hyperparameter values:"
   ]
  },
  {
   "cell_type": "code",
   "execution_count": 3,
   "id": "0607c4c5",
   "metadata": {},
   "outputs": [
    {
     "name": "stdout",
     "output_type": "stream",
     "text": [
      "ridge regression CoD score: 0.4519973816947853\n"
     ]
    }
   ],
   "source": [
    "from sklearn.linear_model import Ridge\n",
    "rr = Ridge(alpha=0.1)  # alpha weights the regularization term\n",
    "rr.fit(X_tr,y_tr)\n",
    "print(\"ridge regression CoD score:\",rr.score(X_te,y_te))"
   ]
  },
  {
   "cell_type": "markdown",
   "id": "c33fd637",
   "metadata": {},
   "source": [
    "Ridge regularization added a penalty for the 2-norm of the regression coefficients vector. Accordingly, the regularized solution has smaller coefficients:"
   ]
  },
  {
   "cell_type": "code",
   "execution_count": 4,
   "id": "1ee70ba8",
   "metadata": {},
   "outputs": [
    {
     "name": "stdout",
     "output_type": "stream",
     "text": [
      "2-norm of unregularized model coefficients: 1525.2110583591316\n",
      "2-norm of ridge regression coefficients: 808.5402825823023\n"
     ]
    }
   ],
   "source": [
    "from numpy.linalg import norm\n",
    "print(\"2-norm of unregularized model coefficients:\",norm(lm.coef_))\n",
    "print(\"2-norm of ridge regression coefficients:\",norm(rr.coef_))"
   ]
  },
  {
   "cell_type": "markdown",
   "id": "aa2be164",
   "metadata": {},
   "source": [
    "As we continue to increase the regularization parameter, the method becomes increasingly obsessed with keeping the coefficient vector small, and pays ever less attention to the data as a result. Eventually, the quality of fit will decrease."
   ]
  },
  {
   "cell_type": "code",
   "execution_count": 5,
   "id": "a8890d6b",
   "metadata": {},
   "outputs": [
    {
     "name": "stdout",
     "output_type": "stream",
     "text": [
      "2-norm of coefficient vector: 238.894333259972\n",
      "ridge regression CoD score: 0.2659744571622481\n"
     ]
    }
   ],
   "source": [
    "rr = Ridge(alpha=4)  # more regularization\n",
    "rr.fit(X_tr,y_tr)\n",
    "print(\"2-norm of coefficient vector:\",norm(rr.coef_))\n",
    "print(\"ridge regression CoD score:\",rr.score(X_te,y_te))"
   ]
  },
  {
   "cell_type": "markdown",
   "id": "2907e21d",
   "metadata": {},
   "source": [
    "LASSO penalizes the 1-norm of the coefficient vector. Here's a LASSO regression fit:"
   ]
  },
  {
   "cell_type": "code",
   "execution_count": 6,
   "id": "a8d63b02",
   "metadata": {},
   "outputs": [
    {
     "name": "stdout",
     "output_type": "stream",
     "text": [
      "LASSO model CoD score: 0.4382313890360462\n",
      "1-norm of LASSO coefficient vector: 1906.369282881487\n",
      "1-norm of unregularized coefficient vector: 3722.853581168856\n"
     ]
    }
   ],
   "source": [
    "from sklearn.linear_model import Lasso\n",
    "lass = Lasso(alpha=0.05)\n",
    "lass.fit(X_tr,y_tr)\n",
    "print(\"LASSO model CoD score:\",lass.score(X_te,y_te))\n",
    "print(\"1-norm of LASSO coefficient vector:\",norm(lass.coef_,1))\n",
    "print(\"1-norm of unregularized coefficient vector:\",norm(lm.coef_,1))"
   ]
  },
  {
   "cell_type": "markdown",
   "id": "36aa590d",
   "metadata": {},
   "source": [
    "A validation curve suggests modest gains in the $R^2$ score as the regularization parameter is varied:"
   ]
  },
  {
   "cell_type": "code",
   "execution_count": 7,
   "id": "b3c3d75d",
   "metadata": {},
   "outputs": [],
   "source": [
    "from sklearn.model_selection import KFold,validation_curve\n",
    "import numpy as np\n",
    "kf = KFold(n_splits=4,shuffle=True,random_state=0)\n",
    "\n",
    "alpha = np.linspace(0,0.1,80)[1:]  # exclude alpha=0\n",
    "_,scores = validation_curve(lass,X_tr,y_tr,cv=kf,param_name=\"alpha\",param_range=alpha)"
   ]
  },
  {
   "cell_type": "code",
   "execution_count": 8,
   "id": "55797e54",
   "metadata": {},
   "outputs": [
    {
     "data": {
      "image/png": "[encoded data removed]",
      "text/plain": [
       "<Figure size 360x360 with 1 Axes>"
      ]
     },
     "metadata": {
      "filenames": {
       "image/png": "/home/driscoll/Dropbox/class/267/notes/_build/jupyter_execute/regression/regularization_14_0.png"
      },
      "needs_background": "light"
     },
     "output_type": "display_data"
    }
   ],
   "source": [
    "import seaborn as sns\n",
    "sns.relplot(x=alpha,y=np.mean(scores,axis=1));"
   ]
  },
  {
   "cell_type": "markdown",
   "id": "f95230f5",
   "metadata": {},
   "source": [
    "However, while ridge regression still uses all of the features, LASSO ignores four of them:"
   ]
  },
  {
   "cell_type": "code",
   "execution_count": 9,
   "id": "dcc68f4b",
   "metadata": {},
   "outputs": [
    {
     "name": "stdout",
     "output_type": "stream",
     "text": [
      "ridge coeffs:\n",
      "[ 35.59882969  -5.65413725 128.72386461  95.80592564  26.99211072\n",
      "  13.94765865 -73.92991399  68.3705389  121.92677535  63.9783969 ]\n",
      "LASSO coeffs:\n",
      "[  -0.         -155.28275008  529.16520628  313.42663726 -132.50563763\n",
      "   -0.         -165.17345325    0.          580.25912765   30.55647073]\n"
     ]
    }
   ],
   "source": [
    "print(\"ridge coeffs:\")\n",
    "print(rr.coef_)\n",
    "lass = Lasso(alpha=0.05)\n",
    "lass.fit(X_tr,y_tr)\n",
    "print(\"LASSO coeffs:\")\n",
    "print(lass.coef_)"
   ]
  },
  {
   "cell_type": "markdown",
   "id": "b2baf9d5",
   "metadata": {},
   "source": [
    "We can use the magnitude of the LASSO coefficients to rank the relative importance of the predictive features. We have to make sure to take the absolute values of the coefficients, because we don't care about whether an effect is positive or negative, just its magnitude."
   ]
  },
  {
   "cell_type": "code",
   "execution_count": 10,
   "id": "57ac1b24",
   "metadata": {},
   "outputs": [
    {
     "data": {
      "text/plain": [
       "array([8, 2, 3, 6, 1, 4, 9, 7, 5, 0])"
      ]
     },
     "execution_count": 10,
     "metadata": {},
     "output_type": "execute_result"
    }
   ],
   "source": [
    "import numpy as np\n",
    "# Get the permutation that sorts values in increasing order.\n",
    "idx = np.argsort(np.abs(lass.coef_))  \n",
    "idx = idx[::-1]    # reverse the order\n",
    "idx"
   ]
  },
  {
   "cell_type": "markdown",
   "id": "8c5e0e77",
   "metadata": {},
   "source": [
    "The last three features were dropped by LASSO:"
   ]
  },
  {
   "cell_type": "code",
   "execution_count": 11,
   "id": "98f336bf",
   "metadata": {},
   "outputs": [
    {
     "name": "stdout",
     "output_type": "stream",
     "text": [
      "Index(['s4', 's2', 'age'], dtype='object')\n"
     ]
    }
   ],
   "source": [
    "zeroed = X.columns[idx[-3:]]\n",
    "print(zeroed)"
   ]
  },
  {
   "cell_type": "markdown",
   "id": "1e4f1219",
   "metadata": {},
   "source": [
    "Now we can drop these features from the dataset:"
   ]
  },
  {
   "cell_type": "code",
   "execution_count": 12,
   "id": "bd9ead8a",
   "metadata": {},
   "outputs": [
    {
     "data": {
      "text/html": [
       "<div>\n",
       "<style scoped>\n",
       "    .dataframe tbody tr th:only-of-type {\n",
       "        vertical-align: middle;\n",
       "    }\n",
       "\n",
       "    .dataframe tbody tr th {\n",
       "        vertical-align: top;\n",
       "    }\n",
       "\n",
       "    .dataframe thead th {\n",
       "        text-align: right;\n",
       "    }\n",
       "</style>\n",
       "<table border=\"1\" class=\"dataframe\">\n",
       "  <thead>\n",
       "    <tr style=\"text-align: right;\">\n",
       "      <th></th>\n",
       "      <th>sex</th>\n",
       "      <th>bmi</th>\n",
       "      <th>bp</th>\n",
       "      <th>s1</th>\n",
       "      <th>s3</th>\n",
       "      <th>s5</th>\n",
       "      <th>s6</th>\n",
       "    </tr>\n",
       "  </thead>\n",
       "  <tbody>\n",
       "    <tr>\n",
       "      <th>70</th>\n",
       "      <td>-0.044642</td>\n",
       "      <td>-0.069797</td>\n",
       "      <td>-0.012556</td>\n",
       "      <td>-0.000193</td>\n",
       "      <td>0.070730</td>\n",
       "      <td>-0.062913</td>\n",
       "      <td>0.040343</td>\n",
       "    </tr>\n",
       "    <tr>\n",
       "      <th>37</th>\n",
       "      <td>-0.044642</td>\n",
       "      <td>0.011039</td>\n",
       "      <td>-0.057314</td>\n",
       "      <td>-0.024960</td>\n",
       "      <td>0.030232</td>\n",
       "      <td>0.017037</td>\n",
       "      <td>-0.005220</td>\n",
       "    </tr>\n",
       "    <tr>\n",
       "      <th>170</th>\n",
       "      <td>0.050680</td>\n",
       "      <td>-0.020218</td>\n",
       "      <td>-0.036656</td>\n",
       "      <td>-0.013953</td>\n",
       "      <td>0.059685</td>\n",
       "      <td>-0.096433</td>\n",
       "      <td>-0.017646</td>\n",
       "    </tr>\n",
       "    <tr>\n",
       "      <th>400</th>\n",
       "      <td>-0.044642</td>\n",
       "      <td>0.045529</td>\n",
       "      <td>0.090730</td>\n",
       "      <td>-0.018080</td>\n",
       "      <td>0.070730</td>\n",
       "      <td>-0.034524</td>\n",
       "      <td>-0.009362</td>\n",
       "    </tr>\n",
       "    <tr>\n",
       "      <th>286</th>\n",
       "      <td>-0.044642</td>\n",
       "      <td>-0.054707</td>\n",
       "      <td>-0.077971</td>\n",
       "      <td>-0.033216</td>\n",
       "      <td>0.140681</td>\n",
       "      <td>-0.019197</td>\n",
       "      <td>-0.005220</td>\n",
       "    </tr>\n",
       "  </tbody>\n",
       "</table>\n",
       "</div>"
      ],
      "text/plain": [
       "          sex       bmi        bp        s1        s3        s5        s6\n",
       "70  -0.044642 -0.069797 -0.012556 -0.000193  0.070730 -0.062913  0.040343\n",
       "37  -0.044642  0.011039 -0.057314 -0.024960  0.030232  0.017037 -0.005220\n",
       "170  0.050680 -0.020218 -0.036656 -0.013953  0.059685 -0.096433 -0.017646\n",
       "400 -0.044642  0.045529  0.090730 -0.018080  0.070730 -0.034524 -0.009362\n",
       "286 -0.044642 -0.054707 -0.077971 -0.033216  0.140681 -0.019197 -0.005220"
      ]
     },
     "execution_count": 12,
     "metadata": {},
     "output_type": "execute_result"
    }
   ],
   "source": [
    "X_tr_reduced = X_tr.drop(zeroed,axis=1)\n",
    "X_te_reduced = X_te.drop(zeroed,axis=1)\n",
    "X_tr_reduced.head(5)"
   ]
  },
  {
   "cell_type": "markdown",
   "id": "479a7b17",
   "metadata": {},
   "source": [
    "Returning to the original, unregularized fit, we find that hardly anything is lost by using the reduced feature set:"
   ]
  },
  {
   "cell_type": "code",
   "execution_count": 13,
   "id": "8d75d8c8",
   "metadata": {},
   "outputs": [
    {
     "name": "stdout",
     "output_type": "stream",
     "text": [
      "original linear model score: 0.4399387660024645\n",
      "reduced linear model score: 0.4388377188754573\n"
     ]
    }
   ],
   "source": [
    "print(\"original linear model score:\",lm.score(X_te,y_te))\n",
    "lm.fit(X_tr_reduced,y_tr)\n",
    "print(\"reduced linear model score:\",lm.score(X_te_reduced,y_te))"
   ]
  },
  {
   "cell_type": "markdown",
   "id": "f82f5c77",
   "metadata": {},
   "source": [
    "<div style=\"max-width:608px\"><div style=\"position:relative;padding-bottom:66.118421052632%\"><iframe id=\"kaltura_player\" src=\"https://cdnapisec.kaltura.com/p/2358381/sp/235838100/embedIframeJs/uiconf_id/43030021/partner_id/2358381?iframeembed=true&playerId=kaltura_player&entry_id=1_irlwjqis&flashvars[streamerType]=auto&amp;flashvars[localizationCode]=en&amp;flashvars[leadWithHTML5]=true&amp;flashvars[sideBarContainer.plugin]=true&amp;flashvars[sideBarContainer.position]=left&amp;flashvars[sideBarContainer.clickToClose]=true&amp;flashvars[chapters.plugin]=true&amp;flashvars[chapters.layout]=vertical&amp;flashvars[chapters.thumbnailRotator]=false&amp;flashvars[streamSelector.plugin]=true&amp;flashvars[EmbedPlayer.SpinnerTarget]=videoHolder&amp;flashvars[dualScreen.plugin]=true&amp;flashvars[Kaltura.addCrossoriginToIframe]=true&amp;&wid=1_zgo9xrkv\" width=\"608\" height=\"402\" allowfullscreen webkitallowfullscreen mozAllowFullScreen allow=\"autoplay *; fullscreen *; encrypted-media *\" sandbox=\"allow-forms allow-same-origin allow-scripts allow-top-navigation allow-pointer-lock allow-popups allow-modals allow-orientation-lock allow-popups-to-escape-sandbox allow-presentation allow-top-navigation-by-user-activation\" frameborder=\"0\" title=\"Kaltura Player\" style=\"position:absolute;top:0;left:0;width:100%;height:100%\"></iframe></div></div>"
   ]
  }
 ],
 "metadata": {
  "jupytext": {
   "text_representation": {
    "extension": ".md",
    "format_name": "myst",
    "format_version": 0.13,
    "jupytext_version": "1.11.5"
   }
  },
  "kernelspec": {
   "display_name": "Python 3 (ipykernel)",
   "language": "python",
   "name": "python3"
  },
  "language_info": {
   "codemirror_mode": {
    "name": "ipython",
    "version": 3
   },
   "file_extension": ".py",
   "mimetype": "text/x-python",
   "name": "python",
   "nbconvert_exporter": "python",
   "pygments_lexer": "ipython3",
   "version": "3.9.12"
  },
  "source_map": [
   12,
   63,
   67,
   71,
   82,
   86,
   91,
   95,
   99,
   103,
   108,
   112,
   119,
   123,
   132,
   135,
   139,
   146,
   150,
   156,
   160,
   163,
   167,
   171,
   175,
   179
  ]
 },
 "nbformat": 4,
 "nbformat_minor": 5
}