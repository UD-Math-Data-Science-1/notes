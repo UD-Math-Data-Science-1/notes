{
 "cells": [
  {
   "cell_type": "markdown",
   "id": "27b69327",
   "metadata": {},
   "source": [
    "# Probabilistic classification\n",
    "\n",
    "Binary classification tasks allow just two possible outcomes per prediction. That result often obscures additional context that is available from the classifier.\n",
    "\n",
    "For example, $k$ nearest neighbors reports the winner of the majority of votes among the $k$ examples closest to the query point. But we should probably be more skeptical about a query that wins, say, by a 4--3 vote as opposed to 7--0. To give a more nuanced picture, we could report the fraction of votes cast for the positive label. Then there are $k+1$ possible values equally spaced between 0 and 1. In the case of a decision tree, each query eventually ends up at a leaf of sample points, and we can report the fraction of samples that have the positive label.\n",
    "\n",
    "It's easy to interpret such a result as predicting the *probability* of the positive label at any query point. Conceptually this is more akin to regression than classification, because learner outputs values between 0 and 1, even though the data are all presented with labels from the set $\\{0,1\\}$. \n",
    "\n",
    "Consider the penguin species classification problem."
   ]
  },
  {
   "cell_type": "code",
   "execution_count": 1,
   "id": "8cc892b8",
   "metadata": {},
   "outputs": [],
   "source": [
    "import seaborn as sns\n",
    "penguins = sns.load_dataset(\"penguins\").dropna()\n",
    "# Select only numeric columns for features:\n",
    "X = penguins.loc[:,penguins.dtypes==\"float64\"]  \n",
    "y = penguins[\"species\"].astype(\"category\")\n",
    "\n",
    "from sklearn.model_selection import train_test_split\n",
    "X_tr,X_te,y_tr,y_te = train_test_split(X,y,test_size=0.2,shuffle=True,random_state=5)"
   ]
  },
  {
   "cell_type": "markdown",
   "id": "74457e4e",
   "metadata": {},
   "source": [
    "We can use $k=5$ on a nearest neighbors classifier, and use it to predict species as we have before."
   ]
  },
  {
   "cell_type": "code",
   "execution_count": 2,
   "id": "36f57595",
   "metadata": {},
   "outputs": [
    {
     "data": {
      "text/plain": [
       "array(['Adelie', 'Adelie', 'Gentoo', 'Gentoo', 'Adelie', 'Adelie'],\n",
       "      dtype=object)"
      ]
     },
     "execution_count": 2,
     "metadata": {},
     "output_type": "execute_result"
    }
   ],
   "source": [
    "from sklearn.neighbors import KNeighborsClassifier\n",
    "knn = KNeighborsClassifier(n_neighbors=5)\n",
    "knn.fit(X_tr,y_tr)\n",
    "knn.predict(X_te.iloc[:6,:])"
   ]
  },
  {
   "cell_type": "markdown",
   "id": "93cec369",
   "metadata": {},
   "source": [
    "But we can also access the probabilistic interpretation via `predict_proba`."
   ]
  },
  {
   "cell_type": "code",
   "execution_count": 3,
   "id": "91a0d853",
   "metadata": {},
   "outputs": [
    {
     "data": {
      "text/plain": [
       "array([[0.8, 0.2, 0. ],\n",
       "       [0.8, 0.2, 0. ],\n",
       "       [0. , 0. , 1. ],\n",
       "       [0. , 0. , 1. ],\n",
       "       [0.8, 0.2, 0. ],\n",
       "       [0.6, 0.4, 0. ]])"
      ]
     },
     "execution_count": 3,
     "metadata": {},
     "output_type": "execute_result"
    }
   ],
   "source": [
    "p_hat = knn.predict_proba(X_te)\n",
    "p_hat[:6,:]"
   ]
  },
  {
   "cell_type": "markdown",
   "id": "af6dd56e",
   "metadata": {
    "tags": []
   },
   "source": [
    "From the output above we see that, for example, while the third and fourth test cases led to unanimous votes for *Gentoo*, the sixth case was deemed *Adelie* in a 3--2 squeaker (or is it squawker?).\n",
    "\n",
    "## ROC curve\n",
    "\n",
    "The **ROC curve**, or *receiver operator characteristic* curve, is a way to play what-if by adjusting the voting margins needed to \"win\" a positive label. Let's explain by continuing the penguin example with $k=5$. \n",
    "\n",
    "Say that at some query point, there are 2 votes for A, 2 for C, and 1 for G. We might flip a coin and decide on class A, but from a one-versus-rest (OVR) point of view, it would be reasonable to say that A failed to win 50% of the votes. In fact, at that level, *none* of the species should be considered having received a \"positive\" vote. \n",
    "\n",
    "We can apply this idea with an adjustable threshold $\\theta$ in the interval $[0,1]$. If a single class receives a fraction of votes that is at least $\\theta$, it has a positive result for that class. This means that we no longer assign a label \"A/C/G\" to each query, but a vector $[A,C,G]$ in which each component is either 0 or 1. Specifically, each vote fraction that is less than $\\theta$ is rounded down, and the others are rounded up. \n",
    "\n",
    "For instance, at $\\theta=0$, every query is labeled $[1,1,1]$. For $\\theta > 0$, any class receiving no votes at a query point gets a negative result, i.e., 0 in its component. For $\\theta > 0.2$, any class getting zero or one vote (out of $k=5$ total) is a negative result, and so on. When $\\theta=1$, only a class receiving a unanimous vote is scored as positive, and if we imagine $\\theta > 1$, then the result at any query point is $[0,0,0]$, because nothing can receive more than 100% of the votes!"
   ]
  },
  {
   "cell_type": "markdown",
   "id": "c73a639a",
   "metadata": {},
   "source": [
    "In the code, we can set a threshold value and easily determine the positive-result vector at each of the test points:"
   ]
  },
  {
   "cell_type": "code",
   "execution_count": 4,
   "id": "3514955e",
   "metadata": {
    "tags": []
   },
   "outputs": [
    {
     "name": "stdout",
     "output_type": "stream",
     "text": [
      "[[1 0 0]\n",
      " [1 0 0]\n",
      " [0 0 1]\n",
      " [0 0 1]\n",
      " [1 0 0]\n",
      " [0 0 0]]\n"
     ]
    }
   ],
   "source": [
    "def hits(p_hat,theta):\n",
    "    return (p_hat >= theta).astype(int)\n",
    "\n",
    "pos = hits(p_hat,2/3)\n",
    "print(pos[:6,:])"
   ]
  },
  {
   "cell_type": "markdown",
   "id": "059403a5",
   "metadata": {},
   "source": [
    "We should compare the first column of the `pos` matrix, for the *Adelie* species, to the test cases actually labelled *Adelie* to find all the true positives:"
   ]
  },
  {
   "cell_type": "code",
   "execution_count": 5,
   "id": "e8ee3493",
   "metadata": {
    "tags": []
   },
   "outputs": [],
   "source": [
    "A_actual = (y_te==\"Adelie\").astype(int)\n",
    "A_truepos = pos[:,0]*A_actual"
   ]
  },
  {
   "cell_type": "markdown",
   "id": "e13b3fb8",
   "metadata": {},
   "source": [
    "Similarly, we can find all the false positives for *Adelie* as well:"
   ]
  },
  {
   "cell_type": "code",
   "execution_count": 6,
   "id": "761f295a",
   "metadata": {},
   "outputs": [],
   "source": [
    "A_falsepos = pos[:,0]*(1-A_actual)"
   ]
  },
  {
   "cell_type": "markdown",
   "id": "693927f0",
   "metadata": {},
   "source": [
    "It makes sense to reason about the rate of true positives, the fraction of actual positive cases identified as such, and the rate of false positives, the fraction of actual negative cases mistakenly identified as positive:"
   ]
  },
  {
   "cell_type": "code",
   "execution_count": 7,
   "id": "3f8ce2e2",
   "metadata": {},
   "outputs": [
    {
     "name": "stdout",
     "output_type": "stream",
     "text": [
      "TP rate: 0.5667, FP rate: 0.0541\n"
     ]
    }
   ],
   "source": [
    "A_TPrate = sum(A_truepos) / sum(A_actual)\n",
    "A_FPrate = sum(A_falsepos) / sum(1-A_actual)\n",
    "print(f\"TP rate: {A_TPrate:.4f}, FP rate: {A_FPrate:.4f}\")"
   ]
  },
  {
   "cell_type": "markdown",
   "id": "59f9e4a1",
   "metadata": {},
   "source": [
    "As a matter of fact, the TP rate is just the recall, and the FP rate is 1 minus the specificity. We can repeat this calculation over all values of the threshold between 0 and 1. We don't have to, though, because there is a function in sklearn for it already."
   ]
  },
  {
   "cell_type": "code",
   "execution_count": 8,
   "id": "9b08396e",
   "metadata": {},
   "outputs": [
    {
     "data": {
      "text/html": [
       "<div>\n",
       "<style scoped>\n",
       "    .dataframe tbody tr th:only-of-type {\n",
       "        vertical-align: middle;\n",
       "    }\n",
       "\n",
       "    .dataframe tbody tr th {\n",
       "        vertical-align: top;\n",
       "    }\n",
       "\n",
       "    .dataframe thead th {\n",
       "        text-align: right;\n",
       "    }\n",
       "</style>\n",
       "<table border=\"1\" class=\"dataframe\">\n",
       "  <thead>\n",
       "    <tr style=\"text-align: right;\">\n",
       "      <th></th>\n",
       "      <th>TP rate</th>\n",
       "      <th>FP rate</th>\n",
       "      <th>threshold</th>\n",
       "    </tr>\n",
       "  </thead>\n",
       "  <tbody>\n",
       "    <tr>\n",
       "      <th>0</th>\n",
       "      <td>0.000000</td>\n",
       "      <td>0.000000</td>\n",
       "      <td>2.0</td>\n",
       "    </tr>\n",
       "    <tr>\n",
       "      <th>1</th>\n",
       "      <td>0.233333</td>\n",
       "      <td>0.027027</td>\n",
       "      <td>1.0</td>\n",
       "    </tr>\n",
       "    <tr>\n",
       "      <th>2</th>\n",
       "      <td>0.566667</td>\n",
       "      <td>0.054054</td>\n",
       "      <td>0.8</td>\n",
       "    </tr>\n",
       "    <tr>\n",
       "      <th>3</th>\n",
       "      <td>0.900000</td>\n",
       "      <td>0.216216</td>\n",
       "      <td>0.6</td>\n",
       "    </tr>\n",
       "    <tr>\n",
       "      <th>4</th>\n",
       "      <td>0.966667</td>\n",
       "      <td>0.405405</td>\n",
       "      <td>0.4</td>\n",
       "    </tr>\n",
       "    <tr>\n",
       "      <th>5</th>\n",
       "      <td>1.000000</td>\n",
       "      <td>0.459459</td>\n",
       "      <td>0.2</td>\n",
       "    </tr>\n",
       "    <tr>\n",
       "      <th>6</th>\n",
       "      <td>1.000000</td>\n",
       "      <td>1.000000</td>\n",
       "      <td>0.0</td>\n",
       "    </tr>\n",
       "  </tbody>\n",
       "</table>\n",
       "</div>"
      ],
      "text/plain": [
       "    TP rate   FP rate  threshold\n",
       "0  0.000000  0.000000        2.0\n",
       "1  0.233333  0.027027        1.0\n",
       "2  0.566667  0.054054        0.8\n",
       "3  0.900000  0.216216        0.6\n",
       "4  0.966667  0.405405        0.4\n",
       "5  1.000000  0.459459        0.2\n",
       "6  1.000000  1.000000        0.0"
      ]
     },
     "execution_count": 8,
     "metadata": {},
     "output_type": "execute_result"
    }
   ],
   "source": [
    "from sklearn.metrics import roc_curve\n",
    "fp_rate,tp_rate,theta = roc_curve(y_te==\"Adelie\",p_hat[:,0])\n",
    "\n",
    "import pandas as pd\n",
    "pd.DataFrame({\"TP rate\":tp_rate,\"FP rate\":fp_rate,\"threshold\":theta})"
   ]
  },
  {
   "cell_type": "markdown",
   "id": "5c313f46",
   "metadata": {},
   "source": [
    "The table above only records the values of $\\theta$ where the rates change. Usually, this information is presented in graphical form as an **ROC curve**. We can make one for each species as follows."
   ]
  },
  {
   "cell_type": "code",
   "execution_count": 9,
   "id": "bf192ff0",
   "metadata": {},
   "outputs": [
    {
     "data": {
      "image/png": "[encoded data removed]",
      "text/plain": [
       "<Figure size 432x288 with 1 Axes>"
      ]
     },
     "metadata": {
      "filenames": {
       "image/png": "/home/driscoll/Dropbox/class/267/notes/_build/jupyter_execute/regression/prob_class_18_0.png"
      },
      "needs_background": "light"
     },
     "output_type": "display_data"
    }
   ],
   "source": [
    "import matplotlib.pyplot as plt\n",
    "from sklearn.metrics import RocCurveDisplay\n",
    "\n",
    "fig,ax = plt.subplots()\n",
    "for i,label in enumerate(knn.classes_):\n",
    "    RocCurveDisplay.from_predictions(y_te==label,p_hat[:,i],ax=ax)\n",
    "\n",
    "ax.set_xlabel(\"FP rate\")\n",
    "ax.set_ylabel(\"TP rate\")\n",
    "ax.set_aspect(1)\n",
    "ax.legend(knn.classes_);"
   ]
  },
  {
   "cell_type": "markdown",
   "id": "93c704f5",
   "metadata": {},
   "source": [
    "The ideal situation is in the top left corner of the plot, corresponding to perfect recall and specificity. Each curve starts in the lower left corner and ends at the upper right corner. The *Gentoo* curve comes quite close to the ideal. All of the curves explicitly show the tradeoff between recall and specificity. The information could be used to choose a threshold that favors either side of the tradeoff.\n",
    "\n",
    "If we weight neighbors' votes inversely to their distance from the query point, then the thresholds aren't restricted to multiples of $\\tfrac{1}{5}$, and the curves have more features."
   ]
  },
  {
   "cell_type": "code",
   "execution_count": 10,
   "id": "5de75434",
   "metadata": {},
   "outputs": [
    {
     "data": {
      "image/png": "[encoded data removed]",
      "text/plain": [
       "<Figure size 432x288 with 1 Axes>"
      ]
     },
     "metadata": {
      "filenames": {
       "image/png": "/home/driscoll/Dropbox/class/267/notes/_build/jupyter_execute/regression/prob_class_20_0.png"
      },
      "needs_background": "light"
     },
     "output_type": "display_data"
    }
   ],
   "source": [
    "knnw = KNeighborsClassifier(n_neighbors=5,weights=\"distance\")\n",
    "knnw.fit(X_tr,y_tr)\n",
    "p_hat = knnw.predict_proba(X_te)\n",
    "\n",
    "fig,ax = plt.subplots()\n",
    "for i,label in enumerate(knn.classes_):\n",
    "    RocCurveDisplay.from_predictions(y_te==label,p_hat[:,i],ax=ax)\n",
    "\n",
    "ax.set_xlabel(\"FP rate\")\n",
    "ax.set_ylabel(\"TP rate\")\n",
    "ax.set_aspect(1)\n",
    "ax.legend(knn.classes_);"
   ]
  },
  {
   "cell_type": "markdown",
   "id": "d28c477d",
   "metadata": {},
   "source": [
    "ROC curves lead to another classification performance metric known as **area under ROC curve** (AUC-ROC). Its name tells you exactly what it is, and it ranges between zero (bad) and one (ideal). Unlike the other classification metrics we have encountered, AUC-ROC tries to account not just for the final result of the classification, which nominally occurs when the threshold is $\\tfrac{1}{2}$, but also for the confidence with which those results can be predicted.\n",
    "\n",
    "The function `roc_auc_score` requires a keyword argument when there are more than two classes, to specify \"one vs. rest\" or \"one vs. one\" matchups."
   ]
  },
  {
   "cell_type": "code",
   "execution_count": 11,
   "id": "0aaf7413",
   "metadata": {},
   "outputs": [
    {
     "name": "stdout",
     "output_type": "stream",
     "text": [
      "AUC for knn-uniform: 0.9194\n",
      "AUC for knn-weights: 0.9393\n"
     ]
    }
   ],
   "source": [
    "from sklearn.metrics import roc_auc_score\n",
    "s = roc_auc_score(y_te, knn.predict_proba(X_te),multi_class=\"ovr\")\n",
    "print(f\"AUC for knn-uniform: {s:.4f}\")\n",
    "\n",
    "sw = roc_auc_score(y_te,knnw.predict_proba(X_te),multi_class=\"ovr\")\n",
    "print(f\"AUC for knn-weights: {sw:.4f}\")"
   ]
  },
  {
   "cell_type": "markdown",
   "id": "a229e37b",
   "metadata": {},
   "source": [
    "**Note about the video.** In it, I'm using an older version of the code above where I compute the data for the curves and plot them manually. You can skip over those parts without missing anything important.\n",
    "\n",
    "<div style=\"max-width:608px\"><div style=\"position:relative;padding-bottom:66.118421052632%\"><iframe id=\"kaltura_player\" src=\"https://cdnapisec.kaltura.com/p/2358381/sp/235838100/embedIframeJs/uiconf_id/43030021/partner_id/2358381?iframeembed=true&playerId=kaltura_player&entry_id=1_apqqbhl3&flashvars[streamerType]=auto&amp;flashvars[localizationCode]=en&amp;flashvars[leadWithHTML5]=true&amp;flashvars[sideBarContainer.plugin]=true&amp;flashvars[sideBarContainer.position]=left&amp;flashvars[sideBarContainer.clickToClose]=true&amp;flashvars[chapters.plugin]=true&amp;flashvars[chapters.layout]=vertical&amp;flashvars[chapters.thumbnailRotator]=false&amp;flashvars[streamSelector.plugin]=true&amp;flashvars[EmbedPlayer.SpinnerTarget]=videoHolder&amp;flashvars[dualScreen.plugin]=true&amp;flashvars[Kaltura.addCrossoriginToIframe]=true&amp;&wid=1_w2notzkt\" width=\"608\" height=\"402\" allowfullscreen webkitallowfullscreen mozAllowFullScreen allow=\"autoplay *; fullscreen *; encrypted-media *\" sandbox=\"allow-forms allow-same-origin allow-scripts allow-top-navigation allow-pointer-lock allow-popups allow-modals allow-orientation-lock allow-popups-to-escape-sandbox allow-presentation allow-top-navigation-by-user-activation\" frameborder=\"0\" title=\"Kaltura Player\" style=\"position:absolute;top:0;left:0;width:100%;height:100%\"></iframe></div></div>"
   ]
  }
 ],
 "metadata": {
  "jupytext": {
   "text_representation": {
    "extension": ".md",
    "format_name": "myst",
    "format_version": 0.13,
    "jupytext_version": "1.11.5"
   }
  },
  "kernelspec": {
   "display_name": "Python 3 (ipykernel)",
   "language": "python",
   "name": "python3"
  },
  "language_info": {
   "codemirror_mode": {
    "name": "ipython",
    "version": 3
   },
   "file_extension": ".py",
   "mimetype": "text/x-python",
   "name": "python",
   "nbconvert_exporter": "python",
   "pygments_lexer": "ipython3",
   "version": "3.9.12"
  },
  "source_map": [
   12,
   24,
   33,
   37,
   42,
   46,
   51,
   65,
   69,
   77,
   81,
   86,
   90,
   92,
   96,
   100,
   104,
   110,
   114,
   126,
   132,
   145,
   151,
   158
  ]
 },
 "nbformat": 4,
 "nbformat_minor": 5
}