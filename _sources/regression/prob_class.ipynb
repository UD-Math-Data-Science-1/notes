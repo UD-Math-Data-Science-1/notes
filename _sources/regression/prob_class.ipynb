{
 "cells": [
  {
   "cell_type": "markdown",
   "id": "cb75e156",
   "metadata": {},
   "source": [
    "# Probabilistic classification\n",
    "\n",
    "Binary classification tasks allow just two possible outcomes per prediction. That result often obscures additional context that is available from the classifier.\n",
    "\n",
    "For example, $k$ nearest neighbors reports the winner of the majority of votes among the $k$ examples closest to the query point. But we should probably be more skeptical about a query that wins, say, by a 4--3 vote as opposed to 7--0. To give a more nuanced picture, we could report the fraction of votes cast for the positive label. Then there are $k+1$ possible values equally spaced between 0 and 1. In the case of a decision tree, each query eventually ends up at a leaf of sample points, and we can report the fraction of samples that have the positive label.\n",
    "\n",
    "It's easy to interpret such a result as predicting the *probability* of the positive label at any query point. Conceptually this is more akin to regression than classification, because learner outputs values between 0 and 1, even though the data are all presented with labels from the set $\\{0,1\\}$. \n",
    "\n",
    "Consider the penguin species classification problem."
   ]
  },
  {
   "cell_type": "code",
   "execution_count": 1,
   "id": "258f58de",
   "metadata": {},
   "outputs": [],
   "source": [
    "import seaborn as sns\n",
    "penguins = sns.load_dataset(\"penguins\").dropna()\n",
    "# Select only numeric columns for features:\n",
    "X = penguins.loc[:,penguins.dtypes==\"float64\"]  \n",
    "y = penguins[\"species\"].astype(\"category\")\n",
    "\n",
    "from sklearn.model_selection import train_test_split\n",
    "X_tr,X_te,y_tr,y_te = train_test_split(X,y,test_size=0.2,shuffle=True,random_state=5)"
   ]
  },
  {
   "cell_type": "markdown",
   "id": "36aec179",
   "metadata": {},
   "source": [
    "We can use $k=5$ on a nearest neighbors classifier, and use it to predict species as we have before."
   ]
  },
  {
   "cell_type": "code",
   "execution_count": 2,
   "id": "06149dde",
   "metadata": {},
   "outputs": [
    {
     "data": {
      "text/plain": [
       "array(['Adelie', 'Adelie', 'Gentoo', 'Gentoo', 'Adelie', 'Adelie'],\n",
       "      dtype=object)"
      ]
     },
     "execution_count": 2,
     "metadata": {},
     "output_type": "execute_result"
    }
   ],
   "source": [
    "from sklearn.neighbors import KNeighborsClassifier\n",
    "knn = KNeighborsClassifier(n_neighbors=5)\n",
    "knn.fit(X_tr,y_tr)\n",
    "knn.predict(X_te.iloc[:6,:])"
   ]
  },
  {
   "cell_type": "markdown",
   "id": "68c88327",
   "metadata": {},
   "source": [
    "But we can also access the probabilistic interpretation via `predict_proba`."
   ]
  },
  {
   "cell_type": "code",
   "execution_count": 3,
   "id": "85b23d3e",
   "metadata": {},
   "outputs": [
    {
     "data": {
      "text/plain": [
       "array([[0.8, 0.2, 0. ],\n",
       "       [0.8, 0.2, 0. ],\n",
       "       [0. , 0. , 1. ],\n",
       "       [0. , 0. , 1. ],\n",
       "       [0.8, 0.2, 0. ],\n",
       "       [0.6, 0.4, 0. ]])"
      ]
     },
     "execution_count": 3,
     "metadata": {},
     "output_type": "execute_result"
    }
   ],
   "source": [
    "phat = knn.predict_proba(X_te)\n",
    "phat[:6,:]"
   ]
  },
  {
   "cell_type": "markdown",
   "id": "10fc2d7a",
   "metadata": {},
   "source": [
    "From the output above we see that, for example, while the third and fourth test cases led to unanimous votes for *Gentoo*, the sixth case was deemed *Adelie* in a 3--2 squeaker (or is it squawker?).\n",
    "\n",
    "## ROC curve\n",
    "\n",
    "The **ROC curve**, or *receiver operator characteristic* curve, is a way to play what-if by adjusting the voting margins needed to \"win\" a positive label. Let's explain by continuing the penguin example."
   ]
  },
  {
   "cell_type": "code",
   "execution_count": 4,
   "id": "efb4a668",
   "metadata": {},
   "outputs": [
    {
     "data": {
      "text/html": [
       "<div>\n",
       "<style scoped>\n",
       "    .dataframe tbody tr th:only-of-type {\n",
       "        vertical-align: middle;\n",
       "    }\n",
       "\n",
       "    .dataframe tbody tr th {\n",
       "        vertical-align: top;\n",
       "    }\n",
       "\n",
       "    .dataframe thead th {\n",
       "        text-align: right;\n",
       "    }\n",
       "</style>\n",
       "<table border=\"1\" class=\"dataframe\">\n",
       "  <thead>\n",
       "    <tr style=\"text-align: right;\">\n",
       "      <th></th>\n",
       "      <th>FP rate</th>\n",
       "      <th>TP rate</th>\n",
       "      <th>threshold</th>\n",
       "    </tr>\n",
       "  </thead>\n",
       "  <tbody>\n",
       "    <tr>\n",
       "      <th>0</th>\n",
       "      <td>0.000000</td>\n",
       "      <td>0.000000</td>\n",
       "      <td>2.0</td>\n",
       "    </tr>\n",
       "    <tr>\n",
       "      <th>1</th>\n",
       "      <td>0.027027</td>\n",
       "      <td>0.233333</td>\n",
       "      <td>1.0</td>\n",
       "    </tr>\n",
       "    <tr>\n",
       "      <th>2</th>\n",
       "      <td>0.054054</td>\n",
       "      <td>0.566667</td>\n",
       "      <td>0.8</td>\n",
       "    </tr>\n",
       "    <tr>\n",
       "      <th>3</th>\n",
       "      <td>0.216216</td>\n",
       "      <td>0.900000</td>\n",
       "      <td>0.6</td>\n",
       "    </tr>\n",
       "    <tr>\n",
       "      <th>4</th>\n",
       "      <td>0.405405</td>\n",
       "      <td>0.966667</td>\n",
       "      <td>0.4</td>\n",
       "    </tr>\n",
       "    <tr>\n",
       "      <th>5</th>\n",
       "      <td>0.459459</td>\n",
       "      <td>1.000000</td>\n",
       "      <td>0.2</td>\n",
       "    </tr>\n",
       "    <tr>\n",
       "      <th>6</th>\n",
       "      <td>1.000000</td>\n",
       "      <td>1.000000</td>\n",
       "      <td>0.0</td>\n",
       "    </tr>\n",
       "  </tbody>\n",
       "</table>\n",
       "</div>"
      ],
      "text/plain": [
       "    FP rate   TP rate  threshold\n",
       "0  0.000000  0.000000        2.0\n",
       "1  0.027027  0.233333        1.0\n",
       "2  0.054054  0.566667        0.8\n",
       "3  0.216216  0.900000        0.6\n",
       "4  0.405405  0.966667        0.4\n",
       "5  0.459459  1.000000        0.2\n",
       "6  1.000000  1.000000        0.0"
      ]
     },
     "execution_count": 4,
     "metadata": {},
     "output_type": "execute_result"
    }
   ],
   "source": [
    "from sklearn.metrics import roc_curve\n",
    "import pandas as pd\n",
    "\n",
    "# Function to get the ROC curve data, given true labels and an array of probabilistic\n",
    "# predictions. Returns one frame of curve data per unique label.\n",
    "def get_roc_data(y,p_hat,labels):\n",
    "    out = []\n",
    "    # Each species gets a turn at being the \"positive\" outcome (one vs rest)\n",
    "    for (i,label) in enumerate(labels):  \n",
    "        fp,tp,theta = roc_curve(y,p_hat[:,i],pos_label=label)  \n",
    "        out.append(pd.DataFrame({\"FP rate\":fp,\"TP rate\":tp,\"threshold\":theta}))\n",
    "    return out\n",
    "\n",
    "p_hat = knn.predict_proba(X_te)\n",
    "# Use the classes_ property of the regressor to ensure that we use the same ordering of \n",
    "# the labels as in the columns of p_hat.\n",
    "roc = get_roc_data(y_te,p_hat,knn.classes_)\n",
    "roc[0]"
   ]
  },
  {
   "cell_type": "markdown",
   "id": "4bb544ec",
   "metadata": {},
   "source": [
    "The output above details what happens to the recall (aka *TP rate*) and 1 minus the specificity (the *FP rate*) as the threshold for choosing *Adelie* starts from never, then requiring 100% of the votes, then 80% of the votes, and so on, ending up with always choosing *Adelie*. Here is how the results appear graphically for all three species:"
   ]
  },
  {
   "cell_type": "code",
   "execution_count": 5,
   "id": "cab22d22",
   "metadata": {},
   "outputs": [
    {
     "ename": "NameError",
     "evalue": "name 'labels' is not defined",
     "output_type": "error",
     "traceback": [
      "\u001b[0;31m---------------------------------------------------------------------------\u001b[0m",
      "\u001b[0;31mNameError\u001b[0m                                 Traceback (most recent call last)",
      "\u001b[0;32m/var/folders/cn/8w40979d27x0kv2wsnx7zgvm0000gp/T/ipykernel_29168/2326132965.py\u001b[0m in \u001b[0;36m<module>\u001b[0;34m\u001b[0m\n\u001b[1;32m      4\u001b[0m \u001b[0mplt\u001b[0m\u001b[0;34m.\u001b[0m\u001b[0mxlabel\u001b[0m\u001b[0;34m(\u001b[0m\u001b[0;34m\"FP rate\"\u001b[0m\u001b[0;34m)\u001b[0m\u001b[0;34m\u001b[0m\u001b[0;34m\u001b[0m\u001b[0m\n\u001b[1;32m      5\u001b[0m \u001b[0mplt\u001b[0m\u001b[0;34m.\u001b[0m\u001b[0mylabel\u001b[0m\u001b[0;34m(\u001b[0m\u001b[0;34m\"TP rate\"\u001b[0m\u001b[0;34m)\u001b[0m\u001b[0;34m\u001b[0m\u001b[0;34m\u001b[0m\u001b[0m\n\u001b[0;32m----> 6\u001b[0;31m \u001b[0mplt\u001b[0m\u001b[0;34m.\u001b[0m\u001b[0mlegend\u001b[0m\u001b[0;34m(\u001b[0m\u001b[0mlabels\u001b[0m\u001b[0;34m)\u001b[0m\u001b[0;34m;\u001b[0m\u001b[0;34m\u001b[0m\u001b[0;34m\u001b[0m\u001b[0m\n\u001b[0m",
      "\u001b[0;31mNameError\u001b[0m: name 'labels' is not defined"
     ]
    },
    {
     "data": {
      "image/png": "[encoded data removed]",
      "text/plain": [
       "<Figure size 432x288 with 1 Axes>"
      ]
     },
     "metadata": {
      "filenames": {
       "image/png": "/Users/driscoll/Dropbox/class/267/notes/_build/jupyter_execute/regression/prob_class_9_1.png"
      },
      "needs_background": "light"
     },
     "output_type": "display_data"
    }
   ],
   "source": [
    "import matplotlib.pyplot as plt\n",
    "for df in roc:\n",
    "    plt.plot(df[\"FP rate\"],df[\"TP rate\"])\n",
    "plt.xlabel(\"FP rate\")\n",
    "plt.ylabel(\"TP rate\")\n",
    "plt.legend(labels);"
   ]
  },
  {
   "cell_type": "markdown",
   "id": "a7caf66d",
   "metadata": {},
   "source": [
    "The ideal situation is in the top left corner of the plot, corresponding to perfect recall and specificity. Each curve starts in the lower left corner and ends at the upper right corner. The *Gentoo* curve comes quite close to the ideal. All of the curves explicitly show the tradeoff between recall and specificity. The information could be used to choose a threshold that favors either side of the tradeoff.\n",
    "\n",
    "If we weight neighbors' votes inversely to their distance from the query point, then the thresholds aren't restricted to multiples of $\\tfrac{1}{5}$."
   ]
  },
  {
   "cell_type": "code",
   "execution_count": 6,
   "id": "51465e47",
   "metadata": {},
   "outputs": [
    {
     "ename": "NameError",
     "evalue": "name 'labels' is not defined",
     "output_type": "error",
     "traceback": [
      "\u001b[0;31m---------------------------------------------------------------------------\u001b[0m",
      "\u001b[0;31mNameError\u001b[0m                                 Traceback (most recent call last)",
      "\u001b[0;32m/var/folders/cn/8w40979d27x0kv2wsnx7zgvm0000gp/T/ipykernel_29168/1933574524.py\u001b[0m in \u001b[0;36m<module>\u001b[0;34m\u001b[0m\n\u001b[1;32m      1\u001b[0m \u001b[0mknnw\u001b[0m \u001b[0;34m=\u001b[0m \u001b[0mKNeighborsClassifier\u001b[0m\u001b[0;34m(\u001b[0m\u001b[0mn_neighbors\u001b[0m\u001b[0;34m=\u001b[0m\u001b[0;36m5\u001b[0m\u001b[0;34m,\u001b[0m\u001b[0mweights\u001b[0m\u001b[0;34m=\u001b[0m\u001b[0;34m\"distance\"\u001b[0m\u001b[0;34m)\u001b[0m\u001b[0;34m\u001b[0m\u001b[0;34m\u001b[0m\u001b[0m\n\u001b[1;32m      2\u001b[0m \u001b[0mknnw\u001b[0m\u001b[0;34m.\u001b[0m\u001b[0mfit\u001b[0m\u001b[0;34m(\u001b[0m\u001b[0mX_tr\u001b[0m\u001b[0;34m,\u001b[0m\u001b[0my_tr\u001b[0m\u001b[0;34m)\u001b[0m\u001b[0;34m\u001b[0m\u001b[0;34m\u001b[0m\u001b[0m\n\u001b[0;32m----> 3\u001b[0;31m \u001b[0mroc\u001b[0m \u001b[0;34m=\u001b[0m \u001b[0mget_roc_data\u001b[0m\u001b[0;34m(\u001b[0m\u001b[0my_te\u001b[0m\u001b[0;34m,\u001b[0m\u001b[0mknnw\u001b[0m\u001b[0;34m.\u001b[0m\u001b[0mpredict_proba\u001b[0m\u001b[0;34m(\u001b[0m\u001b[0mX_te\u001b[0m\u001b[0;34m)\u001b[0m\u001b[0;34m,\u001b[0m\u001b[0mlabels\u001b[0m\u001b[0;34m)\u001b[0m\u001b[0;34m\u001b[0m\u001b[0;34m\u001b[0m\u001b[0m\n\u001b[0m\u001b[1;32m      4\u001b[0m \u001b[0;32mfor\u001b[0m \u001b[0mdf\u001b[0m \u001b[0;32min\u001b[0m \u001b[0mroc\u001b[0m\u001b[0;34m:\u001b[0m\u001b[0;34m\u001b[0m\u001b[0;34m\u001b[0m\u001b[0m\n\u001b[1;32m      5\u001b[0m     \u001b[0mplt\u001b[0m\u001b[0;34m.\u001b[0m\u001b[0mplot\u001b[0m\u001b[0;34m(\u001b[0m\u001b[0mdf\u001b[0m\u001b[0;34m[\u001b[0m\u001b[0;34m\"FP rate\"\u001b[0m\u001b[0;34m]\u001b[0m\u001b[0;34m,\u001b[0m\u001b[0mdf\u001b[0m\u001b[0;34m[\u001b[0m\u001b[0;34m\"TP rate\"\u001b[0m\u001b[0;34m]\u001b[0m\u001b[0;34m)\u001b[0m\u001b[0;34m\u001b[0m\u001b[0;34m\u001b[0m\u001b[0m\n",
      "\u001b[0;31mNameError\u001b[0m: name 'labels' is not defined"
     ]
    }
   ],
   "source": [
    "knnw = KNeighborsClassifier(n_neighbors=5,weights=\"distance\")\n",
    "knnw.fit(X_tr,y_tr)\n",
    "roc = get_roc_data(y_te,knnw.predict_proba(X_te),labels)\n",
    "for df in roc:\n",
    "    plt.plot(df[\"FP rate\"],df[\"TP rate\"])\n",
    "plt.xlabel(\"FP rate\")\n",
    "plt.ylabel(\"TP rate\")\n",
    "plt.legend(labels);"
   ]
  },
  {
   "cell_type": "markdown",
   "id": "a23f5e95",
   "metadata": {},
   "source": [
    "ROC curves lead to another classification performance metric known as **area under ROC curve** (AUC-ROC). Its name tells you exactly what it is, and it ranges between zero (bad) and one (ideal). Unlike the other classification metrics we have encountered, AUC-ROC tries to account not just for the final result of the classification, which nominally occurs when the threshold is $\\tfrac{1}{2}, but also for the confidence with which those results can be predicted.\n",
    "\n",
    "The function `roc_auc_score` requires a keyword argument when there are more than two classes, to specify \"one vs. rest\" or \"one vs. one\" matchups."
   ]
  },
  {
   "cell_type": "code",
   "execution_count": 7,
   "id": "c53859f0",
   "metadata": {},
   "outputs": [
    {
     "name": "stdout",
     "output_type": "stream",
     "text": [
      "AUC for knn-uniform: 0.9193947443947442\n",
      "AUC for knn-weights: 0.9393029393029394\n"
     ]
    }
   ],
   "source": [
    "from sklearn.metrics import roc_auc_score\n",
    "p_hat = knn.predict_proba(X_te)\n",
    "s = roc_auc_score(y_te,p_hat,multi_class=\"ovr\")\n",
    "print(\"AUC for knn-uniform:\",s)\n",
    "\n",
    "s = roc_auc_score(y_te,knnw.predict_proba(X_te),multi_class=\"ovr\")\n",
    "print(\"AUC for knn-weights:\",s)"
   ]
  }
 ],
 "metadata": {
  "jupytext": {
   "text_representation": {
    "extension": ".md",
    "format_name": "myst",
    "format_version": 0.13,
    "jupytext_version": "1.11.5"
   }
  },
  "kernelspec": {
   "display_name": "Python 3 (ipykernel)",
   "language": "python",
   "name": "python3"
  },
  "language_info": {
   "codemirror_mode": {
    "name": "ipython",
    "version": 3
   },
   "file_extension": ".py",
   "mimetype": "text/x-python",
   "name": "python",
   "nbconvert_exporter": "python",
   "pygments_lexer": "ipython3",
   "version": "3.8.8"
  },
  "source_map": [
   12,
   24,
   33,
   37,
   42,
   46,
   49,
   57,
   76,
   80,
   87,
   93,
   102,
   108
  ]
 },
 "nbformat": 4,
 "nbformat_minor": 5
}