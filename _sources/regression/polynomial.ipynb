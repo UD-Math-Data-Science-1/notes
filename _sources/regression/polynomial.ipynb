{
 "cells": [
  {
   "cell_type": "markdown",
   "id": "3b3284ae",
   "metadata": {},
   "source": [
    "# Multilinear and polynomial regression\n",
    "\n",
    "We now want to extend linear regression to $d$ predictor variables $x_1,\\ldots,x_d$:\n",
    "\n",
    "$$\n",
    "y \\approx f(\\bfx) = w_1 x_1 + w_2x_2 + \\cdots w_d x_d + b.\n",
    "$$\n",
    "\n",
    "Observe that we can drop $b$ from the discussion, because we could always define an additional constant predictor variable $x_{d+1}=1$ and get the same effect. So\n",
    "\n",
    "$$\n",
    "y \\approx f(\\bfx) = w_1 x_1 + w_2x_2 + \\cdots w_d x_d = \\bfw^T\\bfx = \\bfx^T\\bfw,\n",
    "$$\n",
    "\n",
    "where we have introduced inner product notation. This is called **multilinear regression**, although it could also be called just *linear regression* in many contexts.\n",
    "\n",
    "To create the least squares loss function, we use $\\bfx_i$ to denote the $i$th row of the $n\\times d$ feature matrix $\\bfX$. Then  \n",
    "\n",
    "$$\n",
    "L(\\bfw) = \\sum_{i=1}^n (f(\\bfx_i)-y_i)^2 = \\sum_{i=1}^n (\\bfx_i^T\\bfw- y_i)^2.\n",
    "$$\n",
    "\n",
    "Introducing the shorthand notation (standard linear algebra)\n",
    "\n",
    "$$\n",
    "\\bfX \\bfw = \\begin{bmatrix} \\bfx_1^T\\bfw \\\\ \\bfx_2^T\\bfw \\\\ \\vdots \\\\ \\bfx_n^T\\bfw \\end{bmatrix},\n",
    "$$\n",
    "\n",
    "we now get the compact expression\n",
    "\n",
    "$$\n",
    "L(\\bfw) = \\| \\bfX \\bfw- \\bfy \\|_2^2.\n",
    "$$\n",
    "\n",
    "As in the univariate case, minimizing the loss boils down to solving a linear system of equations for $\\bfw$.\n",
    "\n",
    "## Polynomial regression\n",
    "\n",
    "An important special case of multilinear regression is when there is initially a single predictor variable $t$, and then we define\n",
    "\n",
    "$$\n",
    "x_1 = t^0, \\, x_2 = t^1, \\ldots, x_d = t^{d-1}.\n",
    "$$\n",
    "\n",
    "This makes the regressive approximation into\n",
    "\n",
    "$$\n",
    "y \\approx w_1 + w_2 t + \\cdots + w_d t^{d-1},\n",
    "$$\n",
    "\n",
    "which is a polynomial of degree $d-1$. \n",
    "\n",
    "## Case study: Fuel efficiency\n",
    "\n",
    "We return to the data set regarding the fuel efficiency of cars."
   ]
  },
  {
   "cell_type": "code",
   "execution_count": 1,
   "id": "c24f21be",
   "metadata": {},
   "outputs": [
    {
     "data": {
      "text/html": [
       "<div>\n",
       "<style scoped>\n",
       "    .dataframe tbody tr th:only-of-type {\n",
       "        vertical-align: middle;\n",
       "    }\n",
       "\n",
       "    .dataframe tbody tr th {\n",
       "        vertical-align: top;\n",
       "    }\n",
       "\n",
       "    .dataframe thead th {\n",
       "        text-align: right;\n",
       "    }\n",
       "</style>\n",
       "<table border=\"1\" class=\"dataframe\">\n",
       "  <thead>\n",
       "    <tr style=\"text-align: right;\">\n",
       "      <th></th>\n",
       "      <th>mpg</th>\n",
       "      <th>cylinders</th>\n",
       "      <th>displacement</th>\n",
       "      <th>horsepower</th>\n",
       "      <th>weight</th>\n",
       "      <th>acceleration</th>\n",
       "      <th>model_year</th>\n",
       "      <th>origin</th>\n",
       "      <th>name</th>\n",
       "    </tr>\n",
       "  </thead>\n",
       "  <tbody>\n",
       "    <tr>\n",
       "      <th>0</th>\n",
       "      <td>18.0</td>\n",
       "      <td>8</td>\n",
       "      <td>307.0</td>\n",
       "      <td>130.0</td>\n",
       "      <td>3504</td>\n",
       "      <td>12.0</td>\n",
       "      <td>70</td>\n",
       "      <td>usa</td>\n",
       "      <td>chevrolet chevelle malibu</td>\n",
       "    </tr>\n",
       "    <tr>\n",
       "      <th>1</th>\n",
       "      <td>15.0</td>\n",
       "      <td>8</td>\n",
       "      <td>350.0</td>\n",
       "      <td>165.0</td>\n",
       "      <td>3693</td>\n",
       "      <td>11.5</td>\n",
       "      <td>70</td>\n",
       "      <td>usa</td>\n",
       "      <td>buick skylark 320</td>\n",
       "    </tr>\n",
       "    <tr>\n",
       "      <th>2</th>\n",
       "      <td>18.0</td>\n",
       "      <td>8</td>\n",
       "      <td>318.0</td>\n",
       "      <td>150.0</td>\n",
       "      <td>3436</td>\n",
       "      <td>11.0</td>\n",
       "      <td>70</td>\n",
       "      <td>usa</td>\n",
       "      <td>plymouth satellite</td>\n",
       "    </tr>\n",
       "    <tr>\n",
       "      <th>3</th>\n",
       "      <td>16.0</td>\n",
       "      <td>8</td>\n",
       "      <td>304.0</td>\n",
       "      <td>150.0</td>\n",
       "      <td>3433</td>\n",
       "      <td>12.0</td>\n",
       "      <td>70</td>\n",
       "      <td>usa</td>\n",
       "      <td>amc rebel sst</td>\n",
       "    </tr>\n",
       "    <tr>\n",
       "      <th>4</th>\n",
       "      <td>17.0</td>\n",
       "      <td>8</td>\n",
       "      <td>302.0</td>\n",
       "      <td>140.0</td>\n",
       "      <td>3449</td>\n",
       "      <td>10.5</td>\n",
       "      <td>70</td>\n",
       "      <td>usa</td>\n",
       "      <td>ford torino</td>\n",
       "    </tr>\n",
       "    <tr>\n",
       "      <th>...</th>\n",
       "      <td>...</td>\n",
       "      <td>...</td>\n",
       "      <td>...</td>\n",
       "      <td>...</td>\n",
       "      <td>...</td>\n",
       "      <td>...</td>\n",
       "      <td>...</td>\n",
       "      <td>...</td>\n",
       "      <td>...</td>\n",
       "    </tr>\n",
       "    <tr>\n",
       "      <th>393</th>\n",
       "      <td>27.0</td>\n",
       "      <td>4</td>\n",
       "      <td>140.0</td>\n",
       "      <td>86.0</td>\n",
       "      <td>2790</td>\n",
       "      <td>15.6</td>\n",
       "      <td>82</td>\n",
       "      <td>usa</td>\n",
       "      <td>ford mustang gl</td>\n",
       "    </tr>\n",
       "    <tr>\n",
       "      <th>394</th>\n",
       "      <td>44.0</td>\n",
       "      <td>4</td>\n",
       "      <td>97.0</td>\n",
       "      <td>52.0</td>\n",
       "      <td>2130</td>\n",
       "      <td>24.6</td>\n",
       "      <td>82</td>\n",
       "      <td>europe</td>\n",
       "      <td>vw pickup</td>\n",
       "    </tr>\n",
       "    <tr>\n",
       "      <th>395</th>\n",
       "      <td>32.0</td>\n",
       "      <td>4</td>\n",
       "      <td>135.0</td>\n",
       "      <td>84.0</td>\n",
       "      <td>2295</td>\n",
       "      <td>11.6</td>\n",
       "      <td>82</td>\n",
       "      <td>usa</td>\n",
       "      <td>dodge rampage</td>\n",
       "    </tr>\n",
       "    <tr>\n",
       "      <th>396</th>\n",
       "      <td>28.0</td>\n",
       "      <td>4</td>\n",
       "      <td>120.0</td>\n",
       "      <td>79.0</td>\n",
       "      <td>2625</td>\n",
       "      <td>18.6</td>\n",
       "      <td>82</td>\n",
       "      <td>usa</td>\n",
       "      <td>ford ranger</td>\n",
       "    </tr>\n",
       "    <tr>\n",
       "      <th>397</th>\n",
       "      <td>31.0</td>\n",
       "      <td>4</td>\n",
       "      <td>119.0</td>\n",
       "      <td>82.0</td>\n",
       "      <td>2720</td>\n",
       "      <td>19.4</td>\n",
       "      <td>82</td>\n",
       "      <td>usa</td>\n",
       "      <td>chevy s-10</td>\n",
       "    </tr>\n",
       "  </tbody>\n",
       "</table>\n",
       "<p>392 rows × 9 columns</p>\n",
       "</div>"
      ],
      "text/plain": [
       "      mpg  cylinders  displacement  horsepower  weight  acceleration  \\\n",
       "0    18.0          8         307.0       130.0    3504          12.0   \n",
       "1    15.0          8         350.0       165.0    3693          11.5   \n",
       "2    18.0          8         318.0       150.0    3436          11.0   \n",
       "3    16.0          8         304.0       150.0    3433          12.0   \n",
       "4    17.0          8         302.0       140.0    3449          10.5   \n",
       "..    ...        ...           ...         ...     ...           ...   \n",
       "393  27.0          4         140.0        86.0    2790          15.6   \n",
       "394  44.0          4          97.0        52.0    2130          24.6   \n",
       "395  32.0          4         135.0        84.0    2295          11.6   \n",
       "396  28.0          4         120.0        79.0    2625          18.6   \n",
       "397  31.0          4         119.0        82.0    2720          19.4   \n",
       "\n",
       "     model_year  origin                       name  \n",
       "0            70     usa  chevrolet chevelle malibu  \n",
       "1            70     usa          buick skylark 320  \n",
       "2            70     usa         plymouth satellite  \n",
       "3            70     usa              amc rebel sst  \n",
       "4            70     usa                ford torino  \n",
       "..          ...     ...                        ...  \n",
       "393          82     usa            ford mustang gl  \n",
       "394          82  europe                  vw pickup  \n",
       "395          82     usa              dodge rampage  \n",
       "396          82     usa                ford ranger  \n",
       "397          82     usa                 chevy s-10  \n",
       "\n",
       "[392 rows x 9 columns]"
      ]
     },
     "execution_count": 1,
     "metadata": {},
     "output_type": "execute_result"
    }
   ],
   "source": [
    "import seaborn as sns\n",
    "cars = sns.load_dataset(\"mpg\")\n",
    "cars = cars.dropna()\n",
    "cars"
   ]
  },
  {
   "cell_type": "markdown",
   "id": "805a976d",
   "metadata": {},
   "source": [
    "As we would expect, horsepower and miles per gallon are negatively correlated. However, the relationship is not well captured by a straight line."
   ]
  },
  {
   "cell_type": "code",
   "execution_count": 2,
   "id": "27d0faea",
   "metadata": {},
   "outputs": [
    {
     "data": {
      "image/png": "[encoded data removed]",
      "text/plain": [
       "<Figure size 360x360 with 1 Axes>"
      ]
     },
     "metadata": {
      "filenames": {
       "image/png": "/Users/driscoll/Dropbox/class/267/notes/_build/jupyter_execute/regression/polynomial_3_0.png"
      },
      "needs_background": "light"
     },
     "output_type": "display_data"
    }
   ],
   "source": [
    "sns.lmplot(data=cars,x=\"horsepower\",y=\"mpg\");"
   ]
  },
  {
   "cell_type": "markdown",
   "id": "55454dbe",
   "metadata": {},
   "source": [
    "A cubic polynomial produces a much more plausible fit, especially on the right half of the plot."
   ]
  },
  {
   "cell_type": "code",
   "execution_count": 3,
   "id": "5046473e",
   "metadata": {},
   "outputs": [
    {
     "data": {
      "image/png": "[encoded data removed]",
      "text/plain": [
       "<Figure size 360x360 with 1 Axes>"
      ]
     },
     "metadata": {
      "filenames": {
       "image/png": "/Users/driscoll/Dropbox/class/267/notes/_build/jupyter_execute/regression/polynomial_5_0.png"
      },
      "needs_background": "light"
     },
     "output_type": "display_data"
    }
   ],
   "source": [
    "sns.lmplot(data=cars,x=\"horsepower\",y=\"mpg\",order=3);"
   ]
  },
  {
   "cell_type": "markdown",
   "id": "f725f506",
   "metadata": {},
   "source": [
    "In order to produce the cubic fit in sklearn, we use the `PolynomialFeatures` preprocessor in a pipeline. If the original horsepower predictor variable is $t$, then the preprocessor will create columns for $1$, $t$, $t^2$, and $t^3$. (Since the constant feature is added in, we don't need to fit the intercept with the linear regressor.)"
   ]
  },
  {
   "cell_type": "code",
   "execution_count": 4,
   "id": "d1df7083",
   "metadata": {},
   "outputs": [
    {
     "name": "stdout",
     "output_type": "stream",
     "text": [
      "prediction at hp=100: [12.90220247]\n"
     ]
    }
   ],
   "source": [
    "from sklearn.linear_model import LinearRegression\n",
    "from sklearn.preprocessing import PolynomialFeatures\n",
    "from sklearn.pipeline import make_pipeline\n",
    "import numpy as np\n",
    "\n",
    "X = np.array(cars[\"horsepower\"]).reshape(-1,1)\n",
    "y = cars[\"mpg\"]\n",
    "lm = LinearRegression(fit_intercept=False)\n",
    "cubic = make_pipeline(PolynomialFeatures(degree=3),lm)\n",
    "cubic.fit(X,y)\n",
    "\n",
    "print(\"prediction at hp=100:\",cubic.predict([[200]]))"
   ]
  },
  {
   "cell_type": "markdown",
   "id": "88f58bf2",
   "metadata": {},
   "source": [
    "The prediction above is consistent with the earlier figure. \n",
    "\n",
    "We can get the coefficients of the cubic polynomial from the trained regressor:"
   ]
  },
  {
   "cell_type": "code",
   "execution_count": 5,
   "id": "058d274c",
   "metadata": {},
   "outputs": [
    {
     "data": {
      "text/plain": [
       "array([ 6.06847849e+01, -5.68850128e-01,  2.07901126e-03, -2.14662591e-06])"
      ]
     },
     "execution_count": 5,
     "metadata": {},
     "output_type": "execute_result"
    }
   ],
   "source": [
    "cubic[1].coef_"
   ]
  },
  {
   "cell_type": "markdown",
   "id": "f1cb88f3",
   "metadata": {},
   "source": [
    "The coefficients go in order of increasing degree.\n",
    "\n",
    "If a cubic polynomial can fit better than a line, it's plausible that increasing the degree more will lead to even better fits. In fact, the training error can only go down, because a lower-degree polynomial case is a subset of a higher-degree case.\n",
    "\n",
    "To explore the effect of degree, we split into train and test sets."
   ]
  },
  {
   "cell_type": "code",
   "execution_count": 6,
   "id": "4203b20a",
   "metadata": {},
   "outputs": [
    {
     "name": "stdout",
     "output_type": "stream",
     "text": [
      "MSE for degree 2: 16.01289461666269\n",
      "MSE for degree 3: 15.91065108266518\n",
      "MSE for degree 4: 15.819253166542012\n",
      "MSE for degree 5: 15.652641443045992\n",
      "MSE for degree 6: 15.63718971782021\n",
      "MSE for degree 7: 15.592852998494399\n",
      "MSE for degree 8: 18.17787140355864\n",
      "MSE for degree 9: 28.51037146178334\n",
      "MSE for degree 10: 55.26202163126627\n"
     ]
    }
   ],
   "source": [
    "from sklearn.model_selection import train_test_split\n",
    "from sklearn.metrics import mean_squared_error\n",
    "\n",
    "X_tr,X_te,y_tr,y_te = train_test_split(X,y,test_size=0.2,random_state=0)\n",
    "\n",
    "for deg in range(2,11):\n",
    "    poly = make_pipeline(PolynomialFeatures(degree=deg),lm)\n",
    "    poly.fit(X_tr,y_tr)\n",
    "    print(f\"MSE for degree {deg}:\",mean_squared_error(y_te,poly.predict(X_te)))"
   ]
  },
  {
   "cell_type": "markdown",
   "id": "512d492a",
   "metadata": {},
   "source": [
    "The results above are a classic example of overfitting and the bias–variance tradeoff. A plot of the degree-10 fit shows that the polynomial becomes more oscillatory:"
   ]
  },
  {
   "cell_type": "code",
   "execution_count": 7,
   "id": "d9bb6f89",
   "metadata": {},
   "outputs": [
    {
     "data": {
      "image/png": "[encoded data removed]",
      "text/plain": [
       "<Figure size 360x360 with 1 Axes>"
      ]
     },
     "metadata": {
      "filenames": {
       "image/png": "/Users/driscoll/Dropbox/class/267/notes/_build/jupyter_execute/regression/polynomial_13_0.png"
      },
      "needs_background": "light"
     },
     "output_type": "display_data"
    }
   ],
   "source": [
    "sns.lmplot(data=cars,x=\"horsepower\",y=\"mpg\",order=10);"
   ]
  },
  {
   "cell_type": "markdown",
   "id": "9b004778",
   "metadata": {},
   "source": [
    "Now suppose that we keep more of the original data columns and pursue a multilinear fit. We chain it with a `StandardScaler` so that all columns have equal mean and scale."
   ]
  },
  {
   "cell_type": "code",
   "execution_count": 8,
   "id": "00f3c265",
   "metadata": {},
   "outputs": [
    {
     "name": "stdout",
     "output_type": "stream",
     "text": [
      "MSE for multilinear: 18.623882663743327\n"
     ]
    }
   ],
   "source": [
    "from sklearn.preprocessing import StandardScaler\n",
    "\n",
    "X = cars[[\"horsepower\",\"displacement\",\"cylinders\",\"weight\"]]\n",
    "y = cars[\"mpg\"]\n",
    "X_tr,X_te,y_tr,y_te = train_test_split(X,y,test_size=0.2,random_state=0)\n",
    "\n",
    "lm = LinearRegression(fit_intercept=True)\n",
    "pipe = make_pipeline(StandardScaler(),lm)\n",
    "pipe.fit(X_tr,y_tr)\n",
    "print(f\"MSE for multilinear:\",mean_squared_error(y_te,pipe.predict(X_te)))"
   ]
  },
  {
   "cell_type": "markdown",
   "id": "1e21c501",
   "metadata": {},
   "source": [
    "The fit here is actually a little worse than the low-degree fits on horsepower alone. However, by comparing the coefficients of the individual features, some interesting information emerges:"
   ]
  },
  {
   "cell_type": "code",
   "execution_count": 9,
   "id": "3ab9797a",
   "metadata": {},
   "outputs": [
    {
     "name": "stdout",
     "output_type": "stream",
     "text": [
      "[-1.58758437  0.19119276 -0.59459762 -4.77122231]\n",
      "Index(['horsepower', 'displacement', 'cylinders', 'weight'], dtype='object')\n"
     ]
    }
   ],
   "source": [
    "print(pipe[1].coef_)\n",
    "print(X.columns)"
   ]
  },
  {
   "cell_type": "markdown",
   "id": "ce57de7c",
   "metadata": {},
   "source": [
    "We now have a hypothesis that weight is the most significant negative factor for MPG, and by a wide margin.\n",
    "\n",
    "Finally, we can combine the use of multiple features and higher degree."
   ]
  },
  {
   "cell_type": "code",
   "execution_count": 10,
   "id": "35bcd60b",
   "metadata": {},
   "outputs": [
    {
     "name": "stdout",
     "output_type": "stream",
     "text": [
      "MSE for multilinear: 14.794088067764827\n"
     ]
    }
   ],
   "source": [
    "pipe = make_pipeline(StandardScaler(),PolynomialFeatures(degree=2),lm)\n",
    "pipe.fit(X_tr,y_tr)\n",
    "print(f\"MSE for multilinear:\",mean_squared_error(y_te,pipe.predict(X_te)))"
   ]
  },
  {
   "cell_type": "markdown",
   "id": "27047ea6",
   "metadata": {},
   "source": [
    "This is our best regression fit so far."
   ]
  }
 ],
 "metadata": {
  "jupytext": {
   "text_representation": {
    "extension": ".md",
    "format_name": "myst",
    "format_version": 0.13,
    "jupytext_version": "1.10.3"
   }
  },
  "kernelspec": {
   "display_name": "Python 3.8.8 64-bit ('base': conda)",
   "language": "python",
   "name": "python3"
  },
  "language_info": {
   "codemirror_mode": {
    "name": "ipython",
    "version": 3
   },
   "file_extension": ".py",
   "mimetype": "text/x-python",
   "name": "python",
   "nbconvert_exporter": "python",
   "pygments_lexer": "ipython3",
   "version": "3.8.8"
  },
  "source_map": [
   12,
   70,
   75,
   79,
   81,
   85,
   87,
   91,
   104,
   110,
   112,
   120,
   130,
   134,
   136,
   140,
   151,
   155,
   158,
   164,
   168
  ]
 },
 "nbformat": 4,
 "nbformat_minor": 5
}