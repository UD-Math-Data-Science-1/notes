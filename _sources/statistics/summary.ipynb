{
 "cells": [
  {
   "cell_type": "markdown",
   "id": "6f0ce771",
   "metadata": {},
   "source": [
    "# Summary statistics\n",
    "\n",
    "We continue with the MPG data for illustrations."
   ]
  },
  {
   "cell_type": "code",
   "execution_count": 1,
   "id": "d7ae0612",
   "metadata": {},
   "outputs": [],
   "source": [
    "import pandas as pd\n",
    "import seaborn as sns\n",
    "\n",
    "cars = sns.load_dataset(\"mpg\")"
   ]
  },
  {
   "cell_type": "markdown",
   "id": "bebff38e",
   "metadata": {},
   "source": [
    "The `describe` method of a data frame gives summary statistics for each column of quantitative data."
   ]
  },
  {
   "cell_type": "code",
   "execution_count": 2,
   "id": "59257c65",
   "metadata": {},
   "outputs": [
    {
     "data": {
      "text/html": [
       "<div>\n",
       "<style scoped>\n",
       "    .dataframe tbody tr th:only-of-type {\n",
       "        vertical-align: middle;\n",
       "    }\n",
       "\n",
       "    .dataframe tbody tr th {\n",
       "        vertical-align: top;\n",
       "    }\n",
       "\n",
       "    .dataframe thead th {\n",
       "        text-align: right;\n",
       "    }\n",
       "</style>\n",
       "<table border=\"1\" class=\"dataframe\">\n",
       "  <thead>\n",
       "    <tr style=\"text-align: right;\">\n",
       "      <th></th>\n",
       "      <th>mpg</th>\n",
       "      <th>cylinders</th>\n",
       "      <th>displacement</th>\n",
       "      <th>horsepower</th>\n",
       "      <th>weight</th>\n",
       "      <th>acceleration</th>\n",
       "      <th>model_year</th>\n",
       "    </tr>\n",
       "  </thead>\n",
       "  <tbody>\n",
       "    <tr>\n",
       "      <th>count</th>\n",
       "      <td>398.000000</td>\n",
       "      <td>398.000000</td>\n",
       "      <td>398.000000</td>\n",
       "      <td>392.000000</td>\n",
       "      <td>398.000000</td>\n",
       "      <td>398.000000</td>\n",
       "      <td>398.000000</td>\n",
       "    </tr>\n",
       "    <tr>\n",
       "      <th>mean</th>\n",
       "      <td>23.514573</td>\n",
       "      <td>5.454774</td>\n",
       "      <td>193.425879</td>\n",
       "      <td>104.469388</td>\n",
       "      <td>2970.424623</td>\n",
       "      <td>15.568090</td>\n",
       "      <td>76.010050</td>\n",
       "    </tr>\n",
       "    <tr>\n",
       "      <th>std</th>\n",
       "      <td>7.815984</td>\n",
       "      <td>1.701004</td>\n",
       "      <td>104.269838</td>\n",
       "      <td>38.491160</td>\n",
       "      <td>846.841774</td>\n",
       "      <td>2.757689</td>\n",
       "      <td>3.697627</td>\n",
       "    </tr>\n",
       "    <tr>\n",
       "      <th>min</th>\n",
       "      <td>9.000000</td>\n",
       "      <td>3.000000</td>\n",
       "      <td>68.000000</td>\n",
       "      <td>46.000000</td>\n",
       "      <td>1613.000000</td>\n",
       "      <td>8.000000</td>\n",
       "      <td>70.000000</td>\n",
       "    </tr>\n",
       "    <tr>\n",
       "      <th>25%</th>\n",
       "      <td>17.500000</td>\n",
       "      <td>4.000000</td>\n",
       "      <td>104.250000</td>\n",
       "      <td>75.000000</td>\n",
       "      <td>2223.750000</td>\n",
       "      <td>13.825000</td>\n",
       "      <td>73.000000</td>\n",
       "    </tr>\n",
       "    <tr>\n",
       "      <th>50%</th>\n",
       "      <td>23.000000</td>\n",
       "      <td>4.000000</td>\n",
       "      <td>148.500000</td>\n",
       "      <td>93.500000</td>\n",
       "      <td>2803.500000</td>\n",
       "      <td>15.500000</td>\n",
       "      <td>76.000000</td>\n",
       "    </tr>\n",
       "    <tr>\n",
       "      <th>75%</th>\n",
       "      <td>29.000000</td>\n",
       "      <td>8.000000</td>\n",
       "      <td>262.000000</td>\n",
       "      <td>126.000000</td>\n",
       "      <td>3608.000000</td>\n",
       "      <td>17.175000</td>\n",
       "      <td>79.000000</td>\n",
       "    </tr>\n",
       "    <tr>\n",
       "      <th>max</th>\n",
       "      <td>46.600000</td>\n",
       "      <td>8.000000</td>\n",
       "      <td>455.000000</td>\n",
       "      <td>230.000000</td>\n",
       "      <td>5140.000000</td>\n",
       "      <td>24.800000</td>\n",
       "      <td>82.000000</td>\n",
       "    </tr>\n",
       "  </tbody>\n",
       "</table>\n",
       "</div>"
      ],
      "text/plain": [
       "              mpg   cylinders  displacement  horsepower       weight  \\\n",
       "count  398.000000  398.000000    398.000000  392.000000   398.000000   \n",
       "mean    23.514573    5.454774    193.425879  104.469388  2970.424623   \n",
       "std      7.815984    1.701004    104.269838   38.491160   846.841774   \n",
       "min      9.000000    3.000000     68.000000   46.000000  1613.000000   \n",
       "25%     17.500000    4.000000    104.250000   75.000000  2223.750000   \n",
       "50%     23.000000    4.000000    148.500000   93.500000  2803.500000   \n",
       "75%     29.000000    8.000000    262.000000  126.000000  3608.000000   \n",
       "max     46.600000    8.000000    455.000000  230.000000  5140.000000   \n",
       "\n",
       "       acceleration  model_year  \n",
       "count    398.000000  398.000000  \n",
       "mean      15.568090   76.010050  \n",
       "std        2.757689    3.697627  \n",
       "min        8.000000   70.000000  \n",
       "25%       13.825000   73.000000  \n",
       "50%       15.500000   76.000000  \n",
       "75%       17.175000   79.000000  \n",
       "max       24.800000   82.000000  "
      ]
     },
     "execution_count": 2,
     "metadata": {},
     "output_type": "execute_result"
    }
   ],
   "source": [
    "cars.describe()"
   ]
  },
  {
   "cell_type": "markdown",
   "id": "c75e423d",
   "metadata": {},
   "source": [
    "You certainly know about the **mean** of values $x_1,\\ldots,x_n$:\n",
    "\n",
    "```{math}\n",
    ":label: eq-statistics-mean\n",
    "\\bar{x} = \\frac{1}{n}\\sum_{i=1}^n x_i.\n",
    "```\n",
    "\n",
    "The \"std\" row of the summary table is a measurement of spread. First define the **variance** $\\sigma^2$ as \n",
    "\n",
    "```{math}\n",
    ":label: eq-statistics-var\n",
    "\\sigma^2 = \\frac{1}{n}\\sum_{i=1}^n (x_i - \\bar{x})^2.\n",
    "```\n",
    "\n",
    "Variance is the average of the squares of deviations from the mean. As such, it has the units that are the square of the data, which can be hard to interpret. Its square root $\\sigma$ is the **standard deviation** (STD), and it has the same units as the data. A small STD implies that the data values are all fairly close to the mean, while a large STD implies wider spread.\n",
    "\n",
    "These statistics can be computed separately for grouped data. For example, the mean of MPG for the three regions in the data are"
   ]
  },
  {
   "cell_type": "code",
   "execution_count": 3,
   "id": "76b02b08",
   "metadata": {},
   "outputs": [
    {
     "data": {
      "text/plain": [
       "origin\n",
       "europe    27.891429\n",
       "japan     30.450633\n",
       "usa       20.083534\n",
       "Name: mpg, dtype: float64"
      ]
     },
     "execution_count": 3,
     "metadata": {},
     "output_type": "execute_result"
    }
   ],
   "source": [
    "cars.groupby(\"origin\")[\"mpg\"].mean()"
   ]
  },
  {
   "cell_type": "markdown",
   "id": "4941a304",
   "metadata": {},
   "source": [
    "The mean in the U.S. is certainly smaller. But is the difference accounted for by how spread out the values are? We should at least compare to the standard deviation:"
   ]
  },
  {
   "cell_type": "code",
   "execution_count": 4,
   "id": "99b0d569",
   "metadata": {},
   "outputs": [
    {
     "data": {
      "text/plain": [
       "origin\n",
       "europe    6.723930\n",
       "japan     6.090048\n",
       "usa       6.402892\n",
       "Name: mpg, dtype: float64"
      ]
     },
     "execution_count": 4,
     "metadata": {},
     "output_type": "execute_result"
    }
   ],
   "source": [
    "cars.groupby(\"origin\")[\"mpg\"].std()"
   ]
  },
  {
   "cell_type": "markdown",
   "id": "c7be73fa",
   "metadata": {},
   "source": [
    "For data that are distributed normally, about 68% of the values lie within one standard deviation of the mean. The mean of the U.S. distribution is more than one STD less than the means from the other regions (although the data does not look like a normal distribution).\n",
    "\n",
    "## z-scores\n",
    "\n",
    "Given data values $x_1,\\ldots,x_n$, we can define related values known as **standardized scores** or **z-scores**:\n",
    "\n",
    "$$\n",
    "z_i = \\frac{x-\\mu}{\\sigma}, \\ldots i=1,\\ldots,n.\n",
    "$$\n",
    "\n",
    "The z-scores have mean zero and standard deviation equal to 1; in physical terms, they are dimensionless. This makes them attractive to work with and to compare across data sets."
   ]
  },
  {
   "cell_type": "code",
   "execution_count": 5,
   "id": "9d55ba3c",
   "metadata": {},
   "outputs": [
    {
     "data": {
      "text/html": [
       "<div>\n",
       "<style scoped>\n",
       "    .dataframe tbody tr th:only-of-type {\n",
       "        vertical-align: middle;\n",
       "    }\n",
       "\n",
       "    .dataframe tbody tr th {\n",
       "        vertical-align: top;\n",
       "    }\n",
       "\n",
       "    .dataframe thead th {\n",
       "        text-align: right;\n",
       "    }\n",
       "</style>\n",
       "<table border=\"1\" class=\"dataframe\">\n",
       "  <thead>\n",
       "    <tr style=\"text-align: right;\">\n",
       "      <th></th>\n",
       "      <th>origin</th>\n",
       "      <th>mpg</th>\n",
       "      <th>mpg_z</th>\n",
       "    </tr>\n",
       "  </thead>\n",
       "  <tbody>\n",
       "    <tr>\n",
       "      <th>0</th>\n",
       "      <td>usa</td>\n",
       "      <td>18.0</td>\n",
       "      <td>-0.325405</td>\n",
       "    </tr>\n",
       "    <tr>\n",
       "      <th>1</th>\n",
       "      <td>usa</td>\n",
       "      <td>15.0</td>\n",
       "      <td>-0.793943</td>\n",
       "    </tr>\n",
       "    <tr>\n",
       "      <th>2</th>\n",
       "      <td>usa</td>\n",
       "      <td>18.0</td>\n",
       "      <td>-0.325405</td>\n",
       "    </tr>\n",
       "    <tr>\n",
       "      <th>3</th>\n",
       "      <td>usa</td>\n",
       "      <td>16.0</td>\n",
       "      <td>-0.637764</td>\n",
       "    </tr>\n",
       "    <tr>\n",
       "      <th>4</th>\n",
       "      <td>usa</td>\n",
       "      <td>17.0</td>\n",
       "      <td>-0.481585</td>\n",
       "    </tr>\n",
       "    <tr>\n",
       "      <th>...</th>\n",
       "      <td>...</td>\n",
       "      <td>...</td>\n",
       "      <td>...</td>\n",
       "    </tr>\n",
       "    <tr>\n",
       "      <th>393</th>\n",
       "      <td>usa</td>\n",
       "      <td>27.0</td>\n",
       "      <td>1.080210</td>\n",
       "    </tr>\n",
       "    <tr>\n",
       "      <th>394</th>\n",
       "      <td>europe</td>\n",
       "      <td>44.0</td>\n",
       "      <td>2.395708</td>\n",
       "    </tr>\n",
       "    <tr>\n",
       "      <th>395</th>\n",
       "      <td>usa</td>\n",
       "      <td>32.0</td>\n",
       "      <td>1.861107</td>\n",
       "    </tr>\n",
       "    <tr>\n",
       "      <th>396</th>\n",
       "      <td>usa</td>\n",
       "      <td>28.0</td>\n",
       "      <td>1.236389</td>\n",
       "    </tr>\n",
       "    <tr>\n",
       "      <th>397</th>\n",
       "      <td>usa</td>\n",
       "      <td>31.0</td>\n",
       "      <td>1.704927</td>\n",
       "    </tr>\n",
       "  </tbody>\n",
       "</table>\n",
       "<p>398 rows × 3 columns</p>\n",
       "</div>"
      ],
      "text/plain": [
       "     origin   mpg     mpg_z\n",
       "0       usa  18.0 -0.325405\n",
       "1       usa  15.0 -0.793943\n",
       "2       usa  18.0 -0.325405\n",
       "3       usa  16.0 -0.637764\n",
       "4       usa  17.0 -0.481585\n",
       "..      ...   ...       ...\n",
       "393     usa  27.0  1.080210\n",
       "394  europe  44.0  2.395708\n",
       "395     usa  32.0  1.861107\n",
       "396     usa  28.0  1.236389\n",
       "397     usa  31.0  1.704927\n",
       "\n",
       "[398 rows x 3 columns]"
      ]
     },
     "execution_count": 5,
     "metadata": {},
     "output_type": "execute_result"
    }
   ],
   "source": [
    "def standardize(x):\n",
    "    return (x-x.mean())/x.std()\n",
    "\n",
    "cars[\"mpg_z\"] = cars.groupby(\"origin\")[\"mpg\"].transform(standardize)\n",
    "cars[[\"origin\",\"mpg\",\"mpg_z\"]]"
   ]
  },
  {
   "cell_type": "markdown",
   "id": "19c13ce2",
   "metadata": {},
   "source": [
    "The standardization occurred separately within each group, so that each histogram is now centered at zero."
   ]
  },
  {
   "cell_type": "code",
   "execution_count": 6,
   "id": "953b4792",
   "metadata": {},
   "outputs": [
    {
     "data": {
      "text/plain": [
       "<seaborn.axisgrid.FacetGrid at 0x7f8db231a100>"
      ]
     },
     "execution_count": 6,
     "metadata": {},
     "output_type": "execute_result"
    },
    {
     "data": {
      "image/png": "[encoded data removed]",
      "text/plain": [
       "<Figure size 1080x360 with 3 Axes>"
      ]
     },
     "metadata": {
      "filenames": {
       "image/png": "/Users/driscoll/Dropbox/class/267/notes/_build/jupyter_execute/statistics/summary_11_1.png"
      },
      "needs_background": "light"
     },
     "output_type": "display_data"
    }
   ],
   "source": [
    "sns.displot(data=cars,x=\"mpg_z\",col=\"origin\")"
   ]
  },
  {
   "cell_type": "code",
   "execution_count": 7,
   "id": "b9dc7b99",
   "metadata": {},
   "outputs": [
    {
     "data": {
      "text/plain": [
       "origin\n",
       "europe   -2.918301e-16\n",
       "japan     1.365293e-15\n",
       "usa       1.161053e-15\n",
       "Name: mpg_z, dtype: float64"
      ]
     },
     "execution_count": 7,
     "metadata": {},
     "output_type": "execute_result"
    }
   ],
   "source": [
    "cars.groupby(\"origin\")[\"mpg_z\"].mean()"
   ]
  },
  {
   "cell_type": "markdown",
   "id": "985057e5",
   "metadata": {},
   "source": [
    "(Recall that floating-point values are rounded to 15–16 digits.)\n",
    "\n",
    "\n",
    "## Populations and samples\n",
    "\n",
    "In statistics one refers to the **population** as the entire universe of available values. Thus, the ages of everyone on Earth at some instant has a particular mean and standard deviation. However, in order to estimate those values, we can only measure a **sample** of the population directly. \n",
    "\n",
    "It can be proved that {eq}`eq-statistics-mean` is an accurate way to estimate the mean of a population, in a particular precise sense. If, in a thought experiment, we could average this estimate over all possible samples of size $n$, the result would be exactly the population mean. \n",
    "\n",
    "However, if we use the formula {eq}`eq-statistics-var` to compute variance of a sample, and average over all possible sample sets, we would *not* get the variance of the population; we call this a **biased estimator**. The unbiased estimator for variance is\n",
    "\n",
    "```{math}\n",
    ":label: eq-statistics-var-sample\n",
    "\\hat{\\sigma}^2 = \\frac{1}{n-1}\\sum_{i=1}^n (x_i - \\bar{x})^2.\n",
    "```\n",
    "\n",
    "As you can see from the formulas, the difference between variance and sample variance is small when the sample size $n$ is large. The `std` and `var` methods in pandas all calculate sample standard deviations and variances.\n",
    "\n",
    "## Quantiles and percentiles\n",
    "\n",
    "Mean, variance, and standard deviation are not the most relevant statistics for every data set. There are many alternatives.\n",
    "\n",
    "For any $0<p<1$, the $100p$-**percentile** is the value of $x$ such that $p$ is the probability of observing a population value less than or equal to $x$. In other words, percentiles are the inverse function of the CDF. \n",
    "\n",
    "The 50th percentile is known as the **median** of the population. The unbiased sample median of $x_1,\\ldots,x_n$ can be computed by sorting the values into $y_1,\\ldots,y_n$. If $n$ is odd, then $y_{(n+1)/2}$ is the sample median; otherwise, the average of $y_{n/2}$ and $y_{1+(n/2)}$ is the sample median. Computing unbiased sample estimates of percentiles other than the median is a little complicated, and we won't go into the details.\n",
    "\n",
    "```{prf:example}\n",
    "If the sorted values are $1,3,3,4,5,5,5$, then $n=7$ and the sample median is $y_4=4$. If the sample values are $1,3,3,4,5,5,5,9$, then $n=8$ and the sample median is $(4+5)/2=4.5$.\n",
    "```\n",
    "\n",
    "A set of percentiles dividing probability into $q$ equal pieces is called the $q$–**quantiles**.\n",
    "\n",
    "```{prf:example}\n",
    "The 4-quantiles are called **quartiles**. The first quartile is the 25th percentile, or the value that exceeds 1/4 of the population. The second quartile is the median. The third quantile is the 75th percentile. \n",
    "\n",
    "Sometimes the definition is extended to the *zeroth quartile*, which is the minimum sample value, and the *fourth quartile*, which is the maximum sample value.\n",
    "```\n",
    "\n",
    "```{warning}\n",
    "If this isn't confusing enough yet, sometimes the word *quantile* is casually used to mean *percentile*.\n",
    "```\n",
    "\n",
    "One way to measure spread in the values is the **interquartile range** (IQR), which is the difference between the 75th percentile and the 25th percentile. For some distributions, the median and IQR might be a good substitute for the mean and standard deviation.\n",
    "\n",
    "A common way to visualize quartiles is by a **box plot**."
   ]
  },
  {
   "cell_type": "code",
   "execution_count": 8,
   "id": "9a4d1207",
   "metadata": {},
   "outputs": [
    {
     "data": {
      "text/plain": [
       "<seaborn.axisgrid.FacetGrid at 0x7f8dc23817f0>"
      ]
     },
     "execution_count": 8,
     "metadata": {},
     "output_type": "execute_result"
    },
    {
     "data": {
      "image/png": "[encoded data removed]",
      "text/plain": [
       "<Figure size 360x360 with 1 Axes>"
      ]
     },
     "metadata": {
      "filenames": {
       "image/png": "/Users/driscoll/Dropbox/class/267/notes/_build/jupyter_execute/statistics/summary_14_1.png"
      },
      "needs_background": "light"
     },
     "output_type": "display_data"
    }
   ],
   "source": [
    "sns.catplot(data=cars,x=\"origin\",y=\"mpg\",kind=\"box\")"
   ]
  },
  {
   "cell_type": "markdown",
   "id": "cfe6b27d",
   "metadata": {},
   "source": [
    "The colored boxes in each category show the quartiles, with the interior horizontal line showing the median. The \"whiskers\" and dots are explained in the next section. \n",
    "\n",
    "An alternative to a box plot is a **violin plot**."
   ]
  },
  {
   "cell_type": "code",
   "execution_count": 9,
   "id": "62fce39a",
   "metadata": {},
   "outputs": [
    {
     "data": {
      "text/plain": [
       "<seaborn.axisgrid.FacetGrid at 0x7f8db26f1ee0>"
      ]
     },
     "execution_count": 9,
     "metadata": {},
     "output_type": "execute_result"
    },
    {
     "data": {
      "image/png": "[encoded data removed]",
      "text/plain": [
       "<Figure size 360x360 with 1 Axes>"
      ]
     },
     "metadata": {
      "filenames": {
       "image/png": "/Users/driscoll/Dropbox/class/267/notes/_build/jupyter_execute/statistics/summary_16_1.png"
      },
      "needs_background": "light"
     },
     "output_type": "display_data"
    }
   ],
   "source": [
    "sns.catplot(data=cars,x=\"mpg\",y=\"origin\",kind=\"violin\")"
   ]
  },
  {
   "cell_type": "markdown",
   "id": "57f3f0f4",
   "metadata": {},
   "source": [
    "In a violin plot, the inner lines still show the same information as the box plot, and the sides of the \"violins\" are KDE estimates of the continuous distributions."
   ]
  }
 ],
 "metadata": {
  "jupytext": {
   "text_representation": {
    "extension": ".md",
    "format_name": "myst",
    "format_version": 0.13,
    "jupytext_version": "1.10.3"
   }
  },
  "kernelspec": {
   "display_name": "Python 3.8.8 64-bit ('base': conda)",
   "language": "python",
   "name": "python3"
  },
  "language_info": {
   "codemirror_mode": {
    "name": "ipython",
    "version": 3
   },
   "file_extension": ".py",
   "mimetype": "text/x-python",
   "name": "python",
   "nbconvert_exporter": "python",
   "pygments_lexer": "ipython3",
   "version": "3.8.8"
  },
  "source_map": [
   12,
   18,
   23,
   27,
   29,
   50,
   52,
   56,
   58,
   72,
   78,
   82,
   86,
   88,
   136,
   138,
   144,
   146
  ]
 },
 "nbformat": 4,
 "nbformat_minor": 5
}