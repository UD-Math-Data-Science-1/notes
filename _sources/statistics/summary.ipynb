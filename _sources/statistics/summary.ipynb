{
 "cells": [
  {
   "cell_type": "markdown",
   "id": "a7bc30ae",
   "metadata": {},
   "source": [
    "# Summary statistics\n",
    "\n",
    "We will use data about car fuel efficiency for illustrations."
   ]
  },
  {
   "cell_type": "code",
   "execution_count": 1,
   "id": "e6c6301d",
   "metadata": {},
   "outputs": [],
   "source": [
    "import pandas as pd\n",
    "import seaborn as sns\n",
    "\n",
    "cars = sns.load_dataset(\"mpg\")"
   ]
  },
  {
   "cell_type": "markdown",
   "id": "f255ddfc",
   "metadata": {},
   "source": [
    "The `describe` method of a data frame gives summary statistics for each column of quantitative data."
   ]
  },
  {
   "cell_type": "code",
   "execution_count": 2,
   "id": "2a828d3a",
   "metadata": {},
   "outputs": [
    {
     "data": {
      "text/html": [
       "<div>\n",
       "<style scoped>\n",
       "    .dataframe tbody tr th:only-of-type {\n",
       "        vertical-align: middle;\n",
       "    }\n",
       "\n",
       "    .dataframe tbody tr th {\n",
       "        vertical-align: top;\n",
       "    }\n",
       "\n",
       "    .dataframe thead th {\n",
       "        text-align: right;\n",
       "    }\n",
       "</style>\n",
       "<table border=\"1\" class=\"dataframe\">\n",
       "  <thead>\n",
       "    <tr style=\"text-align: right;\">\n",
       "      <th></th>\n",
       "      <th>mpg</th>\n",
       "      <th>cylinders</th>\n",
       "      <th>displacement</th>\n",
       "      <th>horsepower</th>\n",
       "      <th>weight</th>\n",
       "      <th>acceleration</th>\n",
       "      <th>model_year</th>\n",
       "    </tr>\n",
       "  </thead>\n",
       "  <tbody>\n",
       "    <tr>\n",
       "      <th>count</th>\n",
       "      <td>398.000000</td>\n",
       "      <td>398.000000</td>\n",
       "      <td>398.000000</td>\n",
       "      <td>392.000000</td>\n",
       "      <td>398.000000</td>\n",
       "      <td>398.000000</td>\n",
       "      <td>398.000000</td>\n",
       "    </tr>\n",
       "    <tr>\n",
       "      <th>mean</th>\n",
       "      <td>23.514573</td>\n",
       "      <td>5.454774</td>\n",
       "      <td>193.425879</td>\n",
       "      <td>104.469388</td>\n",
       "      <td>2970.424623</td>\n",
       "      <td>15.568090</td>\n",
       "      <td>76.010050</td>\n",
       "    </tr>\n",
       "    <tr>\n",
       "      <th>std</th>\n",
       "      <td>7.815984</td>\n",
       "      <td>1.701004</td>\n",
       "      <td>104.269838</td>\n",
       "      <td>38.491160</td>\n",
       "      <td>846.841774</td>\n",
       "      <td>2.757689</td>\n",
       "      <td>3.697627</td>\n",
       "    </tr>\n",
       "    <tr>\n",
       "      <th>min</th>\n",
       "      <td>9.000000</td>\n",
       "      <td>3.000000</td>\n",
       "      <td>68.000000</td>\n",
       "      <td>46.000000</td>\n",
       "      <td>1613.000000</td>\n",
       "      <td>8.000000</td>\n",
       "      <td>70.000000</td>\n",
       "    </tr>\n",
       "    <tr>\n",
       "      <th>25%</th>\n",
       "      <td>17.500000</td>\n",
       "      <td>4.000000</td>\n",
       "      <td>104.250000</td>\n",
       "      <td>75.000000</td>\n",
       "      <td>2223.750000</td>\n",
       "      <td>13.825000</td>\n",
       "      <td>73.000000</td>\n",
       "    </tr>\n",
       "    <tr>\n",
       "      <th>50%</th>\n",
       "      <td>23.000000</td>\n",
       "      <td>4.000000</td>\n",
       "      <td>148.500000</td>\n",
       "      <td>93.500000</td>\n",
       "      <td>2803.500000</td>\n",
       "      <td>15.500000</td>\n",
       "      <td>76.000000</td>\n",
       "    </tr>\n",
       "    <tr>\n",
       "      <th>75%</th>\n",
       "      <td>29.000000</td>\n",
       "      <td>8.000000</td>\n",
       "      <td>262.000000</td>\n",
       "      <td>126.000000</td>\n",
       "      <td>3608.000000</td>\n",
       "      <td>17.175000</td>\n",
       "      <td>79.000000</td>\n",
       "    </tr>\n",
       "    <tr>\n",
       "      <th>max</th>\n",
       "      <td>46.600000</td>\n",
       "      <td>8.000000</td>\n",
       "      <td>455.000000</td>\n",
       "      <td>230.000000</td>\n",
       "      <td>5140.000000</td>\n",
       "      <td>24.800000</td>\n",
       "      <td>82.000000</td>\n",
       "    </tr>\n",
       "  </tbody>\n",
       "</table>\n",
       "</div>"
      ],
      "text/plain": [
       "              mpg   cylinders  displacement  horsepower       weight  \\\n",
       "count  398.000000  398.000000    398.000000  392.000000   398.000000   \n",
       "mean    23.514573    5.454774    193.425879  104.469388  2970.424623   \n",
       "std      7.815984    1.701004    104.269838   38.491160   846.841774   \n",
       "min      9.000000    3.000000     68.000000   46.000000  1613.000000   \n",
       "25%     17.500000    4.000000    104.250000   75.000000  2223.750000   \n",
       "50%     23.000000    4.000000    148.500000   93.500000  2803.500000   \n",
       "75%     29.000000    8.000000    262.000000  126.000000  3608.000000   \n",
       "max     46.600000    8.000000    455.000000  230.000000  5140.000000   \n",
       "\n",
       "       acceleration  model_year  \n",
       "count    398.000000  398.000000  \n",
       "mean      15.568090   76.010050  \n",
       "std        2.757689    3.697627  \n",
       "min        8.000000   70.000000  \n",
       "25%       13.825000   73.000000  \n",
       "50%       15.500000   76.000000  \n",
       "75%       17.175000   79.000000  \n",
       "max       24.800000   82.000000  "
      ]
     },
     "execution_count": 2,
     "metadata": {},
     "output_type": "execute_result"
    }
   ],
   "source": [
    "cars.describe()"
   ]
  },
  {
   "cell_type": "markdown",
   "id": "5d005c53",
   "metadata": {},
   "source": [
    "## Mean, variance, standard deviation\n",
    "\n",
    "You certainly know about the **mean** of values $x_1,\\ldots,x_n$:\n",
    "\n",
    "```{math}\n",
    ":label: eq-statistics-mean\n",
    "\\mu = \\frac{1}{n}\\sum_{i=1}^n x_i.\n",
    "```\n",
    "\n",
    "The *std* row of the summary table is a measurement of spread. First define the **variance** $\\sigma^2$ as \n",
    "\n",
    "```{math}\n",
    ":label: eq-statistics-var\n",
    "\\sigma^2 = \\frac{1}{n}\\sum_{i=1}^n (x_i - \\mu)^2.\n",
    "```\n",
    "\n",
    "Variance is the average of the squares of deviations from the mean. As such, it has the units that are the square of the data, which can be hard to interpret. Its square root $\\sigma$ is the **standard deviation** (STD), and it has the same units as the data. \n",
    "\n",
    "A small STD implies that the data values are all fairly close to the mean, while a large STD implies wider spread. For data that are distributed normally, about 68% of the values lie within one standard deviation of the mean. The mean of the U.S. distribution is more than one STD less than the means from the other regions (although the data does not look like a normal distribution).\n",
    "\n",
    "### z-scores\n",
    "\n",
    "Given data values $x_1,\\ldots,x_n$, we can define related values known as **standardized scores** or **z-scores**:\n",
    "\n",
    "$$\n",
    "z_i = \\frac{x-\\mu}{\\sigma}, \\ldots i=1,\\ldots,n.\n",
    "$$\n",
    "\n",
    "The z-scores have mean zero and standard deviation equal to 1; in physical terms, they are dimensionless. This makes them attractive to work with and to compare across data sets."
   ]
  },
  {
   "cell_type": "code",
   "execution_count": 3,
   "id": "b0d68ade",
   "metadata": {},
   "outputs": [
    {
     "data": {
      "text/html": [
       "<div>\n",
       "<style scoped>\n",
       "    .dataframe tbody tr th:only-of-type {\n",
       "        vertical-align: middle;\n",
       "    }\n",
       "\n",
       "    .dataframe tbody tr th {\n",
       "        vertical-align: top;\n",
       "    }\n",
       "\n",
       "    .dataframe thead th {\n",
       "        text-align: right;\n",
       "    }\n",
       "</style>\n",
       "<table border=\"1\" class=\"dataframe\">\n",
       "  <thead>\n",
       "    <tr style=\"text-align: right;\">\n",
       "      <th></th>\n",
       "      <th>mpg</th>\n",
       "      <th>mpg_z</th>\n",
       "    </tr>\n",
       "  </thead>\n",
       "  <tbody>\n",
       "    <tr>\n",
       "      <th>count</th>\n",
       "      <td>398.000000</td>\n",
       "      <td>3.980000e+02</td>\n",
       "    </tr>\n",
       "    <tr>\n",
       "      <th>mean</th>\n",
       "      <td>23.514573</td>\n",
       "      <td>-1.041043e-15</td>\n",
       "    </tr>\n",
       "    <tr>\n",
       "      <th>std</th>\n",
       "      <td>7.815984</td>\n",
       "      <td>1.000000e+00</td>\n",
       "    </tr>\n",
       "    <tr>\n",
       "      <th>min</th>\n",
       "      <td>9.000000</td>\n",
       "      <td>-1.857037e+00</td>\n",
       "    </tr>\n",
       "    <tr>\n",
       "      <th>25%</th>\n",
       "      <td>17.500000</td>\n",
       "      <td>-7.695221e-01</td>\n",
       "    </tr>\n",
       "    <tr>\n",
       "      <th>50%</th>\n",
       "      <td>23.000000</td>\n",
       "      <td>-6.583596e-02</td>\n",
       "    </tr>\n",
       "    <tr>\n",
       "      <th>75%</th>\n",
       "      <td>29.000000</td>\n",
       "      <td>7.018217e-01</td>\n",
       "    </tr>\n",
       "    <tr>\n",
       "      <th>max</th>\n",
       "      <td>46.600000</td>\n",
       "      <td>2.953617e+00</td>\n",
       "    </tr>\n",
       "  </tbody>\n",
       "</table>\n",
       "</div>"
      ],
      "text/plain": [
       "              mpg         mpg_z\n",
       "count  398.000000  3.980000e+02\n",
       "mean    23.514573 -1.041043e-15\n",
       "std      7.815984  1.000000e+00\n",
       "min      9.000000 -1.857037e+00\n",
       "25%     17.500000 -7.695221e-01\n",
       "50%     23.000000 -6.583596e-02\n",
       "75%     29.000000  7.018217e-01\n",
       "max     46.600000  2.953617e+00"
      ]
     },
     "execution_count": 3,
     "metadata": {},
     "output_type": "execute_result"
    }
   ],
   "source": [
    "def standardize(x):\n",
    "    return (x-x.mean())/x.std()\n",
    "\n",
    "cars[\"mpg_z\"] = standardize(cars[\"mpg\"])\n",
    "cars[[\"mpg\",\"mpg_z\"]].describe()"
   ]
  },
  {
   "cell_type": "markdown",
   "id": "674e521c",
   "metadata": {},
   "source": [
    "(Recall that floating-point values are rounded to 15–16 digits, so it's unlikely that we can make the mean exactly zero.)\n",
    "\n",
    "## Populations and samples\n",
    "\n",
    "In statistics one refers to the **population** as the entire universe of available values. Thus, the ages of everyone on Earth at some instant has a particular mean and standard deviation. However, in order to estimate those values, we can only measure a **sample** of the population directly. \n",
    "\n",
    "When {eq}`eq-statistics-mean` is used to compute the mean of a sample rather than a population, we change the notation a bit as a reminder:\n",
    "\n",
    "```{math}\n",
    ":label: eq-statistics-mean-sample\n",
    "\\bar{x} = \\frac{1}{n}\\sum_{i=1}^n x_i.\n",
    "```\n",
    "\n",
    "This in turn can be used within {eq}`eq-statistics-var` to compute **sample variance**:\n",
    "\n",
    "```{math}\n",
    "s_n^2 = \\frac{1}{n}\\sum_{i=1}^n (x_i - \\bar{x})^2.\n",
    "```\n",
    "\n",
    "It can be proved that the sample mean is an accurate way to estimate the population mean, in a particular precise sense. If, in a thought experiment, we could average $\\bar{x}$ over all possible samples of size $n$, the result would be exactly the population mean $\\mu$. We say that $\\bar{x}$ is an **unbiased estimator** for $\\mu$.\n",
    "\n",
    "However, the same conclusion does not hold for sample variance. If $s_n^2$ is averaged over all possible sample sets, we would *not* get the population variance $\\sigma^2$. Hence $s_n^2$ is a **biased estimator** of the population variance. An unbiased estimator for $\\sigma^2$ is\n",
    "\n",
    "```{math}\n",
    ":label: eq-statistics-var-sample\n",
    "s_{n-1}^2 = \\frac{1}{n-1}\\sum_{i=1}^n (x_i - \\bar{x})^2.\n",
    "```\n",
    "\n",
    "::::{prf:example}\n",
    ":label: example-summary-sample\n",
    "The values [1, 4, 9, 16, 25] have mean $$\\bar{x}=55/5 = 11$. The sample variance is \n",
    "\n",
    "$$\n",
    "s_n^2 = \\frac{(1-11)^2+(4-11)^2+(9-11)^2+(16-11)^2+(25-11)^2}{5} = \\frac{374}{5} = 74.8.\n",
    "$$\n",
    "\n",
    "But the unbiased estimate of population variance from this sample is \n",
    "\n",
    "$$\n",
    "s_{n-1}^2 = \\frac{374}{4} = 93.5.\n",
    "$$\n",
    "::::\n",
    "\n",
    "As you can see from the formulas, the sample variance is always too large as an estimator, but the difference vanishes as the sample size $n$ increases. \n",
    "\n",
    "```{warning}\n",
    "Sources are not always clear about this terminology. Some use *sample variance* to mean $s_{n-1}^2$, not $s_n^2$, and many even omit the subscripts. You always have to check each source.\n",
    "```\n",
    "\n",
    "For standard deviation, *neither* $s_n$ *nor* $s_{n-1}$ is an unbiased estimator of $\\sigma$. There is no simple correction that works for all distributions. Our practice is to use $s_{n-1}$, which is what `std` computes in pandas. (Unfortunately, `std` in numpy returns $s_n$.) Thus, for instance, a **sample z-score** for $x_i$ is \n",
    "\n",
    "$$\n",
    "z_i = \\frac{x_i-\\bar{x}}{s_{n-1}}.\n",
    "$$\n",
    "\n",
    "(In statistics this is referred to as a *t-score*, and the term *sample z-score* is not common. In data science practice, the difference between z-scores and t-scores is rarely important, and most sources just use the term *z-score* indiscriminately.)\n",
    "\n",
    "## Median and quantiles\n",
    "\n",
    "Mean, variance, and standard deviation are not the most relevant statistics for every data set. There are many alternatives.\n",
    "\n",
    "For any $0<p<1$, the $100p$-**percentile** is the value of $x$ such that $p$ is the probability of observing a population value less than or equal to $x$. In other words, percentiles are the inverse function of the CDF. \n",
    "\n",
    "The 50th percentile is known as the **median** of the population. The unbiased sample median of $x_1,\\ldots,x_n$ can be computed by sorting the values into $y_1,\\ldots,y_n$. If $n$ is odd, then $y_{(n+1)/2}$ is the sample median; otherwise, the average of $y_{n/2}$ and $y_{1+(n/2)}$ is the sample median. Computing unbiased sample estimates of percentiles other than the median is a little complicated, and we won't go into the details.\n",
    "\n",
    "```{prf:example}\n",
    "If the sorted values are $1,3,3,4,5,5,5$, then $n=7$ and the sample median is $y_4=4$. If the sample values are $1,3,3,4,5,5,5,9$, then $n=8$ and the sample median is $(4+5)/2=4.5$.\n",
    "```\n",
    "\n",
    "A set of percentiles dividing probability into $q$ equal pieces is called the $q$–**quantiles**.\n",
    "\n",
    "```{prf:example}\n",
    "The 4-quantiles are called **quartiles**. The first quartile is the 25th percentile, or the value that exceeds 1/4 of the population. The second quartile is the median. The third quartile is the 75th percentile. \n",
    "\n",
    "Sometimes the definition is extended to the *zeroth quartile*, which is the minimum sample value, and the *fourth quartile*, which is the maximum sample value.\n",
    "```\n",
    "\n",
    "```{warning}\n",
    "If this all isn't confusing enough yet, sometimes the word *quantile* is used to mean *percentile*. This is the case for the `quantile` method in pandas.\n",
    "```\n",
    "\n",
    "The **interquartile range** (IQR), which is the difference between the 75th percentile and the 25th percentile, is a measurement of the spread of the values. For some distributions, the median and IQR might be a good substitute for the mean and standard deviation.\n",
    "\n",
    "A common way to visualize quartiles is by a **box plot**."
   ]
  },
  {
   "cell_type": "code",
   "execution_count": 4,
   "id": "02ef04f9",
   "metadata": {},
   "outputs": [
    {
     "data": {
      "image/png": "[encoded data removed]",
      "text/plain": [
       "<Figure size 360x360 with 1 Axes>"
      ]
     },
     "metadata": {
      "filenames": {
       "image/png": "/Users/driscoll/Dropbox/class/267/notes/_build/jupyter_execute/statistics/summary_7_0.png"
      },
      "needs_background": "light"
     },
     "output_type": "display_data"
    }
   ],
   "source": [
    "sns.catplot(data=cars,x=\"origin\",y=\"mpg\",kind=\"box\");"
   ]
  },
  {
   "cell_type": "markdown",
   "id": "e00fc872",
   "metadata": {},
   "source": [
    "Each colored box shows the interquartile range, with the interior horizontal line showing the median. The \"whiskers\" and dots are explained in a later section. A related visualization is a **violin plot**."
   ]
  },
  {
   "cell_type": "code",
   "execution_count": 5,
   "id": "31bb9f1f",
   "metadata": {},
   "outputs": [
    {
     "data": {
      "image/png": "[encoded data removed]",
      "text/plain": [
       "<Figure size 360x360 with 1 Axes>"
      ]
     },
     "metadata": {
      "filenames": {
       "image/png": "/Users/driscoll/Dropbox/class/267/notes/_build/jupyter_execute/statistics/summary_9_0.png"
      },
      "needs_background": "light"
     },
     "output_type": "display_data"
    }
   ],
   "source": [
    "sns.catplot(data=cars,x=\"mpg\",y=\"origin\",kind=\"violin\");"
   ]
  },
  {
   "cell_type": "markdown",
   "id": "4befb7ca",
   "metadata": {},
   "source": [
    "In a violin plot, the inner lines show the same information as the box plot, with the thick part showing the IQR, while the sides of the \"violins\" are KDE estimates of the continuous distributions.\n",
    "\n",
    "<div style=\"max-width:608px\"><div style=\"position:relative;padding-bottom:66.118421052632%\"><iframe id=\"kaltura_player\" src=\"https://cdnapisec.kaltura.com/p/2358381/sp/235838100/embedIframeJs/uiconf_id/43030021/partner_id/2358381?iframeembed=true&playerId=kaltura_player&entry_id=1_kqyy86qx&flashvars[streamerType]=auto&amp;flashvars[localizationCode]=en&amp;flashvars[leadWithHTML5]=true&amp;flashvars[sideBarContainer.plugin]=true&amp;flashvars[sideBarContainer.position]=left&amp;flashvars[sideBarContainer.clickToClose]=true&amp;flashvars[chapters.plugin]=true&amp;flashvars[chapters.layout]=vertical&amp;flashvars[chapters.thumbnailRotator]=false&amp;flashvars[streamSelector.plugin]=true&amp;flashvars[EmbedPlayer.SpinnerTarget]=videoHolder&amp;flashvars[dualScreen.plugin]=true&amp;flashvars[Kaltura.addCrossoriginToIframe]=true&amp;&wid=1_mp2d99cc\" width=\"608\" height=\"402\" allowfullscreen webkitallowfullscreen mozAllowFullScreen allow=\"autoplay *; fullscreen *; encrypted-media *\" sandbox=\"allow-forms allow-same-origin allow-scripts allow-top-navigation allow-pointer-lock allow-popups allow-modals allow-orientation-lock allow-popups-to-escape-sandbox allow-presentation allow-top-navigation-by-user-activation\" frameborder=\"0\" title=\"Kaltura Player\" style=\"position:absolute;top:0;left:0;width:100%;height:100%\"></iframe></div></div>"
   ]
  }
 ],
 "metadata": {
  "jupytext": {
   "text_representation": {
    "extension": ".md",
    "format_name": "myst",
    "format_version": 0.13,
    "jupytext_version": "1.11.5"
   }
  },
  "kernelspec": {
   "display_name": "Python 3.8.8 64-bit ('base': conda)",
   "language": "python",
   "name": "python3"
  },
  "language_info": {
   "codemirror_mode": {
    "name": "ipython",
    "version": 3
   },
   "file_extension": ".py",
   "mimetype": "text/x-python",
   "name": "python",
   "nbconvert_exporter": "python",
   "pygments_lexer": "ipython3",
   "version": "3.8.8"
  },
  "source_map": [
   12,
   18,
   23,
   27,
   29,
   61,
   67,
   154,
   156,
   160,
   162
  ]
 },
 "nbformat": 4,
 "nbformat_minor": 5
}