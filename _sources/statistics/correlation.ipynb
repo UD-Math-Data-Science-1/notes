{
 "cells": [
  {
   "cell_type": "markdown",
   "id": "94490389",
   "metadata": {},
   "source": [
    "# Correlation\n",
    "\n",
    "For illustrations, let us load a data set about penguins."
   ]
  },
  {
   "cell_type": "code",
   "execution_count": 1,
   "id": "5f42f71f",
   "metadata": {},
   "outputs": [
    {
     "data": {
      "text/html": [
       "<div>\n",
       "<style scoped>\n",
       "    .dataframe tbody tr th:only-of-type {\n",
       "        vertical-align: middle;\n",
       "    }\n",
       "\n",
       "    .dataframe tbody tr th {\n",
       "        vertical-align: top;\n",
       "    }\n",
       "\n",
       "    .dataframe thead th {\n",
       "        text-align: right;\n",
       "    }\n",
       "</style>\n",
       "<table border=\"1\" class=\"dataframe\">\n",
       "  <thead>\n",
       "    <tr style=\"text-align: right;\">\n",
       "      <th></th>\n",
       "      <th>species</th>\n",
       "      <th>island</th>\n",
       "      <th>bill_length_mm</th>\n",
       "      <th>bill_depth_mm</th>\n",
       "      <th>flipper_length_mm</th>\n",
       "      <th>body_mass_g</th>\n",
       "      <th>sex</th>\n",
       "    </tr>\n",
       "  </thead>\n",
       "  <tbody>\n",
       "    <tr>\n",
       "      <th>0</th>\n",
       "      <td>Adelie</td>\n",
       "      <td>Torgersen</td>\n",
       "      <td>39.1</td>\n",
       "      <td>18.7</td>\n",
       "      <td>181.0</td>\n",
       "      <td>3750.0</td>\n",
       "      <td>Male</td>\n",
       "    </tr>\n",
       "    <tr>\n",
       "      <th>1</th>\n",
       "      <td>Adelie</td>\n",
       "      <td>Torgersen</td>\n",
       "      <td>39.5</td>\n",
       "      <td>17.4</td>\n",
       "      <td>186.0</td>\n",
       "      <td>3800.0</td>\n",
       "      <td>Female</td>\n",
       "    </tr>\n",
       "    <tr>\n",
       "      <th>2</th>\n",
       "      <td>Adelie</td>\n",
       "      <td>Torgersen</td>\n",
       "      <td>40.3</td>\n",
       "      <td>18.0</td>\n",
       "      <td>195.0</td>\n",
       "      <td>3250.0</td>\n",
       "      <td>Female</td>\n",
       "    </tr>\n",
       "    <tr>\n",
       "      <th>3</th>\n",
       "      <td>Adelie</td>\n",
       "      <td>Torgersen</td>\n",
       "      <td>NaN</td>\n",
       "      <td>NaN</td>\n",
       "      <td>NaN</td>\n",
       "      <td>NaN</td>\n",
       "      <td>NaN</td>\n",
       "    </tr>\n",
       "    <tr>\n",
       "      <th>4</th>\n",
       "      <td>Adelie</td>\n",
       "      <td>Torgersen</td>\n",
       "      <td>36.7</td>\n",
       "      <td>19.3</td>\n",
       "      <td>193.0</td>\n",
       "      <td>3450.0</td>\n",
       "      <td>Female</td>\n",
       "    </tr>\n",
       "    <tr>\n",
       "      <th>...</th>\n",
       "      <td>...</td>\n",
       "      <td>...</td>\n",
       "      <td>...</td>\n",
       "      <td>...</td>\n",
       "      <td>...</td>\n",
       "      <td>...</td>\n",
       "      <td>...</td>\n",
       "    </tr>\n",
       "    <tr>\n",
       "      <th>339</th>\n",
       "      <td>Gentoo</td>\n",
       "      <td>Biscoe</td>\n",
       "      <td>NaN</td>\n",
       "      <td>NaN</td>\n",
       "      <td>NaN</td>\n",
       "      <td>NaN</td>\n",
       "      <td>NaN</td>\n",
       "    </tr>\n",
       "    <tr>\n",
       "      <th>340</th>\n",
       "      <td>Gentoo</td>\n",
       "      <td>Biscoe</td>\n",
       "      <td>46.8</td>\n",
       "      <td>14.3</td>\n",
       "      <td>215.0</td>\n",
       "      <td>4850.0</td>\n",
       "      <td>Female</td>\n",
       "    </tr>\n",
       "    <tr>\n",
       "      <th>341</th>\n",
       "      <td>Gentoo</td>\n",
       "      <td>Biscoe</td>\n",
       "      <td>50.4</td>\n",
       "      <td>15.7</td>\n",
       "      <td>222.0</td>\n",
       "      <td>5750.0</td>\n",
       "      <td>Male</td>\n",
       "    </tr>\n",
       "    <tr>\n",
       "      <th>342</th>\n",
       "      <td>Gentoo</td>\n",
       "      <td>Biscoe</td>\n",
       "      <td>45.2</td>\n",
       "      <td>14.8</td>\n",
       "      <td>212.0</td>\n",
       "      <td>5200.0</td>\n",
       "      <td>Female</td>\n",
       "    </tr>\n",
       "    <tr>\n",
       "      <th>343</th>\n",
       "      <td>Gentoo</td>\n",
       "      <td>Biscoe</td>\n",
       "      <td>49.9</td>\n",
       "      <td>16.1</td>\n",
       "      <td>213.0</td>\n",
       "      <td>5400.0</td>\n",
       "      <td>Male</td>\n",
       "    </tr>\n",
       "  </tbody>\n",
       "</table>\n",
       "<p>344 rows × 7 columns</p>\n",
       "</div>"
      ],
      "text/plain": [
       "    species     island  bill_length_mm  bill_depth_mm  flipper_length_mm  \\\n",
       "0    Adelie  Torgersen            39.1           18.7              181.0   \n",
       "1    Adelie  Torgersen            39.5           17.4              186.0   \n",
       "2    Adelie  Torgersen            40.3           18.0              195.0   \n",
       "3    Adelie  Torgersen             NaN            NaN                NaN   \n",
       "4    Adelie  Torgersen            36.7           19.3              193.0   \n",
       "..      ...        ...             ...            ...                ...   \n",
       "339  Gentoo     Biscoe             NaN            NaN                NaN   \n",
       "340  Gentoo     Biscoe            46.8           14.3              215.0   \n",
       "341  Gentoo     Biscoe            50.4           15.7              222.0   \n",
       "342  Gentoo     Biscoe            45.2           14.8              212.0   \n",
       "343  Gentoo     Biscoe            49.9           16.1              213.0   \n",
       "\n",
       "     body_mass_g     sex  \n",
       "0         3750.0    Male  \n",
       "1         3800.0  Female  \n",
       "2         3250.0  Female  \n",
       "3            NaN     NaN  \n",
       "4         3450.0  Female  \n",
       "..           ...     ...  \n",
       "339          NaN     NaN  \n",
       "340       4850.0  Female  \n",
       "341       5750.0    Male  \n",
       "342       5200.0  Female  \n",
       "343       5400.0    Male  \n",
       "\n",
       "[344 rows x 7 columns]"
      ]
     },
     "execution_count": 1,
     "metadata": {},
     "output_type": "execute_result"
    }
   ],
   "source": [
    "import pandas as pd\n",
    "import seaborn as sns\n",
    "pen = sns.load_dataset(\"penguins\")\n",
    "pen"
   ]
  },
  {
   "cell_type": "markdown",
   "id": "6e2c969d",
   "metadata": {},
   "source": [
    "There are often observations that we believe to be linked, either because one influences the other, or both are influenced by some other factor. That is, we say the quantities are **correlated**. There are several ways to measure correlation.\n",
    "\n",
    "## Covariance\n",
    "\n",
    "Suppose we have two series of observations, $[x_i]$ and $[y_i]$, representing observations of random quantities $X$ and $Y$ having means $\\mu_X$ and $\\mu_Y$. Then the values $[x_i-\\mu_X]$ and $[y_i-\\mu_Y]$ are deviations from the means. The **covariance** of the quantities is defined as \n",
    "\n",
    "$$\n",
    "\\Cov(X,Y) = \\frac{1}{n} \\sum_{i=1}^n (x_i-\\mu_X)(y_i-\\mu_Y).\n",
    "$$\n",
    "\n",
    "One explanation for the name is that $\\Cov(X,X)$ and $Cov(Y,Y)$ are just the variances of $X$ and $Y$. However, covariance is not easy to interpret. Its units are the products of the units of the two variables, and it is sensitive to rescaling the variables (e.g., grams versus kilograms).\n",
    "\n",
    "## Pearson correlation coefficient\n",
    "\n",
    "We can remove the dependence on units and scale by applying the covariance to standardized scores for both variables:\n",
    "\n",
    "$$\n",
    "\\rho(X,Y) = \\frac{1}{n} \\sum_{i=1}^n \\left(\\frac{x_i-\\mu_X}{\\sigma_X}\\right)\\left(\\frac{y_i-\\mu_Y}{\\sigma_Y}\\right)\n",
    "= \\frac{\\Cov(X,Y)}{\\sigma_X\\sigma_Y},\n",
    "$$\n",
    "\n",
    "where $\\sigma_X^2$ and $\\sigma_Y^2$ are the variances of $X$ and $Y$. The value of $\\rho$, called the **Pearson correlation coefficient**, is between $-1$ and $1$, with the endpoints indicating perfect correlation (negative or positive). \n",
    "\n",
    "For example, we might reasonably expect flipper length and body mass to be correlated in penguins, as a plot confirms:"
   ]
  },
  {
   "cell_type": "code",
   "execution_count": 2,
   "id": "d5c799f0",
   "metadata": {},
   "outputs": [
    {
     "data": {
      "text/plain": [
       "<seaborn.axisgrid.FacetGrid at 0x7f90bb4715e0>"
      ]
     },
     "execution_count": 2,
     "metadata": {},
     "output_type": "execute_result"
    },
    {
     "data": {
      "image/png": "[encoded data removed]",
      "text/plain": [
       "<Figure size 360x360 with 1 Axes>"
      ]
     },
     "metadata": {
      "filenames": {
       "image/png": "/Users/driscoll/Dropbox/class/267/notes/_build/jupyter_execute/statistics/correlation_3_1.png"
      },
      "needs_background": "light"
     },
     "output_type": "display_data"
    }
   ],
   "source": [
    "sns.relplot(data=pen,x=\"flipper_length_mm\",y=\"body_mass_g\")"
   ]
  },
  {
   "cell_type": "markdown",
   "id": "f0d51cb5",
   "metadata": {},
   "source": [
    "Covariance allows us to confirm a positive relationship:"
   ]
  },
  {
   "cell_type": "code",
   "execution_count": 3,
   "id": "8613c143",
   "metadata": {},
   "outputs": [
    {
     "data": {
      "text/plain": [
       "9824.416062149508"
      ]
     },
     "execution_count": 3,
     "metadata": {},
     "output_type": "execute_result"
    }
   ],
   "source": [
    "flip = pen[\"flipper_length_mm\"]\n",
    "mass = pen[\"body_mass_g\"]\n",
    "\n",
    "flip.cov(mass)"
   ]
  },
  {
   "cell_type": "markdown",
   "id": "be2fd17a",
   "metadata": {},
   "source": [
    "But is that a lot? The Pearson coefficient is more helpful."
   ]
  },
  {
   "cell_type": "code",
   "execution_count": 4,
   "id": "5b0782da",
   "metadata": {},
   "outputs": [
    {
     "data": {
      "text/plain": [
       "0.8712017673060113"
      ]
     },
     "execution_count": 4,
     "metadata": {},
     "output_type": "execute_result"
    }
   ],
   "source": [
    "flip.corr(mass)"
   ]
  },
  {
   "cell_type": "markdown",
   "id": "84b5c210",
   "metadata": {},
   "source": [
    "The value of about $0.87$ suggests that knowing one of the values would allow us to predict the other one rather well using a best-fit straight line (more on that in a future chapter).\n",
    "\n",
    "As usual when dealing with means, however, the Pearson coefficient can be sensitive to outlier values. For example, let's correlate two series of length 20 that differ in just one value:"
   ]
  },
  {
   "cell_type": "code",
   "execution_count": 5,
   "id": "8817610c",
   "metadata": {},
   "outputs": [
    {
     "data": {
      "text/plain": [
       "0.43636501543147005"
      ]
     },
     "execution_count": 5,
     "metadata": {},
     "output_type": "execute_result"
    }
   ],
   "source": [
    "x = pd.Series(range(20))\n",
    "y = x.copy()\n",
    "y[4] = -100\n",
    "x.corr(y)"
   ]
  },
  {
   "cell_type": "markdown",
   "id": "f8226b7b",
   "metadata": {},
   "source": [
    "About half of the predictive value was lost. \n",
    "\n",
    "## Spearman coefficient\n",
    "\n",
    "The Spearman coefficient is one way to lessen the impact of outliers when measuring correlation. The idea is that the values are used only in their relationship to one another. \n",
    "\n",
    "Define $r_i$ as the position of $x_i$ in a sorted reordering of the sampled values of $X$. Similarly, let $s_i$ be a position or *rank* series for the values of $Y$. Then the **Spearman coefficient** is defined as the Pearson coefficient of the variables $R$ and $S$.\n",
    "\n",
    "For the example above, it's trivial to produce the rank series by hand."
   ]
  },
  {
   "cell_type": "code",
   "execution_count": 6,
   "id": "d3079c1a",
   "metadata": {},
   "outputs": [
    {
     "data": {
      "text/plain": [
       "0.9849624060150375"
      ]
     },
     "execution_count": 6,
     "metadata": {},
     "output_type": "execute_result"
    }
   ],
   "source": [
    "r = pd.Series(range(1,21))\n",
    "s = r.copy()\n",
    "s[:5] = [2,3,4,5,1]\n",
    "\n",
    "r.corr(s)"
   ]
  },
  {
   "cell_type": "markdown",
   "id": "b9e73e16",
   "metadata": {},
   "source": [
    "This value is still very close to perfect correlation. pandas has a method for doing this calculation automatically on the original series."
   ]
  },
  {
   "cell_type": "code",
   "execution_count": 7,
   "id": "b5fae45c",
   "metadata": {},
   "outputs": [
    {
     "data": {
      "text/plain": [
       "0.9849624060150375"
      ]
     },
     "execution_count": 7,
     "metadata": {},
     "output_type": "execute_result"
    }
   ],
   "source": [
    "x.corr(y,\"spearman\")"
   ]
  },
  {
   "cell_type": "markdown",
   "id": "aea4f837",
   "metadata": {},
   "source": [
    "As long as `y[4]` is negative, it doesn't matter what its particular value is, because that has no effect on the ranking."
   ]
  },
  {
   "cell_type": "code",
   "execution_count": 8,
   "id": "7b875b68",
   "metadata": {},
   "outputs": [
    {
     "data": {
      "text/plain": [
       "0.9849624060150375"
      ]
     },
     "execution_count": 8,
     "metadata": {},
     "output_type": "execute_result"
    }
   ],
   "source": [
    "y[4] = -1000000\n",
    "x.corr(y,\"spearman\")"
   ]
  },
  {
   "cell_type": "markdown",
   "id": "23a99808",
   "metadata": {},
   "source": [
    "Since real data almost always features outlying or anomalous values, it's important to think about the robustness of the statistics you choose."
   ]
  }
 ],
 "metadata": {
  "jupytext": {
   "text_representation": {
    "extension": ".md",
    "format_name": "myst",
    "format_version": 0.13,
    "jupytext_version": "1.10.3"
   }
  },
  "kernelspec": {
   "display_name": "Python 3.8.8 64-bit ('base': conda)",
   "language": "python",
   "name": "python3"
  },
  "language_info": {
   "codemirror_mode": {
    "name": "ipython",
    "version": 3
   },
   "file_extension": ".py",
   "mimetype": "text/x-python",
   "name": "python",
   "nbconvert_exporter": "python",
   "pygments_lexer": "ipython3",
   "version": "3.8.8"
  },
  "source_map": [
   12,
   17,
   22,
   49,
   51,
   55,
   60,
   64,
   66,
   72,
   77,
   89,
   95,
   99,
   101,
   105,
   108
  ]
 },
 "nbformat": 4,
 "nbformat_minor": 5
}