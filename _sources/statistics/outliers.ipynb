{
 "cells": [
  {
   "cell_type": "markdown",
   "id": "110ceb5a",
   "metadata": {},
   "source": [
    "# Outliers\n",
    "\n",
    "Informally, an **outlier** is a data value that is considered to be far from typical. There are various ways of deciding what \"typical\" means, and there is no one-size recommendation for all applications. Outliers can appear in data sets for numerous reasons: equipment failure, external effect, mistyping a value, using an extreme value to represent missing data, and so on. The trouble with outliers is that they can have an unreasonably strong influence on the statistics. \n",
    "\n",
    "Let's look at another data set, based on an fMRI experiment."
   ]
  },
  {
   "cell_type": "code",
   "execution_count": 1,
   "id": "ebf4e385",
   "metadata": {},
   "outputs": [
    {
     "data": {
      "text/plain": [
       "<seaborn.axisgrid.FacetGrid at 0x7fcbe0279490>"
      ]
     },
     "execution_count": 1,
     "metadata": {},
     "output_type": "execute_result"
    },
    {
     "data": {
      "image/png": "[encoded data removed]",
      "text/plain": [
       "<Figure size 360x360 with 1 Axes>"
      ]
     },
     "metadata": {
      "filenames": {
       "image/png": "/Users/driscoll/Dropbox/class/267/notes/_build/jupyter_execute/statistics/outliers_1_1.png"
      },
      "needs_background": "light"
     },
     "output_type": "display_data"
    }
   ],
   "source": [
    "import pandas as pd\n",
    "import seaborn as sns\n",
    "\n",
    "fmri = sns.load_dataset(\"fmri\")\n",
    "sns.catplot(data=fmri,x=\"event\",y=\"signal\",kind=\"box\")"
   ]
  },
  {
   "cell_type": "markdown",
   "id": "690b4988",
   "metadata": {},
   "source": [
    "The dots lying outside the whiskers in the plot may be considered outliers. They are determined by the quartiles. Let $Q_1$ and $Q_3$ be the first and third quartiles (i.e., 25% and 75% percentiles), and let $I=Q_3-Q_1$ be the interquartile range (IQR). Then $x$ is an outlier value if\n",
    "\n",
    "$$ \n",
    "x < Q_1 - 1.5I \\text{ or } x > Q_3 + 1.5I.\n",
    "$$\n",
    "\n",
    "For normal distributions, values more than twice the standard deviation $\\sigma$ from the mean might be declared to be outliers; this would exclude 5% of the values, on average. A less aggressive criterion is to allow a distance of $3\\sigma$, which excludes only about 0.3% of the values. The IQR criterion above corresponds to about $2.7\\sigma$ in the normal case.\n",
    "\n",
    "\n",
    "## Removing outliers\n",
    "\n",
    "It is well known that the mean is more sensitive to outliers than the median is. \n",
    "\n",
    "```{prf:example}\n",
    "The values $1,2,3,4,5$ have a mean and median both equal to 3. If we change the largest value to be a lot larger, say $1,2,3,4,1000$, then the mean changes to 202. But the median is still 3!\n",
    "```\n",
    "\n",
    "Let's use IQR to remove outliers from the fmri data set. We do this by creating a Boolean-valued series indicating which rows of the frame represent outliers within their group."
   ]
  },
  {
   "cell_type": "code",
   "execution_count": 2,
   "id": "38c9ae45",
   "metadata": {},
   "outputs": [
    {
     "data": {
      "text/plain": [
       "stim    40\n",
       "cue     26\n",
       "Name: event, dtype: int64"
      ]
     },
     "execution_count": 2,
     "metadata": {},
     "output_type": "execute_result"
    }
   ],
   "source": [
    "import numpy as np\n",
    "def isoutlier(x):\n",
    "    Q1 = x.quantile(.25)\n",
    "    Q3 = x.quantile(.75)\n",
    "    I = Q3-Q1\n",
    "    return np.logical_or( x < Q1-1.5*I, x > Q3+1.5*I )\n",
    "\n",
    "outs = fmri.groupby(\"event\")[\"signal\"].transform(isoutlier)\n",
    "fmri[outs][\"event\"].value_counts()"
   ]
  },
  {
   "cell_type": "markdown",
   "id": "749e832e",
   "metadata": {},
   "source": [
    "You can see above that there are 66 outliers. To negate the outlier indicator, we can use `~outs` as a row selector."
   ]
  },
  {
   "cell_type": "code",
   "execution_count": 3,
   "id": "d7fcf5cd",
   "metadata": {},
   "outputs": [],
   "source": [
    "cleaned = fmri[~outs]"
   ]
  },
  {
   "cell_type": "markdown",
   "id": "a8b19be3",
   "metadata": {},
   "source": [
    "The median values are barely affected by the omission of the outliers."
   ]
  },
  {
   "cell_type": "code",
   "execution_count": 4,
   "id": "a5863074",
   "metadata": {},
   "outputs": [
    {
     "name": "stdout",
     "output_type": "stream",
     "text": [
      "medians with outliers:\n",
      "event\n",
      "cue    -0.008871\n",
      "stim   -0.022202\n",
      "Name: signal, dtype: float64\n",
      "\n",
      "medians without outliers:\n",
      "event\n",
      "cue    -0.009006\n",
      "stim   -0.028068\n",
      "Name: signal, dtype: float64\n"
     ]
    }
   ],
   "source": [
    "print(\"medians with outliers:\")\n",
    "print(fmri.groupby(\"event\")[\"signal\"].median())\n",
    "print(\"\\nmedians without outliers:\")\n",
    "print(cleaned.groupby(\"event\")[\"signal\"].median())"
   ]
  },
  {
   "cell_type": "markdown",
   "id": "76f39100",
   "metadata": {},
   "source": [
    "The means show much greater change."
   ]
  },
  {
   "cell_type": "code",
   "execution_count": 5,
   "id": "16d55cf4",
   "metadata": {},
   "outputs": [
    {
     "name": "stdout",
     "output_type": "stream",
     "text": [
      "means with outliers:\n",
      "event\n",
      "cue    -0.006669\n",
      "stim    0.013748\n",
      "Name: signal, dtype: float64\n",
      "\n",
      "means without outliers:\n",
      "event\n",
      "cue    -0.008243\n",
      "stim   -0.010245\n",
      "Name: signal, dtype: float64\n"
     ]
    }
   ],
   "source": [
    "print(\"means with outliers:\")\n",
    "print(fmri.groupby(\"event\")[\"signal\"].mean())\n",
    "print(\"\\nmeans without outliers:\")\n",
    "print(cleaned.groupby(\"event\")[\"signal\"].mean())"
   ]
  },
  {
   "cell_type": "markdown",
   "id": "76c62ac6",
   "metadata": {},
   "source": [
    "For the \"stim\" case in particular, the mean value changes by almost 200%, including a sign change. (Relative to the standard deviation, it's closer to a 20% change.)"
   ]
  }
 ],
 "metadata": {
  "jupytext": {
   "text_representation": {
    "extension": ".md",
    "format_name": "myst",
    "format_version": 0.13,
    "jupytext_version": "1.10.3"
   }
  },
  "kernelspec": {
   "display_name": "Python 3.8.8 64-bit ('base': conda)",
   "language": "python",
   "name": "python3"
  },
  "language_info": {
   "codemirror_mode": {
    "name": "ipython",
    "version": 3
   },
   "file_extension": ".py",
   "mimetype": "text/x-python",
   "name": "python",
   "nbconvert_exporter": "python",
   "pygments_lexer": "ipython3",
   "version": "3.8.8"
  },
  "source_map": [
   12,
   20,
   26,
   47,
   57,
   61,
   63,
   67,
   72,
   76,
   81
  ]
 },
 "nbformat": 4,
 "nbformat_minor": 5
}