{
 "cells": [
  {
   "cell_type": "markdown",
   "id": "fc565770",
   "metadata": {},
   "source": [
    "# Outliers\n",
    "\n",
    "Informally, an **outlier** is a data value that is considered to be far from typical. In some applications, such as detecting earthquakes or cancer, outliers are the cases of real interest. But we will be thinking of them as unwelcome values that might result from equipment failure, confounding effects, mistyping a value, using an extreme value to represent missing data, and so on. In such cases we want to minimize the effect of the outliers on the statistics. \n",
    "\n",
    "There are various ways of deciding what \"typical\" means, and there is no one-size recommendation for all applications. \n",
    "\n",
    "## IQR\n",
    "\n",
    "Let's look at another data set, based on an fMRI experiment."
   ]
  },
  {
   "cell_type": "code",
   "execution_count": 1,
   "id": "c53ede87",
   "metadata": {},
   "outputs": [
    {
     "data": {
      "text/html": [
       "<div>\n",
       "<style scoped>\n",
       "    .dataframe tbody tr th:only-of-type {\n",
       "        vertical-align: middle;\n",
       "    }\n",
       "\n",
       "    .dataframe tbody tr th {\n",
       "        vertical-align: top;\n",
       "    }\n",
       "\n",
       "    .dataframe thead th {\n",
       "        text-align: right;\n",
       "    }\n",
       "</style>\n",
       "<table border=\"1\" class=\"dataframe\">\n",
       "  <thead>\n",
       "    <tr style=\"text-align: right;\">\n",
       "      <th></th>\n",
       "      <th>subject</th>\n",
       "      <th>timepoint</th>\n",
       "      <th>event</th>\n",
       "      <th>region</th>\n",
       "      <th>signal</th>\n",
       "    </tr>\n",
       "  </thead>\n",
       "  <tbody>\n",
       "    <tr>\n",
       "      <th>0</th>\n",
       "      <td>s13</td>\n",
       "      <td>18</td>\n",
       "      <td>stim</td>\n",
       "      <td>parietal</td>\n",
       "      <td>-0.017552</td>\n",
       "    </tr>\n",
       "    <tr>\n",
       "      <th>1</th>\n",
       "      <td>s5</td>\n",
       "      <td>14</td>\n",
       "      <td>stim</td>\n",
       "      <td>parietal</td>\n",
       "      <td>-0.080883</td>\n",
       "    </tr>\n",
       "    <tr>\n",
       "      <th>2</th>\n",
       "      <td>s12</td>\n",
       "      <td>18</td>\n",
       "      <td>stim</td>\n",
       "      <td>parietal</td>\n",
       "      <td>-0.081033</td>\n",
       "    </tr>\n",
       "    <tr>\n",
       "      <th>3</th>\n",
       "      <td>s11</td>\n",
       "      <td>18</td>\n",
       "      <td>stim</td>\n",
       "      <td>parietal</td>\n",
       "      <td>-0.046134</td>\n",
       "    </tr>\n",
       "    <tr>\n",
       "      <th>4</th>\n",
       "      <td>s10</td>\n",
       "      <td>18</td>\n",
       "      <td>stim</td>\n",
       "      <td>parietal</td>\n",
       "      <td>-0.037970</td>\n",
       "    </tr>\n",
       "  </tbody>\n",
       "</table>\n",
       "</div>"
      ],
      "text/plain": [
       "  subject  timepoint event    region    signal\n",
       "0     s13         18  stim  parietal -0.017552\n",
       "1      s5         14  stim  parietal -0.080883\n",
       "2     s12         18  stim  parietal -0.081033\n",
       "3     s11         18  stim  parietal -0.046134\n",
       "4     s10         18  stim  parietal -0.037970"
      ]
     },
     "execution_count": 1,
     "metadata": {},
     "output_type": "execute_result"
    }
   ],
   "source": [
    "import pandas as pd\n",
    "import seaborn as sns\n",
    "\n",
    "fmri = sns.load_dataset(\"fmri\")\n",
    "fmri.head()"
   ]
  },
  {
   "cell_type": "markdown",
   "id": "a17ed367",
   "metadata": {},
   "source": [
    "We want to focus on the *signal* column, splitting according to the *event*."
   ]
  },
  {
   "cell_type": "code",
   "execution_count": 2,
   "id": "e528b3e1",
   "metadata": {},
   "outputs": [
    {
     "data": {
      "text/html": [
       "<div>\n",
       "<style scoped>\n",
       "    .dataframe tbody tr th:only-of-type {\n",
       "        vertical-align: middle;\n",
       "    }\n",
       "\n",
       "    .dataframe tbody tr th {\n",
       "        vertical-align: top;\n",
       "    }\n",
       "\n",
       "    .dataframe thead th {\n",
       "        text-align: right;\n",
       "    }\n",
       "</style>\n",
       "<table border=\"1\" class=\"dataframe\">\n",
       "  <thead>\n",
       "    <tr style=\"text-align: right;\">\n",
       "      <th></th>\n",
       "      <th>count</th>\n",
       "      <th>mean</th>\n",
       "      <th>std</th>\n",
       "      <th>min</th>\n",
       "      <th>25%</th>\n",
       "      <th>50%</th>\n",
       "      <th>75%</th>\n",
       "      <th>max</th>\n",
       "    </tr>\n",
       "    <tr>\n",
       "      <th>event</th>\n",
       "      <th></th>\n",
       "      <th></th>\n",
       "      <th></th>\n",
       "      <th></th>\n",
       "      <th></th>\n",
       "      <th></th>\n",
       "      <th></th>\n",
       "      <th></th>\n",
       "    </tr>\n",
       "  </thead>\n",
       "  <tbody>\n",
       "    <tr>\n",
       "      <th>cue</th>\n",
       "      <td>532.0</td>\n",
       "      <td>-0.006669</td>\n",
       "      <td>0.047752</td>\n",
       "      <td>-0.181241</td>\n",
       "      <td>-0.031122</td>\n",
       "      <td>-0.008871</td>\n",
       "      <td>0.015825</td>\n",
       "      <td>0.215735</td>\n",
       "    </tr>\n",
       "    <tr>\n",
       "      <th>stim</th>\n",
       "      <td>532.0</td>\n",
       "      <td>0.013748</td>\n",
       "      <td>0.123179</td>\n",
       "      <td>-0.255486</td>\n",
       "      <td>-0.062378</td>\n",
       "      <td>-0.022202</td>\n",
       "      <td>0.058143</td>\n",
       "      <td>0.564985</td>\n",
       "    </tr>\n",
       "  </tbody>\n",
       "</table>\n",
       "</div>"
      ],
      "text/plain": [
       "       count      mean       std       min       25%       50%       75%  \\\n",
       "event                                                                      \n",
       "cue    532.0 -0.006669  0.047752 -0.181241 -0.031122 -0.008871  0.015825   \n",
       "stim   532.0  0.013748  0.123179 -0.255486 -0.062378 -0.022202  0.058143   \n",
       "\n",
       "            max  \n",
       "event            \n",
       "cue    0.215735  \n",
       "stim   0.564985  "
      ]
     },
     "execution_count": 2,
     "metadata": {},
     "output_type": "execute_result"
    }
   ],
   "source": [
    "fmri.groupby(\"event\")[\"signal\"].describe()"
   ]
  },
  {
   "cell_type": "markdown",
   "id": "e6450cb7",
   "metadata": {},
   "source": [
    "Here is a box plot of the signal for these groups."
   ]
  },
  {
   "cell_type": "code",
   "execution_count": 3,
   "id": "d53e4a44",
   "metadata": {},
   "outputs": [
    {
     "data": {
      "text/plain": [
       "<seaborn.axisgrid.FacetGrid at 0x7f83d9478160>"
      ]
     },
     "execution_count": 3,
     "metadata": {},
     "output_type": "execute_result"
    },
    {
     "data": {
      "image/png": "[encoded data removed]",
      "text/plain": [
       "<Figure size 360x360 with 1 Axes>"
      ]
     },
     "metadata": {
      "filenames": {
       "image/png": "/home/driscoll/Dropbox/class/267/notes/_build/jupyter_execute/statistics/outliers_5_1.png"
      },
      "needs_background": "light"
     },
     "output_type": "display_data"
    }
   ],
   "source": [
    "sns.catplot(data=fmri,x=\"event\",y=\"signal\",kind=\"box\")"
   ]
  },
  {
   "cell_type": "markdown",
   "id": "aea0704b",
   "metadata": {},
   "source": [
    "The dots lying outside the whiskers in the plot may be considered outliers. They are determined by the quartiles. Let $Q_1$ and $Q_3$ be the first and third quartiles (i.e., 25% and 75% percentiles), and let $I=Q_3-Q_1$ be the interquartile range (IQR). Then $x$ is an outlier value if\n",
    "\n",
    "$$ \n",
    "x < Q_1 - 1.5I \\text{ or } x > Q_3 + 1.5I.\n",
    "$$\n",
    "\n",
    "\n",
    "## Mean and STD\n",
    "\n",
    "For normal distributions, values more than twice the standard deviation $\\sigma$ from the mean might be declared to be outliers; this would exclude 5% of the values, on average. A less aggressive criterion is to allow a distance of $3\\sigma$, which excludes only about 0.3% of the values. The IQR criterion above corresponds to about $2.7\\sigma$ in the normal case.\n",
    "\n",
    "The following plot shows the outlier cutoffs for 2000 samples from a normal distribution, using the criteria for 2σ (red), 3σ (blue), and 1.5 IQR (black)."
   ]
  },
  {
   "cell_type": "code",
   "execution_count": 4,
   "id": "1b08d11f",
   "metadata": {
    "tags": [
     "hide-input"
    ]
   },
   "outputs": [
    {
     "data": {
      "image/png": "[encoded data removed]",
      "text/plain": [
       "<Figure size 360x360 with 1 Axes>"
      ]
     },
     "metadata": {
      "filenames": {
       "image/png": "/home/driscoll/Dropbox/class/267/notes/_build/jupyter_execute/statistics/outliers_7_0.png"
      },
      "needs_background": "light"
     },
     "output_type": "display_data"
    }
   ],
   "source": [
    "import matplotlib.pyplot as plt\n",
    "from numpy.random import default_rng\n",
    "randn = default_rng(1).normal \n",
    "\n",
    "x = pd.Series(randn(size=2000))\n",
    "sns.displot(data=x,bins=30);\n",
    "m,s = x.mean(),x.std()\n",
    "plt.axvline(m-2*s,color='r')\n",
    "plt.axvline(m+2*s,color='r')\n",
    "plt.axvline(m-3*s,color='b')\n",
    "plt.axvline(m+3*s,color='b')\n",
    "\n",
    "q1,q3 = x.quantile([.25,.75])\n",
    "plt.axvline(q3+1.5*(q3-q1),color='k')\n",
    "plt.axvline(q1-1.5*(q3-q1),color='k');"
   ]
  },
  {
   "cell_type": "markdown",
   "id": "c7bcef2b",
   "metadata": {},
   "source": [
    "For asymmetric distributions, or those with a heavy tail, these criteria might show greater differences.\n",
    "\n",
    "## Removing outliers\n",
    "\n",
    "It is well known that the mean is more sensitive to outliers than the median is. \n",
    "\n",
    "```{prf:example}\n",
    "The values $1,2,3,4,5$ have a mean and median both equal to 3. If we change the largest value to be a lot larger, say $1,2,3,4,1000$, then the mean changes to 202. But the median is still 3!\n",
    "```\n",
    "\n",
    "Let's use IQR to remove outliers from the fmri data set. We do this by creating a Boolean-valued series indicating which rows of the frame represent outliers within their group."
   ]
  },
  {
   "cell_type": "code",
   "execution_count": 5,
   "id": "69300a81",
   "metadata": {},
   "outputs": [
    {
     "data": {
      "text/plain": [
       "stim    40\n",
       "cue     26\n",
       "Name: event, dtype: int64"
      ]
     },
     "execution_count": 5,
     "metadata": {},
     "output_type": "execute_result"
    }
   ],
   "source": [
    "def isoutlier(x):\n",
    "    Q1,Q3 = x.quantile([.25,.75])\n",
    "    I = Q3-Q1\n",
    "    return (x < Q1-1.5*I) |  (x > Q3+1.5*I)\n",
    "\n",
    "outs = fmri.groupby(\"event\")[\"signal\"].transform(isoutlier)\n",
    "fmri[outs][\"event\"].value_counts()"
   ]
  },
  {
   "cell_type": "markdown",
   "id": "82550fdb",
   "metadata": {},
   "source": [
    "You can see above that there are 66 outliers. To negate the outlier indicator, we can use `~outs` as a row selector."
   ]
  },
  {
   "cell_type": "code",
   "execution_count": 6,
   "id": "803fc4a4",
   "metadata": {},
   "outputs": [],
   "source": [
    "cleaned = fmri[~outs]"
   ]
  },
  {
   "cell_type": "markdown",
   "id": "186cca20",
   "metadata": {},
   "source": [
    "The median values are barely affected by the omission of the outliers."
   ]
  },
  {
   "cell_type": "code",
   "execution_count": 7,
   "id": "47dee125",
   "metadata": {},
   "outputs": [
    {
     "name": "stdout",
     "output_type": "stream",
     "text": [
      "medians with outliers:\n",
      "event\n",
      "cue    -0.008871\n",
      "stim   -0.022202\n",
      "Name: signal, dtype: float64\n",
      "\n",
      "medians without outliers:\n",
      "event\n",
      "cue    -0.009006\n",
      "stim   -0.028068\n",
      "Name: signal, dtype: float64\n"
     ]
    }
   ],
   "source": [
    "print(\"medians with outliers:\")\n",
    "print(fmri.groupby(\"event\")[\"signal\"].median())\n",
    "print(\"\\nmedians without outliers:\")\n",
    "print(cleaned.groupby(\"event\")[\"signal\"].median())"
   ]
  },
  {
   "cell_type": "markdown",
   "id": "3b44b00e",
   "metadata": {},
   "source": [
    "The means show much greater change."
   ]
  },
  {
   "cell_type": "code",
   "execution_count": 8,
   "id": "129b4ed7",
   "metadata": {},
   "outputs": [
    {
     "name": "stdout",
     "output_type": "stream",
     "text": [
      "means with outliers:\n",
      "event\n",
      "cue    -0.006669\n",
      "stim    0.013748\n",
      "Name: signal, dtype: float64\n",
      "\n",
      "means without outliers:\n",
      "event\n",
      "cue    -0.008243\n",
      "stim   -0.010245\n",
      "Name: signal, dtype: float64\n"
     ]
    }
   ],
   "source": [
    "print(\"means with outliers:\")\n",
    "print(fmri.groupby(\"event\")[\"signal\"].mean())\n",
    "print(\"\\nmeans without outliers:\")\n",
    "print(cleaned.groupby(\"event\")[\"signal\"].mean())"
   ]
  },
  {
   "cell_type": "markdown",
   "id": "71a611d6",
   "metadata": {},
   "source": [
    "For the *stim* case in particular, the mean value changes by almost 200%, including a sign change. (Relative to the standard deviation, it's closer to a 20% change.)  \n",
    "\n",
    "<div style=\"max-width:608px\"><div style=\"position:relative;padding-bottom:66.118421052632%\"><iframe id=\"kaltura_player\" src=\"https://cdnapisec.kaltura.com/p/2358381/sp/235838100/embedIframeJs/uiconf_id/43030021/partner_id/2358381?iframeembed=true&playerId=kaltura_player&entry_id=1_vpsvig7f&flashvars[streamerType]=auto&amp;flashvars[localizationCode]=en&amp;flashvars[leadWithHTML5]=true&amp;flashvars[sideBarContainer.plugin]=true&amp;flashvars[sideBarContainer.position]=left&amp;flashvars[sideBarContainer.clickToClose]=true&amp;flashvars[chapters.plugin]=true&amp;flashvars[chapters.layout]=vertical&amp;flashvars[chapters.thumbnailRotator]=false&amp;flashvars[streamSelector.plugin]=true&amp;flashvars[EmbedPlayer.SpinnerTarget]=videoHolder&amp;flashvars[dualScreen.plugin]=true&amp;flashvars[Kaltura.addCrossoriginToIframe]=true&amp;&wid=1_a1t3d8un\" width=\"608\" height=\"402\" allowfullscreen webkitallowfullscreen mozAllowFullScreen allow=\"autoplay *; fullscreen *; encrypted-media *\" sandbox=\"allow-forms allow-same-origin allow-scripts allow-top-navigation allow-pointer-lock allow-popups allow-modals allow-orientation-lock allow-popups-to-escape-sandbox allow-presentation allow-top-navigation-by-user-activation\" frameborder=\"0\" title=\"Kaltura Player\" style=\"position:absolute;top:0;left:0;width:100%;height:100%\"></iframe></div></div>"
   ]
  }
 ],
 "metadata": {
  "jupytext": {
   "formats": "md:myst",
   "text_representation": {
    "extension": ".md",
    "format_name": "myst",
    "format_version": 0.13,
    "jupytext_version": "1.11.5"
   }
  },
  "kernelspec": {
   "display_name": "Python 3 (ipykernel)",
   "language": "python",
   "name": "python3"
  },
  "language_info": {
   "codemirror_mode": {
    "name": "ipython",
    "version": 3
   },
   "file_extension": ".py",
   "mimetype": "text/x-python",
   "name": "python",
   "nbconvert_exporter": "python",
   "pygments_lexer": "ipython3",
   "version": "3.8.8"
  },
  "source_map": [
   13,
   25,
   31,
   35,
   37,
   41,
   43,
   58,
   76,
   90,
   98,
   102,
   104,
   108,
   113,
   117,
   122
  ]
 },
 "nbformat": 4,
 "nbformat_minor": 5
}