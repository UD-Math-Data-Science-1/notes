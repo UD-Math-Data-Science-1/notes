{
 "cells": [
  {
   "cell_type": "markdown",
   "id": "e38d7c45",
   "metadata": {},
   "source": [
    "# Exploratory analysis\n",
    "\n",
    "We will explore a well-known data set known as \"Census Income\", or \"Adult\". It's stored as a text file with 15 fields per line."
   ]
  },
  {
   "cell_type": "code",
   "execution_count": 1,
   "id": "d6344091",
   "metadata": {},
   "outputs": [],
   "source": [
    "import pandas as pd\\\n",
    "\n",
    "names = [ \n",
    "    \"age\",\"workclass\",\"fnlwgt\",\"education\",\"education_num\",\n",
    "    \"marital_status\",\"occupation\",\"relationship\",\"race\",\"sex\",\n",
    "    \"capital_gain\",\"capital_loss\",\"hours_per_week\",\"country\",\"income_level\"\n",
    "]\n",
    "dtypes = [ \n",
    "    \"int64\",\"category\",\"int64\",\"category\",\"int64\",\n",
    "    \"category\",\"category\",\"category\",\"category\",\"category\",\n",
    "    \"int64\",\"int64\",\"int64\",\"category\",\"category\"\n",
    "]\n",
    "adult = pd.read_table(\"adult.data\",delimiter=\",\",names=names,dtype=dict(zip(names,dtypes)))"
   ]
  },
  {
   "cell_type": "code",
   "execution_count": 2,
   "id": "564fec24",
   "metadata": {},
   "outputs": [
    {
     "data": {
      "text/html": [
       "<div>\n",
       "<style scoped>\n",
       "    .dataframe tbody tr th:only-of-type {\n",
       "        vertical-align: middle;\n",
       "    }\n",
       "\n",
       "    .dataframe tbody tr th {\n",
       "        vertical-align: top;\n",
       "    }\n",
       "\n",
       "    .dataframe thead th {\n",
       "        text-align: right;\n",
       "    }\n",
       "</style>\n",
       "<table border=\"1\" class=\"dataframe\">\n",
       "  <thead>\n",
       "    <tr style=\"text-align: right;\">\n",
       "      <th></th>\n",
       "      <th>age</th>\n",
       "      <th>workclass</th>\n",
       "      <th>fnlwgt</th>\n",
       "      <th>education</th>\n",
       "      <th>education_num</th>\n",
       "      <th>marital_status</th>\n",
       "      <th>occupation</th>\n",
       "      <th>relationship</th>\n",
       "      <th>race</th>\n",
       "      <th>sex</th>\n",
       "      <th>capital_gain</th>\n",
       "      <th>capital_loss</th>\n",
       "      <th>hours_per_week</th>\n",
       "      <th>country</th>\n",
       "      <th>income_level</th>\n",
       "    </tr>\n",
       "  </thead>\n",
       "  <tbody>\n",
       "    <tr>\n",
       "      <th>0</th>\n",
       "      <td>39</td>\n",
       "      <td>State-gov</td>\n",
       "      <td>77516</td>\n",
       "      <td>Bachelors</td>\n",
       "      <td>13</td>\n",
       "      <td>Never-married</td>\n",
       "      <td>Adm-clerical</td>\n",
       "      <td>Not-in-family</td>\n",
       "      <td>White</td>\n",
       "      <td>Male</td>\n",
       "      <td>2174</td>\n",
       "      <td>0</td>\n",
       "      <td>40</td>\n",
       "      <td>United-States</td>\n",
       "      <td>&lt;=50K</td>\n",
       "    </tr>\n",
       "    <tr>\n",
       "      <th>1</th>\n",
       "      <td>50</td>\n",
       "      <td>Self-emp-not-inc</td>\n",
       "      <td>83311</td>\n",
       "      <td>Bachelors</td>\n",
       "      <td>13</td>\n",
       "      <td>Married-civ-spouse</td>\n",
       "      <td>Exec-managerial</td>\n",
       "      <td>Husband</td>\n",
       "      <td>White</td>\n",
       "      <td>Male</td>\n",
       "      <td>0</td>\n",
       "      <td>0</td>\n",
       "      <td>13</td>\n",
       "      <td>United-States</td>\n",
       "      <td>&lt;=50K</td>\n",
       "    </tr>\n",
       "    <tr>\n",
       "      <th>2</th>\n",
       "      <td>38</td>\n",
       "      <td>Private</td>\n",
       "      <td>215646</td>\n",
       "      <td>HS-grad</td>\n",
       "      <td>9</td>\n",
       "      <td>Divorced</td>\n",
       "      <td>Handlers-cleaners</td>\n",
       "      <td>Not-in-family</td>\n",
       "      <td>White</td>\n",
       "      <td>Male</td>\n",
       "      <td>0</td>\n",
       "      <td>0</td>\n",
       "      <td>40</td>\n",
       "      <td>United-States</td>\n",
       "      <td>&lt;=50K</td>\n",
       "    </tr>\n",
       "    <tr>\n",
       "      <th>3</th>\n",
       "      <td>53</td>\n",
       "      <td>Private</td>\n",
       "      <td>234721</td>\n",
       "      <td>11th</td>\n",
       "      <td>7</td>\n",
       "      <td>Married-civ-spouse</td>\n",
       "      <td>Handlers-cleaners</td>\n",
       "      <td>Husband</td>\n",
       "      <td>Black</td>\n",
       "      <td>Male</td>\n",
       "      <td>0</td>\n",
       "      <td>0</td>\n",
       "      <td>40</td>\n",
       "      <td>United-States</td>\n",
       "      <td>&lt;=50K</td>\n",
       "    </tr>\n",
       "    <tr>\n",
       "      <th>4</th>\n",
       "      <td>28</td>\n",
       "      <td>Private</td>\n",
       "      <td>338409</td>\n",
       "      <td>Bachelors</td>\n",
       "      <td>13</td>\n",
       "      <td>Married-civ-spouse</td>\n",
       "      <td>Prof-specialty</td>\n",
       "      <td>Wife</td>\n",
       "      <td>Black</td>\n",
       "      <td>Female</td>\n",
       "      <td>0</td>\n",
       "      <td>0</td>\n",
       "      <td>40</td>\n",
       "      <td>Cuba</td>\n",
       "      <td>&lt;=50K</td>\n",
       "    </tr>\n",
       "    <tr>\n",
       "      <th>...</th>\n",
       "      <td>...</td>\n",
       "      <td>...</td>\n",
       "      <td>...</td>\n",
       "      <td>...</td>\n",
       "      <td>...</td>\n",
       "      <td>...</td>\n",
       "      <td>...</td>\n",
       "      <td>...</td>\n",
       "      <td>...</td>\n",
       "      <td>...</td>\n",
       "      <td>...</td>\n",
       "      <td>...</td>\n",
       "      <td>...</td>\n",
       "      <td>...</td>\n",
       "      <td>...</td>\n",
       "    </tr>\n",
       "    <tr>\n",
       "      <th>32556</th>\n",
       "      <td>27</td>\n",
       "      <td>Private</td>\n",
       "      <td>257302</td>\n",
       "      <td>Assoc-acdm</td>\n",
       "      <td>12</td>\n",
       "      <td>Married-civ-spouse</td>\n",
       "      <td>Tech-support</td>\n",
       "      <td>Wife</td>\n",
       "      <td>White</td>\n",
       "      <td>Female</td>\n",
       "      <td>0</td>\n",
       "      <td>0</td>\n",
       "      <td>38</td>\n",
       "      <td>United-States</td>\n",
       "      <td>&lt;=50K</td>\n",
       "    </tr>\n",
       "    <tr>\n",
       "      <th>32557</th>\n",
       "      <td>40</td>\n",
       "      <td>Private</td>\n",
       "      <td>154374</td>\n",
       "      <td>HS-grad</td>\n",
       "      <td>9</td>\n",
       "      <td>Married-civ-spouse</td>\n",
       "      <td>Machine-op-inspct</td>\n",
       "      <td>Husband</td>\n",
       "      <td>White</td>\n",
       "      <td>Male</td>\n",
       "      <td>0</td>\n",
       "      <td>0</td>\n",
       "      <td>40</td>\n",
       "      <td>United-States</td>\n",
       "      <td>&gt;50K</td>\n",
       "    </tr>\n",
       "    <tr>\n",
       "      <th>32558</th>\n",
       "      <td>58</td>\n",
       "      <td>Private</td>\n",
       "      <td>151910</td>\n",
       "      <td>HS-grad</td>\n",
       "      <td>9</td>\n",
       "      <td>Widowed</td>\n",
       "      <td>Adm-clerical</td>\n",
       "      <td>Unmarried</td>\n",
       "      <td>White</td>\n",
       "      <td>Female</td>\n",
       "      <td>0</td>\n",
       "      <td>0</td>\n",
       "      <td>40</td>\n",
       "      <td>United-States</td>\n",
       "      <td>&lt;=50K</td>\n",
       "    </tr>\n",
       "    <tr>\n",
       "      <th>32559</th>\n",
       "      <td>22</td>\n",
       "      <td>Private</td>\n",
       "      <td>201490</td>\n",
       "      <td>HS-grad</td>\n",
       "      <td>9</td>\n",
       "      <td>Never-married</td>\n",
       "      <td>Adm-clerical</td>\n",
       "      <td>Own-child</td>\n",
       "      <td>White</td>\n",
       "      <td>Male</td>\n",
       "      <td>0</td>\n",
       "      <td>0</td>\n",
       "      <td>20</td>\n",
       "      <td>United-States</td>\n",
       "      <td>&lt;=50K</td>\n",
       "    </tr>\n",
       "    <tr>\n",
       "      <th>32560</th>\n",
       "      <td>52</td>\n",
       "      <td>Self-emp-inc</td>\n",
       "      <td>287927</td>\n",
       "      <td>HS-grad</td>\n",
       "      <td>9</td>\n",
       "      <td>Married-civ-spouse</td>\n",
       "      <td>Exec-managerial</td>\n",
       "      <td>Wife</td>\n",
       "      <td>White</td>\n",
       "      <td>Female</td>\n",
       "      <td>15024</td>\n",
       "      <td>0</td>\n",
       "      <td>40</td>\n",
       "      <td>United-States</td>\n",
       "      <td>&gt;50K</td>\n",
       "    </tr>\n",
       "  </tbody>\n",
       "</table>\n",
       "<p>32561 rows × 15 columns</p>\n",
       "</div>"
      ],
      "text/plain": [
       "       age          workclass  fnlwgt    education  education_num  \\\n",
       "0       39          State-gov   77516    Bachelors             13   \n",
       "1       50   Self-emp-not-inc   83311    Bachelors             13   \n",
       "2       38            Private  215646      HS-grad              9   \n",
       "3       53            Private  234721         11th              7   \n",
       "4       28            Private  338409    Bachelors             13   \n",
       "...    ...                ...     ...          ...            ...   \n",
       "32556   27            Private  257302   Assoc-acdm             12   \n",
       "32557   40            Private  154374      HS-grad              9   \n",
       "32558   58            Private  151910      HS-grad              9   \n",
       "32559   22            Private  201490      HS-grad              9   \n",
       "32560   52       Self-emp-inc  287927      HS-grad              9   \n",
       "\n",
       "            marital_status          occupation    relationship    race  \\\n",
       "0            Never-married        Adm-clerical   Not-in-family   White   \n",
       "1       Married-civ-spouse     Exec-managerial         Husband   White   \n",
       "2                 Divorced   Handlers-cleaners   Not-in-family   White   \n",
       "3       Married-civ-spouse   Handlers-cleaners         Husband   Black   \n",
       "4       Married-civ-spouse      Prof-specialty            Wife   Black   \n",
       "...                    ...                 ...             ...     ...   \n",
       "32556   Married-civ-spouse        Tech-support            Wife   White   \n",
       "32557   Married-civ-spouse   Machine-op-inspct         Husband   White   \n",
       "32558              Widowed        Adm-clerical       Unmarried   White   \n",
       "32559        Never-married        Adm-clerical       Own-child   White   \n",
       "32560   Married-civ-spouse     Exec-managerial            Wife   White   \n",
       "\n",
       "           sex  capital_gain  capital_loss  hours_per_week         country  \\\n",
       "0         Male          2174             0              40   United-States   \n",
       "1         Male             0             0              13   United-States   \n",
       "2         Male             0             0              40   United-States   \n",
       "3         Male             0             0              40   United-States   \n",
       "4       Female             0             0              40            Cuba   \n",
       "...        ...           ...           ...             ...             ...   \n",
       "32556   Female             0             0              38   United-States   \n",
       "32557     Male             0             0              40   United-States   \n",
       "32558   Female             0             0              40   United-States   \n",
       "32559     Male             0             0              20   United-States   \n",
       "32560   Female         15024             0              40   United-States   \n",
       "\n",
       "      income_level  \n",
       "0            <=50K  \n",
       "1            <=50K  \n",
       "2            <=50K  \n",
       "3            <=50K  \n",
       "4            <=50K  \n",
       "...            ...  \n",
       "32556        <=50K  \n",
       "32557         >50K  \n",
       "32558        <=50K  \n",
       "32559        <=50K  \n",
       "32560         >50K  \n",
       "\n",
       "[32561 rows x 15 columns]"
      ]
     },
     "execution_count": 2,
     "metadata": {},
     "output_type": "execute_result"
    }
   ],
   "source": [
    "adult"
   ]
  },
  {
   "cell_type": "markdown",
   "id": "b0f63af7",
   "metadata": {},
   "source": [
    "One of the simplest ways to break down this data is by gender."
   ]
  },
  {
   "cell_type": "code",
   "execution_count": 3,
   "id": "8db569ae",
   "metadata": {},
   "outputs": [
    {
     "data": {
      "text/plain": [
       "sex\n",
       " Female    10771\n",
       " Male      21790\n",
       "dtype: int64"
      ]
     },
     "execution_count": 3,
     "metadata": {},
     "output_type": "execute_result"
    }
   ],
   "source": [
    "bysex = adult.groupby(\"sex\")\n",
    "bysex.size()"
   ]
  },
  {
   "cell_type": "markdown",
   "id": "d9233414",
   "metadata": {},
   "source": [
    "Or, we could group by country."
   ]
  },
  {
   "cell_type": "code",
   "execution_count": 4,
   "id": "74fd3c4b",
   "metadata": {},
   "outputs": [
    {
     "data": {
      "text/plain": [
       "country\n",
       " ?                               583\n",
       " Cambodia                         19\n",
       " Canada                          121\n",
       " China                            75\n",
       " Columbia                         59\n",
       " Cuba                             95\n",
       " Dominican-Republic               70\n",
       " Ecuador                          28\n",
       " El-Salvador                     106\n",
       " England                          90\n",
       " France                           29\n",
       " Germany                         137\n",
       " Greece                           29\n",
       " Guatemala                        64\n",
       " Haiti                            44\n",
       " Holand-Netherlands                1\n",
       " Honduras                         13\n",
       " Hong                             20\n",
       " Hungary                          13\n",
       " India                           100\n",
       " Iran                             43\n",
       " Ireland                          24\n",
       " Italy                            73\n",
       " Jamaica                          81\n",
       " Japan                            62\n",
       " Laos                             18\n",
       " Mexico                          643\n",
       " Nicaragua                        34\n",
       " Outlying-US(Guam-USVI-etc)       14\n",
       " Peru                             31\n",
       " Philippines                     198\n",
       " Poland                           60\n",
       " Portugal                         37\n",
       " Puerto-Rico                     114\n",
       " Scotland                         12\n",
       " South                            80\n",
       " Taiwan                           51\n",
       " Thailand                         18\n",
       " Trinadad&Tobago                  19\n",
       " United-States                 29170\n",
       " Vietnam                          67\n",
       " Yugoslavia                       16\n",
       "dtype: int64"
      ]
     },
     "execution_count": 4,
     "metadata": {},
     "output_type": "execute_result"
    }
   ],
   "source": [
    "bycountry = adult.groupby(\"country\")\n",
    "bycountry.size()"
   ]
  },
  {
   "cell_type": "markdown",
   "id": "be870b7f",
   "metadata": {},
   "source": [
    "As you can see above, there are 583 rows with an unknown (missing) country."
   ]
  },
  {
   "cell_type": "markdown",
   "id": "c504898c",
   "metadata": {},
   "source": [
    "Let's explore the distributions of high-income individuals among males and females."
   ]
  },
  {
   "cell_type": "code",
   "execution_count": 5,
   "id": "c9dce9e1",
   "metadata": {},
   "outputs": [
    {
     "data": {
      "text/plain": [
       "sex            \n",
       " Female   <=50K     9592\n",
       "          >50K      1179\n",
       " Male     <=50K    15128\n",
       "          >50K      6662\n",
       "Name: income_level, dtype: int64"
      ]
     },
     "execution_count": 5,
     "metadata": {},
     "output_type": "execute_result"
    }
   ],
   "source": [
    "bysex[\"income_level\"].value_counts()"
   ]
  },
  {
   "cell_type": "markdown",
   "id": "756026b1",
   "metadata": {},
   "source": [
    "A visualization might be more dramatic:"
   ]
  },
  {
   "cell_type": "code",
   "execution_count": 6,
   "id": "2cda1956",
   "metadata": {},
   "outputs": [
    {
     "data": {
      "text/plain": [
       "<seaborn.axisgrid.FacetGrid at 0x7f85c1ccea30>"
      ]
     },
     "execution_count": 6,
     "metadata": {},
     "output_type": "execute_result"
    },
    {
     "data": {
      "image/png": "[encoded data removed]",
      "text/plain": [
       "<Figure size 435x360 with 1 Axes>"
      ]
     },
     "metadata": {
      "filenames": {
       "image/png": "/Users/driscoll/Dropbox/class/267/notes/_build/jupyter_execute/statistics/exploratory_11_1.png"
      },
      "needs_background": "light"
     },
     "output_type": "display_data"
    }
   ],
   "source": [
    "import seaborn as sns\n",
    "sns.displot(adult,x=\"sex\",hue=\"income_level\",multiple=\"stack\")"
   ]
  },
  {
   "cell_type": "markdown",
   "id": "a2eb0db8",
   "metadata": {},
   "source": [
    "It's immediately clear that males have a much greater proportion of high-income individuals. There are other differences between the genders as well, such as age. Since age is quantitative rather than the 2-state category for high income, there is more information to summarize. It often makes sense to begin with plots.\n",
    "\n",
    "## Histogram \n",
    "\n",
    "To visualize a distribution of continuous values, we can use a **histogram**. We choose ordered real values $t_1 < t_2 < \\cdots < t_m$. Define *bin* $k$ to be the interval $B_k=[t_k,t_{k+1})$, with the convention that $t_0=-\\infty$ and $t_{m+1}=\\infty$. This gives us a series of counts $c_k$, where $c_k$ is defined as the number of data values in interval $B_k$. A histogram plots those counts, typically using a bar graph.\n",
    "\n",
    "Here is a histogram of ages over the whole data set."
   ]
  },
  {
   "cell_type": "code",
   "execution_count": 7,
   "id": "c98b9d05",
   "metadata": {},
   "outputs": [
    {
     "data": {
      "text/plain": [
       "<seaborn.axisgrid.FacetGrid at 0x7f85c102a190>"
      ]
     },
     "execution_count": 7,
     "metadata": {},
     "output_type": "execute_result"
    },
    {
     "data": {
      "image/png": "[encoded data removed]",
      "text/plain": [
       "<Figure size 360x360 with 1 Axes>"
      ]
     },
     "metadata": {
      "filenames": {
       "image/png": "/Users/driscoll/Dropbox/class/267/notes/_build/jupyter_execute/statistics/exploratory_13_1.png"
      },
      "needs_background": "light"
     },
     "output_type": "display_data"
    }
   ],
   "source": [
    "sns.displot(adult,x=\"age\")"
   ]
  },
  {
   "cell_type": "markdown",
   "id": "223ec2ac",
   "metadata": {},
   "source": [
    "Those spikes are unlikely to reflect reality! Presumably, there is some unknown detail about how ages are reported. Perhaps in some countries, they are rounded to the nearest multiple of 5. We can lessen the effect of this anomaly by choosing fewer, wider bins."
   ]
  },
  {
   "cell_type": "code",
   "execution_count": 8,
   "id": "f136fe8b",
   "metadata": {},
   "outputs": [
    {
     "data": {
      "text/plain": [
       "<seaborn.axisgrid.FacetGrid at 0x7f85b29fb6d0>"
      ]
     },
     "execution_count": 8,
     "metadata": {},
     "output_type": "execute_result"
    },
    {
     "data": {
      "image/png": "[encoded data removed]",
      "text/plain": [
       "<Figure size 360x360 with 1 Axes>"
      ]
     },
     "metadata": {
      "filenames": {
       "image/png": "/Users/driscoll/Dropbox/class/267/notes/_build/jupyter_execute/statistics/exploratory_15_1.png"
      },
      "needs_background": "light"
     },
     "output_type": "display_data"
    }
   ],
   "source": [
    "sns.displot(adult,x=\"age\",bins=18)"
   ]
  },
  {
   "cell_type": "markdown",
   "id": "b6859dc7",
   "metadata": {},
   "source": [
    "We can also separate the histogram by gender (or any other grouping we define)."
   ]
  },
  {
   "cell_type": "code",
   "execution_count": 9,
   "id": "e5e33bb9",
   "metadata": {},
   "outputs": [
    {
     "data": {
      "text/plain": [
       "<seaborn.axisgrid.FacetGrid at 0x7f85c1932ee0>"
      ]
     },
     "execution_count": 9,
     "metadata": {},
     "output_type": "execute_result"
    },
    {
     "data": {
      "image/png": "[encoded data removed]",
      "text/plain": [
       "<Figure size 720x360 with 2 Axes>"
      ]
     },
     "metadata": {
      "filenames": {
       "image/png": "/Users/driscoll/Dropbox/class/267/notes/_build/jupyter_execute/statistics/exploratory_17_1.png"
      },
      "needs_background": "light"
     },
     "output_type": "display_data"
    }
   ],
   "source": [
    "sns.displot(adult,x=\"age\",bins=18,col=\"sex\")"
   ]
  },
  {
   "cell_type": "markdown",
   "id": "fa7d3401",
   "metadata": {},
   "source": [
    "The values for males look like they might be a truncated version of a \"bell curve,\" but the female case appears to be something entirely different, perhaps reflecting a more recent entry into the workforce on average.\n",
    "\n",
    "## Mean, variance and standard deviation\n",
    "\n",
    "You know well the mean, or average value. Given values $x_1,\\ldots,x_n$, the **mean** is\n",
    "\n",
    "```{math}\n",
    ":label: eq-statistics-mean\n",
    "\\bar{x} = \\frac{1}{n}\\sum_{i=1}^n x_i.\n",
    "```"
   ]
  },
  {
   "cell_type": "code",
   "execution_count": 10,
   "id": "0a98f503",
   "metadata": {},
   "outputs": [
    {
     "data": {
      "text/plain": [
       "sex\n",
       " Female    36.858230\n",
       " Male      39.433547\n",
       "Name: age, dtype: float64"
      ]
     },
     "execution_count": 10,
     "metadata": {},
     "output_type": "execute_result"
    }
   ],
   "source": [
    "bysex[\"age\"].mean()"
   ]
  },
  {
   "cell_type": "markdown",
   "id": "09d79b27",
   "metadata": {},
   "source": [
    "As we see from the histograms, however, there are differences between the genders not captured by the means. Another common statistic tries to quantify the \"spread\" of the data. The **variance** of values $x_1,\\ldots,x_n$ is defined as\n",
    "\n",
    "```{math}\n",
    ":label: eq-statistics-var\n",
    "\\sigma^2 = \\frac{1}{n}\\sum_{i=1}^n (x_i - \\bar{x})^2.\n",
    "```\n",
    "\n",
    "Variance is the average of the squares of deviations from the mean. As such, it has the units of the $x_i$ squared. Its square root $\\sigma$, known as the **standard deviation**, has the same units as the data and is more meaningful to compare to the mean."
   ]
  },
  {
   "cell_type": "code",
   "execution_count": 11,
   "id": "da43c701",
   "metadata": {},
   "outputs": [
    {
     "data": {
      "text/plain": [
       "sex\n",
       " Female    14.013697\n",
       " Male      13.370630\n",
       "Name: age, dtype: float64"
      ]
     },
     "execution_count": 11,
     "metadata": {},
     "output_type": "execute_result"
    }
   ],
   "source": [
    "bysex[\"age\"].std()"
   ]
  },
  {
   "cell_type": "markdown",
   "id": "fa1cc82e",
   "metadata": {},
   "source": [
    "### Populations and samples\n",
    "\n",
    "In statistics one refers to the **population** as the universe of available values. Thus, the entire population of Earth at some instant has a particular mean and standard deviation. However, in order to estimate those values, we can only measure a **sample** of the entire population directly. That's what our data set above must reflect, of course.\n",
    "\n",
    "It can be proved that {eq}`eq-statistics-mean` is an accurate way to estimate the mean of a population, in a particular sense: if (in a thought experiment) you could average this estimate over all possible samples of size $n$, the result would be exactly the population mean. However, if we use the formula {eq}`eq-statistics-var` to compute variance of a sample, and average over all possible sample sets, we would *not* get the variance of the population; we call this a **biased estimator**. The unbiased estimator for variance is\n",
    "\n",
    "```{math}\n",
    ":label: eq-statistics-var-sample\n",
    "\\hat{\\sigma}^2 = \\frac{1}{n-1}\\sum_{i=1}^n (x_i - \\bar{x})^2.\n",
    "```\n",
    "\n",
    "As you can see from the formulas, the difference between variance and sample variance is small when the sample size $n$ is large. The `std` and `var` methods in pandas all calculate sample standard deviations and variances.\n",
    "\n",
    "### z-scores\n",
    "\n",
    "Given data values $x_1,\\ldots,x_n$, we can define related values known as **standardized scores** or **z-scores**:\n",
    "\n",
    "$$\n",
    "z_i = \\frac{x-\\mu}{\\sigma}, \\ldots i=1,\\ldots,n.\n",
    "$$\n",
    "\n",
    "The z-scores have mean zero and standard deviation equal to 1; in physical terms, they are dimensionless. This makes them attractive to work with and to compare across data sets. In practice, of course, we usually have to settle for sample estimates of $\\mu$ and $\\sigma$ to compute the z-scores.\n",
    "\n",
    "## Quantiles and percentiles\n",
    "\n",
    "Mean, variance, and standard deviation are not necessarily relevant statistics for every data set. There are many alternatives.\n",
    "\n",
    "For any $0<p<1$, the $100p$-**percentile** is the value $x_p$ such that $p$ is the probability of observing a population value less than or equal to $x_p$. The 50th percentile is known as the **median** of the population.\n",
    "\n",
    "The unbiased sample median of $x_1,\\ldots,x_n$ can be computed by sorting the values into $y_1,\\ldots,y_n$. If $n$ is odd, then $y_{(n+1)/2}$ is the sample median; otherwise, the average of $y_{n/2}$ and $y_{1+(n/2)}$ is the sample median. Computing unbiased sample estimates of percentiles other than the median is a little complicated, and we won't go into the details.\n",
    "\n",
    "```{prf:example}\n",
    "If the sorted values are $1,3,3,4,5,5,5$, then $n=7$ and the sample median is $y_4=4$. If the sample values are $1,3,3,4,5,5,5,9$, then $n=8$ and the sample median is $(4+5)/2=4.5$.\n",
    "```\n",
    "\n",
    "A set of percentiles dividing probability into $q$ equal pieces is called the $q$–**quantiles**. \n",
    "\n",
    "```{prf:example}\n",
    "The 4-quantiles are called **quartiles**. The first quartile is the 25th percentile, or the value that exceeds 1/4 of the population. The second quartile is the median. The third quantile is the 75th percentile. \n",
    "\n",
    "Sometimes the definition is extended to the *zeroth quartile*, which is the minimum sample value, and the *fourth quartile*, which is the maximum sample value.\n",
    "```\n",
    "\n",
    "One way to measure spread in the values is the **interquartile range** (IQR), which is the difference between the 75th percentile and the 25th percentile.\n",
    "\n",
    "The `describe` method of a data frame or grouped data frame gives summary statistics that include the quartiles."
   ]
  },
  {
   "cell_type": "code",
   "execution_count": 12,
   "id": "883834f6",
   "metadata": {},
   "outputs": [
    {
     "data": {
      "text/html": [
       "<div>\n",
       "<style scoped>\n",
       "    .dataframe tbody tr th:only-of-type {\n",
       "        vertical-align: middle;\n",
       "    }\n",
       "\n",
       "    .dataframe tbody tr th {\n",
       "        vertical-align: top;\n",
       "    }\n",
       "\n",
       "    .dataframe thead th {\n",
       "        text-align: right;\n",
       "    }\n",
       "</style>\n",
       "<table border=\"1\" class=\"dataframe\">\n",
       "  <thead>\n",
       "    <tr style=\"text-align: right;\">\n",
       "      <th></th>\n",
       "      <th>count</th>\n",
       "      <th>mean</th>\n",
       "      <th>std</th>\n",
       "      <th>min</th>\n",
       "      <th>25%</th>\n",
       "      <th>50%</th>\n",
       "      <th>75%</th>\n",
       "      <th>max</th>\n",
       "    </tr>\n",
       "    <tr>\n",
       "      <th>sex</th>\n",
       "      <th></th>\n",
       "      <th></th>\n",
       "      <th></th>\n",
       "      <th></th>\n",
       "      <th></th>\n",
       "      <th></th>\n",
       "      <th></th>\n",
       "      <th></th>\n",
       "    </tr>\n",
       "  </thead>\n",
       "  <tbody>\n",
       "    <tr>\n",
       "      <th>Female</th>\n",
       "      <td>10771.0</td>\n",
       "      <td>36.858230</td>\n",
       "      <td>14.013697</td>\n",
       "      <td>17.0</td>\n",
       "      <td>25.0</td>\n",
       "      <td>35.0</td>\n",
       "      <td>46.0</td>\n",
       "      <td>90.0</td>\n",
       "    </tr>\n",
       "    <tr>\n",
       "      <th>Male</th>\n",
       "      <td>21790.0</td>\n",
       "      <td>39.433547</td>\n",
       "      <td>13.370630</td>\n",
       "      <td>17.0</td>\n",
       "      <td>29.0</td>\n",
       "      <td>38.0</td>\n",
       "      <td>48.0</td>\n",
       "      <td>90.0</td>\n",
       "    </tr>\n",
       "  </tbody>\n",
       "</table>\n",
       "</div>"
      ],
      "text/plain": [
       "           count       mean        std   min   25%   50%   75%   max\n",
       "sex                                                                 \n",
       " Female  10771.0  36.858230  14.013697  17.0  25.0  35.0  46.0  90.0\n",
       " Male    21790.0  39.433547  13.370630  17.0  29.0  38.0  48.0  90.0"
      ]
     },
     "execution_count": 12,
     "metadata": {},
     "output_type": "execute_result"
    }
   ],
   "source": [
    "bysex[\"age\"].describe()"
   ]
  },
  {
   "cell_type": "markdown",
   "id": "16401415",
   "metadata": {},
   "source": [
    "Thus, the IQR is 21 for females and 19 for males, suggesting that the male distribution is a bit more centrally concentrated.\n",
    "\n",
    "A common way to visualize quartiles is by a **box plot**."
   ]
  },
  {
   "cell_type": "code",
   "execution_count": 13,
   "id": "85ef1d14",
   "metadata": {},
   "outputs": [
    {
     "data": {
      "text/plain": [
       "<seaborn.axisgrid.FacetGrid at 0x7f85c13203a0>"
      ]
     },
     "execution_count": 13,
     "metadata": {},
     "output_type": "execute_result"
    },
    {
     "data": {
      "image/png": "[encoded data removed]",
      "text/plain": [
       "<Figure size 360x360 with 1 Axes>"
      ]
     },
     "metadata": {
      "filenames": {
       "image/png": "/Users/driscoll/Dropbox/class/267/notes/_build/jupyter_execute/statistics/exploratory_25_1.png"
      },
      "needs_background": "light"
     },
     "output_type": "display_data"
    }
   ],
   "source": [
    "sns.catplot(data=adult,x=\"sex\",y=\"age\",kind=\"box\")"
   ]
  },
  {
   "cell_type": "markdown",
   "id": "aba01f7f",
   "metadata": {},
   "source": [
    "The colored boxes in each category show the quartiles. The \"whiskers\" extend the box by 1.5 times the IQR in each direction (ending at the extent of the data), and additional values are shown as dots.\n",
    "\n",
    "## Outliers\n",
    "\n",
    "Informally, an **outlier** is a data value that is considered \"far from typical.\" There are various ways of deciding what \"typical\" means, and there is no one-size recommendation for all applications.\n",
    "\n",
    "The box plot above illustrates one common choice for defining outliers. If $m$ is the median of the data and $I$ is the IQR, then $x$ is declared an outlier if \n",
    "\n",
    "$$|x-m| > 1.5I.$$\n",
    "\n",
    "Hence the dots in the box plots are considered outliers by this criterion. \n",
    "\n",
    "It is well known that the mean is more strongly influenced by outliers than the median is. \n",
    "\n",
    "```{prf:example}\n",
    "The values $1,2,3,4,5$ have a mean and median both equal to 3. If we change the largest value to be a lot larger, say $1,2,3,4,1000$, then the mean changes to 202. But the median is still 3!\n",
    "```\n",
    "\n",
    "Let's create a series indicating which rows of the table represent outliers within their gender group."
   ]
  },
  {
   "cell_type": "code",
   "execution_count": 14,
   "id": "2317228e",
   "metadata": {},
   "outputs": [
    {
     "data": {
      "text/plain": [
       "count    1008.000000\n",
       "mean       72.659722\n",
       "std         5.700074\n",
       "min        67.000000\n",
       "25%        68.000000\n",
       "50%        71.000000\n",
       "75%        75.000000\n",
       "max        90.000000\n",
       "Name: age, dtype: float64"
      ]
     },
     "execution_count": 14,
     "metadata": {},
     "output_type": "execute_result"
    }
   ],
   "source": [
    "def isoutlier(x):\n",
    "    I = x.quantile(.75) - x.quantile(.25)   # quantile is defined by pandas\n",
    "    return abs(x-x.median()) > 1.5*I\n",
    "\n",
    "outs = bysex[\"age\"].transform(isoutlier)\n",
    "\n",
    "adult[outs][\"age\"].describe()"
   ]
  },
  {
   "cell_type": "markdown",
   "id": "8c291270",
   "metadata": {},
   "source": [
    "To negate the outlier indicator series, we can use `~outs`."
   ]
  },
  {
   "cell_type": "code",
   "execution_count": 15,
   "id": "e6b00c32",
   "metadata": {},
   "outputs": [
    {
     "data": {
      "text/html": [
       "<div>\n",
       "<style scoped>\n",
       "    .dataframe tbody tr th:only-of-type {\n",
       "        vertical-align: middle;\n",
       "    }\n",
       "\n",
       "    .dataframe tbody tr th {\n",
       "        vertical-align: top;\n",
       "    }\n",
       "\n",
       "    .dataframe thead th {\n",
       "        text-align: right;\n",
       "    }\n",
       "</style>\n",
       "<table border=\"1\" class=\"dataframe\">\n",
       "  <thead>\n",
       "    <tr style=\"text-align: right;\">\n",
       "      <th></th>\n",
       "      <th>count</th>\n",
       "      <th>mean</th>\n",
       "      <th>std</th>\n",
       "      <th>min</th>\n",
       "      <th>25%</th>\n",
       "      <th>50%</th>\n",
       "      <th>75%</th>\n",
       "      <th>max</th>\n",
       "    </tr>\n",
       "    <tr>\n",
       "      <th>sex</th>\n",
       "      <th></th>\n",
       "      <th></th>\n",
       "      <th></th>\n",
       "      <th></th>\n",
       "      <th></th>\n",
       "      <th></th>\n",
       "      <th></th>\n",
       "      <th></th>\n",
       "    </tr>\n",
       "  </thead>\n",
       "  <tbody>\n",
       "    <tr>\n",
       "      <th>Female</th>\n",
       "      <td>10435.0</td>\n",
       "      <td>35.710014</td>\n",
       "      <td>12.626255</td>\n",
       "      <td>17.0</td>\n",
       "      <td>25.0</td>\n",
       "      <td>34.0</td>\n",
       "      <td>45.0</td>\n",
       "      <td>66.0</td>\n",
       "    </tr>\n",
       "    <tr>\n",
       "      <th>Male</th>\n",
       "      <td>21118.0</td>\n",
       "      <td>38.373994</td>\n",
       "      <td>12.124870</td>\n",
       "      <td>17.0</td>\n",
       "      <td>29.0</td>\n",
       "      <td>37.0</td>\n",
       "      <td>47.0</td>\n",
       "      <td>66.0</td>\n",
       "    </tr>\n",
       "  </tbody>\n",
       "</table>\n",
       "</div>"
      ],
      "text/plain": [
       "           count       mean        std   min   25%   50%   75%   max\n",
       "sex                                                                 \n",
       " Female  10435.0  35.710014  12.626255  17.0  25.0  34.0  45.0  66.0\n",
       " Male    21118.0  38.373994  12.124870  17.0  29.0  37.0  47.0  66.0"
      ]
     },
     "execution_count": 15,
     "metadata": {},
     "output_type": "execute_result"
    }
   ],
   "source": [
    "bysex = adult[~outs].groupby(\"sex\")\n",
    "bysex[\"age\"].describe()"
   ]
  },
  {
   "cell_type": "markdown",
   "id": "f0bbf5b0",
   "metadata": {},
   "source": [
    "Compare these to the previous summary. For both groups, the mean values shifted downward by about 1.1 years, while the median decreased by 1 year."
   ]
  }
 ],
 "metadata": {
  "jupytext": {
   "text_representation": {
    "extension": ".md",
    "format_name": "myst",
    "format_version": 0.13,
    "jupytext_version": "1.10.3"
   }
  },
  "kernelspec": {
   "display_name": "Python 3.8.8 64-bit ('base': conda)",
   "language": "python",
   "name": "python3"
  },
  "language_info": {
   "codemirror_mode": {
    "name": "ipython",
    "version": 3
   },
   "file_extension": ".py",
   "mimetype": "text/x-python",
   "name": "python",
   "nbconvert_exporter": "python",
   "pygments_lexer": "ipython3",
   "version": "3.8.8"
  },
  "source_map": [
   12,
   18,
   34,
   36,
   40,
   43,
   47,
   50,
   54,
   58,
   60,
   64,
   67,
   77,
   79,
   83,
   85,
   89,
   91,
   104,
   106,
   117,
   119,
   168,
   170,
   176,
   178,
   200,
   208,
   212,
   215
  ]
 },
 "nbformat": 4,
 "nbformat_minor": 5
}