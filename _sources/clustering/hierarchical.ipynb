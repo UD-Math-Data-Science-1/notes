{
 "cells": [
  {
   "cell_type": "markdown",
   "id": "9d6492bf",
   "metadata": {},
   "source": [
    "# Hierarchical\n",
    "\n",
    "The idea behind hierarchical clustering is to organize all the sample points into a tree structure called a **dendrogram**. At the root of the tree is the entire sample set, while each leaf of the tree is a single sample vector. Groups of similar samples are connected as nearby relatives in the tree, with less-similar groups located as more distant relatives.\n",
    "\n",
    "Dendrograms can be found by starting with the root and recursively splitting, or by starting at the leaves and recursively merging. We will describe the latter approach, known as **agglomerative clustering**.\n",
    "\n",
    "The algorithm begins with $n$ singleton clusters, i.e., $C_i=\\{\\bfx_i\\}$. Then, the similarity or distance between each pair of clusters is determined. The pair with the minimum distance is merged, and the process repeats. \n",
    "\n",
    "Common ways to define the distance between two clusters $C_i$ and $C_j$ are:\n",
    "\n",
    "* **Ward linkage**: increase in inertia by merging them\n",
    "* **single linkage** or *minimum linkage*: $\\displaystyle \\min_{\\bfx\\in C_i,\\,\\bfy\\in C_j} \\{ \\norm{\\bfx-\\bfy } \\}$\n",
    "* **complete linkage** or *maximum linkage*: $\\displaystyle \\max_{\\bfx\\in C_i,\\,\\bfy\\in C_j} \\{ \\norm{\\bfx-\\bfy} \\}$\n",
    "* **average linkage**: $\\displaystyle \\frac{1}{|C_i|\\,|C_j|} \\sum_{\\bfx\\in C_i,\\,\\bfy\\in C_j} \\norm{ \\bfx-\\bfy }$\n",
    "\n",
    "Absent any other considerations, Ward linkage is probably the most reliable (and is the sklearn default).\n",
    "## Toy example\n",
    "\n",
    "Let's use 5 sample points in the plane."
   ]
  },
  {
   "cell_type": "code",
   "execution_count": 1,
   "id": "d0815ec5",
   "metadata": {},
   "outputs": [
    {
     "data": {
      "text/plain": [
       "array([[0.        , 3.        , 3.16227766, 3.60555128, 1.41421356],\n",
       "       [3.        , 0.        , 1.        , 3.16227766, 2.23606798],\n",
       "       [3.16227766, 1.        , 0.        , 2.23606798, 2.        ],\n",
       "       [3.60555128, 3.16227766, 2.23606798, 0.        , 2.23606798],\n",
       "       [1.41421356, 2.23606798, 2.        , 2.23606798, 0.        ]])"
      ]
     },
     "execution_count": 1,
     "metadata": {},
     "output_type": "execute_result"
    }
   ],
   "source": [
    "from sklearn.metrics import pairwise_distances\n",
    "import numpy as np\n",
    "\n",
    "X = np.array([[-2,-1],[1,-1],[1,0],[0,2],[-1,0]])\n",
    "D2 = pairwise_distances(X,metric=\"euclidean\")\n",
    "D2"
   ]
  },
  {
   "cell_type": "markdown",
   "id": "a6928ffb",
   "metadata": {},
   "source": [
    "The minimum value in the lower triangle of the distance matrix is in row 2, column 1 (starting index at 0). So our first merge results in the set $C_1=\\{\\bfx_1,\\bfx_2\\}$. If we use single linkage, then the linkages between this set and the other sample points are"
   ]
  },
  {
   "cell_type": "code",
   "execution_count": 2,
   "id": "bf7455ec",
   "metadata": {},
   "outputs": [
    {
     "name": "stdout",
     "output_type": "stream",
     "text": [
      "3.0\n",
      "2.23606797749979\n",
      "2.0\n"
     ]
    }
   ],
   "source": [
    "from numpy.linalg import norm\n",
    "C1 = X[[1,2]]\n",
    "for x in X[[0,3,4]]:\n",
    "    print(min(norm(x-y) for y in C1))"
   ]
  },
  {
   "cell_type": "markdown",
   "id": "e7be4044",
   "metadata": {},
   "source": [
    "Comparing these to the pairwise point distances already calculated, the minimum value is 1.414, between points 0 and 4. So we now have clusters $C_1$, $C_2=\\{bfx_0,\\bfx_4\\}$, $\\{x_3\\}$, and three pairwise linkages to compare, etc. The entire dendrogram can be visualized with seaborn:"
   ]
  },
  {
   "cell_type": "code",
   "execution_count": 3,
   "id": "f5d6bb56",
   "metadata": {},
   "outputs": [
    {
     "data": {
      "text/plain": [
       "<seaborn.matrix.ClusterGrid at 0x7fd2405d36a0>"
      ]
     },
     "execution_count": 3,
     "metadata": {},
     "output_type": "execute_result"
    },
    {
     "data": {
      "image/png": "[encoded data removed]",
      "text/plain": [
       "<Figure size 720x720 with 4 Axes>"
      ]
     },
     "metadata": {
      "filenames": {
       "image/png": "/Users/driscoll/Dropbox/class/267/notes/_build/jupyter_execute/clustering/hierarchical_5_1.png"
      },
      "needs_background": "light"
     },
     "output_type": "display_data"
    }
   ],
   "source": [
    "import seaborn as sns\n",
    "sns.clustermap(X,col_cluster=False,dendrogram_ratio=(.75,.15))"
   ]
  },
  {
   "cell_type": "markdown",
   "id": "427d3753",
   "metadata": {},
   "source": [
    "The horizontal position in the dendrogram above indicates the linkage strength. Working from right to left, we see the creation of $C_1$ first, then $C_2$. These are merged into a single set before finally being merged with $\\bfx_3$. (Note that the rows are reordered according to the values on the far right.)\n",
    "\n",
    "In effect, we get an entire family of clusterings, by stopping at any linkage value we want. If we chose to stop at value 1.5, for instance, we would have the three clusters we derived above. Or, if we predetermine that we want $k$ clusters, we can stop after $n-k$ merges. \n",
    "\n",
    "## Case study: Penguins\n",
    "\n",
    "Haven't found one yet where it works well."
   ]
  },
  {
   "cell_type": "code",
   "execution_count": 4,
   "id": "baa76229",
   "metadata": {},
   "outputs": [],
   "source": [
    "import seaborn as sns\n",
    "penguins = sns.load_dataset(\"penguins\").dropna()\n",
    "X = penguins[[\"bill_length_mm\",\"bill_depth_mm\",\"flipper_length_mm\",\"body_mass_g\"]]"
   ]
  },
  {
   "cell_type": "code",
   "execution_count": 5,
   "id": "f6666826",
   "metadata": {},
   "outputs": [
    {
     "name": "stdout",
     "output_type": "stream",
     "text": [
      "single linkage:\n",
      "0    331\n",
      "2      1\n",
      "1      1\n",
      "Name: agg, dtype: int64\n"
     ]
    }
   ],
   "source": [
    "from sklearn.cluster import AgglomerativeClustering\n",
    "agg = AgglomerativeClustering(n_clusters=3,linkage=\"single\")\n",
    "agg.fit(X)\n",
    "penguins[\"agg\"] = agg.labels_\n",
    "\n",
    "print(\"single linkage:\")\n",
    "print(penguins[\"agg\"].value_counts())"
   ]
  },
  {
   "cell_type": "code",
   "execution_count": 6,
   "id": "018cec7c",
   "metadata": {},
   "outputs": [
    {
     "name": "stdout",
     "output_type": "stream",
     "text": [
      "Ward linkage:\n",
      "1    138\n",
      "0    112\n",
      "2     83\n",
      "Name: agg, dtype: int64\n"
     ]
    }
   ],
   "source": [
    "agg = AgglomerativeClustering(n_clusters=3,linkage=\"ward\")\n",
    "agg.fit(X)\n",
    "penguins[\"agg\"] = agg.labels_\n",
    "\n",
    "print(\"Ward linkage:\")\n",
    "print(penguins[\"agg\"].value_counts())"
   ]
  },
  {
   "cell_type": "code",
   "execution_count": 7,
   "id": "2186b568",
   "metadata": {},
   "outputs": [
    {
     "data": {
      "text/plain": [
       "0.4000457098789099"
      ]
     },
     "execution_count": 7,
     "metadata": {},
     "output_type": "execute_result"
    }
   ],
   "source": [
    "from sklearn.metrics import adjusted_rand_score\n",
    "adjusted_rand_score(penguins[\"species\"],agg.labels_)"
   ]
  }
 ],
 "metadata": {
  "jupytext": {
   "text_representation": {
    "extension": ".md",
    "format_name": "myst",
    "format_version": 0.13,
    "jupytext_version": "1.11.5"
   }
  },
  "kernelspec": {
   "display_name": "Python 3.8.8 64-bit ('base': conda)",
   "language": "python",
   "name": "python3"
  },
  "language_info": {
   "codemirror_mode": {
    "name": "ipython",
    "version": 3
   },
   "file_extension": ".py",
   "mimetype": "text/x-python",
   "name": "python",
   "nbconvert_exporter": "python",
   "pygments_lexer": "ipython3",
   "version": "3.8.8"
  },
  "source_map": [
   12,
   33,
   40,
   44,
   49,
   53,
   56,
   66,
   72,
   82,
   91
  ]
 },
 "nbformat": 4,
 "nbformat_minor": 5
}