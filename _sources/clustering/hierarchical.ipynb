{
 "cells": [
  {
   "cell_type": "markdown",
   "id": "9aa80971",
   "metadata": {},
   "source": [
    "# Hierarchical\n",
    "\n",
    "The idea behind hierarchical clustering is to organize all the sample points into a tree structure called a **dendrogram**. At the root of the tree is the entire sample set, while each leaf of the tree is a single sample vector. Groups of similar samples are connected as nearby relatives in the tree, with less-similar groups located as more distant relatives.\n",
    "\n",
    "Dendrograms can be found by starting with the root and recursively splitting, or by starting at the leaves and recursively merging. We will describe the latter approach, known as **agglomerative clustering**.\n",
    "\n",
    "The algorithm begins with $n$ singleton clusters, i.e., $C_i=\\{\\bfx_i\\}$. Then, the similarity or distance between each pair of clusters is determined. The pair with the minimum distance is merged, and the process repeats. \n",
    "\n",
    "Common ways to define the distance between two clusters $C_i$ and $C_j$ are:\n",
    "\n",
    "* **Ward linkage**: the increase in inertia resulting from merging them\n",
    "* **single linkage** or *minimum linkage*: $\\displaystyle \\min_{\\bfx\\in C_i,\\,\\bfy\\in C_j} \\{ \\norm{\\bfx-\\bfy } \\}$\n",
    "* **complete linkage** or *maximum linkage*: $\\displaystyle \\max_{\\bfx\\in C_i,\\,\\bfy\\in C_j} \\{ \\norm{\\bfx-\\bfy} \\}$\n",
    "* **average linkage**: $\\displaystyle \\frac{1}{|C_i|\\,|C_j|} \\sum_{\\bfx\\in C_i,\\,\\bfy\\in C_j} \\norm{ \\bfx-\\bfy }$\n",
    "\n",
    "::::{prf:example}\n",
    ":label: example-hierarchical-linkages\n",
    "Given clusters $C_1=\\{-3,-2,-1\\}$ and $C_2=\\{3,4,5\\}$, find the different linkages between them.\n",
    "\n",
    ":::{dropdown} Solution\n",
    "**Ward.** The inertia of each cluster is 2, for a total of 4. If the clusters are combined, their mean is $\\mu=1$, and the inertia of the supercluster is $16+9+4+4+9+16=58$. Thus the Ward linkage is $58-4=54$.\n",
    "\n",
    "**Single.** The pairwise distances between members of $C_1$ and $C_2$ form a $3\\times 3$ matrix:\n",
    "\n",
    "|   | -3 | -2 | -1 |\n",
    "|--|--|--|--|\n",
    "3 | 6 | 5 | 4 |\n",
    "4 | 7 | 6 | 5 |\n",
    "5 | 8 | 7 | 6 |\n",
    "\n",
    "The single linkage is therefore 4.\n",
    "\n",
    "**Complete.** The maximum of the matrix above is 8.\n",
    "\n",
    "**Average.** The average value of the matrix entries is $54/9$, which is 6.\n",
    ":::\n",
    "::::\n",
    "\n",
    "\n",
    "Absent any other considerations, Ward linkage is considered the most reliable (and is the sklearn default).\n",
    "\n",
    "## Toy example\n",
    "\n",
    "Let's use 5 sample points in the plane, and agglomerate them by single linkage. The `pairwise_distances` function converts sample points into a distance matrix."
   ]
  },
  {
   "cell_type": "code",
   "execution_count": 1,
   "id": "dcfba8e9",
   "metadata": {},
   "outputs": [
    {
     "data": {
      "text/plain": [
       "array([[0.        , 3.        , 3.16227766, 3.60555128, 1.41421356],\n",
       "       [3.        , 0.        , 1.        , 3.16227766, 2.23606798],\n",
       "       [3.16227766, 1.        , 0.        , 2.23606798, 2.        ],\n",
       "       [3.60555128, 3.16227766, 2.23606798, 0.        , 2.23606798],\n",
       "       [1.41421356, 2.23606798, 2.        , 2.23606798, 0.        ]])"
      ]
     },
     "execution_count": 1,
     "metadata": {},
     "output_type": "execute_result"
    }
   ],
   "source": [
    "from sklearn.metrics import pairwise_distances\n",
    "import numpy as np\n",
    "\n",
    "X = np.array([[-2,-1],[1,-1],[1,0],[0,2],[-1,0]])\n",
    "D2 = pairwise_distances(X,metric=\"euclidean\")\n",
    "D2"
   ]
  },
  {
   "cell_type": "markdown",
   "id": "b0def903",
   "metadata": {},
   "source": [
    "The minimum value in the lower triangle of the distance matrix is in row 2, column 1 (starting index at 0). So our first merge results in the set $C_1=\\{\\bfx_1,\\bfx_2\\}$. Then, the minimum linkages between this cluster and the other sample points are"
   ]
  },
  {
   "cell_type": "code",
   "execution_count": 2,
   "id": "5fdc5de0",
   "metadata": {},
   "outputs": [
    {
     "name": "stdout",
     "output_type": "stream",
     "text": [
      "3.0\n",
      "2.23606797749979\n",
      "2.0\n"
     ]
    }
   ],
   "source": [
    "from numpy.linalg import norm\n",
    "C1 = X[[1,2]]\n",
    "for x in X[[0,3,4]]:\n",
    "    print(min(norm(x-y) for y in C1))"
   ]
  },
  {
   "cell_type": "markdown",
   "id": "f14c096d",
   "metadata": {},
   "source": [
    "Comparing these to the pairwise point distances already calculated, the minimum value is 1.414, between points 0 and 4. So we now have clusters $C_1$, $C_2=\\{\\bfx_0,\\bfx_4\\}$, $C_3=\\{\\bfx_3\\}$, and there are three pairwise distances to compare, etc. The entire dendrogram can be visualized with seaborn:"
   ]
  },
  {
   "cell_type": "code",
   "execution_count": 3,
   "id": "564c1168",
   "metadata": {},
   "outputs": [
    {
     "data": {
      "image/png": "[encoded data removed]",
      "text/plain": [
       "<Figure size 720x720 with 4 Axes>"
      ]
     },
     "metadata": {
      "filenames": {
       "image/png": "/home/driscoll/Dropbox/class/267/notes/_build/jupyter_execute/clustering/hierarchical_5_0.png"
      },
      "needs_background": "light"
     },
     "output_type": "display_data"
    }
   ],
   "source": [
    "import seaborn as sns\n",
    "sns.clustermap(X,col_cluster=False,dendrogram_ratio=(.75,.15));"
   ]
  },
  {
   "cell_type": "markdown",
   "id": "9a92040c",
   "metadata": {},
   "source": [
    "The horizontal position in the dendrogram above indicates the linkage strength. Working from right to left, we see the creation of $C_1$ first, then $C_2$. These are merged into a single set before finally being merged with $\\bfx_3$. (Note that the rows are reordered according to the values on the far right, in order to avoid having lines cross over one another.)\n",
    "\n",
    "In effect, we get an entire family of clusterings, by stopping at any linkage value we want. If we chose to stop at value 1.5, for instance, we would have the three clusters we derived above. Or, if we predetermine that we want $k$ clusters, we can stop after $n-k$ merges. \n",
    "\n",
    "## Case study: Penguins\n",
    "\n",
    "Let's try agglomerative clustering to discover the species of the penguins. First, let's recall how many of each species we have."
   ]
  },
  {
   "cell_type": "code",
   "execution_count": 4,
   "id": "49c58a20",
   "metadata": {},
   "outputs": [
    {
     "name": "stdout",
     "output_type": "stream",
     "text": [
      "Adelie       146\n",
      "Gentoo       119\n",
      "Chinstrap     68\n",
      "Name: species, dtype: int64\n"
     ]
    }
   ],
   "source": [
    "import seaborn as sns\n",
    "penguins = sns.load_dataset(\"penguins\").dropna()\n",
    "X = penguins[[\"bill_length_mm\",\"bill_depth_mm\",\"flipper_length_mm\",\"body_mass_g\"]]\n",
    "print(penguins[\"species\"].value_counts())"
   ]
  },
  {
   "cell_type": "markdown",
   "id": "e4b2dd6a",
   "metadata": {},
   "source": [
    "Our first attempt is single linkage. Because 2-norm distances are involved, we will use standardization in a pipeline with the clustering method. After fitting, the `labels_` property of the cluster object is a vector of cluster assignments."
   ]
  },
  {
   "cell_type": "code",
   "execution_count": 5,
   "id": "1efcbd64",
   "metadata": {},
   "outputs": [
    {
     "data": {
      "text/html": [
       "<div>\n",
       "<style scoped>\n",
       "    .dataframe tbody tr th:only-of-type {\n",
       "        vertical-align: middle;\n",
       "    }\n",
       "\n",
       "    .dataframe tbody tr th {\n",
       "        vertical-align: top;\n",
       "    }\n",
       "\n",
       "    .dataframe thead th {\n",
       "        text-align: right;\n",
       "    }\n",
       "</style>\n",
       "<table border=\"1\" class=\"dataframe\">\n",
       "  <thead>\n",
       "    <tr style=\"text-align: right;\">\n",
       "      <th></th>\n",
       "      <th>species</th>\n",
       "      <th>single</th>\n",
       "    </tr>\n",
       "  </thead>\n",
       "  <tbody>\n",
       "    <tr>\n",
       "      <th>0</th>\n",
       "      <td>Adelie</td>\n",
       "      <td>0</td>\n",
       "    </tr>\n",
       "    <tr>\n",
       "      <th>29</th>\n",
       "      <td>Adelie</td>\n",
       "      <td>0</td>\n",
       "    </tr>\n",
       "    <tr>\n",
       "      <th>54</th>\n",
       "      <td>Adelie</td>\n",
       "      <td>0</td>\n",
       "    </tr>\n",
       "    <tr>\n",
       "      <th>78</th>\n",
       "      <td>Adelie</td>\n",
       "      <td>0</td>\n",
       "    </tr>\n",
       "    <tr>\n",
       "      <th>102</th>\n",
       "      <td>Adelie</td>\n",
       "      <td>0</td>\n",
       "    </tr>\n",
       "    <tr>\n",
       "      <th>126</th>\n",
       "      <td>Adelie</td>\n",
       "      <td>0</td>\n",
       "    </tr>\n",
       "    <tr>\n",
       "      <th>150</th>\n",
       "      <td>Adelie</td>\n",
       "      <td>0</td>\n",
       "    </tr>\n",
       "    <tr>\n",
       "      <th>174</th>\n",
       "      <td>Chinstrap</td>\n",
       "      <td>0</td>\n",
       "    </tr>\n",
       "    <tr>\n",
       "      <th>198</th>\n",
       "      <td>Chinstrap</td>\n",
       "      <td>0</td>\n",
       "    </tr>\n",
       "    <tr>\n",
       "      <th>222</th>\n",
       "      <td>Gentoo</td>\n",
       "      <td>2</td>\n",
       "    </tr>\n",
       "    <tr>\n",
       "      <th>247</th>\n",
       "      <td>Gentoo</td>\n",
       "      <td>2</td>\n",
       "    </tr>\n",
       "    <tr>\n",
       "      <th>271</th>\n",
       "      <td>Gentoo</td>\n",
       "      <td>2</td>\n",
       "    </tr>\n",
       "    <tr>\n",
       "      <th>296</th>\n",
       "      <td>Gentoo</td>\n",
       "      <td>2</td>\n",
       "    </tr>\n",
       "    <tr>\n",
       "      <th>320</th>\n",
       "      <td>Gentoo</td>\n",
       "      <td>2</td>\n",
       "    </tr>\n",
       "  </tbody>\n",
       "</table>\n",
       "</div>"
      ],
      "text/plain": [
       "       species  single\n",
       "0       Adelie       0\n",
       "29      Adelie       0\n",
       "54      Adelie       0\n",
       "78      Adelie       0\n",
       "102     Adelie       0\n",
       "126     Adelie       0\n",
       "150     Adelie       0\n",
       "174  Chinstrap       0\n",
       "198  Chinstrap       0\n",
       "222     Gentoo       2\n",
       "247     Gentoo       2\n",
       "271     Gentoo       2\n",
       "296     Gentoo       2\n",
       "320     Gentoo       2"
      ]
     },
     "execution_count": 5,
     "metadata": {},
     "output_type": "execute_result"
    }
   ],
   "source": [
    "from sklearn.pipeline import make_pipeline\n",
    "from sklearn.preprocessing import StandardScaler\n",
    "from sklearn.cluster import AgglomerativeClustering\n",
    "\n",
    "single = AgglomerativeClustering(n_clusters=3,linkage=\"single\")\n",
    "pipe = make_pipeline(StandardScaler(),single)\n",
    "pipe.fit(X)\n",
    "penguins[\"single\"] = single.labels_       # cluster assignments\n",
    "penguins.loc[::24,[\"species\",\"single\"]]   # print out some rows"
   ]
  },
  {
   "cell_type": "markdown",
   "id": "5be5b02a",
   "metadata": {},
   "source": [
    "It seems that Gentoo is associated with cluster number 2, but the situation with the other species is less clear. Here are the value counts:"
   ]
  },
  {
   "cell_type": "code",
   "execution_count": 6,
   "id": "4511a40a",
   "metadata": {},
   "outputs": [
    {
     "name": "stdout",
     "output_type": "stream",
     "text": [
      "single linkage results:\n",
      "0    213\n",
      "2    119\n",
      "1      1\n",
      "Name: single, dtype: int64\n"
     ]
    }
   ],
   "source": [
    "print(\"single linkage results:\")\n",
    "print(penguins[\"single\"].value_counts())"
   ]
  },
  {
   "cell_type": "markdown",
   "id": "0fe85848",
   "metadata": {},
   "source": [
    "Comparing these with the species counts, it seems that the clustering may have found the Gentoo cases perfectly. That would imply that the other ones are almost all lumped into cluster 0, however. Here is the adjusted Rand index."
   ]
  },
  {
   "cell_type": "code",
   "execution_count": 7,
   "id": "d8664a80",
   "metadata": {},
   "outputs": [
    {
     "name": "stdout",
     "output_type": "stream",
     "text": [
      "single linkage ARI: 0.6506\n"
     ]
    }
   ],
   "source": [
    "from sklearn.metrics import adjusted_rand_score\n",
    "ARI = adjusted_rand_score(penguins[\"species\"],penguins[\"single\"])\n",
    "print(f\"single linkage ARI: {ARI:.4f}\")"
   ]
  },
  {
   "cell_type": "markdown",
   "id": "f6b58db1",
   "metadata": {},
   "source": [
    "Now let's try it with Ward linkage (the default)."
   ]
  },
  {
   "cell_type": "code",
   "execution_count": 8,
   "id": "aa278ec0",
   "metadata": {},
   "outputs": [
    {
     "name": "stdout",
     "output_type": "stream",
     "text": [
      "Ward linkage results:\n",
      "1    157\n",
      "0    119\n",
      "2     57\n",
      "Name: ward, dtype: int64\n"
     ]
    }
   ],
   "source": [
    "ward = AgglomerativeClustering(n_clusters=3,linkage=\"ward\")\n",
    "pipe = make_pipeline(StandardScaler(),ward)\n",
    "pipe.fit(X)\n",
    "penguins[\"ward\"] = ward.labels_\n",
    "\n",
    "print(\"Ward linkage results:\")\n",
    "print(penguins[\"ward\"].value_counts())"
   ]
  },
  {
   "cell_type": "markdown",
   "id": "950c7b87",
   "metadata": {},
   "source": [
    "This result looks more promising. The ARI confirms that hunch:"
   ]
  },
  {
   "cell_type": "code",
   "execution_count": 9,
   "id": "c60c215a",
   "metadata": {},
   "outputs": [
    {
     "name": "stdout",
     "output_type": "stream",
     "text": [
      "Ward linkage ARI: 0.9132\n"
     ]
    }
   ],
   "source": [
    "ARI = adjusted_rand_score(penguins[\"species\"],penguins[\"ward\"])\n",
    "print(f\"Ward linkage ARI: {ARI:.4f}\")"
   ]
  },
  {
   "cell_type": "markdown",
   "id": "2c378f0b",
   "metadata": {},
   "source": [
    "If we guess at the likely correspondence between the cluster numbers and the different species, then we can find the confusion matrix:"
   ]
  },
  {
   "cell_type": "code",
   "execution_count": 10,
   "id": "97cb5383",
   "metadata": {},
   "outputs": [
    {
     "data": {
      "image/png": "[encoded data removed]",
      "text/plain": [
       "<Figure size 432x288 with 2 Axes>"
      ]
     },
     "metadata": {
      "filenames": {
       "image/png": "/home/driscoll/Dropbox/class/267/notes/_build/jupyter_execute/clustering/hierarchical_19_0.png"
      },
      "needs_background": "light"
     },
     "output_type": "display_data"
    }
   ],
   "source": [
    "from sklearn.metrics import confusion_matrix,ConfusionMatrixDisplay\n",
    "y = penguins[\"species\"]\n",
    "# Convert cluster numbers into labels:\n",
    "y_hat = penguins[\"ward\"].replace({1:\"Adelie\",0:\"Gentoo\",2:\"Chinstrap\"}) \n",
    "\n",
    "ConfusionMatrixDisplay(confusion_matrix(y,y_hat),display_labels=y.unique()).plot();"
   ]
  }
 ],
 "metadata": {
  "jupytext": {
   "text_representation": {
    "extension": ".md",
    "format_name": "myst",
    "format_version": 0.13,
    "jupytext_version": "1.11.5"
   }
  },
  "kernelspec": {
   "display_name": "Python 3 (ipykernel)",
   "language": "python",
   "name": "python3"
  },
  "language_info": {
   "codemirror_mode": {
    "name": "ipython",
    "version": 3
   },
   "file_extension": ".py",
   "mimetype": "text/x-python",
   "name": "python",
   "nbconvert_exporter": "python",
   "pygments_lexer": "ipython3",
   "version": "3.8.8"
  },
  "source_map": [
   12,
   59,
   66,
   70,
   75,
   79,
   82,
   92,
   97,
   101,
   111,
   115,
   118,
   122,
   126,
   130,
   138,
   142,
   145,
   149
  ]
 },
 "nbformat": 4,
 "nbformat_minor": 5
}