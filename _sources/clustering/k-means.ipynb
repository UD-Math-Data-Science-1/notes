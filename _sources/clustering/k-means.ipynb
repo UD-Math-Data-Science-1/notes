{
 "cells": [
  {
   "cell_type": "markdown",
   "id": "84447675",
   "metadata": {},
   "source": [
    "# k-means\n",
    "\n",
    "The $k$-means algorithm is one of the best-known and most widely used clustering methods, although it has some serious limitations and drawbacks. \n",
    "\n",
    "Given a sample matrix $\\bfX$ with $n$ rows $\\bfx_i$, the algorithm divides the sample points into disjoint sets $C_1,\\ldots,C_k$, where $k$ is a preselected hyperparameter. Cluster $j$ has a **centroid** $\\bfmu_j$, which is the mean of the points in $C_j$. Define the **inertia** of $C_j$ as \n",
    "\n",
    "$$\n",
    "I_j = \\sum_{\\bfx\\in C_j} \\norm{ \\bfx - \\bfmu_j }_2^2.\n",
    "$$\n",
    "\n",
    "The goal of the algorithm is to choose the clusters in order to minimize the total inertia,\n",
    "\n",
    "$$\n",
    "I = \\sum_{j=1}^k I_j.\n",
    "$$\n",
    "\n",
    "<!-- For any cluster, its centroid is the point that minimizes the inertia of the cluster. Suppose that $C_j$ is split into two parts $A$ and $B$ that have centroids $\\bfmu_A$ and $\\bfmu_B$. Those centroids minimize the inertias of the subclusters. Hence, \n",
    "\n",
    "$$\n",
    "\\sum_{\\bfx\\in A} \\norm{ \\bfx - \\bfmu_A }^2 + \\sum_{\\bfx\\in B} \\norm{ \\bfx - \\bfmu_B }^2 \n",
    "\\le  \\sum_{\\bfx\\in A} \\norm{ \\bfx - \\bfmu_j }^2 + \\sum_{\\bfx\\in B} \\norm{ \\bfx - \\bfmu_j}^2  = I_j. \n",
    "$$\n",
    "\n",
    "We conclude that splitting a cluster will make the total inertia decrease. In fact, if each sample point is put into its own cluster, the inertia is 0.  -->\n",
    "\n",
    "::::{prf:example}\n",
    ":label: example-k-means-inertia\n",
    "Let $k=2$. Given the values $-3,-2,-1,2,5,7$, we might cluster $\\{-3,-2,-1\\}$ and $\\{2,5,7\\}$. The total inertia is then\n",
    "\n",
    "$$\n",
    "\\left[  (-3+2)^2 + (-2+2)^2 + (-1+2)^2   \\right]  + \\left[  \\bigl(2-\\tfrac{14}{3}\\bigr)^2 + \\bigl(5-\\tfrac{14}{3}\\bigr)^2 + \\bigl(7-\\tfrac{14}{3}\\bigr)^2   \\right] = 2 + \\frac{124}{9} = 15.78.\n",
    "$$\n",
    "\n",
    "If we instead cluster as $\\{-3,-2,-1,2\\}$ and $\\{5,7\\}$, then the total inertia is \n",
    "\n",
    "$$\n",
    "\\left[  (-3+1)^2 + (-2+1)^2 + (-1+1)^2  + (2+1)^2 \\right]  + \\left[   (5-6)^2 + (7-6)^2   \\right] = 14 + 2 = 16.\n",
    "$$\n",
    "::::\n",
    "\n",
    "Finding the minimum inertia among all possible $k$-clusterings is an infeasible problem to solve exactly at any practical size. Instead, the approach is to iteratively improve from a starting clustering.\n",
    "\n",
    "## Lloyd's algorithm\n",
    "\n",
    "The standard method is known as **Lloyd's algorithm**. Starting with values for the $k$ centroids, there is an iteration consisting of two steps:\n",
    "\n",
    "* **Assignment** Each sample point is assigned to the cluster whose centroid is the nearest. (Ties are broken randomly.)\n",
    "* **Update** Recalculate the centroids based on the cluster assignments:\n",
    "\n",
    "$$\n",
    "\\bfmu_j^+ = \\frac{1}{|C_j|} \\sum_{\\bfx\\in C_j} \\bfx.\n",
    "$$\n",
    "\n",
    "The algorithm stops when the assignment step does not change any of the clusters. In practice, this almost always happens quickly. Here is a demonstration:\n",
    "\n",
    "```{raw} html\n",
    "<video width=640 controls src=\"../_static/kmeans_demo.mp4\"></video>\n",
    "```\n",
    "\n",
    "While Lloyd's algorithm will find a local minimum of total inertia, in the sense that small changes cannot decrease it, there is no guarantee of converging to the global minimum.\n",
    "\n",
    "## Practical issues\n",
    "\n",
    "* **Initialization**. The performance of $k$-means depends a great deal on the initial set of centroids. Traditionally, the centroids were chosen as random members of the sample set, but better/more reliable heuristics, such as *$k$-means++*, have since become more dominant. \n",
    "* **Multiple runs**. All the initialization methods include an element of randomness, and since the Lloyd algorithm usually converges quickly, it is often run with multiple instances of the initialization, and the run with the lowest inertia is kept.\n",
    "* **Selection of $k$**. The algorithm treats $k$ as a hyperparameter. Occam's Razor dictates preferring smaller values to large ones. There are many suggestions on how to find the choice that gives the most \"bang for the buck.\"\n",
    "* **Distance metric**. The Lloyd algorithm often fails to converge for norms other than the 2-norm, and must be modified if another norm is preferred.\n",
    "* **Shape effects**. Because of the dependence on the norm, the inertia criterion disfavors long, skinny clusters and clusters of unequal dispersion. Basically, it wants to find spherical blobs (as defined by the metric) of roughly equal size.\n",
    "\n",
    "## Toy example\n",
    "\n",
    "Let's regenerate the blobs from the previous section."
   ]
  },
  {
   "cell_type": "code",
   "execution_count": 1,
   "id": "dc135368",
   "metadata": {},
   "outputs": [
    {
     "data": {
      "image/png": "[encoded data removed]",
      "text/plain": [
       "<Figure size 402.375x360 with 1 Axes>"
      ]
     },
     "metadata": {
      "filenames": {
       "image/png": "/Users/driscoll/Dropbox/class/267/notes/_build/jupyter_execute/clustering/k-means_1_0.png"
      },
      "needs_background": "light"
     },
     "output_type": "display_data"
    }
   ],
   "source": [
    "import pandas as pd\n",
    "import seaborn as sns\n",
    "from sklearn.datasets import make_blobs\n",
    "X,y = make_blobs(\n",
    "    n_samples=[40,30,30],\n",
    "    centers=[[-2,3],[3,1.5],[2,-2]],\n",
    "    cluster_std=[0.5,0.9,1.5],\n",
    "    random_state = 19716\n",
    "    )\n",
    "blobs = pd.DataFrame({\"x1\":X[:,0],\"x2\":X[:,1],\"class\":y})\n",
    "sns.relplot(data=blobs,x=\"x1\",y=\"x2\",hue=\"class\");"
   ]
  },
  {
   "cell_type": "markdown",
   "id": "9dfdbaf5",
   "metadata": {},
   "source": [
    "Now we try $k$-means with $k=3$."
   ]
  },
  {
   "cell_type": "code",
   "execution_count": 2,
   "id": "baabd4a4",
   "metadata": {},
   "outputs": [
    {
     "data": {
      "text/html": [
       "<div>\n",
       "<style scoped>\n",
       "    .dataframe tbody tr th:only-of-type {\n",
       "        vertical-align: middle;\n",
       "    }\n",
       "\n",
       "    .dataframe tbody tr th {\n",
       "        vertical-align: top;\n",
       "    }\n",
       "\n",
       "    .dataframe thead th {\n",
       "        text-align: right;\n",
       "    }\n",
       "</style>\n",
       "<table border=\"1\" class=\"dataframe\">\n",
       "  <thead>\n",
       "    <tr style=\"text-align: right;\">\n",
       "      <th></th>\n",
       "      <th>x1</th>\n",
       "      <th>x2</th>\n",
       "      <th>class</th>\n",
       "      <th>km3</th>\n",
       "    </tr>\n",
       "  </thead>\n",
       "  <tbody>\n",
       "    <tr>\n",
       "      <th>0</th>\n",
       "      <td>1.328556</td>\n",
       "      <td>-3.036395</td>\n",
       "      <td>2</td>\n",
       "      <td>2</td>\n",
       "    </tr>\n",
       "    <tr>\n",
       "      <th>1</th>\n",
       "      <td>-1.815547</td>\n",
       "      <td>2.585740</td>\n",
       "      <td>0</td>\n",
       "      <td>1</td>\n",
       "    </tr>\n",
       "    <tr>\n",
       "      <th>2</th>\n",
       "      <td>3.387517</td>\n",
       "      <td>2.686224</td>\n",
       "      <td>1</td>\n",
       "      <td>0</td>\n",
       "    </tr>\n",
       "    <tr>\n",
       "      <th>3</th>\n",
       "      <td>2.348428</td>\n",
       "      <td>1.652876</td>\n",
       "      <td>1</td>\n",
       "      <td>0</td>\n",
       "    </tr>\n",
       "    <tr>\n",
       "      <th>4</th>\n",
       "      <td>-1.266983</td>\n",
       "      <td>2.792976</td>\n",
       "      <td>0</td>\n",
       "      <td>1</td>\n",
       "    </tr>\n",
       "    <tr>\n",
       "      <th>5</th>\n",
       "      <td>2.489843</td>\n",
       "      <td>0.682657</td>\n",
       "      <td>2</td>\n",
       "      <td>0</td>\n",
       "    </tr>\n",
       "    <tr>\n",
       "      <th>6</th>\n",
       "      <td>1.775981</td>\n",
       "      <td>1.854831</td>\n",
       "      <td>1</td>\n",
       "      <td>0</td>\n",
       "    </tr>\n",
       "    <tr>\n",
       "      <th>7</th>\n",
       "      <td>2.702074</td>\n",
       "      <td>2.752115</td>\n",
       "      <td>1</td>\n",
       "      <td>0</td>\n",
       "    </tr>\n",
       "  </tbody>\n",
       "</table>\n",
       "</div>"
      ],
      "text/plain": [
       "         x1        x2  class  km3\n",
       "0  1.328556 -3.036395      2    2\n",
       "1 -1.815547  2.585740      0    1\n",
       "2  3.387517  2.686224      1    0\n",
       "3  2.348428  1.652876      1    0\n",
       "4 -1.266983  2.792976      0    1\n",
       "5  2.489843  0.682657      2    0\n",
       "6  1.775981  1.854831      1    0\n",
       "7  2.702074  2.752115      1    0"
      ]
     },
     "execution_count": 2,
     "metadata": {},
     "output_type": "execute_result"
    }
   ],
   "source": [
    "from sklearn.cluster import KMeans\n",
    "from sklearn.metrics import silhouette_samples\n",
    "\n",
    "km = KMeans(n_clusters=3)\n",
    "km.fit(X)\n",
    "\n",
    "blobs[\"km3\"] = km.predict(X)\n",
    "blobs.head(8)"
   ]
  },
  {
   "cell_type": "markdown",
   "id": "566e6a5d",
   "metadata": {},
   "source": [
    "Here we show the points using color to indicate cluster membership and size for the silhouette value:"
   ]
  },
  {
   "cell_type": "code",
   "execution_count": 3,
   "id": "443d2bea",
   "metadata": {},
   "outputs": [
    {
     "data": {
      "image/png": "[encoded data removed]",
      "text/plain": [
       "<Figure size 418.25x360 with 1 Axes>"
      ]
     },
     "metadata": {
      "filenames": {
       "image/png": "/Users/driscoll/Dropbox/class/267/notes/_build/jupyter_execute/clustering/k-means_5_0.png"
      },
      "needs_background": "light"
     },
     "output_type": "display_data"
    }
   ],
   "source": [
    "blobs[\"sil\"] = silhouette_samples(X,blobs[\"km3\"])\n",
    "sns.relplot(data=blobs,x=\"x1\",y=\"x2\",hue=\"km3\",size=blobs[\"sil\"]);"
   ]
  },
  {
   "cell_type": "markdown",
   "id": "ba84a871",
   "metadata": {},
   "source": [
    "Intuitively, this is at least comparable to the original classification. The silhouettes show a modest reduction for the better clusters, but improvement for the problematic one."
   ]
  },
  {
   "cell_type": "code",
   "execution_count": 4,
   "id": "e74f0d22",
   "metadata": {},
   "outputs": [
    {
     "name": "stdout",
     "output_type": "stream",
     "text": [
      "scores for original classes:\n",
      "class\n",
      "2    0.364877\n",
      "1    0.537780\n",
      "0    0.810844\n",
      "Name: sil, dtype: float64\n",
      "\n",
      "scores for 3 k-means clusters:\n",
      "km3\n",
      "2    0.401121\n",
      "0    0.493170\n",
      "1    0.793501\n",
      "Name: sil, dtype: float64\n"
     ]
    }
   ],
   "source": [
    "print(\"scores for original classes:\")\n",
    "print(blobs.groupby(\"class\")[\"sil\"].mean().sort_values())\n",
    "\n",
    "print(\"\\nscores for 3 k-means clusters:\")\n",
    "print(blobs.groupby(\"km3\")[\"sil\"].mean().sort_values())"
   ]
  },
  {
   "cell_type": "markdown",
   "id": "4ff0d5bc",
   "metadata": {},
   "source": [
    "What happens when we ask for just $k=2$ clusters?"
   ]
  },
  {
   "cell_type": "code",
   "execution_count": 5,
   "id": "51c4d576",
   "metadata": {},
   "outputs": [
    {
     "data": {
      "image/png": "[encoded data removed]",
      "text/plain": [
       "<Figure size 418.25x360 with 1 Axes>"
      ]
     },
     "metadata": {
      "filenames": {
       "image/png": "/Users/driscoll/Dropbox/class/267/notes/_build/jupyter_execute/clustering/k-means_9_0.png"
      },
      "needs_background": "light"
     },
     "output_type": "display_data"
    }
   ],
   "source": [
    "km = KMeans(n_clusters=2)\n",
    "km.fit(X)\n",
    "\n",
    "blobs[\"km2\"] = km.predict(X)\n",
    "blobs[\"sil\"] = silhouette_samples(X,blobs[\"km2\"])\n",
    "sns.relplot(data=blobs,x=\"x1\",y=\"x2\",hue=\"km2\",size=blobs[\"sil\"]);"
   ]
  },
  {
   "cell_type": "markdown",
   "id": "fbb99310",
   "metadata": {},
   "source": [
    "This result is arguably superior to the reference classification."
   ]
  },
  {
   "cell_type": "code",
   "execution_count": 6,
   "id": "4e3f66b0",
   "metadata": {},
   "outputs": [
    {
     "name": "stdout",
     "output_type": "stream",
     "text": [
      "scores for 2 k-means clusters:\n"
     ]
    },
    {
     "data": {
      "text/plain": [
       "km2\n",
       "1    0.456869\n",
       "0    0.813098\n",
       "Name: sil, dtype: float64"
      ]
     },
     "execution_count": 6,
     "metadata": {},
     "output_type": "execute_result"
    }
   ],
   "source": [
    "print(\"scores for 2 k-means clusters:\")\n",
    "blobs.groupby(\"km2\")[\"sil\"].mean().sort_values()"
   ]
  },
  {
   "cell_type": "markdown",
   "id": "9e02584d",
   "metadata": {},
   "source": [
    "The outlier points in the generated blobs are perhaps best seen as noisy examples, at least for the purposes of clustering. \n",
    "\n",
    "## Case study: digits\n",
    "\n",
    "We can return to the handwriting recognition dataset. Again we keep only the samples labeled 4, 5, or 6."
   ]
  },
  {
   "cell_type": "code",
   "execution_count": 7,
   "id": "b5feeb6d",
   "metadata": {},
   "outputs": [],
   "source": [
    "from sklearn import datasets\n",
    "digits = datasets.load_digits(as_frame=True)[\"frame\"]\n",
    "keep = digits[\"target\"].isin([4,5,6])\n",
    "digits = digits[keep]\n",
    "\n",
    "X = digits.drop(\"target\",axis=\"columns\")\n",
    "y = digits[\"target\"]"
   ]
  },
  {
   "cell_type": "markdown",
   "id": "59e89ebc",
   "metadata": {},
   "source": [
    "We fit 3 clusters to the feature matrix:"
   ]
  },
  {
   "cell_type": "code",
   "execution_count": 8,
   "id": "9bad12b1",
   "metadata": {},
   "outputs": [
    {
     "data": {
      "text/html": [
       "<div>\n",
       "<style scoped>\n",
       "    .dataframe tbody tr th:only-of-type {\n",
       "        vertical-align: middle;\n",
       "    }\n",
       "\n",
       "    .dataframe tbody tr th {\n",
       "        vertical-align: top;\n",
       "    }\n",
       "\n",
       "    .dataframe thead th {\n",
       "        text-align: right;\n",
       "    }\n",
       "</style>\n",
       "<table border=\"1\" class=\"dataframe\">\n",
       "  <thead>\n",
       "    <tr style=\"text-align: right;\">\n",
       "      <th></th>\n",
       "      <th>target</th>\n",
       "      <th>kmeans3</th>\n",
       "    </tr>\n",
       "  </thead>\n",
       "  <tbody>\n",
       "    <tr>\n",
       "      <th>4</th>\n",
       "      <td>4</td>\n",
       "      <td>2</td>\n",
       "    </tr>\n",
       "    <tr>\n",
       "      <th>5</th>\n",
       "      <td>5</td>\n",
       "      <td>1</td>\n",
       "    </tr>\n",
       "    <tr>\n",
       "      <th>6</th>\n",
       "      <td>6</td>\n",
       "      <td>0</td>\n",
       "    </tr>\n",
       "    <tr>\n",
       "      <th>14</th>\n",
       "      <td>4</td>\n",
       "      <td>2</td>\n",
       "    </tr>\n",
       "    <tr>\n",
       "      <th>15</th>\n",
       "      <td>5</td>\n",
       "      <td>1</td>\n",
       "    </tr>\n",
       "    <tr>\n",
       "      <th>16</th>\n",
       "      <td>6</td>\n",
       "      <td>0</td>\n",
       "    </tr>\n",
       "    <tr>\n",
       "      <th>24</th>\n",
       "      <td>4</td>\n",
       "      <td>2</td>\n",
       "    </tr>\n",
       "    <tr>\n",
       "      <th>25</th>\n",
       "      <td>5</td>\n",
       "      <td>1</td>\n",
       "    </tr>\n",
       "  </tbody>\n",
       "</table>\n",
       "</div>"
      ],
      "text/plain": [
       "    target  kmeans3\n",
       "4        4        2\n",
       "5        5        1\n",
       "6        6        0\n",
       "14       4        2\n",
       "15       5        1\n",
       "16       6        0\n",
       "24       4        2\n",
       "25       5        1"
      ]
     },
     "execution_count": 8,
     "metadata": {},
     "output_type": "execute_result"
    }
   ],
   "source": [
    "km = KMeans(n_clusters=3)\n",
    "km.fit(X)\n",
    "digits[\"kmeans3\"] = km.predict(X)\n",
    "digits[[\"target\",\"kmeans3\"]].head(8)"
   ]
  },
  {
   "cell_type": "markdown",
   "id": "7cb120bf",
   "metadata": {},
   "source": [
    "The adjusted Rand index suggests that we have reproduced the classification well:"
   ]
  },
  {
   "cell_type": "code",
   "execution_count": 9,
   "id": "2eb2fdb0",
   "metadata": {},
   "outputs": [
    {
     "name": "stdout",
     "output_type": "stream",
     "text": [
      "ARI: 0.9617847446531459\n"
     ]
    }
   ],
   "source": [
    "from sklearn.metrics import adjusted_rand_score\n",
    "ARI = adjusted_rand_score(y,digits[\"kmeans3\"])\n",
    "print(\"ARI:\",ARI)"
   ]
  },
  {
   "cell_type": "markdown",
   "id": "f8995b99",
   "metadata": {},
   "source": [
    "However, that conclusion benefits from our prior knowledge. What if we did not know how many clusters to look for? One option is to try many different values of $k$, keeping track of some metric. Here, we record the final total inertia and the mean silhouette score."
   ]
  },
  {
   "cell_type": "code",
   "execution_count": 10,
   "id": "1e4431ba",
   "metadata": {},
   "outputs": [
    {
     "data": {
      "text/html": [
       "<div>\n",
       "<style scoped>\n",
       "    .dataframe tbody tr th:only-of-type {\n",
       "        vertical-align: middle;\n",
       "    }\n",
       "\n",
       "    .dataframe tbody tr th {\n",
       "        vertical-align: top;\n",
       "    }\n",
       "\n",
       "    .dataframe thead th {\n",
       "        text-align: right;\n",
       "    }\n",
       "</style>\n",
       "<table border=\"1\" class=\"dataframe\">\n",
       "  <thead>\n",
       "    <tr style=\"text-align: right;\">\n",
       "      <th></th>\n",
       "      <th>k</th>\n",
       "      <th>inertia</th>\n",
       "      <th>mean silhouette</th>\n",
       "    </tr>\n",
       "  </thead>\n",
       "  <tbody>\n",
       "    <tr>\n",
       "      <th>0</th>\n",
       "      <td>2.0</td>\n",
       "      <td>446601.467620</td>\n",
       "      <td>0.226800</td>\n",
       "    </tr>\n",
       "    <tr>\n",
       "      <th>1</th>\n",
       "      <td>3.0</td>\n",
       "      <td>360547.755566</td>\n",
       "      <td>0.251904</td>\n",
       "    </tr>\n",
       "    <tr>\n",
       "      <th>2</th>\n",
       "      <td>4.0</td>\n",
       "      <td>325210.020058</td>\n",
       "      <td>0.245860</td>\n",
       "    </tr>\n",
       "    <tr>\n",
       "      <th>3</th>\n",
       "      <td>5.0</td>\n",
       "      <td>297558.275700</td>\n",
       "      <td>0.234854</td>\n",
       "    </tr>\n",
       "    <tr>\n",
       "      <th>4</th>\n",
       "      <td>6.0</td>\n",
       "      <td>280563.005048</td>\n",
       "      <td>0.188237</td>\n",
       "    </tr>\n",
       "    <tr>\n",
       "      <th>5</th>\n",
       "      <td>7.0</td>\n",
       "      <td>269773.137148</td>\n",
       "      <td>0.169136</td>\n",
       "    </tr>\n",
       "    <tr>\n",
       "      <th>6</th>\n",
       "      <td>8.0</td>\n",
       "      <td>259294.113156</td>\n",
       "      <td>0.186038</td>\n",
       "    </tr>\n",
       "  </tbody>\n",
       "</table>\n",
       "</div>"
      ],
      "text/plain": [
       "     k        inertia  mean silhouette\n",
       "0  2.0  446601.467620         0.226800\n",
       "1  3.0  360547.755566         0.251904\n",
       "2  4.0  325210.020058         0.245860\n",
       "3  5.0  297558.275700         0.234854\n",
       "4  6.0  280563.005048         0.188237\n",
       "5  7.0  269773.137148         0.169136\n",
       "6  8.0  259294.113156         0.186038"
      ]
     },
     "execution_count": 10,
     "metadata": {},
     "output_type": "execute_result"
    }
   ],
   "source": [
    "from sklearn.metrics import silhouette_score\n",
    "results = pd.DataFrame({\"k\":[],\"inertia\":[],\"mean silhouette\":[]})\n",
    "for k in range(2,9):\n",
    "    km = KMeans(n_clusters=k)\n",
    "    km.fit(X)\n",
    "\n",
    "    I = km.inertia_\n",
    "    sil = silhouette_score(X,km.predict(X))\n",
    "    results = results.append(pd.DataFrame({\"k\":[k],\"inertia\":[I],\"mean silhouette\":[sil]}),ignore_index=True)\n",
    "results"
   ]
  },
  {
   "cell_type": "markdown",
   "id": "c0f49801",
   "metadata": {},
   "source": [
    "The inertia continues to decrease as $k$ increases, although the rate of decrease slows somewhat. But the silhouette score is maximized at $k=3$, which could be considered a reason to choose 3 clusters."
   ]
  }
 ],
 "metadata": {
  "jupytext": {
   "text_representation": {
    "extension": ".md",
    "format_name": "myst",
    "format_version": 0.13,
    "jupytext_version": "1.11.5"
   }
  },
  "kernelspec": {
   "display_name": "Python 3 (ipykernel)",
   "language": "python",
   "name": "python3"
  },
  "language_info": {
   "codemirror_mode": {
    "name": "ipython",
    "version": 3
   },
   "file_extension": ".py",
   "mimetype": "text/x-python",
   "name": "python",
   "nbconvert_exporter": "python",
   "pygments_lexer": "ipython3",
   "version": "3.8.8"
  },
  "source_map": [
   12,
   87,
   99,
   103,
   112,
   116,
   119,
   123,
   129,
   133,
   140,
   144,
   147,
   155,
   163,
   167,
   172,
   176,
   180,
   184,
   195
  ]
 },
 "nbformat": 4,
 "nbformat_minor": 5
}