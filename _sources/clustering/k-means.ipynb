{
 "cells": [
  {
   "cell_type": "markdown",
   "id": "e43e28e2",
   "metadata": {},
   "source": [
    "# k-means\n",
    "\n",
    "The $k$-means algorithm is one of the best-known and most widely used clustering methods, although it has some serious limitations and drawbacks. \n",
    "\n",
    "Given a sample matrix $\\bfX$ with $n$ rows $\\bfx_i$, the algorithm divides the sample points into disjoint sets $C_1,\\ldots,C_k$, where $k$ is a preselected hyperparameter. Cluster $j$ has a **centroid** $\\bfmu_j$, which is the mean of the points in $C_j$. Define the **inertia** of $C_j$ as \n",
    "\n",
    "$$\n",
    "I_j = \\sum_{\\bfx\\in C_j} \\norm{ \\bfx - \\bfmu_j }_2^2.\n",
    "$$\n",
    "\n",
    "The goal of the algorithm is to choose the clusters in order to minimize the total inertia,\n",
    "\n",
    "$$\n",
    "I = \\sum_{j=1}^k I_j.\n",
    "$$\n",
    "\n",
    "<!-- For any cluster, its centroid is the point that minimizes the inertia of the cluster. Suppose that $C_j$ is split into two parts $A$ and $B$ that have centroids $\\bfmu_A$ and $\\bfmu_B$. Those centroids minimize the inertias of the subclusters. Hence, \n",
    "\n",
    "$$\n",
    "\\sum_{\\bfx\\in A} \\norm{ \\bfx - \\bfmu_A }^2 + \\sum_{\\bfx\\in B} \\norm{ \\bfx - \\bfmu_B }^2 \n",
    "\\le  \\sum_{\\bfx\\in A} \\norm{ \\bfx - \\bfmu_j }^2 + \\sum_{\\bfx\\in B} \\norm{ \\bfx - \\bfmu_j}^2  = I_j. \n",
    "$$\n",
    "\n",
    "We conclude that splitting a cluster will make the total inertia decrease. In fact, if each sample point is put into its own cluster, the inertia is 0.  -->\n",
    "\n",
    "::::{prf:example}\n",
    ":label: example-k-means-inertia\n",
    "Let $k=2$. Given the values $-3,-2,-1,2,5,7$, we might cluster $\\{-3,-2,-1\\}$ and $\\{2,5,7\\}$. The total inertia is then\n",
    "\n",
    "$$\n",
    "\\left[  (-3+2)^2 + (-2+2)^2 + (-1+2)^2   \\right]  + \\left[  \\bigl(2-\\tfrac{14}{3}\\bigr)^2 + \\bigl(5-\\tfrac{14}{3}\\bigr)^2 + \\bigl(7-\\tfrac{14}{3}\\bigr)^2   \\right] = 2 + \\frac{124}{9} = 15.78.\n",
    "$$\n",
    "\n",
    "If we instead cluster as $\\{-3,-2,-1,2\\}$ and $\\{5,7\\}$, then the total inertia is \n",
    "\n",
    "$$\n",
    "\\left[  (-3+1)^2 + (-2+1)^2 + (-1+1)^2  + (2+1)^2 \\right]  + \\left[   (5-6)^2 + (7-6)^2   \\right] = 14 + 2 = 16.\n",
    "$$\n",
    "::::\n",
    "\n",
    "Finding the minimum inertia among all possible $k$-clusterings is an infeasible problem to solve exactly at any practical size. Instead, the approach is to iteratively improve from a starting clustering.\n",
    "\n",
    "## Lloyd's algorithm\n",
    "\n",
    "The standard method is known as **Lloyd's algorithm**. Starting with values for the $k$ centroids, there is an iteration consisting of two steps:\n",
    "\n",
    "* **Assignment** Each sample point is assigned to the cluster whose centroid is the nearest. (Ties are broken randomly.)\n",
    "* **Update** Recalculate the centroids based on the cluster assignments:\n",
    "\n",
    "$$\n",
    "\\bfmu_j^+ = \\frac{1}{|C_j|} \\sum_{\\bfx\\in C_j} \\bfx.\n",
    "$$\n",
    "\n",
    "The algorithm stops when the assignment step does not change any of the clusters. In practice, this almost always happens quickly. Here is a demonstration:\n",
    "\n",
    "```{raw} html\n",
    "<video width=640 controls src=\"../_static/kmeans_demo.mp4\"></video>\n",
    "```\n",
    "\n",
    "While Lloyd's algorithm will find a local minimum of total inertia, in the sense that small changes cannot decrease it, there is no guarantee of converging to the global minimum.\n",
    "\n",
    "## Practical issues\n",
    "\n",
    "* **Initialization**. The performance of $k$-means depends a great deal on the initial set of centroids. Traditionally, the centroids were chosen as random members of the sample set, but better/more reliable heuristics, such as *$k$-means++*, have since become more dominant. \n",
    "* **Multiple runs**. All the initialization methods include an element of randomness, and since the Lloyd algorithm usually converges quickly, it is often run with multiple instances of the initialization, and the run with the lowest inertia is kept.\n",
    "* **Selection of $k$**. The algorithm treats $k$ as a hyperparameter. Occam's Razor dictates preferring smaller values to large ones. There are many suggestions on how to find the choice that gives the most \"bang for the buck.\"\n",
    "* **Distance metric**. The Lloyd algorithm often fails to converge for norms other than the 2-norm, and must be modified if another norm is preferred.\n",
    "* **Shape effects**. Because of the dependence on the norm, the inertia criterion disfavors long, skinny clusters and clusters of unequal dispersion. Basically, it wants to find spherical blobs (as defined by the metric) of roughly equal size.\n",
    "\n",
    "## Toy example\n",
    "\n",
    "Let's generate some test blobs."
   ]
  },
  {
   "cell_type": "code",
   "execution_count": 1,
   "id": "17c21661",
   "metadata": {},
   "outputs": [
    {
     "data": {
      "image/png": "[encoded data removed]",
      "text/plain": [
       "<Figure size 402.375x360 with 1 Axes>"
      ]
     },
     "metadata": {
      "filenames": {
       "image/png": "/home/driscoll/Dropbox/class/267/notes/_build/jupyter_execute/clustering/k-means_1_0.png"
      },
      "needs_background": "light"
     },
     "output_type": "display_data"
    }
   ],
   "source": [
    "import pandas as pd\n",
    "import seaborn as sns\n",
    "from sklearn.datasets import make_blobs\n",
    "X,y = make_blobs(\n",
    "    n_samples=[60,50,40],\n",
    "    centers=[[-2,3],[3,1.5],[1,-3]],\n",
    "    cluster_std=[0.5,0.9,1.2],\n",
    "    random_state = 19716\n",
    "    )\n",
    "blobs = pd.DataFrame({\"x1\":X[:,0],\"x2\":X[:,1],\"class\":y})\n",
    "sns.relplot(data=blobs,x=\"x1\",y=\"x2\",hue=\"class\");"
   ]
  },
  {
   "cell_type": "markdown",
   "id": "80918c50",
   "metadata": {},
   "source": [
    "We start $k$-means with $k=2$ clusters, not presupposing prior knowledge of how the samples were created."
   ]
  },
  {
   "cell_type": "code",
   "execution_count": 2,
   "id": "a270c6d5",
   "metadata": {},
   "outputs": [
    {
     "data": {
      "text/plain": [
       "KMeans(n_clusters=2)"
      ]
     },
     "execution_count": 2,
     "metadata": {},
     "output_type": "execute_result"
    }
   ],
   "source": [
    "from sklearn.cluster import KMeans\n",
    "from sklearn.metrics import silhouette_samples,silhouette_score\n",
    "\n",
    "km2 = KMeans(n_clusters=2)\n",
    "km2.fit(X)"
   ]
  },
  {
   "cell_type": "markdown",
   "id": "28c4e4e2",
   "metadata": {},
   "source": [
    "The fitted clustering object can tell how many iterations were required, and what the final inertia and cluster centroids are:"
   ]
  },
  {
   "cell_type": "code",
   "execution_count": 3,
   "id": "c4134f4f",
   "metadata": {},
   "outputs": [
    {
     "name": "stdout",
     "output_type": "stream",
     "text": [
      "k=2 took 3 iterations\n",
      "\n",
      "final inertia: 710.0834960683221\n",
      "\n",
      "cluster centroids:\n",
      "[[ 2.01902057 -0.69722874]\n",
      " [-2.01977462  2.86247767]]\n"
     ]
    }
   ],
   "source": [
    "print(\"k=2 took\",km2.n_iter_,\"iterations\")\n",
    "print(\"\\nfinal inertia:\",km2.inertia_)\n",
    "print(\"\\ncluster centroids:\")\n",
    "print(km2.cluster_centers_)"
   ]
  },
  {
   "cell_type": "markdown",
   "id": "26ad5ac4",
   "metadata": {},
   "source": [
    "Every type of clustering object has a `labels_` property that is a list of cluster index values, indicating the cluster membership of each sample."
   ]
  },
  {
   "cell_type": "code",
   "execution_count": 4,
   "id": "9faa8bdd",
   "metadata": {},
   "outputs": [
    {
     "name": "stdout",
     "output_type": "stream",
     "text": [
      "cluster assignments:\n",
      "0      0\n",
      "1      0\n",
      "2      0\n",
      "3      1\n",
      "4      0\n",
      "      ..\n",
      "145    1\n",
      "146    0\n",
      "147    1\n",
      "148    1\n",
      "149    0\n",
      "Name: km2, Length: 150, dtype: int32\n"
     ]
    }
   ],
   "source": [
    "print(\"cluster assignments:\")\n",
    "blobs[\"km2\"] = km2.labels_\n",
    "print(blobs[\"km2\"])"
   ]
  },
  {
   "cell_type": "markdown",
   "id": "d7f0ba9f",
   "metadata": {},
   "source": [
    "There is also a `predict` method that can make cluster assignments for arbitrary points in feature space. In k-means, this just tells you which centroid is closest."
   ]
  },
  {
   "cell_type": "code",
   "execution_count": 5,
   "id": "bd398d96",
   "metadata": {},
   "outputs": [
    {
     "data": {
      "text/plain": [
       "array([1, 0], dtype=int32)"
      ]
     },
     "execution_count": 5,
     "metadata": {},
     "output_type": "execute_result"
    }
   ],
   "source": [
    "km2.predict([ [-2,-1],[1,2] ])"
   ]
  },
  {
   "cell_type": "markdown",
   "id": "89eaacac",
   "metadata": {},
   "source": [
    "Next, we calculate the silhouettes for the samples and plot the blobs using color to show cluster membership and dot size to indicate the silhouette value."
   ]
  },
  {
   "cell_type": "code",
   "execution_count": 6,
   "id": "210203ce",
   "metadata": {},
   "outputs": [
    {
     "data": {
      "image/png": "[encoded data removed]",
      "text/plain": [
       "<Figure size 418.25x360 with 1 Axes>"
      ]
     },
     "metadata": {
      "filenames": {
       "image/png": "/home/driscoll/Dropbox/class/267/notes/_build/jupyter_execute/clustering/k-means_11_0.png"
      },
      "needs_background": "light"
     },
     "output_type": "display_data"
    }
   ],
   "source": [
    "blobs[\"sil2\"] = silhouette_samples(X,blobs[\"km2\"])\n",
    "sns.relplot(data=blobs,x=\"x1\",y=\"x2\",hue=\"km2\",size=blobs[\"sil2\"]);"
   ]
  },
  {
   "cell_type": "markdown",
   "id": "23447b9a",
   "metadata": {},
   "source": [
    "Here is a summary of the silhouettes:"
   ]
  },
  {
   "cell_type": "code",
   "execution_count": 7,
   "id": "c27a3bc1",
   "metadata": {},
   "outputs": [
    {
     "name": "stdout",
     "output_type": "stream",
     "text": [
      "overall silhouette score: 0.5876658515793556\n"
     ]
    },
    {
     "data": {
      "text/html": [
       "<div>\n",
       "<style scoped>\n",
       "    .dataframe tbody tr th:only-of-type {\n",
       "        vertical-align: middle;\n",
       "    }\n",
       "\n",
       "    .dataframe tbody tr th {\n",
       "        vertical-align: top;\n",
       "    }\n",
       "\n",
       "    .dataframe thead th {\n",
       "        text-align: right;\n",
       "    }\n",
       "</style>\n",
       "<table border=\"1\" class=\"dataframe\">\n",
       "  <thead>\n",
       "    <tr style=\"text-align: right;\">\n",
       "      <th></th>\n",
       "      <th>count</th>\n",
       "      <th>mean</th>\n",
       "      <th>std</th>\n",
       "      <th>min</th>\n",
       "      <th>25%</th>\n",
       "      <th>50%</th>\n",
       "      <th>75%</th>\n",
       "      <th>max</th>\n",
       "    </tr>\n",
       "    <tr>\n",
       "      <th>km2</th>\n",
       "      <th></th>\n",
       "      <th></th>\n",
       "      <th></th>\n",
       "      <th></th>\n",
       "      <th></th>\n",
       "      <th></th>\n",
       "      <th></th>\n",
       "      <th></th>\n",
       "    </tr>\n",
       "  </thead>\n",
       "  <tbody>\n",
       "    <tr>\n",
       "      <th>0</th>\n",
       "      <td>89.0</td>\n",
       "      <td>0.427552</td>\n",
       "      <td>0.101098</td>\n",
       "      <td>0.068622</td>\n",
       "      <td>0.392936</td>\n",
       "      <td>0.440536</td>\n",
       "      <td>0.500103</td>\n",
       "      <td>0.559821</td>\n",
       "    </tr>\n",
       "    <tr>\n",
       "      <th>1</th>\n",
       "      <td>61.0</td>\n",
       "      <td>0.821274</td>\n",
       "      <td>0.097362</td>\n",
       "      <td>0.148612</td>\n",
       "      <td>0.819975</td>\n",
       "      <td>0.839082</td>\n",
       "      <td>0.856779</td>\n",
       "      <td>0.878424</td>\n",
       "    </tr>\n",
       "  </tbody>\n",
       "</table>\n",
       "</div>"
      ],
      "text/plain": [
       "     count      mean       std       min       25%       50%       75%  \\\n",
       "km2                                                                      \n",
       "0     89.0  0.427552  0.101098  0.068622  0.392936  0.440536  0.500103   \n",
       "1     61.0  0.821274  0.097362  0.148612  0.819975  0.839082  0.856779   \n",
       "\n",
       "          max  \n",
       "km2            \n",
       "0    0.559821  \n",
       "1    0.878424  "
      ]
     },
     "execution_count": 7,
     "metadata": {},
     "output_type": "execute_result"
    }
   ],
   "source": [
    "print(\"overall silhouette score:\",blobs[\"sil2\"].mean())\n",
    "blobs.groupby(\"km2\")[\"sil2\"].describe()"
   ]
  },
  {
   "cell_type": "markdown",
   "id": "297d24e1",
   "metadata": {},
   "source": [
    "It's intuitively clear that cluster 0 is more tightly packed than cluster 1, and that comparison is borne out by the silhouettes.\n",
    "\n",
    "Next, we repeat the computation for $k=3$ clusters."
   ]
  },
  {
   "cell_type": "code",
   "execution_count": 8,
   "id": "6b4b5ddb",
   "metadata": {},
   "outputs": [
    {
     "name": "stdout",
     "output_type": "stream",
     "text": [
      "inertia for k=3: 203.30412157574372\n",
      "\n",
      "overall silhouette score: 0.6998700192151341\n",
      "\n",
      "silhouette statistics:\n"
     ]
    },
    {
     "data": {
      "text/html": [
       "<div>\n",
       "<style scoped>\n",
       "    .dataframe tbody tr th:only-of-type {\n",
       "        vertical-align: middle;\n",
       "    }\n",
       "\n",
       "    .dataframe tbody tr th {\n",
       "        vertical-align: top;\n",
       "    }\n",
       "\n",
       "    .dataframe thead th {\n",
       "        text-align: right;\n",
       "    }\n",
       "</style>\n",
       "<table border=\"1\" class=\"dataframe\">\n",
       "  <thead>\n",
       "    <tr style=\"text-align: right;\">\n",
       "      <th></th>\n",
       "      <th>count</th>\n",
       "      <th>mean</th>\n",
       "      <th>std</th>\n",
       "      <th>min</th>\n",
       "      <th>25%</th>\n",
       "      <th>50%</th>\n",
       "      <th>75%</th>\n",
       "      <th>max</th>\n",
       "    </tr>\n",
       "    <tr>\n",
       "      <th>km3</th>\n",
       "      <th></th>\n",
       "      <th></th>\n",
       "      <th></th>\n",
       "      <th></th>\n",
       "      <th></th>\n",
       "      <th></th>\n",
       "      <th></th>\n",
       "      <th></th>\n",
       "    </tr>\n",
       "  </thead>\n",
       "  <tbody>\n",
       "    <tr>\n",
       "      <th>0</th>\n",
       "      <td>60.0</td>\n",
       "      <td>0.815912</td>\n",
       "      <td>0.051718</td>\n",
       "      <td>0.550642</td>\n",
       "      <td>0.795554</td>\n",
       "      <td>0.828146</td>\n",
       "      <td>0.847986</td>\n",
       "      <td>0.869913</td>\n",
       "    </tr>\n",
       "    <tr>\n",
       "      <th>1</th>\n",
       "      <td>39.0</td>\n",
       "      <td>0.608026</td>\n",
       "      <td>0.126090</td>\n",
       "      <td>0.252421</td>\n",
       "      <td>0.583289</td>\n",
       "      <td>0.645840</td>\n",
       "      <td>0.692839</td>\n",
       "      <td>0.724903</td>\n",
       "    </tr>\n",
       "    <tr>\n",
       "      <th>2</th>\n",
       "      <td>51.0</td>\n",
       "      <td>0.633584</td>\n",
       "      <td>0.147521</td>\n",
       "      <td>0.143121</td>\n",
       "      <td>0.554019</td>\n",
       "      <td>0.688014</td>\n",
       "      <td>0.738117</td>\n",
       "      <td>0.765192</td>\n",
       "    </tr>\n",
       "  </tbody>\n",
       "</table>\n",
       "</div>"
      ],
      "text/plain": [
       "     count      mean       std       min       25%       50%       75%  \\\n",
       "km3                                                                      \n",
       "0     60.0  0.815912  0.051718  0.550642  0.795554  0.828146  0.847986   \n",
       "1     39.0  0.608026  0.126090  0.252421  0.583289  0.645840  0.692839   \n",
       "2     51.0  0.633584  0.147521  0.143121  0.554019  0.688014  0.738117   \n",
       "\n",
       "          max  \n",
       "km3            \n",
       "0    0.869913  \n",
       "1    0.724903  \n",
       "2    0.765192  "
      ]
     },
     "execution_count": 8,
     "metadata": {},
     "output_type": "execute_result"
    }
   ],
   "source": [
    "km3 = KMeans(n_clusters=3)\n",
    "km3.fit(X)\n",
    "print(\"inertia for k=3:\",km3.inertia_)\n",
    "\n",
    "blobs[\"km3\"] = km3.labels_\n",
    "blobs[\"sil3\"] = silhouette_samples(X,blobs[\"km3\"])\n",
    "print(\"\\noverall silhouette score:\",blobs[\"sil3\"].mean())\n",
    "print(\"\\nsilhouette statistics:\")\n",
    "blobs.groupby(\"km3\")[\"sil3\"].describe()"
   ]
  },
  {
   "cell_type": "markdown",
   "id": "3d892681",
   "metadata": {},
   "source": [
    "Here we show the points using color to indicate cluster membership and size for the silhouette value:"
   ]
  },
  {
   "cell_type": "code",
   "execution_count": 9,
   "id": "089192b5",
   "metadata": {},
   "outputs": [
    {
     "data": {
      "image/png": "[encoded data removed]",
      "text/plain": [
       "<Figure size 418.25x360 with 1 Axes>"
      ]
     },
     "metadata": {
      "filenames": {
       "image/png": "/home/driscoll/Dropbox/class/267/notes/_build/jupyter_execute/clustering/k-means_17_0.png"
      },
      "needs_background": "light"
     },
     "output_type": "display_data"
    }
   ],
   "source": [
    "blobs[\"sil3\"] = silhouette_samples(X,blobs[\"km3\"])\n",
    "sns.relplot(data=blobs,x=\"x1\",y=\"x2\",hue=\"km3\",size=blobs[\"sil3\"]);"
   ]
  },
  {
   "cell_type": "markdown",
   "id": "ed8de3fb",
   "metadata": {},
   "source": [
    "Intuitively, this is at least comparable to the original classification. The silhouettes show a modest reduction for the better clusters, but improvement for the problematic one."
   ]
  },
  {
   "cell_type": "code",
   "execution_count": 10,
   "id": "5345ca58",
   "metadata": {},
   "outputs": [
    {
     "name": "stdout",
     "output_type": "stream",
     "text": [
      "inertia for k=4: 164.41597001588985\n",
      "\n",
      "overall silhouette score: 0.592866414828605\n",
      "\n",
      "silhouette statistics:\n"
     ]
    },
    {
     "data": {
      "text/html": [
       "<div>\n",
       "<style scoped>\n",
       "    .dataframe tbody tr th:only-of-type {\n",
       "        vertical-align: middle;\n",
       "    }\n",
       "\n",
       "    .dataframe tbody tr th {\n",
       "        vertical-align: top;\n",
       "    }\n",
       "\n",
       "    .dataframe thead th {\n",
       "        text-align: right;\n",
       "    }\n",
       "</style>\n",
       "<table border=\"1\" class=\"dataframe\">\n",
       "  <thead>\n",
       "    <tr style=\"text-align: right;\">\n",
       "      <th></th>\n",
       "      <th>count</th>\n",
       "      <th>mean</th>\n",
       "      <th>std</th>\n",
       "      <th>min</th>\n",
       "      <th>25%</th>\n",
       "      <th>50%</th>\n",
       "      <th>75%</th>\n",
       "      <th>max</th>\n",
       "    </tr>\n",
       "    <tr>\n",
       "      <th>km4</th>\n",
       "      <th></th>\n",
       "      <th></th>\n",
       "      <th></th>\n",
       "      <th></th>\n",
       "      <th></th>\n",
       "      <th></th>\n",
       "      <th></th>\n",
       "      <th></th>\n",
       "    </tr>\n",
       "  </thead>\n",
       "  <tbody>\n",
       "    <tr>\n",
       "      <th>0</th>\n",
       "      <td>60.0</td>\n",
       "      <td>0.794159</td>\n",
       "      <td>0.062096</td>\n",
       "      <td>0.464228</td>\n",
       "      <td>0.771340</td>\n",
       "      <td>0.810883</td>\n",
       "      <td>0.830889</td>\n",
       "      <td>0.855336</td>\n",
       "    </tr>\n",
       "    <tr>\n",
       "      <th>1</th>\n",
       "      <td>29.0</td>\n",
       "      <td>0.377035</td>\n",
       "      <td>0.157174</td>\n",
       "      <td>0.030664</td>\n",
       "      <td>0.273385</td>\n",
       "      <td>0.426251</td>\n",
       "      <td>0.504303</td>\n",
       "      <td>0.556805</td>\n",
       "    </tr>\n",
       "    <tr>\n",
       "      <th>2</th>\n",
       "      <td>39.0</td>\n",
       "      <td>0.551024</td>\n",
       "      <td>0.160895</td>\n",
       "      <td>0.046713</td>\n",
       "      <td>0.533722</td>\n",
       "      <td>0.608902</td>\n",
       "      <td>0.658702</td>\n",
       "      <td>0.691462</td>\n",
       "    </tr>\n",
       "    <tr>\n",
       "      <th>3</th>\n",
       "      <td>22.0</td>\n",
       "      <td>0.402566</td>\n",
       "      <td>0.151978</td>\n",
       "      <td>-0.048902</td>\n",
       "      <td>0.326023</td>\n",
       "      <td>0.438774</td>\n",
       "      <td>0.520349</td>\n",
       "      <td>0.564896</td>\n",
       "    </tr>\n",
       "  </tbody>\n",
       "</table>\n",
       "</div>"
      ],
      "text/plain": [
       "     count      mean       std       min       25%       50%       75%  \\\n",
       "km4                                                                      \n",
       "0     60.0  0.794159  0.062096  0.464228  0.771340  0.810883  0.830889   \n",
       "1     29.0  0.377035  0.157174  0.030664  0.273385  0.426251  0.504303   \n",
       "2     39.0  0.551024  0.160895  0.046713  0.533722  0.608902  0.658702   \n",
       "3     22.0  0.402566  0.151978 -0.048902  0.326023  0.438774  0.520349   \n",
       "\n",
       "          max  \n",
       "km4            \n",
       "0    0.855336  \n",
       "1    0.556805  \n",
       "2    0.691462  \n",
       "3    0.564896  "
      ]
     },
     "execution_count": 10,
     "metadata": {},
     "output_type": "execute_result"
    }
   ],
   "source": [
    "km4 = KMeans(n_clusters=4)\n",
    "km4.fit(X)\n",
    "print(\"inertia for k=4:\",km4.inertia_)\n",
    "\n",
    "blobs[\"km4\"] = km4.labels_\n",
    "blobs[\"sil4\"] = silhouette_samples(X,blobs[\"km4\"])\n",
    "print(\"\\noverall silhouette score:\",blobs[\"sil4\"].mean())\n",
    "print(\"\\nsilhouette statistics:\")\n",
    "blobs.groupby(\"km4\")[\"sil4\"].describe()"
   ]
  },
  {
   "cell_type": "markdown",
   "id": "0c63df43",
   "metadata": {},
   "source": [
    "The outlier points in the generated blobs are perhaps best seen as noisy examples, at least for the purposes of clustering. \n",
    "\n",
    "## Case study: digits\n",
    "\n",
    "We can return to the handwriting recognition dataset. Again we keep only the samples labeled 4, 5, or 6."
   ]
  },
  {
   "cell_type": "code",
   "execution_count": 11,
   "id": "172089d8",
   "metadata": {},
   "outputs": [],
   "source": [
    "from sklearn import datasets\n",
    "digits = datasets.load_digits(as_frame=True)[\"frame\"]\n",
    "keep = digits[\"target\"].isin([4,5,6])\n",
    "digits = digits[keep]\n",
    "\n",
    "X = digits.drop(\"target\",axis=\"columns\")\n",
    "y = digits[\"target\"]"
   ]
  },
  {
   "cell_type": "markdown",
   "id": "c628b222",
   "metadata": {},
   "source": [
    "We fit 3 clusters to the feature matrix:"
   ]
  },
  {
   "cell_type": "code",
   "execution_count": 12,
   "id": "1631b212",
   "metadata": {},
   "outputs": [
    {
     "data": {
      "text/html": [
       "<div>\n",
       "<style scoped>\n",
       "    .dataframe tbody tr th:only-of-type {\n",
       "        vertical-align: middle;\n",
       "    }\n",
       "\n",
       "    .dataframe tbody tr th {\n",
       "        vertical-align: top;\n",
       "    }\n",
       "\n",
       "    .dataframe thead th {\n",
       "        text-align: right;\n",
       "    }\n",
       "</style>\n",
       "<table border=\"1\" class=\"dataframe\">\n",
       "  <thead>\n",
       "    <tr style=\"text-align: right;\">\n",
       "      <th></th>\n",
       "      <th>target</th>\n",
       "      <th>kmeans3</th>\n",
       "    </tr>\n",
       "  </thead>\n",
       "  <tbody>\n",
       "    <tr>\n",
       "      <th>4</th>\n",
       "      <td>4</td>\n",
       "      <td>1</td>\n",
       "    </tr>\n",
       "    <tr>\n",
       "      <th>5</th>\n",
       "      <td>5</td>\n",
       "      <td>0</td>\n",
       "    </tr>\n",
       "    <tr>\n",
       "      <th>6</th>\n",
       "      <td>6</td>\n",
       "      <td>2</td>\n",
       "    </tr>\n",
       "    <tr>\n",
       "      <th>14</th>\n",
       "      <td>4</td>\n",
       "      <td>1</td>\n",
       "    </tr>\n",
       "    <tr>\n",
       "      <th>15</th>\n",
       "      <td>5</td>\n",
       "      <td>0</td>\n",
       "    </tr>\n",
       "    <tr>\n",
       "      <th>16</th>\n",
       "      <td>6</td>\n",
       "      <td>2</td>\n",
       "    </tr>\n",
       "    <tr>\n",
       "      <th>24</th>\n",
       "      <td>4</td>\n",
       "      <td>1</td>\n",
       "    </tr>\n",
       "    <tr>\n",
       "      <th>25</th>\n",
       "      <td>5</td>\n",
       "      <td>0</td>\n",
       "    </tr>\n",
       "    <tr>\n",
       "      <th>26</th>\n",
       "      <td>6</td>\n",
       "      <td>2</td>\n",
       "    </tr>\n",
       "  </tbody>\n",
       "</table>\n",
       "</div>"
      ],
      "text/plain": [
       "    target  kmeans3\n",
       "4        4        1\n",
       "5        5        0\n",
       "6        6        2\n",
       "14       4        1\n",
       "15       5        0\n",
       "16       6        2\n",
       "24       4        1\n",
       "25       5        0\n",
       "26       6        2"
      ]
     },
     "execution_count": 12,
     "metadata": {},
     "output_type": "execute_result"
    }
   ],
   "source": [
    "km = KMeans(n_clusters=3)\n",
    "km.fit(X)\n",
    "digits[\"kmeans3\"] = km.labels_\n",
    "digits[[\"target\",\"kmeans3\"]].head(9)"
   ]
  },
  {
   "cell_type": "markdown",
   "id": "68ad96f8",
   "metadata": {},
   "source": [
    "The adjusted Rand index suggests that we have reproduced the classification very well:"
   ]
  },
  {
   "cell_type": "code",
   "execution_count": 13,
   "id": "7330908f",
   "metadata": {},
   "outputs": [
    {
     "name": "stdout",
     "output_type": "stream",
     "text": [
      "ARI: 0.9617847446531459\n"
     ]
    }
   ],
   "source": [
    "from sklearn.metrics import adjusted_rand_score\n",
    "ARI = adjusted_rand_score(y,digits[\"kmeans3\"])\n",
    "print(\"ARI:\",ARI)"
   ]
  },
  {
   "cell_type": "markdown",
   "id": "75849994",
   "metadata": {},
   "source": [
    "However, that conclusion benefits from our prior knowledge. What if we did not know how many clusters to look for? Let's look over a range of $k$ values, recording the final total inertia and the mean silhouette score for each"
   ]
  },
  {
   "cell_type": "code",
   "execution_count": 14,
   "id": "f8026183",
   "metadata": {},
   "outputs": [
    {
     "data": {
      "text/html": [
       "<div>\n",
       "<style scoped>\n",
       "    .dataframe tbody tr th:only-of-type {\n",
       "        vertical-align: middle;\n",
       "    }\n",
       "\n",
       "    .dataframe tbody tr th {\n",
       "        vertical-align: top;\n",
       "    }\n",
       "\n",
       "    .dataframe thead th {\n",
       "        text-align: right;\n",
       "    }\n",
       "</style>\n",
       "<table border=\"1\" class=\"dataframe\">\n",
       "  <thead>\n",
       "    <tr style=\"text-align: right;\">\n",
       "      <th></th>\n",
       "      <th>k</th>\n",
       "      <th>inertia</th>\n",
       "      <th>mean silhouette</th>\n",
       "    </tr>\n",
       "  </thead>\n",
       "  <tbody>\n",
       "    <tr>\n",
       "      <th>0</th>\n",
       "      <td>2</td>\n",
       "      <td>446601.467620</td>\n",
       "      <td>0.226800</td>\n",
       "    </tr>\n",
       "    <tr>\n",
       "      <th>1</th>\n",
       "      <td>3</td>\n",
       "      <td>360547.755566</td>\n",
       "      <td>0.251904</td>\n",
       "    </tr>\n",
       "    <tr>\n",
       "      <th>2</th>\n",
       "      <td>4</td>\n",
       "      <td>325232.684483</td>\n",
       "      <td>0.245855</td>\n",
       "    </tr>\n",
       "    <tr>\n",
       "      <th>3</th>\n",
       "      <td>5</td>\n",
       "      <td>297525.087772</td>\n",
       "      <td>0.235199</td>\n",
       "    </tr>\n",
       "    <tr>\n",
       "      <th>4</th>\n",
       "      <td>6</td>\n",
       "      <td>280632.563349</td>\n",
       "      <td>0.188324</td>\n",
       "    </tr>\n",
       "    <tr>\n",
       "      <th>5</th>\n",
       "      <td>7</td>\n",
       "      <td>270388.673287</td>\n",
       "      <td>0.170556</td>\n",
       "    </tr>\n",
       "  </tbody>\n",
       "</table>\n",
       "</div>"
      ],
      "text/plain": [
       "   k        inertia  mean silhouette\n",
       "0  2  446601.467620         0.226800\n",
       "1  3  360547.755566         0.251904\n",
       "2  4  325232.684483         0.245855\n",
       "3  5  297525.087772         0.235199\n",
       "4  6  280632.563349         0.188324\n",
       "5  7  270388.673287         0.170556"
      ]
     },
     "execution_count": 14,
     "metadata": {},
     "output_type": "execute_result"
    }
   ],
   "source": [
    "results = []\n",
    "for k in range(2,8):\n",
    "    km = KMeans(n_clusters=k,random_state=0)\n",
    "    km.fit(X)\n",
    "\n",
    "    I = km.inertia_\n",
    "    sil = silhouette_score(X,km.labels_)\n",
    "    results.append([k,I,sil])\n",
    "\n",
    "pd.DataFrame(results,columns=[\"k\",\"inertia\",\"mean silhouette\"])"
   ]
  },
  {
   "cell_type": "markdown",
   "id": "f9f706a3",
   "metadata": {},
   "source": [
    "The inertia continues to decrease as $k$ increases, although the rate of decrease slows somewhat. The silhouette score is maximized at $k=3$, which could be considered a reason to choose 3 clusters, although the difference between 3 and 4 clusters is not large.\n",
    "\n",
    "<div style=\"max-width:400px\"><div style=\"position:relative;padding-bottom:71.25%\"><iframe id=\"kaltura_player\" src=\"https://cdnapisec.kaltura.com/p/2358381/sp/235838100/embedIframeJs/uiconf_id/43030021/partner_id/2358381?iframeembed=true&playerId=kaltura_player&entry_id=1_8qjp92ut&flashvars[streamerType]=auto&amp;flashvars[localizationCode]=en&amp;flashvars[leadWithHTML5]=true&amp;flashvars[sideBarContainer.plugin]=true&amp;flashvars[sideBarContainer.position]=left&amp;flashvars[sideBarContainer.clickToClose]=true&amp;flashvars[chapters.plugin]=true&amp;flashvars[chapters.layout]=vertical&amp;flashvars[chapters.thumbnailRotator]=false&amp;flashvars[streamSelector.plugin]=true&amp;flashvars[EmbedPlayer.SpinnerTarget]=videoHolder&amp;flashvars[dualScreen.plugin]=true&amp;flashvars[Kaltura.addCrossoriginToIframe]=true&amp;&wid=1_h4xcxibr\" width=\"400\" height=\"285\" allowfullscreen webkitallowfullscreen mozAllowFullScreen allow=\"autoplay *; fullscreen *; encrypted-media *\" sandbox=\"allow-forms allow-same-origin allow-scripts allow-top-navigation allow-pointer-lock allow-popups allow-modals allow-orientation-lock allow-popups-to-escape-sandbox allow-presentation allow-top-navigation-by-user-activation\" frameborder=\"0\" title=\"Kaltura Player\" style=\"position:absolute;top:0;left:0;width:100%;height:100%\"></iframe></div></div>"
   ]
  }
 ],
 "metadata": {
  "jupytext": {
   "text_representation": {
    "extension": ".md",
    "format_name": "myst",
    "format_version": 0.13,
    "jupytext_version": "1.11.5"
   }
  },
  "kernelspec": {
   "display_name": "Python 3 (ipykernel)",
   "language": "python",
   "name": "python3"
  },
  "language_info": {
   "codemirror_mode": {
    "name": "ipython",
    "version": 3
   },
   "file_extension": ".py",
   "mimetype": "text/x-python",
   "name": "python",
   "nbconvert_exporter": "python",
   "pygments_lexer": "ipython3",
   "version": "3.8.8"
  },
  "source_map": [
   12,
   87,
   99,
   103,
   109,
   113,
   118,
   122,
   126,
   130,
   132,
   136,
   139,
   143,
   146,
   152,
   162,
   166,
   169,
   173,
   183,
   191,
   199,
   203,
   208,
   212,
   216,
   220,
   231
  ]
 },
 "nbformat": 4,
 "nbformat_minor": 5
}