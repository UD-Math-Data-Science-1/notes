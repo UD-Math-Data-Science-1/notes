{
 "cells": [
  {
   "cell_type": "markdown",
   "id": "e2327518",
   "metadata": {},
   "source": [
    "# Similarity and distance\n",
    "\n",
    "Given an $n\\times d$ feature matrix, we want to define disjoint subsets of the $\\bfx_i$ such that the samples within a cluster are more similar to one another than they are to members of other clusters.\n",
    "\n",
    "The first decision we have to make is how to measure *similarity*. When a distance metric is available, we consider similarity to be inversely related to distance. For example, if we have defined a distance function between pairs of vectors as $\\dist(\\bfx,\\bfy)$, then we could define similarity as \n",
    "\n",
    "$$\n",
    "\\simil(\\bfx,\\bfy) = \\exp \\left[ - \\frac{\\dist(\\bfx,\\bfy)^2}{2\\sigma^2}  \\right].\n",
    "$$\n",
    "\n",
    "A distance of zero implies a similarity of 1, while the similarity tends to zero as distance increases. The scaling parameter $\\sigma$ controls the rate of drop; for instance, when the distance is $\\sigma$, the similarity is $e^{-1/2}\\approx 0.6$. To create a distance metric from a similarity measure, we could invert the functional relationship above, provided that similarity is scaled to lie between 0 and 1.\n",
    "\n",
    "We already have the distance metric\n",
    "\n",
    "$$\n",
    "\\dist(\\bfx,\\bfy) = \\norm{\\bfx-\\bfy}\n",
    "$$\n",
    "\n",
    "for any vector norm. It satisfies the three properties\n",
    "\n",
    "1. $\\dist(\\bfx,\\bfy)=0$ if and only if $\\bfx=\\bfy$,\n",
    "2. $\\dist(\\bfx,\\bfy) = \\dist(\\bfy,\\bfx)$, and\n",
    "3. $\\dist(\\bfx,\\bfy) \\le \\dist(\\bfx,\\bfz) + \\dist(\\bfz,\\bfy)$.\n",
    "\n",
    "These are considered the essential axioms of a distance metric. From them, you can also deduce that the distance function is always nonnegative. \n",
    "\n",
    "The term *distance metric* isn't always used carefully to mean a function satisfying the three axioms, however, and a distance function derived from a similarity function may violate them. \n",
    "\n",
    "One other proper distance metric is **angular distance**. Generalizing from 2D and 3D vector geometry, we define the angle $\\theta$ between vectors $\\bfu$ and $\\bfv$ in $\\real^d$ by\n",
    "\n",
    "$$\n",
    "\\cos(\\theta) = \\frac{\\mathbf{u}^T\\mathbf{v}}{\\twonorm{\\mathbf{u}} \\, \\twonorm{\\mathbf{v}}}.\n",
    "$$\n",
    "\n",
    "Then the quantity $\\theta/\\pi$ is a distance metric. Because arccos is a relatively expensive computational operation, though, it's more common to use **cosine similarity**, defined as $\\cos(\\theta)$, and the related **cosine distance** $\\tfrac{1}{2}[1-\\cos(\\theta)]$, even though the latter does not satisfy the triangle inequality.\n",
    "\n",
    "Categorical variables can be included in distance measures. An ordinal variable is easily converted to equally spaced numerical values, which then may get a standard treatment. Nominal features are often compared using **Hamming distance**, which is just the total number of features that have different values in the two vectors.\n",
    "\n",
    "## Probability distributions\n",
    "\n",
    "A **discrete probability distribution** is a vector $\\bfx$ whose components are nonnegative and satisfying $\\onenorm{\\bfx}=1$. Such a vector can be interpreted as frequencies or probabilities of observing different classes. One information-theoretic distance metric for probability distributions is **information radius**, defined as\n",
    "\n",
    "$$\n",
    "\\operatorname{IR}(\\bfu,\\bfu) = \\frac{1}{2} \\left[ \\operatorname{KL}(\\bfu,\\bfz) + \\operatorname{KL}(\\bfv,\\bfz) \\right],\n",
    "$$\n",
    "\n",
    "where $\\bfz=(\\bfu+\\bfv)/2$ and KL is the *Kullback–Leibler diveregence*\n",
    "\n",
    "$$\n",
    "\\operatorname{KL}(\\bfx,\\bfy) = \\sum_{i=1}^d x_i \\log\\left( \\frac{x_i}{y_i} \\right).\n",
    "$$\n",
    "\n",
    "Typically one uses a base-2 logarithm, in which case IR ranges between 0 and 1. Note that where $0\\cdot \\log(0)$ is encountered in the KL definition, it equals zero, in accordance with its limiting value from calculus.\n",
    "\n",
    "::::{prf:example}\n",
    ":label: example-similarity-IR\n",
    "\n",
    "<!-- Let $\\bfu=[1,0]$ and $\\bfv=[0,1]$. Then $\\bfz=(\\bfu+\\bfv)/2=[\\tfrac{1}{2},\\tfrac{1}{2}]$, and\n",
    "\n",
    "$$\n",
    "\\operatorname{KL}(\\bfu,\\bfz)  &= 1\\cdot \\log \\left( \\frac{1}{1/2} \\right) + 0 \\cdot \\log \\left( \\frac{0}{1/2} \\right) = 1,\n",
    "\\operatorname{KL}(\\bfv,\\bfz)  &= 0 \\cdot \\log \\left( \\frac{0}{1/2} \\right) + 1 \\cdot \\log \\left( \\frac{1}{1/2} \\right) = 1,\n",
    "\\operatorname{IR}(\\bfu,\\bfu)  &= \\frac{1}{2} \\left[ 1 + 1 \\right] = 1. \n",
    "$$\n",
    "\n",
    "Not surprisingly, these distribution vectors are as far apart as you can get.  -->\n",
    "\n",
    "Let $\\bfu=\\frac{1}{4}[1,3]$ and $\\bfv=\\frac{1}{4}[3,1]$. Then $\\bfz=(\\bfu+\\bfv)/2=[\\tfrac{1}{2},\\tfrac{1}{2}]$, and\n",
    "\n",
    "$$\n",
    "\\operatorname{KL}(\\bfu,\\bfz)  &= \\tfrac{1}{4} \\cdot \\log \\left( \\frac{1/4}{1/2} \\right) + \\tfrac{3}{4} \\cdot \\log \\left( \\frac{3/4}{1/2} \\right) \\\\ &= \\tfrac{1}{4} \\cdot \\log \\left( \\frac{1}{2} \\right) + \\tfrac{3}{4} \\cdot \\log \\left( \\frac{3}{2} \\right) = -\\tfrac{1}{4} + \\tfrac{3}{4} (\\log(3)-1),\\\\\n",
    "\\operatorname{KL}(\\bfv,\\bfz)  &= \\tfrac{3}{4} (\\log(3)-1) -\\tfrac{1}{4},\\\\\n",
    "\\operatorname{IR}(\\bfu,\\bfu)  &= \\tfrac{3}{4} (\\log(3)-1) -\\tfrac{1}{4} \\approx 0.1887.\n",
    "$$\n",
    "\n",
    "::::\n",
    "\n",
    "\n",
    "## Distance matrix\n",
    "\n",
    "Given the feature vectors $\\bfx_1,\\ldots,\\bfx_n$, the pairwise distances between them can be summarized by the $n\\times n$ **distance matrix**\n",
    "\n",
    "$$\n",
    "D_{ij} = \\text{dist}(\\bfx_i,\\bfx_j).\n",
    "$$\n",
    "\n",
    "Note that $D_{ii}=0$ and $D_{ji}=D_{ij}$. Many clustering algorithms allow supplying $\\mathbf{D}$ in lieu of the feature vectors. One can similarly define a *similarity matrix* using the Gaussian kernel. An advantage of similarity is that small values can be rounded down to zero. This has little effect on the results, but can create big gains in execution time and memory. \n",
    "\n",
    "### Toy example\n",
    "\n",
    "Suppose we have sample points lying near the corners of a cube in 3D. This lets us compute an 8×8 distance matrix."
   ]
  },
  {
   "cell_type": "code",
   "execution_count": 1,
   "id": "f5bbd134",
   "metadata": {},
   "outputs": [
    {
     "data": {
      "text/plain": [
       "<AxesSubplot:>"
      ]
     },
     "execution_count": 1,
     "metadata": {},
     "output_type": "execute_result"
    },
    {
     "data": {
      "image/png": "[encoded data removed]",
      "text/plain": [
       "<Figure size 432x288 with 2 Axes>"
      ]
     },
     "metadata": {
      "filenames": {
       "image/png": "/Users/driscoll/Dropbox/class/267/notes/_build/jupyter_execute/clustering/similarity_1_1.png"
      },
      "needs_background": "light"
     },
     "output_type": "display_data"
    }
   ],
   "source": [
    "from sklearn.metrics import pairwise_distances\n",
    "import seaborn as sns\n",
    "\n",
    "X = [\n",
    "    [-1.01,-1,-.98],[1,-1.02,-1],[-.98,1,-.99],[1.01,1.01,-1], \n",
    "    [-1.01,-1.01,.99],[1.02,-1.02,1],[-.99,.98,.99],[1,.98,1], \n",
    "]\n",
    "\n",
    "D2 = pairwise_distances(X,metric=\"euclidean\")\n",
    "sns.heatmap(D2)"
   ]
  },
  {
   "cell_type": "markdown",
   "id": "4a5523f0",
   "metadata": {},
   "source": [
    "Note the symmetry. Changing to a different norm is trivial."
   ]
  },
  {
   "cell_type": "code",
   "execution_count": 2,
   "id": "3f664230",
   "metadata": {},
   "outputs": [
    {
     "data": {
      "text/plain": [
       "<AxesSubplot:>"
      ]
     },
     "execution_count": 2,
     "metadata": {},
     "output_type": "execute_result"
    },
    {
     "data": {
      "image/png": "[encoded data removed]",
      "text/plain": [
       "<Figure size 432x288 with 2 Axes>"
      ]
     },
     "metadata": {
      "filenames": {
       "image/png": "/Users/driscoll/Dropbox/class/267/notes/_build/jupyter_execute/clustering/similarity_3_1.png"
      },
      "needs_background": "light"
     },
     "output_type": "display_data"
    }
   ],
   "source": [
    "D1 = pairwise_distances(X,metric=\"manhattan\")\n",
    "sns.heatmap(D1)"
   ]
  },
  {
   "cell_type": "markdown",
   "id": "6a0cbafb",
   "metadata": {},
   "source": [
    "## Distance in high dimensions\n",
    "\n",
    "High-dimensional space [does not conform to some intuitions](https://homes.cs.washington.edu/~pedrod/papers/cacm12.pdf) formed by our experiences in 2D and 3D. For example, consider the unit hyperball $\\twonorm{\\bfx}\\le 1$ in $d$ dimensions. We'll take it as given that scaling a $d$-dimensional object by a number $r$ will scale the volume by $r^d$. Then for any $r<1$, the fraction of the unit hyperball's volume lying *outside* the smaller hyperball of fixed radius $r$ is $1-r^d$, which approaches $1$ as $d\\to \\infty$. That is, if we choose points randomly within a hyperball, almost all of them will be near the outer boundary. \n",
    "\n",
    "There are other, similar mathematical results demonstrating the unexpectedness of distances in high-dimensional space. These go under the colorful name *curse of dimensionality*, and the advice given in response to them is sometimes stated as, \"Don't use distance metrics in high-dimensional space.\" But that advice is easy to overstate. The curse is mainly about *randomly* chosen points, and it is correct that dimensions full of random, noisy, or irrelevant features will make many learning algorithms less effective. But if features carry useful information, adding them usually makes matters better, not worse."
   ]
  }
 ],
 "metadata": {
  "jupytext": {
   "text_representation": {
    "extension": ".md",
    "format_name": "myst",
    "format_version": 0.13,
    "jupytext_version": "1.11.5"
   }
  },
  "kernelspec": {
   "display_name": "Python 3.8.8 64-bit ('base': conda)",
   "language": "python",
   "name": "python3"
  },
  "language_info": {
   "codemirror_mode": {
    "name": "ipython",
    "version": 3
   },
   "file_extension": ".py",
   "mimetype": "text/x-python",
   "name": "python",
   "nbconvert_exporter": "python",
   "pygments_lexer": "ipython3",
   "version": "3.8.8"
  },
  "source_map": [
   12,
   106,
   117,
   121,
   124
  ]
 },
 "nbformat": 4,
 "nbformat_minor": 5
}