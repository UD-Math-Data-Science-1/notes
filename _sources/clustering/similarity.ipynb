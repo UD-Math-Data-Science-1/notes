{
 "cells": [
  {
   "cell_type": "markdown",
   "id": "73be2727",
   "metadata": {},
   "source": [
    "# Similarity and distance\n",
    "\n",
    "Given an $n\\times d$ feature matrix, we want to define disjoint subsets of the $\\bfx_i$ such that the samples within a subset, or **cluster**, are more similar to one another than they are to members of other clusters.\n",
    "\n",
    "The first decision we have to make is how to measure *similarity*. When a distance metric is available, we consider similarity to be inversely related to distance. For example, if we have defined a distance function between pairs of vectors as $\\dist(\\bfx,\\bfy)$, then we could define similarity as \n",
    "\n",
    "$$\n",
    "\\simil(\\bfx,\\bfy) = \\exp \\left[ - \\frac{\\dist(\\bfx,\\bfy)^2}{2\\sigma^2}  \\right].\n",
    "$$\n",
    "\n",
    "Thus a distance of zero implies a similarity of 1, while the similarity tends to zero as distance increases. The scaling parameter $\\sigma$ controls the rate of decrease; for instance, when the distance is $\\sigma$, the similarity is $e^{-1/2}\\approx 0.6$. \n",
    "\n",
    "There are ways to define similarity without making use of a distance, but we won't be using them.\n",
    "\n",
    "## Distance metrics\n",
    "\n",
    "````{prf:definition}\n",
    ":label: definition-similarity-metric\n",
    "A **distance metric** is a function dist on pairs of vectors that satisfies the following properties for all vectors:\n",
    "1. $\\dist(\\bfx,\\bfy)=0$ if and only if $\\bfx=\\bfy$,\n",
    "2. $\\dist(\\bfx,\\bfy) = \\dist(\\bfy,\\bfx)$, and\n",
    "3. $\\dist(\\bfx,\\bfy) \\le \\dist(\\bfx,\\bfz) + \\dist(\\bfz,\\bfy)$, known as the triangle inequality.\n",
    "````\n",
    "\n",
    "These are considered the essential axioms of a distance metric. From them, you can also deduce that the distance function is always nonnegative. The term *distance metric* isn't always used carefully to mean a function satisfying the three axioms, however, and some applications use a metric that does not satisfy the triangle inequality. \n",
    "\n",
    "We already have the distance metric\n",
    "\n",
    "$$\n",
    "\\dist(\\bfx,\\bfy) = \\norm{\\bfx-\\bfy}\n",
    "$$\n",
    "\n",
    "for any vector norm. \n",
    "\n",
    "Another proper distance metric is **angular distance**. Generalizing from 2D and 3D vector geometry, we define the angle $\\theta$ between vectors $\\bfu$ and $\\bfv$ in $\\real^d$ by\n",
    "\n",
    "::::{math}\n",
    ":label: eq-similarity-angle\n",
    "\\cos(\\theta) = \\frac{\\mathbf{u}^T\\mathbf{v}}{\\twonorm{\\mathbf{u}} \\, \\twonorm{\\mathbf{v}}}.\n",
    "::::\n",
    "\n",
    "Then the quantity $\\theta/\\pi$ is a distance metric. Because arccos is a relatively expensive computational operation, though, it's common to use **cosine similarity**, defined as $\\cos(\\theta)$, and the related **cosine distance** $\\tfrac{1}{2}[1-\\cos(\\theta)]$, even though the latter does not satisfy the triangle inequality.\n",
    "\n",
    "Categorical variables can be included in distance measures. An ordinal variable is easily converted to equally spaced numerical values, which then may get a standard treatment. Nominal features are often compared using **Hamming distance**, which is just the total number of features that have different values in the two vectors.\n",
    "\n",
    "## Probability distributions\n",
    "\n",
    "A **discrete probability distribution** is a vector $\\bfx$ whose components are nonnegative and satisfying $\\onenorm{\\bfx}=1$. Such a vector can be interpreted as frequencies or probabilities of observing different classes. \n",
    "\n",
    "We already encountered one way to measure the dissimilarity of two probability distributions, the *cross-entropy*:\n",
    "\n",
    "$$\n",
    "\\operatorname{CE}(\\bfx,\\bfy) = -\\sum_{i=1}^d x_i \\log(y_i). \n",
    "$$\n",
    "\n",
    "A related measure is the *Kullback–Leibler divergence*, or relative entropy,\n",
    "\n",
    "$$\n",
    "\\operatorname{KL}(\\bfx,\\bfy) = \\sum_{i=1}^d x_i \\log\\left( \\frac{x_i}{y_i} \\right).\n",
    "$$\n",
    "\n",
    "Whenever $0\\cdot \\log(0)$ is encountered in the CE or KL definitions, it equals zero, in accordance with its limiting value from calculus.\n",
    "\n",
    "Neither cross-entropy nor KL divergence are symmetric in their arguments. But there is a related value called **information radius**, defined as\n",
    "\n",
    "$$\n",
    "\\operatorname{IR}(\\bfu,\\bfv) = \\frac{1}{2} \\left[ \\operatorname{KL}(\\bfu,\\bfz) + \\operatorname{KL}(\\bfv,\\bfz) \\right]\n",
    "$$\n",
    "\n",
    "where $\\bfz=(\\bfu+\\bfv)/2$. Typically one uses a base-2 logarithm, in which case IR ranges between 0 and 1. The square root of IR is a distance metric.\n",
    "\n",
    "::::{prf:example}\n",
    ":label: example-similarity-IR\n",
    "\n",
    "<!-- Let $\\bfu=[1,0]$ and $\\bfv=[0,1]$. Then $\\bfz=(\\bfu+\\bfv)/2=[\\tfrac{1}{2},\\tfrac{1}{2}]$, and\n",
    "\n",
    "$$\n",
    "\\operatorname{KL}(\\bfu,\\bfz)  &= 1\\cdot \\log \\left( \\frac{1}{1/2} \\right) + 0 \\cdot \\log \\left( \\frac{0}{1/2} \\right) = 1,\n",
    "\\operatorname{KL}(\\bfv,\\bfz)  &= 0 \\cdot \\log \\left( \\frac{0}{1/2} \\right) + 1 \\cdot \\log \\left( \\frac{1}{1/2} \\right) = 1,\n",
    "\\operatorname{IR}(\\bfu,\\bfu)  &= \\frac{1}{2} \\left[ 1 + 1 \\right] = 1. \n",
    "$$\n",
    "\n",
    "Not surprisingly, these distribution vectors are as far apart as you can get.  -->\n",
    "\n",
    "Let $\\bfu=\\frac{1}{4}[1,3]$ and $\\bfv=\\frac{1}{4}[3,1]$. Then $\\bfz=(\\bfu+\\bfv)/2=[\\tfrac{1}{2},\\tfrac{1}{2}]$, and\n",
    "\n",
    "$$\n",
    "\\operatorname{KL}(\\bfu,\\bfz)  &= \\tfrac{1}{4} \\cdot \\log \\left( \\frac{1/4}{1/2} \\right) + \\tfrac{3}{4} \\cdot \\log \\left( \\frac{3/4}{1/2} \\right) \\\\ &= \\tfrac{1}{4} \\cdot \\log \\left( \\frac{1}{2} \\right) + \\tfrac{3}{4} \\cdot \\log \\left( \\frac{3}{2} \\right) = -\\tfrac{1}{4} + \\tfrac{3}{4} (\\log(3)-1),\\\\\n",
    "\\operatorname{KL}(\\bfv,\\bfz)  &= \\tfrac{3}{4} (\\log(3)-1) -\\tfrac{1}{4},\\\\\n",
    "\\operatorname{IR}(\\bfu,\\bfu)  &= \\tfrac{3}{4} (\\log(3)-1) -\\tfrac{1}{4} \\approx 0.1887.\n",
    "$$\n",
    "::::\n",
    "\n",
    "## Distance matrix\n",
    "\n",
    "Given the feature vectors $\\bfx_1,\\ldots,\\bfx_n$, the pairwise distances between them can be summarized by the $n\\times n$ **distance matrix**\n",
    "\n",
    "$$\n",
    "D_{ij} = \\text{dist}(\\bfx_i,\\bfx_j).\n",
    "$$\n",
    "\n",
    "Note that $D_{ii}=0$ and $D_{ji}=D_{ij}$. Many clustering algorithms allow supplying $\\mathbf{D}$ in lieu of the feature vectors.\n",
    "\n",
    "One can analogously define a *similarity matrix* using the Gaussian kernel. An advantage of similarity is that small values can be rounded down to zero. This has little effect on the results, but can create big gains in execution time and memory usage. \n",
    "\n",
    "### Toy example\n",
    "\n",
    "Suppose we have sample points lying near the corners of a cube in 3D. This lets us compute an 8×8 distance matrix."
   ]
  },
  {
   "cell_type": "code",
   "execution_count": 1,
   "id": "623cdc23",
   "metadata": {},
   "outputs": [
    {
     "data": {
      "image/png": "[encoded data removed]",
      "text/plain": [
       "<Figure size 432x288 with 2 Axes>"
      ]
     },
     "metadata": {
      "filenames": {
       "image/png": "/home/driscoll/Dropbox/class/267/notes/_build/jupyter_execute/clustering/similarity_1_0.png"
      },
      "needs_background": "light"
     },
     "output_type": "display_data"
    }
   ],
   "source": [
    "from sklearn.metrics import pairwise_distances\n",
    "import seaborn as sns\n",
    "\n",
    "X = [\n",
    "    [-1.01,-1,-.98],[1,-1.02,-1],[-.98,1,-.99],[1.01,1.01,-1], \n",
    "    [-1.01,-1.01,.99],[1.02,-1.02,1],[-.99,.98,.99],[1,.98,1], \n",
    "]\n",
    "\n",
    "D2 = pairwise_distances(X,metric=\"euclidean\")\n",
    "ax = sns.heatmap(D2)\n",
    "ax.set_aspect(1);"
   ]
  },
  {
   "cell_type": "markdown",
   "id": "763bdc35",
   "metadata": {},
   "source": [
    "Note the symmetry. Changing to a different norm is trivial."
   ]
  },
  {
   "cell_type": "code",
   "execution_count": 2,
   "id": "82db7f7a",
   "metadata": {},
   "outputs": [
    {
     "data": {
      "image/png": "[encoded data removed]",
      "text/plain": [
       "<Figure size 432x288 with 2 Axes>"
      ]
     },
     "metadata": {
      "filenames": {
       "image/png": "/home/driscoll/Dropbox/class/267/notes/_build/jupyter_execute/clustering/similarity_3_0.png"
      },
      "needs_background": "light"
     },
     "output_type": "display_data"
    }
   ],
   "source": [
    "D1 = pairwise_distances(X,metric=\"manhattan\")\n",
    "ax = sns.heatmap(D1)\n",
    "ax.set_aspect(1);"
   ]
  },
  {
   "cell_type": "markdown",
   "id": "ff5c1eeb",
   "metadata": {},
   "source": [
    "## Distance in high dimensions\n",
    "\n",
    "High-dimensional space [does not conform to some intuitions](https://homes.cs.washington.edu/~pedrod/papers/cacm12.pdf) formed by our experiences in 2D and 3D. For example, consider the unit hyperball $\\twonorm{\\bfx}\\le 1$ in $d$ dimensions. We'll take it as given that scaling a $d$-dimensional object by a number $r$ will scale the volume by $r^d$. Then for any $r<1$, the fraction of the unit hyperball's volume lying *outside* the smaller hyperball of fixed radius $r$ is $1-r^d$, which approaches $1$ as $d\\to \\infty$. That is, if we choose points randomly within a hyperball, almost all of them will be near the outer boundary. \n",
    "\n",
    "The volume of that unit hyperball also vanishes as $d\\to \\infty$. This is because the inequality\n",
    "\n",
    "$$\n",
    "x_1^2 + x_2^2 + \\cdots + x_d^2 \\le 1,\n",
    "$$\n",
    "\n",
    "where each $x_i$ is chosen randomly in $[-1,1]$, becomes ever harder to satisfy as the number of terms in the sum grows, and the relative occurrence of such points is increasingly rare.\n",
    "\n",
    "There are other, similar mathematical results demonstrating the unexpectedness of distances in high-dimensional space. These go under the colorful name *curse of dimensionality*, and the advice given in response to them is sometimes stated as, \"Don't use distance metrics in high-dimensional space.\" But that advice is easy to overstate. The curse is essentially about *randomly* chosen points, and it is correct that dimensions of noisy or irrelevant features will make many learning algorithms less effective. But if features carry useful information, adding them usually makes matters better, not worse.\n",
    "\n",
    "\n",
    "<div style=\"max-width:400px\"><div style=\"position:relative;padding-bottom:71.25%\"><iframe id=\"kaltura_player\" src=\"https://cdnapisec.kaltura.com/p/2358381/sp/235838100/embedIframeJs/uiconf_id/43030021/partner_id/2358381?iframeembed=true&playerId=kaltura_player&entry_id=1_ch3se4hk&flashvars[streamerType]=auto&amp;flashvars[localizationCode]=en&amp;flashvars[leadWithHTML5]=true&amp;flashvars[sideBarContainer.plugin]=true&amp;flashvars[sideBarContainer.position]=left&amp;flashvars[sideBarContainer.clickToClose]=true&amp;flashvars[chapters.plugin]=true&amp;flashvars[chapters.layout]=vertical&amp;flashvars[chapters.thumbnailRotator]=false&amp;flashvars[streamSelector.plugin]=true&amp;flashvars[EmbedPlayer.SpinnerTarget]=videoHolder&amp;flashvars[dualScreen.plugin]=true&amp;flashvars[Kaltura.addCrossoriginToIframe]=true&amp;&wid=1_x7vnms1y\" width=\"400\" height=\"285\" allowfullscreen webkitallowfullscreen mozAllowFullScreen allow=\"autoplay *; fullscreen *; encrypted-media *\" sandbox=\"allow-forms allow-same-origin allow-scripts allow-top-navigation allow-pointer-lock allow-popups allow-modals allow-orientation-lock allow-popups-to-escape-sandbox allow-presentation allow-top-navigation-by-user-activation\" frameborder=\"0\" title=\"Kaltura Player\" style=\"position:absolute;top:0;left:0;width:100%;height:100%\"></iframe></div></div>"
   ]
  }
 ],
 "metadata": {
  "jupytext": {
   "text_representation": {
    "extension": ".md",
    "format_name": "myst",
    "format_version": 0.13,
    "jupytext_version": "1.11.5"
   }
  },
  "kernelspec": {
   "display_name": "Python 3 (ipykernel)",
   "language": "python",
   "name": "python3"
  },
  "language_info": {
   "codemirror_mode": {
    "name": "ipython",
    "version": 3
   },
   "file_extension": ".py",
   "mimetype": "text/x-python",
   "name": "python",
   "nbconvert_exporter": "python",
   "pygments_lexer": "ipython3",
   "version": "3.9.12"
  },
  "source_map": [
   12,
   123,
   135,
   139,
   143
  ]
 },
 "nbformat": 4,
 "nbformat_minor": 5
}