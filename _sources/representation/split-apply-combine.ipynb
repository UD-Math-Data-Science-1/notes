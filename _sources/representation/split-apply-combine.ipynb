{
 "cells": [
  {
   "cell_type": "markdown",
   "metadata": {},
   "source": [
    "# Split–apply–combine\n",
    "\n",
    "One of the most important workflows in data analysis is called **split–apply–combine**:\n",
    "\n",
    "1. Split the data into groups based on a criterion (e.g., species, marital status).\n",
    "2. Apply operations to the data within each group.\n",
    "3. Combine the results from the groups.\n",
    "\n",
    "Of these, the *apply* step is usually the most complex. In pandas, the *combine* step is always implicitly done for you by the methods we will apply."
   ]
  },
  {
   "cell_type": "markdown",
   "metadata": {},
   "source": [
    "## Split\n",
    "\n",
    "Splitting a data frame into groups is best accomplished using the `groupby` method on it. "
   ]
  },
  {
   "cell_type": "code",
   "execution_count": 12,
   "metadata": {},
   "outputs": [
    {
     "data": {
      "text/html": [
       "<div>\n",
       "<style scoped>\n",
       "    .dataframe tbody tr th:only-of-type {\n",
       "        vertical-align: middle;\n",
       "    }\n",
       "\n",
       "    .dataframe tbody tr th {\n",
       "        vertical-align: top;\n",
       "    }\n",
       "\n",
       "    .dataframe thead th {\n",
       "        text-align: right;\n",
       "    }\n",
       "</style>\n",
       "<table border=\"1\" class=\"dataframe\">\n",
       "  <thead>\n",
       "    <tr style=\"text-align: right;\">\n",
       "      <th></th>\n",
       "      <th>continent</th>\n",
       "      <th>captial</th>\n",
       "      <th>area</th>\n",
       "    </tr>\n",
       "  </thead>\n",
       "  <tbody>\n",
       "    <tr>\n",
       "      <th>France</th>\n",
       "      <td>Europe</td>\n",
       "      <td>Paris</td>\n",
       "      <td>640.7</td>\n",
       "    </tr>\n",
       "    <tr>\n",
       "      <th>Netherlands</th>\n",
       "      <td>Europe</td>\n",
       "      <td>Amsterdam</td>\n",
       "      <td>41.9</td>\n",
       "    </tr>\n",
       "    <tr>\n",
       "      <th>Kenya</th>\n",
       "      <td>Africa</td>\n",
       "      <td>Nairobi</td>\n",
       "      <td>580.4</td>\n",
       "    </tr>\n",
       "    <tr>\n",
       "      <th>Ghana</th>\n",
       "      <td>Africa</td>\n",
       "      <td>Accra</td>\n",
       "      <td>239.6</td>\n",
       "    </tr>\n",
       "    <tr>\n",
       "      <th>Vietnam</th>\n",
       "      <td>Asia</td>\n",
       "      <td>Hanoi</td>\n",
       "      <td>331.7</td>\n",
       "    </tr>\n",
       "    <tr>\n",
       "      <th>Indonesia</th>\n",
       "      <td>Asia</td>\n",
       "      <td>Indonesia</td>\n",
       "      <td>1904.6</td>\n",
       "    </tr>\n",
       "  </tbody>\n",
       "</table>\n",
       "</div>"
      ],
      "text/plain": [
       "            continent    captial    area\n",
       "France         Europe      Paris   640.7\n",
       "Netherlands    Europe  Amsterdam    41.9\n",
       "Kenya          Africa    Nairobi   580.4\n",
       "Ghana          Africa      Accra   239.6\n",
       "Vietnam          Asia      Hanoi   331.7\n",
       "Indonesia        Asia  Indonesia  1904.6"
      ]
     },
     "execution_count": 12,
     "metadata": {},
     "output_type": "execute_result"
    }
   ],
   "source": [
    "import pandas as pd\n",
    "countries = pd.DataFrame(\n",
    "    [ \n",
    "        (\"Europe\",\"Paris\",640.7),\n",
    "        (\"Europe\",\"Amsterdam\",41.9),\n",
    "        (\"Africa\",\"Nairobi\",580.4),\n",
    "        (\"Africa\",\"Accra\",239.6),\n",
    "        (\"Asia\",\"Hanoi\",331.7),\n",
    "        (\"Asia\",\"Indonesia\",1904.6),\n",
    "    ],\n",
    "    index=[\"France\",\"Netherlands\",\"Kenya\",\"Ghana\",\"Vietnam\",\"Indonesia\"], \n",
    "    columns=[\"continent\",\"captial\",\"area\"]\n",
    ")\n",
    "countries"
   ]
  },
  {
   "cell_type": "code",
   "execution_count": 21,
   "metadata": {},
   "outputs": [],
   "source": [
    "bycont = countries.groupby(\"continent\")"
   ]
  },
  {
   "cell_type": "markdown",
   "metadata": {},
   "source": [
    "Nothing is actually done yet to the data frame. It's just set up for applying operations to each group."
   ]
  },
  {
   "cell_type": "code",
   "execution_count": 22,
   "metadata": {},
   "outputs": [
    {
     "name": "stdout",
     "output_type": "stream",
     "text": [
      "Africa\n",
      "      continent  captial   area\n",
      "Kenya    Africa  Nairobi  580.4\n",
      "Ghana    Africa    Accra  239.6\n",
      "\n",
      "Asia\n",
      "          continent    captial    area\n",
      "Vietnam        Asia      Hanoi   331.7\n",
      "Indonesia      Asia  Indonesia  1904.6\n",
      "\n",
      "Europe\n",
      "            continent    captial   area\n",
      "France         Europe      Paris  640.7\n",
      "Netherlands    Europe  Amsterdam   41.9\n",
      "\n"
     ]
    }
   ],
   "source": [
    "for name,group in bycont:\n",
    "    print(name)\n",
    "    print(group)\n",
    "    print()"
   ]
  },
  {
   "cell_type": "markdown",
   "metadata": {},
   "source": [
    "You can group by ranges of a quantitative value using `cut`."
   ]
  },
  {
   "cell_type": "code",
   "execution_count": 14,
   "metadata": {},
   "outputs": [
    {
     "name": "stdout",
     "output_type": "stream",
     "text": [
      "(0, 300]\n",
      "            continent    captial   area\n",
      "Netherlands    Europe  Amsterdam   41.9\n",
      "Ghana          Africa      Accra  239.6\n",
      "\n",
      "(300, 600]\n",
      "        continent  captial   area\n",
      "Kenya      Africa  Nairobi  580.4\n",
      "Vietnam      Asia    Hanoi  331.7\n",
      "\n",
      "(600, 900]\n",
      "       continent captial   area\n",
      "France    Europe   Paris  640.7\n",
      "\n",
      "(900, 2000]\n",
      "          continent    captial    area\n",
      "Indonesia      Asia  Indonesia  1904.6\n",
      "\n"
     ]
    }
   ],
   "source": [
    "cuts = pd.cut(countries[\"area\"],[0,300,600,900,2000])\n",
    "bysize = countries.groupby(cuts)\n",
    "for name,group in bysize:\n",
    "    print(name)\n",
    "    print(group)\n",
    "    print()"
   ]
  },
  {
   "cell_type": "markdown",
   "metadata": {},
   "source": [
    "## Apply\n",
    "\n",
    "The most complex step is applying operations to each group of data. There are three types of operations:\n",
    "\n",
    "* **Aggregation** refers to summarizing data by a single value, such as a sum or mean, or by a few values, such as value counts or quintiles.\n",
    "* **Transformation** refers to application of a mathematical operation to every data value, resulting in data indexed the same way as the original. For example, quantitative data might be transformed to lie in the interval $[0,1]$.\n",
    "* **Filtration** refers to inclusion/removal of a group based on a criterion, such as rejection of a group with too few members."
   ]
  },
  {
   "cell_type": "markdown",
   "metadata": {},
   "source": [
    "### Aggregation\n",
    "\n",
    "Many common operations are defined for aggregation."
   ]
  },
  {
   "cell_type": "code",
   "execution_count": 15,
   "metadata": {},
   "outputs": [
    {
     "data": {
      "text/html": [
       "<div>\n",
       "<style scoped>\n",
       "    .dataframe tbody tr th:only-of-type {\n",
       "        vertical-align: middle;\n",
       "    }\n",
       "\n",
       "    .dataframe tbody tr th {\n",
       "        vertical-align: top;\n",
       "    }\n",
       "\n",
       "    .dataframe thead th {\n",
       "        text-align: right;\n",
       "    }\n",
       "</style>\n",
       "<table border=\"1\" class=\"dataframe\">\n",
       "  <thead>\n",
       "    <tr style=\"text-align: right;\">\n",
       "      <th></th>\n",
       "      <th>area</th>\n",
       "    </tr>\n",
       "    <tr>\n",
       "      <th>area</th>\n",
       "      <th></th>\n",
       "    </tr>\n",
       "  </thead>\n",
       "  <tbody>\n",
       "    <tr>\n",
       "      <th>(0, 300]</th>\n",
       "      <td>281.5</td>\n",
       "    </tr>\n",
       "    <tr>\n",
       "      <th>(300, 600]</th>\n",
       "      <td>912.1</td>\n",
       "    </tr>\n",
       "    <tr>\n",
       "      <th>(600, 900]</th>\n",
       "      <td>640.7</td>\n",
       "    </tr>\n",
       "    <tr>\n",
       "      <th>(900, 2000]</th>\n",
       "      <td>1904.6</td>\n",
       "    </tr>\n",
       "  </tbody>\n",
       "</table>\n",
       "</div>"
      ],
      "text/plain": [
       "               area\n",
       "area               \n",
       "(0, 300]      281.5\n",
       "(300, 600]    912.1\n",
       "(600, 900]    640.7\n",
       "(900, 2000]  1904.6"
      ]
     },
     "execution_count": 15,
     "metadata": {},
     "output_type": "execute_result"
    }
   ],
   "source": [
    "bysize.sum()"
   ]
  },
  {
   "cell_type": "code",
   "execution_count": 16,
   "metadata": {},
   "outputs": [
    {
     "data": {
      "text/html": [
       "<div>\n",
       "<style scoped>\n",
       "    .dataframe tbody tr th:only-of-type {\n",
       "        vertical-align: middle;\n",
       "    }\n",
       "\n",
       "    .dataframe tbody tr th {\n",
       "        vertical-align: top;\n",
       "    }\n",
       "\n",
       "    .dataframe thead th {\n",
       "        text-align: right;\n",
       "    }\n",
       "</style>\n",
       "<table border=\"1\" class=\"dataframe\">\n",
       "  <thead>\n",
       "    <tr style=\"text-align: right;\">\n",
       "      <th></th>\n",
       "      <th>continent</th>\n",
       "      <th>captial</th>\n",
       "      <th>area</th>\n",
       "    </tr>\n",
       "    <tr>\n",
       "      <th>area</th>\n",
       "      <th></th>\n",
       "      <th></th>\n",
       "      <th></th>\n",
       "    </tr>\n",
       "  </thead>\n",
       "  <tbody>\n",
       "    <tr>\n",
       "      <th>(0, 300]</th>\n",
       "      <td>2</td>\n",
       "      <td>2</td>\n",
       "      <td>2</td>\n",
       "    </tr>\n",
       "    <tr>\n",
       "      <th>(300, 600]</th>\n",
       "      <td>2</td>\n",
       "      <td>2</td>\n",
       "      <td>2</td>\n",
       "    </tr>\n",
       "    <tr>\n",
       "      <th>(600, 900]</th>\n",
       "      <td>1</td>\n",
       "      <td>1</td>\n",
       "      <td>1</td>\n",
       "    </tr>\n",
       "    <tr>\n",
       "      <th>(900, 2000]</th>\n",
       "      <td>1</td>\n",
       "      <td>1</td>\n",
       "      <td>1</td>\n",
       "    </tr>\n",
       "  </tbody>\n",
       "</table>\n",
       "</div>"
      ],
      "text/plain": [
       "             continent  captial  area\n",
       "area                                 \n",
       "(0, 300]             2        2     2\n",
       "(300, 600]           2        2     2\n",
       "(600, 900]           1        1     1\n",
       "(900, 2000]          1        1     1"
      ]
     },
     "execution_count": 16,
     "metadata": {},
     "output_type": "execute_result"
    }
   ],
   "source": [
    "bysize.count()"
   ]
  },
  {
   "cell_type": "code",
   "execution_count": 17,
   "metadata": {},
   "outputs": [
    {
     "data": {
      "text/plain": [
       "area         continent\n",
       "(0, 300]     Africa       1\n",
       "             Europe       1\n",
       "(300, 600]   Africa       1\n",
       "             Asia         1\n",
       "(600, 900]   Europe       1\n",
       "(900, 2000]  Asia         1\n",
       "Name: continent, dtype: int64"
      ]
     },
     "execution_count": 17,
     "metadata": {},
     "output_type": "execute_result"
    }
   ],
   "source": [
    "bysize[\"continent\"].value_counts()"
   ]
  },
  {
   "cell_type": "markdown",
   "metadata": {},
   "source": [
    "A list of the most common predefined aggregation functions is given in {numref}`table-aggregators`. These functions ignore `NaN` (missing) values. \n",
    "\n",
    "```{list-table} Aggregation functions\n",
    ":name: table-aggregators\n",
    "* - `mean`\n",
    "  - Mean of group values\n",
    "* - `sum`\n",
    "  - Sum of group values\n",
    "* - `count`\n",
    "  - Count of group values\n",
    "* - `std`, `var`\n",
    "  - Standard deviation or variance within groups\n",
    "* - `describe`\n",
    "  - Descriptive statistics\n",
    "* - `first`, `last`\n",
    "  - First or last of group values\n",
    "* - `min`, `max`\n",
    "  - Min or max within groups\n",
    "```\n"
   ]
  },
  {
   "cell_type": "markdown",
   "metadata": {},
   "source": [
    "If you want a more exotic operation, you can call `agg` with your own function."
   ]
  },
  {
   "cell_type": "code",
   "execution_count": 30,
   "metadata": {},
   "outputs": [
    {
     "data": {
      "text/plain": [
       "continent\n",
       "Africa    1059.6\n",
       "Asia      4140.9\n",
       "Europe     724.5\n",
       "Name: area, dtype: float64"
      ]
     },
     "execution_count": 30,
     "metadata": {},
     "output_type": "execute_result"
    }
   ],
   "source": [
    "def weirdo(x):\n",
    "    return sum((i+1)*xi for (i,xi) in enumerate(x))\n",
    "bycont[\"area\"].agg(weirdo)\n"
   ]
  },
  {
   "cell_type": "markdown",
   "metadata": {},
   "source": [
    "You may want to import the `numpy` package for common mathematical functions."
   ]
  },
  {
   "cell_type": "code",
   "execution_count": 31,
   "metadata": {},
   "outputs": [
    {
     "data": {
      "text/plain": [
       "continent\n",
       "Africa     627.911077\n",
       "Asia      1933.268230\n",
       "Europe     642.068610\n",
       "Name: area, dtype: float64"
      ]
     },
     "execution_count": 31,
     "metadata": {},
     "output_type": "execute_result"
    }
   ],
   "source": [
    "import numpy as np\n",
    "def rms(x):\n",
    "    return np.sqrt(sum(xi**2 for xi in x))\n",
    "bycont[\"area\"].agg(rms)\n"
   ]
  },
  {
   "cell_type": "markdown",
   "metadata": {},
   "source": [
    "### Transformation\n",
    "\n",
    "In the simplest case, a transformation applies a function to each element of a column, producing a result of the same length that can be indexed the same way.\n",
    "\n",
    "Here is some data where the columns have different scales. "
   ]
  },
  {
   "cell_type": "code",
   "execution_count": 53,
   "metadata": {},
   "outputs": [
    {
     "data": {
      "text/html": [
       "<div>\n",
       "<style scoped>\n",
       "    .dataframe tbody tr th:only-of-type {\n",
       "        vertical-align: middle;\n",
       "    }\n",
       "\n",
       "    .dataframe tbody tr th {\n",
       "        vertical-align: top;\n",
       "    }\n",
       "\n",
       "    .dataframe thead th {\n",
       "        text-align: right;\n",
       "    }\n",
       "</style>\n",
       "<table border=\"1\" class=\"dataframe\">\n",
       "  <thead>\n",
       "    <tr style=\"text-align: right;\">\n",
       "      <th></th>\n",
       "      <th>small</th>\n",
       "      <th>big</th>\n",
       "    </tr>\n",
       "  </thead>\n",
       "  <tbody>\n",
       "    <tr>\n",
       "      <th>0</th>\n",
       "      <td>0.000403</td>\n",
       "      <td>118.980301</td>\n",
       "    </tr>\n",
       "    <tr>\n",
       "      <th>1</th>\n",
       "      <td>0.003294</td>\n",
       "      <td>159.832257</td>\n",
       "    </tr>\n",
       "    <tr>\n",
       "      <th>2</th>\n",
       "      <td>0.003214</td>\n",
       "      <td>137.174631</td>\n",
       "    </tr>\n",
       "    <tr>\n",
       "      <th>3</th>\n",
       "      <td>0.002976</td>\n",
       "      <td>186.948115</td>\n",
       "    </tr>\n",
       "    <tr>\n",
       "      <th>4</th>\n",
       "      <td>0.000501</td>\n",
       "      <td>133.836924</td>\n",
       "    </tr>\n",
       "    <tr>\n",
       "      <th>5</th>\n",
       "      <td>0.001337</td>\n",
       "      <td>114.810663</td>\n",
       "    </tr>\n",
       "    <tr>\n",
       "      <th>6</th>\n",
       "      <td>0.000424</td>\n",
       "      <td>180.570842</td>\n",
       "    </tr>\n",
       "    <tr>\n",
       "      <th>7</th>\n",
       "      <td>0.002886</td>\n",
       "      <td>154.775507</td>\n",
       "    </tr>\n",
       "  </tbody>\n",
       "</table>\n",
       "</div>"
      ],
      "text/plain": [
       "      small         big\n",
       "0  0.000403  118.980301\n",
       "1  0.003294  159.832257\n",
       "2  0.003214  137.174631\n",
       "3  0.002976  186.948115\n",
       "4  0.000501  133.836924\n",
       "5  0.001337  114.810663\n",
       "6  0.000424  180.570842\n",
       "7  0.002886  154.775507"
      ]
     },
     "execution_count": 53,
     "metadata": {},
     "output_type": "execute_result"
    }
   ],
   "source": [
    "import numpy as np\n",
    "rand = np.random.uniform\n",
    "\n",
    "df = pd.DataFrame({\"small\": rand(0,0.004,8), \"big\": rand(100,200,8)})\n",
    "df"
   ]
  },
  {
   "cell_type": "markdown",
   "metadata": {},
   "source": [
    "Suppose that we want to standardize each column to the interval $[0,1]$. If $m$ and $M$ are the minimum and maximum values in a column, then we can apply the function\n",
    "\n",
    "$$f(x) = \\frac{x-m}{M-m}$$\n",
    "\n",
    "within that column."
   ]
  },
  {
   "cell_type": "code",
   "execution_count": 54,
   "metadata": {},
   "outputs": [
    {
     "data": {
      "text/html": [
       "<div>\n",
       "<style scoped>\n",
       "    .dataframe tbody tr th:only-of-type {\n",
       "        vertical-align: middle;\n",
       "    }\n",
       "\n",
       "    .dataframe tbody tr th {\n",
       "        vertical-align: top;\n",
       "    }\n",
       "\n",
       "    .dataframe thead th {\n",
       "        text-align: right;\n",
       "    }\n",
       "</style>\n",
       "<table border=\"1\" class=\"dataframe\">\n",
       "  <thead>\n",
       "    <tr style=\"text-align: right;\">\n",
       "      <th></th>\n",
       "      <th>small</th>\n",
       "      <th>big</th>\n",
       "    </tr>\n",
       "  </thead>\n",
       "  <tbody>\n",
       "    <tr>\n",
       "      <th>0</th>\n",
       "      <td>0.000000</td>\n",
       "      <td>0.057801</td>\n",
       "    </tr>\n",
       "    <tr>\n",
       "      <th>1</th>\n",
       "      <td>1.000000</td>\n",
       "      <td>0.624108</td>\n",
       "    </tr>\n",
       "    <tr>\n",
       "      <th>2</th>\n",
       "      <td>0.972398</td>\n",
       "      <td>0.310019</td>\n",
       "    </tr>\n",
       "    <tr>\n",
       "      <th>3</th>\n",
       "      <td>0.889783</td>\n",
       "      <td>1.000000</td>\n",
       "    </tr>\n",
       "    <tr>\n",
       "      <th>4</th>\n",
       "      <td>0.033958</td>\n",
       "      <td>0.263750</td>\n",
       "    </tr>\n",
       "    <tr>\n",
       "      <th>5</th>\n",
       "      <td>0.322991</td>\n",
       "      <td>0.000000</td>\n",
       "    </tr>\n",
       "    <tr>\n",
       "      <th>6</th>\n",
       "      <td>0.007198</td>\n",
       "      <td>0.911596</td>\n",
       "    </tr>\n",
       "    <tr>\n",
       "      <th>7</th>\n",
       "      <td>0.858697</td>\n",
       "      <td>0.554010</td>\n",
       "    </tr>\n",
       "  </tbody>\n",
       "</table>\n",
       "</div>"
      ],
      "text/plain": [
       "      small       big\n",
       "0  0.000000  0.057801\n",
       "1  1.000000  0.624108\n",
       "2  0.972398  0.310019\n",
       "3  0.889783  1.000000\n",
       "4  0.033958  0.263750\n",
       "5  0.322991  0.000000\n",
       "6  0.007198  0.911596\n",
       "7  0.858697  0.554010"
      ]
     },
     "execution_count": 54,
     "metadata": {},
     "output_type": "execute_result"
    }
   ],
   "source": [
    "def scale(x):\n",
    "    m = x.min()\n",
    "    M = x.max()\n",
    "    return (x-m)/(M-m)\n",
    "\n",
    "df.transform(scale)"
   ]
  },
  {
   "cell_type": "markdown",
   "metadata": {},
   "source": [
    "Notice how each column of the result has entries equal to 0 and 1, with all the other values in-between."
   ]
  },
  {
   "cell_type": "markdown",
   "metadata": {},
   "source": [
    "Transformations are one mechanism for replacing missing values. Let's modify the original data frame to get some `NaN` entries (provided by `np.nan`)."
   ]
  },
  {
   "cell_type": "code",
   "execution_count": 57,
   "metadata": {},
   "outputs": [
    {
     "data": {
      "text/html": [
       "<div>\n",
       "<style scoped>\n",
       "    .dataframe tbody tr th:only-of-type {\n",
       "        vertical-align: middle;\n",
       "    }\n",
       "\n",
       "    .dataframe tbody tr th {\n",
       "        vertical-align: top;\n",
       "    }\n",
       "\n",
       "    .dataframe thead th {\n",
       "        text-align: right;\n",
       "    }\n",
       "</style>\n",
       "<table border=\"1\" class=\"dataframe\">\n",
       "  <thead>\n",
       "    <tr style=\"text-align: right;\">\n",
       "      <th></th>\n",
       "      <th>small</th>\n",
       "      <th>big</th>\n",
       "    </tr>\n",
       "  </thead>\n",
       "  <tbody>\n",
       "    <tr>\n",
       "      <th>0</th>\n",
       "      <td>0.000403</td>\n",
       "      <td>118.980301</td>\n",
       "    </tr>\n",
       "    <tr>\n",
       "      <th>1</th>\n",
       "      <td>0.003294</td>\n",
       "      <td>NaN</td>\n",
       "    </tr>\n",
       "    <tr>\n",
       "      <th>2</th>\n",
       "      <td>0.003214</td>\n",
       "      <td>137.174631</td>\n",
       "    </tr>\n",
       "    <tr>\n",
       "      <th>3</th>\n",
       "      <td>NaN</td>\n",
       "      <td>186.948115</td>\n",
       "    </tr>\n",
       "    <tr>\n",
       "      <th>4</th>\n",
       "      <td>0.000501</td>\n",
       "      <td>133.836924</td>\n",
       "    </tr>\n",
       "    <tr>\n",
       "      <th>5</th>\n",
       "      <td>0.001337</td>\n",
       "      <td>114.810663</td>\n",
       "    </tr>\n",
       "    <tr>\n",
       "      <th>6</th>\n",
       "      <td>NaN</td>\n",
       "      <td>180.570842</td>\n",
       "    </tr>\n",
       "    <tr>\n",
       "      <th>7</th>\n",
       "      <td>0.002886</td>\n",
       "      <td>154.775507</td>\n",
       "    </tr>\n",
       "  </tbody>\n",
       "</table>\n",
       "</div>"
      ],
      "text/plain": [
       "      small         big\n",
       "0  0.000403  118.980301\n",
       "1  0.003294         NaN\n",
       "2  0.003214  137.174631\n",
       "3       NaN  186.948115\n",
       "4  0.000501  133.836924\n",
       "5  0.001337  114.810663\n",
       "6       NaN  180.570842\n",
       "7  0.002886  154.775507"
      ]
     },
     "execution_count": 57,
     "metadata": {},
     "output_type": "execute_result"
    }
   ],
   "source": [
    "df.loc[3,\"small\"] = np.nan\n",
    "df.loc[6,\"small\"] = np.nan\n",
    "df.loc[1,\"big\"] = np.nan\n",
    "df"
   ]
  },
  {
   "cell_type": "markdown",
   "metadata": {},
   "source": [
    "Now we want to replace each missing value with the average for its column. We use `fillna` to do the replacements and an aggregator to compute the mean."
   ]
  },
  {
   "cell_type": "code",
   "execution_count": 59,
   "metadata": {},
   "outputs": [
    {
     "data": {
      "text/html": [
       "<div>\n",
       "<style scoped>\n",
       "    .dataframe tbody tr th:only-of-type {\n",
       "        vertical-align: middle;\n",
       "    }\n",
       "\n",
       "    .dataframe tbody tr th {\n",
       "        vertical-align: top;\n",
       "    }\n",
       "\n",
       "    .dataframe thead th {\n",
       "        text-align: right;\n",
       "    }\n",
       "</style>\n",
       "<table border=\"1\" class=\"dataframe\">\n",
       "  <thead>\n",
       "    <tr style=\"text-align: right;\">\n",
       "      <th></th>\n",
       "      <th>small</th>\n",
       "      <th>big</th>\n",
       "    </tr>\n",
       "  </thead>\n",
       "  <tbody>\n",
       "    <tr>\n",
       "      <th>0</th>\n",
       "      <td>0.000403</td>\n",
       "      <td>118.980301</td>\n",
       "    </tr>\n",
       "    <tr>\n",
       "      <th>1</th>\n",
       "      <td>0.003294</td>\n",
       "      <td>146.728140</td>\n",
       "    </tr>\n",
       "    <tr>\n",
       "      <th>2</th>\n",
       "      <td>0.003214</td>\n",
       "      <td>137.174631</td>\n",
       "    </tr>\n",
       "    <tr>\n",
       "      <th>3</th>\n",
       "      <td>0.001939</td>\n",
       "      <td>186.948115</td>\n",
       "    </tr>\n",
       "    <tr>\n",
       "      <th>4</th>\n",
       "      <td>0.000501</td>\n",
       "      <td>133.836924</td>\n",
       "    </tr>\n",
       "    <tr>\n",
       "      <th>5</th>\n",
       "      <td>0.001337</td>\n",
       "      <td>114.810663</td>\n",
       "    </tr>\n",
       "    <tr>\n",
       "      <th>6</th>\n",
       "      <td>0.001939</td>\n",
       "      <td>180.570842</td>\n",
       "    </tr>\n",
       "    <tr>\n",
       "      <th>7</th>\n",
       "      <td>0.002886</td>\n",
       "      <td>154.775507</td>\n",
       "    </tr>\n",
       "  </tbody>\n",
       "</table>\n",
       "</div>"
      ],
      "text/plain": [
       "      small         big\n",
       "0  0.000403  118.980301\n",
       "1  0.003294  146.728140\n",
       "2  0.003214  137.174631\n",
       "3  0.001939  186.948115\n",
       "4  0.000501  133.836924\n",
       "5  0.001337  114.810663\n",
       "6  0.001939  180.570842\n",
       "7  0.002886  154.775507"
      ]
     },
     "execution_count": 59,
     "metadata": {},
     "output_type": "execute_result"
    }
   ],
   "source": [
    "def replace(col):\n",
    "    return col.fillna(col.mean())\n",
    "\n",
    "df.transform(replace)"
   ]
  },
  {
   "cell_type": "markdown",
   "metadata": {},
   "source": [
    "When a transformation is applied to a grouped data frame, then the transformation is applied to each group. For example, let's consider our rescaling example above, but for values that are indexed by time."
   ]
  },
  {
   "cell_type": "code",
   "execution_count": 60,
   "metadata": {},
   "outputs": [
    {
     "data": {
      "text/html": [
       "<div>\n",
       "<style scoped>\n",
       "    .dataframe tbody tr th:only-of-type {\n",
       "        vertical-align: middle;\n",
       "    }\n",
       "\n",
       "    .dataframe tbody tr th {\n",
       "        vertical-align: top;\n",
       "    }\n",
       "\n",
       "    .dataframe thead th {\n",
       "        text-align: right;\n",
       "    }\n",
       "</style>\n",
       "<table border=\"1\" class=\"dataframe\">\n",
       "  <thead>\n",
       "    <tr style=\"text-align: right;\">\n",
       "      <th></th>\n",
       "      <th>small</th>\n",
       "      <th>big</th>\n",
       "    </tr>\n",
       "  </thead>\n",
       "  <tbody>\n",
       "    <tr>\n",
       "      <th>2021-01-01</th>\n",
       "      <td>0.002803</td>\n",
       "      <td>170.854312</td>\n",
       "    </tr>\n",
       "    <tr>\n",
       "      <th>2021-01-02</th>\n",
       "      <td>0.001629</td>\n",
       "      <td>163.283119</td>\n",
       "    </tr>\n",
       "    <tr>\n",
       "      <th>2021-01-03</th>\n",
       "      <td>0.002434</td>\n",
       "      <td>188.861869</td>\n",
       "    </tr>\n",
       "    <tr>\n",
       "      <th>2021-01-04</th>\n",
       "      <td>0.000589</td>\n",
       "      <td>170.809689</td>\n",
       "    </tr>\n",
       "    <tr>\n",
       "      <th>2021-01-05</th>\n",
       "      <td>0.000918</td>\n",
       "      <td>103.974490</td>\n",
       "    </tr>\n",
       "    <tr>\n",
       "      <th>...</th>\n",
       "      <td>...</td>\n",
       "      <td>...</td>\n",
       "    </tr>\n",
       "    <tr>\n",
       "      <th>2021-12-27</th>\n",
       "      <td>0.003071</td>\n",
       "      <td>131.202242</td>\n",
       "    </tr>\n",
       "    <tr>\n",
       "      <th>2021-12-28</th>\n",
       "      <td>0.002766</td>\n",
       "      <td>199.070811</td>\n",
       "    </tr>\n",
       "    <tr>\n",
       "      <th>2021-12-29</th>\n",
       "      <td>0.000688</td>\n",
       "      <td>176.769428</td>\n",
       "    </tr>\n",
       "    <tr>\n",
       "      <th>2021-12-30</th>\n",
       "      <td>0.003341</td>\n",
       "      <td>183.478962</td>\n",
       "    </tr>\n",
       "    <tr>\n",
       "      <th>2021-12-31</th>\n",
       "      <td>0.001697</td>\n",
       "      <td>100.362925</td>\n",
       "    </tr>\n",
       "  </tbody>\n",
       "</table>\n",
       "<p>365 rows × 2 columns</p>\n",
       "</div>"
      ],
      "text/plain": [
       "               small         big\n",
       "2021-01-01  0.002803  170.854312\n",
       "2021-01-02  0.001629  163.283119\n",
       "2021-01-03  0.002434  188.861869\n",
       "2021-01-04  0.000589  170.809689\n",
       "2021-01-05  0.000918  103.974490\n",
       "...              ...         ...\n",
       "2021-12-27  0.003071  131.202242\n",
       "2021-12-28  0.002766  199.070811\n",
       "2021-12-29  0.000688  176.769428\n",
       "2021-12-30  0.003341  183.478962\n",
       "2021-12-31  0.001697  100.362925\n",
       "\n",
       "[365 rows x 2 columns]"
      ]
     },
     "execution_count": 60,
     "metadata": {},
     "output_type": "execute_result"
    }
   ],
   "source": [
    "import numpy as np\n",
    "rand = np.random.uniform\n",
    "\n",
    "idx = pd.date_range(\"1/1/2021\",\"12/31/2021\",freq=\"D\")\n",
    "df = pd.DataFrame({\"small\": rand(0,0.004,365), \"big\": rand(100,200,365)},index=idx)\n",
    "df"
   ]
  },
  {
   "cell_type": "markdown",
   "metadata": {},
   "source": [
    "Here is how the data can be grouped by month. (Any timestamp value has properties such as `day` and `month` that return the appropriate value.)"
   ]
  },
  {
   "cell_type": "code",
   "execution_count": 61,
   "metadata": {},
   "outputs": [
    {
     "name": "stdout",
     "output_type": "stream",
     "text": [
      "12\n"
     ]
    }
   ],
   "source": [
    "bymonth = df.groupby((lambda x: x.month))\n",
    "print(len(bymonth))"
   ]
  },
  {
   "cell_type": "markdown",
   "metadata": {},
   "source": [
    "Now, when we transform using our `scale` function from above, each column is rescaled independently within each month."
   ]
  },
  {
   "cell_type": "code",
   "execution_count": 63,
   "metadata": {},
   "outputs": [
    {
     "data": {
      "text/html": [
       "<div>\n",
       "<style scoped>\n",
       "    .dataframe tbody tr th:only-of-type {\n",
       "        vertical-align: middle;\n",
       "    }\n",
       "\n",
       "    .dataframe tbody tr th {\n",
       "        vertical-align: top;\n",
       "    }\n",
       "\n",
       "    .dataframe thead th {\n",
       "        text-align: right;\n",
       "    }\n",
       "</style>\n",
       "<table border=\"1\" class=\"dataframe\">\n",
       "  <thead>\n",
       "    <tr style=\"text-align: right;\">\n",
       "      <th></th>\n",
       "      <th>small</th>\n",
       "      <th>big</th>\n",
       "    </tr>\n",
       "  </thead>\n",
       "  <tbody>\n",
       "    <tr>\n",
       "      <th>2021-01-01</th>\n",
       "      <td>0.699387</td>\n",
       "      <td>0.714391</td>\n",
       "    </tr>\n",
       "    <tr>\n",
       "      <th>2021-01-02</th>\n",
       "      <td>0.401880</td>\n",
       "      <td>0.637095</td>\n",
       "    </tr>\n",
       "    <tr>\n",
       "      <th>2021-01-03</th>\n",
       "      <td>0.605756</td>\n",
       "      <td>0.898235</td>\n",
       "    </tr>\n",
       "    <tr>\n",
       "      <th>2021-01-04</th>\n",
       "      <td>0.138259</td>\n",
       "      <td>0.713935</td>\n",
       "    </tr>\n",
       "    <tr>\n",
       "      <th>2021-01-05</th>\n",
       "      <td>0.221519</td>\n",
       "      <td>0.031597</td>\n",
       "    </tr>\n",
       "    <tr>\n",
       "      <th>...</th>\n",
       "      <td>...</td>\n",
       "      <td>...</td>\n",
       "    </tr>\n",
       "    <tr>\n",
       "      <th>2021-12-27</th>\n",
       "      <td>0.790287</td>\n",
       "      <td>0.312430</td>\n",
       "    </tr>\n",
       "    <tr>\n",
       "      <th>2021-12-28</th>\n",
       "      <td>0.707720</td>\n",
       "      <td>1.000000</td>\n",
       "    </tr>\n",
       "    <tr>\n",
       "      <th>2021-12-29</th>\n",
       "      <td>0.145431</td>\n",
       "      <td>0.774067</td>\n",
       "    </tr>\n",
       "    <tr>\n",
       "      <th>2021-12-30</th>\n",
       "      <td>0.863376</td>\n",
       "      <td>0.842040</td>\n",
       "    </tr>\n",
       "    <tr>\n",
       "      <th>2021-12-31</th>\n",
       "      <td>0.418504</td>\n",
       "      <td>0.000000</td>\n",
       "    </tr>\n",
       "  </tbody>\n",
       "</table>\n",
       "<p>365 rows × 2 columns</p>\n",
       "</div>"
      ],
      "text/plain": [
       "               small       big\n",
       "2021-01-01  0.699387  0.714391\n",
       "2021-01-02  0.401880  0.637095\n",
       "2021-01-03  0.605756  0.898235\n",
       "2021-01-04  0.138259  0.713935\n",
       "2021-01-05  0.221519  0.031597\n",
       "...              ...       ...\n",
       "2021-12-27  0.790287  0.312430\n",
       "2021-12-28  0.707720  1.000000\n",
       "2021-12-29  0.145431  0.774067\n",
       "2021-12-30  0.863376  0.842040\n",
       "2021-12-31  0.418504  0.000000\n",
       "\n",
       "[365 rows x 2 columns]"
      ]
     },
     "execution_count": 63,
     "metadata": {},
     "output_type": "execute_result"
    }
   ],
   "source": [
    "dfs = bymonth.transform(scale)\n",
    "dfs"
   ]
  },
  {
   "cell_type": "markdown",
   "metadata": {},
   "source": [
    "For instance, each month has a 0 and a 1 in each column."
   ]
  },
  {
   "cell_type": "code",
   "execution_count": 70,
   "metadata": {},
   "outputs": [
    {
     "data": {
      "text/html": [
       "<div>\n",
       "<style scoped>\n",
       "    .dataframe tbody tr th:only-of-type {\n",
       "        vertical-align: middle;\n",
       "    }\n",
       "\n",
       "    .dataframe tbody tr th {\n",
       "        vertical-align: top;\n",
       "    }\n",
       "\n",
       "    .dataframe thead th {\n",
       "        text-align: right;\n",
       "    }\n",
       "</style>\n",
       "<table border=\"1\" class=\"dataframe\">\n",
       "  <thead>\n",
       "    <tr style=\"text-align: right;\">\n",
       "      <th></th>\n",
       "      <th>small</th>\n",
       "      <th>big</th>\n",
       "    </tr>\n",
       "  </thead>\n",
       "  <tbody>\n",
       "    <tr>\n",
       "      <th>2021-01-29</th>\n",
       "      <td>1.0</td>\n",
       "      <td>0.651895</td>\n",
       "    </tr>\n",
       "    <tr>\n",
       "      <th>2021-02-14</th>\n",
       "      <td>1.0</td>\n",
       "      <td>0.135380</td>\n",
       "    </tr>\n",
       "    <tr>\n",
       "      <th>2021-03-11</th>\n",
       "      <td>1.0</td>\n",
       "      <td>0.289211</td>\n",
       "    </tr>\n",
       "    <tr>\n",
       "      <th>2021-04-25</th>\n",
       "      <td>1.0</td>\n",
       "      <td>0.967453</td>\n",
       "    </tr>\n",
       "    <tr>\n",
       "      <th>2021-05-04</th>\n",
       "      <td>1.0</td>\n",
       "      <td>1.000000</td>\n",
       "    </tr>\n",
       "    <tr>\n",
       "      <th>2021-06-03</th>\n",
       "      <td>1.0</td>\n",
       "      <td>0.877189</td>\n",
       "    </tr>\n",
       "    <tr>\n",
       "      <th>2021-07-24</th>\n",
       "      <td>1.0</td>\n",
       "      <td>0.791884</td>\n",
       "    </tr>\n",
       "    <tr>\n",
       "      <th>2021-08-05</th>\n",
       "      <td>1.0</td>\n",
       "      <td>0.413734</td>\n",
       "    </tr>\n",
       "    <tr>\n",
       "      <th>2021-09-12</th>\n",
       "      <td>1.0</td>\n",
       "      <td>0.640728</td>\n",
       "    </tr>\n",
       "    <tr>\n",
       "      <th>2021-10-04</th>\n",
       "      <td>1.0</td>\n",
       "      <td>0.909632</td>\n",
       "    </tr>\n",
       "    <tr>\n",
       "      <th>2021-11-16</th>\n",
       "      <td>1.0</td>\n",
       "      <td>0.273430</td>\n",
       "    </tr>\n",
       "    <tr>\n",
       "      <th>2021-12-23</th>\n",
       "      <td>1.0</td>\n",
       "      <td>0.750304</td>\n",
       "    </tr>\n",
       "  </tbody>\n",
       "</table>\n",
       "</div>"
      ],
      "text/plain": [
       "            small       big\n",
       "2021-01-29    1.0  0.651895\n",
       "2021-02-14    1.0  0.135380\n",
       "2021-03-11    1.0  0.289211\n",
       "2021-04-25    1.0  0.967453\n",
       "2021-05-04    1.0  1.000000\n",
       "2021-06-03    1.0  0.877189\n",
       "2021-07-24    1.0  0.791884\n",
       "2021-08-05    1.0  0.413734\n",
       "2021-09-12    1.0  0.640728\n",
       "2021-10-04    1.0  0.909632\n",
       "2021-11-16    1.0  0.273430\n",
       "2021-12-23    1.0  0.750304"
      ]
     },
     "execution_count": 70,
     "metadata": {},
     "output_type": "execute_result"
    }
   ],
   "source": [
    "dfs.loc[dfs[\"small\"]==1.0]"
   ]
  },
  {
   "cell_type": "markdown",
   "metadata": {},
   "source": [
    "## Filtering\n",
    "\n",
    "To apply a filter, provide a function that operates on a column and returns either `True`, meaning to keep the column, or `False`, meaning to reject it. For example, with our time series data above, suppose we want to keep the data only in those groups (months) for which the average value in the `big` column is at least 150."
   ]
  },
  {
   "cell_type": "code",
   "execution_count": 75,
   "metadata": {},
   "outputs": [
    {
     "name": "stdout",
     "output_type": "stream",
     "text": [
      "154\n"
     ]
    }
   ],
   "source": [
    "def isbig150(df):\n",
    "    return df[\"big\"].mean() > 150\n",
    "\n",
    "selected = bymonth.filter(isbig150)\n",
    "print(len(selected))"
   ]
  },
  {
   "cell_type": "markdown",
   "metadata": {},
   "source": [
    "The result of the `filter` operation is a new data frame. If we again group by month and aggregate the mean value in each month, we can verify that the filtering property was satisfied."
   ]
  },
  {
   "cell_type": "code",
   "execution_count": 78,
   "metadata": {},
   "outputs": [
    {
     "data": {
      "text/html": [
       "<div>\n",
       "<style scoped>\n",
       "    .dataframe tbody tr th:only-of-type {\n",
       "        vertical-align: middle;\n",
       "    }\n",
       "\n",
       "    .dataframe tbody tr th {\n",
       "        vertical-align: top;\n",
       "    }\n",
       "\n",
       "    .dataframe thead th {\n",
       "        text-align: right;\n",
       "    }\n",
       "</style>\n",
       "<table border=\"1\" class=\"dataframe\">\n",
       "  <thead>\n",
       "    <tr style=\"text-align: right;\">\n",
       "      <th></th>\n",
       "      <th>small</th>\n",
       "      <th>big</th>\n",
       "    </tr>\n",
       "  </thead>\n",
       "  <tbody>\n",
       "    <tr>\n",
       "      <th>3</th>\n",
       "      <td>0.002180</td>\n",
       "      <td>151.629453</td>\n",
       "    </tr>\n",
       "    <tr>\n",
       "      <th>6</th>\n",
       "      <td>0.002663</td>\n",
       "      <td>155.514867</td>\n",
       "    </tr>\n",
       "    <tr>\n",
       "      <th>8</th>\n",
       "      <td>0.001928</td>\n",
       "      <td>156.122592</td>\n",
       "    </tr>\n",
       "    <tr>\n",
       "      <th>10</th>\n",
       "      <td>0.002101</td>\n",
       "      <td>154.802362</td>\n",
       "    </tr>\n",
       "    <tr>\n",
       "      <th>12</th>\n",
       "      <td>0.002002</td>\n",
       "      <td>156.493268</td>\n",
       "    </tr>\n",
       "  </tbody>\n",
       "</table>\n",
       "</div>"
      ],
      "text/plain": [
       "       small         big\n",
       "3   0.002180  151.629453\n",
       "6   0.002663  155.514867\n",
       "8   0.001928  156.122592\n",
       "10  0.002101  154.802362\n",
       "12  0.002002  156.493268"
      ]
     },
     "execution_count": 78,
     "metadata": {},
     "output_type": "execute_result"
    }
   ],
   "source": [
    "selected.groupby(lambda x: x.month).mean()"
   ]
  }
 ],
 "metadata": {
  "interpreter": {
   "hash": "309607ccc20e9a6e11ab07170f99ce54bcb071be184e7a01527b07d1560fe75c"
  },
  "kernelspec": {
   "display_name": "Python 3.8.8 64-bit ('base': conda)",
   "language": "python",
   "name": "python3"
  },
  "language_info": {
   "codemirror_mode": {
    "name": "ipython",
    "version": 3
   },
   "file_extension": ".py",
   "mimetype": "text/x-python",
   "name": "python",
   "nbconvert_exporter": "python",
   "pygments_lexer": "ipython3",
   "version": "3.8.8"
  },
  "orig_nbformat": 4
 },
 "nbformat": 4,
 "nbformat_minor": 2
}
