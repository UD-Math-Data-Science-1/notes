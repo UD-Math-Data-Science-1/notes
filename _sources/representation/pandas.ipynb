{
 "cells": [
  {
   "cell_type": "markdown",
   "metadata": {},
   "source": [
    "# Introduction to pandas\n",
    "\n",
    "The most popular Python package for manipulating and analyzing data is [pandas](https:pandas.pydata.org). In particular, it centers on the series–data frame paradigm. \n",
    "\n",
    "For example, here is a series for the wavelengths of light corresponding to rainbow colors."
   ]
  },
  {
   "cell_type": "code",
   "execution_count": 13,
   "metadata": {},
   "outputs": [
    {
     "name": "stdout",
     "output_type": "stream",
     "text": [
      "violet    400\n",
      "blue      470\n",
      "green     520\n",
      "yellow    580\n",
      "orange    610\n",
      "red       710\n",
      "dtype: int64\n"
     ]
    }
   ],
   "source": [
    "import pandas as pd\n",
    "wave = pd.Series([400,470,520,580,610,710],index=[\"violet\",\"blue\",\"green\",\"yellow\",\"orange\",\"red\"])\n",
    "print(wave)"
   ]
  },
  {
   "cell_type": "markdown",
   "metadata": {},
   "source": [
    "We can now use an index value to access a value in the series."
   ]
  },
  {
   "cell_type": "code",
   "execution_count": 14,
   "metadata": {},
   "outputs": [
    {
     "name": "stdout",
     "output_type": "stream",
     "text": [
      "470\n"
     ]
    }
   ],
   "source": [
    "print(wave[\"blue\"])"
   ]
  },
  {
   "cell_type": "markdown",
   "metadata": {},
   "source": [
    "We can access multiple values to get a series that is a subset of the original."
   ]
  },
  {
   "cell_type": "code",
   "execution_count": 15,
   "metadata": {},
   "outputs": [
    {
     "name": "stdout",
     "output_type": "stream",
     "text": [
      "violet    400\n",
      "red       710\n",
      "dtype: int64\n"
     ]
    }
   ],
   "source": [
    "print(wave[[\"violet\",\"red\"]])"
   ]
  },
  {
   "cell_type": "markdown",
   "metadata": {},
   "source": [
    "Here is a series of NFL teams based on the same index."
   ]
  },
  {
   "cell_type": "code",
   "execution_count": 16,
   "metadata": {},
   "outputs": [
    {
     "name": "stdout",
     "output_type": "stream",
     "text": [
      "Eagles\n"
     ]
    }
   ],
   "source": [
    "teams = pd.Series([\"Vikings\",\"Bills\",\"Eagles\",\"Chargers\",\"Bengals\",\"Cardinals\"],index=wave.index)\n",
    "print(teams[\"green\"])"
   ]
  },
  {
   "cell_type": "markdown",
   "metadata": {},
   "source": [
    "Now we can create a data frame using these two series as columns."
   ]
  },
  {
   "cell_type": "code",
   "execution_count": 22,
   "metadata": {},
   "outputs": [
    {
     "name": "stdout",
     "output_type": "stream",
     "text": [
      "        wavelength  team name\n",
      "violet         400    Vikings\n",
      "blue           470      Bills\n",
      "green          520     Eagles\n",
      "yellow         580   Chargers\n",
      "orange         610    Bengals\n",
      "red            710  Cardinals\n"
     ]
    }
   ],
   "source": [
    "rainbow = pd.DataFrame({\"wavelength\":wave,\"team name\":teams})\n",
    "print(rainbow)"
   ]
  },
  {
   "cell_type": "markdown",
   "metadata": {},
   "source": [
    "We can add a column after the fact just by giving the values. The indexing is inherited from the current frame."
   ]
  },
  {
   "cell_type": "code",
   "execution_count": 23,
   "metadata": {},
   "outputs": [
    {
     "name": "stdout",
     "output_type": "stream",
     "text": [
      "        wavelength  team name            flower\n",
      "violet         400    Vikings           Lobelia\n",
      "blue           470      Bills        Cornflower\n",
      "green          520     Eagles  Bells-of-Ireland\n",
      "yellow         580   Chargers          Daffodil\n",
      "orange         610    Bengals    Butterfly weed\n",
      "red            710  Cardinals              Rose\n"
     ]
    }
   ],
   "source": [
    "rainbow[\"flower\"] = [\"Lobelia\",\"Cornflower\",\"Bells-of-Ireland\",\"Daffodil\",\"Butterfly weed\",\"Rose\"]\n",
    "print(rainbow)"
   ]
  },
  {
   "cell_type": "markdown",
   "metadata": {},
   "source": [
    "Interestingly, a row of the data frame (accessed using `loc` below) is itself a series, indexed by the column names."
   ]
  },
  {
   "cell_type": "code",
   "execution_count": 24,
   "metadata": {},
   "outputs": [
    {
     "name": "stdout",
     "output_type": "stream",
     "text": [
      "wavelength               610\n",
      "team name            Bengals\n",
      "flower        Butterfly weed\n",
      "Name: orange, dtype: object\n"
     ]
    }
   ],
   "source": [
    "print(rainbow.loc[\"orange\"])"
   ]
  },
  {
   "cell_type": "markdown",
   "metadata": {},
   "source": [
    "There are many ways to specify values for a data frame. If no explicit index set is given, then consecutive integers starting at zero are used."
   ]
  },
  {
   "cell_type": "code",
   "execution_count": 29,
   "metadata": {},
   "outputs": [
    {
     "name": "stdout",
     "output_type": "stream",
     "text": [
      "  lowercase uppercase\n",
      "0         a         A\n",
      "1         b         B\n",
      "2         c         C\n"
     ]
    }
   ],
   "source": [
    "letters = pd.DataFrame([(\"a\",\"A\"),(\"b\",\"B\"),(\"c\",\"C\")],columns=[\"lowercase\",\"uppercase\"])\n",
    "print(letters)"
   ]
  },
  {
   "cell_type": "code",
   "execution_count": 34,
   "metadata": {},
   "outputs": [
    {
     "name": "stdout",
     "output_type": "stream",
     "text": [
      "lowercase    b\n",
      "uppercase    B\n",
      "Name: 1, dtype: object\n"
     ]
    }
   ],
   "source": [
    "print(letters.loc[1])"
   ]
  },
  {
   "cell_type": "code",
   "execution_count": 32,
   "metadata": {},
   "outputs": [
    {
     "name": "stdout",
     "output_type": "stream",
     "text": [
      "0    A\n",
      "1    B\n",
      "2    C\n",
      "Name: uppercase, dtype: object\n"
     ]
    }
   ],
   "source": [
    "print(letters[\"uppercase\"])"
   ]
  },
  {
   "cell_type": "markdown",
   "metadata": {},
   "source": [
    "For much more about pandas fundamentals, try the [Kaggle course](https://www.kaggle.com/learn/pandas)."
   ]
  }
 ],
 "metadata": {
  "interpreter": {
   "hash": "309607ccc20e9a6e11ab07170f99ce54bcb071be184e7a01527b07d1560fe75c"
  },
  "kernelspec": {
   "display_name": "Python 3.8.8 64-bit ('base': conda)",
   "language": "python",
   "name": "python3"
  },
  "language_info": {
   "codemirror_mode": {
    "name": "ipython",
    "version": 3
   },
   "file_extension": ".py",
   "mimetype": "text/x-python",
   "name": "python",
   "nbconvert_exporter": "python",
   "pygments_lexer": "ipython3",
   "version": "3.8.8"
  },
  "orig_nbformat": 4
 },
 "nbformat": 4,
 "nbformat_minor": 2
}
