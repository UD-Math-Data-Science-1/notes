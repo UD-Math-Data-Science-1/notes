{
 "cells": [
  {
   "cell_type": "markdown",
   "id": "1b00f882",
   "metadata": {},
   "source": [
    "# Introduction to pandas\n",
    "\n",
    "The most popular Python package for manipulating and analyzing data is [pandas](https:pandas.pydata.org). In particular, it centers on the series–data frame paradigm. \n",
    "\n",
    "For example, here is a series for the wavelengths of light corresponding to rainbow colors."
   ]
  },
  {
   "cell_type": "code",
   "execution_count": 1,
   "id": "f4eaabb7",
   "metadata": {},
   "outputs": [
    {
     "name": "stdout",
     "output_type": "stream",
     "text": [
      "violet    400\n",
      "blue      470\n",
      "green     520\n",
      "yellow    580\n",
      "orange    610\n",
      "red       710\n",
      "dtype: int64\n"
     ]
    }
   ],
   "source": [
    "import pandas as pd\n",
    "wave = pd.Series([400,470,520,580,610,710],index=[\"violet\",\"blue\",\"green\",\"yellow\",\"orange\",\"red\"])\n",
    "print(wave)"
   ]
  },
  {
   "cell_type": "markdown",
   "id": "aa12a150",
   "metadata": {},
   "source": [
    "We can now use an index value to access a value in the series."
   ]
  },
  {
   "cell_type": "code",
   "execution_count": 2,
   "id": "037e6d1f",
   "metadata": {},
   "outputs": [
    {
     "name": "stdout",
     "output_type": "stream",
     "text": [
      "470\n"
     ]
    }
   ],
   "source": [
    "print(wave[\"blue\"])"
   ]
  },
  {
   "cell_type": "markdown",
   "id": "9767e5fc",
   "metadata": {},
   "source": [
    "We can access multiple values to get a series that is a subset of the original."
   ]
  },
  {
   "cell_type": "code",
   "execution_count": 3,
   "id": "a574d6bc",
   "metadata": {},
   "outputs": [
    {
     "name": "stdout",
     "output_type": "stream",
     "text": [
      "violet    400\n",
      "red       710\n",
      "dtype: int64\n"
     ]
    }
   ],
   "source": [
    "print(wave[[\"violet\",\"red\"]])"
   ]
  },
  {
   "cell_type": "markdown",
   "id": "9a245bd6",
   "metadata": {},
   "source": [
    "Here is a series of NFL teams based on the same index."
   ]
  },
  {
   "cell_type": "code",
   "execution_count": 4,
   "id": "92fc198c",
   "metadata": {},
   "outputs": [
    {
     "name": "stdout",
     "output_type": "stream",
     "text": [
      "Eagles\n"
     ]
    }
   ],
   "source": [
    "teams = pd.Series([\"Vikings\",\"Bills\",\"Eagles\",\"Chargers\",\"Bengals\",\"Cardinals\"],index=wave.index)\n",
    "print(teams[\"green\"])"
   ]
  },
  {
   "cell_type": "markdown",
   "id": "fc2ee77c",
   "metadata": {},
   "source": [
    "Now we can create a data frame using these two series as columns."
   ]
  },
  {
   "cell_type": "code",
   "execution_count": 5,
   "id": "d07fea64",
   "metadata": {},
   "outputs": [
    {
     "name": "stdout",
     "output_type": "stream",
     "text": [
      "        wavelength  team name\n",
      "violet         400    Vikings\n",
      "blue           470      Bills\n",
      "green          520     Eagles\n",
      "yellow         580   Chargers\n",
      "orange         610    Bengals\n",
      "red            710  Cardinals\n"
     ]
    }
   ],
   "source": [
    "rainbow = pd.DataFrame({\"wavelength\":wave,\"team name\":teams})\n",
    "print(rainbow)"
   ]
  },
  {
   "cell_type": "markdown",
   "id": "9a770378",
   "metadata": {},
   "source": [
    "We can add a column after the fact just by giving the values. The indexing is inherited from the current frame."
   ]
  },
  {
   "cell_type": "code",
   "execution_count": 6,
   "id": "3d610b35",
   "metadata": {},
   "outputs": [
    {
     "name": "stdout",
     "output_type": "stream",
     "text": [
      "        wavelength  team name            flower\n",
      "violet         400    Vikings           Lobelia\n",
      "blue           470      Bills        Cornflower\n",
      "green          520     Eagles  Bells-of-Ireland\n",
      "yellow         580   Chargers          Daffodil\n",
      "orange         610    Bengals    Butterfly weed\n",
      "red            710  Cardinals              Rose\n"
     ]
    }
   ],
   "source": [
    "rainbow[\"flower\"] = [\"Lobelia\",\"Cornflower\",\"Bells-of-Ireland\",\"Daffodil\",\"Butterfly weed\",\"Rose\"]\n",
    "print(rainbow)"
   ]
  },
  {
   "cell_type": "markdown",
   "id": "a62ff4c2",
   "metadata": {},
   "source": [
    "Interestingly, a row of the data frame (accessed using `loc` below) is itself a series, indexed by the column names."
   ]
  },
  {
   "cell_type": "code",
   "execution_count": 7,
   "id": "fbf2051f",
   "metadata": {},
   "outputs": [
    {
     "name": "stdout",
     "output_type": "stream",
     "text": [
      "wavelength               610\n",
      "team name            Bengals\n",
      "flower        Butterfly weed\n",
      "Name: orange, dtype: object\n"
     ]
    }
   ],
   "source": [
    "print(rainbow.loc[\"orange\"])"
   ]
  },
  {
   "cell_type": "markdown",
   "id": "7c35be6f",
   "metadata": {},
   "source": [
    "There are many ways to specify values for a data frame. If no explicit index set is given, then consecutive integers starting at zero are used."
   ]
  },
  {
   "cell_type": "code",
   "execution_count": 8,
   "id": "a2ce3c05",
   "metadata": {},
   "outputs": [
    {
     "name": "stdout",
     "output_type": "stream",
     "text": [
      "  lowercase uppercase\n",
      "0         a         A\n",
      "1         b         B\n",
      "2         c         C\n"
     ]
    }
   ],
   "source": [
    "letters = pd.DataFrame([(\"a\",\"A\"),(\"b\",\"B\"),(\"c\",\"C\")],columns=[\"lowercase\",\"uppercase\"])\n",
    "print(letters)"
   ]
  },
  {
   "cell_type": "code",
   "execution_count": 9,
   "id": "eb9c26aa",
   "metadata": {},
   "outputs": [
    {
     "name": "stdout",
     "output_type": "stream",
     "text": [
      "lowercase    b\n",
      "uppercase    B\n",
      "Name: 1, dtype: object\n"
     ]
    }
   ],
   "source": [
    "print(letters.loc[1])"
   ]
  },
  {
   "cell_type": "code",
   "execution_count": 10,
   "id": "7035124c",
   "metadata": {},
   "outputs": [
    {
     "name": "stdout",
     "output_type": "stream",
     "text": [
      "0    A\n",
      "1    B\n",
      "2    C\n",
      "Name: uppercase, dtype: object\n"
     ]
    }
   ],
   "source": [
    "print(letters[\"uppercase\"])"
   ]
  },
  {
   "cell_type": "markdown",
   "id": "3bee103c",
   "metadata": {},
   "source": [
    "For much more about pandas fundamentals, try the [Kaggle course](https://www.kaggle.com/learn/pandas).\n",
    "\n",
    "<div style=\"max-width:608px\"><div style=\"position:relative;padding-bottom:66.118421052632%\"><iframe id=\"kaltura_player\" src=\"https://cdnapisec.kaltura.com/p/2358381/sp/235838100/embedIframeJs/uiconf_id/43030021/partner_id/2358381?iframeembed=true&playerId=kaltura_player&entry_id=1_z2y5ubh4&flashvars[streamerType]=auto&amp;flashvars[localizationCode]=en&amp;flashvars[leadWithHTML5]=true&amp;flashvars[sideBarContainer.plugin]=true&amp;flashvars[sideBarContainer.position]=left&amp;flashvars[sideBarContainer.clickToClose]=true&amp;flashvars[chapters.plugin]=true&amp;flashvars[chapters.layout]=vertical&amp;flashvars[chapters.thumbnailRotator]=false&amp;flashvars[streamSelector.plugin]=true&amp;flashvars[EmbedPlayer.SpinnerTarget]=videoHolder&amp;flashvars[dualScreen.plugin]=true&amp;flashvars[Kaltura.addCrossoriginToIframe]=true&amp;&wid=1_p2kbu4tl\" width=\"608\" height=\"402\" allowfullscreen webkitallowfullscreen mozAllowFullScreen allow=\"autoplay *; fullscreen *; encrypted-media *\" sandbox=\"allow-forms allow-same-origin allow-scripts allow-top-navigation allow-pointer-lock allow-popups allow-modals allow-orientation-lock allow-popups-to-escape-sandbox allow-presentation allow-top-navigation-by-user-activation\" frameborder=\"0\" title=\"Kaltura Player\" style=\"position:absolute;top:0;left:0;width:100%;height:100%\"></iframe></div></div>"
   ]
  }
 ],
 "metadata": {
  "jupytext": {
   "text_representation": {
    "extension": ".md",
    "format_name": "myst",
    "format_version": 0.13,
    "jupytext_version": "1.11.5"
   }
  },
  "kernelspec": {
   "display_name": "Python 3.8.8 64-bit ('base': conda)",
   "language": "python",
   "name": "python3"
  },
  "language_info": {
   "codemirror_mode": {
    "name": "ipython",
    "version": 3
   },
   "file_extension": ".py",
   "mimetype": "text/x-python",
   "name": "python",
   "nbconvert_exporter": "python",
   "pygments_lexer": "ipython3",
   "version": "3.8.8"
  },
  "source_map": [
   12,
   20,
   24,
   28,
   30,
   34,
   36,
   40,
   43,
   47,
   50,
   54,
   57,
   61,
   63,
   67,
   72,
   76,
   78
  ]
 },
 "nbformat": 4,
 "nbformat_minor": 5
}