{
 "cells": [
  {
   "cell_type": "markdown",
   "id": "d0e6d8a0",
   "metadata": {},
   "source": [
    "# Introduction to numpy\n",
    "\n",
    "The numpy package is the preferred way to interact directly with arrays in Python. We won't need much of it, but it is worth going through some key points."
   ]
  },
  {
   "cell_type": "code",
   "execution_count": 1,
   "id": "4205a552",
   "metadata": {},
   "outputs": [
    {
     "data": {
      "text/plain": [
       "array([1, 2, 3, 4, 5])"
      ]
     },
     "execution_count": 1,
     "metadata": {},
     "output_type": "execute_result"
    }
   ],
   "source": [
    "import numpy as np\n",
    "\n",
    "x = np.array([1,2,3,4,5])\n",
    "x"
   ]
  },
  {
   "cell_type": "markdown",
   "id": "91d1ea5e",
   "metadata": {},
   "source": [
    "Don't forget that integers and floats are different objects in Python."
   ]
  },
  {
   "cell_type": "code",
   "execution_count": 2,
   "id": "ed472dc0",
   "metadata": {},
   "outputs": [
    {
     "data": {
      "text/plain": [
       "dtype('int64')"
      ]
     },
     "execution_count": 2,
     "metadata": {},
     "output_type": "execute_result"
    }
   ],
   "source": [
    "x.dtype"
   ]
  },
  {
   "cell_type": "code",
   "execution_count": 3,
   "id": "ddaa80b7",
   "metadata": {},
   "outputs": [
    {
     "data": {
      "text/plain": [
       "dtype('float64')"
      ]
     },
     "execution_count": 3,
     "metadata": {},
     "output_type": "execute_result"
    }
   ],
   "source": [
    "np.array([1.0,2,3,4,5]).dtype"
   ]
  },
  {
   "cell_type": "markdown",
   "id": "3eb4029a",
   "metadata": {},
   "source": [
    "The `shape` of an array is what we would usually call the *size* or *dimensions* of the array."
   ]
  },
  {
   "cell_type": "code",
   "execution_count": 4,
   "id": "72cf3981",
   "metadata": {},
   "outputs": [
    {
     "data": {
      "text/plain": [
       "(5,)"
      ]
     },
     "execution_count": 4,
     "metadata": {},
     "output_type": "execute_result"
    }
   ],
   "source": [
    "x.shape"
   ]
  },
  {
   "cell_type": "markdown",
   "id": "199fefb0",
   "metadata": {},
   "source": [
    "Informally, an array with one dimension may be referred to as a vector, but that is not an official designation in numpy."
   ]
  },
  {
   "cell_type": "code",
   "execution_count": 5,
   "id": "f1f614b7",
   "metadata": {},
   "outputs": [],
   "source": [
    "def showthem(lines):\n",
    "    for line in lines:\n",
    "        print() \n",
    "        print(line,\"=\")\n",
    "        print(eval(line))\n",
    "    return None"
   ]
  },
  {
   "cell_type": "markdown",
   "id": "b8387028",
   "metadata": {},
   "source": [
    "The components of the array are referenced starting at 0."
   ]
  },
  {
   "cell_type": "code",
   "execution_count": 6,
   "id": "d24d8337",
   "metadata": {},
   "outputs": [
    {
     "name": "stdout",
     "output_type": "stream",
     "text": [
      "\n",
      "x[0] =\n",
      "1\n",
      "\n",
      "x[[0,1,2]] =\n",
      "[1 2 3]\n"
     ]
    }
   ],
   "source": [
    "showthem([\"x[0]\",\"x[[0,1,2]]\"])"
   ]
  },
  {
   "cell_type": "code",
   "execution_count": 7,
   "id": "0f252de1",
   "metadata": {},
   "outputs": [
    {
     "name": "stdout",
     "output_type": "stream",
     "text": [
      "\n",
      "x[:3] =\n",
      "[1 2 3]\n"
     ]
    }
   ],
   "source": [
    "showthem([\"x[:3]\"])"
   ]
  },
  {
   "cell_type": "markdown",
   "id": "104c7c9c",
   "metadata": {},
   "source": [
    "The use of `x[:3]` above is referred to as **slicing** the array. The `:3` means to take the first three elements. If we want to reference from the end instead of the beginning, we can use negative indexes."
   ]
  },
  {
   "cell_type": "code",
   "execution_count": 8,
   "id": "a2ed20d6",
   "metadata": {},
   "outputs": [
    {
     "name": "stdout",
     "output_type": "stream",
     "text": [
      "\n",
      "x[-1] =\n",
      "5\n",
      "\n",
      "x[-3:] =\n",
      "[3 4 5]\n"
     ]
    }
   ],
   "source": [
    "showthem([\"x[-1]\",\"x[-3:]\"])"
   ]
  },
  {
   "cell_type": "markdown",
   "id": "e5ce8710",
   "metadata": {},
   "source": [
    "Where numpy slicing gets confusing is that in the range `i:j`, *the last index is not part of the slice.* This does mean that there are going to be $j-i$ values in the slice."
   ]
  },
  {
   "cell_type": "code",
   "execution_count": 9,
   "id": "f9694fbe",
   "metadata": {},
   "outputs": [
    {
     "name": "stdout",
     "output_type": "stream",
     "text": [
      "\n",
      "x[1:4] =\n",
      "[2 3 4]\n"
     ]
    }
   ],
   "source": [
    "showthem([\"x[1:4]\"])"
   ]
  },
  {
   "cell_type": "markdown",
   "id": "38f98370",
   "metadata": {},
   "source": [
    "Also, numpy is happy to let you index past the end of the array. It will just return as much as is available without complaint. This can be a source of frustrating bugs."
   ]
  },
  {
   "cell_type": "code",
   "execution_count": 10,
   "id": "ec8e933b",
   "metadata": {},
   "outputs": [
    {
     "name": "stdout",
     "output_type": "stream",
     "text": [
      "\n",
      "x[1:10] =\n",
      "[2 3 4 5]\n"
     ]
    }
   ],
   "source": [
    "showthem([\"x[1:10]\"])"
   ]
  },
  {
   "cell_type": "markdown",
   "id": "98b67fd9",
   "metadata": {},
   "source": [
    "## 2D arrays\n",
    "\n",
    "There is no practical difference between a 2D array and an array of rows, each given as a 1D array."
   ]
  },
  {
   "cell_type": "code",
   "execution_count": 11,
   "id": "fecd712f",
   "metadata": {},
   "outputs": [
    {
     "data": {
      "text/plain": [
       "(3, 2)"
      ]
     },
     "execution_count": 11,
     "metadata": {},
     "output_type": "execute_result"
    }
   ],
   "source": [
    "A = np.array( [[1,2],[3,4],[5,6]] )\n",
    "A.shape"
   ]
  },
  {
   "cell_type": "markdown",
   "id": "cb4b9f80",
   "metadata": {},
   "source": [
    "You can slice in each dimension individually."
   ]
  },
  {
   "cell_type": "code",
   "execution_count": 12,
   "id": "757aed60",
   "metadata": {},
   "outputs": [
    {
     "name": "stdout",
     "output_type": "stream",
     "text": [
      "\n",
      "A[-2:,:2] =\n",
      "[[3 4]\n",
      " [5 6]]\n"
     ]
    }
   ],
   "source": [
    "showthem([\"A[-2:,:2]\"])"
   ]
  },
  {
   "cell_type": "markdown",
   "id": "233141d1",
   "metadata": {},
   "source": [
    "A `:` in one slice position means to keep everything in that dimension."
   ]
  },
  {
   "cell_type": "code",
   "execution_count": 13,
   "id": "ef4bc323",
   "metadata": {},
   "outputs": [
    {
     "name": "stdout",
     "output_type": "stream",
     "text": [
      "\n",
      "A[:2,:] =\n",
      "[[1 2]\n",
      " [3 4]]\n",
      "\n",
      "A[:,0] =\n",
      "[1 3 5]\n"
     ]
    }
   ],
   "source": [
    "showthem([\"A[:2,:]\",\"A[:,0]\"])"
   ]
  },
  {
   "cell_type": "markdown",
   "id": "d6bbdbbf",
   "metadata": {},
   "source": [
    "Here are some other common ways to build arrays."
   ]
  },
  {
   "cell_type": "code",
   "execution_count": 14,
   "id": "9ad2619d",
   "metadata": {},
   "outputs": [
    {
     "name": "stdout",
     "output_type": "stream",
     "text": [
      "\n",
      "np.ones(5) =\n",
      "[1. 1. 1. 1. 1.]\n",
      "\n",
      "np.zeros((3,6)) =\n",
      "[[0. 0. 0. 0. 0. 0.]\n",
      " [0. 0. 0. 0. 0. 0.]\n",
      " [0. 0. 0. 0. 0. 0.]]\n",
      "\n",
      "np.repeat(np.pi,3) =\n",
      "[3.14159265 3.14159265 3.14159265]\n"
     ]
    }
   ],
   "source": [
    "showthem([\"np.ones(5)\",\"np.zeros((3,6))\",\"np.repeat(np.pi,3)\"])"
   ]
  },
  {
   "cell_type": "markdown",
   "id": "e060e8cf",
   "metadata": {},
   "source": [
    "## Reductions\n",
    "\n",
    "A common task is to *reduce* an array along one direction, called an *axis* in numpy, resulting in an array of one less dimension. It's easiest to explain by some examples."
   ]
  },
  {
   "cell_type": "code",
   "execution_count": 15,
   "id": "b287da51",
   "metadata": {},
   "outputs": [
    {
     "name": "stdout",
     "output_type": "stream",
     "text": [
      "\n",
      "A =\n",
      "[[1 2]\n",
      " [3 4]\n",
      " [5 6]]\n",
      "\n",
      "np.sum(A,axis=0) =\n",
      "[ 9 12]\n",
      "\n",
      "np.sum(A,axis=1) =\n",
      "[ 3  7 11]\n"
     ]
    }
   ],
   "source": [
    "showthem([\"A\",\"np.sum(A,axis=0)\",\"np.sum(A,axis=1)\"])"
   ]
  },
  {
   "cell_type": "markdown",
   "id": "623360d5",
   "metadata": {},
   "source": [
    "If you don't give an axis, the reduction occurs over all directions at once, resulting in a single number."
   ]
  },
  {
   "cell_type": "code",
   "execution_count": 16,
   "id": "f6012330",
   "metadata": {},
   "outputs": [
    {
     "name": "stdout",
     "output_type": "stream",
     "text": [
      "\n",
      "np.sum(A) =\n",
      "21\n"
     ]
    }
   ],
   "source": [
    "showthem([\"np.sum(A)\"])"
   ]
  },
  {
   "cell_type": "markdown",
   "id": "15954cc4",
   "metadata": {},
   "source": [
    "You can also do reductions with maximum, minimum, mean, etc."
   ]
  },
  {
   "cell_type": "markdown",
   "id": "c9ad8855",
   "metadata": {},
   "source": [
    "## Broadcasting\n",
    "\n",
    "You can add together arrays of the same shape, just as you would expect. Generally, you cannot do that for arrays with different shapes."
   ]
  },
  {
   "cell_type": "code",
   "execution_count": 17,
   "id": "044e860f",
   "metadata": {},
   "outputs": [
    {
     "name": "stdout",
     "output_type": "stream",
     "text": [
      "\n",
      "x+x =\n",
      "[ 2  4  6  8 10]\n",
      "\n",
      "x+y =\n"
     ]
    },
    {
     "ename": "ValueError",
     "evalue": "operands could not be broadcast together with shapes (5,) (2,) ",
     "output_type": "error",
     "traceback": [
      "\u001b[0;31m---------------------------------------------------------------------------\u001b[0m",
      "\u001b[0;31mValueError\u001b[0m                                Traceback (most recent call last)",
      "\u001b[0;32m/var/folders/cn/8w40979d27x0kv2wsnx7zgvm0000gp/T/ipykernel_53242/3262596443.py\u001b[0m in \u001b[0;36m<module>\u001b[0;34m\u001b[0m\n\u001b[1;32m      1\u001b[0m \u001b[0mx\u001b[0m \u001b[0;34m=\u001b[0m \u001b[0mnp\u001b[0m\u001b[0;34m.\u001b[0m\u001b[0marray\u001b[0m\u001b[0;34m(\u001b[0m\u001b[0;34m[\u001b[0m\u001b[0;36m1\u001b[0m\u001b[0;34m,\u001b[0m\u001b[0;36m2\u001b[0m\u001b[0;34m,\u001b[0m\u001b[0;36m3\u001b[0m\u001b[0;34m,\u001b[0m\u001b[0;36m4\u001b[0m\u001b[0;34m,\u001b[0m\u001b[0;36m5\u001b[0m\u001b[0;34m]\u001b[0m\u001b[0;34m)\u001b[0m\u001b[0;34m\u001b[0m\u001b[0;34m\u001b[0m\u001b[0m\n\u001b[1;32m      2\u001b[0m \u001b[0my\u001b[0m \u001b[0;34m=\u001b[0m \u001b[0mnp\u001b[0m\u001b[0;34m.\u001b[0m\u001b[0marray\u001b[0m\u001b[0;34m(\u001b[0m\u001b[0;34m[\u001b[0m\u001b[0;36m10\u001b[0m\u001b[0;34m,\u001b[0m\u001b[0;36m20\u001b[0m\u001b[0;34m]\u001b[0m\u001b[0;34m)\u001b[0m\u001b[0;34m\u001b[0m\u001b[0;34m\u001b[0m\u001b[0m\n\u001b[0;32m----> 3\u001b[0;31m \u001b[0mshowthem\u001b[0m\u001b[0;34m(\u001b[0m\u001b[0;34m[\u001b[0m\u001b[0;34m\"x+x\"\u001b[0m\u001b[0;34m,\u001b[0m\u001b[0;34m\"x+y\"\u001b[0m\u001b[0;34m]\u001b[0m\u001b[0;34m)\u001b[0m\u001b[0;34m\u001b[0m\u001b[0;34m\u001b[0m\u001b[0m\n\u001b[0m",
      "\u001b[0;32m/var/folders/cn/8w40979d27x0kv2wsnx7zgvm0000gp/T/ipykernel_53242/1104616966.py\u001b[0m in \u001b[0;36mshowthem\u001b[0;34m(lines)\u001b[0m\n\u001b[1;32m      3\u001b[0m         \u001b[0mprint\u001b[0m\u001b[0;34m(\u001b[0m\u001b[0;34m)\u001b[0m\u001b[0;34m\u001b[0m\u001b[0;34m\u001b[0m\u001b[0m\n\u001b[1;32m      4\u001b[0m         \u001b[0mprint\u001b[0m\u001b[0;34m(\u001b[0m\u001b[0mline\u001b[0m\u001b[0;34m,\u001b[0m\u001b[0;34m\"=\"\u001b[0m\u001b[0;34m)\u001b[0m\u001b[0;34m\u001b[0m\u001b[0;34m\u001b[0m\u001b[0m\n\u001b[0;32m----> 5\u001b[0;31m         \u001b[0mprint\u001b[0m\u001b[0;34m(\u001b[0m\u001b[0meval\u001b[0m\u001b[0;34m(\u001b[0m\u001b[0mline\u001b[0m\u001b[0;34m)\u001b[0m\u001b[0;34m)\u001b[0m\u001b[0;34m\u001b[0m\u001b[0;34m\u001b[0m\u001b[0m\n\u001b[0m\u001b[1;32m      6\u001b[0m     \u001b[0;32mreturn\u001b[0m \u001b[0;32mNone\u001b[0m\u001b[0;34m\u001b[0m\u001b[0;34m\u001b[0m\u001b[0m\n",
      "\u001b[0;32m<string>\u001b[0m in \u001b[0;36m<module>\u001b[0;34m\u001b[0m\n",
      "\u001b[0;31mValueError\u001b[0m: operands could not be broadcast together with shapes (5,) (2,) "
     ]
    }
   ],
   "source": [
    "x = np.array([1,2,3,4,5])\n",
    "y = np.array([10,20])\n",
    "showthem([\"x+x\",\"x+y\"])"
   ]
  },
  {
   "cell_type": "markdown",
   "id": "3f626145",
   "metadata": {},
   "source": [
    "There is a major exception though: when one of the operands can be repeated along an axis to become the same shape as the other, then this *broadcasting* is done."
   ]
  },
  {
   "cell_type": "code",
   "execution_count": 18,
   "id": "3fb42f3f",
   "metadata": {},
   "outputs": [
    {
     "name": "stdout",
     "output_type": "stream",
     "text": [
      "\n",
      "x+3 =\n",
      "[4 5 6 7 8]\n",
      "\n",
      "A-y =\n",
      "[[ -9 -18]\n",
      " [ -7 -16]\n",
      " [ -5 -14]]\n"
     ]
    }
   ],
   "source": [
    "showthem([\"x+3\",\"A-y\"])"
   ]
  },
  {
   "cell_type": "markdown",
   "id": "03b3b219",
   "metadata": {},
   "source": [
    "For example, suppose that for every element in a column, we want to subtract off the average value in that column. This becomes easy via broadcasting."
   ]
  },
  {
   "cell_type": "code",
   "execution_count": 19,
   "id": "7fbdf852",
   "metadata": {},
   "outputs": [
    {
     "name": "stdout",
     "output_type": "stream",
     "text": [
      "\n",
      "A-np.mean(A,axis=0) =\n",
      "[[-2. -2.]\n",
      " [ 0.  0.]\n",
      " [ 2.  2.]]\n"
     ]
    }
   ],
   "source": [
    "showthem([\"A-np.mean(A,axis=0)\"])"
   ]
  },
  {
   "cell_type": "markdown",
   "id": "bd68fc0a",
   "metadata": {},
   "source": [
    "## Random numbers\n",
    "\n",
    "Generating truly random numbers on a computer is not simple. Mostly we rely on *pseudorandom* numbers, which are generated by deterministic functions having extremely long periods. One nice consequence is repeatability. Given the starting \"seed\" or state of the random generator, you should be able to get exactly the same pseudorandom sequence every time.\n",
    "\n",
    "We will rely on pseudorandom numbers in two ways. First, many algorithms in data science have at least one random aspect (dividing data into subsets, for example). The library routines we will be using allow you to specify the random state and get repeatable results. Occasionally, though, we might want to generate random values for our own use."
   ]
  },
  {
   "cell_type": "code",
   "execution_count": 20,
   "id": "575a9fbf",
   "metadata": {},
   "outputs": [],
   "source": [
    "from numpy.random import default_rng\n",
    "rng = default_rng(19716)  # giving an initial state to the generator"
   ]
  },
  {
   "cell_type": "markdown",
   "id": "ceeb51f5",
   "metadata": {},
   "source": [
    "The `uniform` generator method produces numbers distributed uniformly (i.e., every value is equally likely) between two limits you specify."
   ]
  },
  {
   "cell_type": "code",
   "execution_count": 21,
   "id": "1a1d25bf",
   "metadata": {},
   "outputs": [
    {
     "data": {
      "text/plain": [
       "array([[ 0.95168753,  0.31539479, -0.665158  ],\n",
       "       [ 0.4292572 ,  0.96076254,  0.35726498],\n",
       "       [-0.95950348, -0.83727892, -0.88239937],\n",
       "       [ 0.57263239,  0.80400543, -0.38772561]])"
      ]
     },
     "execution_count": 21,
     "metadata": {},
     "output_type": "execute_result"
    }
   ],
   "source": [
    "rng.uniform(-1,1,size=(4,3))"
   ]
  },
  {
   "cell_type": "markdown",
   "id": "82b926cd",
   "metadata": {},
   "source": [
    "Another common type of random value is generated by `normal`, which produces real values distributed according to the \"bell curve\" (normal or Gaussian distribution)."
   ]
  },
  {
   "cell_type": "code",
   "execution_count": 22,
   "id": "30b34924",
   "metadata": {},
   "outputs": [
    {
     "data": {
      "text/plain": [
       "array([[ 2.07503   , -0.07714901,  1.19144657, -0.65962782],\n",
       "       [-0.85564896,  1.68707045,  1.19491051,  1.44790912]])"
      ]
     },
     "execution_count": 22,
     "metadata": {},
     "output_type": "execute_result"
    }
   ],
   "source": [
    "rng.normal(size=(2,4))"
   ]
  },
  {
   "cell_type": "markdown",
   "id": "97168100",
   "metadata": {},
   "source": [
    "In the long run, the average value of these numbers will be zero."
   ]
  },
  {
   "cell_type": "code",
   "execution_count": 23,
   "id": "d1644999",
   "metadata": {},
   "outputs": [
    {
     "data": {
      "text/plain": [
       "-0.0025048371736856203"
      ]
     },
     "execution_count": 23,
     "metadata": {},
     "output_type": "execute_result"
    }
   ],
   "source": [
    "x = rng.normal(size=400000)\n",
    "np.mean(x)"
   ]
  },
  {
   "cell_type": "markdown",
   "id": "c54c3abf",
   "metadata": {},
   "source": [
    "Results with absolute value greater than 3 should occur at a rate less than 1%."
   ]
  },
  {
   "cell_type": "code",
   "execution_count": 24,
   "id": "7e4d6047",
   "metadata": {},
   "outputs": [
    {
     "data": {
      "text/plain": [
       "0.00272"
      ]
     },
     "execution_count": 24,
     "metadata": {},
     "output_type": "execute_result"
    }
   ],
   "source": [
    "np.mean( np.abs(x)>3 )"
   ]
  },
  {
   "cell_type": "markdown",
   "id": "f6bbd452",
   "metadata": {},
   "source": [
    "<div style=\"max-width:608px\"><div style=\"position:relative;padding-bottom:66.118421052632%\"><iframe id=\"kaltura_player\" src=\"https://cdnapisec.kaltura.com/p/2358381/sp/235838100/embedIframeJs/uiconf_id/43030021/partner_id/2358381?iframeembed=true&playerId=kaltura_player&entry_id=1_w2pr41c8&flashvars[streamerType]=auto&amp;flashvars[localizationCode]=en&amp;flashvars[leadWithHTML5]=true&amp;flashvars[sideBarContainer.plugin]=true&amp;flashvars[sideBarContainer.position]=left&amp;flashvars[sideBarContainer.clickToClose]=true&amp;flashvars[chapters.plugin]=true&amp;flashvars[chapters.layout]=vertical&amp;flashvars[chapters.thumbnailRotator]=false&amp;flashvars[streamSelector.plugin]=true&amp;flashvars[EmbedPlayer.SpinnerTarget]=videoHolder&amp;flashvars[dualScreen.plugin]=true&amp;flashvars[Kaltura.addCrossoriginToIframe]=true&amp;&wid=1_1bu728r1\" width=\"608\" height=\"402\" allowfullscreen webkitallowfullscreen mozAllowFullScreen allow=\"autoplay *; fullscreen *; encrypted-media *\" sandbox=\"allow-forms allow-same-origin allow-scripts allow-top-navigation allow-pointer-lock allow-popups allow-modals allow-orientation-lock allow-popups-to-escape-sandbox allow-presentation allow-top-navigation-by-user-activation\" frameborder=\"0\" title=\"Kaltura Player\" style=\"position:absolute;top:0;left:0;width:100%;height:100%\"></iframe></div></div>"
   ]
  }
 ],
 "metadata": {
  "jupytext": {
   "text_representation": {
    "extension": ".md",
    "format_name": "myst",
    "format_version": 0.13,
    "jupytext_version": "1.11.5"
   }
  },
  "kernelspec": {
   "display_name": "Python 3.8.8 64-bit ('base': conda)",
   "language": "python",
   "name": "python3"
  },
  "language_info": {
   "codemirror_mode": {
    "name": "ipython",
    "version": 3
   },
   "file_extension": ".py",
   "mimetype": "text/x-python",
   "name": "python",
   "nbconvert_exporter": "python",
   "pygments_lexer": "ipython3",
   "version": "3.8.8"
  },
  "source_map": [
   12,
   18,
   23,
   27,
   31,
   33,
   37,
   39,
   43,
   50,
   55,
   59,
   61,
   65,
   67,
   71,
   73,
   77,
   79,
   85,
   88,
   92,
   94,
   98,
   100,
   104,
   106,
   112,
   114,
   118,
   120,
   124,
   130,
   134,
   138,
   140,
   144,
   146,
   154,
   157,
   161,
   163,
   167,
   169,
   173,
   176,
   180,
   182
  ]
 },
 "nbformat": 4,
 "nbformat_minor": 5
}