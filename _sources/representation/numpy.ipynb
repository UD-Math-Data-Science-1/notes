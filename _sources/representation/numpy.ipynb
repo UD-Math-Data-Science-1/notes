{
 "cells": [
  {
   "cell_type": "markdown",
   "id": "8c8b024e",
   "metadata": {},
   "source": [
    "# Introduction to numpy\n",
    "\n",
    "The numpy package is the preferred way to interact directly with arrays in Python. We won't need much of it, but it is worth going through some key points."
   ]
  },
  {
   "cell_type": "code",
   "execution_count": 1,
   "id": "497f4f56",
   "metadata": {},
   "outputs": [
    {
     "data": {
      "text/plain": [
       "array([1, 2, 3, 4, 5])"
      ]
     },
     "execution_count": 1,
     "metadata": {},
     "output_type": "execute_result"
    }
   ],
   "source": [
    "import numpy as np\n",
    "\n",
    "x = np.array([1,2,3,4,5])\n",
    "x"
   ]
  },
  {
   "cell_type": "markdown",
   "id": "5698c66f",
   "metadata": {},
   "source": [
    "Don't forget that integers and floats are different objects in Python."
   ]
  },
  {
   "cell_type": "code",
   "execution_count": 2,
   "id": "224765bc",
   "metadata": {},
   "outputs": [
    {
     "data": {
      "text/plain": [
       "dtype('int64')"
      ]
     },
     "execution_count": 2,
     "metadata": {},
     "output_type": "execute_result"
    }
   ],
   "source": [
    "x.dtype"
   ]
  },
  {
   "cell_type": "code",
   "execution_count": 3,
   "id": "a7bccaf8",
   "metadata": {},
   "outputs": [
    {
     "data": {
      "text/plain": [
       "dtype('float64')"
      ]
     },
     "execution_count": 3,
     "metadata": {},
     "output_type": "execute_result"
    }
   ],
   "source": [
    "np.array([1.0,2,3,4,5]).dtype"
   ]
  },
  {
   "cell_type": "markdown",
   "id": "a5f77926",
   "metadata": {},
   "source": [
    "The `shape` of an array is what we would usually call the *size* or *dimensions* of the array."
   ]
  },
  {
   "cell_type": "code",
   "execution_count": 4,
   "id": "5745e37f",
   "metadata": {},
   "outputs": [
    {
     "data": {
      "text/plain": [
       "(5,)"
      ]
     },
     "execution_count": 4,
     "metadata": {},
     "output_type": "execute_result"
    }
   ],
   "source": [
    "x.shape"
   ]
  },
  {
   "cell_type": "markdown",
   "id": "5b7d76f8",
   "metadata": {},
   "source": [
    "Informally, an array with one dimension may be referred to as a vector, but that is not an official designation in numpy."
   ]
  },
  {
   "cell_type": "code",
   "execution_count": 5,
   "id": "673f35fd",
   "metadata": {},
   "outputs": [],
   "source": [
    "def showthem(lines):\n",
    "    for line in lines:\n",
    "        print() \n",
    "        print(line,\"is\")\n",
    "        print(eval(line))\n",
    "    return None"
   ]
  },
  {
   "cell_type": "markdown",
   "id": "d117095e",
   "metadata": {},
   "source": [
    "The components of the array are referenced starting at 0."
   ]
  },
  {
   "cell_type": "code",
   "execution_count": 6,
   "id": "ffbf74fb",
   "metadata": {},
   "outputs": [
    {
     "name": "stdout",
     "output_type": "stream",
     "text": [
      "\n",
      "x[0] is\n",
      "1\n",
      "\n",
      "x[[0,1,2]] is\n",
      "[1 2 3]\n"
     ]
    }
   ],
   "source": [
    "showthem([\"x[0]\",\"x[[0,1,2]]\"])"
   ]
  },
  {
   "cell_type": "code",
   "execution_count": 7,
   "id": "9d208622",
   "metadata": {},
   "outputs": [
    {
     "name": "stdout",
     "output_type": "stream",
     "text": [
      "\n",
      "x[:3] is\n",
      "[1 2 3]\n"
     ]
    }
   ],
   "source": [
    "showthem([\"x[:3]\"])"
   ]
  },
  {
   "cell_type": "markdown",
   "id": "6844c8c1",
   "metadata": {},
   "source": [
    "The use of `x[:3]` above is referred to as **slicing** the array. The `:3` means to take the first three elements. If we want to reference from the end instead of the beginning, we can use negative indexes."
   ]
  },
  {
   "cell_type": "code",
   "execution_count": 8,
   "id": "983e7dd7",
   "metadata": {},
   "outputs": [
    {
     "name": "stdout",
     "output_type": "stream",
     "text": [
      "\n",
      "x[-1] is\n",
      "5\n",
      "\n",
      "x[-3:] is\n",
      "[3 4 5]\n"
     ]
    }
   ],
   "source": [
    "showthem([\"x[-1]\",\"x[-3:]\"])"
   ]
  },
  {
   "cell_type": "markdown",
   "id": "13d758d9",
   "metadata": {},
   "source": [
    "Where numpy slicing gets confusing is that in the range `i:j`, *the last index is not part of the slice.* This does mean that there are going to be $j-i$ values in the slice."
   ]
  },
  {
   "cell_type": "code",
   "execution_count": 9,
   "id": "1a61fc98",
   "metadata": {},
   "outputs": [
    {
     "name": "stdout",
     "output_type": "stream",
     "text": [
      "\n",
      "x[1:4] is\n",
      "[2 3 4]\n"
     ]
    }
   ],
   "source": [
    "showthem([\"x[1:4]\"])"
   ]
  },
  {
   "cell_type": "markdown",
   "id": "d0609109",
   "metadata": {},
   "source": [
    "Also, numpy is happy to let you index past the end of the array. It will just return as much as is available without complaint. This can be a source of frustrating bugs."
   ]
  },
  {
   "cell_type": "code",
   "execution_count": 10,
   "id": "a3df2fc8",
   "metadata": {},
   "outputs": [
    {
     "name": "stdout",
     "output_type": "stream",
     "text": [
      "\n",
      "x[1:10] is\n",
      "[2 3 4 5]\n"
     ]
    }
   ],
   "source": [
    "showthem([\"x[1:10]\"])"
   ]
  },
  {
   "cell_type": "markdown",
   "id": "2ea609e9",
   "metadata": {},
   "source": [
    "## 2D arrays\n",
    "\n",
    "There is no practical difference between a 2D array and an array of rows, each given as a 1D array."
   ]
  },
  {
   "cell_type": "code",
   "execution_count": 11,
   "id": "3a12d504",
   "metadata": {},
   "outputs": [
    {
     "data": {
      "text/plain": [
       "(3, 2)"
      ]
     },
     "execution_count": 11,
     "metadata": {},
     "output_type": "execute_result"
    }
   ],
   "source": [
    "A = np.array( [[1,2],[3,4],[5,6]] )\n",
    "A.shape"
   ]
  },
  {
   "cell_type": "markdown",
   "id": "027a2596",
   "metadata": {},
   "source": [
    "You can slice in each dimension individually."
   ]
  },
  {
   "cell_type": "code",
   "execution_count": 12,
   "id": "1809cf30",
   "metadata": {},
   "outputs": [
    {
     "name": "stdout",
     "output_type": "stream",
     "text": [
      "\n",
      "A[-2:,:2] is\n",
      "[[3 4]\n",
      " [5 6]]\n"
     ]
    }
   ],
   "source": [
    "showthem([\"A[-2:,:2]\"])"
   ]
  },
  {
   "cell_type": "markdown",
   "id": "46c39608",
   "metadata": {},
   "source": [
    "A `:` in one slice position means to keep everything in that dimension."
   ]
  },
  {
   "cell_type": "code",
   "execution_count": 13,
   "id": "09c094b6",
   "metadata": {},
   "outputs": [
    {
     "name": "stdout",
     "output_type": "stream",
     "text": [
      "\n",
      "A[:2,:] is\n",
      "[[1 2]\n",
      " [3 4]]\n",
      "\n",
      "A[:,0] is\n",
      "[1 3 5]\n"
     ]
    }
   ],
   "source": [
    "showthem([\"A[:2,:]\",\"A[:,0]\"])"
   ]
  },
  {
   "cell_type": "markdown",
   "id": "f0ab878b",
   "metadata": {},
   "source": [
    "You can build arrays using list comprehensions."
   ]
  },
  {
   "cell_type": "code",
   "execution_count": 14,
   "id": "9644de57",
   "metadata": {},
   "outputs": [
    {
     "data": {
      "text/plain": [
       "array([[ 0,  1,  2,  3,  4,  5],\n",
       "       [-1,  0,  1,  2,  3,  4],\n",
       "       [-2, -1,  0,  1,  2,  3],\n",
       "       [-3, -2, -1,  0,  1,  2]])"
      ]
     },
     "execution_count": 14,
     "metadata": {},
     "output_type": "execute_result"
    }
   ],
   "source": [
    "np.array([ [j-i for j in range(6)] for i in range(4) ])"
   ]
  },
  {
   "cell_type": "markdown",
   "id": "8b3a15d0",
   "metadata": {},
   "source": [
    "Here are some other common ways to construct arrays."
   ]
  },
  {
   "cell_type": "code",
   "execution_count": 15,
   "id": "3f6a34c4",
   "metadata": {},
   "outputs": [
    {
     "name": "stdout",
     "output_type": "stream",
     "text": [
      "\n",
      "np.ones(5) is\n",
      "[1. 1. 1. 1. 1.]\n",
      "\n",
      "np.zeros((3,6)) is\n",
      "[[0. 0. 0. 0. 0. 0.]\n",
      " [0. 0. 0. 0. 0. 0.]\n",
      " [0. 0. 0. 0. 0. 0.]]\n",
      "\n",
      "np.repeat(np.pi,3) is\n",
      "[3.14159265 3.14159265 3.14159265]\n"
     ]
    }
   ],
   "source": [
    "showthem([\"np.ones(5)\",\"np.zeros((3,6))\",\"np.repeat(np.pi,3)\"])"
   ]
  },
  {
   "cell_type": "markdown",
   "id": "510f3663",
   "metadata": {},
   "source": [
    "You can also stack arrays vertically or horizontally to create new arrays."
   ]
  },
  {
   "cell_type": "code",
   "execution_count": 16,
   "id": "266f137f",
   "metadata": {},
   "outputs": [
    {
     "data": {
      "text/plain": [
       "array([[1., 1., 0., 0., 0.],\n",
       "       [1., 1., 0., 0., 0.]])"
      ]
     },
     "execution_count": 16,
     "metadata": {},
     "output_type": "execute_result"
    }
   ],
   "source": [
    "np.hstack( (np.ones((2,2)),np.zeros((2,3))) )"
   ]
  },
  {
   "cell_type": "code",
   "execution_count": 17,
   "id": "bc09a487",
   "metadata": {},
   "outputs": [
    {
     "data": {
      "text/plain": [
       "array([[0, 1, 2, 3, 4],\n",
       "       [5, 4, 3, 2, 1]])"
      ]
     },
     "execution_count": 17,
     "metadata": {},
     "output_type": "execute_result"
    }
   ],
   "source": [
    "np.vstack( (range(5),range(5,0,-1)) )"
   ]
  },
  {
   "cell_type": "markdown",
   "id": "61b9eb41",
   "metadata": {},
   "source": [
    "## Reductions\n",
    "\n",
    "A common task is to *reduce* an array along one direction, called an *axis* in numpy, resulting in an array of one less dimension. It's easiest to explain by some examples."
   ]
  },
  {
   "cell_type": "code",
   "execution_count": 18,
   "id": "4c4983d9",
   "metadata": {},
   "outputs": [
    {
     "name": "stdout",
     "output_type": "stream",
     "text": [
      "\n",
      "A is\n",
      "[[1 2]\n",
      " [3 4]\n",
      " [5 6]]\n",
      "\n",
      "np.sum(A,axis=0) is\n",
      "[ 9 12]\n",
      "\n",
      "np.sum(A,axis=1) is\n",
      "[ 3  7 11]\n"
     ]
    }
   ],
   "source": [
    "showthem([\"A\",\"np.sum(A,axis=0)\",\"np.sum(A,axis=1)\"])"
   ]
  },
  {
   "cell_type": "markdown",
   "id": "bceeaa44",
   "metadata": {},
   "source": [
    "If you don't give an axis, the reduction occurs over all directions at once, resulting in a single number."
   ]
  },
  {
   "cell_type": "code",
   "execution_count": 19,
   "id": "475dc9fe",
   "metadata": {},
   "outputs": [
    {
     "name": "stdout",
     "output_type": "stream",
     "text": [
      "\n",
      "np.sum(A) is\n",
      "21\n"
     ]
    }
   ],
   "source": [
    "showthem([\"np.sum(A)\"])"
   ]
  },
  {
   "cell_type": "markdown",
   "id": "056a4be7",
   "metadata": {},
   "source": [
    "You can also do reductions with maximum, minimum, mean, etc."
   ]
  },
  {
   "cell_type": "markdown",
   "id": "ee6a8944",
   "metadata": {},
   "source": [
    "## Broadcasting\n",
    "\n",
    "You can add together arrays of the same shape, just as you would expect. Generally, you cannot do that for arrays with different shapes."
   ]
  },
  {
   "cell_type": "code",
   "execution_count": 20,
   "id": "07c5a630",
   "metadata": {},
   "outputs": [
    {
     "name": "stdout",
     "output_type": "stream",
     "text": [
      "\n",
      "x+x is\n",
      "[ 2  4  6  8 10]\n",
      "\n",
      "x+y is\n"
     ]
    },
    {
     "ename": "ValueError",
     "evalue": "operands could not be broadcast together with shapes (5,) (2,) ",
     "output_type": "error",
     "traceback": [
      "\u001b[0;31m---------------------------------------------------------------------------\u001b[0m",
      "\u001b[0;31mValueError\u001b[0m                                Traceback (most recent call last)",
      "Input \u001b[0;32mIn [20]\u001b[0m, in \u001b[0;36m<cell line: 3>\u001b[0;34m()\u001b[0m\n\u001b[1;32m      1\u001b[0m x \u001b[38;5;241m=\u001b[39m np\u001b[38;5;241m.\u001b[39marray([\u001b[38;5;241m1\u001b[39m,\u001b[38;5;241m2\u001b[39m,\u001b[38;5;241m3\u001b[39m,\u001b[38;5;241m4\u001b[39m,\u001b[38;5;241m5\u001b[39m])\n\u001b[1;32m      2\u001b[0m y \u001b[38;5;241m=\u001b[39m np\u001b[38;5;241m.\u001b[39marray([\u001b[38;5;241m10\u001b[39m,\u001b[38;5;241m20\u001b[39m])\n\u001b[0;32m----> 3\u001b[0m \u001b[43mshowthem\u001b[49m\u001b[43m(\u001b[49m\u001b[43m[\u001b[49m\u001b[38;5;124;43m\"\u001b[39;49m\u001b[38;5;124;43mx+x\u001b[39;49m\u001b[38;5;124;43m\"\u001b[39;49m\u001b[43m,\u001b[49m\u001b[38;5;124;43m\"\u001b[39;49m\u001b[38;5;124;43mx+y\u001b[39;49m\u001b[38;5;124;43m\"\u001b[39;49m\u001b[43m]\u001b[49m\u001b[43m)\u001b[49m\n",
      "Input \u001b[0;32mIn [5]\u001b[0m, in \u001b[0;36mshowthem\u001b[0;34m(lines)\u001b[0m\n\u001b[1;32m      3\u001b[0m     \u001b[38;5;28mprint\u001b[39m() \n\u001b[1;32m      4\u001b[0m     \u001b[38;5;28mprint\u001b[39m(line,\u001b[38;5;124m\"\u001b[39m\u001b[38;5;124mis\u001b[39m\u001b[38;5;124m\"\u001b[39m)\n\u001b[0;32m----> 5\u001b[0m     \u001b[38;5;28mprint\u001b[39m(\u001b[38;5;28;43meval\u001b[39;49m\u001b[43m(\u001b[49m\u001b[43mline\u001b[49m\u001b[43m)\u001b[49m)\n\u001b[1;32m      6\u001b[0m \u001b[38;5;28;01mreturn\u001b[39;00m \u001b[38;5;28;01mNone\u001b[39;00m\n",
      "File \u001b[0;32m<string>:1\u001b[0m, in \u001b[0;36m<module>\u001b[0;34m\u001b[0m\n",
      "\u001b[0;31mValueError\u001b[0m: operands could not be broadcast together with shapes (5,) (2,) "
     ]
    }
   ],
   "source": [
    "x = np.array([1,2,3,4,5])\n",
    "y = np.array([10,20])\n",
    "showthem([\"x+x\",\"x+y\"])"
   ]
  },
  {
   "cell_type": "markdown",
   "id": "ad441749",
   "metadata": {},
   "source": [
    "There is a major exception though: when one of the operands can be repeated along an axis to become the same shape as the other, then this *broadcasting* is done."
   ]
  },
  {
   "cell_type": "code",
   "execution_count": 21,
   "id": "d21edf41",
   "metadata": {},
   "outputs": [
    {
     "name": "stdout",
     "output_type": "stream",
     "text": [
      "\n",
      "x+3 is\n",
      "[4 5 6 7 8]\n",
      "\n",
      "A-y is\n",
      "[[ -9 -18]\n",
      " [ -7 -16]\n",
      " [ -5 -14]]\n"
     ]
    }
   ],
   "source": [
    "showthem([\"x+3\",\"A-y\"])"
   ]
  },
  {
   "cell_type": "markdown",
   "id": "28259ffc",
   "metadata": {},
   "source": [
    "For example, suppose that for every element in a column, we want to subtract off the average value in that column. This becomes easy via broadcasting."
   ]
  },
  {
   "cell_type": "code",
   "execution_count": 22,
   "id": "52978b9d",
   "metadata": {},
   "outputs": [
    {
     "name": "stdout",
     "output_type": "stream",
     "text": [
      "\n",
      "A-np.mean(A,axis=0) is\n",
      "[[-2. -2.]\n",
      " [ 0.  0.]\n",
      " [ 2.  2.]]\n"
     ]
    }
   ],
   "source": [
    "showthem([\"A-np.mean(A,axis=0)\"])"
   ]
  },
  {
   "cell_type": "markdown",
   "id": "b75bfda3",
   "metadata": {},
   "source": [
    "## Random numbers\n",
    "\n",
    "Generating truly random numbers on a computer is not simple. Mostly we rely on *pseudorandom* numbers, which are generated by deterministic functions having extremely long periods. One nice consequence is repeatability. Given the starting \"seed\" or state of the random generator, you should be able to get exactly the same pseudorandom sequence every time.\n",
    "\n",
    "We will rely on pseudorandom numbers in two ways. First, many algorithms in data science have at least one random aspect (dividing data into subsets, for example). The library routines we will be using allow you to specify the random state and get repeatable results. Occasionally, though, we might want to generate random values for our own use."
   ]
  },
  {
   "cell_type": "code",
   "execution_count": 23,
   "id": "c724ade6",
   "metadata": {},
   "outputs": [],
   "source": [
    "from numpy.random import default_rng\n",
    "rng = default_rng(19716)  # giving an initial state to the generator"
   ]
  },
  {
   "cell_type": "markdown",
   "id": "8a49e344",
   "metadata": {},
   "source": [
    "The `uniform` generator method produces numbers distributed uniformly (i.e., every value is equally likely) between two limits you specify."
   ]
  },
  {
   "cell_type": "code",
   "execution_count": 24,
   "id": "a450e55a",
   "metadata": {},
   "outputs": [
    {
     "data": {
      "text/plain": [
       "array([[ 0.95168753,  0.31539479, -0.665158  ],\n",
       "       [ 0.4292572 ,  0.96076254,  0.35726498],\n",
       "       [-0.95950348, -0.83727892, -0.88239937],\n",
       "       [ 0.57263239,  0.80400543, -0.38772561]])"
      ]
     },
     "execution_count": 24,
     "metadata": {},
     "output_type": "execute_result"
    }
   ],
   "source": [
    "rng.uniform(-1,1,size=(4,3))"
   ]
  },
  {
   "cell_type": "markdown",
   "id": "d3b65413",
   "metadata": {},
   "source": [
    "Another common type of random value is generated by `normal`, which produces real values distributed according to the \"bell curve\" (normal or Gaussian distribution)."
   ]
  },
  {
   "cell_type": "code",
   "execution_count": 25,
   "id": "dcd5c86d",
   "metadata": {},
   "outputs": [
    {
     "data": {
      "text/plain": [
       "array([[ 2.07503   , -0.07714901,  1.19144657, -0.65962782],\n",
       "       [-0.85564896,  1.68707045,  1.19491051,  1.44790912]])"
      ]
     },
     "execution_count": 25,
     "metadata": {},
     "output_type": "execute_result"
    }
   ],
   "source": [
    "rng.normal(size=(2,4))"
   ]
  },
  {
   "cell_type": "markdown",
   "id": "a82035b9",
   "metadata": {},
   "source": [
    "In the long run, the average value of these numbers will be zero."
   ]
  },
  {
   "cell_type": "code",
   "execution_count": 26,
   "id": "00178a71",
   "metadata": {},
   "outputs": [
    {
     "data": {
      "text/plain": [
       "-0.0025048371736856203"
      ]
     },
     "execution_count": 26,
     "metadata": {},
     "output_type": "execute_result"
    }
   ],
   "source": [
    "x = rng.normal(size=400000)\n",
    "np.mean(x)"
   ]
  },
  {
   "cell_type": "markdown",
   "id": "e5f89a5c",
   "metadata": {},
   "source": [
    "Results with absolute value greater than 3 should occur at a rate less than 1%."
   ]
  },
  {
   "cell_type": "code",
   "execution_count": 27,
   "id": "539401ee",
   "metadata": {},
   "outputs": [
    {
     "data": {
      "text/plain": [
       "0.00272"
      ]
     },
     "execution_count": 27,
     "metadata": {},
     "output_type": "execute_result"
    }
   ],
   "source": [
    "np.mean( np.abs(x)>3 )"
   ]
  },
  {
   "cell_type": "markdown",
   "id": "f97e725d",
   "metadata": {},
   "source": [
    "<div style=\"max-width:608px\"><div style=\"position:relative;padding-bottom:66.118421052632%\"><iframe id=\"kaltura_player\" src=\"https://cdnapisec.kaltura.com/p/2358381/sp/235838100/embedIframeJs/uiconf_id/43030021/partner_id/2358381?iframeembed=true&playerId=kaltura_player&entry_id=1_w2pr41c8&flashvars[streamerType]=auto&amp;flashvars[localizationCode]=en&amp;flashvars[leadWithHTML5]=true&amp;flashvars[sideBarContainer.plugin]=true&amp;flashvars[sideBarContainer.position]=left&amp;flashvars[sideBarContainer.clickToClose]=true&amp;flashvars[chapters.plugin]=true&amp;flashvars[chapters.layout]=vertical&amp;flashvars[chapters.thumbnailRotator]=false&amp;flashvars[streamSelector.plugin]=true&amp;flashvars[EmbedPlayer.SpinnerTarget]=videoHolder&amp;flashvars[dualScreen.plugin]=true&amp;flashvars[Kaltura.addCrossoriginToIframe]=true&amp;&wid=1_1bu728r1\" width=\"608\" height=\"402\" allowfullscreen webkitallowfullscreen mozAllowFullScreen allow=\"autoplay *; fullscreen *; encrypted-media *\" sandbox=\"allow-forms allow-same-origin allow-scripts allow-top-navigation allow-pointer-lock allow-popups allow-modals allow-orientation-lock allow-popups-to-escape-sandbox allow-presentation allow-top-navigation-by-user-activation\" frameborder=\"0\" title=\"Kaltura Player\" style=\"position:absolute;top:0;left:0;width:100%;height:100%\"></iframe></div></div>"
   ]
  }
 ],
 "metadata": {
  "jupytext": {
   "text_representation": {
    "extension": ".md",
    "format_name": "myst",
    "format_version": 0.13,
    "jupytext_version": "1.11.5"
   }
  },
  "kernelspec": {
   "display_name": "Python 3.8.8 64-bit ('base': conda)",
   "language": "python",
   "name": "python3"
  },
  "language_info": {
   "codemirror_mode": {
    "name": "ipython",
    "version": 3
   },
   "file_extension": ".py",
   "mimetype": "text/x-python",
   "name": "python",
   "nbconvert_exporter": "python",
   "pygments_lexer": "ipython3",
   "version": "3.9.12"
  },
  "source_map": [
   12,
   18,
   23,
   27,
   31,
   33,
   37,
   39,
   43,
   50,
   55,
   59,
   61,
   65,
   67,
   71,
   73,
   77,
   79,
   85,
   88,
   92,
   94,
   98,
   100,
   104,
   106,
   110,
   112,
   116,
   120,
   122,
   128,
   130,
   134,
   136,
   140,
   146,
   150,
   154,
   156,
   160,
   162,
   170,
   173,
   177,
   179,
   183,
   185,
   189,
   192,
   196,
   198
  ]
 },
 "nbformat": 4,
 "nbformat_minor": 5
}