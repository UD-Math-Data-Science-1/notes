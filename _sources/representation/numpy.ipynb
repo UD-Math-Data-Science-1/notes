{
 "cells": [
  {
   "cell_type": "markdown",
   "id": "d7b71e35",
   "metadata": {},
   "source": [
    "# Introduction to numpy\n",
    "\n",
    "The numpy package is the preferred way to interact directly with arrays in Python. We won't need much of it, but it is worth going through some key points."
   ]
  },
  {
   "cell_type": "code",
   "execution_count": 1,
   "id": "6b3a3ef6",
   "metadata": {},
   "outputs": [
    {
     "data": {
      "text/plain": [
       "array([1, 2, 3, 4, 5])"
      ]
     },
     "execution_count": 1,
     "metadata": {},
     "output_type": "execute_result"
    }
   ],
   "source": [
    "import numpy as np\n",
    "\n",
    "x = np.array([1,2,3,4,5])\n",
    "x"
   ]
  },
  {
   "cell_type": "markdown",
   "id": "72a29b00",
   "metadata": {},
   "source": [
    "Don't forget that integers and floats are different objects in Python."
   ]
  },
  {
   "cell_type": "code",
   "execution_count": 2,
   "id": "847c1150",
   "metadata": {},
   "outputs": [
    {
     "data": {
      "text/plain": [
       "dtype('int64')"
      ]
     },
     "execution_count": 2,
     "metadata": {},
     "output_type": "execute_result"
    }
   ],
   "source": [
    "x.dtype"
   ]
  },
  {
   "cell_type": "code",
   "execution_count": 3,
   "id": "8a95ac2d",
   "metadata": {},
   "outputs": [
    {
     "data": {
      "text/plain": [
       "dtype('float64')"
      ]
     },
     "execution_count": 3,
     "metadata": {},
     "output_type": "execute_result"
    }
   ],
   "source": [
    "np.array([1.0,2,3,4,5]).dtype"
   ]
  },
  {
   "cell_type": "markdown",
   "id": "a37f322a",
   "metadata": {},
   "source": [
    "The `shape` of an array is what we would usually call the *size* or *dimensions* of the array."
   ]
  },
  {
   "cell_type": "code",
   "execution_count": 4,
   "id": "cccf8096",
   "metadata": {},
   "outputs": [
    {
     "data": {
      "text/plain": [
       "(5,)"
      ]
     },
     "execution_count": 4,
     "metadata": {},
     "output_type": "execute_result"
    }
   ],
   "source": [
    "x.shape"
   ]
  },
  {
   "cell_type": "markdown",
   "id": "51ad5cfd",
   "metadata": {},
   "source": [
    "Informally, an array with one dimension may be referred to as a vector, but that is not an official designation in numpy."
   ]
  },
  {
   "cell_type": "code",
   "execution_count": 5,
   "id": "5b89b153",
   "metadata": {},
   "outputs": [],
   "source": [
    "def showthem(lines):\n",
    "    for line in lines:\n",
    "        print() \n",
    "        print(line,\"is\")\n",
    "        print(eval(line))\n",
    "    return None"
   ]
  },
  {
   "cell_type": "markdown",
   "id": "4d383614",
   "metadata": {},
   "source": [
    "The components of the array are referenced starting at 0."
   ]
  },
  {
   "cell_type": "code",
   "execution_count": 6,
   "id": "c6a857f6",
   "metadata": {},
   "outputs": [
    {
     "name": "stdout",
     "output_type": "stream",
     "text": [
      "\n",
      "x[0] is\n",
      "1\n",
      "\n",
      "x[[0,1,2]] is\n",
      "[1 2 3]\n"
     ]
    }
   ],
   "source": [
    "showthem([\"x[0]\",\"x[[0,1,2]]\"])"
   ]
  },
  {
   "cell_type": "code",
   "execution_count": 7,
   "id": "0896e925",
   "metadata": {},
   "outputs": [
    {
     "name": "stdout",
     "output_type": "stream",
     "text": [
      "\n",
      "x[:3] is\n",
      "[1 2 3]\n"
     ]
    }
   ],
   "source": [
    "showthem([\"x[:3]\"])"
   ]
  },
  {
   "cell_type": "markdown",
   "id": "7b6df5db",
   "metadata": {},
   "source": [
    "The use of `x[:3]` above is referred to as **slicing** the array. The `:3` means to take the first three elements. If we want to reference from the end instead of the beginning, we can use negative indexes."
   ]
  },
  {
   "cell_type": "code",
   "execution_count": 8,
   "id": "d364b74d",
   "metadata": {},
   "outputs": [
    {
     "name": "stdout",
     "output_type": "stream",
     "text": [
      "\n",
      "x[-1] is\n",
      "5\n",
      "\n",
      "x[-3:] is\n",
      "[3 4 5]\n"
     ]
    }
   ],
   "source": [
    "showthem([\"x[-1]\",\"x[-3:]\"])"
   ]
  },
  {
   "cell_type": "markdown",
   "id": "c808663e",
   "metadata": {},
   "source": [
    "Where numpy slicing gets confusing is that in the range `i:j`, *the last index is not part of the slice.* This does mean that there are going to be $j-i$ values in the slice."
   ]
  },
  {
   "cell_type": "code",
   "execution_count": 9,
   "id": "f32d9fd4",
   "metadata": {},
   "outputs": [
    {
     "name": "stdout",
     "output_type": "stream",
     "text": [
      "\n",
      "x[1:4] is\n",
      "[2 3 4]\n"
     ]
    }
   ],
   "source": [
    "showthem([\"x[1:4]\"])"
   ]
  },
  {
   "cell_type": "markdown",
   "id": "7bb3e9fe",
   "metadata": {},
   "source": [
    "Also, numpy is happy to let you index past the end of the array. It will just return as much as is available without complaint. This can be a source of frustrating bugs."
   ]
  },
  {
   "cell_type": "code",
   "execution_count": 10,
   "id": "970503c4",
   "metadata": {},
   "outputs": [
    {
     "name": "stdout",
     "output_type": "stream",
     "text": [
      "\n",
      "x[1:10] is\n",
      "[2 3 4 5]\n"
     ]
    }
   ],
   "source": [
    "showthem([\"x[1:10]\"])"
   ]
  },
  {
   "cell_type": "markdown",
   "id": "5adab5e9",
   "metadata": {},
   "source": [
    "## 2D arrays\n",
    "\n",
    "There is no practical difference between a 2D array and an array of rows, each given as a 1D array."
   ]
  },
  {
   "cell_type": "code",
   "execution_count": 11,
   "id": "30717364",
   "metadata": {},
   "outputs": [
    {
     "data": {
      "text/plain": [
       "(3, 2)"
      ]
     },
     "execution_count": 11,
     "metadata": {},
     "output_type": "execute_result"
    }
   ],
   "source": [
    "A = np.array( [[1,2],[3,4],[5,6]] )\n",
    "A.shape"
   ]
  },
  {
   "cell_type": "markdown",
   "id": "32629fad",
   "metadata": {},
   "source": [
    "You can slice in each dimension individually."
   ]
  },
  {
   "cell_type": "code",
   "execution_count": 12,
   "id": "adbb0027",
   "metadata": {},
   "outputs": [
    {
     "name": "stdout",
     "output_type": "stream",
     "text": [
      "\n",
      "A[-2:,:2] is\n",
      "[[3 4]\n",
      " [5 6]]\n"
     ]
    }
   ],
   "source": [
    "showthem([\"A[-2:,:2]\"])"
   ]
  },
  {
   "cell_type": "markdown",
   "id": "5c4faf65",
   "metadata": {},
   "source": [
    "A `:` in one slice position means to keep everything in that dimension."
   ]
  },
  {
   "cell_type": "code",
   "execution_count": 13,
   "id": "4c4775d9",
   "metadata": {},
   "outputs": [
    {
     "name": "stdout",
     "output_type": "stream",
     "text": [
      "\n",
      "A[:2,:] is\n",
      "[[1 2]\n",
      " [3 4]]\n",
      "\n",
      "A[:,0] is\n",
      "[1 3 5]\n"
     ]
    }
   ],
   "source": [
    "showthem([\"A[:2,:]\",\"A[:,0]\"])"
   ]
  },
  {
   "cell_type": "markdown",
   "id": "e80b7167",
   "metadata": {},
   "source": [
    "You can build arrays using list comprehensions."
   ]
  },
  {
   "cell_type": "code",
   "execution_count": 14,
   "id": "2de99be4",
   "metadata": {},
   "outputs": [
    {
     "data": {
      "text/plain": [
       "array([[ 0,  1,  2,  3,  4,  5],\n",
       "       [-1,  0,  1,  2,  3,  4],\n",
       "       [-2, -1,  0,  1,  2,  3],\n",
       "       [-3, -2, -1,  0,  1,  2]])"
      ]
     },
     "execution_count": 14,
     "metadata": {},
     "output_type": "execute_result"
    }
   ],
   "source": [
    "np.array([ [j-i for j in range(6)] for i in range(4) ])"
   ]
  },
  {
   "cell_type": "markdown",
   "id": "dd8a752d",
   "metadata": {},
   "source": [
    "Here are some other common ways to construct arrays."
   ]
  },
  {
   "cell_type": "code",
   "execution_count": 15,
   "id": "422ba78d",
   "metadata": {},
   "outputs": [
    {
     "name": "stdout",
     "output_type": "stream",
     "text": [
      "\n",
      "np.ones(5) is\n",
      "[1. 1. 1. 1. 1.]\n",
      "\n",
      "np.zeros((3,6)) is\n",
      "[[0. 0. 0. 0. 0. 0.]\n",
      " [0. 0. 0. 0. 0. 0.]\n",
      " [0. 0. 0. 0. 0. 0.]]\n",
      "\n",
      "np.repeat(np.pi,3) is\n",
      "[3.14159265 3.14159265 3.14159265]\n"
     ]
    }
   ],
   "source": [
    "showthem([\"np.ones(5)\",\"np.zeros((3,6))\",\"np.repeat(np.pi,3)\"])"
   ]
  },
  {
   "cell_type": "markdown",
   "id": "8758b526",
   "metadata": {},
   "source": [
    "You can also stack arrays vertically or horizontally to create new arrays."
   ]
  },
  {
   "cell_type": "code",
   "execution_count": 16,
   "id": "5a6a49bb",
   "metadata": {},
   "outputs": [
    {
     "data": {
      "text/plain": [
       "array([[1., 1., 0., 0., 0.],\n",
       "       [1., 1., 0., 0., 0.]])"
      ]
     },
     "execution_count": 16,
     "metadata": {},
     "output_type": "execute_result"
    }
   ],
   "source": [
    "np.hstack( (np.ones((2,2)),np.zeros((2,3))) )"
   ]
  },
  {
   "cell_type": "code",
   "execution_count": 17,
   "id": "a60e2db6",
   "metadata": {},
   "outputs": [
    {
     "data": {
      "text/plain": [
       "array([[0, 1, 2, 3, 4],\n",
       "       [5, 4, 3, 2, 1]])"
      ]
     },
     "execution_count": 17,
     "metadata": {},
     "output_type": "execute_result"
    }
   ],
   "source": [
    "np.vstack( (range(5),range(5,0,-1)) )"
   ]
  },
  {
   "cell_type": "markdown",
   "id": "802a9968",
   "metadata": {},
   "source": [
    "## Reductions\n",
    "\n",
    "A common task is to *reduce* an array along one direction, called an *axis* in numpy, resulting in an array of one less dimension. It's easiest to explain by some examples."
   ]
  },
  {
   "cell_type": "code",
   "execution_count": 18,
   "id": "d8b967aa",
   "metadata": {},
   "outputs": [
    {
     "name": "stdout",
     "output_type": "stream",
     "text": [
      "\n",
      "A is\n",
      "[[1 2]\n",
      " [3 4]\n",
      " [5 6]]\n",
      "\n",
      "np.sum(A,axis=0) is\n",
      "[ 9 12]\n",
      "\n",
      "np.sum(A,axis=1) is\n",
      "[ 3  7 11]\n"
     ]
    }
   ],
   "source": [
    "showthem([\"A\",\"np.sum(A,axis=0)\",\"np.sum(A,axis=1)\"])"
   ]
  },
  {
   "cell_type": "markdown",
   "id": "bb89b595",
   "metadata": {},
   "source": [
    "If you don't give an axis, the reduction occurs over all directions at once, resulting in a single number."
   ]
  },
  {
   "cell_type": "code",
   "execution_count": 19,
   "id": "fc358c90",
   "metadata": {},
   "outputs": [
    {
     "name": "stdout",
     "output_type": "stream",
     "text": [
      "\n",
      "np.sum(A) is\n",
      "21\n"
     ]
    }
   ],
   "source": [
    "showthem([\"np.sum(A)\"])"
   ]
  },
  {
   "cell_type": "markdown",
   "id": "8808b081",
   "metadata": {},
   "source": [
    "You can also do reductions with maximum, minimum, mean, etc."
   ]
  },
  {
   "cell_type": "markdown",
   "id": "d6af9d28",
   "metadata": {},
   "source": [
    "## Broadcasting\n",
    "\n",
    "You can add together arrays of the same shape, just as you would expect. Generally, you cannot do that for arrays with different shapes."
   ]
  },
  {
   "cell_type": "code",
   "execution_count": 20,
   "id": "45fa39a1",
   "metadata": {},
   "outputs": [
    {
     "name": "stdout",
     "output_type": "stream",
     "text": [
      "\n",
      "x+x is\n",
      "[ 2  4  6  8 10]\n",
      "\n",
      "x+y is\n"
     ]
    },
    {
     "ename": "ValueError",
     "evalue": "operands could not be broadcast together with shapes (5,) (2,) ",
     "output_type": "error",
     "traceback": [
      "\u001b[0;31m---------------------------------------------------------------------------\u001b[0m",
      "\u001b[0;31mValueError\u001b[0m                                Traceback (most recent call last)",
      "\u001b[0;32m/var/folders/cn/8w40979d27x0kv2wsnx7zgvm0000gp/T/ipykernel_76854/3262596443.py\u001b[0m in \u001b[0;36m<module>\u001b[0;34m\u001b[0m\n\u001b[1;32m      1\u001b[0m \u001b[0mx\u001b[0m \u001b[0;34m=\u001b[0m \u001b[0mnp\u001b[0m\u001b[0;34m.\u001b[0m\u001b[0marray\u001b[0m\u001b[0;34m(\u001b[0m\u001b[0;34m[\u001b[0m\u001b[0;36m1\u001b[0m\u001b[0;34m,\u001b[0m\u001b[0;36m2\u001b[0m\u001b[0;34m,\u001b[0m\u001b[0;36m3\u001b[0m\u001b[0;34m,\u001b[0m\u001b[0;36m4\u001b[0m\u001b[0;34m,\u001b[0m\u001b[0;36m5\u001b[0m\u001b[0;34m]\u001b[0m\u001b[0;34m)\u001b[0m\u001b[0;34m\u001b[0m\u001b[0;34m\u001b[0m\u001b[0m\n\u001b[1;32m      2\u001b[0m \u001b[0my\u001b[0m \u001b[0;34m=\u001b[0m \u001b[0mnp\u001b[0m\u001b[0;34m.\u001b[0m\u001b[0marray\u001b[0m\u001b[0;34m(\u001b[0m\u001b[0;34m[\u001b[0m\u001b[0;36m10\u001b[0m\u001b[0;34m,\u001b[0m\u001b[0;36m20\u001b[0m\u001b[0;34m]\u001b[0m\u001b[0;34m)\u001b[0m\u001b[0;34m\u001b[0m\u001b[0;34m\u001b[0m\u001b[0m\n\u001b[0;32m----> 3\u001b[0;31m \u001b[0mshowthem\u001b[0m\u001b[0;34m(\u001b[0m\u001b[0;34m[\u001b[0m\u001b[0;34m\"x+x\"\u001b[0m\u001b[0;34m,\u001b[0m\u001b[0;34m\"x+y\"\u001b[0m\u001b[0;34m]\u001b[0m\u001b[0;34m)\u001b[0m\u001b[0;34m\u001b[0m\u001b[0;34m\u001b[0m\u001b[0m\n\u001b[0m",
      "\u001b[0;32m/var/folders/cn/8w40979d27x0kv2wsnx7zgvm0000gp/T/ipykernel_76854/3224711756.py\u001b[0m in \u001b[0;36mshowthem\u001b[0;34m(lines)\u001b[0m\n\u001b[1;32m      3\u001b[0m         \u001b[0mprint\u001b[0m\u001b[0;34m(\u001b[0m\u001b[0;34m)\u001b[0m\u001b[0;34m\u001b[0m\u001b[0;34m\u001b[0m\u001b[0m\n\u001b[1;32m      4\u001b[0m         \u001b[0mprint\u001b[0m\u001b[0;34m(\u001b[0m\u001b[0mline\u001b[0m\u001b[0;34m,\u001b[0m\u001b[0;34m\"is\"\u001b[0m\u001b[0;34m)\u001b[0m\u001b[0;34m\u001b[0m\u001b[0;34m\u001b[0m\u001b[0m\n\u001b[0;32m----> 5\u001b[0;31m         \u001b[0mprint\u001b[0m\u001b[0;34m(\u001b[0m\u001b[0meval\u001b[0m\u001b[0;34m(\u001b[0m\u001b[0mline\u001b[0m\u001b[0;34m)\u001b[0m\u001b[0;34m)\u001b[0m\u001b[0;34m\u001b[0m\u001b[0;34m\u001b[0m\u001b[0m\n\u001b[0m\u001b[1;32m      6\u001b[0m     \u001b[0;32mreturn\u001b[0m \u001b[0;32mNone\u001b[0m\u001b[0;34m\u001b[0m\u001b[0;34m\u001b[0m\u001b[0m\n",
      "\u001b[0;32m<string>\u001b[0m in \u001b[0;36m<module>\u001b[0;34m\u001b[0m\n",
      "\u001b[0;31mValueError\u001b[0m: operands could not be broadcast together with shapes (5,) (2,) "
     ]
    }
   ],
   "source": [
    "x = np.array([1,2,3,4,5])\n",
    "y = np.array([10,20])\n",
    "showthem([\"x+x\",\"x+y\"])"
   ]
  },
  {
   "cell_type": "markdown",
   "id": "e8b76eb8",
   "metadata": {},
   "source": [
    "There is a major exception though: when one of the operands can be repeated along an axis to become the same shape as the other, then this *broadcasting* is done."
   ]
  },
  {
   "cell_type": "code",
   "execution_count": 21,
   "id": "c393cc50",
   "metadata": {},
   "outputs": [
    {
     "name": "stdout",
     "output_type": "stream",
     "text": [
      "\n",
      "x+3 is\n",
      "[4 5 6 7 8]\n",
      "\n",
      "A-y is\n",
      "[[ -9 -18]\n",
      " [ -7 -16]\n",
      " [ -5 -14]]\n"
     ]
    }
   ],
   "source": [
    "showthem([\"x+3\",\"A-y\"])"
   ]
  },
  {
   "cell_type": "markdown",
   "id": "88b1cb00",
   "metadata": {},
   "source": [
    "For example, suppose that for every element in a column, we want to subtract off the average value in that column. This becomes easy via broadcasting."
   ]
  },
  {
   "cell_type": "code",
   "execution_count": 22,
   "id": "51bd629e",
   "metadata": {},
   "outputs": [
    {
     "name": "stdout",
     "output_type": "stream",
     "text": [
      "\n",
      "A-np.mean(A,axis=0) is\n",
      "[[-2. -2.]\n",
      " [ 0.  0.]\n",
      " [ 2.  2.]]\n"
     ]
    }
   ],
   "source": [
    "showthem([\"A-np.mean(A,axis=0)\"])"
   ]
  },
  {
   "cell_type": "markdown",
   "id": "3f50e9a7",
   "metadata": {},
   "source": [
    "## Random numbers\n",
    "\n",
    "Generating truly random numbers on a computer is not simple. Mostly we rely on *pseudorandom* numbers, which are generated by deterministic functions having extremely long periods. One nice consequence is repeatability. Given the starting \"seed\" or state of the random generator, you should be able to get exactly the same pseudorandom sequence every time.\n",
    "\n",
    "We will rely on pseudorandom numbers in two ways. First, many algorithms in data science have at least one random aspect (dividing data into subsets, for example). The library routines we will be using allow you to specify the random state and get repeatable results. Occasionally, though, we might want to generate random values for our own use."
   ]
  },
  {
   "cell_type": "code",
   "execution_count": 23,
   "id": "6b61be33",
   "metadata": {},
   "outputs": [],
   "source": [
    "from numpy.random import default_rng\n",
    "rng = default_rng(19716)  # giving an initial state to the generator"
   ]
  },
  {
   "cell_type": "markdown",
   "id": "bb7a27b0",
   "metadata": {},
   "source": [
    "The `uniform` generator method produces numbers distributed uniformly (i.e., every value is equally likely) between two limits you specify."
   ]
  },
  {
   "cell_type": "code",
   "execution_count": 24,
   "id": "2f5ea542",
   "metadata": {},
   "outputs": [
    {
     "data": {
      "text/plain": [
       "array([[ 0.95168753,  0.31539479, -0.665158  ],\n",
       "       [ 0.4292572 ,  0.96076254,  0.35726498],\n",
       "       [-0.95950348, -0.83727892, -0.88239937],\n",
       "       [ 0.57263239,  0.80400543, -0.38772561]])"
      ]
     },
     "execution_count": 24,
     "metadata": {},
     "output_type": "execute_result"
    }
   ],
   "source": [
    "rng.uniform(-1,1,size=(4,3))"
   ]
  },
  {
   "cell_type": "markdown",
   "id": "92ddaa56",
   "metadata": {},
   "source": [
    "Another common type of random value is generated by `normal`, which produces real values distributed according to the \"bell curve\" (normal or Gaussian distribution)."
   ]
  },
  {
   "cell_type": "code",
   "execution_count": 25,
   "id": "1b377c11",
   "metadata": {},
   "outputs": [
    {
     "data": {
      "text/plain": [
       "array([[ 2.07503   , -0.07714901,  1.19144657, -0.65962782],\n",
       "       [-0.85564896,  1.68707045,  1.19491051,  1.44790912]])"
      ]
     },
     "execution_count": 25,
     "metadata": {},
     "output_type": "execute_result"
    }
   ],
   "source": [
    "rng.normal(size=(2,4))"
   ]
  },
  {
   "cell_type": "markdown",
   "id": "a79f4da0",
   "metadata": {},
   "source": [
    "In the long run, the average value of these numbers will be zero."
   ]
  },
  {
   "cell_type": "code",
   "execution_count": 26,
   "id": "3fa8be69",
   "metadata": {},
   "outputs": [
    {
     "data": {
      "text/plain": [
       "-0.0025048371736856203"
      ]
     },
     "execution_count": 26,
     "metadata": {},
     "output_type": "execute_result"
    }
   ],
   "source": [
    "x = rng.normal(size=400000)\n",
    "np.mean(x)"
   ]
  },
  {
   "cell_type": "markdown",
   "id": "f40809a5",
   "metadata": {},
   "source": [
    "Results with absolute value greater than 3 should occur at a rate less than 1%."
   ]
  },
  {
   "cell_type": "code",
   "execution_count": 27,
   "id": "932fabc5",
   "metadata": {},
   "outputs": [
    {
     "data": {
      "text/plain": [
       "0.00272"
      ]
     },
     "execution_count": 27,
     "metadata": {},
     "output_type": "execute_result"
    }
   ],
   "source": [
    "np.mean( np.abs(x)>3 )"
   ]
  },
  {
   "cell_type": "markdown",
   "id": "2f040818",
   "metadata": {},
   "source": [
    "<div style=\"max-width:608px\"><div style=\"position:relative;padding-bottom:66.118421052632%\"><iframe id=\"kaltura_player\" src=\"https://cdnapisec.kaltura.com/p/2358381/sp/235838100/embedIframeJs/uiconf_id/43030021/partner_id/2358381?iframeembed=true&playerId=kaltura_player&entry_id=1_w2pr41c8&flashvars[streamerType]=auto&amp;flashvars[localizationCode]=en&amp;flashvars[leadWithHTML5]=true&amp;flashvars[sideBarContainer.plugin]=true&amp;flashvars[sideBarContainer.position]=left&amp;flashvars[sideBarContainer.clickToClose]=true&amp;flashvars[chapters.plugin]=true&amp;flashvars[chapters.layout]=vertical&amp;flashvars[chapters.thumbnailRotator]=false&amp;flashvars[streamSelector.plugin]=true&amp;flashvars[EmbedPlayer.SpinnerTarget]=videoHolder&amp;flashvars[dualScreen.plugin]=true&amp;flashvars[Kaltura.addCrossoriginToIframe]=true&amp;&wid=1_1bu728r1\" width=\"608\" height=\"402\" allowfullscreen webkitallowfullscreen mozAllowFullScreen allow=\"autoplay *; fullscreen *; encrypted-media *\" sandbox=\"allow-forms allow-same-origin allow-scripts allow-top-navigation allow-pointer-lock allow-popups allow-modals allow-orientation-lock allow-popups-to-escape-sandbox allow-presentation allow-top-navigation-by-user-activation\" frameborder=\"0\" title=\"Kaltura Player\" style=\"position:absolute;top:0;left:0;width:100%;height:100%\"></iframe></div></div>"
   ]
  }
 ],
 "metadata": {
  "jupytext": {
   "text_representation": {
    "extension": ".md",
    "format_name": "myst",
    "format_version": 0.13,
    "jupytext_version": "1.11.5"
   }
  },
  "kernelspec": {
   "display_name": "Python 3.8.8 64-bit ('base': conda)",
   "language": "python",
   "name": "python3"
  },
  "language_info": {
   "codemirror_mode": {
    "name": "ipython",
    "version": 3
   },
   "file_extension": ".py",
   "mimetype": "text/x-python",
   "name": "python",
   "nbconvert_exporter": "python",
   "pygments_lexer": "ipython3",
   "version": "3.8.8"
  },
  "source_map": [
   12,
   18,
   23,
   27,
   31,
   33,
   37,
   39,
   43,
   50,
   55,
   59,
   61,
   65,
   67,
   71,
   73,
   77,
   79,
   85,
   88,
   92,
   94,
   98,
   100,
   104,
   106,
   110,
   112,
   116,
   120,
   122,
   128,
   130,
   134,
   136,
   140,
   146,
   150,
   154,
   156,
   160,
   162,
   170,
   173,
   177,
   179,
   183,
   185,
   189,
   192,
   196,
   198
  ]
 },
 "nbformat": 4,
 "nbformat_minor": 5
}