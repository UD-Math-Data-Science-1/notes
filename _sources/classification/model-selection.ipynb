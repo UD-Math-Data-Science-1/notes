{
 "cells": [
  {
   "cell_type": "markdown",
   "id": "6bd9e91c",
   "metadata": {},
   "source": [
    "# Model selection\n",
    "\n",
    "Given a classification problem, we have multiple algorithms to try, and each has some free hyperparameters. Having choices is great, but how do we choose wisely? There may be considerations other than classification accuracy, such as computing resource limitations or wanting to measure the relative importance of individual features. Here, though, we limit ourselves to optimizing error, as measured using any score that is deemed relevant.\n",
    "\n",
    "It seems natural to use measurements of testing error to set a goal for comparing methods optimizing hyperparameters. However, if we base hyperparameter optimization on a fixed test set, then we are effectively learning from that set! That is, the hyperparameters might become too tuned to our particular choice of the test set, creating overfitting and variance. To avoid this conundrum, we can split the data into *three* subsets, for training, **validation**, and testing. The validation set is used to tune hyperparameters. Once training is performed at optimal values, the test set is used to detect a lack of generalization due to hyperparameter overfitting. \n",
    "\n",
    "\n",
    "\n",
    "## Cross-validation\n",
    "\n",
    "Unfortunately, a fixed three-way split of the data effectively reduces the amount of data available for training. Alternatively, we can turn to **cross-validation**, in which each learner is trained multiple times, using both different training sets and different measurement sets. One popular version is **$k$-fold cross-validation**:\n",
    "\n",
    "1. Divide the data into training and testing sets. \n",
    "2. Further divide the training data set into $k$ roughly equal parts called *folds*. \n",
    "3. Train the learner using folds $2,3,\\ldots,k$ and validate (measure) on the cases in fold 1. Then retrain using folds $1,3,\\ldots,k$ and validate against the cases in fold 2. Continue until each fold has served once for validation. \n",
    "4. Select the optimum hyperparameters and retrain on the entire training set.\n",
    "5. Assess performance using the test set.  \n",
    "\n",
    "For example, here is how 16 elements can be split into 4 folds:"
   ]
  },
  {
   "cell_type": "code",
   "execution_count": 1,
   "id": "c894ef6c",
   "metadata": {},
   "outputs": [
    {
     "name": "stdout",
     "output_type": "stream",
     "text": [
      "train: [ 0  2  3  4  5  7 10 11 12 13 14 15] , test: [1 6 8 9]\n",
      "train: [ 0  1  3  5  6  7  8  9 10 11 12 15] , test: [ 2  4 13 14]\n",
      "train: [ 0  1  2  3  4  5  6  8  9 12 13 14] , test: [ 7 10 11 15]\n",
      "train: [ 1  2  4  6  7  8  9 10 11 13 14 15] , test: [ 0  3  5 12]\n"
     ]
    }
   ],
   "source": [
    "from sklearn.model_selection import KFold\n",
    "kf = KFold(n_splits=4,shuffle=True,random_state=0)\n",
    "for train,test in kf.split(range(16)): print(\"train:\",train,\", test:\",test)"
   ]
  },
  {
   "cell_type": "markdown",
   "id": "9e1b092b",
   "metadata": {},
   "source": [
    "Let's apply cross-validation to the loans dataset."
   ]
  },
  {
   "cell_type": "code",
   "execution_count": 2,
   "id": "21f16f9a",
   "metadata": {},
   "outputs": [],
   "source": [
    "from sklearn.tree import DecisionTreeClassifier\n",
    "from sklearn import metrics,datasets\n",
    "from sklearn.model_selection import train_test_split\n",
    "import numpy as np\n",
    "import pandas as pd\n",
    "import seaborn as sns\n",
    "from sklearn import datasets\n",
    "\n",
    "loans = pd.read_csv(\"../../notes/classification/loan_clean.csv\")\n",
    "X = loans.drop(\"percent_funded\",axis=1)\n",
    "y = loans[\"percent_funded\"] > 95\n",
    "X_tr, X_te, y_tr, y_te = train_test_split(X,y,test_size=0.15,shuffle=True,random_state=0)"
   ]
  },
  {
   "cell_type": "markdown",
   "id": "36c30c75",
   "metadata": {},
   "source": [
    "A round of 6-fold cross-validation on a standardized 5NN classifier looks like the following."
   ]
  },
  {
   "cell_type": "code",
   "execution_count": 3,
   "id": "0e8b7770",
   "metadata": {},
   "outputs": [
    {
     "name": "stdout",
     "output_type": "stream",
     "text": [
      "[0.74293603 0.75872385 0.76254139 0.74509944 0.73629687 0.74027632]\n"
     ]
    }
   ],
   "source": [
    "from sklearn.neighbors import KNeighborsClassifier\n",
    "from sklearn.pipeline import make_pipeline\n",
    "from sklearn.preprocessing import StandardScaler\n",
    "from sklearn.model_selection import cross_validate,KFold\n",
    "\n",
    "knn = KNeighborsClassifier(n_neighbors=5)\n",
    "learner = make_pipeline(StandardScaler(),knn)\n",
    "\n",
    "kf = KFold(n_splits=6,shuffle=True,random_state=0)\n",
    "scores = cross_validate(learner,X_tr,y_tr,cv=kf,scoring=\"balanced_accuracy\")\n",
    "print(scores[\"test_score\"])"
   ]
  },
  {
   "cell_type": "markdown",
   "id": "68a97958",
   "metadata": {},
   "source": [
    "The low variance across the folds is reassurance that they are representative subsets. If we perform cross-validations as we vary a hyperparameter, we get a **validation curve**. Here is a validation curve for the maximum depth of a decision tree classifier."
   ]
  },
  {
   "cell_type": "code",
   "execution_count": 4,
   "id": "12fe9821",
   "metadata": {},
   "outputs": [
    {
     "data": {
      "image/png": "[encoded data removed]",
      "text/plain": [
       "<Figure size 360x360 with 1 Axes>"
      ]
     },
     "metadata": {
      "filenames": {
       "image/png": "/home/driscoll/Dropbox/class/267/notes/_build/jupyter_execute/classification/model-selection_7_0.png"
      },
      "needs_background": "light"
     },
     "output_type": "display_data"
    }
   ],
   "source": [
    "depths = range(5,26,1)\n",
    "kf = KFold(n_splits=10,shuffle=True,random_state=0)\n",
    "err = []  # for keeping results\n",
    "for d in depths:\n",
    "    dt = DecisionTreeClassifier(max_depth=d,random_state=1)\n",
    "    cv = cross_validate(dt,X_tr,y_tr,cv=kf,scoring=\"balanced_accuracy\")\n",
    "    err.extend(1-cv[\"test_score\"])\n",
    "\n",
    "result = pd.DataFrame( {\"depth\":np.repeat(depths,kf.n_splits),\"error\":err} )\n",
    "sns.relplot(data=result,x=\"depth\",y=\"error\",kind=\"line\",ci=\"sd\");"
   ]
  },
  {
   "cell_type": "markdown",
   "id": "241322b5",
   "metadata": {},
   "source": [
    "Initially the error decreases, because the shallowest decision trees don't have much resolving power. Eventually, though, the testing error bottoms out. Past this point, the additional power being given to the trees is used only for overfitting."
   ]
  },
  {
   "cell_type": "code",
   "execution_count": 5,
   "id": "17d0652c",
   "metadata": {},
   "outputs": [
    {
     "data": {
      "text/html": [
       "<div>\n",
       "<style scoped>\n",
       "    .dataframe tbody tr th:only-of-type {\n",
       "        vertical-align: middle;\n",
       "    }\n",
       "\n",
       "    .dataframe tbody tr th {\n",
       "        vertical-align: top;\n",
       "    }\n",
       "\n",
       "    .dataframe thead th {\n",
       "        text-align: right;\n",
       "    }\n",
       "</style>\n",
       "<table border=\"1\" class=\"dataframe\">\n",
       "  <thead>\n",
       "    <tr style=\"text-align: right;\">\n",
       "      <th></th>\n",
       "      <th>error</th>\n",
       "    </tr>\n",
       "    <tr>\n",
       "      <th>depth</th>\n",
       "      <th></th>\n",
       "    </tr>\n",
       "  </thead>\n",
       "  <tbody>\n",
       "    <tr>\n",
       "      <th>5</th>\n",
       "      <td>0.192282</td>\n",
       "    </tr>\n",
       "    <tr>\n",
       "      <th>6</th>\n",
       "      <td>0.163447</td>\n",
       "    </tr>\n",
       "    <tr>\n",
       "      <th>7</th>\n",
       "      <td>0.135040</td>\n",
       "    </tr>\n",
       "    <tr>\n",
       "      <th>8</th>\n",
       "      <td>0.123976</td>\n",
       "    </tr>\n",
       "    <tr>\n",
       "      <th>9</th>\n",
       "      <td>0.118666</td>\n",
       "    </tr>\n",
       "    <tr>\n",
       "      <th>10</th>\n",
       "      <td>0.111359</td>\n",
       "    </tr>\n",
       "    <tr>\n",
       "      <th>11</th>\n",
       "      <td>0.106439</td>\n",
       "    </tr>\n",
       "    <tr>\n",
       "      <th>12</th>\n",
       "      <td>0.104283</td>\n",
       "    </tr>\n",
       "    <tr>\n",
       "      <th>13</th>\n",
       "      <td>0.096346</td>\n",
       "    </tr>\n",
       "    <tr>\n",
       "      <th>14</th>\n",
       "      <td>0.088951</td>\n",
       "    </tr>\n",
       "    <tr>\n",
       "      <th>15</th>\n",
       "      <td>0.088964</td>\n",
       "    </tr>\n",
       "    <tr>\n",
       "      <th>16</th>\n",
       "      <td>0.087710</td>\n",
       "    </tr>\n",
       "    <tr>\n",
       "      <th>17</th>\n",
       "      <td>0.087870</td>\n",
       "    </tr>\n",
       "    <tr>\n",
       "      <th>18</th>\n",
       "      <td>0.088000</td>\n",
       "    </tr>\n",
       "    <tr>\n",
       "      <th>19</th>\n",
       "      <td>0.088008</td>\n",
       "    </tr>\n",
       "    <tr>\n",
       "      <th>20</th>\n",
       "      <td>0.086926</td>\n",
       "    </tr>\n",
       "    <tr>\n",
       "      <th>21</th>\n",
       "      <td>0.086820</td>\n",
       "    </tr>\n",
       "    <tr>\n",
       "      <th>22</th>\n",
       "      <td>0.085792</td>\n",
       "    </tr>\n",
       "    <tr>\n",
       "      <th>23</th>\n",
       "      <td>0.085434</td>\n",
       "    </tr>\n",
       "    <tr>\n",
       "      <th>24</th>\n",
       "      <td>0.085807</td>\n",
       "    </tr>\n",
       "    <tr>\n",
       "      <th>25</th>\n",
       "      <td>0.085792</td>\n",
       "    </tr>\n",
       "  </tbody>\n",
       "</table>\n",
       "</div>"
      ],
      "text/plain": [
       "          error\n",
       "depth          \n",
       "5      0.192282\n",
       "6      0.163447\n",
       "7      0.135040\n",
       "8      0.123976\n",
       "9      0.118666\n",
       "10     0.111359\n",
       "11     0.106439\n",
       "12     0.104283\n",
       "13     0.096346\n",
       "14     0.088951\n",
       "15     0.088964\n",
       "16     0.087710\n",
       "17     0.087870\n",
       "18     0.088000\n",
       "19     0.088008\n",
       "20     0.086926\n",
       "21     0.086820\n",
       "22     0.085792\n",
       "23     0.085434\n",
       "24     0.085807\n",
       "25     0.085792"
      ]
     },
     "execution_count": 5,
     "metadata": {},
     "output_type": "execute_result"
    }
   ],
   "source": [
    "result.groupby(\"depth\").mean()"
   ]
  },
  {
   "cell_type": "markdown",
   "id": "3d435df4",
   "metadata": {},
   "source": [
    "The table of mean CV errors suggests using a decision tree of depth 14 on the full training set. (It decreases a little bit more after that, but the variance suggests that it's not worth the additional risk of overfitting to seek such small gains.) We can now train the classifier on the entire training set—which, you'll recall, was being sliced up during cross-validation—and measure performance on the reserved testing data that has so far not been touched."
   ]
  },
  {
   "cell_type": "code",
   "execution_count": 6,
   "id": "f80ce8c2",
   "metadata": {},
   "outputs": [
    {
     "name": "stdout",
     "output_type": "stream",
     "text": [
      "error is 0.08124355329007327\n"
     ]
    }
   ],
   "source": [
    "dt = DecisionTreeClassifier(max_depth=14,random_state=0)\n",
    "dt.fit(X_tr,y_tr)\n",
    "yhat = dt.predict(X_te)\n",
    "print(\"error is\",1-metrics.balanced_accuracy_score(y_te,yhat))"
   ]
  },
  {
   "cell_type": "markdown",
   "id": "a8ad078c",
   "metadata": {},
   "source": [
    "<!-- A variant called **stratified $k$-fold cross-validation** ensures that the folds have approximately the same percentage of examples in each target class as the original data has. -->\n",
    "\n",
    "## Hyperparameter tuning\n",
    "\n",
    "The validation curve is useful to find a good hyperparameter values, but only when there is a single hyperparameter to consider. When multiple options are available, it's common to perform a *grid search*, in which we try cross-validated fitting using every specified combination of parameter values. \n",
    "\n",
    "### Grid search \n",
    "\n",
    "For example, let's work with the breast cancer dataset."
   ]
  },
  {
   "cell_type": "code",
   "execution_count": 7,
   "id": "b32ad76c",
   "metadata": {},
   "outputs": [],
   "source": [
    "from sklearn.datasets import load_breast_cancer\n",
    "cancer = load_breast_cancer(as_frame=True)[\"frame\"]\n",
    "y = cancer[\"target\"]\n",
    "X = cancer.drop(\"target\",axis=1)\n",
    "X_tr, X_te, y_tr, y_te = train_test_split(X,y,test_size=0.15,shuffle=True,random_state=4)"
   ]
  },
  {
   "cell_type": "markdown",
   "id": "3f888a5b",
   "metadata": {},
   "source": [
    "We start by trying decision tree classifiers in which we vary not only the maximum depth, but some other options we did not discuss."
   ]
  },
  {
   "cell_type": "code",
   "execution_count": 8,
   "id": "9b39fb26",
   "metadata": {},
   "outputs": [
    {
     "data": {
      "text/plain": [
       "({'criterion': 'entropy', 'max_depth': 4, 'min_impurity_decrease': 0.02},\n",
       " 0.9631583877556006)"
      ]
     },
     "execution_count": 8,
     "metadata": {},
     "output_type": "execute_result"
    }
   ],
   "source": [
    "from sklearn.model_selection import GridSearchCV\n",
    "grid = { \"criterion\":[\"gini\",\"entropy\"], \n",
    "         \"max_depth\":range(2,20,2), \n",
    "         \"min_impurity_decrease\":[0,0.01,0.02] }\n",
    "learner = DecisionTreeClassifier(random_state=2)\n",
    "kf = KFold(n_splits=5,shuffle=True,random_state=0)\n",
    "grid_dt = GridSearchCV(learner,grid,scoring=\"f1\",cv=kf)\n",
    "grid_dt.fit(X_tr,y_tr)\n",
    "grid_dt.best_params_,grid_dt.best_score_"
   ]
  },
  {
   "cell_type": "markdown",
   "id": "551e6cd6",
   "metadata": {},
   "source": [
    "Next, we search over kNN classifiers. We always want use standardization as a preprocessor; note how the syntax of the grid search is adapted."
   ]
  },
  {
   "cell_type": "code",
   "execution_count": 9,
   "id": "e03dfde5",
   "metadata": {},
   "outputs": [
    {
     "data": {
      "text/plain": [
       "({'kneighborsclassifier__metric': 'manhattan',\n",
       "  'kneighborsclassifier__n_neighbors': 3,\n",
       "  'kneighborsclassifier__weights': 'uniform'},\n",
       " 0.9786000507953702)"
      ]
     },
     "execution_count": 9,
     "metadata": {},
     "output_type": "execute_result"
    }
   ],
   "source": [
    "from sklearn.model_selection import GridSearchCV\n",
    "grid = { \"kneighborsclassifier__metric\":[\"euclidean\",\"manhattan\"], \n",
    "         \"kneighborsclassifier__n_neighbors\":range(1,20), \n",
    "         \"kneighborsclassifier__weights\":[\"uniform\",\"distance\"] }\n",
    "learner = make_pipeline(StandardScaler(),KNeighborsClassifier())\n",
    "grid_knn = GridSearchCV(learner,grid,scoring=\"f1\",cv=kf)\n",
    "grid_knn.fit(X_tr,y_tr)\n",
    "grid_knn.best_params_,grid_knn.best_score_"
   ]
  },
  {
   "cell_type": "markdown",
   "id": "abe183f1",
   "metadata": {},
   "source": [
    "Finally, we look at SVM classifiers. Again, these should all use the `StandardScaler` preprocessor."
   ]
  },
  {
   "cell_type": "code",
   "execution_count": 10,
   "id": "b3fb38cf",
   "metadata": {},
   "outputs": [
    {
     "data": {
      "text/plain": [
       "({'svc__C': 10, 'svc__kernel': 'rbf'}, 0.9839119815391992)"
      ]
     },
     "execution_count": 10,
     "metadata": {},
     "output_type": "execute_result"
    }
   ],
   "source": [
    "from sklearn.svm import SVC\n",
    "grid = { \"svc__C\":[0.1,0.5,1,5,10,50,100,500,1000], \"svc__kernel\":[\"rbf\",\"linear\"] }\n",
    "learner = make_pipeline(StandardScaler(),SVC())\n",
    "grid_svc = GridSearchCV(learner,grid,scoring=\"f1\",cv=kf)\n",
    "grid_svc.fit(X_tr,y_tr)\n",
    "grid_svc.best_params_, grid_svc.best_score_"
   ]
  },
  {
   "cell_type": "markdown",
   "id": "113e4242",
   "metadata": {},
   "source": [
    "We now have champions from each of the three types of classifier. The grid search fitting process also provides access to the models trained on the best hyperparameters."
   ]
  },
  {
   "cell_type": "code",
   "execution_count": 11,
   "id": "450796aa",
   "metadata": {},
   "outputs": [
    {
     "name": "stdout",
     "output_type": "stream",
     "text": [
      "best tree f1 score: 0.905982905982906\n",
      "best knn f1 score: 0.9672131147540983\n",
      "best SVC f1 score: 0.9836065573770492\n"
     ]
    }
   ],
   "source": [
    "score = lambda cl,X,y: metrics.f1_score(y,cl.predict(X))\n",
    "print(\"best tree f1 score:\",score(grid_dt,X_te,y_te))\n",
    "print(\"best knn f1 score:\",score(grid_knn,X_te,y_te))\n",
    "print(\"best SVC f1 score:\",score(grid_svc,X_te,y_te))"
   ]
  },
  {
   "cell_type": "markdown",
   "id": "fbbf8b67",
   "metadata": {},
   "source": [
    "We have a winner! \n",
    "\n",
    "It may be instructive to rerun the competition above using different random seeds for the train--test split and the k-fold CV. The meaningfulness of the results is limited by their sensitivity to such choices.  Don't let floating-point values give you a false feeling of precision!\n",
    "\n",
    "### Alternatives to grid search\n",
    "\n",
    "Grid search is a brute-force approach. It is *embarrassingly parallel*, meaning that different processors can work on different locations on the grid at the same time. But it is usually too slow for large training sets, or when the search space has more than two dimensions. In such cases you can try searching over crude versions of the grid, perhaps with just part of the training data, and gradually narrow the search while using all the data. When desperate, one may try a randomized search and to guide the process with experience and intuition.\n",
    "\n",
    "There are special techniques available when the hyperparameter has a regularization function (such as the slack-weighting $C$ parameter in the SVM), and for certain model types. You may need to take a deep dive into the sea of knowledge (and documentation) to find these.\n",
    "\n",
    "<div style=\"max-width:608px\"><div style=\"position:relative;padding-bottom:66.118421052632%\"><iframe id=\"kaltura_player\" src=\"https://cdnapisec.kaltura.com/p/2358381/sp/235838100/embedIframeJs/uiconf_id/43030021/partner_id/2358381?iframeembed=true&playerId=kaltura_player&entry_id=1_8f2amhv1&flashvars[streamerType]=auto&amp;flashvars[localizationCode]=en&amp;flashvars[leadWithHTML5]=true&amp;flashvars[sideBarContainer.plugin]=true&amp;flashvars[sideBarContainer.position]=left&amp;flashvars[sideBarContainer.clickToClose]=true&amp;flashvars[chapters.plugin]=true&amp;flashvars[chapters.layout]=vertical&amp;flashvars[chapters.thumbnailRotator]=false&amp;flashvars[streamSelector.plugin]=true&amp;flashvars[EmbedPlayer.SpinnerTarget]=videoHolder&amp;flashvars[dualScreen.plugin]=true&amp;flashvars[Kaltura.addCrossoriginToIframe]=true&amp;&wid=1_98zj3y0w\" width=\"608\" height=\"402\" allowfullscreen webkitallowfullscreen mozAllowFullScreen allow=\"autoplay *; fullscreen *; encrypted-media *\" sandbox=\"allow-forms allow-same-origin allow-scripts allow-top-navigation allow-pointer-lock allow-popups allow-modals allow-orientation-lock allow-popups-to-escape-sandbox allow-presentation allow-top-navigation-by-user-activation\" frameborder=\"0\" title=\"Kaltura Player\" style=\"position:absolute;top:0;left:0;width:100%;height:100%\"></iframe></div></div>"
   ]
  }
 ],
 "metadata": {
  "jupytext": {
   "text_representation": {
    "extension": ".md",
    "format_name": "myst",
    "format_version": 0.13,
    "jupytext_version": "1.11.5"
   }
  },
  "kernelspec": {
   "display_name": "Python 3.8.8 64-bit ('base': conda)",
   "language": "python",
   "name": "python3"
  },
  "language_info": {
   "codemirror_mode": {
    "name": "ipython",
    "version": 3
   },
   "file_extension": ".py",
   "mimetype": "text/x-python",
   "name": "python",
   "nbconvert_exporter": "python",
   "pygments_lexer": "ipython3",
   "version": "3.8.8"
  },
  "source_map": [
   12,
   34,
   38,
   42,
   55,
   59,
   71,
   75,
   86,
   90,
   92,
   96,
   101,
   114,
   120,
   124,
   134,
   137,
   146,
   150,
   157,
   161,
   166
  ]
 },
 "nbformat": 4,
 "nbformat_minor": 5
}