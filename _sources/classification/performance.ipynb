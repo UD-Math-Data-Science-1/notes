{
 "cells": [
  {
   "cell_type": "markdown",
   "id": "6c5e9773",
   "metadata": {},
   "source": [
    "# Classifier performance\n",
    "\n",
    "Let's return to the (cleaned) loan applications dataset."
   ]
  },
  {
   "cell_type": "code",
   "execution_count": 1,
   "id": "2a9afff7",
   "metadata": {},
   "outputs": [],
   "source": [
    "import pandas as pd\n",
    "loans = pd.read_csv(\"loan_clean.csv\")"
   ]
  },
  {
   "cell_type": "markdown",
   "id": "39045d56",
   "metadata": {},
   "source": [
    "Most of the loan applications were successful, as shown by the distribution of funding percentage:"
   ]
  },
  {
   "cell_type": "code",
   "execution_count": 2,
   "id": "fc04710d",
   "metadata": {},
   "outputs": [
    {
     "data": {
      "image/png": "[encoded data removed]",
      "text/plain": [
       "<Figure size 360x360 with 1 Axes>"
      ]
     },
     "metadata": {
      "filenames": {
       "image/png": "/home/driscoll/Dropbox/class/267/notes/_build/jupyter_execute/classification/performance_3_0.png"
      },
      "needs_background": "light"
     },
     "output_type": "display_data"
    }
   ],
   "source": [
    "import seaborn as sns\n",
    "sns.displot(data=loans,x=\"percent_funded\",bins=range(50,105,5));"
   ]
  },
  {
   "cell_type": "markdown",
   "id": "ef9517b3",
   "metadata": {},
   "source": [
    "We create a binary classification problem by labelling whether each loan was at least 95% funded. The other columns will form the features for the predictions."
   ]
  },
  {
   "cell_type": "code",
   "execution_count": 3,
   "id": "047a036d",
   "metadata": {},
   "outputs": [],
   "source": [
    "X = loans.drop(\"percent_funded\",axis=1)\n",
    "y = loans[\"percent_funded\"] > 95"
   ]
  },
  {
   "cell_type": "markdown",
   "id": "66837f8e",
   "metadata": {},
   "source": [
    "We will split into test and training sets and apply the nearest neighbors algorithm."
   ]
  },
  {
   "cell_type": "code",
   "execution_count": 4,
   "id": "55efb5c2",
   "metadata": {},
   "outputs": [
    {
     "name": "stdout",
     "output_type": "stream",
     "text": [
      "accuracy is 94.8%\n"
     ]
    }
   ],
   "source": [
    "from sklearn.neighbors import KNeighborsClassifier\n",
    "from sklearn.model_selection import train_test_split\n",
    "\n",
    "X_tr, X_te, y_tr, y_te = train_test_split(X,y,test_size=0.2,shuffle=True,random_state=0)\n",
    "\n",
    "knn = KNeighborsClassifier(n_neighbors=5)   \n",
    "knn.fit(X_tr,y_tr) \n",
    "acc = knn.score(X_te,y_te)\n",
    "print(f\"accuracy is {acc:.1%}\")"
   ]
  },
  {
   "cell_type": "markdown",
   "id": "d90202bd",
   "metadata": {},
   "source": [
    "At first, this looks like a good result. But consider that the vast majority of loans were funded:"
   ]
  },
  {
   "cell_type": "code",
   "execution_count": 5,
   "id": "cc1368e2",
   "metadata": {},
   "outputs": [
    {
     "name": "stdout",
     "output_type": "stream",
     "text": [
      "95.5% were funded\n"
     ]
    }
   ],
   "source": [
    "funded = sum(y)\n",
    "print(f\"{funded/len(y):.1%} were funded\")"
   ]
  },
  {
   "cell_type": "markdown",
   "id": "56922ce1",
   "metadata": {},
   "source": [
    "Therefore, an algorithm that simply \"predicts\" funding every loan could do even better than the trained classifier!"
   ]
  },
  {
   "cell_type": "code",
   "execution_count": 6,
   "id": "14186712",
   "metadata": {},
   "outputs": [
    {
     "name": "stdout",
     "output_type": "stream",
     "text": [
      "fund-em-all accuracy is 95.2%\n"
     ]
    }
   ],
   "source": [
    "from sklearn import metrics\n",
    "acc = metrics.accuracy_score(y_te,[True]*len(y_te))\n",
    "print(f\"fund-em-all accuracy is {acc:.1%}\")"
   ]
  },
  {
   "cell_type": "markdown",
   "id": "5ace31f9",
   "metadata": {},
   "source": [
    "In context, then, our trained classifier is not impressive at all. We need a metric other than accuracy to detect that.\n",
    "\n",
    "## Binary classifiers\n",
    "\n",
    "A binary classifier is one that produces just two unique labels, which we call \"yes\" and \"no\" here. To fully understand the performance of a binary classifier, we have to account for four cases:\n",
    "\n",
    "* True positives (TP): Predicts \"yes\", actually is \"yes\"\n",
    "* False positives (FP): Predicts \"yes\", actually is \"no\"\n",
    "* True negatives (TN): Predicts \"no\", actually is \"no\"\n",
    "* False negatives (FN): Predicts \"no\", actually is \"yes\"\n",
    "\n",
    "The four cases correspond to a 2×2 table according to the states of the prediction and *ground truth*, which is the accepted correct value (i.e., the given label). The table can be filled with counts or percentages of tested instances, to create a **confusion matrix**, as illustrated in {numref}`fig-supervised-confusion`. \n",
    "\n",
    "```{figure} confusion.svg\n",
    "---\n",
    "name: fig-supervised-confusion\n",
    "---\n",
    "Confusion matrix\n",
    "```"
   ]
  },
  {
   "cell_type": "code",
   "execution_count": 7,
   "id": "a068085c",
   "metadata": {},
   "outputs": [
    {
     "data": {
      "image/png": "[encoded data removed]",
      "text/plain": [
       "<Figure size 432x288 with 2 Axes>"
      ]
     },
     "metadata": {
      "filenames": {
       "image/png": "/home/driscoll/Dropbox/class/267/notes/_build/jupyter_execute/classification/performance_13_0.png"
      },
      "needs_background": "light"
     },
     "output_type": "display_data"
    }
   ],
   "source": [
    "yhat = knn.predict(X_te)\n",
    "C = metrics.confusion_matrix(y_te,yhat,labels=[True,False])\n",
    "lbl = [\"fund\",\"reject\"]\n",
    "metrics.ConfusionMatrixDisplay(C,display_labels=lbl).plot();"
   ]
  },
  {
   "cell_type": "markdown",
   "id": "cceabea9",
   "metadata": {},
   "source": [
    "Hence there are 7470 true positives (funded) and 58 true negatives (rejected). Therefore, the **accuracy** is \n",
    "\n",
    "$$\n",
    "\\text{accuracy} = \\frac{\\TP + \\TN}{\\TP + \\FP + \\TN + \\FN} = \\frac{7528}{7944} \\approx 0.94763\n",
    "$$\n",
    "\n",
    "i.e., 94.8%. However, there are four other quantities defined by putting a \"number correct\" value in the numerator and the sum of a confusion matrix row or column in the denominator:\n",
    "\n",
    "$$\n",
    "\\text{recall (aka sensitivity)} &= \\frac{\\TP}{\\TP + \\FN} \\\\[2mm]\n",
    "\\text{specificity} &= \\frac{\\TN}{\\TN + \\FP} \\\\[2mm] \n",
    "\\text{precision} &= \\frac{\\TP}{\\TP + \\FP} \\\\[2mm] \n",
    "\\text{negative predictive value (NPV)} &= \\frac{\\TN}{\\TN + \\FN} \\\\ \n",
    "$$\n",
    "\n",
    "In words, these metrics answer the following questions:\n",
    "\n",
    "* **recall** How often are actual \"yes\" cases predicted correctly?\n",
    "* **specificity** How often are actual \"no\" cases predicted correctly?\n",
    "* **precision** How often are the \"yes\" predictions correct?\n",
    "* **NPV** How often are the \"no\" predictions correct?\n",
    "\n",
    "For our loan classifier, here are the scores:"
   ]
  },
  {
   "cell_type": "code",
   "execution_count": 8,
   "id": "1da89454",
   "metadata": {},
   "outputs": [
    {
     "name": "stdout",
     "output_type": "stream",
     "text": [
      "recall = 98.7%\n",
      "specificity = 15.3%\n",
      "precision = 95.9%\n",
      "NPV = 37.9%\n"
     ]
    }
   ],
   "source": [
    "TP,FN,FP,TN = C.ravel()\n",
    "print(f\"recall = {TP/(TP+FN):.1%}\")\n",
    "print(f\"specificity = {TN/(TN+FP):.1%}\")\n",
    "print(f\"precision = {TP/(TP+FP):.1%}\")\n",
    "print(f\"NPV = {TN/(TN+FN):.1%}\")"
   ]
  },
  {
   "cell_type": "markdown",
   "id": "6da82495",
   "metadata": {},
   "source": [
    "The high recall rate means that few who ought to get a loan will go away disappointed. However, the low specificity would be concerning to those doing the funding, because almost 85% of those who should be rejected will be funded as well. \n",
    "\n",
    "There are numerous ways to combine these measures into a single number other than standard accuracy. None is universally best, because different applications emphasize different aspects of performance. One of the most popular is the ***F*₁ score**, which is the harmonic mean of the precision and the recall:\n",
    "\n",
    "$$\n",
    "F_1 = \\left[ \\frac{1}{2} \\left(\\frac{\\TP + \\FN}{\\TP} + \\frac{\\TP+\\FP}{\\TP} \\right)  \\right]^{-1} = \\frac{2\\TP}{2\\TP+\\FN+\\FP}.\n",
    "$$\n",
    "\n",
    "This score varies between zero (poor) and one (ideal). You may know the harmonic mean as the operation for wiring electrical resistors in parallel. If one of the quantities is much smaller than the other, their harmonic mean will be close to the small value. Thus, *F*₁ score punishes a classifier if either recall or precision is poor. \n",
    "\n",
    "In `sklearn.metrics` there are functions to compute all the above scores, except for NPV, without reference to the confusion matrix. You must put the ground truth labels before the predicted labels, and you should also specify which of the labels in the label vector corresponds to a \"positive\" result. Swapping the \"positive\" role also swaps recall with specificity, and precision with NPV."
   ]
  },
  {
   "cell_type": "code",
   "execution_count": 9,
   "id": "07d5c58f",
   "metadata": {},
   "outputs": [
    {
     "name": "stdout",
     "output_type": "stream",
     "text": [
      "recall with True as positive: 0.9874421678783873\n",
      "recall with False as positive: 0.15303430079155672\n"
     ]
    }
   ],
   "source": [
    "print(\"recall with True as positive:\",metrics.recall_score(y_te,yhat,pos_label=True))\n",
    "\n",
    "# Compute recall using False as the \"positive\" label\n",
    "print(\"recall with False as positive:\",metrics.recall_score(y_te,yhat,pos_label=False))"
   ]
  },
  {
   "cell_type": "markdown",
   "id": "70fd8663",
   "metadata": {},
   "source": [
    "Another composite score is **balanced accuracy**, which is the mean of recall and specificity. It also ranges from 0 to 1, with 1 meaning perfect accuracy."
   ]
  },
  {
   "cell_type": "code",
   "execution_count": 10,
   "id": "db6a093c",
   "metadata": {},
   "outputs": [
    {
     "name": "stdout",
     "output_type": "stream",
     "text": [
      "F1: 0.9729096118780932\n",
      "Balanced: 0.570238234334972\n"
     ]
    }
   ],
   "source": [
    "print(\"F1:\",metrics.f1_score(y_te,yhat))\n",
    "print(\"Balanced:\",metrics.balanced_accuracy_score(y_te,yhat))"
   ]
  },
  {
   "cell_type": "markdown",
   "id": "f1c7610d",
   "metadata": {},
   "source": [
    "The loan classifier trained above has excellent recall, respectable precision, and terrible specificity, resulting in a good *F*₁ score and a low balanced accuracy score.\n",
    "\n",
    "```{prf:example}\n",
    "Inspired by the high funding rate, suppose we try a \"classifier\" that funds every loan. Then \n",
    "\n",
    "$$\n",
    "\\TP = k,\\, \\TN = 0,\\, \\FP = n-k,\\, \\FN = 0.\n",
    "$$\n",
    "\n",
    "Its *F*₁ score is thus\n",
    "\n",
    "$$\n",
    "\\frac{2\\TP}{2\\TP+\\FN+\\FP} = \\frac{2k}{2k+n-k} = \\frac{2k}{k+n},\n",
    "$$\n",
    "\n",
    "and its balanced accuracy is \n",
    "\n",
    "$$\n",
    "\\frac{1}{2} \\left(\\frac{\\TP}{\\TP+\\FN} + \\frac{\\TN}{\\TN+\\FP} \\right)  = \\frac{1}{2}.\n",
    "$$\n",
    "\n",
    "If the fraction of funded samples in the test set is $k/n=a$, then the *F*₁ score is $a/(1+a)$, which increases smoothly from zero to one as $a$ does. For the loan problem, $a=0.816$ and the *F*₁ of this lazy classifier is $0.449$. \n",
    "```\n",
    "\n",
    "<!-- \n",
    "print(\"F1:\",metrics.cohen_kappa_score(y_te,yhat))\n",
    "print(\"F1:\",metrics.matthews_corrcoef(y_te,yhat)) -->\n",
    "\n",
    "The point is that each individual metric gives part of the picture, and selecting the right one depends on what traits the application values most.\n",
    "\n",
    "## Multiclass classifiers\n",
    "\n",
    "When there are more than two unique possible labels, these metrics can be applied using the **one-vs-rest** paradigm. For $K$ unique labels, this paradigm poses $K$ binary questions: \"Is it in class 1, or not?\", \"Is it in class 2, or not?\", etc. This produces $K$ versions of metrics such as accuracy, recall, *F*₁ score, and so on, which can be averaged to give a single score. There are various ways to perform the averaging, depending on whether poorly represented classes are to be weighted more weakly than others. We won't give the details.\n",
    "\n",
    "The confusion matrix also generalizes to $K$ classes. It's easiest to see how by an example. We will load a dataset on the characteristics of cars and use quantitative factors to predict the region of origin."
   ]
  },
  {
   "cell_type": "code",
   "execution_count": 11,
   "id": "6473b1c5",
   "metadata": {},
   "outputs": [
    {
     "name": "stdout",
     "output_type": "stream",
     "text": [
      "392 samples, 5 features\n"
     ]
    },
    {
     "data": {
      "image/png": "[encoded data removed]",
      "text/plain": [
       "<Figure size 432x288 with 2 Axes>"
      ]
     },
     "metadata": {
      "filenames": {
       "image/png": "/home/driscoll/Dropbox/class/267/notes/_build/jupyter_execute/classification/performance_21_1.png"
      },
      "needs_background": "light"
     },
     "output_type": "display_data"
    }
   ],
   "source": [
    "cars = sns.load_dataset(\"mpg\").dropna()\n",
    "X = cars[[\"cylinders\",\"horsepower\",\"weight\",\"acceleration\",\"mpg\"]]\n",
    "y = pd.Categorical(cars[\"origin\"])\n",
    "\n",
    "X_tr, X_te, y_tr, y_te = train_test_split(X,y,test_size=0.2,shuffle=True,random_state=1)\n",
    "print(X.shape[0],\"samples,\",X.shape[1],\"features\")\n",
    "\n",
    "knn = KNeighborsClassifier(n_neighbors=8)\n",
    "knn.fit(X,y)\n",
    "yhat = knn.predict(X_te)\n",
    "\n",
    "labels = y.categories\n",
    "C = metrics.confusion_matrix(y_te,yhat,labels=labels)\n",
    "metrics.ConfusionMatrixDisplay(C,display_labels=labels).plot();"
   ]
  },
  {
   "cell_type": "markdown",
   "id": "65e37aa3",
   "metadata": {},
   "source": [
    "From the confusion matrix, we can see that, for example, out of 52 predictions of \"usa\" on the test set, there are 5 total false positives. Therefore, that precision is $47/52=90.4$%. We can get all the individual precision scores automatically."
   ]
  },
  {
   "cell_type": "code",
   "execution_count": 12,
   "id": "518a9f1d",
   "metadata": {},
   "outputs": [
    {
     "name": "stdout",
     "output_type": "stream",
     "text": [
      "europe: 62.5%\n",
      "japan: 63.2%\n",
      "usa: 90.4%\n"
     ]
    }
   ],
   "source": [
    "prec = metrics.precision_score(y_te,yhat,average=None)\n",
    "for (i,p) in enumerate(prec): print(f\"{labels[i]}: {p:.1%}\")"
   ]
  },
  {
   "cell_type": "markdown",
   "id": "dfc62da8",
   "metadata": {},
   "source": [
    "To get a composite precision score, we have to specify an averaging method. The `\"macro\"` option simply takes the mean of the vector above."
   ]
  },
  {
   "cell_type": "code",
   "execution_count": 13,
   "id": "81e440d8",
   "metadata": {},
   "outputs": [
    {
     "name": "stdout",
     "output_type": "stream",
     "text": [
      "0.7201417004048584\n"
     ]
    }
   ],
   "source": [
    "mac = metrics.precision_score(y_te,yhat,average=\"macro\")\n",
    "print(mac)"
   ]
  }
 ],
 "metadata": {
  "jupytext": {
   "text_representation": {
    "extension": ".md",
    "format_name": "myst",
    "format_version": 0.13,
    "jupytext_version": "1.11.5"
   }
  },
  "kernelspec": {
   "display_name": "Python 3.8.8 64-bit ('base': conda)",
   "language": "python",
   "name": "python3"
  },
  "language_info": {
   "codemirror_mode": {
    "name": "ipython",
    "version": 3
   },
   "file_extension": ".py",
   "mimetype": "text/x-python",
   "name": "python",
   "nbconvert_exporter": "python",
   "pygments_lexer": "ipython3",
   "version": "3.8.8"
  },
  "source_map": [
   12,
   18,
   21,
   25,
   28,
   32,
   35,
   39,
   49,
   53,
   56,
   60,
   64,
   86,
   91,
   117,
   123,
   137,
   142,
   146,
   149,
   187,
   202,
   206,
   209,
   213
  ]
 },
 "nbformat": 4,
 "nbformat_minor": 5
}