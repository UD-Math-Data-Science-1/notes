{
 "cells": [
  {
   "cell_type": "markdown",
   "id": "6aff06ba",
   "metadata": {},
   "source": [
    "# Small-world networks"
   ]
  },
  {
   "cell_type": "code",
   "execution_count": 1,
   "id": "676d5c5b",
   "metadata": {},
   "outputs": [],
   "source": [
    "import networkx as nx\n",
    "import numpy as np\n",
    "import pandas as pd\n",
    "import seaborn as sns"
   ]
  },
  {
   "cell_type": "markdown",
   "id": "5086a3c6",
   "metadata": {},
   "source": [
    "The *small-world phenomenon* is, broadly speaking, the observation that any two people in a group can be connected by a surprisingly short path of acquaintances. This concept appears in the \"Bacon number\" game, where actors are nodes, appearing in the same movie creates an edge between them, and one tries to find the distance between Kevin Bacon and some other designated actor. \n",
    "\n",
    "In network science, there are two type of measurements used to quantify the effect: distance and clustering."
   ]
  },
  {
   "cell_type": "markdown",
   "id": "5d6e2375",
   "metadata": {},
   "source": [
    "## Distance"
   ]
  },
  {
   "cell_type": "markdown",
   "id": "64109fcd",
   "metadata": {},
   "source": [
    "The **distance** between two nodes in a connected graph is the number of edges in the shortest path between them. In a complete graph, the distance between any pair of distinct nodes is 1, since all possible pairs are connected by an edge."
   ]
  },
  {
   "cell_type": "code",
   "execution_count": 2,
   "id": "745d31c5",
   "metadata": {},
   "outputs": [
    {
     "name": "stdout",
     "output_type": "stream",
     "text": [
      "Distance from node 0: [0, 1, 1, 1, 1]\n"
     ]
    }
   ],
   "source": [
    "K5 = nx.complete_graph(5)\n",
    "dist = [ nx.shortest_path_length(K5,0,i) for i in K5.nodes ]\n",
    "print(\"Distance from node 0:\",dist)"
   ]
  },
  {
   "cell_type": "markdown",
   "id": "76e45ac6",
   "metadata": {},
   "source": [
    "The maximum distance over all pairs of nodes in a graph is called its **diameter**. Since this value depends on an extreme outlier in the degree distribution, it is often preferred to use the **average distance** as a measure of how difficult it is to connect two randomly selected nodes.\n",
    "\n",
    "For example, here is a *wheel graph*:"
   ]
  },
  {
   "cell_type": "code",
   "execution_count": 3,
   "id": "834f85ff",
   "metadata": {},
   "outputs": [
    {
     "data": {
      "image/png": "[encoded data removed]",
      "text/plain": [
       "<Figure size 432x288 with 1 Axes>"
      ]
     },
     "metadata": {
      "filenames": {
       "image/png": "/Users/driscoll/Dropbox/class/267/notes/_build/jupyter_execute/network/small-world_7_0.png"
      }
     },
     "output_type": "display_data"
    }
   ],
   "source": [
    "W = nx.wheel_graph(7)\n",
    "nx.draw(W,with_labels=True,node_color=\"lightblue\")"
   ]
  },
  {
   "cell_type": "markdown",
   "id": "de6a7a3f",
   "metadata": {},
   "source": [
    "No node is more than two hops away from another, if the first hop is to node 0, so the diameter of this graph is 2. The average distance is somewhat smaller. This graph is so small that we can easily find the entire matrix of pairwise distances."
   ]
  },
  {
   "cell_type": "code",
   "execution_count": 4,
   "id": "58cb09b6",
   "metadata": {},
   "outputs": [
    {
     "name": "stdout",
     "output_type": "stream",
     "text": [
      "[[0 1 1 1 1 1 1]\n",
      " [0 0 1 2 2 2 1]\n",
      " [0 0 0 1 2 2 2]\n",
      " [0 0 0 0 1 2 2]\n",
      " [0 0 0 0 0 1 2]\n",
      " [0 0 0 0 0 0 1]\n",
      " [0 0 0 0 0 0 0]]\n"
     ]
    }
   ],
   "source": [
    "nodes = list(W.nodes)\n",
    "n = len(nodes)\n",
    "D = np.zeros((n,n),dtype=int)\n",
    "for i in range(n):\n",
    "    for j in range(i+1,n):\n",
    "        D[i,j] = nx.shortest_path_length(W,nodes[i],nodes[j]) \n",
    "\n",
    "print(D)"
   ]
  },
  {
   "cell_type": "markdown",
   "id": "b7d9bf7e",
   "metadata": {},
   "source": [
    "The actual distance matrix is symmetric, but it's only necessary to compute its upper triangle. To get the average distance, we can sum over all the entries and divide by $\\binom{n}{2}$:"
   ]
  },
  {
   "cell_type": "code",
   "execution_count": 5,
   "id": "55a7cf9e",
   "metadata": {},
   "outputs": [
    {
     "name": "stdout",
     "output_type": "stream",
     "text": [
      "average distance: 1.4285714285714286\n"
     ]
    }
   ],
   "source": [
    "print(\"average distance:\",2*D.sum()/(n*(n-1)))"
   ]
  },
  {
   "cell_type": "markdown",
   "id": "eec6d3b2",
   "metadata": {},
   "source": [
    "There is a convenience function for computing this average. (It becomes slow as $n$ grows, though.)"
   ]
  },
  {
   "cell_type": "code",
   "execution_count": 6,
   "id": "8aa281a8",
   "metadata": {},
   "outputs": [
    {
     "name": "stdout",
     "output_type": "stream",
     "text": [
      "average distance: 1.4285714285714286\n"
     ]
    }
   ],
   "source": [
    "print(\"average distance:\",nx.average_shortest_path_length(W))"
   ]
  },
  {
   "cell_type": "markdown",
   "id": "b6653062",
   "metadata": {},
   "source": [
    "## Clustering\n",
    "\n",
    "Intuitively, the idea behind clustering is that your friends tend to be friends of one another. There are various ways to quantify this precisely, but the easiest is the **local clustering coefficient**, defined for a node $i$ as\n",
    "\n",
    "$$\n",
    "C(i) = \\frac{ 2 T(i) }{d_i(d_i-1)}.\n",
    "$$\n",
    "\n",
    "In this formula, $d_i$ is the degree of the node and $T(i)$ is the number of edges between node $i$'s neighbors. Equivalently, $T(i)$ is the number of triangles in the graph that pass through node $i$. Because the subgraph of the friend nodes has\n",
    "\n",
    "$$\n",
    "\\binom{d_i}{2}\n",
    "$$\n",
    "\n",
    "possible edges, the maximum of $C(i)$ is 1.\n",
    "\n",
    "::::{prf:example}\n",
    ":label: example-small-world-clustering\n",
    "Find the clustering coefficient for each node in the wheel graph drawn above.\n",
    ":::{dropdown} Solution\n",
    "Node 0 in this graph is adjacent to 6 other nodes, and there are 6 triangles passing through it. Thus, its clustering coefficient is\n",
    "\n",
    "$$\n",
    "C(0) = \\frac{6}{6 \\cdot 5 / 2} = \\frac{2}{5}.\n",
    "$$\n",
    "\n",
    "Every other node has 3 friends and 2 triangles, so they each have\n",
    "\n",
    "$$\n",
    "C(i) = \\frac{2}{3 \\cdot 2 / 2} = \\frac{2}{3}, \\quad i\\neq 0.\n",
    "$$\n",
    ":::\n",
    "::::\n",
    "\n",
    "In NetworkX, we can manually count the number of edges among neighbors of node 0 by examining their subgraph:"
   ]
  },
  {
   "cell_type": "code",
   "execution_count": 7,
   "id": "2421bcb1",
   "metadata": {},
   "outputs": [
    {
     "name": "stdout",
     "output_type": "stream",
     "text": [
      "2 edges among neighbors of node 1\n"
     ]
    }
   ],
   "source": [
    "nbrhood = W.subgraph(W[1])\n",
    "print(nbrhood.number_of_edges(),\"edges among neighbors of node 1\")"
   ]
  },
  {
   "cell_type": "markdown",
   "id": "fa5369d0",
   "metadata": {},
   "source": [
    "More directly, though, the `clustering` function in NetworkX computes $C(i)$ for any single node, or for all the nodes in a graph."
   ]
  },
  {
   "cell_type": "code",
   "execution_count": 8,
   "id": "95669e7f",
   "metadata": {},
   "outputs": [
    {
     "name": "stdout",
     "output_type": "stream",
     "text": [
      "node 0 clustering: 0.4\n",
      "\n",
      "all nodes clustering:\n",
      "0    0.400000\n",
      "1    0.666667\n",
      "2    0.666667\n",
      "3    0.666667\n",
      "4    0.666667\n",
      "5    0.666667\n",
      "6    0.666667\n",
      "dtype: float64\n"
     ]
    }
   ],
   "source": [
    "print(\"node 0 clustering:\",nx.clustering(W,0))\n",
    "print(\"\\nall nodes clustering:\")\n",
    "print(pd.Series(nx.clustering(W),index=W.nodes))"
   ]
  },
  {
   "cell_type": "markdown",
   "id": "4a854ea0",
   "metadata": {},
   "source": [
    "## ER graphs\n",
    "\n",
    "If we want to compute distance and clustering within ER random graphs, we quickly run into a problem: an ER graph may not have a path between every pair of nodes. We say that such a graph is not **connected**."
   ]
  },
  {
   "cell_type": "code",
   "execution_count": 9,
   "id": "47c9ae83",
   "metadata": {},
   "outputs": [
    {
     "data": {
      "text/plain": [
       "False"
      ]
     },
     "execution_count": 9,
     "metadata": {},
     "output_type": "execute_result"
    }
   ],
   "source": [
    "n,p = 101,1/25\n",
    "ER = nx.erdos_renyi_graph(n,p,seed=0)\n",
    "nx.is_connected(ER)"
   ]
  },
  {
   "cell_type": "code",
   "execution_count": 10,
   "id": "890ed2d1",
   "metadata": {},
   "outputs": [
    {
     "data": {
      "image/png": "[encoded data removed]",
      "text/plain": [
       "<Figure size 432x288 with 1 Axes>"
      ]
     },
     "metadata": {
      "filenames": {
       "image/png": "/Users/driscoll/Dropbox/class/267/notes/_build/jupyter_execute/network/small-world_20_0.png"
      }
     },
     "output_type": "display_data"
    }
   ],
   "source": [
    "nx.draw(ER,node_size=50)"
   ]
  },
  {
   "cell_type": "markdown",
   "id": "581beb86",
   "metadata": {},
   "source": [
    "When no path exists between two nodes, the only sensible definition of distance is infinity, and averages that include infinity are themselves infinite. In fact, NetworkX will give an error if we try to compute the average distance in a disconnected graph:"
   ]
  },
  {
   "cell_type": "code",
   "execution_count": 11,
   "id": "70c01f4d",
   "metadata": {},
   "outputs": [
    {
     "ename": "NetworkXError",
     "evalue": "Graph is not connected.",
     "output_type": "error",
     "traceback": [
      "\u001b[0;31m---------------------------------------------------------------------------\u001b[0m",
      "\u001b[0;31mNetworkXError\u001b[0m                             Traceback (most recent call last)",
      "\u001b[0;32m/var/folders/cn/8w40979d27x0kv2wsnx7zgvm0000gp/T/ipykernel_63466/477834076.py\u001b[0m in \u001b[0;36m<module>\u001b[0;34m\u001b[0m\n\u001b[0;32m----> 1\u001b[0;31m \u001b[0mnx\u001b[0m\u001b[0;34m.\u001b[0m\u001b[0maverage_shortest_path_length\u001b[0m\u001b[0;34m(\u001b[0m\u001b[0mER\u001b[0m\u001b[0;34m)\u001b[0m\u001b[0;34m\u001b[0m\u001b[0;34m\u001b[0m\u001b[0m\n\u001b[0m",
      "\u001b[0;32m~/anaconda3/lib/python3.8/site-packages/networkx/algorithms/shortest_paths/generic.py\u001b[0m in \u001b[0;36maverage_shortest_path_length\u001b[0;34m(G, weight, method)\u001b[0m\n\u001b[1;32m    387\u001b[0m         \u001b[0;32mraise\u001b[0m \u001b[0mnx\u001b[0m\u001b[0;34m.\u001b[0m\u001b[0mNetworkXError\u001b[0m\u001b[0;34m(\u001b[0m\u001b[0;34m\"Graph is not weakly connected.\"\u001b[0m\u001b[0;34m)\u001b[0m\u001b[0;34m\u001b[0m\u001b[0;34m\u001b[0m\u001b[0m\n\u001b[1;32m    388\u001b[0m     \u001b[0;32mif\u001b[0m \u001b[0;32mnot\u001b[0m \u001b[0mG\u001b[0m\u001b[0;34m.\u001b[0m\u001b[0mis_directed\u001b[0m\u001b[0;34m(\u001b[0m\u001b[0;34m)\u001b[0m \u001b[0;32mand\u001b[0m \u001b[0;32mnot\u001b[0m \u001b[0mnx\u001b[0m\u001b[0;34m.\u001b[0m\u001b[0mis_connected\u001b[0m\u001b[0;34m(\u001b[0m\u001b[0mG\u001b[0m\u001b[0;34m)\u001b[0m\u001b[0;34m:\u001b[0m\u001b[0;34m\u001b[0m\u001b[0;34m\u001b[0m\u001b[0m\n\u001b[0;32m--> 389\u001b[0;31m         \u001b[0;32mraise\u001b[0m \u001b[0mnx\u001b[0m\u001b[0;34m.\u001b[0m\u001b[0mNetworkXError\u001b[0m\u001b[0;34m(\u001b[0m\u001b[0;34m\"Graph is not connected.\"\u001b[0m\u001b[0;34m)\u001b[0m\u001b[0;34m\u001b[0m\u001b[0;34m\u001b[0m\u001b[0m\n\u001b[0m\u001b[1;32m    390\u001b[0m \u001b[0;34m\u001b[0m\u001b[0m\n\u001b[1;32m    391\u001b[0m     \u001b[0;31m# Compute all-pairs shortest paths.\u001b[0m\u001b[0;34m\u001b[0m\u001b[0;34m\u001b[0m\u001b[0;34m\u001b[0m\u001b[0m\n",
      "\u001b[0;31mNetworkXError\u001b[0m: Graph is not connected."
     ]
    }
   ],
   "source": [
    "nx.average_shortest_path_length(ER)"
   ]
  },
  {
   "cell_type": "markdown",
   "id": "54bc4142",
   "metadata": {},
   "source": [
    "We are also unable to compute the clustering coefficient at a node of degree zero.\n",
    "\n",
    "One way to cope with this eventuality is to decompose the graph into **connected components**, a disjoint separation of the nodes into connected subgraphs. We can use `nx.connected_components` to get node sets for each component."
   ]
  },
  {
   "cell_type": "code",
   "execution_count": 12,
   "id": "8c5b1c0f",
   "metadata": {},
   "outputs": [
    {
     "data": {
      "text/plain": [
       "[100, 1]"
      ]
     },
     "execution_count": 12,
     "metadata": {},
     "output_type": "execute_result"
    }
   ],
   "source": [
    "[len(cc) for cc in nx.connected_components(ER)]"
   ]
  },
  {
   "cell_type": "markdown",
   "id": "50884ead",
   "metadata": {},
   "source": [
    "The result above tells us that removing the lone unconnected node in the ER graph leaves us with a connected component. We can always get the largest component with the following:"
   ]
  },
  {
   "cell_type": "code",
   "execution_count": 13,
   "id": "4246c62f",
   "metadata": {},
   "outputs": [
    {
     "name": "stdout",
     "output_type": "stream",
     "text": [
      "100 nodes in largest component\n"
     ]
    }
   ],
   "source": [
    "ER_sub = ER.subgraph( max(nx.connected_components(ER), key=len) )\n",
    "print(ER_sub.number_of_nodes(),\"nodes in largest component\")"
   ]
  },
  {
   "cell_type": "markdown",
   "id": "f8ef5aa4",
   "metadata": {},
   "source": [
    "Now the average path length is a valid computation."
   ]
  },
  {
   "cell_type": "code",
   "execution_count": 14,
   "id": "61708e5a",
   "metadata": {},
   "outputs": [
    {
     "data": {
      "text/plain": [
       "3.3082828282828283"
      ]
     },
     "execution_count": 14,
     "metadata": {},
     "output_type": "execute_result"
    }
   ],
   "source": [
    "nx.average_shortest_path_length(ER_sub)"
   ]
  },
  {
   "cell_type": "markdown",
   "id": "a84eb092",
   "metadata": {},
   "source": [
    "Let's cut a little slack at this point and compute the distance and clustering for those ER graphs which happen to be connected."
   ]
  },
  {
   "cell_type": "code",
   "execution_count": 15,
   "id": "6683c632",
   "metadata": {},
   "outputs": [
    {
     "name": "stdout",
     "output_type": "stream",
     "text": [
      "average distances in the largest component:\n"
     ]
    },
    {
     "data": {
      "image/png": "[encoded data removed]",
      "text/plain": [
       "<Figure size 360x360 with 1 Axes>"
      ]
     },
     "metadata": {
      "filenames": {
       "image/png": "/Users/driscoll/Dropbox/class/267/notes/_build/jupyter_execute/network/small-world_30_1.png"
      },
      "needs_background": "light"
     },
     "output_type": "display_data"
    }
   ],
   "source": [
    "n,p = 121,1/20\n",
    "dbar,cbar = [],[]\n",
    "for iter in range(100):\n",
    "    ER = nx.erdos_renyi_graph(n,p,seed=iter+5000)\n",
    "    ER_sub = ER.subgraph( max(nx.connected_components(ER), key=len) )\n",
    "    dbar.append(nx.average_shortest_path_length(ER_sub))\n",
    "    cbar.append(nx.average_clustering(ER_sub))        \n",
    "\n",
    "print(\"average distances in the largest component:\")\n",
    "sns.displot(x=dbar,bins=13);"
   ]
  },
  {
   "cell_type": "markdown",
   "id": "6fab0d0b",
   "metadata": {},
   "source": [
    "The chances are good that any message could be passed along in three hops or fewer. In fact, theory states that as $n\\to\\infty$, the mean distance in ER graphs is expected to be approximately \n",
    "\n",
    "```{math}\n",
    ":label: eq-small-world-ERdistance\n",
    "\\frac{\\ln(n)}{\\ln(\\bar{k})}.\n",
    "```\n",
    "\n",
    "For $n=121$ and $\\bar{k}=6$ as in the experiment above, this value is about 2.68.\n",
    "\n",
    "Meanwhile, the local clustering in these ER graphs is close to zero:"
   ]
  },
  {
   "cell_type": "code",
   "execution_count": 16,
   "id": "c18ea1fe",
   "metadata": {},
   "outputs": [
    {
     "name": "stdout",
     "output_type": "stream",
     "text": [
      "average clustering:\n"
     ]
    },
    {
     "data": {
      "image/png": "[encoded data removed]",
      "text/plain": [
       "<Figure size 360x360 with 1 Axes>"
      ]
     },
     "metadata": {
      "filenames": {
       "image/png": "/Users/driscoll/Dropbox/class/267/notes/_build/jupyter_execute/network/small-world_32_1.png"
      },
      "needs_background": "light"
     },
     "output_type": "display_data"
    }
   ],
   "source": [
    "print(\"average clustering:\")\n",
    "sns.displot(x=cbar,bins=13);"
   ]
  },
  {
   "cell_type": "markdown",
   "id": "346c528e",
   "metadata": {},
   "source": [
    "This happens because there is no special affinity for friendship among one's friends. Since every edge appears with probability $p$, the expected fraction of edges in the ego network of a node is also $p$, and that is the expected value for the clustering coefficient at each node as well."
   ]
  },
  {
   "cell_type": "markdown",
   "id": "427fa869",
   "metadata": {},
   "source": [
    "## Twitch network"
   ]
  },
  {
   "cell_type": "markdown",
   "id": "d3c026d8",
   "metadata": {},
   "source": [
    "Let's consider the Twitch network again."
   ]
  },
  {
   "cell_type": "code",
   "execution_count": 17,
   "id": "74832db3",
   "metadata": {},
   "outputs": [
    {
     "name": "stdout",
     "output_type": "stream",
     "text": [
      "7126 nodes and 35324 edges\n",
      "average degree is 9.914\n"
     ]
    }
   ],
   "source": [
    "twitch = nx.read_edgelist(\"musae_edges.csv\",delimiter=',',nodetype=int)\n",
    "n,e = twitch.number_of_nodes(),twitch.number_of_edges()\n",
    "kbar = 2*e/n\n",
    "print(n,\"nodes and\",e,\"edges\")\n",
    "print(f\"average degree is {kbar:.3f}\")"
   ]
  },
  {
   "cell_type": "markdown",
   "id": "e71e340a",
   "metadata": {},
   "source": [
    "Computing the distances between all pairs of nodes in this graph would take a rather long time, so we will estimate the average distance by sampling."
   ]
  },
  {
   "cell_type": "code",
   "execution_count": 18,
   "id": "82192273",
   "metadata": {
    "tags": []
   },
   "outputs": [
    {
     "name": "stdout",
     "output_type": "stream",
     "text": [
      "For Twitch graph...\n",
      "Distribution of distance samples:\n",
      "4    42813\n",
      "3    36231\n",
      "5    12570\n",
      "2     6294\n",
      "6     1724\n",
      "7      191\n",
      "1      159\n",
      "8       17\n",
      "9        1\n",
      "dtype: int64\n",
      "\n",
      "Estimated mean distance: 3.67368\n"
     ]
    }
   ],
   "source": [
    "from numpy.random import default_rng\n",
    "rng = default_rng(1)\n",
    "\n",
    "# Compute the distance between a random pair of distinct nodes:\n",
    "def pairdist(G):\n",
    "    n = nx.number_of_nodes(G)\n",
    "    i = j = rng.integers(0,n)\n",
    "    while i==j: j=rng.integers(0,n)   # get distinct nodes\n",
    "    return nx.shortest_path_length(G,source=i,target=j)\n",
    "\n",
    "distances = pd.Series([pairdist(twitch) for _ in range(100000)])\n",
    "\n",
    "print(\"For Twitch graph...\")\n",
    "print(\"Distribution of distance samples:\")\n",
    "print(distances.value_counts())\n",
    "print(\"\\nEstimated mean distance:\",distances.mean())"
   ]
  },
  {
   "cell_type": "markdown",
   "id": "3f5172ac",
   "metadata": {
    "tags": []
   },
   "source": [
    "Here are the clustering coefficients:"
   ]
  },
  {
   "cell_type": "code",
   "execution_count": 19,
   "id": "917739a2",
   "metadata": {},
   "outputs": [
    {
     "data": {
      "image/png": "[encoded data removed]",
      "text/plain": [
       "<Figure size 360x360 with 1 Axes>"
      ]
     },
     "metadata": {
      "filenames": {
       "image/png": "/Users/driscoll/Dropbox/class/267/notes/_build/jupyter_execute/network/small-world_40_0.png"
      },
      "needs_background": "light"
     },
     "output_type": "display_data"
    }
   ],
   "source": [
    "cluster_coeffs = pd.Series(nx.clustering(twitch),index=twitch.nodes)\n",
    "sns.displot(data=cluster_coeffs);"
   ]
  },
  {
   "cell_type": "code",
   "execution_count": 20,
   "id": "beebeb13",
   "metadata": {
    "tags": []
   },
   "outputs": [
    {
     "data": {
      "text/plain": [
       "count    7126.000000\n",
       "mean        0.130928\n",
       "std         0.206261\n",
       "min         0.000000\n",
       "25%         0.000000\n",
       "50%         0.057143\n",
       "75%         0.166667\n",
       "max         1.000000\n",
       "dtype: float64"
      ]
     },
     "execution_count": 20,
     "metadata": {},
     "output_type": "execute_result"
    }
   ],
   "source": [
    "cluster_coeffs.describe()"
   ]
  },
  {
   "cell_type": "markdown",
   "id": "958e2f78",
   "metadata": {},
   "source": [
    "Let's compare these results to ER graphs with the same size and average degree, implying $p=\\bar{k}/(n-1)$. It's time-consuming to sample enough graphs to be statistically meaningful, so we do just a few here to get a taste."
   ]
  },
  {
   "cell_type": "code",
   "execution_count": 21,
   "id": "d92ae003",
   "metadata": {},
   "outputs": [
    {
     "name": "stdout",
     "output_type": "stream",
     "text": [
      "For ER graphs:\n",
      "Average of mean distance: 4.1125\n",
      "Average of mean clustering: 0.0014539580305994474\n"
     ]
    }
   ],
   "source": [
    "p = kbar/(n-1)\n",
    "\n",
    "dbar,cbar = [],[]\n",
    "for iter in range(4):\n",
    "    ER = nx.erdos_renyi_graph(n,p,seed=iter+789)\n",
    "    ER_sub = ER.subgraph( max(nx.connected_components(ER), key=len) )\n",
    "    dist = [pairdist(ER_sub) for _ in range(80)]\n",
    "    dbar.append(np.mean(dist))\n",
    "    cbar.append(nx.average_clustering(ER_sub))        \n",
    "\n",
    "print(\"For ER graphs:\")\n",
    "print(\"Average of mean distance:\",np.mean(dbar))\n",
    "print(\"Average of mean clustering:\",np.mean(cbar))"
   ]
  },
  {
   "cell_type": "markdown",
   "id": "2dd4fed1",
   "metadata": {},
   "source": [
    "Equation {eq}`eq-small-world-ERdistance`, applied with $n$ and $\\bar{k}$ from the Twitch network, predicts a mean distance of"
   ]
  },
  {
   "cell_type": "code",
   "execution_count": 22,
   "id": "900ecfc9",
   "metadata": {},
   "outputs": [
    {
     "name": "stdout",
     "output_type": "stream",
     "text": [
      "ER graphs mean distance: 3.8673326382368893\n"
     ]
    }
   ],
   "source": [
    "print(\"ER graphs mean distance:\",np.log(n)/np.log(kbar))"
   ]
  },
  {
   "cell_type": "markdown",
   "id": "072e3b0b",
   "metadata": {},
   "source": [
    "This value is a bit smaller than the one observed above, but in any case, the values are not much different from those for the Twitch network. \n",
    "\n",
    "Unlike the Twitch network, though, ER graphs show essentially no local clustering. This was true experimentally above, and the theoretical expected value is $p\\approx 0.0014.$ It's clear that the Twitch social network has a much greater likelihood of \"my friends are also friends of each other\" than a random ER graph has."
   ]
  },
  {
   "cell_type": "markdown",
   "id": "f681c2ae",
   "metadata": {},
   "source": [
    "## Watts–Strogatz graphs\n",
    "\n",
    "A **Watts–Strogatz graph** (WS graph) tries to model the small-world phenomenon. A WS graph has three parameters: $n$, an even integer $k$, and a probability $q$. \n",
    "\n",
    "Imagine $n$ nodes arranged in a circle. Connect each node with an edge to each of its $k/2$ left neighbors and $k/2$ right neighbors. Now visit each node $i$ in turn. For each edge from $i$ to a neighbor, with probability $q$ replace it with an edge between $i$ and a node chosen at random from all the nodes $i$ is not currently connected to. The idea is to start with tight-knit, overlapping communities, and randomly toss in some far-flung links."
   ]
  },
  {
   "cell_type": "code",
   "execution_count": 23,
   "id": "74e1b9d6",
   "metadata": {},
   "outputs": [
    {
     "data": {
      "image/png": "[encoded data removed]",
      "text/plain": [
       "<Figure size 432x288 with 1 Axes>"
      ]
     },
     "metadata": {
      "filenames": {
       "image/png": "/Users/driscoll/Dropbox/class/267/notes/_build/jupyter_execute/network/small-world_48_0.png"
      }
     },
     "output_type": "display_data"
    }
   ],
   "source": [
    "WS = nx.watts_strogatz_graph(40,6,0.15,seed=1)\n",
    "nx.draw_circular(WS,node_size=100)"
   ]
  },
  {
   "cell_type": "markdown",
   "id": "2b7fa109",
   "metadata": {},
   "source": [
    "For $q<1$, a WS graph has a mean clustering coefficient that is significantly above zero."
   ]
  },
  {
   "cell_type": "code",
   "execution_count": 24,
   "id": "1124c4d5",
   "metadata": {},
   "outputs": [],
   "source": [
    "n,k = 60,6\n",
    "results = pd.DataFrame({\"q\":[],\"mean cluster\":[]})\n",
    "seed = 0\n",
    "for q in np.arange(0.05,1.05,0.05):\n",
    "    cbar = []\n",
    "    for iter in range(50):\n",
    "        WS = nx.watts_strogatz_graph(n,k,q,seed=seed)\n",
    "        cbar.append(nx.average_clustering(WS))\n",
    "        seed += 1\n",
    "    results = pd.concat((results,\n",
    "                         pd.DataFrame({\"q\":q,\"mean cluster\":cbar})),\n",
    "                        ignore_index=True)"
   ]
  },
  {
   "cell_type": "code",
   "execution_count": 25,
   "id": "e3bc6de9",
   "metadata": {},
   "outputs": [
    {
     "name": "stdout",
     "output_type": "stream",
     "text": [
      "Mean clustering in WS graphs on 60 nodes:\n"
     ]
    },
    {
     "data": {
      "image/png": "[encoded data removed]",
      "text/plain": [
       "<Figure size 360x360 with 1 Axes>"
      ]
     },
     "metadata": {
      "filenames": {
       "image/png": "/Users/driscoll/Dropbox/class/267/notes/_build/jupyter_execute/network/small-world_51_1.png"
      },
      "needs_background": "light"
     },
     "output_type": "display_data"
    }
   ],
   "source": [
    "print(\"Mean clustering in WS graphs on 60 nodes:\")\n",
    "sns.relplot(data=results,x=\"q\",y=\"mean cluster\",kind=\"line\");"
   ]
  },
  {
   "cell_type": "markdown",
   "id": "dbdb77a7",
   "metadata": {},
   "source": [
    "Let's scale the experiment up to the size of the Twitch network."
   ]
  },
  {
   "cell_type": "code",
   "execution_count": 26,
   "id": "5c4d3ba5",
   "metadata": {},
   "outputs": [],
   "source": [
    "results = pd.DataFrame({\"q\":[],\"mean cluster\":[]})\n",
    "seed = 0\n",
    "n,k = twitch.number_of_nodes(),10\n",
    "for q in np.arange(0.05,1,0.1):\n",
    "    cbar = []\n",
    "    for iter in range(6):\n",
    "        WS = nx.watts_strogatz_graph(n,k,q,seed=seed)\n",
    "        cbar.append(nx.average_clustering(WS))\n",
    "        seed += 1\n",
    "    results = pd.concat((results,\n",
    "                         pd.DataFrame({\"q\":q,\"mean cluster\":cbar})),\n",
    "                        ignore_index=True)"
   ]
  },
  {
   "cell_type": "code",
   "execution_count": 27,
   "id": "757d42c3",
   "metadata": {},
   "outputs": [
    {
     "name": "stdout",
     "output_type": "stream",
     "text": [
      "Mean clustering in WS graphs on 7126 nodes:\n"
     ]
    },
    {
     "data": {
      "image/png": "[encoded data removed]",
      "text/plain": [
       "<Figure size 360x360 with 1 Axes>"
      ]
     },
     "metadata": {
      "filenames": {
       "image/png": "/Users/driscoll/Dropbox/class/267/notes/_build/jupyter_execute/network/small-world_54_1.png"
      },
      "needs_background": "light"
     },
     "output_type": "display_data"
    }
   ],
   "source": [
    "print(\"Mean clustering in WS graphs on\",n,\"nodes:\")\n",
    "sns.relplot(data=results,x=\"q\",y=\"mean cluster\",kind=\"line\");"
   ]
  },
  {
   "cell_type": "markdown",
   "id": "df575d5f",
   "metadata": {},
   "source": [
    "The mean clustering resembles the value of 0.13 for the Twitch network at around $q=0.4$. However, that leaves the mean distance a bit too large:"
   ]
  },
  {
   "cell_type": "code",
   "execution_count": 28,
   "id": "73bb9a1b",
   "metadata": {},
   "outputs": [
    {
     "name": "stdout",
     "output_type": "stream",
     "text": [
      "mean distance in WS: 4.404411764705882\n"
     ]
    }
   ],
   "source": [
    "results = pd.DataFrame({\"q\":[],\"mean distance\":[]})\n",
    "seed = 0\n",
    "n,k,q = twitch.number_of_nodes(),10,0.4\n",
    "for iter in range(30):\n",
    "    WS = nx.watts_strogatz_graph(n,k,q,seed=seed)\n",
    "    d = sum(pairdist(WS) for _ in range(100))\n",
    "    dbar.append(d/100)\n",
    "    seed += 1\n",
    "print(\"mean distance in WS:\",np.mean(dbar))"
   ]
  },
  {
   "cell_type": "markdown",
   "id": "7fd79a15",
   "metadata": {},
   "source": [
    "At this point it's inconclusive whether the WS construction can explain the Twitch network. In the next section, we will see that it is lacking in at least one other important way."
   ]
  }
 ],
 "metadata": {
  "jupytext": {
   "text_representation": {
    "extension": ".md",
    "format_name": "myst",
    "format_version": 0.13,
    "jupytext_version": "1.11.5"
   }
  },
  "kernelspec": {
   "display_name": "Python 3 (ipykernel)",
   "language": "python",
   "name": "python3"
  },
  "language_info": {
   "codemirror_mode": {
    "name": "ipython",
    "version": 3
   },
   "file_extension": ".py",
   "mimetype": "text/x-python",
   "name": "python",
   "nbconvert_exporter": "python",
   "pygments_lexer": "ipython3",
   "version": "3.8.8"
  },
  "source_map": [
   12,
   16,
   21,
   27,
   31,
   35,
   39,
   45,
   48,
   52,
   61,
   65,
   67,
   71,
   73,
   111,
   114,
   118,
   122,
   128,
   134,
   136,
   140,
   142,
   148,
   150,
   154,
   157,
   161,
   163,
   167,
   178,
   191,
   194,
   198,
   202,
   206,
   212,
   216,
   237,
   241,
   246,
   250,
   254,
   268,
   272,
   274,
   280,
   288,
   291,
   295,
   310,
   313,
   317,
   332,
   335,
   339,
   349
  ]
 },
 "nbformat": 4,
 "nbformat_minor": 5
}