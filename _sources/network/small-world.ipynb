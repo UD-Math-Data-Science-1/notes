{
 "cells": [
  {
   "cell_type": "markdown",
   "id": "a2071dbc",
   "metadata": {},
   "source": [
    "# Small-world networks"
   ]
  },
  {
   "cell_type": "code",
   "execution_count": 1,
   "id": "4a5e3f64",
   "metadata": {},
   "outputs": [],
   "source": [
    "import networkx as nx\n",
    "import numpy as np\n",
    "import pandas as pd\n",
    "import seaborn as sns"
   ]
  },
  {
   "cell_type": "markdown",
   "id": "101aa600",
   "metadata": {},
   "source": [
    "The *small-world phenomenon* is, broadly speaking, the observation that any two people in a group can be connected by a surprisingly short path of acquaintances. This concept appears in the \"Bacon number\" game, where actors are nodes, appearing in the same movie creates an edge between them, and one tries to find the distance between Kevin Bacon and some other designated actor. \n",
    "\n",
    "In network science, there are two type of measurements used to quantify the effect: distance and clustering."
   ]
  },
  {
   "cell_type": "markdown",
   "id": "0f1f82fa",
   "metadata": {},
   "source": [
    "## Distance"
   ]
  },
  {
   "cell_type": "markdown",
   "id": "470c7287",
   "metadata": {},
   "source": [
    "The **distance** between two nodes in a connected graph is the number of edges in the shortest path between them. In a complete graph, the distance between any pair of distinct nodes is 1, since all possible pairs are connected by an edge."
   ]
  },
  {
   "cell_type": "code",
   "execution_count": 2,
   "id": "ded05b58",
   "metadata": {},
   "outputs": [
    {
     "name": "stdout",
     "output_type": "stream",
     "text": [
      "Distance from node 0: [0, 1, 1, 1, 1]\n"
     ]
    }
   ],
   "source": [
    "K5 = nx.complete_graph(5)\n",
    "dist = [ nx.shortest_path_length(K5,0,i) for i in K5.nodes ]\n",
    "print(\"Distance from node 0:\",dist)"
   ]
  },
  {
   "cell_type": "markdown",
   "id": "ffa2721b",
   "metadata": {},
   "source": [
    "The maximum distance over all pairs of nodes in a graph is called its **diameter**. Since this value depends on an extreme outlier in the degree distribution, it is often preferred to use the **average distance** as a measure of how difficult it is to connect two randomly selected nodes.\n",
    "\n",
    "For example, here is a *wheel graph*:"
   ]
  },
  {
   "cell_type": "code",
   "execution_count": 3,
   "id": "8bc9a13f",
   "metadata": {},
   "outputs": [
    {
     "data": {
      "image/png": "[encoded data removed]",
      "text/plain": [
       "<Figure size 432x288 with 1 Axes>"
      ]
     },
     "metadata": {
      "filenames": {
       "image/png": "/Users/driscoll/Dropbox/class/267/notes/_build/jupyter_execute/network/small-world_7_0.png"
      }
     },
     "output_type": "display_data"
    }
   ],
   "source": [
    "W = nx.wheel_graph(7)\n",
    "nx.draw(W,with_labels=True,node_color=\"lightblue\")"
   ]
  },
  {
   "cell_type": "markdown",
   "id": "99c547bf",
   "metadata": {},
   "source": [
    "No node is more than two hops away from another, if the first hop is to node 0, so the diameter of this graph is 2. The average distance is somewhat smaller. This graph is so small that we can easily find the entire matrix of pairwise distances."
   ]
  },
  {
   "cell_type": "code",
   "execution_count": 4,
   "id": "d8d55f22",
   "metadata": {},
   "outputs": [
    {
     "name": "stdout",
     "output_type": "stream",
     "text": [
      "[[0 1 1 1 1 1 1]\n",
      " [1 0 1 2 2 2 1]\n",
      " [1 1 0 1 2 2 2]\n",
      " [1 2 1 0 1 2 2]\n",
      " [1 2 2 1 0 1 2]\n",
      " [1 2 2 2 1 0 1]\n",
      " [1 1 2 2 2 1 0]]\n"
     ]
    }
   ],
   "source": [
    "D = np.array([ [nx.shortest_path_length(W,i,j) for j in range(7)] for i in range(7) ])\n",
    "print(D)"
   ]
  },
  {
   "cell_type": "markdown",
   "id": "2450b922",
   "metadata": {},
   "source": [
    "Only the entries in the upper triangle need to be averaged. However, by the symmetry, we can sum over all the entries and divide by $2\\binom{n}{2}$:"
   ]
  },
  {
   "cell_type": "code",
   "execution_count": 5,
   "id": "92cabd5d",
   "metadata": {},
   "outputs": [
    {
     "name": "stdout",
     "output_type": "stream",
     "text": [
      "average distance: 1.4285714285714286\n"
     ]
    }
   ],
   "source": [
    "print(\"average distance:\",D.sum()/(7*6))"
   ]
  },
  {
   "cell_type": "markdown",
   "id": "6f6d4a91",
   "metadata": {},
   "source": [
    "## Clustering\n",
    "\n",
    "Intuitively, the idea behind clustering is that your friends tend to be friends of one another. There are various ways to quantify this precisely, but the easiest is the **local clustering coefficient**, defined for a node $i$ as\n",
    "\n",
    "$$\n",
    "C_i = \\frac{ 2 T_i }{k_i(k_i-1)}.\n",
    "$$\n",
    "\n",
    "In this formula, $k_i$ is the degree of the node and $T_i$ is the number of edges between node $i$'s neighbors. Equivalently, $T_i$ is the number of triangles in the graph that pass through node $i$. Because the subgraph of the friend nodes has\n",
    "\n",
    "$$\n",
    "\\binom{k_i}{2}\n",
    "$$\n",
    "\n",
    "possible edges, the maximum of $C_i$ is 1.\n",
    "\n",
    "For example, let's continue with the wheel graph above."
   ]
  },
  {
   "cell_type": "markdown",
   "id": "075606bb",
   "metadata": {},
   "source": [
    "Node 0 in this graph is adjacent to 6 other nodes, and there are 6 triangles passing through it. Thus, its clustering coefficient is\n",
    "\n",
    "$$\n",
    "C_0 = \\frac{6}{6 \\cdot 5 / 2} = \\frac{2}{5}.\n",
    "$$"
   ]
  },
  {
   "cell_type": "code",
   "execution_count": 6,
   "id": "7d2f1b1c",
   "metadata": {},
   "outputs": [
    {
     "data": {
      "text/plain": [
       "0.4"
      ]
     },
     "execution_count": 6,
     "metadata": {},
     "output_type": "execute_result"
    }
   ],
   "source": [
    "nx.clustering(W,0)"
   ]
  },
  {
   "cell_type": "markdown",
   "id": "9126c58b",
   "metadata": {},
   "source": [
    "Every other node has 3 friends and 2 triangles, so they each have\n",
    "\n",
    "$$\n",
    "C = \\frac{2}{3 \\cdot 2 / 2} = \\frac{2}{3}.\n",
    "$$"
   ]
  },
  {
   "cell_type": "code",
   "execution_count": 7,
   "id": "598ecf5b",
   "metadata": {
    "tags": []
   },
   "outputs": [
    {
     "data": {
      "text/plain": [
       "0.6666666666666666"
      ]
     },
     "execution_count": 7,
     "metadata": {},
     "output_type": "execute_result"
    }
   ],
   "source": [
    "nx.clustering(W,1)"
   ]
  },
  {
   "cell_type": "markdown",
   "id": "3803f3b1",
   "metadata": {},
   "source": [
    "## ER graphs\n",
    "\n",
    "Let's look at distance and clustering within ER random graphs. We quickly run into a problem: the ER graph may not have a path between all pairs of points. We say that such a graph is not **connected**."
   ]
  },
  {
   "cell_type": "code",
   "execution_count": 8,
   "id": "46da10f6",
   "metadata": {},
   "outputs": [
    {
     "data": {
      "text/plain": [
       "False"
      ]
     },
     "execution_count": 8,
     "metadata": {},
     "output_type": "execute_result"
    }
   ],
   "source": [
    "n,p = 101,1/25\n",
    "ER = nx.erdos_renyi_graph(n,p,seed=0)\n",
    "nx.is_connected(ER)"
   ]
  },
  {
   "cell_type": "code",
   "execution_count": 9,
   "id": "c9aaac0c",
   "metadata": {},
   "outputs": [
    {
     "data": {
      "image/png": "[encoded data removed]",
      "text/plain": [
       "<Figure size 432x288 with 1 Axes>"
      ]
     },
     "metadata": {
      "filenames": {
       "image/png": "/Users/driscoll/Dropbox/class/267/notes/_build/jupyter_execute/network/small-world_19_0.png"
      }
     },
     "output_type": "display_data"
    }
   ],
   "source": [
    "nx.draw(ER,node_size=50)"
   ]
  },
  {
   "cell_type": "markdown",
   "id": "80ff2570",
   "metadata": {},
   "source": [
    "The most sensible definition of distance to the lone node is infinity, and averages including infinity are themselves infinite. We have the same problem when it comes to clustering, since the degree of the isolated node is zero. \n",
    "\n",
    "At this point, let's ask how often this happens. For  $n=251$, $p=1/50$, the expected $\\bar{k}$ is $5$."
   ]
  },
  {
   "cell_type": "code",
   "execution_count": 10,
   "id": "924d8a7c",
   "metadata": {},
   "outputs": [
    {
     "name": "stdout",
     "output_type": "stream",
     "text": [
      "19.2% are connected\n"
     ]
    }
   ],
   "source": [
    "n,p = 251,1/50\n",
    "is_connected = sum( nx.is_connected(nx.erdos_renyi_graph(n,p,seed=iter+1)) for iter in range(500) )\n",
    "print(f\"{is_connected/500:.1%} are connected\")"
   ]
  },
  {
   "cell_type": "markdown",
   "id": "59e9c2e7",
   "metadata": {},
   "source": [
    "Let's crank up the expected $\\bar{k}$ to 10."
   ]
  },
  {
   "cell_type": "code",
   "execution_count": 11,
   "id": "b5616ca9",
   "metadata": {},
   "outputs": [
    {
     "name": "stdout",
     "output_type": "stream",
     "text": [
      "198.0% are connected\n"
     ]
    }
   ],
   "source": [
    "n,p = 251,1/25\n",
    "is_connected = sum( nx.is_connected(nx.erdos_renyi_graph(n,p,seed=iter+10)) for iter in range(1000) )\n",
    "print(f\"{is_connected/500:.1%} are connected\")"
   ]
  },
  {
   "cell_type": "markdown",
   "id": "7f40b4b7",
   "metadata": {},
   "source": [
    "Let's cut a little slack at this point and look at what the distance and clustering are for those ER graphs which are connected."
   ]
  },
  {
   "cell_type": "code",
   "execution_count": 12,
   "id": "c062da1c",
   "metadata": {},
   "outputs": [
    {
     "name": "stdout",
     "output_type": "stream",
     "text": [
      "average distances:\n"
     ]
    },
    {
     "data": {
      "image/png": "[encoded data removed]",
      "text/plain": [
       "<Figure size 360x360 with 1 Axes>"
      ]
     },
     "metadata": {
      "filenames": {
       "image/png": "/Users/driscoll/Dropbox/class/267/notes/_build/jupyter_execute/network/small-world_25_1.png"
      },
      "needs_background": "light"
     },
     "output_type": "display_data"
    }
   ],
   "source": [
    "n,p = 251,1/25\n",
    "dbar,cbar = [],[]\n",
    "for iter in range(500):\n",
    "    ER = nx.erdos_renyi_graph(n,p,seed=iter+5)\n",
    "    if nx.is_connected(ER):\n",
    "        dbar.append(nx.average_shortest_path_length(ER))\n",
    "        cbar.append(nx.average_clustering(ER))        \n",
    "\n",
    "print(\"average distances:\")\n",
    "sns.displot(x=dbar,bins=13);"
   ]
  },
  {
   "cell_type": "code",
   "execution_count": 13,
   "id": "594e2860",
   "metadata": {},
   "outputs": [
    {
     "name": "stdout",
     "output_type": "stream",
     "text": [
      "average clustering:\n"
     ]
    },
    {
     "data": {
      "image/png": "[encoded data removed]",
      "text/plain": [
       "<Figure size 360x360 with 1 Axes>"
      ]
     },
     "metadata": {
      "filenames": {
       "image/png": "/Users/driscoll/Dropbox/class/267/notes/_build/jupyter_execute/network/small-world_26_1.png"
      },
      "needs_background": "light"
     },
     "output_type": "display_data"
    }
   ],
   "source": [
    "print(\"average clustering:\")\n",
    "sns.displot(x=cbar,bins=13);"
   ]
  },
  {
   "cell_type": "markdown",
   "id": "1a2fafa3",
   "metadata": {},
   "source": [
    "Hence, when the graph is connected, the local clustering is close to zero; there is no special affinity for friendship among one's friends."
   ]
  },
  {
   "cell_type": "markdown",
   "id": "66037ff9",
   "metadata": {},
   "source": [
    "## Twitch network"
   ]
  },
  {
   "cell_type": "markdown",
   "id": "6931423c",
   "metadata": {},
   "source": [
    "Let's consider the Twitch network again."
   ]
  },
  {
   "cell_type": "code",
   "execution_count": 14,
   "id": "d9faeb2a",
   "metadata": {},
   "outputs": [
    {
     "name": "stdout",
     "output_type": "stream",
     "text": [
      "7126 nodes and 35324 edges\n",
      "average degree is 9.914\n"
     ]
    }
   ],
   "source": [
    "twitch = nx.read_edgelist(\"musae_edges.csv\",delimiter=',',nodetype=int)\n",
    "n,E = twitch.number_of_nodes(),twitch.number_of_edges()\n",
    "kbar = 2*E/n\n",
    "print(n,\"nodes and\",E,\"edges\")\n",
    "print(f\"average degree is {kbar:.3f}\")"
   ]
  },
  {
   "cell_type": "markdown",
   "id": "e3b4c929",
   "metadata": {},
   "source": [
    "This graph is far from complete: the average degree of 9.9 is a far cry from 7,125. Computing the distances between all pairs of nodes in this graph would take a rather long time, so we will estimate the average distance by sampling."
   ]
  },
  {
   "cell_type": "code",
   "execution_count": 15,
   "id": "8f61c69f",
   "metadata": {
    "tags": []
   },
   "outputs": [
    {
     "name": "stdout",
     "output_type": "stream",
     "text": [
      "For Twitch graph...\n",
      "Distribution of distance samples:\n",
      "4    42813\n",
      "3    36231\n",
      "5    12570\n",
      "2     6294\n",
      "6     1724\n",
      "7      191\n",
      "1      159\n",
      "8       17\n",
      "9        1\n",
      "dtype: int64\n",
      "\n",
      "Estimated mean distance: 3.67368\n"
     ]
    }
   ],
   "source": [
    "from numpy.random import default_rng\n",
    "rng = default_rng(1)\n",
    "\n",
    "# Compute the distance between a random pair of distinct nodes:\n",
    "def pairdist(G):\n",
    "    n = nx.number_of_nodes(G)\n",
    "    i = j = rng.integers(0,n)\n",
    "    while i==j: j=rng.integers(0,n)   # get distinct nodes\n",
    "    return nx.shortest_path_length(G,source=i,target=j)\n",
    "\n",
    "distances = pd.Series([pairdist(twitch) for _ in range(100000)])\n",
    "\n",
    "print(\"For Twitch graph...\")\n",
    "print(\"Distribution of distance samples:\")\n",
    "print(distances.value_counts())\n",
    "print(\"\\nEstimated mean distance:\",distances.mean())"
   ]
  },
  {
   "cell_type": "markdown",
   "id": "0c34d220",
   "metadata": {
    "tags": []
   },
   "source": [
    "This may seem surprisingly small. More on that in a moment. First, let's also look at the clustering coefficients:"
   ]
  },
  {
   "cell_type": "code",
   "execution_count": 16,
   "id": "d4ba08a6",
   "metadata": {},
   "outputs": [
    {
     "data": {
      "image/png": "[encoded data removed]",
      "text/plain": [
       "<Figure size 360x360 with 1 Axes>"
      ]
     },
     "metadata": {
      "filenames": {
       "image/png": "/Users/driscoll/Dropbox/class/267/notes/_build/jupyter_execute/network/small-world_34_0.png"
      },
      "needs_background": "light"
     },
     "output_type": "display_data"
    }
   ],
   "source": [
    "cluster_coeffs = pd.Series([ nx.clustering(twitch,i) for i in twitch.nodes ])\n",
    "sns.displot(x=cluster_coeffs);"
   ]
  },
  {
   "cell_type": "markdown",
   "id": "147999b0",
   "metadata": {},
   "source": [
    "The distribution above casts some doubt about using the mean as a summary, but for the record, the value is"
   ]
  },
  {
   "cell_type": "code",
   "execution_count": 17,
   "id": "7314a7c2",
   "metadata": {
    "tags": []
   },
   "outputs": [
    {
     "data": {
      "text/plain": [
       "0.13092821901472096"
      ]
     },
     "execution_count": 17,
     "metadata": {},
     "output_type": "execute_result"
    }
   ],
   "source": [
    "cluster_coeffs.mean()"
   ]
  },
  {
   "cell_type": "markdown",
   "id": "a62da6d3",
   "metadata": {},
   "source": [
    "Let's compare these results to ER graphs with the same size and average degree. It's time-consuming to sample enough graphs to be statistically meaningful, so we do just a few here to get a taste."
   ]
  },
  {
   "cell_type": "code",
   "execution_count": 18,
   "id": "78e2fea5",
   "metadata": {},
   "outputs": [
    {
     "name": "stdout",
     "output_type": "stream",
     "text": [
      "For ER graphs:\n",
      "Average of mean distance: 4.14\n",
      "Average of mean clustering: 0.001434606204988957\n"
     ]
    }
   ],
   "source": [
    "p = kbar/(n-1)\n",
    "\n",
    "dbar = []\n",
    "cbar = []\n",
    "for iter in range(4):\n",
    "    ER = nx.erdos_renyi_graph(n,p,seed=iter)\n",
    "    if nx.is_connected(ER):\n",
    "        dist = [pairdist(ER) for _ in range(100)]\n",
    "        dbar.append(np.mean(dist))\n",
    "        cbar.append(nx.average_clustering(ER))        \n",
    "\n",
    "print(\"For ER graphs:\")\n",
    "print(\"Average of mean distance:\",np.mean(dbar))\n",
    "print(\"Average of mean clustering:\",np.mean(cbar))"
   ]
  },
  {
   "cell_type": "markdown",
   "id": "fa825436",
   "metadata": {},
   "source": [
    "In fact, theory states that the mean distance in ER graphs is expected to be approximately \n",
    "\n",
    "$$\n",
    "\\frac{\\ln(n)}{\\ln(\\bar{k})}\n",
    "$$\n",
    "\n",
    "as $n\\to\\infty$."
   ]
  },
  {
   "cell_type": "code",
   "execution_count": 19,
   "id": "950b646f",
   "metadata": {},
   "outputs": [
    {
     "data": {
      "text/plain": [
       "3.8673326382368893"
      ]
     },
     "execution_count": 19,
     "metadata": {},
     "output_type": "execute_result"
    }
   ],
   "source": [
    "np.log(n)/np.log(kbar)"
   ]
  },
  {
   "cell_type": "markdown",
   "id": "5a060fb7",
   "metadata": {},
   "source": [
    "Either way, the average distance in an ER graph is not so different from the Twitch network. However, ER graphs show essentially no local clustering, unlike the Twitch network. In fact, since all edges in an ER graph appear with probability $p$, then we expect the local clustering to be $p=\\bar{k}/(n-1)$ as well."
   ]
  },
  {
   "cell_type": "code",
   "execution_count": 20,
   "id": "c8ff3bf9",
   "metadata": {},
   "outputs": [
    {
     "data": {
      "text/plain": [
       "0.0013914550620165345"
      ]
     },
     "execution_count": 20,
     "metadata": {},
     "output_type": "execute_result"
    }
   ],
   "source": [
    "p"
   ]
  },
  {
   "cell_type": "markdown",
   "id": "530b455a",
   "metadata": {},
   "source": [
    "It's reasonable to conclude that this social network has greater likelihood of \"my friends are also friends of each other\" than a random ER graph has."
   ]
  },
  {
   "cell_type": "markdown",
   "id": "80397c07",
   "metadata": {},
   "source": [
    "## Watts–Strogatz graphs\n",
    "\n",
    "A **Watts–Strogatz graph** (WS graph) tries to model the small-world phenomenon. A WS graph has three parameters: $n$, an even integer $k$, and a probability $q$. \n",
    "\n",
    "Imagine $n$ nodes arranged in a circle. Connect each node with an edge to each of its $k/2$ left neighbors and $k/2$ right neighbors. Now visit each node $i$ in turn. For each edge from $i$ to a neighbor, with probability $q$ replace it with an edge between $i$ and a node chosen at random from all the nodes $i$ is not currently connected to. The idea is to start with tight-knit, overlapping communities, and randomly toss in some far-flung links."
   ]
  },
  {
   "cell_type": "code",
   "execution_count": 21,
   "id": "3aa9e216",
   "metadata": {},
   "outputs": [
    {
     "data": {
      "image/png": "[encoded data removed]",
      "text/plain": [
       "<Figure size 432x288 with 1 Axes>"
      ]
     },
     "metadata": {
      "filenames": {
       "image/png": "/Users/driscoll/Dropbox/class/267/notes/_build/jupyter_execute/network/small-world_45_0.png"
      }
     },
     "output_type": "display_data"
    }
   ],
   "source": [
    "WS = nx.watts_strogatz_graph(40,6,0.15,seed=1)\n",
    "nx.draw_circular(WS,node_size=100)"
   ]
  },
  {
   "cell_type": "markdown",
   "id": "6951a26e",
   "metadata": {},
   "source": [
    "For $q<1$, a WS graph has a mean clustering coefficient that is significantly above zero."
   ]
  },
  {
   "cell_type": "code",
   "execution_count": 22,
   "id": "4e4b635c",
   "metadata": {},
   "outputs": [],
   "source": [
    "n,k = 60,6\n",
    "results = pd.DataFrame({\"q\":[],\"mean cluster\":[]})\n",
    "seed = 0\n",
    "for q in np.arange(0.05,1.05,0.05):\n",
    "    cbar = []\n",
    "    for iter in range(50):\n",
    "        WS = nx.watts_strogatz_graph(n,k,q,seed=seed)\n",
    "        cbar.append(nx.average_clustering(WS))\n",
    "        seed += 1\n",
    "    results = pd.concat((results,\n",
    "                         pd.DataFrame({\"q\":q,\"mean cluster\":cbar})),\n",
    "                        ignore_index=True)"
   ]
  },
  {
   "cell_type": "code",
   "execution_count": 23,
   "id": "0986c7e0",
   "metadata": {},
   "outputs": [
    {
     "name": "stdout",
     "output_type": "stream",
     "text": [
      "Mean clustering in WS graphs on 60 nodes:\n"
     ]
    },
    {
     "data": {
      "image/png": "[encoded data removed]",
      "text/plain": [
       "<Figure size 360x360 with 1 Axes>"
      ]
     },
     "metadata": {
      "filenames": {
       "image/png": "/Users/driscoll/Dropbox/class/267/notes/_build/jupyter_execute/network/small-world_48_1.png"
      },
      "needs_background": "light"
     },
     "output_type": "display_data"
    }
   ],
   "source": [
    "print(\"Mean clustering in WS graphs on 60 nodes:\")\n",
    "sns.relplot(data=results,x=\"q\",y=\"mean cluster\",kind=\"line\");"
   ]
  },
  {
   "cell_type": "markdown",
   "id": "9e4da9fa",
   "metadata": {},
   "source": [
    "Let's scale the experiment up to the size of the Twitch network."
   ]
  },
  {
   "cell_type": "code",
   "execution_count": 24,
   "id": "83c3f427",
   "metadata": {},
   "outputs": [],
   "source": [
    "results = pd.DataFrame({\"q\":[],\"mean cluster\":[]})\n",
    "seed = 0\n",
    "n,k = twitch.number_of_nodes(),10\n",
    "for q in np.arange(0.05,1,0.1):\n",
    "    cbar = []\n",
    "    for iter in range(6):\n",
    "        WS = nx.watts_strogatz_graph(n,k,q,seed=seed)\n",
    "        cbar.append(nx.average_clustering(WS))\n",
    "        seed += 1\n",
    "    results = pd.concat((results,\n",
    "                         pd.DataFrame({\"q\":q,\"mean cluster\":cbar})),\n",
    "                        ignore_index=True)"
   ]
  },
  {
   "cell_type": "code",
   "execution_count": 25,
   "id": "f47209a2",
   "metadata": {},
   "outputs": [
    {
     "name": "stdout",
     "output_type": "stream",
     "text": [
      "Mean clustering in WS graphs on 7126 nodes:\n"
     ]
    },
    {
     "data": {
      "image/png": "[encoded data removed]",
      "text/plain": [
       "<Figure size 360x360 with 1 Axes>"
      ]
     },
     "metadata": {
      "filenames": {
       "image/png": "/Users/driscoll/Dropbox/class/267/notes/_build/jupyter_execute/network/small-world_51_1.png"
      },
      "needs_background": "light"
     },
     "output_type": "display_data"
    }
   ],
   "source": [
    "print(\"Mean clustering in WS graphs on\",n,\"nodes:\")\n",
    "sns.relplot(data=results,x=\"q\",y=\"mean cluster\",kind=\"line\");"
   ]
  },
  {
   "cell_type": "markdown",
   "id": "802bb370",
   "metadata": {},
   "source": [
    "The mean clustering resembles the value of 0.13 for the Twitch network at around $q=0.4$. However, that leaves the mean distance a bit too large:"
   ]
  },
  {
   "cell_type": "code",
   "execution_count": 26,
   "id": "946b578f",
   "metadata": {},
   "outputs": [
    {
     "name": "stdout",
     "output_type": "stream",
     "text": [
      "mean distance in WS: 4.44774193548387\n"
     ]
    }
   ],
   "source": [
    "results = pd.DataFrame({\"q\":[],\"mean distance\":[]})\n",
    "seed = 0\n",
    "n,k,q = twitch.number_of_nodes(),10,0.4\n",
    "for iter in range(30):\n",
    "    WS = nx.watts_strogatz_graph(n,k,q,seed=seed)\n",
    "    d = sum(pairdist(WS) for _ in range(100))\n",
    "    dbar.append(d/100)\n",
    "    seed += 1\n",
    "print(\"mean distance in WS:\",np.mean(dbar))"
   ]
  },
  {
   "cell_type": "markdown",
   "id": "a6a43e21",
   "metadata": {},
   "source": [
    "At this point it's inconclusive whether the WS construction can explain the Twitch network. In the next section, we will see that it is lacking in an important way."
   ]
  }
 ],
 "metadata": {
  "jupytext": {
   "text_representation": {
    "extension": ".md",
    "format_name": "myst",
    "format_version": 0.13,
    "jupytext_version": "1.11.5"
   }
  },
  "kernelspec": {
   "display_name": "Python 3 (ipykernel)",
   "language": "python",
   "name": "python3"
  },
  "language_info": {
   "codemirror_mode": {
    "name": "ipython",
    "version": 3
   },
   "file_extension": ".py",
   "mimetype": "text/x-python",
   "name": "python",
   "nbconvert_exporter": "python",
   "pygments_lexer": "ipython3",
   "version": "3.8.8"
  },
  "source_map": [
   12,
   16,
   21,
   27,
   31,
   35,
   39,
   45,
   48,
   52,
   55,
   59,
   61,
   81,
   89,
   91,
   99,
   103,
   109,
   115,
   117,
   123,
   127,
   131,
   135,
   139,
   152,
   155,
   159,
   163,
   167,
   173,
   177,
   198,
   202,
   205,
   209,
   213,
   217,
   232,
   242,
   244,
   248,
   250,
   254,
   262,
   265,
   269,
   284,
   287,
   291,
   306,
   309,
   313,
   323
  ]
 },
 "nbformat": 4,
 "nbformat_minor": 5
}