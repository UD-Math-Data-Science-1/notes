{
 "cells": [
  {
   "cell_type": "markdown",
   "id": "67382513",
   "metadata": {},
   "source": [
    "# Degree distributions"
   ]
  },
  {
   "cell_type": "code",
   "execution_count": 1,
   "id": "be148990",
   "metadata": {},
   "outputs": [],
   "source": [
    "import networkx as nx\n",
    "import pandas as pd\n",
    "import numpy as np\n",
    "import seaborn as sns"
   ]
  },
  {
   "cell_type": "markdown",
   "id": "1a5b9c50",
   "metadata": {},
   "source": [
    "As we know, means of distributions do not always tell the entire story. For example, here is the distribution of the degrees of all the nodes in our Twitch network."
   ]
  },
  {
   "cell_type": "code",
   "execution_count": 2,
   "id": "5c83ceaa",
   "metadata": {
    "tags": []
   },
   "outputs": [
    {
     "name": "stdout",
     "output_type": "stream",
     "text": [
      "Twitch network degree distribution:\n"
     ]
    },
    {
     "data": {
      "image/png": "[encoded data removed]",
      "text/plain": [
       "<Figure size 360x360 with 1 Axes>"
      ]
     },
     "metadata": {
      "filenames": {
       "image/png": "/Users/driscoll/Dropbox/class/267/notes/_build/jupyter_execute/network/degree_3_1.png"
      },
      "needs_background": "light"
     },
     "output_type": "display_data"
    }
   ],
   "source": [
    "twitch = nx.read_edgelist(\"musae_edges.csv\",delimiter=',',nodetype=int)\n",
    "twitch_degrees = pd.Series(dict(twitch.degree),index=twitch.nodes)\n",
    "print(\"Twitch network degree distribution:\")\n",
    "sns.displot(data=twitch_degrees);"
   ]
  },
  {
   "cell_type": "markdown",
   "id": "a2f7f3d4",
   "metadata": {},
   "source": [
    "A few nodes in the network have hundreds of friends:"
   ]
  },
  {
   "cell_type": "code",
   "execution_count": 3,
   "id": "f2b8b1f1",
   "metadata": {
    "tags": []
   },
   "outputs": [
    {
     "data": {
      "text/plain": [
       "720       1\n",
       "691       1\n",
       "465       1\n",
       "378       1\n",
       "352       1\n",
       "       ... \n",
       "5       458\n",
       "4       605\n",
       "3       761\n",
       "2       979\n",
       "1      1161\n",
       "Length: 130, dtype: int64"
      ]
     },
     "execution_count": 3,
     "metadata": {},
     "output_type": "execute_result"
    }
   ],
   "source": [
    "friend_counts = twitch_degrees.value_counts()  # histogram heights\n",
    "friend_counts.sort_index(ascending=False)"
   ]
  },
  {
   "cell_type": "markdown",
   "id": "3f35270a",
   "metadata": {},
   "source": [
    "These \"gregarious nodes\" or *hubs* create the heavy tail in the degree distribution."
   ]
  },
  {
   "cell_type": "markdown",
   "id": "181cf073",
   "metadata": {},
   "source": [
    "We can compare the above distribution to those in a collection of ER graphs with the same size and expected average degree."
   ]
  },
  {
   "cell_type": "code",
   "execution_count": 4,
   "id": "821e97b5",
   "metadata": {},
   "outputs": [
    {
     "name": "stdout",
     "output_type": "stream",
     "text": [
      "ER graphs degree distribution:\n"
     ]
    },
    {
     "data": {
      "image/png": "[encoded data removed]",
      "text/plain": [
       "<Figure size 360x360 with 1 Axes>"
      ]
     },
     "metadata": {
      "filenames": {
       "image/png": "/Users/driscoll/Dropbox/class/267/notes/_build/jupyter_execute/network/degree_8_1.png"
      },
      "needs_background": "light"
     },
     "output_type": "display_data"
    }
   ],
   "source": [
    "n,e = twitch.number_of_nodes(),twitch.number_of_edges()\n",
    "kbar = 2*e/n\n",
    "p = kbar/(n-1)\n",
    "degrees = []\n",
    "for iter in range(3):\n",
    "    ER = nx.erdos_renyi_graph(n,p,seed=111+iter)\n",
    "    degrees.extend([ER.degree(i) for i in ER.nodes])\n",
    "\n",
    "print(\"ER graphs degree distribution:\")\n",
    "sns.displot(data=degrees,discrete=True);"
   ]
  },
  {
   "cell_type": "markdown",
   "id": "e9d39c78",
   "metadata": {
    "tags": []
   },
   "source": [
    "Theory proves that the plot above converges to a *binomial distribution*. This is yet another indicator that the ER model does not explain the Twitch network well.\n",
    "\n",
    "A WS graph likewise lacks the proper heavy tail in the Twitch degree distribution:"
   ]
  },
  {
   "cell_type": "code",
   "execution_count": 5,
   "id": "e6bdb5d0",
   "metadata": {},
   "outputs": [
    {
     "name": "stdout",
     "output_type": "stream",
     "text": [
      "WS graphs degree distribution:\n"
     ]
    },
    {
     "data": {
      "image/png": "[encoded data removed]",
      "text/plain": [
       "<Figure size 360x360 with 1 Axes>"
      ]
     },
     "metadata": {
      "filenames": {
       "image/png": "/Users/driscoll/Dropbox/class/267/notes/_build/jupyter_execute/network/degree_10_1.png"
      },
      "needs_background": "light"
     },
     "output_type": "display_data"
    }
   ],
   "source": [
    "k,q = 10,0.42\n",
    "degrees = []\n",
    "for iter in range(3):\n",
    "    WS = nx.watts_strogatz_graph(n,k,q,seed=222+iter)\n",
    "    degrees.extend([WS.degree(i) for i in WS.nodes])\n",
    "\n",
    "print(\"WS graphs degree distribution:\")\n",
    "sns.displot(data=degrees,discrete=True);"
   ]
  },
  {
   "cell_type": "markdown",
   "id": "fc43ac48",
   "metadata": {},
   "source": [
    "## Power-law distribution\n",
    "\n",
    "The behavior of the Twitch degree distribution gets very interesting when the axes are transformed to use log scales:"
   ]
  },
  {
   "cell_type": "code",
   "execution_count": 6,
   "id": "e214d677",
   "metadata": {},
   "outputs": [
    {
     "data": {
      "image/png": "[encoded data removed]",
      "text/plain": [
       "<Figure size 360x360 with 1 Axes>"
      ]
     },
     "metadata": {
      "filenames": {
       "image/png": "/Users/driscoll/Dropbox/class/267/notes/_build/jupyter_execute/network/degree_12_0.png"
      },
      "needs_background": "light"
     },
     "output_type": "display_data"
    }
   ],
   "source": [
    "hist = sns.displot(data=twitch_degrees,log_scale=True)\n",
    "hist.axes[0,0].set_yscale(\"log\")"
   ]
  },
  {
   "cell_type": "markdown",
   "id": "33f03d1e",
   "metadata": {},
   "source": [
    "For degrees between 10 and several hundred, the counts lie nearly on a straight line. That is, if $x$ is degree and $y$ is the node count at that degree, then\n",
    "\n",
    "$$\n",
    "\\log(y) \\approx  - a\\cdot \\log(x) + b,\n",
    "$$\n",
    "\n",
    "i.e.,\n",
    "\n",
    "$$\n",
    "y \\approx B x^{-a},\n",
    "$$\n",
    "\n",
    "for some $a > 0$. This relationship is known as a **power law**. Many social networks seem to follow a power-law distribution of node degrees, to some extent. (The precise extent is a subject of hot debate.)\n",
    "\n",
    "Note that the decay of $x^{-a}$ to zero as $x\\to\\infty$ is much slower than, say, the normal distribution's $e^{-x^2/2}$, or even just an exponential $e^{-cx}$. This last comparison is how a *heavy-tailed distribution* is usually defined. One effect is that there is a significant disparity between the mean and median values of the node degrees:"
   ]
  },
  {
   "cell_type": "code",
   "execution_count": 7,
   "id": "a7701dae",
   "metadata": {},
   "outputs": [
    {
     "data": {
      "text/plain": [
       "count    7126.000000\n",
       "mean        9.914117\n",
       "std        22.190263\n",
       "min         1.000000\n",
       "25%         2.000000\n",
       "50%         5.000000\n",
       "75%        11.000000\n",
       "max       720.000000\n",
       "dtype: float64"
      ]
     },
     "execution_count": 7,
     "metadata": {},
     "output_type": "execute_result"
    }
   ],
   "source": [
    "twitch_degrees.describe()"
   ]
  },
  {
   "cell_type": "markdown",
   "id": "5f8bb9ba",
   "metadata": {},
   "source": [
    "The summary above also shows that the standard deviation is much larger than the mean. This is another indication that the degree distribution is widely dispersed over orders of magnitude."
   ]
  },
  {
   "cell_type": "markdown",
   "id": "b610a790",
   "metadata": {},
   "source": [
    "We can get a fair estimate of the constants $B$ and $a$ in the power law by doing a least-squares fit on the logs of $x$ and $y$. First, we need the counts:"
   ]
  },
  {
   "cell_type": "code",
   "execution_count": 8,
   "id": "ec4256c7",
   "metadata": {},
   "outputs": [
    {
     "data": {
      "text/html": [
       "<div>\n",
       "<style scoped>\n",
       "    .dataframe tbody tr th:only-of-type {\n",
       "        vertical-align: middle;\n",
       "    }\n",
       "\n",
       "    .dataframe tbody tr th {\n",
       "        vertical-align: top;\n",
       "    }\n",
       "\n",
       "    .dataframe thead th {\n",
       "        text-align: right;\n",
       "    }\n",
       "</style>\n",
       "<table border=\"1\" class=\"dataframe\">\n",
       "  <thead>\n",
       "    <tr style=\"text-align: right;\">\n",
       "      <th></th>\n",
       "      <th>degree</th>\n",
       "      <th>count</th>\n",
       "    </tr>\n",
       "  </thead>\n",
       "  <tbody>\n",
       "    <tr>\n",
       "      <th>10</th>\n",
       "      <td>11</td>\n",
       "      <td>193</td>\n",
       "    </tr>\n",
       "    <tr>\n",
       "      <th>11</th>\n",
       "      <td>12</td>\n",
       "      <td>155</td>\n",
       "    </tr>\n",
       "    <tr>\n",
       "      <th>12</th>\n",
       "      <td>13</td>\n",
       "      <td>131</td>\n",
       "    </tr>\n",
       "    <tr>\n",
       "      <th>13</th>\n",
       "      <td>14</td>\n",
       "      <td>122</td>\n",
       "    </tr>\n",
       "    <tr>\n",
       "      <th>14</th>\n",
       "      <td>15</td>\n",
       "      <td>103</td>\n",
       "    </tr>\n",
       "    <tr>\n",
       "      <th>15</th>\n",
       "      <td>17</td>\n",
       "      <td>83</td>\n",
       "    </tr>\n",
       "  </tbody>\n",
       "</table>\n",
       "</div>"
      ],
      "text/plain": [
       "    degree  count\n",
       "10      11    193\n",
       "11      12    155\n",
       "12      13    131\n",
       "13      14    122\n",
       "14      15    103\n",
       "15      17     83"
      ]
     },
     "execution_count": 8,
     "metadata": {},
     "output_type": "execute_result"
    }
   ],
   "source": [
    "y = twitch_degrees.value_counts()\n",
    "counts = pd.DataFrame({\"degree\":y.index,\"count\":y.values})\n",
    "counts = counts[(counts[\"count\"] > 10) & (counts[\"count\"] < 200)];\n",
    "counts.head(6)"
   ]
  },
  {
   "cell_type": "markdown",
   "id": "12d41657",
   "metadata": {},
   "source": [
    "Now we will get additional columns by log transformations. (Note: the `np.log` function is the natural logarithm.)"
   ]
  },
  {
   "cell_type": "code",
   "execution_count": 9,
   "id": "af00686c",
   "metadata": {},
   "outputs": [],
   "source": [
    "counts[[\"log_degree\",\"log_count\"]] = counts.transform(np.log)"
   ]
  },
  {
   "cell_type": "markdown",
   "id": "a8fb7756",
   "metadata": {},
   "source": [
    "Now we use `sklearn` for a linear regression."
   ]
  },
  {
   "cell_type": "code",
   "execution_count": 10,
   "id": "0649cfd0",
   "metadata": {},
   "outputs": [
    {
     "data": {
      "text/plain": [
       "(-2.135847745320904, 10.397579197774625)"
      ]
     },
     "execution_count": 10,
     "metadata": {},
     "output_type": "execute_result"
    }
   ],
   "source": [
    "from sklearn.linear_model import LinearRegression\n",
    "lm = LinearRegression()\n",
    "lm.fit(counts[[\"log_degree\"]],counts[\"log_count\"])\n",
    "lm.coef_[0],lm.intercept_"
   ]
  },
  {
   "cell_type": "markdown",
   "id": "3f12fffe",
   "metadata": {},
   "source": [
    "The first value, which is both the slope of the line and the exponent of $x$ in the power law, is the most interesting part. It estimates that the degree counts vary as $Bx^{-2.1}$ over a wide range of degrees."
   ]
  },
  {
   "cell_type": "markdown",
   "id": "df162d4c",
   "metadata": {},
   "source": [
    "## Barabási–Albert graphs\n",
    "\n",
    "A random **Barabási–Albert** graph (BA graph) is constructed by starting with a small seed network and connecting one node at a time with $m$ new edges to it. Edges are added randomly, but higher probability is given to connect to nodes that already have higher degree (i.e., are more \"popular\"), a concept known as *preferential attachment*. Because of this rule, there is a natural tendency to develop a few hubs of high degree."
   ]
  },
  {
   "cell_type": "code",
   "execution_count": 11,
   "id": "bc1f0d60",
   "metadata": {},
   "outputs": [
    {
     "data": {
      "image/png": "[encoded data removed]",
      "text/plain": [
       "<Figure size 432x288 with 1 Axes>"
      ]
     },
     "metadata": {
      "filenames": {
       "image/png": "/Users/driscoll/Dropbox/class/267/notes/_build/jupyter_execute/network/degree_24_0.png"
      }
     },
     "output_type": "display_data"
    }
   ],
   "source": [
    "BA = nx.barabasi_albert_graph(100,2,seed=0)\n",
    "BA_degrees = pd.Series(dict(BA.degree),index=BA.nodes)\n",
    "nx.draw(BA,node_size=8*BA_degrees,node_color=\"red\")"
   ]
  },
  {
   "cell_type": "markdown",
   "id": "3581fc02",
   "metadata": {},
   "source": [
    "Since we add $m$ edges (almost) $n$ times, the expected average degree is $2mn/n=2m$. When we scale the construction up to the size and average degree of the Twitch network, a power-law distribution emerges."
   ]
  },
  {
   "cell_type": "code",
   "execution_count": 12,
   "id": "a3510fd5",
   "metadata": {
    "tags": []
   },
   "outputs": [
    {
     "data": {
      "image/png": "[encoded data removed]",
      "text/plain": [
       "<Figure size 360x360 with 1 Axes>"
      ]
     },
     "metadata": {
      "filenames": {
       "image/png": "/Users/driscoll/Dropbox/class/267/notes/_build/jupyter_execute/network/degree_26_0.png"
      },
      "needs_background": "light"
     },
     "output_type": "display_data"
    }
   ],
   "source": [
    "m = round(kbar/2)\n",
    "BA = nx.barabasi_albert_graph(n,m,seed=5)\n",
    "BA_degrees = pd.Series(dict(BA.degree),index=BA.nodes)\n",
    "hist = sns.displot(data=BA_degrees,log_scale=True)\n",
    "hist.axes[0,0].set_yscale(\"log\")"
   ]
  },
  {
   "cell_type": "markdown",
   "id": "39cb46c2",
   "metadata": {},
   "source": [
    "Theory predicts that the exponent of the power-law distribution in a BA graph is $-3$."
   ]
  },
  {
   "cell_type": "code",
   "execution_count": 13,
   "id": "0e3bd6b2",
   "metadata": {},
   "outputs": [
    {
     "name": "stdout",
     "output_type": "stream",
     "text": [
      "exponent of power law: -2.912997677515427\n"
     ]
    }
   ],
   "source": [
    "y = BA_degrees.value_counts()\n",
    "counts = pd.DataFrame({\"degree\":y.index,\"count\":y.values})\n",
    "counts = counts[(counts[\"count\"] > 10) & (counts[\"count\"] < 100)];\n",
    "counts[[\"log_degree\",\"log_count\"]] = counts.transform(np.log)\n",
    "lm = LinearRegression()\n",
    "lm.fit(counts[[\"log_degree\"]],counts[\"log_count\"])\n",
    "print(\"exponent of power law:\",lm.coef_[0])"
   ]
  },
  {
   "cell_type": "markdown",
   "id": "ac6bcb91",
   "metadata": {},
   "source": [
    "Let's check distances and clustering, too. As a reminder, the mean distance in the Twitch network is approximately:"
   ]
  },
  {
   "cell_type": "code",
   "execution_count": 14,
   "id": "e4db3662",
   "metadata": {},
   "outputs": [
    {
     "name": "stdout",
     "output_type": "stream",
     "text": [
      "Mean distance in Twitch graph: 3.657\n"
     ]
    }
   ],
   "source": [
    "from numpy.random import default_rng\n",
    "rng = default_rng(1)\n",
    "\n",
    "def pairdist(G):\n",
    "    n = nx.number_of_nodes(G)\n",
    "    i = j = rng.integers(0,n)\n",
    "    while i==j: j=rng.integers(0,n)   # get distinct nodes\n",
    "    return nx.shortest_path_length(G,source=i,target=j)\n",
    "\n",
    "print(\"Mean distance in Twitch graph:\",sum(pairdist(twitch) for _ in range(4000))/4000)"
   ]
  },
  {
   "cell_type": "markdown",
   "id": "e1d98875",
   "metadata": {},
   "source": [
    "Now we repeat that for some BA graphs."
   ]
  },
  {
   "cell_type": "code",
   "execution_count": 15,
   "id": "5e66a64c",
   "metadata": {},
   "outputs": [
    {
     "name": "stdout",
     "output_type": "stream",
     "text": [
      "Mean distance in BA graphs: 3.5555\n"
     ]
    }
   ],
   "source": [
    "dbar = []\n",
    "seed = 911\n",
    "for iter in range(10):\n",
    "    BA = nx.barabasi_albert_graph(n,m,seed=seed)\n",
    "    d = sum(pairdist(BA) for _ in range(200))/200\n",
    "    dbar.append(d)\n",
    "    seed += 1\n",
    "\n",
    "print(\"Mean distance in BA graphs:\",np.mean(dbar))"
   ]
  },
  {
   "cell_type": "markdown",
   "id": "ee50fc58",
   "metadata": {},
   "source": [
    "Not bad! Now, let's check the clustering. For Twitch, we have:"
   ]
  },
  {
   "cell_type": "code",
   "execution_count": 16,
   "id": "6f812d3c",
   "metadata": {},
   "outputs": [
    {
     "name": "stdout",
     "output_type": "stream",
     "text": [
      "Mean clustering in Twitch graph: 0.13092821901472096\n"
     ]
    }
   ],
   "source": [
    "print(\"Mean clustering in Twitch graph:\",nx.average_clustering(twitch))"
   ]
  },
  {
   "cell_type": "markdown",
   "id": "8e3c1ce4",
   "metadata": {},
   "source": [
    "And for BA, we get"
   ]
  },
  {
   "cell_type": "code",
   "execution_count": 17,
   "id": "00c99dc3",
   "metadata": {},
   "outputs": [
    {
     "name": "stdout",
     "output_type": "stream",
     "text": [
      "Mean clustering in BA graphs: 0.009219743245252128\n"
     ]
    }
   ],
   "source": [
    "cbar = []\n",
    "seed = 59\n",
    "for iter in range(20):\n",
    "    BA = nx.barabasi_albert_graph(n,m,seed=seed)\n",
    "    cbar.append(nx.average_clustering(BA))\n",
    "    seed += 1\n",
    "    \n",
    "print(\"Mean clustering in BA graphs:\",np.mean(cbar))"
   ]
  },
  {
   "cell_type": "markdown",
   "id": "37996462",
   "metadata": {},
   "source": [
    "The BA model is our closest approach so far, but it fails to produce the close-knit neighbor subgraphs that we find in the Twitch network and the WS model."
   ]
  }
 ],
 "metadata": {
  "jupytext": {
   "text_representation": {
    "extension": ".md",
    "format_name": "myst",
    "format_version": 0.13,
    "jupytext_version": "1.11.5"
   }
  },
  "kernelspec": {
   "display_name": "Python 3 (ipykernel)",
   "language": "python",
   "name": "python3"
  },
  "language_info": {
   "codemirror_mode": {
    "name": "ipython",
    "version": 3
   },
   "file_extension": ".py",
   "mimetype": "text/x-python",
   "name": "python",
   "nbconvert_exporter": "python",
   "pygments_lexer": "ipython3",
   "version": "3.8.8"
  },
  "source_map": [
   12,
   16,
   21,
   25,
   32,
   36,
   41,
   45,
   49,
   62,
   68,
   77,
   83,
   86,
   104,
   106,
   110,
   114,
   119,
   123,
   125,
   129,
   134,
   138,
   144,
   148,
   152,
   160,
   164,
   172,
   176,
   187,
   191,
   201,
   205,
   207,
   211,
   220
  ]
 },
 "nbformat": 4,
 "nbformat_minor": 5
}