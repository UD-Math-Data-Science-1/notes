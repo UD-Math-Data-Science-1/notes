{
 "cells": [
  {
   "cell_type": "markdown",
   "id": "53809030",
   "metadata": {},
   "source": [
    "# Degree and distance"
   ]
  },
  {
   "cell_type": "code",
   "execution_count": 1,
   "id": "80f7103f",
   "metadata": {},
   "outputs": [],
   "source": [
    "import networkx as nx\n",
    "import pandas as pd\n",
    "import numpy as np"
   ]
  },
  {
   "cell_type": "code",
   "execution_count": 2,
   "id": "d0bd4108",
   "metadata": {
    "tags": []
   },
   "outputs": [],
   "source": [
    "twitch = nx.read_edgelist(\"musae_edges.csv\",delimiter=',',nodetype=int)"
   ]
  },
  {
   "cell_type": "markdown",
   "id": "2b1f1412",
   "metadata": {},
   "source": [
    "The **degree** of a node is the number of edges that have the node as an endpoint."
   ]
  },
  {
   "cell_type": "code",
   "execution_count": 3,
   "id": "de0ed46a",
   "metadata": {},
   "outputs": [
    {
     "data": {
      "text/html": [
       "<div>\n",
       "<style scoped>\n",
       "    .dataframe tbody tr th:only-of-type {\n",
       "        vertical-align: middle;\n",
       "    }\n",
       "\n",
       "    .dataframe tbody tr th {\n",
       "        vertical-align: top;\n",
       "    }\n",
       "\n",
       "    .dataframe thead th {\n",
       "        text-align: right;\n",
       "    }\n",
       "</style>\n",
       "<table border=\"1\" class=\"dataframe\">\n",
       "  <thead>\n",
       "    <tr style=\"text-align: right;\">\n",
       "      <th></th>\n",
       "      <th>node</th>\n",
       "      <th>degree</th>\n",
       "    </tr>\n",
       "  </thead>\n",
       "  <tbody>\n",
       "    <tr>\n",
       "      <th>0</th>\n",
       "      <td>6194</td>\n",
       "      <td>6</td>\n",
       "    </tr>\n",
       "    <tr>\n",
       "      <th>1</th>\n",
       "      <td>255</td>\n",
       "      <td>6</td>\n",
       "    </tr>\n",
       "    <tr>\n",
       "      <th>2</th>\n",
       "      <td>980</td>\n",
       "      <td>18</td>\n",
       "    </tr>\n",
       "    <tr>\n",
       "      <th>3</th>\n",
       "      <td>2992</td>\n",
       "      <td>4</td>\n",
       "    </tr>\n",
       "    <tr>\n",
       "      <th>4</th>\n",
       "      <td>2507</td>\n",
       "      <td>22</td>\n",
       "    </tr>\n",
       "    <tr>\n",
       "      <th>...</th>\n",
       "      <td>...</td>\n",
       "      <td>...</td>\n",
       "    </tr>\n",
       "    <tr>\n",
       "      <th>7121</th>\n",
       "      <td>2933</td>\n",
       "      <td>1</td>\n",
       "    </tr>\n",
       "    <tr>\n",
       "      <th>7122</th>\n",
       "      <td>2267</td>\n",
       "      <td>1</td>\n",
       "    </tr>\n",
       "    <tr>\n",
       "      <th>7123</th>\n",
       "      <td>6694</td>\n",
       "      <td>1</td>\n",
       "    </tr>\n",
       "    <tr>\n",
       "      <th>7124</th>\n",
       "      <td>6995</td>\n",
       "      <td>1</td>\n",
       "    </tr>\n",
       "    <tr>\n",
       "      <th>7125</th>\n",
       "      <td>7071</td>\n",
       "      <td>1</td>\n",
       "    </tr>\n",
       "  </tbody>\n",
       "</table>\n",
       "<p>7126 rows × 2 columns</p>\n",
       "</div>"
      ],
      "text/plain": [
       "      node  degree\n",
       "0     6194       6\n",
       "1      255       6\n",
       "2      980      18\n",
       "3     2992       4\n",
       "4     2507      22\n",
       "...    ...     ...\n",
       "7121  2933       1\n",
       "7122  2267       1\n",
       "7123  6694       1\n",
       "7124  6995       1\n",
       "7125  7071       1\n",
       "\n",
       "[7126 rows x 2 columns]"
      ]
     },
     "execution_count": 3,
     "metadata": {},
     "output_type": "execute_result"
    }
   ],
   "source": [
    "degrees = pd.DataFrame(twitch.degree,columns=[\"node\",\"degree\"])\n",
    "degrees"
   ]
  },
  {
   "cell_type": "code",
   "execution_count": 4,
   "id": "6243b59c",
   "metadata": {},
   "outputs": [
    {
     "data": {
      "image/png": "[encoded data removed]",
      "text/plain": [
       "<Figure size 360x360 with 1 Axes>"
      ]
     },
     "metadata": {
      "filenames": {
       "image/png": "/home/driscoll/Dropbox/class/267/notes/_build/jupyter_execute/network/degree_5_0.png"
      },
      "needs_background": "light"
     },
     "output_type": "display_data"
    }
   ],
   "source": [
    "import seaborn as sns\n",
    "hist = sns.displot(data=degrees,x=\"degree\")"
   ]
  },
  {
   "cell_type": "markdown",
   "id": "ea3fb5d0",
   "metadata": {
    "tags": []
   },
   "source": [
    "Let's compare the distribution to that of a random graph of the same size and edge density. This type of random graph selects every possible node with equal probability, which we will set to get roughly the same number of edges as in the Twitch network."
   ]
  },
  {
   "cell_type": "code",
   "execution_count": 5,
   "id": "be1b770e",
   "metadata": {
    "tags": []
   },
   "outputs": [
    {
     "data": {
      "image/png": "[encoded data removed]",
      "text/plain": [
       "<Figure size 360x360 with 1 Axes>"
      ]
     },
     "metadata": {
      "filenames": {
       "image/png": "/home/driscoll/Dropbox/class/267/notes/_build/jupyter_execute/network/degree_7_0.png"
      },
      "needs_background": "light"
     },
     "output_type": "display_data"
    }
   ],
   "source": [
    "n = nx.number_of_nodes(twitch)\n",
    "p = nx.number_of_edges(twitch)/(n*(n+1)/2)\n",
    "rando = nx.erdos_renyi_graph(n,p)\n",
    "\n",
    "dd = pd.DataFrame(rando.degree,columns=[\"node\",\"degree\"])\n",
    "hist = sns.displot(data=dd,x=\"degree\")"
   ]
  },
  {
   "cell_type": "markdown",
   "id": "5eb14b79",
   "metadata": {},
   "source": [
    "This is nothing like the Twitch network. This observation is general and well-known: *social networks are not like random networks.*"
   ]
  },
  {
   "cell_type": "markdown",
   "id": "f8cb0356",
   "metadata": {},
   "source": [
    "The behavior of the Twitch degree distribution gets very interesting when the axes are transformed to use log scales:"
   ]
  },
  {
   "cell_type": "code",
   "execution_count": 6,
   "id": "c3ee5990",
   "metadata": {},
   "outputs": [
    {
     "data": {
      "image/png": "[encoded data removed]",
      "text/plain": [
       "<Figure size 360x360 with 1 Axes>"
      ]
     },
     "metadata": {
      "filenames": {
       "image/png": "/home/driscoll/Dropbox/class/267/notes/_build/jupyter_execute/network/degree_10_0.png"
      },
      "needs_background": "light"
     },
     "output_type": "display_data"
    }
   ],
   "source": [
    "hist = sns.displot(data=degrees,x=\"degree\",log_scale=True)\n",
    "hist.axes[0,0].set_yscale(\"log\")"
   ]
  },
  {
   "cell_type": "markdown",
   "id": "f77769d0",
   "metadata": {},
   "source": [
    "For degrees between 10 and several hundred, the counts lie nearly on a straight line. That is, if $x$ is degree and $y$ is the node count at that degree, then\n",
    "\n",
    "$$\n",
    "\\log(y) \\approx  - a\\cdot \\log(x) + b,\n",
    "$$\n",
    "\n",
    "i.e.,\n",
    "\n",
    "$$\n",
    "y \\approx B x^{-a},\n",
    "$$\n",
    "\n",
    "for some $a > 0$. This relationship is known as a **power law**. Many social networks follow a power-law distrubution of node degrees. \n",
    "\n",
    "A power law is an example of a *fat-talied* distribution; the decay of $x^{-a}$ as $x\\to\\infty$ is much slower than, say, the normal distribution's $e^{-x^2/2}$. One effect is that there is a significant disparity between the mean and median values of the node degrees:"
   ]
  },
  {
   "cell_type": "code",
   "execution_count": 7,
   "id": "470f3baf",
   "metadata": {},
   "outputs": [
    {
     "data": {
      "text/plain": [
       "count    7126.000000\n",
       "mean        9.914117\n",
       "std        22.190263\n",
       "min         1.000000\n",
       "25%         2.000000\n",
       "50%         5.000000\n",
       "75%        11.000000\n",
       "max       720.000000\n",
       "Name: degree, dtype: float64"
      ]
     },
     "execution_count": 7,
     "metadata": {},
     "output_type": "execute_result"
    }
   ],
   "source": [
    "degrees[\"degree\"].describe()"
   ]
  },
  {
   "cell_type": "markdown",
   "id": "303fd182",
   "metadata": {},
   "source": [
    "Note also from the above that the standard deviation is much larger than the mean. This can be interpreted as another sign that the degree distribution is widely dispersed over orders of magnitude. As an idealization, the network can be described as *scale-free*."
   ]
  },
  {
   "cell_type": "markdown",
   "id": "64534e80",
   "metadata": {},
   "source": [
    "We can get a fair estimate of the constants $B$ and $a$ in the power law by doing a least-squares fit on the logs of $x$ and $y$. First, we need the counts:"
   ]
  },
  {
   "cell_type": "code",
   "execution_count": 8,
   "id": "019d0890",
   "metadata": {},
   "outputs": [],
   "source": [
    "y = degrees[\"degree\"].value_counts()\n",
    "counts = pd.DataFrame({\"degree\":y.index,\"count\":y.values})\n",
    "counts = counts[(counts[\"count\"] > 10) & (counts[\"count\"] < 200)];"
   ]
  },
  {
   "cell_type": "markdown",
   "id": "07d6cab3",
   "metadata": {},
   "source": [
    "Now we will get additional columns by log transformations. (Note: the `np.log` function is the natural logarithm.)"
   ]
  },
  {
   "cell_type": "code",
   "execution_count": 9,
   "id": "cbaec760",
   "metadata": {},
   "outputs": [],
   "source": [
    "counts[[\"log_x\",\"log_y\"]] = counts.transform(np.log)"
   ]
  },
  {
   "cell_type": "markdown",
   "id": "8538da0a",
   "metadata": {},
   "source": [
    "Now we use `sklearn` for a linear regression."
   ]
  },
  {
   "cell_type": "code",
   "execution_count": 10,
   "id": "f1ac4d74",
   "metadata": {},
   "outputs": [
    {
     "data": {
      "text/plain": [
       "(array([-2.13584775]), 10.397579197774625)"
      ]
     },
     "execution_count": 10,
     "metadata": {},
     "output_type": "execute_result"
    }
   ],
   "source": [
    "from sklearn.linear_model import LinearRegression\n",
    "lm = LinearRegression()\n",
    "lm.fit(counts[[\"log_x\"]],counts[\"log_y\"])\n",
    "lm.coef_,lm.intercept_"
   ]
  },
  {
   "cell_type": "markdown",
   "id": "1a2c582c",
   "metadata": {},
   "source": [
    "The first value, which is both the slope of the line and the exponent of $x$ the power law, is the most interesting part. It estimates that the degree counts vary as $Bx^{-2.1}$ over a wide range of degrees."
   ]
  },
  {
   "cell_type": "markdown",
   "id": "7b017d48",
   "metadata": {},
   "source": [
    "A certain type of random graph known as a **Barabási–Albert** graph is constructed by connecting one node at a time. Edges are added randomly, but preference is given to connect to nodes that already have higher degree (i.e., are more \"popular\"). Because of this rule, there is a natural tendency to develop a few hubs of high degree."
   ]
  },
  {
   "cell_type": "code",
   "execution_count": 11,
   "id": "d8df98c3",
   "metadata": {},
   "outputs": [
    {
     "data": {
      "image/png": "[encoded data removed]",
      "text/plain": [
       "<Figure size 432x288 with 1 Axes>"
      ]
     },
     "metadata": {
      "filenames": {
       "image/png": "/home/driscoll/Dropbox/class/267/notes/_build/jupyter_execute/network/degree_22_0.png"
      }
     },
     "output_type": "display_data"
    }
   ],
   "source": [
    "bag = nx.barabasi_albert_graph(50,2,seed=0)\n",
    "bag_deg = pd.DataFrame(bag.degree,columns=[\"node\",\"degree\"])\n",
    "\n",
    "nx.draw(bag,node_size=8*bag_deg[\"degree\"],node_color=\"red\")"
   ]
  },
  {
   "cell_type": "markdown",
   "id": "40b1ef54",
   "metadata": {},
   "source": [
    "When we scale the construction up to the size and average degree of the Twitch network, a power-law distribution emerges."
   ]
  },
  {
   "cell_type": "code",
   "execution_count": 12,
   "id": "27c9e48d",
   "metadata": {},
   "outputs": [
    {
     "data": {
      "image/png": "[encoded data removed]",
      "text/plain": [
       "<Figure size 360x360 with 1 Axes>"
      ]
     },
     "metadata": {
      "filenames": {
       "image/png": "/home/driscoll/Dropbox/class/267/notes/_build/jupyter_execute/network/degree_24_0.png"
      },
      "needs_background": "light"
     },
     "output_type": "display_data"
    }
   ],
   "source": [
    "bag = nx.barabasi_albert_graph(n,round(p*n),seed=0)\n",
    "bag_deg = pd.DataFrame(bag.degree,columns=[\"node\",\"degree\"])\n",
    "hist = sns.displot(data=bag_deg,x=\"degree\",log_scale=True)\n",
    "hist.axes[0,0].set_yscale(\"log\")"
   ]
  },
  {
   "cell_type": "markdown",
   "id": "fa7cd630",
   "metadata": {},
   "source": [
    "Compared to selecting from all possible edges with equal probabiliy, the Barabási–Albert model is considered a more plausible idealization of how social networks form."
   ]
  },
  {
   "cell_type": "markdown",
   "id": "eeae1563",
   "metadata": {},
   "source": [
    "## Distance"
   ]
  },
  {
   "cell_type": "markdown",
   "id": "057047ee",
   "metadata": {},
   "source": [
    "The **distance** between two nodes in a connected graph is the number of edges in the shortest path between them. This concept appears in the \"Bacon number\" game, where actors are nodes, appearing in the same movie creates an edge between them, and one tries to find the distance between Kevin Bacon and some other designated actor. \n",
    "\n",
    "The number of pairs of nodes in our Twitch network is moderately large."
   ]
  },
  {
   "cell_type": "code",
   "execution_count": 13,
   "id": "de5a687b",
   "metadata": {
    "tags": []
   },
   "outputs": [
    {
     "name": "stdout",
     "output_type": "stream",
     "text": [
      "7126 nodes create 25386375 pairings\n"
     ]
    }
   ],
   "source": [
    "print(n,\"nodes create\",(n-1)*n//2,\"pairings\")"
   ]
  },
  {
   "cell_type": "markdown",
   "id": "dabc10d5",
   "metadata": {},
   "source": [
    "It would take a while on a typical laptop to compute the distances between all such pairs. Instead, we will just randomly sample a healthy number of them."
   ]
  },
  {
   "cell_type": "code",
   "execution_count": 14,
   "id": "100afddb",
   "metadata": {},
   "outputs": [],
   "source": [
    "from numpy.random import default_rng\n",
    "rng = default_rng(1)\n",
    "def pairdist(G,n):\n",
    "    i = j = rng.integers(0,n)\n",
    "    while i==j: j = rng.integers(0,n)\n",
    "    return nx.shortest_path_length(G,source=i,target=j)\n",
    "\n",
    "dist = [pairdist(twitch,n) for _ in range(100000)]\n",
    "distances = pd.Series(dist)"
   ]
  },
  {
   "cell_type": "code",
   "execution_count": 15,
   "id": "e03a768a",
   "metadata": {},
   "outputs": [
    {
     "data": {
      "text/plain": [
       "4    42813\n",
       "3    36231\n",
       "5    12570\n",
       "2     6294\n",
       "6     1724\n",
       "7      191\n",
       "1      159\n",
       "8       17\n",
       "9        1\n",
       "dtype: int64"
      ]
     },
     "execution_count": 15,
     "metadata": {},
     "output_type": "execute_result"
    }
   ],
   "source": [
    "distances.value_counts()"
   ]
  },
  {
   "cell_type": "markdown",
   "id": "b1bc85ab",
   "metadata": {},
   "source": [
    "With over 7100 nodes, and an average of about 10 edges per node, the average distance between nodes is less than 4:"
   ]
  },
  {
   "cell_type": "code",
   "execution_count": 16,
   "id": "489989f3",
   "metadata": {},
   "outputs": [
    {
     "data": {
      "text/plain": [
       "3.67368"
      ]
     },
     "execution_count": 16,
     "metadata": {},
     "output_type": "execute_result"
    }
   ],
   "source": [
    "distances.mean()"
   ]
  },
  {
   "cell_type": "markdown",
   "id": "5601e5be",
   "metadata": {},
   "source": [
    "Node distances are related to the notion of \"six degrees of separation\" between any two people on Earth. This is a statement about the **diameter**, or maximum distance, of the human friendship network. In network analysis, this notion is called the *small-word phenomenon*. It's usually stated in terms of the mean degree, not the maximum, since the diameter can be determined by a single pair. (Even the little Twitch network above has a diameter of at least 9.) For a random network on $n$ nodes that have average degree $d$, the mean distance is approximately $\\ln(n)/d$. For a scale-free network, it is even less."
   ]
  },
  {
   "cell_type": "code",
   "execution_count": 17,
   "id": "5bcf6fb3",
   "metadata": {},
   "outputs": [],
   "source": [
    "from numpy.random import default_rng\n",
    "rng = default_rng(1)\n",
    "\n",
    "distances = pd.Series([pairdist(bag,n) for _ in range(100000)])"
   ]
  },
  {
   "cell_type": "code",
   "execution_count": 18,
   "id": "aa27ca83",
   "metadata": {},
   "outputs": [
    {
     "data": {
      "text/plain": [
       "2.99076"
      ]
     },
     "execution_count": 18,
     "metadata": {},
     "output_type": "execute_result"
    }
   ],
   "source": [
    "distances.mean()"
   ]
  },
  {
   "cell_type": "markdown",
   "id": "d6e696c2",
   "metadata": {},
   "source": [
    "## Clustering"
   ]
  },
  {
   "cell_type": "markdown",
   "id": "b2379228",
   "metadata": {},
   "source": [
    "The small-world question is related to another type of network measurement: **clustering**. There are many ways to assess clustering, but we will use the **local clustering coefficient**. \n",
    "\n",
    "Suppose that node $i$ is adacent to $k$ other nodes, called its **neighborhood** (or level-1 ego graph). The nodes in the neighborhood have $k(k-1)/2$ possible edges between them. Suppose that there are $m$ edges between members of the neighborhood (exclusive of node $i$). The clustering coefficient of node $i$ is defined as\n",
    "\n",
    "$$\n",
    "c_i = \\frac{2m}{k(k-1)}.\n",
    "$$\n",
    "\n",
    "If $c_i=0$, the neighborhood is starlike: none of the neighbors \"talk to\" (i.e., are adjacent to) each other. At the other extreme, if $c_i=1$, then the subgraph of the neighborhood is a complete graph. \n",
    "\n",
    "For example, here is the neighborhood of node 400."
   ]
  },
  {
   "cell_type": "code",
   "execution_count": 19,
   "id": "a8af7542",
   "metadata": {},
   "outputs": [
    {
     "data": {
      "image/png": "[encoded data removed]",
      "text/plain": [
       "<Figure size 432x288 with 1 Axes>"
      ]
     },
     "metadata": {
      "filenames": {
       "image/png": "/home/driscoll/Dropbox/class/267/notes/_build/jupyter_execute/network/degree_39_0.png"
      }
     },
     "output_type": "display_data"
    }
   ],
   "source": [
    "nbhood = nx.ego_graph(twitch,400)\n",
    "nx.draw(nbhood,with_labels=True,node_size=800,node_color=\"yellow\")"
   ]
  },
  {
   "cell_type": "markdown",
   "id": "2dc69904",
   "metadata": {},
   "source": [
    "The plot reveals that the neighborhood has only 3 edges aside from those linking to node 400. Since there are 9 nodes in the neighborhood, this gives a clustering of \n",
    "\n",
    "$$\n",
    "\\frac{6}{9\\cdot 8} = \\frac{1}{12}.\n",
    "$$\n",
    "\n",
    "There is a function for computing this value, of course."
   ]
  },
  {
   "cell_type": "code",
   "execution_count": 20,
   "id": "e499479f",
   "metadata": {},
   "outputs": [
    {
     "data": {
      "text/plain": [
       "0.08333333333333333"
      ]
     },
     "execution_count": 20,
     "metadata": {},
     "output_type": "execute_result"
    }
   ],
   "source": [
    "nx.clustering(twitch,400)"
   ]
  },
  {
   "cell_type": "markdown",
   "id": "b3167fcb",
   "metadata": {},
   "source": [
    "The mean clustering coefficient is one way to assess the small-worldness of a graph."
   ]
  },
  {
   "cell_type": "code",
   "execution_count": 21,
   "id": "619113b4",
   "metadata": {},
   "outputs": [
    {
     "data": {
      "text/plain": [
       "0.13092821901472096"
      ]
     },
     "execution_count": 21,
     "metadata": {},
     "output_type": "execute_result"
    }
   ],
   "source": [
    "pd.Series(nx.clustering(twitch)).mean()"
   ]
  },
  {
   "cell_type": "markdown",
   "id": "b8c7189b",
   "metadata": {},
   "source": [
    "How do we put this number in context? The random BA graph has a much lower value."
   ]
  },
  {
   "cell_type": "code",
   "execution_count": 22,
   "id": "36a879f2",
   "metadata": {},
   "outputs": [
    {
     "data": {
      "text/plain": [
       "0.014265892136099337"
      ]
     },
     "execution_count": 22,
     "metadata": {},
     "output_type": "execute_result"
    }
   ],
   "source": [
    "pd.Series(nx.clustering(bag)).mean()"
   ]
  },
  {
   "cell_type": "markdown",
   "id": "ad31662e",
   "metadata": {},
   "source": [
    "This confirms that the BA construction does nothing to build community structure, only hubs. A Watts–Strogatz graph, on the other hand, starts from communities and just rewires some of the edges to create shortcuts. If we start from neighborhoods of size 10, the mean clustering is high:"
   ]
  },
  {
   "cell_type": "code",
   "execution_count": 23,
   "id": "476dda78",
   "metadata": {},
   "outputs": [
    {
     "data": {
      "text/plain": [
       "0.6666666666666561"
      ]
     },
     "execution_count": 23,
     "metadata": {},
     "output_type": "execute_result"
    }
   ],
   "source": [
    "ws = nx.watts_strogatz_graph(n,10,0,seed=2)\n",
    "pd.Series(nx.clustering(ws)).mean()"
   ]
  },
  {
   "cell_type": "markdown",
   "id": "767430ed",
   "metadata": {},
   "source": [
    "However, the mean path length in that graph would be large, since there are no far-flung direct connections. But if we allow 40% of the links to be converted to random destinations, then the clustering is similar to the Twitch graph:"
   ]
  },
  {
   "cell_type": "code",
   "execution_count": 24,
   "id": "af9c2636",
   "metadata": {},
   "outputs": [
    {
     "data": {
      "text/plain": [
       "0.1473302277666155"
      ]
     },
     "execution_count": 24,
     "metadata": {},
     "output_type": "execute_result"
    }
   ],
   "source": [
    "ws = nx.watts_strogatz_graph(n,10,0.4,seed=11)\n",
    "pd.Series(nx.clustering(ws)).mean()"
   ]
  },
  {
   "cell_type": "markdown",
   "id": "a0dd3e8e",
   "metadata": {},
   "source": [
    "The mean distance is also comparable:"
   ]
  },
  {
   "cell_type": "code",
   "execution_count": 25,
   "id": "9a3a07ba",
   "metadata": {},
   "outputs": [
    {
     "data": {
      "text/plain": [
       "4.44962"
      ]
     },
     "execution_count": 25,
     "metadata": {},
     "output_type": "execute_result"
    }
   ],
   "source": [
    "rng = default_rng(1)\n",
    "pd.Series([pairdist(ws,n) for _ in range(50000)]).mean()"
   ]
  },
  {
   "cell_type": "markdown",
   "id": "9daf56dc",
   "metadata": {},
   "source": [
    "As we computed above, the Twitch network has an even smaller mean distance, making it a bit more efficient at connecting nodes by paths."
   ]
  }
 ],
 "metadata": {
  "jupytext": {
   "text_representation": {
    "extension": ".md",
    "format_name": "myst",
    "format_version": 0.13,
    "jupytext_version": "1.11.5"
   }
  },
  "kernelspec": {
   "display_name": "Python 3 (ipykernel)",
   "language": "python",
   "name": "python3"
  },
  "language_info": {
   "codemirror_mode": {
    "name": "ipython",
    "version": 3
   },
   "file_extension": ".py",
   "mimetype": "text/x-python",
   "name": "python",
   "nbconvert_exporter": "python",
   "pygments_lexer": "ipython3",
   "version": "3.7.6"
  },
  "source_map": [
   12,
   16,
   22,
   26,
   30,
   35,
   40,
   44,
   53,
   57,
   61,
   64,
   82,
   84,
   88,
   92,
   96,
   100,
   102,
   106,
   111,
   115,
   119,
   124,
   128,
   133,
   137,
   141,
   147,
   151,
   155,
   167,
   169,
   173,
   175,
   179,
   186,
   188,
   192,
   206,
   209,
   219,
   221,
   225,
   227,
   231,
   233,
   237,
   240,
   244,
   247,
   251,
   254
  ]
 },
 "nbformat": 4,
 "nbformat_minor": 5
}