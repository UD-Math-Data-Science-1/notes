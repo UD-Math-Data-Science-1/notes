{
 "cells": [
  {
   "cell_type": "code",
   "execution_count": 8,
   "id": "8c6824ed-6453-49c1-ac93-cdb1dc420ebe",
   "metadata": {},
   "outputs": [],
   "source": [
    "lorem=split(\"\"\"\n",
    "Lorem ipsum dolor sit amet, consectetur adipiscing elit. Aliquam nec sapien lacinia, efficitur ligula quis, finibus urna. Ut molestie fermentum felis eget rhoncus. Phasellus ullamcorper, lorem in ultrices hendrerit, ipsum nibh porta velit, tempor tempor libero mauris vitae lacus. Phasellus molestie pellentesque massa a semper. Curabitur sed eros in felis rhoncus sollicitudin. Vivamus a diam quis nulla malesuada tincidunt. Pellentesque sit amet dui pellentesque, vulputate massa vel, luctus nisl. Nam eget ultricies erat, volutpat iaculis nisl.\n",
    "\n",
    "Quisque pulvinar molestie tortor quis molestie. Integer rutrum feugiat ipsum vel fermentum. Duis convallis sapien in fermentum laoreet. Ut accumsan sem sem, vitae commodo mi bibendum eu. Etiam vitae facilisis enim. Curabitur lobortis tempus mauris vitae tempus. Ut id odio ante. Nam eu venenatis diam.\n",
    "\n",
    "Sed et finibus arcu. Nam porttitor molestie fringilla. Nulla quis neque nec felis ultrices tincidunt malesuada ultricies sapien. Nunc eleifend lobortis porta. Nunc eu ex a lacus rhoncus porttitor. Nullam sit amet malesuada velit, vitae maximus justo. Maecenas cursus mi ut justo porta dictum. Proin eget rhoncus augue, et interdum risus. Nulla placerat diam quis ex dignissim ultrices. Quisque eu posuere diam, nec pretium dolor. Aenean imperdiet justo orci, dignissim consequat orci vulputate aliquam. Vivamus ultricies augue hendrerit dui lacinia, sit amet laoreet diam ornare. Mauris et sem nec eros condimentum bibendum vitae vel felis. Morbi nec fringilla purus, vitae porta metus. Quisque lacinia fringilla orci, eget molestie ligula fringilla sed.\n",
    "\n",
    "Sed tempor euismod eros eget lacinia. Nunc sit amet sagittis justo, vitae semper erat. Sed nec velit neque. Nullam dapibus eget dui tincidunt laoreet. Proin tristique orci ut accumsan feugiat. Mauris metus nisl, rhoncus sed mattis in, venenatis sit amet sem. Suspendisse justo diam, pretium euismod scelerisque nec, eleifend consequat erat. Curabitur et erat eget augue dignissim interdum nec sed sapien. Pellentesque cursus lorem sed gravida iaculis. In hac habitasse platea dictumst. Nam ac mi ex. Nam nibh libero, porttitor eu feugiat nec, tristique nec neque. Nam diam turpis, tincidunt vitae hendrerit ac, ornare a tellus. Maecenas posuere, leo ut commodo vulputate, nunc enim lobortis elit, sed lacinia purus sem at ex. Phasellus porta accumsan nisi et aliquet.\n",
    "\n",
    "Integer ut lobortis nunc, ac volutpat sem. Mauris consectetur vitae nisi tristique finibus. Cras auctor scelerisque aliquet. Etiam porttitor lorem quis risus imperdiet hendrerit. Nullam venenatis justo placerat sagittis pretium. Proin laoreet porta erat, sed laoreet ipsum placerat quis. Nunc sit amet volutpat erat. Morbi ut dolor nulla. Morbi fringilla pharetra maximus. Curabitur ullamcorper porta lobortis. In nec iaculis dolor. Pellentesque orci tortor, malesuada pharetra egestas aliquet, ornare sed eros. Fusce feugiat vehicula nibh, quis bibendum dolor fringilla in. Proin nunc tortor, iaculis et tempus elementum, semper mollis metus.\n",
    "\n",
    "\"\"\");"
   ]
  },
  {
   "cell_type": "code",
   "execution_count": 37,
   "id": "67f84af6-1c68-4b02-b374-972b395be3c1",
   "metadata": {},
   "outputs": [
    {
     "data": {
      "text/plain": [
       "351200"
      ]
     },
     "execution_count": 37,
     "metadata": {},
     "output_type": "execute_result"
    }
   ],
   "source": [
    "using DataFrames,BenchmarkTools\n",
    "words = DataFrame(word=repeat(lorem,outer=800));\n",
    "regex = r\"lo.*\"\n",
    "size(words,1)"
   ]
  },
  {
   "cell_type": "code",
   "execution_count": 63,
   "id": "3a3f6795-6629-4e99-b312-496bf5cf3552",
   "metadata": {},
   "outputs": [
    {
     "name": "stdout",
     "output_type": "stream",
     "text": [
      "  0.309117 seconds (2.11 M allocations: 66.356 MiB, 3.10% gc time, 43.30% compilation time)\n"
     ]
    }
   ],
   "source": [
    "@time remain = filter(:word=>t->occursin.(regex,t),words,view=true);"
   ]
  },
  {
   "cell_type": "code",
   "execution_count": 59,
   "id": "dd6a0fa5-0548-444b-929e-b033617b871f",
   "metadata": {},
   "outputs": [
    {
     "name": "stdout",
     "output_type": "stream",
     "text": [
      "  0.081201 seconds (33.34 k allocations: 2.142 MiB, 40.99% compilation time)\n"
     ]
    }
   ],
   "source": [
    "@time remain = subset(words,:word=>t->occursin.(regex,t),view=true);"
   ]
  },
  {
   "cell_type": "code",
   "execution_count": 43,
   "id": "cbc92f8a-2df5-40e2-b893-6cdeca8f6251",
   "metadata": {},
   "outputs": [
    {
     "name": "stdout",
     "output_type": "stream",
     "text": [
      "  0.046373 seconds (14 allocations: 8.164 MiB)\n"
     ]
    }
   ],
   "source": [
    "@time remain = @view words[occursin.(regex,words[:,:word]),:];"
   ]
  },
  {
   "cell_type": "code",
   "execution_count": 30,
   "id": "ca78e6b5-7f98-4c57-8834-93ce2badd7e1",
   "metadata": {},
   "outputs": [
    {
     "data": {
      "text/plain": [
       "10400"
      ]
     },
     "execution_count": 30,
     "metadata": {},
     "output_type": "execute_result"
    }
   ],
   "source": [
    "size(remain,1)"
   ]
  },
  {
   "cell_type": "code",
   "execution_count": null,
   "id": "b3816b75-9f21-4065-977d-eefd06db0f07",
   "metadata": {},
   "outputs": [],
   "source": []
  }
 ],
 "metadata": {
  "kernelspec": {
   "display_name": "Julia 1.7.1",
   "language": "julia",
   "name": "julia-1.7"
  },
  "language_info": {
   "file_extension": ".jl",
   "mimetype": "application/julia",
   "name": "julia",
   "version": "1.7.1"
  }
 },
 "nbformat": 4,
 "nbformat_minor": 5
}
