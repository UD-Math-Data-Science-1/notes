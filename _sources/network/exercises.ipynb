{
 "cells": [
  {
   "cell_type": "markdown",
   "id": "aea0dab1",
   "metadata": {},
   "source": [
    "# Exercises\n",
    "\n",
    "1. For each graph, give the number of nodes, the number of edges, and the average degree.\n",
    "\n",
    "    **(a)** The complete graph $K_6$.\n",
    "\n",
    "    **(b)** \n",
    "    ```{image} nws.svg\n",
    "    :alt: NWS graph\n",
    "    :width: 300px\n",
    "    :align: center\n",
    "    ```\n",
    "\n",
    "    **(c)** \n",
    "    ```{image} ladder.svg\n",
    "    :alt: ladder graph\n",
    "    :width: 300px\n",
    "    :align: center\n",
    "    ```\n",
    "\n",
    "2. Give the adjacency matrix for the graph in Exercise 1(c).\n",
    "\n",
    "3. For the graph below, draw the ego graph of **(a)** node 4 and **(b)** node 8.\n",
    "\n",
    "    ```{image} ba.svg\n",
    "    :alt: BA graph\n",
    "    :width: 350px\n",
    "    :align: center\n",
    "    ```\n",
    "\n",
    "4. To construct an Erdős-Rényi graph on 25 nodes with expected average degree 8, what should the edge inclusion probability $p$ be?\n",
    "\n",
    "5. Find the diameters of the graphs in Exercise 1.\n",
    "\n",
    "6. Suppose that $\\bfA$ is the adjacency matrix of an undirected graph on $n$ nodes. Let $\\boldsymbol{1}$ be the $n$-vector whose components all equal 1, and let\n",
    "\n",
    "    $$\n",
    "    \\mathbf{d} = \\bfA \\boldsymbol{1}. \n",
    "    $$\n",
    "\n",
    "    Explain why $\\mathbf{d}$ is the vector whose components are the degrees of the nodes.\n",
    "\n",
    "7. Find **(a)** the clustering coefficient and **(b)** the betweenness centrality for each node in the following graph:\n",
    "\n",
    "    ```{image} lolly.svg\n",
    "    :alt: Lollipop graph\n",
    "    :width: 350px\n",
    "    :align: center\n",
    "    ```\n",
    "\n",
    "8. A star graph with $n$ nodes and $n-1$ edges has a central node that has an edge to each other node. In terms of $n$, find **(a)** the clustering coefficient and **(b)** the betweenness centrality of the central node of the star graph. \n",
    "\n",
    "9. Recall that the complete graph $K_n$ contains every possible edge on $n$ nodes. Prove that the vector $\\bfx=[1,1,\\ldots,1]$ is an eigenvector of the adjacency matrix of $K_n$. (Therefore, the eigenvector centrality is uniform over the nodes.)\n",
    "\n",
    "10. Prove that for the star graph on $n$ nodes as described in Exercise 8, the vector \n",
    "\n",
    "    $$\n",
    "    \\bfx = [ \\sqrt{n-1},1,1,\\ldots,1 ]\n",
    "    $$\n",
    "\n",
    "    is an eigenvector of the adjacency matrix, where the central node corresponds to the first element of the vector.\n",
    "\n",
    "11. (Tough one!) The Watts–Strogatz construction starts with a *ring lattice* in which the nodes are arranged in a circle and each is connected to its $k$ nearest neighbors (i.e., $k/2$ on each side). Show that the clustering coefficient of an arbitrary node in the ring lattice is \n",
    "\n",
    "    $$ \\frac{3(k-2)}{4(k-1)}. $$\n",
    "\n",
    "    (Hint: Count up all the edges between the neighbors on one side of the node of interest, then all the edges between neighbors on the other side, and finally, the edges going from a neighbor on one side to a neighbor on the other side.)\n",
    "\n",
    "12. Prove the friendship paradox, i.e., inequality {eq}`eq-centrality-friendship-paradox`. (Hint: Start with {eq}`eq-similarity-angle` using $\\bfu=\\mathbf{d}$ and $\\bfv$ equal to a vector of all ones. Simplify the inner product, then write an equivalent inequality involving $\\onenorm{\\mathbf{d}}$ and $\\twonorm{\\mathbf{d}}$. Square both sides and show that it can be rearranged into {eq}`eq-centrality-friendship-paradox`.)"
   ]
  }
 ],
 "metadata": {
  "jupytext": {
   "text_representation": {
    "extension": ".md",
    "format_name": "myst",
    "format_version": 0.13,
    "jupytext_version": "1.11.5"
   }
  },
  "kernelspec": {
   "display_name": "Python 3",
   "language": "python",
   "name": "python3"
  },
  "language_info": {
   "codemirror_mode": {
    "name": "ipython",
    "version": 3
   },
   "file_extension": ".py",
   "mimetype": "text/x-python",
   "name": "python",
   "nbconvert_exporter": "python",
   "pygments_lexer": "ipython3",
   "version": "3.7.6"
  },
  "source_map": [
   12
  ]
 },
 "nbformat": 4,
 "nbformat_minor": 5
}