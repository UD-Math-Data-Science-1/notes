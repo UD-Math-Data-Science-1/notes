{
 "cells": [
  {
   "cell_type": "markdown",
   "id": "c6bbf4c9",
   "metadata": {},
   "source": [
    "# Exercises\n",
    "\n",
    "1. For each graph, give the number of nodes, the number of edges, and the average degree.\n",
    "\n",
    "    **(a)** The complete graph $K_6$.\n",
    "\n",
    "    **(b)** \n",
    "    ```{image} nws.svg\n",
    "    :alt: NWS graph\n",
    "    :width: 300px\n",
    "    :align: center\n",
    "    ```\n",
    "\n",
    "    **(c)** \n",
    "    ```{image} ladder.svg\n",
    "    :alt: ladder graph\n",
    "    :width: 300px\n",
    "    :align: center\n",
    "    ```\n",
    "\n",
    "2. Give the adjacency matrix for the graph in Exercise 1(c).\n",
    "\n",
    "3. For the graph below, draw the ego graph of **(a)** node 4 and **(b)** node 8.\n",
    "\n",
    "    ```{image} ba.svg\n",
    "    :alt: BA graph\n",
    "    :width: 300px\n",
    "    :align: center\n",
    "    ```\n",
    "\n",
    "4. To construct an Erdős-Rényi graph on 25 nodes with expected average degree 8, what should the edge inclusion probability $p$ be?\n",
    "\n",
    "5. Find the diameter of the graphs in Exercise 1.\n",
    "\n",
    "6. Find the clustering coefficient for each node in the following graph:\n",
    "\n",
    "    ```{image} lolly.svg\n",
    "    :alt: Lollipop graph\n",
    "    :width: 300px\n",
    "    :align: center\n",
    "    ```\n",
    "\n",
    "7. The Watts–Strogatz construction starts with a *ring lattice* in which the nodes are arranged in a circle and each is connected to its $k$ nearest neighbors ($k/2$ on each side). Find the clustering coefficient of an arbitrary node in the ring lattice."
   ]
  }
 ],
 "metadata": {
  "jupytext": {
   "text_representation": {
    "extension": ".md",
    "format_name": "myst",
    "format_version": 0.13,
    "jupytext_version": "1.11.5"
   }
  },
  "kernelspec": {
   "display_name": "Python 3",
   "language": "python",
   "name": "python3"
  },
  "language_info": {
   "codemirror_mode": {
    "name": "ipython",
    "version": 3
   },
   "file_extension": ".py",
   "mimetype": "text/x-python",
   "name": "python",
   "nbconvert_exporter": "python",
   "pygments_lexer": "ipython3",
   "version": "3.7.6"
  },
  "source_map": [
   12
  ]
 },
 "nbformat": 4,
 "nbformat_minor": 5
}