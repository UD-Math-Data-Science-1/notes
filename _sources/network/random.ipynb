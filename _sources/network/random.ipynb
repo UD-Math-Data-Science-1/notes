{
 "cells": [
  {
   "cell_type": "markdown",
   "id": "d6c6a8d1",
   "metadata": {},
   "source": [
    "# Random graphs"
   ]
  },
  {
   "cell_type": "code",
   "execution_count": 1,
   "id": "44bee94e",
   "metadata": {},
   "outputs": [],
   "source": [
    "import networkx as nx\n",
    "import numpy as np\n",
    "import pandas as pd\n",
    "import seaborn as sns"
   ]
  },
  {
   "cell_type": "markdown",
   "id": "5c51a2c3",
   "metadata": {},
   "source": [
    "One way of trying to understand a new network is by comparing it to networks constructed by random processes governed by fairly simple rules. if the network has quantitative properties similar to those of some random family, we may suppose that the construction rules of that family have some bearing on the way our network came into being."
   ]
  },
  {
   "cell_type": "markdown",
   "id": "e4aa57d3",
   "metadata": {},
   "source": [
    "An **Erdős-Rényi graph** includes each individual possible edge with a fixed probability $p$. When one refers to a \"random graph\" without any additional context, this is usually the type that is meant."
   ]
  },
  {
   "cell_type": "code",
   "execution_count": 2,
   "id": "0d13b42a",
   "metadata": {},
   "outputs": [
    {
     "ename": "NameError",
     "evalue": "name 'er' is not defined",
     "output_type": "error",
     "traceback": [
      "\u001b[0;31m---------------------------------------------------------------------------\u001b[0m",
      "\u001b[0;31mNameError\u001b[0m                                 Traceback (most recent call last)",
      "\u001b[0;32m/var/folders/cn/8w40979d27x0kv2wsnx7zgvm0000gp/T/ipykernel_61998/801382810.py\u001b[0m in \u001b[0;36m<module>\u001b[0;34m\u001b[0m\n\u001b[1;32m      1\u001b[0m \u001b[0mn\u001b[0m\u001b[0;34m,\u001b[0m\u001b[0mp\u001b[0m \u001b[0;34m=\u001b[0m \u001b[0;36m60\u001b[0m\u001b[0;34m,\u001b[0m\u001b[0;36m0.08\u001b[0m\u001b[0;34m\u001b[0m\u001b[0;34m\u001b[0m\u001b[0m\n\u001b[1;32m      2\u001b[0m \u001b[0mER\u001b[0m \u001b[0;34m=\u001b[0m \u001b[0mnx\u001b[0m\u001b[0;34m.\u001b[0m\u001b[0merdos_renyi_graph\u001b[0m\u001b[0;34m(\u001b[0m\u001b[0mn\u001b[0m\u001b[0;34m,\u001b[0m\u001b[0mp\u001b[0m\u001b[0;34m,\u001b[0m\u001b[0mseed\u001b[0m\u001b[0;34m=\u001b[0m\u001b[0;36m1\u001b[0m\u001b[0;34m)\u001b[0m\u001b[0;34m\u001b[0m\u001b[0;34m\u001b[0m\u001b[0m\n\u001b[0;32m----> 3\u001b[0;31m \u001b[0mprint\u001b[0m\u001b[0;34m(\u001b[0m\u001b[0mer\u001b[0m\u001b[0;34m.\u001b[0m\u001b[0mnumber_of_nodes\u001b[0m\u001b[0;34m(\u001b[0m\u001b[0;34m)\u001b[0m\u001b[0;34m,\u001b[0m\u001b[0;34m\"nodes,\"\u001b[0m\u001b[0;34m,\u001b[0m\u001b[0mER\u001b[0m\u001b[0;34m.\u001b[0m\u001b[0mnumber_of_edges\u001b[0m\u001b[0;34m(\u001b[0m\u001b[0;34m)\u001b[0m\u001b[0;34m,\u001b[0m\u001b[0;34m\"edges\"\u001b[0m\u001b[0;34m)\u001b[0m\u001b[0;34m\u001b[0m\u001b[0;34m\u001b[0m\u001b[0m\n\u001b[0m\u001b[1;32m      4\u001b[0m \u001b[0mnx\u001b[0m\u001b[0;34m.\u001b[0m\u001b[0mdraw_circular\u001b[0m\u001b[0;34m(\u001b[0m\u001b[0mER\u001b[0m\u001b[0;34m,\u001b[0m\u001b[0mnode_size\u001b[0m\u001b[0;34m=\u001b[0m\u001b[0;36m40\u001b[0m\u001b[0;34m)\u001b[0m\u001b[0;34m\u001b[0m\u001b[0;34m\u001b[0m\u001b[0m\n",
      "\u001b[0;31mNameError\u001b[0m: name 'er' is not defined"
     ]
    }
   ],
   "source": [
    "n,p = 60,0.08\n",
    "ER = nx.erdos_renyi_graph(n,p,seed=1)\n",
    "print(er.number_of_nodes(),\"nodes,\",ER.number_of_edges(),\"edges\")\n",
    "nx.draw_circular(ER,node_size=40)"
   ]
  },
  {
   "cell_type": "markdown",
   "id": "5a0d9b6b",
   "metadata": {},
   "source": [
    "Since there are $\\binom{n}{2}$ possible edges in an undirected graph on $n$ nodes, the mean number of edges in an ER graph is \n",
    "\n",
    "$$\n",
    "\\frac{pn(n-1)}{2}.\n",
    "$$\n",
    "\n",
    "This fact is usually stated in different terms. The **degree** of a node is the number of edges that have the node as an endpoint. The `degree` property of a graph returns an iterator that can be collected into a list or frame."
   ]
  },
  {
   "cell_type": "code",
   "execution_count": 3,
   "id": "a5199cf0",
   "metadata": {},
   "outputs": [
    {
     "data": {
      "text/html": [
       "<div>\n",
       "<style scoped>\n",
       "    .dataframe tbody tr th:only-of-type {\n",
       "        vertical-align: middle;\n",
       "    }\n",
       "\n",
       "    .dataframe tbody tr th {\n",
       "        vertical-align: top;\n",
       "    }\n",
       "\n",
       "    .dataframe thead th {\n",
       "        text-align: right;\n",
       "    }\n",
       "</style>\n",
       "<table border=\"1\" class=\"dataframe\">\n",
       "  <thead>\n",
       "    <tr style=\"text-align: right;\">\n",
       "      <th></th>\n",
       "      <th>node</th>\n",
       "      <th>degree</th>\n",
       "    </tr>\n",
       "  </thead>\n",
       "  <tbody>\n",
       "    <tr>\n",
       "      <th>0</th>\n",
       "      <td>0</td>\n",
       "      <td>7</td>\n",
       "    </tr>\n",
       "    <tr>\n",
       "      <th>1</th>\n",
       "      <td>1</td>\n",
       "      <td>5</td>\n",
       "    </tr>\n",
       "    <tr>\n",
       "      <th>2</th>\n",
       "      <td>2</td>\n",
       "      <td>7</td>\n",
       "    </tr>\n",
       "    <tr>\n",
       "      <th>3</th>\n",
       "      <td>3</td>\n",
       "      <td>3</td>\n",
       "    </tr>\n",
       "    <tr>\n",
       "      <th>4</th>\n",
       "      <td>4</td>\n",
       "      <td>6</td>\n",
       "    </tr>\n",
       "  </tbody>\n",
       "</table>\n",
       "</div>"
      ],
      "text/plain": [
       "   node  degree\n",
       "0     0       7\n",
       "1     1       5\n",
       "2     2       7\n",
       "3     3       3\n",
       "4     4       6"
      ]
     },
     "execution_count": 3,
     "metadata": {},
     "output_type": "execute_result"
    }
   ],
   "source": [
    "degrees = pd.DataFrame(ER.degree,columns=[\"node\",\"degree\"])\n",
    "degrees.head()"
   ]
  },
  {
   "cell_type": "markdown",
   "id": "0db43995",
   "metadata": {},
   "source": [
    "In any graph, if we add the degrees of all the nodes, then we must get twice the number of edges. Thus, in an ER graph, the average node degree is, on average,\n",
    "\n",
    "$$\n",
    "\\bar{k} = \\frac{1}{n} pn(n-1) = p(n-1).\n",
    "$$"
   ]
  },
  {
   "cell_type": "code",
   "execution_count": 4,
   "id": "a96355ed",
   "metadata": {
    "tags": []
   },
   "outputs": [
    {
     "name": "stdout",
     "output_type": "stream",
     "text": [
      "Average degree in ER graph above: 4.833333333333333\n",
      "Theoretical expectation: 4.72\n"
     ]
    }
   ],
   "source": [
    "print(\"Average degree in ER graph above:\",degrees[\"degree\"].mean())\n",
    "print(\"Theoretical expectation:\",p*(n-1))"
   ]
  },
  {
   "cell_type": "markdown",
   "id": "2afb6ec5",
   "metadata": {},
   "source": [
    "Note that we are talking here about the average (over all ER graphs of type $(n,p)$) of the value of the average (over the nodes in one graph) degree. Here is the distribution of $\\bar{k}$ over many instances."
   ]
  },
  {
   "cell_type": "code",
   "execution_count": 5,
   "id": "c3384420",
   "metadata": {
    "tags": []
   },
   "outputs": [
    {
     "data": {
      "image/png": "[encoded data removed]",
      "text/plain": [
       "<Figure size 360x360 with 1 Axes>"
      ]
     },
     "metadata": {
      "filenames": {
       "image/png": "/home/driscoll/Dropbox/class/267/notes/_build/jupyter_execute/network/random_10_0.png"
      },
      "needs_background": "light"
     },
     "output_type": "display_data"
    }
   ],
   "source": [
    "n,p = 41,0.1\n",
    "kbar = []\n",
    "for i in range(5000):\n",
    "    ER = nx.erdos_renyi_graph(n,p)\n",
    "    deg = pd.DataFrame(ER.degree,columns=[\"node\",\"degree\"])[\"degree\"]\n",
    "    kbar.append(deg.mean())\n",
    "\n",
    "sns.displot(x=kbar,bins=19);"
   ]
  },
  {
   "cell_type": "markdown",
   "id": "73d99e74",
   "metadata": {},
   "source": [
    "## Degree distribution\n",
    "\n",
    "As we know, means of distributions do not always tell the entire story. For example, here is the distribution of the degrees of all the nodes in our Twitch network example."
   ]
  },
  {
   "cell_type": "code",
   "execution_count": 6,
   "id": "55ab9579",
   "metadata": {
    "tags": []
   },
   "outputs": [
    {
     "data": {
      "image/png": "[encoded data removed]",
      "text/plain": [
       "<Figure size 360x360 with 1 Axes>"
      ]
     },
     "metadata": {
      "filenames": {
       "image/png": "/home/driscoll/Dropbox/class/267/notes/_build/jupyter_execute/network/random_12_0.png"
      },
      "needs_background": "light"
     },
     "output_type": "display_data"
    }
   ],
   "source": [
    "twitch = nx.read_edgelist(\"musae_edges.csv\",delimiter=',',nodetype=int)\n",
    "twitch_degrees = pd.DataFrame(twitch.degree,columns=[\"node\",\"degree\"])\n",
    "hist = sns.displot(data=twitch_degrees,x=\"degree\")"
   ]
  },
  {
   "cell_type": "markdown",
   "id": "a71b67b1",
   "metadata": {},
   "source": [
    "We can find the average degree of this network and create an ER graph with the same expected average degree."
   ]
  },
  {
   "cell_type": "code",
   "execution_count": 7,
   "id": "e419dea0",
   "metadata": {},
   "outputs": [
    {
     "data": {
      "image/png": "[encoded data removed]",
      "text/plain": [
       "<Figure size 360x360 with 1 Axes>"
      ]
     },
     "metadata": {
      "filenames": {
       "image/png": "/home/driscoll/Dropbox/class/267/notes/_build/jupyter_execute/network/random_14_0.png"
      },
      "needs_background": "light"
     },
     "output_type": "display_data"
    }
   ],
   "source": [
    "n = twitch.number_of_nodes()\n",
    "kbar = degrees[\"degree\"].mean()\n",
    "p = kbar/(n-1)\n",
    "ER = nx.erdos_renyi_graph(n,p)\n",
    "degrees = pd.DataFrame(ER.degree,columns=[\"node\",\"degree\"])\n",
    "hist = sns.displot(data=degrees,x=\"degree\")"
   ]
  },
  {
   "cell_type": "markdown",
   "id": "b8fd8a78",
   "metadata": {
    "tags": []
   },
   "source": [
    "It's obvious now that the ER graph is nothing like the Twitch graph. While nobody in the ER graph has more than 30 friends, a few nodes in the Twitch network have hundreds of friends."
   ]
  },
  {
   "cell_type": "markdown",
   "id": "f91e0e75",
   "metadata": {},
   "source": [
    "The behavior of the Twitch degree distribution gets very interesting when the axes are transformed to use log scales:"
   ]
  },
  {
   "cell_type": "code",
   "execution_count": 8,
   "id": "a0bfb9dc",
   "metadata": {},
   "outputs": [
    {
     "data": {
      "image/png": "[encoded data removed]",
      "text/plain": [
       "<Figure size 360x360 with 1 Axes>"
      ]
     },
     "metadata": {
      "filenames": {
       "image/png": "/home/driscoll/Dropbox/class/267/notes/_build/jupyter_execute/network/random_17_0.png"
      },
      "needs_background": "light"
     },
     "output_type": "display_data"
    }
   ],
   "source": [
    "hist = sns.displot(data=twitch_degrees,x=\"degree\",log_scale=True)\n",
    "hist.axes[0,0].set_yscale(\"log\")"
   ]
  },
  {
   "cell_type": "markdown",
   "id": "9bf32ad1",
   "metadata": {},
   "source": [
    "For degrees between 10 and several hundred, the counts lie nearly on a straight line. That is, if $x$ is degree and $y$ is the node count at that degree, then\n",
    "\n",
    "$$\n",
    "\\log(y) \\approx  - a\\cdot \\log(x) + b,\n",
    "$$\n",
    "\n",
    "i.e.,\n",
    "\n",
    "$$\n",
    "y \\approx B x^{-a},\n",
    "$$\n",
    "\n",
    "for some $a > 0$. This relationship is known as a **power law**. Many social networks follow to some extent a power-law distrubution of node degrees. (The extent to which this statement is true is a hot debate within network science.)"
   ]
  },
  {
   "cell_type": "markdown",
   "id": "92094a9a",
   "metadata": {},
   "source": [
    "We can get a fair estimate of the constants $B$ and $a$ in the power law by doing a least-squares fit on the logs of $x$ and $y$. First, we need the counts:"
   ]
  },
  {
   "cell_type": "code",
   "execution_count": 9,
   "id": "cd165d03",
   "metadata": {},
   "outputs": [],
   "source": [
    "y = twitch_degrees[\"degree\"].value_counts()\n",
    "counts = pd.DataFrame({\"degree\":y.index,\"count\":y.values})\n",
    "counts = counts[(counts[\"count\"] > 10) & (counts[\"count\"] < 200)];"
   ]
  },
  {
   "cell_type": "markdown",
   "id": "679df497",
   "metadata": {},
   "source": [
    "Now we will get additional columns by log transformations. (Note: the `np.log` function is the natural logarithm.)"
   ]
  },
  {
   "cell_type": "code",
   "execution_count": 10,
   "id": "227f6bc1",
   "metadata": {},
   "outputs": [],
   "source": [
    "counts[[\"log_x\",\"log_y\"]] = counts.transform(np.log)"
   ]
  },
  {
   "cell_type": "markdown",
   "id": "92ff7545",
   "metadata": {},
   "source": [
    "Now we use `sklearn` for a linear regression."
   ]
  },
  {
   "cell_type": "code",
   "execution_count": 11,
   "id": "b06118e5",
   "metadata": {
    "tags": []
   },
   "outputs": [
    {
     "name": "stdout",
     "output_type": "stream",
     "text": [
      "slope -2.135847745320904 and intercept 10.397579197774625\n"
     ]
    }
   ],
   "source": [
    "from sklearn.linear_model import LinearRegression\n",
    "lm = LinearRegression()\n",
    "lm.fit(counts[[\"log_x\"]],counts[\"log_y\"])\n",
    "print(\"slope\",lm.coef_[0],\"and intercept\",lm.intercept_)"
   ]
  },
  {
   "cell_type": "markdown",
   "id": "b6ac2af1",
   "metadata": {},
   "source": [
    "If the average degree in any graph is less than 1, then at least one node must have degree less than one. Therefore, the graph is not connected. For ER graphs, $\\bar{k} = 1$ marks a crucial transition. Let's fix $n$ and look at the size of the largest connected component of ER graphs as $p$ varies."
   ]
  },
  {
   "cell_type": "code",
   "execution_count": 12,
   "id": "5cd2c5ae",
   "metadata": {},
   "outputs": [],
   "source": [
    "n = 201\n",
    "results = pd.DataFrame({\"p\":[],\"kbar\":[],\"size\":[]})\n",
    "for p in np.arange(0.0001,0.025,0.0004):\n",
    "    for i in range(50):\n",
    "        ER = nx.erdos_renyi_graph(n,p)\n",
    "        largest_cc = max(len(g) for g in nx.connected_components(ER))\n",
    "        results = pd.concat((results,\n",
    "                             pd.DataFrame({\"p\":[p],\"kbar\":p*(n-1),\"size\":largest_cc})),\n",
    "                            ignore_index=True)"
   ]
  },
  {
   "cell_type": "code",
   "execution_count": 13,
   "id": "e3768cd5",
   "metadata": {
    "jupyter": {
     "outputs_hidden": true
    },
    "tags": []
   },
   "outputs": [
    {
     "data": {
      "image/png": "[encoded data removed]",
      "text/plain": [
       "<Figure size 360x360 with 1 Axes>"
      ]
     },
     "metadata": {
      "filenames": {
       "image/png": "/home/driscoll/Dropbox/class/267/notes/_build/jupyter_execute/network/random_27_0.png"
      },
      "needs_background": "light"
     },
     "output_type": "display_data"
    }
   ],
   "source": [
    "sns.relplot(data=results,x=\"kbar\",y=\"size\",kind=\"line\");"
   ]
  },
  {
   "cell_type": "markdown",
   "id": "3adcc1fc",
   "metadata": {},
   "source": [
    "The plot above suggests that as $\\bar{k}$ increases past 1, there is often a \"giant component\" that dominates the graph."
   ]
  },
  {
   "cell_type": "code",
   "execution_count": 14,
   "id": "6bb62271",
   "metadata": {
    "tags": []
   },
   "outputs": [
    {
     "data": {
      "text/html": [
       "<div>\n",
       "<style scoped>\n",
       "    .dataframe tbody tr th:only-of-type {\n",
       "        vertical-align: middle;\n",
       "    }\n",
       "\n",
       "    .dataframe tbody tr th {\n",
       "        vertical-align: top;\n",
       "    }\n",
       "\n",
       "    .dataframe thead th {\n",
       "        text-align: right;\n",
       "    }\n",
       "</style>\n",
       "<table border=\"1\" class=\"dataframe\">\n",
       "  <thead>\n",
       "    <tr style=\"text-align: right;\">\n",
       "      <th></th>\n",
       "      <th>node</th>\n",
       "      <th>degree</th>\n",
       "    </tr>\n",
       "  </thead>\n",
       "  <tbody>\n",
       "    <tr>\n",
       "      <th>0</th>\n",
       "      <td>6194</td>\n",
       "      <td>6</td>\n",
       "    </tr>\n",
       "    <tr>\n",
       "      <th>1</th>\n",
       "      <td>255</td>\n",
       "      <td>6</td>\n",
       "    </tr>\n",
       "    <tr>\n",
       "      <th>2</th>\n",
       "      <td>980</td>\n",
       "      <td>18</td>\n",
       "    </tr>\n",
       "    <tr>\n",
       "      <th>3</th>\n",
       "      <td>2992</td>\n",
       "      <td>4</td>\n",
       "    </tr>\n",
       "    <tr>\n",
       "      <th>4</th>\n",
       "      <td>2507</td>\n",
       "      <td>22</td>\n",
       "    </tr>\n",
       "    <tr>\n",
       "      <th>...</th>\n",
       "      <td>...</td>\n",
       "      <td>...</td>\n",
       "    </tr>\n",
       "    <tr>\n",
       "      <th>7121</th>\n",
       "      <td>2933</td>\n",
       "      <td>1</td>\n",
       "    </tr>\n",
       "    <tr>\n",
       "      <th>7122</th>\n",
       "      <td>2267</td>\n",
       "      <td>1</td>\n",
       "    </tr>\n",
       "    <tr>\n",
       "      <th>7123</th>\n",
       "      <td>6694</td>\n",
       "      <td>1</td>\n",
       "    </tr>\n",
       "    <tr>\n",
       "      <th>7124</th>\n",
       "      <td>6995</td>\n",
       "      <td>1</td>\n",
       "    </tr>\n",
       "    <tr>\n",
       "      <th>7125</th>\n",
       "      <td>7071</td>\n",
       "      <td>1</td>\n",
       "    </tr>\n",
       "  </tbody>\n",
       "</table>\n",
       "<p>7126 rows × 2 columns</p>\n",
       "</div>"
      ],
      "text/plain": [
       "      node  degree\n",
       "0     6194       6\n",
       "1      255       6\n",
       "2      980      18\n",
       "3     2992       4\n",
       "4     2507      22\n",
       "...    ...     ...\n",
       "7121  2933       1\n",
       "7122  2267       1\n",
       "7123  6694       1\n",
       "7124  6995       1\n",
       "7125  7071       1\n",
       "\n",
       "[7126 rows x 2 columns]"
      ]
     },
     "execution_count": 14,
     "metadata": {},
     "output_type": "execute_result"
    }
   ],
   "source": [
    "degrees = pd.DataFrame(twitch.degree,columns=[\"node\",\"degree\"])\n",
    "degrees"
   ]
  },
  {
   "cell_type": "code",
   "execution_count": 15,
   "id": "2ba42af6",
   "metadata": {},
   "outputs": [
    {
     "data": {
      "image/png": "[encoded data removed]",
      "text/plain": [
       "<Figure size 432x288 with 1 Axes>"
      ]
     },
     "metadata": {
      "filenames": {
       "image/png": "/home/driscoll/Dropbox/class/267/notes/_build/jupyter_execute/network/random_30_0.png"
      }
     },
     "output_type": "display_data"
    }
   ],
   "source": [
    "nx.draw(nx.cycle_graph(5))"
   ]
  },
  {
   "cell_type": "markdown",
   "id": "1fb9c666",
   "metadata": {},
   "source": [
    "A **Watts–Strogatz graph** tries to model the \"small-world\" phenomenon of social networks, where most members can be connected by a suprirsingly short walk along edges. A WS graph has three parameters: $n$, an even integer $k$, and a probability $p$. \n",
    "\n",
    "Imagine $n$ nodes arranged in a circle. Connect each node with an edge to each of its $k/2$ left neighbors and $k/2$ right neighbors. Now visit each node $i$ in turn. For each edge from $i$ to a neighbor, with probability $p$ replace it with an edge between $i$ and a node chosen at random from all the nodes $i$ is not currently connected to."
   ]
  },
  {
   "cell_type": "markdown",
   "id": "031091a3",
   "metadata": {},
   "source": [
    "The first value, which is both the slope of the line and the exponent of $x$ the power law, is the most interesting part. It estimates that the degree counts vary as $Bx^{-2.1}$ over a wide range of degrees."
   ]
  },
  {
   "cell_type": "markdown",
   "id": "9fe4b472",
   "metadata": {},
   "source": [
    "A certain type of random graph known as a **Barabási–Albert** graph is constructed by connecting one node at a time. Edges are added randomly, but preference is given to connect to nodes that already have higher degree (i.e., are more \"popular\"). Because of this rule, there is a natural tendency to develop a few hubs of high degree."
   ]
  },
  {
   "cell_type": "code",
   "execution_count": 16,
   "id": "0e3ee9d2",
   "metadata": {},
   "outputs": [
    {
     "data": {
      "image/png": "[encoded data removed]",
      "text/plain": [
       "<Figure size 432x288 with 1 Axes>"
      ]
     },
     "metadata": {
      "filenames": {
       "image/png": "/home/driscoll/Dropbox/class/267/notes/_build/jupyter_execute/network/random_34_0.png"
      }
     },
     "output_type": "display_data"
    }
   ],
   "source": [
    "bag = nx.barabasi_albert_graph(50,2,seed=0)\n",
    "bag_deg = pd.DataFrame(bag.degree,columns=[\"node\",\"degree\"])\n",
    "\n",
    "nx.draw(bag,node_size=8*bag_deg[\"degree\"],node_color=\"red\")"
   ]
  },
  {
   "cell_type": "markdown",
   "id": "6c3f9883",
   "metadata": {},
   "source": [
    "When we scale the construction up to the size and average degree of the Twitch network, a power-law distribution emerges."
   ]
  },
  {
   "cell_type": "code",
   "execution_count": 17,
   "id": "f397e262",
   "metadata": {},
   "outputs": [
    {
     "data": {
      "image/png": "[encoded data removed]",
      "text/plain": [
       "<Figure size 360x360 with 1 Axes>"
      ]
     },
     "metadata": {
      "filenames": {
       "image/png": "/home/driscoll/Dropbox/class/267/notes/_build/jupyter_execute/network/random_36_0.png"
      },
      "needs_background": "light"
     },
     "output_type": "display_data"
    }
   ],
   "source": [
    "bag = nx.barabasi_albert_graph(n,round(p*n),seed=0)\n",
    "bag_deg = pd.DataFrame(bag.degree,columns=[\"node\",\"degree\"])\n",
    "hist = sns.displot(data=bag_deg,x=\"degree\",log_scale=True)\n",
    "hist.axes[0,0].set_yscale(\"log\")"
   ]
  },
  {
   "cell_type": "markdown",
   "id": "ee8a9627",
   "metadata": {},
   "source": [
    "Compared to selecting from all possible edges with equal probabiliy, the Barabási–Albert model is considered a more plausible idealization of how social networks form."
   ]
  },
  {
   "cell_type": "markdown",
   "id": "9cb0ba8d",
   "metadata": {},
   "source": [
    "## Distance"
   ]
  },
  {
   "cell_type": "markdown",
   "id": "e8099280",
   "metadata": {},
   "source": [
    "The **distance** between two nodes in a connected graph is the number of edges in the shortest path between them. This concept appears in the \"Bacon number\" game, where actors are nodes, appearing in the same movie creates an edge between them, and one tries to find the distance between Kevin Bacon and some other designated actor. \n",
    "\n",
    "The number of pairs of nodes in our Twitch network is moderately large."
   ]
  },
  {
   "cell_type": "code",
   "execution_count": 18,
   "id": "311c25c5",
   "metadata": {
    "tags": []
   },
   "outputs": [
    {
     "name": "stdout",
     "output_type": "stream",
     "text": [
      "201 nodes create 20100 possible pairings\n"
     ]
    }
   ],
   "source": [
    "print(n,\"nodes create\",(n-1)*n//2,\"possible pairings\")"
   ]
  },
  {
   "cell_type": "markdown",
   "id": "c40d0c29",
   "metadata": {},
   "source": [
    "It would take a while on a typical laptop to compute the distances between all such pairs. Instead, we will just randomly sample a healthy number of them."
   ]
  },
  {
   "cell_type": "code",
   "execution_count": 19,
   "id": "12a8b0bc",
   "metadata": {},
   "outputs": [],
   "source": [
    "from numpy.random import default_rng\n",
    "rng = default_rng(1)\n",
    "def pairdist(G,n):\n",
    "    i = j = rng.integers(0,n)\n",
    "    while i==j: j = rng.integers(0,n)\n",
    "    return nx.shortest_path_length(G,source=i,target=j)\n",
    "\n",
    "dist = [pairdist(twitch,n) for _ in range(100000)]\n",
    "distances = pd.Series(dist)"
   ]
  },
  {
   "cell_type": "code",
   "execution_count": 20,
   "id": "8b83c2c6",
   "metadata": {},
   "outputs": [
    {
     "data": {
      "text/plain": [
       "4    39467\n",
       "3    37255\n",
       "5    13957\n",
       "2     5804\n",
       "6     3077\n",
       "7      253\n",
       "1      164\n",
       "8       23\n",
       "dtype: int64"
      ]
     },
     "execution_count": 20,
     "metadata": {},
     "output_type": "execute_result"
    }
   ],
   "source": [
    "distances.value_counts()"
   ]
  },
  {
   "cell_type": "markdown",
   "id": "c4e330a7",
   "metadata": {},
   "source": [
    "With over 7100 nodes, and an average of about 10 edges per node, the average distance between nodes is less than 4:"
   ]
  },
  {
   "cell_type": "code",
   "execution_count": 21,
   "id": "ce6d42e6",
   "metadata": {},
   "outputs": [
    {
     "data": {
      "text/plain": [
       "3.71607"
      ]
     },
     "execution_count": 21,
     "metadata": {},
     "output_type": "execute_result"
    }
   ],
   "source": [
    "distances.mean()"
   ]
  },
  {
   "cell_type": "markdown",
   "id": "f8a80f23",
   "metadata": {},
   "source": [
    "Node distances are related to the notion of \"six degrees of separation\" between any two people on Earth. This is a statement about the **diameter**, or maximum distance, of the human friendship network. In network analysis, this notion is called the *small-word phenomenon*. It's usually stated in terms of the mean degree, not the maximum, since the diameter can be determined by a single pair. (Even the little Twitch network above has a diameter of at least 9.) For a random network on $n$ nodes that have average degree $d$, the mean distance is approximately $\\ln(n)/d$. For a scale-free network, it is even less."
   ]
  },
  {
   "cell_type": "code",
   "execution_count": 22,
   "id": "fc0664a0",
   "metadata": {},
   "outputs": [],
   "source": [
    "from numpy.random import default_rng\n",
    "rng = default_rng(1)\n",
    "\n",
    "distances = pd.Series([pairdist(bag,n) for _ in range(100000)])"
   ]
  },
  {
   "cell_type": "code",
   "execution_count": 23,
   "id": "7d8af208",
   "metadata": {},
   "outputs": [
    {
     "data": {
      "text/plain": [
       "2.47147"
      ]
     },
     "execution_count": 23,
     "metadata": {},
     "output_type": "execute_result"
    }
   ],
   "source": [
    "distances.mean()"
   ]
  },
  {
   "cell_type": "markdown",
   "id": "cfe166a7",
   "metadata": {},
   "source": [
    "## Clustering"
   ]
  },
  {
   "cell_type": "markdown",
   "id": "cc952b18",
   "metadata": {},
   "source": [
    "The small-world question is related to another type of network measurement: **clustering**. There are many ways to assess clustering, but we will use the **local clustering coefficient**. \n",
    "\n",
    "Suppose that node $i$ is adacent to $k$ other nodes, called its **neighborhood** (or level-1 ego graph). The nodes in the neighborhood have $k(k-1)/2$ possible edges between them. Suppose that there are $m$ edges between members of the neighborhood (exclusive of node $i$). The clustering coefficient of node $i$ is defined as\n",
    "\n",
    "$$\n",
    "c_i = \\frac{2m}{k(k-1)}.\n",
    "$$\n",
    "\n",
    "If $c_i=0$, the neighborhood is starlike: none of the neighbors \"talk to\" (i.e., are adjacent to) each other. At the other extreme, if $c_i=1$, then the subgraph of the neighborhood is a complete graph. \n",
    "\n",
    "For example, here is the neighborhood of node 400."
   ]
  },
  {
   "cell_type": "code",
   "execution_count": 24,
   "id": "f02fa556",
   "metadata": {},
   "outputs": [
    {
     "data": {
      "image/png": "[encoded data removed]",
      "text/plain": [
       "<Figure size 432x288 with 1 Axes>"
      ]
     },
     "metadata": {
      "filenames": {
       "image/png": "/home/driscoll/Dropbox/class/267/notes/_build/jupyter_execute/network/random_51_0.png"
      }
     },
     "output_type": "display_data"
    }
   ],
   "source": [
    "nbhood = nx.ego_graph(twitch,400)\n",
    "nx.draw(nbhood,with_labels=True,node_size=800,node_color=\"yellow\")"
   ]
  },
  {
   "cell_type": "markdown",
   "id": "dca78b84",
   "metadata": {},
   "source": [
    "The plot reveals that the neighborhood has only 3 edges aside from those linking to node 400. Since there are 9 nodes in the neighborhood, this gives a clustering of \n",
    "\n",
    "$$\n",
    "\\frac{6}{9\\cdot 8} = \\frac{1}{12}.\n",
    "$$\n",
    "\n",
    "There is a function for computing this value, of course."
   ]
  },
  {
   "cell_type": "code",
   "execution_count": 25,
   "id": "b2214dde",
   "metadata": {},
   "outputs": [
    {
     "data": {
      "text/plain": [
       "0.08333333333333333"
      ]
     },
     "execution_count": 25,
     "metadata": {},
     "output_type": "execute_result"
    }
   ],
   "source": [
    "nx.clustering(twitch,400)"
   ]
  },
  {
   "cell_type": "markdown",
   "id": "a83603a5",
   "metadata": {},
   "source": [
    "The mean clustering coefficient is one way to assess the small-worldness of a graph."
   ]
  },
  {
   "cell_type": "code",
   "execution_count": 26,
   "id": "cf88c6d4",
   "metadata": {},
   "outputs": [
    {
     "data": {
      "text/plain": [
       "0.13092821901472096"
      ]
     },
     "execution_count": 26,
     "metadata": {},
     "output_type": "execute_result"
    }
   ],
   "source": [
    "pd.Series(nx.clustering(twitch)).mean()"
   ]
  },
  {
   "cell_type": "markdown",
   "id": "31f5e5c9",
   "metadata": {},
   "source": [
    "How do we put this number in context? The random BA graph has a much lower value."
   ]
  },
  {
   "cell_type": "code",
   "execution_count": 27,
   "id": "9776b5be",
   "metadata": {},
   "outputs": [
    {
     "data": {
      "text/plain": [
       "0.12111542814826917"
      ]
     },
     "execution_count": 27,
     "metadata": {},
     "output_type": "execute_result"
    }
   ],
   "source": [
    "pd.Series(nx.clustering(bag)).mean()"
   ]
  },
  {
   "cell_type": "markdown",
   "id": "3f4434f2",
   "metadata": {},
   "source": [
    "This confirms that the BA construction does nothing to build community structure, only hubs. A Watts–Strogatz graph, on the other hand, starts from communities and just rewires some of the edges to create shortcuts. If we start from neighborhoods of size 10, the mean clustering is high:"
   ]
  },
  {
   "cell_type": "code",
   "execution_count": 28,
   "id": "109ce1d4",
   "metadata": {},
   "outputs": [
    {
     "data": {
      "text/plain": [
       "0.666666666666668"
      ]
     },
     "execution_count": 28,
     "metadata": {},
     "output_type": "execute_result"
    }
   ],
   "source": [
    "ws = nx.watts_strogatz_graph(n,10,0,seed=2)\n",
    "pd.Series(nx.clustering(ws)).mean()"
   ]
  },
  {
   "cell_type": "markdown",
   "id": "29281e9f",
   "metadata": {},
   "source": [
    "However, the mean path length in that graph would be large, since there are no far-flung direct connections. But if we allow 40% of the links to be converted to random destinations, then the clustering is similar to the Twitch graph:"
   ]
  },
  {
   "cell_type": "code",
   "execution_count": 29,
   "id": "a07c3ece",
   "metadata": {},
   "outputs": [
    {
     "data": {
      "text/plain": [
       "0.1761863067833217"
      ]
     },
     "execution_count": 29,
     "metadata": {},
     "output_type": "execute_result"
    }
   ],
   "source": [
    "ws = nx.watts_strogatz_graph(n,10,0.4,seed=11)\n",
    "pd.Series(nx.clustering(ws)).mean()"
   ]
  },
  {
   "cell_type": "markdown",
   "id": "dd421938",
   "metadata": {},
   "source": [
    "The mean distance is also comparable:"
   ]
  },
  {
   "cell_type": "code",
   "execution_count": 30,
   "id": "78a221c5",
   "metadata": {},
   "outputs": [
    {
     "data": {
      "text/plain": [
       "2.66046"
      ]
     },
     "execution_count": 30,
     "metadata": {},
     "output_type": "execute_result"
    }
   ],
   "source": [
    "rng = default_rng(1)\n",
    "pd.Series([pairdist(ws,n) for _ in range(50000)]).mean()"
   ]
  },
  {
   "cell_type": "markdown",
   "id": "349fbdea",
   "metadata": {},
   "source": [
    "As we computed above, the Twitch network has an even smaller mean distance, making it a bit more efficient at connecting nodes by paths."
   ]
  }
 ],
 "metadata": {
  "jupytext": {
   "text_representation": {
    "extension": ".md",
    "format_name": "myst",
    "format_version": 0.13,
    "jupytext_version": "1.11.5"
   }
  },
  "kernelspec": {
   "display_name": "Python 3 (ipykernel)",
   "language": "python",
   "name": "python3"
  },
  "language_info": {
   "codemirror_mode": {
    "name": "ipython",
    "version": 3
   },
   "file_extension": ".py",
   "mimetype": "text/x-python",
   "name": "python",
   "nbconvert_exporter": "python",
   "pygments_lexer": "ipython3",
   "version": "3.8.8"
  },
  "source_map": [
   12,
   16,
   21,
   25,
   29,
   34,
   44,
   47,
   55,
   60,
   64,
   75,
   81,
   87,
   91,
   100,
   104,
   108,
   111,
   127,
   131,
   135,
   139,
   141,
   145,
   152,
   156,
   168,
   175,
   179,
   186,
   188,
   194,
   198,
   202,
   207,
   211,
   216,
   220,
   224,
   230,
   234,
   238,
   250,
   252,
   256,
   258,
   262,
   269,
   271,
   275,
   289,
   292,
   302,
   304,
   308,
   310,
   314,
   316,
   320,
   323,
   327,
   330,
   334,
   337
  ]
 },
 "nbformat": 4,
 "nbformat_minor": 5
}